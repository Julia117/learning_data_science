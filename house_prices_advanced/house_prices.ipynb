{
 "cells": [
  {
   "cell_type": "code",
   "execution_count": 1,
   "metadata": {},
   "outputs": [],
   "source": [
    "from sklearn import tree\n",
    "import pandas as pd\n",
    "import numpy as np\n",
    "%matplotlib inline\n",
    "import matplotlib.pyplot as plt\n",
    "import seaborn as sns\n",
    "from sklearn.model_selection import train_test_split\n"
   ]
  },
  {
   "cell_type": "code",
   "execution_count": 2,
   "metadata": {},
   "outputs": [
    {
     "ename": "NameError",
     "evalue": "name 'df' is not defined",
     "output_type": "error",
     "traceback": [
      "\u001b[0;31m---------------------------------------------------------------------------\u001b[0m",
      "\u001b[0;31mNameError\u001b[0m                                 Traceback (most recent call last)",
      "\u001b[0;32m<ipython-input-2-5752359e8464>\u001b[0m in \u001b[0;36m<module>\u001b[0;34m\u001b[0m\n\u001b[0;32m----> 1\u001b[0;31m \u001b[0mpd\u001b[0m\u001b[0;34m.\u001b[0m\u001b[0mset_option\u001b[0m\u001b[0;34m(\u001b[0m\u001b[0;34m'display.max_rows'\u001b[0m\u001b[0;34m,\u001b[0m \u001b[0mdf\u001b[0m\u001b[0;34m.\u001b[0m\u001b[0mshape\u001b[0m\u001b[0;34m[\u001b[0m\u001b[0;36m0\u001b[0m\u001b[0;34m]\u001b[0m\u001b[0;34m+\u001b[0m\u001b[0;36m1\u001b[0m\u001b[0;34m)\u001b[0m\u001b[0;34m\u001b[0m\u001b[0;34m\u001b[0m\u001b[0m\n\u001b[0m\u001b[1;32m      2\u001b[0m \u001b[0;31m# pd.set_option('display.max_rows', 10)\u001b[0m\u001b[0;34m\u001b[0m\u001b[0;34m\u001b[0m\u001b[0;34m\u001b[0m\u001b[0m\n",
      "\u001b[0;31mNameError\u001b[0m: name 'df' is not defined"
     ]
    }
   ],
   "source": [
    "pd.set_option('display.max_rows', df.shape[0]+1)\n",
    "# pd.set_option('display.max_rows', 10)"
   ]
  },
  {
   "cell_type": "code",
   "execution_count": 414,
   "metadata": {},
   "outputs": [],
   "source": [
    "train_data = pd.read_csv('house-prices-advanced-regression-techniques/train.csv', index_col=0)\n",
    "test_data = pd.read_csv('house-prices-advanced-regression-techniques/test.csv', index_col=0)"
   ]
  },
  {
   "cell_type": "code",
   "execution_count": 415,
   "metadata": {
    "scrolled": true
   },
   "outputs": [
    {
     "name": "stdout",
     "output_type": "stream",
     "text": [
      "(1460, 80)\n"
     ]
    },
    {
     "data": {
      "text/html": [
       "<div>\n",
       "<style scoped>\n",
       "    .dataframe tbody tr th:only-of-type {\n",
       "        vertical-align: middle;\n",
       "    }\n",
       "\n",
       "    .dataframe tbody tr th {\n",
       "        vertical-align: top;\n",
       "    }\n",
       "\n",
       "    .dataframe thead th {\n",
       "        text-align: right;\n",
       "    }\n",
       "</style>\n",
       "<table border=\"1\" class=\"dataframe\">\n",
       "  <thead>\n",
       "    <tr style=\"text-align: right;\">\n",
       "      <th></th>\n",
       "      <th>MSSubClass</th>\n",
       "      <th>MSZoning</th>\n",
       "      <th>LotFrontage</th>\n",
       "      <th>LotArea</th>\n",
       "      <th>Street</th>\n",
       "      <th>Alley</th>\n",
       "      <th>LotShape</th>\n",
       "      <th>LandContour</th>\n",
       "      <th>Utilities</th>\n",
       "      <th>LotConfig</th>\n",
       "      <th>...</th>\n",
       "      <th>PoolArea</th>\n",
       "      <th>PoolQC</th>\n",
       "      <th>Fence</th>\n",
       "      <th>MiscFeature</th>\n",
       "      <th>MiscVal</th>\n",
       "      <th>MoSold</th>\n",
       "      <th>YrSold</th>\n",
       "      <th>SaleType</th>\n",
       "      <th>SaleCondition</th>\n",
       "      <th>SalePrice</th>\n",
       "    </tr>\n",
       "    <tr>\n",
       "      <th>Id</th>\n",
       "      <th></th>\n",
       "      <th></th>\n",
       "      <th></th>\n",
       "      <th></th>\n",
       "      <th></th>\n",
       "      <th></th>\n",
       "      <th></th>\n",
       "      <th></th>\n",
       "      <th></th>\n",
       "      <th></th>\n",
       "      <th></th>\n",
       "      <th></th>\n",
       "      <th></th>\n",
       "      <th></th>\n",
       "      <th></th>\n",
       "      <th></th>\n",
       "      <th></th>\n",
       "      <th></th>\n",
       "      <th></th>\n",
       "      <th></th>\n",
       "      <th></th>\n",
       "    </tr>\n",
       "  </thead>\n",
       "  <tbody>\n",
       "    <tr>\n",
       "      <th>1</th>\n",
       "      <td>60</td>\n",
       "      <td>RL</td>\n",
       "      <td>65.0</td>\n",
       "      <td>8450</td>\n",
       "      <td>Pave</td>\n",
       "      <td>NaN</td>\n",
       "      <td>Reg</td>\n",
       "      <td>Lvl</td>\n",
       "      <td>AllPub</td>\n",
       "      <td>Inside</td>\n",
       "      <td>...</td>\n",
       "      <td>0</td>\n",
       "      <td>NaN</td>\n",
       "      <td>NaN</td>\n",
       "      <td>NaN</td>\n",
       "      <td>0</td>\n",
       "      <td>2</td>\n",
       "      <td>2008</td>\n",
       "      <td>WD</td>\n",
       "      <td>Normal</td>\n",
       "      <td>208500</td>\n",
       "    </tr>\n",
       "    <tr>\n",
       "      <th>2</th>\n",
       "      <td>20</td>\n",
       "      <td>RL</td>\n",
       "      <td>80.0</td>\n",
       "      <td>9600</td>\n",
       "      <td>Pave</td>\n",
       "      <td>NaN</td>\n",
       "      <td>Reg</td>\n",
       "      <td>Lvl</td>\n",
       "      <td>AllPub</td>\n",
       "      <td>FR2</td>\n",
       "      <td>...</td>\n",
       "      <td>0</td>\n",
       "      <td>NaN</td>\n",
       "      <td>NaN</td>\n",
       "      <td>NaN</td>\n",
       "      <td>0</td>\n",
       "      <td>5</td>\n",
       "      <td>2007</td>\n",
       "      <td>WD</td>\n",
       "      <td>Normal</td>\n",
       "      <td>181500</td>\n",
       "    </tr>\n",
       "    <tr>\n",
       "      <th>3</th>\n",
       "      <td>60</td>\n",
       "      <td>RL</td>\n",
       "      <td>68.0</td>\n",
       "      <td>11250</td>\n",
       "      <td>Pave</td>\n",
       "      <td>NaN</td>\n",
       "      <td>IR1</td>\n",
       "      <td>Lvl</td>\n",
       "      <td>AllPub</td>\n",
       "      <td>Inside</td>\n",
       "      <td>...</td>\n",
       "      <td>0</td>\n",
       "      <td>NaN</td>\n",
       "      <td>NaN</td>\n",
       "      <td>NaN</td>\n",
       "      <td>0</td>\n",
       "      <td>9</td>\n",
       "      <td>2008</td>\n",
       "      <td>WD</td>\n",
       "      <td>Normal</td>\n",
       "      <td>223500</td>\n",
       "    </tr>\n",
       "    <tr>\n",
       "      <th>4</th>\n",
       "      <td>70</td>\n",
       "      <td>RL</td>\n",
       "      <td>60.0</td>\n",
       "      <td>9550</td>\n",
       "      <td>Pave</td>\n",
       "      <td>NaN</td>\n",
       "      <td>IR1</td>\n",
       "      <td>Lvl</td>\n",
       "      <td>AllPub</td>\n",
       "      <td>Corner</td>\n",
       "      <td>...</td>\n",
       "      <td>0</td>\n",
       "      <td>NaN</td>\n",
       "      <td>NaN</td>\n",
       "      <td>NaN</td>\n",
       "      <td>0</td>\n",
       "      <td>2</td>\n",
       "      <td>2006</td>\n",
       "      <td>WD</td>\n",
       "      <td>Abnorml</td>\n",
       "      <td>140000</td>\n",
       "    </tr>\n",
       "    <tr>\n",
       "      <th>5</th>\n",
       "      <td>60</td>\n",
       "      <td>RL</td>\n",
       "      <td>84.0</td>\n",
       "      <td>14260</td>\n",
       "      <td>Pave</td>\n",
       "      <td>NaN</td>\n",
       "      <td>IR1</td>\n",
       "      <td>Lvl</td>\n",
       "      <td>AllPub</td>\n",
       "      <td>FR2</td>\n",
       "      <td>...</td>\n",
       "      <td>0</td>\n",
       "      <td>NaN</td>\n",
       "      <td>NaN</td>\n",
       "      <td>NaN</td>\n",
       "      <td>0</td>\n",
       "      <td>12</td>\n",
       "      <td>2008</td>\n",
       "      <td>WD</td>\n",
       "      <td>Normal</td>\n",
       "      <td>250000</td>\n",
       "    </tr>\n",
       "  </tbody>\n",
       "</table>\n",
       "<p>5 rows × 80 columns</p>\n",
       "</div>"
      ],
      "text/plain": [
       "    MSSubClass MSZoning  LotFrontage  LotArea Street Alley LotShape  \\\n",
       "Id                                                                    \n",
       "1           60       RL         65.0     8450   Pave   NaN      Reg   \n",
       "2           20       RL         80.0     9600   Pave   NaN      Reg   \n",
       "3           60       RL         68.0    11250   Pave   NaN      IR1   \n",
       "4           70       RL         60.0     9550   Pave   NaN      IR1   \n",
       "5           60       RL         84.0    14260   Pave   NaN      IR1   \n",
       "\n",
       "   LandContour Utilities LotConfig  ... PoolArea PoolQC Fence MiscFeature  \\\n",
       "Id                                  ...                                     \n",
       "1          Lvl    AllPub    Inside  ...        0    NaN   NaN         NaN   \n",
       "2          Lvl    AllPub       FR2  ...        0    NaN   NaN         NaN   \n",
       "3          Lvl    AllPub    Inside  ...        0    NaN   NaN         NaN   \n",
       "4          Lvl    AllPub    Corner  ...        0    NaN   NaN         NaN   \n",
       "5          Lvl    AllPub       FR2  ...        0    NaN   NaN         NaN   \n",
       "\n",
       "   MiscVal MoSold  YrSold  SaleType  SaleCondition  SalePrice  \n",
       "Id                                                             \n",
       "1        0      2    2008        WD         Normal     208500  \n",
       "2        0      5    2007        WD         Normal     181500  \n",
       "3        0      9    2008        WD         Normal     223500  \n",
       "4        0      2    2006        WD        Abnorml     140000  \n",
       "5        0     12    2008        WD         Normal     250000  \n",
       "\n",
       "[5 rows x 80 columns]"
      ]
     },
     "execution_count": 415,
     "metadata": {},
     "output_type": "execute_result"
    }
   ],
   "source": [
    "print(train_data.shape)\n",
    "train_data.head()"
   ]
  },
  {
   "cell_type": "code",
   "execution_count": 416,
   "metadata": {
    "scrolled": false
   },
   "outputs": [
    {
     "data": {
      "text/html": [
       "<div>\n",
       "<style scoped>\n",
       "    .dataframe tbody tr th:only-of-type {\n",
       "        vertical-align: middle;\n",
       "    }\n",
       "\n",
       "    .dataframe tbody tr th {\n",
       "        vertical-align: top;\n",
       "    }\n",
       "\n",
       "    .dataframe thead th {\n",
       "        text-align: right;\n",
       "    }\n",
       "</style>\n",
       "<table border=\"1\" class=\"dataframe\">\n",
       "  <thead>\n",
       "    <tr style=\"text-align: right;\">\n",
       "      <th></th>\n",
       "      <th>MSSubClass</th>\n",
       "      <th>MSZoning</th>\n",
       "      <th>LotFrontage</th>\n",
       "      <th>LotArea</th>\n",
       "      <th>Street</th>\n",
       "      <th>Alley</th>\n",
       "      <th>LotShape</th>\n",
       "      <th>LandContour</th>\n",
       "      <th>Utilities</th>\n",
       "      <th>LotConfig</th>\n",
       "      <th>...</th>\n",
       "      <th>ScreenPorch</th>\n",
       "      <th>PoolArea</th>\n",
       "      <th>PoolQC</th>\n",
       "      <th>Fence</th>\n",
       "      <th>MiscFeature</th>\n",
       "      <th>MiscVal</th>\n",
       "      <th>MoSold</th>\n",
       "      <th>YrSold</th>\n",
       "      <th>SaleType</th>\n",
       "      <th>SaleCondition</th>\n",
       "    </tr>\n",
       "    <tr>\n",
       "      <th>Id</th>\n",
       "      <th></th>\n",
       "      <th></th>\n",
       "      <th></th>\n",
       "      <th></th>\n",
       "      <th></th>\n",
       "      <th></th>\n",
       "      <th></th>\n",
       "      <th></th>\n",
       "      <th></th>\n",
       "      <th></th>\n",
       "      <th></th>\n",
       "      <th></th>\n",
       "      <th></th>\n",
       "      <th></th>\n",
       "      <th></th>\n",
       "      <th></th>\n",
       "      <th></th>\n",
       "      <th></th>\n",
       "      <th></th>\n",
       "      <th></th>\n",
       "      <th></th>\n",
       "    </tr>\n",
       "  </thead>\n",
       "  <tbody>\n",
       "    <tr>\n",
       "      <th>1461</th>\n",
       "      <td>20</td>\n",
       "      <td>RH</td>\n",
       "      <td>80.0</td>\n",
       "      <td>11622</td>\n",
       "      <td>Pave</td>\n",
       "      <td>NaN</td>\n",
       "      <td>Reg</td>\n",
       "      <td>Lvl</td>\n",
       "      <td>AllPub</td>\n",
       "      <td>Inside</td>\n",
       "      <td>...</td>\n",
       "      <td>120</td>\n",
       "      <td>0</td>\n",
       "      <td>NaN</td>\n",
       "      <td>MnPrv</td>\n",
       "      <td>NaN</td>\n",
       "      <td>0</td>\n",
       "      <td>6</td>\n",
       "      <td>2010</td>\n",
       "      <td>WD</td>\n",
       "      <td>Normal</td>\n",
       "    </tr>\n",
       "    <tr>\n",
       "      <th>1462</th>\n",
       "      <td>20</td>\n",
       "      <td>RL</td>\n",
       "      <td>81.0</td>\n",
       "      <td>14267</td>\n",
       "      <td>Pave</td>\n",
       "      <td>NaN</td>\n",
       "      <td>IR1</td>\n",
       "      <td>Lvl</td>\n",
       "      <td>AllPub</td>\n",
       "      <td>Corner</td>\n",
       "      <td>...</td>\n",
       "      <td>0</td>\n",
       "      <td>0</td>\n",
       "      <td>NaN</td>\n",
       "      <td>NaN</td>\n",
       "      <td>Gar2</td>\n",
       "      <td>12500</td>\n",
       "      <td>6</td>\n",
       "      <td>2010</td>\n",
       "      <td>WD</td>\n",
       "      <td>Normal</td>\n",
       "    </tr>\n",
       "    <tr>\n",
       "      <th>1463</th>\n",
       "      <td>60</td>\n",
       "      <td>RL</td>\n",
       "      <td>74.0</td>\n",
       "      <td>13830</td>\n",
       "      <td>Pave</td>\n",
       "      <td>NaN</td>\n",
       "      <td>IR1</td>\n",
       "      <td>Lvl</td>\n",
       "      <td>AllPub</td>\n",
       "      <td>Inside</td>\n",
       "      <td>...</td>\n",
       "      <td>0</td>\n",
       "      <td>0</td>\n",
       "      <td>NaN</td>\n",
       "      <td>MnPrv</td>\n",
       "      <td>NaN</td>\n",
       "      <td>0</td>\n",
       "      <td>3</td>\n",
       "      <td>2010</td>\n",
       "      <td>WD</td>\n",
       "      <td>Normal</td>\n",
       "    </tr>\n",
       "    <tr>\n",
       "      <th>1464</th>\n",
       "      <td>60</td>\n",
       "      <td>RL</td>\n",
       "      <td>78.0</td>\n",
       "      <td>9978</td>\n",
       "      <td>Pave</td>\n",
       "      <td>NaN</td>\n",
       "      <td>IR1</td>\n",
       "      <td>Lvl</td>\n",
       "      <td>AllPub</td>\n",
       "      <td>Inside</td>\n",
       "      <td>...</td>\n",
       "      <td>0</td>\n",
       "      <td>0</td>\n",
       "      <td>NaN</td>\n",
       "      <td>NaN</td>\n",
       "      <td>NaN</td>\n",
       "      <td>0</td>\n",
       "      <td>6</td>\n",
       "      <td>2010</td>\n",
       "      <td>WD</td>\n",
       "      <td>Normal</td>\n",
       "    </tr>\n",
       "    <tr>\n",
       "      <th>1465</th>\n",
       "      <td>120</td>\n",
       "      <td>RL</td>\n",
       "      <td>43.0</td>\n",
       "      <td>5005</td>\n",
       "      <td>Pave</td>\n",
       "      <td>NaN</td>\n",
       "      <td>IR1</td>\n",
       "      <td>HLS</td>\n",
       "      <td>AllPub</td>\n",
       "      <td>Inside</td>\n",
       "      <td>...</td>\n",
       "      <td>144</td>\n",
       "      <td>0</td>\n",
       "      <td>NaN</td>\n",
       "      <td>NaN</td>\n",
       "      <td>NaN</td>\n",
       "      <td>0</td>\n",
       "      <td>1</td>\n",
       "      <td>2010</td>\n",
       "      <td>WD</td>\n",
       "      <td>Normal</td>\n",
       "    </tr>\n",
       "  </tbody>\n",
       "</table>\n",
       "<p>5 rows × 79 columns</p>\n",
       "</div>"
      ],
      "text/plain": [
       "      MSSubClass MSZoning  LotFrontage  LotArea Street Alley LotShape  \\\n",
       "Id                                                                      \n",
       "1461          20       RH         80.0    11622   Pave   NaN      Reg   \n",
       "1462          20       RL         81.0    14267   Pave   NaN      IR1   \n",
       "1463          60       RL         74.0    13830   Pave   NaN      IR1   \n",
       "1464          60       RL         78.0     9978   Pave   NaN      IR1   \n",
       "1465         120       RL         43.0     5005   Pave   NaN      IR1   \n",
       "\n",
       "     LandContour Utilities LotConfig  ... ScreenPorch PoolArea PoolQC  Fence  \\\n",
       "Id                                    ...                                      \n",
       "1461         Lvl    AllPub    Inside  ...         120        0    NaN  MnPrv   \n",
       "1462         Lvl    AllPub    Corner  ...           0        0    NaN    NaN   \n",
       "1463         Lvl    AllPub    Inside  ...           0        0    NaN  MnPrv   \n",
       "1464         Lvl    AllPub    Inside  ...           0        0    NaN    NaN   \n",
       "1465         HLS    AllPub    Inside  ...         144        0    NaN    NaN   \n",
       "\n",
       "     MiscFeature MiscVal  MoSold  YrSold  SaleType  SaleCondition  \n",
       "Id                                                                 \n",
       "1461         NaN       0       6    2010        WD         Normal  \n",
       "1462        Gar2   12500       6    2010        WD         Normal  \n",
       "1463         NaN       0       3    2010        WD         Normal  \n",
       "1464         NaN       0       6    2010        WD         Normal  \n",
       "1465         NaN       0       1    2010        WD         Normal  \n",
       "\n",
       "[5 rows x 79 columns]"
      ]
     },
     "execution_count": 416,
     "metadata": {},
     "output_type": "execute_result"
    }
   ],
   "source": [
    "test_data.head()"
   ]
  },
  {
   "cell_type": "markdown",
   "metadata": {},
   "source": [
    "## Removing missing values"
   ]
  },
  {
   "cell_type": "code",
   "execution_count": 417,
   "metadata": {
    "scrolled": true
   },
   "outputs": [
    {
     "data": {
      "text/plain": [
       "count       770.000000\n",
       "mean     216397.692208\n",
       "std       86843.901262\n",
       "min       60000.000000\n",
       "25%      159000.000000\n",
       "50%      191000.000000\n",
       "75%      257375.000000\n",
       "max      755000.000000\n",
       "Name: SalePrice, dtype: float64"
      ]
     },
     "execution_count": 417,
     "metadata": {},
     "output_type": "execute_result"
    }
   ],
   "source": [
    "train_data[train_data.FireplaceQu.notnull()][\"SalePrice\"].describe()"
   ]
  },
  {
   "cell_type": "markdown",
   "metadata": {},
   "source": [
    "### First, let's remove variables with most of the values missing"
   ]
  },
  {
   "cell_type": "code",
   "execution_count": 455,
   "metadata": {},
   "outputs": [],
   "source": [
    "y = train_data.SalePrice\n",
    "X = train_data.drop(['SalePrice'], axis=1)"
   ]
  },
  {
   "cell_type": "code",
   "execution_count": 456,
   "metadata": {},
   "outputs": [],
   "source": [
    "df = pd.concat([X , test_data])\n",
    "# df = df.drop(['PoolQC', 'Fence', 'MiscFeature', 'Alley'], axis=1)"
   ]
  },
  {
   "cell_type": "code",
   "execution_count": 457,
   "metadata": {
    "scrolled": true
   },
   "outputs": [
    {
     "data": {
      "text/plain": [
       "(2919, 79)"
      ]
     },
     "execution_count": 457,
     "metadata": {},
     "output_type": "execute_result"
    }
   ],
   "source": [
    "df.shape"
   ]
  },
  {
   "cell_type": "markdown",
   "metadata": {},
   "source": [
    "## Then let's remove missing values"
   ]
  },
  {
   "cell_type": "code",
   "execution_count": 458,
   "metadata": {
    "scrolled": true
   },
   "outputs": [
    {
     "name": "stdout",
     "output_type": "stream",
     "text": [
      "PoolQC           2909\n",
      "MiscFeature      2814\n",
      "Alley            2721\n",
      "Fence            2348\n",
      "FireplaceQu      1420\n",
      "LotFrontage       486\n",
      "GarageYrBlt       159\n",
      "GarageFinish      159\n",
      "GarageQual        159\n",
      "GarageCond        159\n",
      "GarageType        157\n",
      "BsmtExposure       82\n",
      "BsmtCond           82\n",
      "BsmtQual           81\n",
      "BsmtFinType2       80\n",
      "BsmtFinType1       79\n",
      "MasVnrType         24\n",
      "MasVnrArea         23\n",
      "MSZoning            4\n",
      "Functional          2\n",
      "BsmtHalfBath        2\n",
      "BsmtFullBath        2\n",
      "Utilities           2\n",
      "SaleType            1\n",
      "BsmtFinSF1          1\n",
      "KitchenQual         1\n",
      "GarageCars          1\n",
      "BsmtUnfSF           1\n",
      "TotalBsmtSF         1\n",
      "Exterior2nd         1\n",
      "Exterior1st         1\n",
      "GarageArea          1\n",
      "Electrical          1\n",
      "BsmtFinSF2          1\n",
      "TotRmsAbvGrd        0\n",
      "Fireplaces          0\n",
      "MSSubClass          0\n",
      "BedroomAbvGr        0\n",
      "PavedDrive          0\n",
      "WoodDeckSF          0\n",
      "OpenPorchSF         0\n",
      "EnclosedPorch       0\n",
      "3SsnPorch           0\n",
      "ScreenPorch         0\n",
      "PoolArea            0\n",
      "MiscVal             0\n",
      "MoSold              0\n",
      "YrSold              0\n",
      "KitchenAbvGr        0\n",
      "HeatingQC           0\n",
      "HalfBath            0\n",
      "OverallCond         0\n",
      "LotArea             0\n",
      "Street              0\n",
      "LotShape            0\n",
      "LandContour         0\n",
      "LotConfig           0\n",
      "LandSlope           0\n",
      "Neighborhood        0\n",
      "Condition1          0\n",
      "Condition2          0\n",
      "BldgType            0\n",
      "HouseStyle          0\n",
      "OverallQual         0\n",
      "YearBuilt           0\n",
      "FullBath            0\n",
      "YearRemodAdd        0\n",
      "RoofStyle           0\n",
      "RoofMatl            0\n",
      "ExterQual           0\n",
      "ExterCond           0\n",
      "Foundation          0\n",
      "Heating             0\n",
      "CentralAir          0\n",
      "1stFlrSF            0\n",
      "2ndFlrSF            0\n",
      "LowQualFinSF        0\n",
      "GrLivArea           0\n",
      "SaleCondition       0\n",
      "dtype: int64\n"
     ]
    }
   ],
   "source": [
    "with pd.option_context('display.max_rows', None, 'display.max_columns', None):  # more options can be specified also\n",
    "    print(df.isnull().sum().sort_values(ascending=False))"
   ]
  },
  {
   "cell_type": "markdown",
   "metadata": {},
   "source": [
    "## Numerical values"
   ]
  },
  {
   "cell_type": "code",
   "execution_count": 459,
   "metadata": {},
   "outputs": [],
   "source": [
    "numerical = list( df.loc[:,df.dtypes != 'object'].columns.values )\n",
    "categorical = list( df.loc[:,df.dtypes == 'object'].columns.values )"
   ]
  },
  {
   "cell_type": "code",
   "execution_count": 460,
   "metadata": {
    "scrolled": false
   },
   "outputs": [
    {
     "data": {
      "text/plain": [
       "BsmtFinSF1        1\n",
       "BsmtFinSF2        1\n",
       "BsmtUnfSF         1\n",
       "TotalBsmtSF       1\n",
       "GarageCars        1\n",
       "GarageArea        1\n",
       "BsmtFullBath      2\n",
       "BsmtHalfBath      2\n",
       "MasVnrArea       23\n",
       "GarageYrBlt     159\n",
       "LotFrontage     486\n",
       "dtype: int64"
      ]
     },
     "execution_count": 460,
     "metadata": {},
     "output_type": "execute_result"
    }
   ],
   "source": [
    "missing_num = df[numerical].isnull().sum()\n",
    "missing_num = missing_num[missing_num > 0]\n",
    "missing_num.sort_values()"
   ]
  },
  {
   "cell_type": "code",
   "execution_count": 461,
   "metadata": {},
   "outputs": [],
   "source": [
    "x = [1000, 2000, 4000, 10000, 25000, 50000, 500000]\n",
    "\n",
    "df['LotFrontage'] = df.groupby(pd.cut(df['LotArea'], x))['LotFrontage'].apply(lambda x: x.fillna(x.median()))\n",
    "\n",
    "# df.groupby(pd.cut(df['LotArea'], x))['LotFrontage'].median()\n",
    "\n",
    "# numerical.remove(\"LotFrontage\")\n",
    "for feature in numerical:\n",
    "    df[feature] = df[feature].fillna(0)"
   ]
  },
  {
   "cell_type": "markdown",
   "metadata": {},
   "source": [
    "### Categorical values"
   ]
  },
  {
   "cell_type": "code",
   "execution_count": 462,
   "metadata": {},
   "outputs": [
    {
     "data": {
      "text/plain": [
       "Electrical         1\n",
       "KitchenQual        1\n",
       "Exterior2nd        1\n",
       "SaleType           1\n",
       "Exterior1st        1\n",
       "Utilities          2\n",
       "Functional         2\n",
       "MSZoning           4\n",
       "MasVnrType        24\n",
       "BsmtFinType1      79\n",
       "BsmtFinType2      80\n",
       "BsmtQual          81\n",
       "BsmtCond          82\n",
       "BsmtExposure      82\n",
       "GarageType       157\n",
       "GarageFinish     159\n",
       "GarageQual       159\n",
       "GarageCond       159\n",
       "FireplaceQu     1420\n",
       "Fence           2348\n",
       "Alley           2721\n",
       "MiscFeature     2814\n",
       "PoolQC          2909\n",
       "dtype: int64"
      ]
     },
     "execution_count": 462,
     "metadata": {},
     "output_type": "execute_result"
    }
   ],
   "source": [
    "missing_cat = df[categorical].isnull().sum()\n",
    "missing_cat = missing_cat[missing_cat > 0]\n",
    "missing_cat.sort_values()"
   ]
  },
  {
   "cell_type": "code",
   "execution_count": 463,
   "metadata": {},
   "outputs": [],
   "source": [
    "cat_exclude = ['MasVnrType', \"MSZoning\", \"Functional\", \"Utilities\", \"Exterior1st\", \"SaleType\", \"Exterior2nd\", \"KitchenQual\", \"Electrical\"]\n",
    "for feature in missing_cat.drop(cat_exclude).index:\n",
    "    df[feature] = df[feature].fillna(\"NA\")"
   ]
  },
  {
   "cell_type": "code",
   "execution_count": 464,
   "metadata": {},
   "outputs": [
    {
     "data": {
      "text/plain": [
       "array(['BrkFace', 'None', 'Stone', 'BrkCmn', nan], dtype=object)"
      ]
     },
     "execution_count": 464,
     "metadata": {},
     "output_type": "execute_result"
    }
   ],
   "source": [
    "df.MasVnrType.unique()"
   ]
  },
  {
   "cell_type": "code",
   "execution_count": 465,
   "metadata": {},
   "outputs": [],
   "source": [
    "df['MasVnrType'] = df.FireplaceQu.fillna(\"None\")\n",
    "cat_exclude.remove(\"MasVnrType\")"
   ]
  },
  {
   "cell_type": "code",
   "execution_count": 466,
   "metadata": {},
   "outputs": [],
   "source": [
    "df[cat_exclude] = df.groupby('Neighborhood')[cat_exclude].transform(lambda x: x.fillna(x.mode()[0]))   "
   ]
  },
  {
   "cell_type": "code",
   "execution_count": 467,
   "metadata": {},
   "outputs": [
    {
     "data": {
      "text/html": [
       "<div>\n",
       "<style scoped>\n",
       "    .dataframe tbody tr th:only-of-type {\n",
       "        vertical-align: middle;\n",
       "    }\n",
       "\n",
       "    .dataframe tbody tr th {\n",
       "        vertical-align: top;\n",
       "    }\n",
       "\n",
       "    .dataframe thead th {\n",
       "        text-align: right;\n",
       "    }\n",
       "</style>\n",
       "<table border=\"1\" class=\"dataframe\">\n",
       "  <thead>\n",
       "    <tr style=\"text-align: right;\">\n",
       "      <th></th>\n",
       "      <th>MSSubClass</th>\n",
       "      <th>MSZoning</th>\n",
       "      <th>LotFrontage</th>\n",
       "      <th>LotArea</th>\n",
       "      <th>Street</th>\n",
       "      <th>Alley</th>\n",
       "      <th>LotShape</th>\n",
       "      <th>LandContour</th>\n",
       "      <th>Utilities</th>\n",
       "      <th>LotConfig</th>\n",
       "      <th>...</th>\n",
       "      <th>ScreenPorch</th>\n",
       "      <th>PoolArea</th>\n",
       "      <th>PoolQC</th>\n",
       "      <th>Fence</th>\n",
       "      <th>MiscFeature</th>\n",
       "      <th>MiscVal</th>\n",
       "      <th>MoSold</th>\n",
       "      <th>YrSold</th>\n",
       "      <th>SaleType</th>\n",
       "      <th>SaleCondition</th>\n",
       "    </tr>\n",
       "    <tr>\n",
       "      <th>Id</th>\n",
       "      <th></th>\n",
       "      <th></th>\n",
       "      <th></th>\n",
       "      <th></th>\n",
       "      <th></th>\n",
       "      <th></th>\n",
       "      <th></th>\n",
       "      <th></th>\n",
       "      <th></th>\n",
       "      <th></th>\n",
       "      <th></th>\n",
       "      <th></th>\n",
       "      <th></th>\n",
       "      <th></th>\n",
       "      <th></th>\n",
       "      <th></th>\n",
       "      <th></th>\n",
       "      <th></th>\n",
       "      <th></th>\n",
       "      <th></th>\n",
       "      <th></th>\n",
       "    </tr>\n",
       "  </thead>\n",
       "  <tbody>\n",
       "  </tbody>\n",
       "</table>\n",
       "<p>0 rows × 79 columns</p>\n",
       "</div>"
      ],
      "text/plain": [
       "Empty DataFrame\n",
       "Columns: [MSSubClass, MSZoning, LotFrontage, LotArea, Street, Alley, LotShape, LandContour, Utilities, LotConfig, LandSlope, Neighborhood, Condition1, Condition2, BldgType, HouseStyle, OverallQual, OverallCond, YearBuilt, YearRemodAdd, RoofStyle, RoofMatl, Exterior1st, Exterior2nd, MasVnrType, MasVnrArea, ExterQual, ExterCond, Foundation, BsmtQual, BsmtCond, BsmtExposure, BsmtFinType1, BsmtFinSF1, BsmtFinType2, BsmtFinSF2, BsmtUnfSF, TotalBsmtSF, Heating, HeatingQC, CentralAir, Electrical, 1stFlrSF, 2ndFlrSF, LowQualFinSF, GrLivArea, BsmtFullBath, BsmtHalfBath, FullBath, HalfBath, BedroomAbvGr, KitchenAbvGr, KitchenQual, TotRmsAbvGrd, Functional, Fireplaces, FireplaceQu, GarageType, GarageYrBlt, GarageFinish, GarageCars, GarageArea, GarageQual, GarageCond, PavedDrive, WoodDeckSF, OpenPorchSF, EnclosedPorch, 3SsnPorch, ScreenPorch, PoolArea, PoolQC, Fence, MiscFeature, MiscVal, MoSold, YrSold, SaleType, SaleCondition]\n",
       "Index: []\n",
       "\n",
       "[0 rows x 79 columns]"
      ]
     },
     "execution_count": 467,
     "metadata": {},
     "output_type": "execute_result"
    }
   ],
   "source": [
    "df[df.isnull().any(axis=1)]"
   ]
  },
  {
   "cell_type": "markdown",
   "metadata": {},
   "source": [
    "## Change categories to numbers"
   ]
  },
  {
   "cell_type": "code",
   "execution_count": 468,
   "metadata": {},
   "outputs": [
    {
     "data": {
      "text/plain": [
       "array(['Typ', 'Min1', 'Maj1', 'Min2', 'Mod', 'Maj2', 'Sev'], dtype=object)"
      ]
     },
     "execution_count": 468,
     "metadata": {},
     "output_type": "execute_result"
    }
   ],
   "source": [
    "df.Functional.unique()"
   ]
  },
  {
   "cell_type": "code",
   "execution_count": 469,
   "metadata": {},
   "outputs": [],
   "source": [
    "rate_0 = ['NA', 'None']\n",
    "rate_1 = ['C (all)', 'Grvl', 'Reg', 'Low', 'ELO', 'Inside','Sev', 'Po', 'No', 'Unf', 'Sev', 'MnWw']\n",
    "rate_2 = ['FV', 'Pave', 'IR1', 'HLS', 'NoSeWa','Corner','Mod', 'Fa', 'Mn','LwQ', 'Maj2', 'RFn', 'GdWo']\n",
    "rate_3 = ['RH', 'IR2', 'Bnk', 'NoSewr','CulDSac','Gtl', 'TA', 'Av', 'Rec', 'Maj1', 'Fin', 'MnPrv']\n",
    "rate_4 = ['RM', 'IR3', 'Lvl', 'AllPub','FR2', 'Gd', 'BLQ', 'Mod', 'GdPrv']\n",
    "rate_5 = ['RL','FR3','Ex','ALQ', 'Min2']\n",
    "rate_6 = ['GLQ', 'Min1']\n",
    "rate_7 = ['Typ']\n",
    "\n",
    "rate = [rate_0, rate_1, rate_2, rate_3, rate_4, rate_5, rate_6, rate_7]\n",
    "\n",
    "# Given a categorical value [cat], return [i] such that [cat \\in rate_i]\n",
    "def cat_to_int(cat): \n",
    "    return next(filter(lambda rate_i : cat in rate_i[1], enumerate(rate)))[0] \n",
    "\n",
    "# List of all categorical values\n",
    "flat_rate = sum(rate, [])\n",
    "\n",
    "# Generate the dictionary\n",
    "replace_dictionary = dict( map(lambda cat: (cat, cat_to_int(cat)), flat_rate ) )"
   ]
  },
  {
   "cell_type": "code",
   "execution_count": 470,
   "metadata": {},
   "outputs": [],
   "source": [
    "df[categorical] = df[categorical].replace(replace_dictionary)"
   ]
  },
  {
   "cell_type": "code",
   "execution_count": 471,
   "metadata": {},
   "outputs": [
    {
     "data": {
      "text/plain": [
       "['Neighborhood',\n",
       " 'Condition1',\n",
       " 'Condition2',\n",
       " 'BldgType',\n",
       " 'HouseStyle',\n",
       " 'RoofStyle',\n",
       " 'RoofMatl',\n",
       " 'Exterior1st',\n",
       " 'Exterior2nd',\n",
       " 'Foundation',\n",
       " 'Heating',\n",
       " 'CentralAir',\n",
       " 'Electrical',\n",
       " 'GarageType',\n",
       " 'PavedDrive',\n",
       " 'MiscFeature',\n",
       " 'SaleType',\n",
       " 'SaleCondition']"
      ]
     },
     "execution_count": 471,
     "metadata": {},
     "output_type": "execute_result"
    }
   ],
   "source": [
    "list( df.loc[:,df.dtypes == 'object'].columns.values )"
   ]
  },
  {
   "cell_type": "code",
   "execution_count": 472,
   "metadata": {},
   "outputs": [
    {
     "data": {
      "text/plain": [
       "Id\n",
       "1        856.0\n",
       "2       1262.0\n",
       "3        920.0\n",
       "4        756.0\n",
       "5       1145.0\n",
       "         ...  \n",
       "2915     546.0\n",
       "2916     546.0\n",
       "2917    1224.0\n",
       "2918     912.0\n",
       "2919     996.0\n",
       "Name: TotalBsmtSF, Length: 2919, dtype: float64"
      ]
     },
     "execution_count": 472,
     "metadata": {},
     "output_type": "execute_result"
    }
   ],
   "source": [
    "df.TotalBsmtSF"
   ]
  },
  {
   "cell_type": "markdown",
   "metadata": {},
   "source": [
    "## Let's add new features"
   ]
  },
  {
   "cell_type": "code",
   "execution_count": 473,
   "metadata": {},
   "outputs": [],
   "source": [
    "# df['HasPool'] = df['PoolArea'].apply(lambda x: 1 if x > 0 else 0)\n",
    "df['TotalSF'] = (df['TotalBsmtSF'] + df['1stFlrSF'] + df['2ndFlrSF']).astype(int)\n",
    "df['YearsSinceRemodel'] = df['YrSold'].astype(int) - df['YearRemodAdd'].astype(int)\n",
    "df[\"Remodeled\"] = (df[\"YearRemodAdd\"] != df[\"YearBuilt\"]).astype(int)\n",
    "df[\"RecentRemodel\"] = (df[\"YearRemodAdd\"] == df[\"YrSold\"]).astype(int)\n",
    "\n",
    "# df['HasFireplace'] = df['Fireplaces'].apply(lambda x: 1 if x > 0 else 0)\n",
    "# df['Total_Bathrooms'] = ((df['FullBath'] + (0.5 * df['HalfBath']) + df['BsmtFullBath'] + (0.5 * df['BsmtHalfBath']))).astype(int)"
   ]
  },
  {
   "cell_type": "code",
   "execution_count": 42,
   "metadata": {},
   "outputs": [],
   "source": [
    "# df['HasPool'] = df['PoolArea'].apply(lambda x: 1 if x > 0 else 0)\n",
    "# df['Total_Bathrooms'] = ((df['FullBath'] + (0.5 * df['HalfBath']) + df['BsmtFullBath'] + (0.5 * df['BsmtHalfBath']))).astype(int)"
   ]
  },
  {
   "cell_type": "code",
   "execution_count": 475,
   "metadata": {
    "scrolled": true
   },
   "outputs": [
    {
     "data": {
      "text/plain": [
       "TotalSF    0.78226\n",
       "dtype: float64"
      ]
     },
     "execution_count": 475,
     "metadata": {},
     "output_type": "execute_result"
    }
   ],
   "source": [
    "df[['TotalSF']].corrwith(y)"
   ]
  },
  {
   "cell_type": "markdown",
   "metadata": {},
   "source": [
    "## Deal with outliers"
   ]
  },
  {
   "cell_type": "code",
   "execution_count": 70,
   "metadata": {},
   "outputs": [],
   "source": [
    "df[\"SalePrice\"] = y\n",
    "numeric_columns = df.select_dtypes(['int64','float64']).columns\n",
    "numeric = df[numeric_columns]"
   ]
  },
  {
   "cell_type": "code",
   "execution_count": 88,
   "metadata": {
    "scrolled": true
   },
   "outputs": [
    {
     "name": "stdout",
     "output_type": "stream",
     "text": [
      "[('BsmtUnfSF', [1, 2, 3, 4, 5, 6, 7, 8, 9, 10, 11, 12, 13, 14, 15, 16, 17, 19, 20, 21, 22, 23, 24, 25, 26, 27, 28, 29, 30, 31, 32, 33, 34, 35, 36, 37, 38, 39, 41, 42, 44, 45, 46, 47, 48, 49, 50, 51, 52, 54, 56, 57, 58, 59, 60, 61, 62, 63, 64, 65, 66, 67, 68, 69, 70, 71, 72, 73, 74, 75, 77, 78, 79, 80, 81, 82, 83, 84, 85, 86, 87, 88, 89, 90, 92, 93, 94, 95, 96, 97, 98, 99, 100, 101, 102, 104, 105, 106, 107, 108, 109, 110, 111, 112, 113, 114, 115, 116, 117, 118, 119, 120, 122, 123, 124, 125, 126, 127, 128, 129, 130, 131, 132, 133, 134, 135, 136, 137, 138, 139, 140, 141, 142, 143, 144, 145, 146, 147, 148, 149, 150, 151, 152, 153, 154, 155, 156, 158, 159, 160, 161, 162, 163, 164, 165, 166, 167, 168, 169, 170, 171, 172, 173, 174, 176, 177, 178, 179, 180, 181, 182, 184, 185, 186, 187, 188, 190, 191, 192, 193, 194, 195, 196, 197, 198, 199, 200, 201, 202, 204, 205, 206, 207, 208, 209, 210, 211, 212, 213, 214, 215, 216, 217, 218, 219, 220, 221, 222, 223, 224, 225, 226, 227, 228, 229, 230, 231, 232, 233, 235, 236, 237, 238, 239, 240, 241, 242, 243, 244, 245, 246, 247, 248, 249, 250, 251, 253, 254, 255, 256, 257, 258, 259, 262, 265, 266, 267, 268, 269, 270, 271, 272, 273, 275, 276, 277, 278, 279, 280, 281, 282, 283, 284, 285, 286, 287, 288, 289, 290, 291, 292, 293, 295, 296, 297, 298, 299, 300, 301, 302, 303, 305, 306, 308, 309, 310, 311, 312, 313, 314, 315, 316, 317, 318, 319, 320, 321, 322, 324, 325, 326, 327, 328, 329, 330, 331, 332, 333, 334, 335, 336, 337, 338, 339, 340, 341, 342, 344, 345, 346, 347, 348, 349, 350, 351, 352, 354, 355, 356, 357, 358, 359, 360, 361, 362, 364, 365, 366, 367, 368, 369, 370, 371, 375, 376, 377, 378, 379, 380, 381, 382, 383, 384, 385, 386, 387, 388, 389, 390, 391, 392, 394, 395, 396, 397, 398, 399, 400, 401, 402, 403, 404, 405, 406, 407, 408, 409, 410, 411, 413, 414, 415, 416, 417, 418, 419, 420, 421, 422, 423, 424, 425, 426, 428, 429, 430, 431, 432, 433, 434, 435, 436, 437, 438, 439, 440, 441, 442, 443, 444, 445, 446, 447, 448, 449, 450, 451, 452, 453, 454, 455, 456, 457, 458, 459, 460, 461, 464, 465, 466, 467, 468, 469, 470, 472, 473, 474, 475, 476, 477, 478, 479, 480, 481, 482, 483, 484, 485, 486, 487, 488, 489, 490, 491, 492, 493, 494, 495, 496, 497, 498, 499, 500, 501, 502, 503, 504, 505, 506, 507, 508, 509, 510, 511, 512, 513, 514, 515, 516, 517, 518, 519, 520, 522, 523, 524, 525, 526, 527, 528, 529, 530, 531, 532, 535, 536, 537, 538, 539, 540, 541, 542, 543, 545, 547, 548, 550, 551, 552, 553, 555, 556, 557, 559, 560, 561, 562, 563, 564, 565, 566, 567, 568, 569, 571, 572, 573, 574, 575, 576, 577, 578, 579, 580, 581, 582, 584, 585, 586, 588, 589, 590, 591, 592, 594, 595, 596, 597, 598, 600, 601, 602, 603, 604, 605, 606, 607, 608, 609, 610, 611, 612, 613, 614, 616, 617, 618, 619, 620, 621, 622, 623, 624, 625, 626, 627, 628, 629, 630, 631, 632, 633, 634, 636, 637, 638, 639, 640, 641, 642, 643, 645, 646, 648, 649, 651, 652, 653, 654, 655, 656, 657, 658, 659, 660, 661, 662, 663, 664, 665, 666, 667, 668, 669, 670, 671, 672, 673, 674, 675, 676, 677, 678, 679, 680, 681, 682, 683, 684, 685, 686, 687, 688, 689, 690, 691, 692, 693, 694, 695, 696, 698, 699, 700, 701, 702, 703, 704, 705, 707, 708, 709, 710, 711, 712, 713, 714, 715, 716, 717, 718, 719, 720, 721, 722, 723, 724, 725, 726, 727, 728, 729, 730, 731, 732, 733, 734, 735, 736, 738, 740, 741, 742, 743, 744, 745, 746, 747, 748, 749, 751, 752, 753, 754, 755, 756, 757, 758, 759, 760, 761, 762, 763, 764, 766, 767, 768, 769, 770, 771, 773, 774, 775, 776, 777, 778, 781, 782, 783, 785, 786, 788, 789, 790, 791, 792, 793, 794, 795, 796, 797, 798, 799, 800, 801, 802, 803, 804, 805, 806, 807, 808, 809, 810, 812, 813, 814, 815, 816, 817, 818, 819, 820, 821, 822, 823, 824, 825, 826, 828, 830, 831, 832, 833, 834, 835, 836, 837, 838, 839, 840, 841, 842, 843, 844, 845, 847, 848, 849, 850, 851, 852, 853, 854, 855, 856, 858, 859, 860, 861, 862, 863, 865, 866, 867, 868, 870, 871, 872, 873, 874, 875, 876, 877, 878, 879, 880, 881, 882, 883, 884, 885, 886, 887, 888, 889, 890, 891, 892, 893, 894, 896, 897, 899, 900, 901, 902, 903, 904, 905, 906, 907, 908, 909, 910, 911, 912, 913, 914, 915, 916, 917, 918, 919, 920, 921, 922, 923, 924, 926, 927, 928, 929, 930, 931, 932, 933, 934, 935, 936, 937, 938, 939, 940, 941, 942, 944, 945, 947, 948, 949, 950, 951, 952, 953, 954, 956, 957, 958, 959, 960, 961, 962, 963, 964, 965, 966, 967, 968, 969, 970, 971, 972, 973, 974, 975, 976, 977, 978, 979, 980, 981, 982, 983, 984, 986, 987, 988, 989, 990, 991, 992, 993, 994, 995, 996, 997, 998, 999, 1000, 1002, 1003, 1004, 1005, 1006, 1007, 1009, 1010, 1011, 1013, 1014, 1015, 1016, 1017, 1018, 1019, 1020, 1021, 1022, 1023, 1024, 1026, 1027, 1028, 1029, 1030, 1031, 1032, 1033, 1034, 1035, 1037, 1038, 1039, 1040, 1041, 1042, 1043, 1044, 1045, 1047, 1048, 1051, 1052, 1053, 1054, 1055, 1056, 1057, 1058, 1059, 1061, 1062, 1063, 1064, 1065, 1066, 1067, 1069, 1070, 1071, 1072, 1073, 1074, 1075, 1076, 1077, 1078, 1079, 1080, 1081, 1082, 1083, 1084, 1085, 1086, 1087, 1088, 1089, 1090, 1092, 1093, 1094, 1095, 1096, 1097, 1098, 1100, 1102, 1103, 1105, 1106, 1107, 1108, 1109, 1110, 1111, 1112, 1113, 1114, 1115, 1116, 1117, 1118, 1119, 1120, 1121, 1122, 1123, 1124, 1125, 1126, 1127, 1128, 1129, 1131, 1132, 1133, 1134, 1135, 1136, 1137, 1138, 1140, 1141, 1142, 1143, 1144, 1145, 1146, 1147, 1148, 1149, 1150, 1151, 1152, 1153, 1154, 1155, 1156, 1157, 1158, 1159, 1160, 1161, 1162, 1163, 1165, 1166, 1167, 1168, 1169, 1170, 1171, 1172, 1173, 1174, 1175, 1176, 1177, 1178, 1179, 1182, 1183, 1184, 1185, 1186, 1187, 1188, 1189, 1190, 1191, 1192, 1193, 1194, 1195, 1196, 1197, 1198, 1199, 1200, 1201, 1202, 1203, 1204, 1205, 1206, 1208, 1209, 1210, 1211, 1212, 1213, 1215, 1216, 1218, 1220, 1222, 1223, 1224, 1225, 1226, 1227, 1228, 1229, 1230, 1231, 1232, 1234, 1235, 1236, 1237, 1238, 1239, 1240, 1241, 1242, 1244, 1245, 1246, 1247, 1248, 1249, 1250, 1251, 1252, 1253, 1254, 1255, 1256, 1257, 1258, 1259, 1260, 1261, 1262, 1263, 1264, 1265, 1266, 1267, 1268, 1269, 1270, 1271, 1272, 1274, 1275, 1276, 1277, 1278, 1279, 1280, 1281, 1282, 1283, 1284, 1285, 1286, 1287, 1288, 1289, 1290, 1291, 1292, 1293, 1294, 1295, 1296, 1297, 1299, 1301, 1302, 1303, 1304, 1305, 1306, 1307, 1308, 1309, 1310, 1311, 1312, 1313, 1314, 1315, 1316, 1317, 1318, 1319, 1320, 1321, 1323, 1324, 1325, 1326, 1328, 1329, 1330, 1331, 1332, 1333, 1334, 1336, 1337, 1338, 1339, 1340, 1341, 1342, 1343, 1344, 1345, 1346, 1347, 1348, 1349, 1350, 1351, 1352, 1353, 1354, 1355, 1356, 1357, 1358, 1359, 1360, 1361, 1362, 1363, 1364, 1365, 1366, 1367, 1368, 1369, 1370, 1371, 1372, 1373, 1374, 1375, 1376, 1377, 1378, 1379, 1380, 1381, 1382, 1383, 1384, 1385, 1386, 1387, 1389, 1390, 1391, 1392, 1393, 1394, 1395, 1396, 1397, 1398, 1399, 1400, 1401, 1402, 1403, 1404, 1405, 1406, 1407, 1408, 1409, 1410, 1411, 1412, 1414, 1415, 1416, 1417, 1418, 1419, 1420, 1421, 1422, 1423, 1424, 1425, 1426, 1427, 1428, 1429, 1430, 1431, 1433, 1434, 1435, 1436, 1437, 1438, 1439, 1440, 1441, 1442, 1443, 1444, 1445, 1447, 1448, 1449, 1450, 1451, 1452, 1454, 1455, 1456, 1457, 1458, 1460, 1461, 1462, 1463, 1464, 1465, 1466, 1467, 1468, 1469, 1471, 1472, 1473, 1474, 1475, 1476, 1477, 1478, 1479, 1480, 1481, 1482, 1483, 1484, 1485, 1486, 1487, 1488, 1489, 1490, 1491, 1492, 1493, 1495, 1496, 1497, 1498, 1499, 1500, 1501, 1502, 1503, 1504, 1505, 1506, 1507, 1508, 1509, 1510, 1511, 1512, 1513, 1514, 1515, 1516, 1517, 1518, 1519, 1520, 1521, 1522, 1523, 1524, 1525, 1526, 1527, 1528, 1529, 1530, 1531, 1532, 1534, 1535, 1536, 1537, 1538, 1539, 1540, 1541, 1542, 1543, 1544, 1545, 1546, 1547, 1548, 1549, 1550, 1551, 1552, 1553, 1554, 1555, 1556, 1557, 1558, 1559, 1560, 1561, 1562, 1563, 1566, 1567, 1568, 1570, 1571, 1572, 1573, 1574, 1576, 1577, 1578, 1580, 1581, 1582, 1583, 1584, 1585, 1587, 1588, 1589, 1590, 1591, 1592, 1593, 1595, 1596, 1597, 1598, 1599, 1600, 1602, 1603, 1604, 1605, 1606, 1607, 1608, 1609, 1610, 1611, 1612, 1613, 1614, 1615, 1616, 1617, 1618, 1619, 1620, 1621, 1622, 1623, 1624, 1625, 1626, 1627, 1628, 1629, 1630, 1631, 1632, 1633, 1634, 1635, 1636, 1637, 1638, 1639, 1640, 1641, 1642, 1643, 1644, 1645, 1646, 1647, 1648, 1649, 1650, 1651, 1652, 1653, 1654, 1656, 1657, 1658, 1659, 1660, 1661, 1662, 1663, 1664, 1665, 1666, 1667, 1668, 1669, 1670, 1671, 1672, 1673, 1674, 1675, 1676, 1677, 1678, 1679, 1680, 1681, 1682, 1683, 1684, 1685, 1686, 1687, 1688, 1689, 1690, 1691, 1692, 1693, 1694, 1695, 1696, 1697, 1698, 1699, 1700, 1701, 1702, 1703, 1704, 1705, 1706, 1707, 1708, 1709, 1710, 1711, 1712, 1713, 1714, 1715, 1716, 1717, 1718, 1719, 1720, 1721, 1722, 1723, 1724, 1725, 1726, 1727, 1728, 1729, 1731, 1732, 1734, 1735, 1736, 1737, 1738, 1739, 1740, 1741, 1742, 1743, 1744, 1745, 1746, 1747, 1748, 1749, 1750, 1751, 1752, 1753, 1754, 1755, 1756, 1757, 1758, 1759, 1760, 1761, 1762, 1763, 1764, 1765, 1766, 1767, 1768, 1769, 1770, 1771, 1772, 1773, 1774, 1775, 1776, 1777, 1778, 1781, 1782, 1783, 1784, 1785, 1786, 1787, 1788, 1789, 1790, 1791, 1792, 1793, 1794, 1795, 1796, 1797, 1798, 1801, 1802, 1803, 1805, 1806, 1807, 1808, 1809, 1810, 1811, 1812, 1813, 1814, 1816, 1817, 1818, 1819, 1820, 1821, 1822, 1823, 1824, 1825, 1826, 1827, 1828, 1829, 1830, 1831, 1832, 1833, 1834, 1835, 1836, 1837, 1838, 1839, 1842, 1843, 1845, 1846, 1847, 1850, 1851, 1852, 1853, 1854, 1856, 1862, 1863, 1864, 1865, 1866, 1867, 1868, 1869, 1870, 1871, 1872, 1873, 1874, 1875, 1876, 1877, 1878, 1879, 1880, 1881, 1882, 1883, 1884, 1885, 1886, 1887, 1888, 1889, 1890, 1892, 1894, 1895, 1896, 1898, 1899, 1900, 1901, 1902, 1903, 1904, 1905, 1906, 1907, 1908, 1909, 1910, 1911, 1912, 1913, 1914, 1915, 1917, 1918, 1920, 1921, 1922, 1923, 1924, 1925, 1926, 1927, 1928, 1932, 1934, 1935, 1936, 1937, 1938, 1939, 1940, 1941, 1942, 1943, 1944, 1945, 1946, 1947, 1948, 1949, 1950, 1951, 1952, 1953, 1954, 1955, 1956, 1957, 1958, 1959, 1960, 1961, 1962, 1964, 1965, 1966, 1967, 1968, 1969, 1970, 1971, 1972, 1973, 1974, 1975, 1976, 1977, 1978, 1979, 1980, 1981, 1982, 1983, 1984, 1985, 1986, 1987, 1988, 1989, 1990, 1991, 1992, 1993, 1994, 1995, 1996, 1997, 1998, 1999, 2000, 2002, 2003, 2004, 2005, 2006, 2007, 2008, 2009, 2010, 2011, 2012, 2013, 2014, 2015, 2016, 2017, 2018, 2019, 2021, 2022, 2024, 2025, 2026, 2027, 2028, 2029, 2030, 2031, 2032, 2033, 2034, 2035, 2036, 2037, 2040, 2042, 2043, 2044, 2045, 2046, 2048, 2049, 2050, 2052, 2053, 2054, 2055, 2056, 2057, 2058, 2059, 2060, 2061, 2062, 2063, 2064, 2065, 2066, 2068, 2070, 2071, 2072, 2073, 2074, 2075, 2076, 2077, 2078, 2079, 2080, 2081, 2082, 2083, 2084, 2085, 2086, 2087, 2088, 2089, 2090, 2091, 2092, 2093, 2094, 2095, 2096, 2097, 2098, 2099, 2100, 2101, 2102, 2103, 2104, 2105, 2106, 2107, 2108, 2109, 2110, 2111, 2112, 2113, 2114, 2115, 2116, 2117, 2118, 2119, 2120, 2122, 2124, 2125, 2126, 2127, 2128, 2129, 2130, 2131, 2132, 2133, 2134, 2135, 2136, 2137, 2138, 2139, 2140, 2142, 2145, 2146, 2148, 2149, 2150, 2151, 2152, 2153, 2155, 2156, 2157, 2158, 2159, 2160, 2161, 2162, 2163, 2164, 2165, 2166, 2167, 2168, 2169, 2170, 2171, 2172, 2173, 2174, 2175, 2176, 2177, 2178, 2179, 2180, 2181, 2182, 2183, 2184, 2186, 2187, 2188, 2193, 2195, 2196, 2197, 2198, 2200, 2201, 2202, 2203, 2204, 2205, 2206, 2207, 2208, 2209, 2210, 2211, 2212, 2213, 2214, 2215, 2216, 2218, 2219, 2220, 2221, 2222, 2223, 2224, 2226, 2227, 2228, 2229, 2230, 2231, 2232, 2233, 2234, 2235, 2236, 2237, 2238, 2239, 2240, 2241, 2242, 2243, 2244, 2245, 2246, 2247, 2248, 2249, 2250, 2251, 2252, 2253, 2254, 2255, 2256, 2257, 2258, 2259, 2260, 2261, 2262, 2263, 2264, 2265, 2266, 2267, 2268, 2269, 2270, 2271, 2272, 2273, 2274, 2275, 2278, 2279, 2280, 2281, 2282, 2283, 2284, 2285, 2286, 2287, 2288, 2289, 2290, 2291, 2292, 2293, 2294, 2295, 2296, 2297, 2298, 2299, 2300, 2301, 2302, 2303, 2304, 2305, 2306, 2307, 2308, 2309, 2310, 2311, 2312, 2313, 2314, 2315, 2316, 2317, 2318, 2319, 2320, 2321, 2322, 2323, 2324, 2325, 2326, 2327, 2328, 2329, 2330, 2331, 2332, 2333, 2334, 2335, 2336, 2337, 2338, 2339, 2340, 2341, 2342, 2343, 2344, 2345, 2346, 2347, 2348, 2349, 2350, 2351, 2352, 2353, 2354, 2355, 2356, 2357, 2358, 2359, 2360, 2361, 2362, 2363, 2364, 2365, 2366, 2367, 2368, 2369, 2370, 2371, 2372, 2373, 2374, 2376, 2378, 2379, 2381, 2382, 2383, 2384, 2385, 2386, 2387, 2389, 2390, 2391, 2392, 2393, 2394, 2395, 2396, 2397, 2398, 2399, 2400, 2401, 2402, 2403, 2404, 2405, 2406, 2407, 2408, 2409, 2410, 2411, 2412, 2413, 2414, 2415, 2416, 2418, 2419, 2420, 2421, 2422, 2423, 2424, 2425, 2426, 2427, 2429, 2431, 2432, 2433, 2434, 2435, 2437, 2438, 2439, 2440, 2441, 2442, 2443, 2444, 2446, 2447, 2448, 2449, 2450, 2451, 2452, 2455, 2457, 2458, 2459, 2460, 2461, 2462, 2463, 2464, 2465, 2466, 2467, 2468, 2469, 2470, 2471, 2472, 2474, 2475, 2476, 2478, 2479, 2480, 2481, 2482, 2483, 2484, 2485, 2486, 2487, 2488, 2489, 2490, 2493, 2494, 2495, 2496, 2497, 2498, 2501, 2503, 2504, 2505, 2506, 2507, 2508, 2509, 2510, 2511, 2512, 2515, 2516, 2517, 2518, 2519, 2520, 2521, 2522, 2523, 2524, 2525, 2526, 2527, 2528, 2529, 2531, 2532, 2533, 2534, 2535, 2536, 2537, 2538, 2539, 2540, 2541, 2542, 2544, 2545, 2546, 2547, 2549, 2550, 2551, 2552, 2554, 2555, 2556, 2557, 2558, 2559, 2560, 2561, 2562, 2563, 2564, 2566, 2567, 2569, 2570, 2571, 2572, 2573, 2574, 2575, 2576, 2577, 2578, 2580, 2581, 2582, 2585, 2586, 2587, 2588, 2589, 2590, 2591, 2592, 2593, 2594, 2595, 2596, 2597, 2598, 2599, 2602, 2603, 2604, 2605, 2607, 2608, 2609, 2611, 2613, 2614, 2615, 2616, 2617, 2618, 2619, 2620, 2621, 2622, 2623, 2624, 2625, 2626, 2627, 2628, 2629, 2630, 2631, 2632, 2633, 2634, 2635, 2636, 2637, 2638, 2639, 2640, 2641, 2642, 2643, 2644, 2645, 2646, 2647, 2648, 2649, 2650, 2651, 2652, 2653, 2654, 2655, 2656, 2657, 2658, 2659, 2660, 2661, 2662, 2663, 2664, 2665, 2666, 2667, 2668, 2669, 2670, 2671, 2672, 2673, 2674, 2675, 2676, 2677, 2678, 2679, 2680, 2681, 2682, 2683, 2684, 2686, 2687, 2688, 2689, 2690, 2691, 2692, 2693, 2694, 2695, 2696, 2697, 2698, 2699, 2700, 2701, 2702, 2704, 2705, 2706, 2707, 2708, 2709, 2710, 2711, 2712, 2713, 2714, 2715, 2716, 2717, 2718, 2719, 2720, 2721, 2722, 2723, 2724, 2725, 2726, 2727, 2729, 2730, 2731, 2732, 2733, 2734, 2735, 2736, 2737, 2738, 2739, 2740, 2741, 2742, 2743, 2744, 2745, 2746, 2747, 2748, 2749, 2751, 2752, 2753, 2754, 2755, 2756, 2757, 2758, 2759, 2760, 2761, 2762, 2763, 2765, 2766, 2768, 2769, 2770, 2771, 2772, 2773, 2774, 2775, 2776, 2777, 2778, 2779, 2780, 2781, 2782, 2783, 2784, 2785, 2786, 2787, 2788, 2789, 2790, 2791, 2792, 2793, 2794, 2795, 2796, 2797, 2798, 2799, 2800, 2801, 2802, 2803, 2806, 2807, 2808, 2809, 2810, 2812, 2813, 2814, 2815, 2816, 2817, 2818, 2819, 2820, 2821, 2822, 2823, 2826, 2827, 2828, 2830, 2831, 2832, 2833, 2834, 2835, 2836, 2837, 2838, 2839, 2840, 2841, 2842, 2843, 2845, 2846, 2847, 2848, 2849, 2850, 2851, 2852, 2853, 2854, 2855, 2856, 2857, 2858, 2859, 2861, 2862, 2863, 2864, 2866, 2867, 2868, 2869, 2870, 2871, 2872, 2873, 2874, 2876, 2877, 2878, 2879, 2880, 2881, 2882, 2883, 2884, 2885, 2886, 2887, 2888, 2889, 2890, 2891, 2893, 2894, 2896, 2897, 2898, 2899, 2900, 2901, 2902, 2903, 2904, 2906, 2907, 2908, 2909, 2910, 2911, 2912, 2913, 2914, 2915, 2916, 2918, 2919]), ('TotalBsmtSF', [1, 2, 3, 4, 5, 6, 7, 8, 9, 10, 11, 12, 13, 14, 15, 16, 17, 19, 20, 21, 22, 23, 24, 25, 26, 27, 28, 29, 30, 31, 32, 33, 34, 35, 36, 37, 38, 39, 41, 42, 43, 44, 45, 46, 47, 48, 49, 50, 51, 52, 53, 54, 55, 56, 57, 58, 59, 60, 61, 62, 63, 64, 65, 66, 67, 68, 69, 70, 71, 72, 73, 74, 75, 76, 77, 78, 79, 80, 81, 82, 83, 84, 85, 86, 87, 88, 89, 90, 92, 93, 94, 95, 96, 97, 98, 99, 100, 101, 102, 104, 105, 106, 107, 108, 109, 110, 111, 112, 113, 114, 115, 116, 117, 118, 119, 120, 121, 122, 123, 124, 125, 126, 127, 128, 129, 130, 131, 132, 133, 134, 135, 136, 137, 138, 139, 140, 141, 142, 143, 144, 145, 146, 147, 148, 149, 150, 151, 152, 153, 154, 155, 156, 158, 159, 160, 161, 162, 163, 164, 165, 166, 167, 168, 169, 170, 171, 172, 173, 174, 175, 176, 177, 178, 179, 180, 181, 182, 184, 185, 186, 187, 188, 189, 190, 191, 192, 193, 194, 195, 196, 197, 198, 199, 200, 201, 202, 203, 204, 205, 206, 207, 208, 209, 210, 211, 212, 213, 214, 215, 216, 217, 218, 219, 220, 221, 222, 223, 224, 225, 226, 227, 228, 229, 230, 231, 232, 233, 234, 235, 236, 237, 238, 239, 240, 241, 242, 243, 244, 245, 246, 247, 248, 249, 250, 251, 252, 253, 254, 255, 256, 257, 258, 259, 261, 262, 263, 264, 265, 266, 267, 268, 269, 270, 271, 272, 273, 274, 275, 276, 277, 278, 279, 280, 281, 282, 283, 284, 285, 286, 287, 288, 289, 290, 291, 292, 293, 294, 295, 296, 297, 298, 299, 300, 301, 302, 303, 304, 305, 306, 307, 308, 309, 310, 311, 312, 313, 314, 315, 316, 317, 318, 319, 320, 321, 322, 323, 324, 325, 326, 327, 328, 329, 330, 331, 332, 333, 334, 335, 336, 337, 338, 339, 340, 341, 342, 344, 345, 346, 347, 348, 349, 350, 351, 352, 353, 354, 355, 356, 357, 358, 359, 360, 361, 362, 364, 365, 366, 367, 368, 369, 370, 371, 373, 374, 375, 376, 377, 378, 379, 380, 381, 382, 383, 384, 385, 386, 387, 388, 389, 390, 391, 392, 394, 395, 396, 397, 398, 399, 400, 401, 402, 403, 404, 405, 406, 407, 408, 409, 410, 411, 412, 413, 414, 415, 416, 417, 418, 419, 420, 421, 422, 423, 424, 425, 426, 427, 428, 429, 430, 431, 432, 433, 434, 435, 436, 437, 438, 439, 440, 441, 442, 443, 444, 445, 446, 447, 448, 449, 450, 451, 452, 453, 454, 455, 456, 457, 458, 459, 460, 461, 462, 463, 464, 465, 466, 467, 468, 469, 470, 471, 472, 473, 474, 475, 476, 477, 478, 479, 480, 481, 482, 483, 484, 485, 486, 487, 488, 489, 490, 491, 492, 493, 494, 495, 496, 497, 498, 499, 500, 501, 502, 503, 504, 505, 506, 507, 508, 509, 510, 511, 512, 513, 514, 515, 516, 517, 518, 519, 520, 522, 523, 524, 525, 526, 527, 528, 529, 530, 531, 532, 535, 536, 537, 538, 539, 540, 541, 542, 543, 544, 545, 546, 547, 548, 549, 550, 551, 552, 553, 555, 556, 557, 558, 559, 560, 561, 562, 563, 564, 565, 566, 567, 568, 569, 570, 571, 572, 573, 574, 575, 576, 577, 578, 579, 580, 581, 582, 583, 584, 585, 586, 587, 588, 589, 590, 591, 592, 593, 594, 595, 596, 597, 598, 599, 600, 601, 602, 603, 604, 605, 606, 607, 608, 609, 610, 611, 612, 613, 614, 615, 616, 617, 618, 619, 620, 621, 622, 623, 624, 625, 626, 627, 628, 629, 630, 631, 632, 633, 634, 635, 636, 637, 638, 639, 640, 641, 642, 643, 644, 645, 646, 648, 649, 650, 651, 652, 653, 654, 655, 656, 657, 658, 659, 660, 661, 662, 663, 664, 665, 666, 667, 668, 669, 670, 671, 672, 673, 674, 675, 676, 677, 678, 679, 680, 681, 682, 683, 684, 685, 686, 687, 688, 689, 690, 691, 692, 693, 694, 695, 696, 697, 698, 699, 700, 701, 702, 703, 704, 705, 707, 708, 709, 710, 711, 712, 713, 714, 715, 716, 717, 718, 719, 720, 721, 722, 723, 724, 725, 726, 727, 728, 729, 730, 731, 732, 733, 734, 735, 736, 738, 739, 740, 741, 742, 743, 744, 745, 746, 747, 748, 749, 751, 752, 753, 754, 755, 756, 757, 758, 759, 760, 761, 762, 763, 764, 765, 766, 767, 768, 769, 770, 771, 772, 773, 774, 775, 776, 777, 778, 780, 781, 782, 783, 784, 785, 786, 787, 788, 789, 790, 791, 792, 793, 794, 795, 796, 797, 798, 799, 800, 801, 802, 803, 804, 805, 806, 807, 808, 809, 810, 811, 812, 813, 814, 815, 816, 817, 818, 819, 820, 821, 822, 823, 824, 825, 826, 827, 828, 829, 830, 831, 832, 833, 834, 835, 836, 837, 838, 839, 840, 841, 842, 843, 844, 845, 846, 847, 848, 849, 850, 851, 852, 853, 854, 855, 856, 857, 858, 859, 860, 861, 862, 863, 864, 865, 866, 867, 868, 870, 871, 872, 873, 874, 875, 876, 877, 878, 879, 880, 881, 882, 883, 884, 885, 886, 887, 888, 889, 890, 891, 892, 893, 894, 896, 897, 899, 900, 901, 902, 903, 904, 905, 906, 907, 908, 909, 910, 911, 912, 913, 914, 915, 916, 917, 918, 919, 920, 921, 922, 923, 924, 925, 926, 927, 928, 929, 930, 931, 932, 933, 934, 935, 936, 937, 938, 939, 940, 941, 942, 943, 944, 945, 946, 947, 948, 949, 950, 951, 952, 953, 954, 955, 956, 957, 958, 959, 960, 961, 962, 963, 964, 965, 966, 967, 968, 969, 970, 971, 972, 973, 974, 975, 976, 977, 978, 979, 980, 981, 982, 983, 984, 986, 987, 988, 989, 990, 991, 992, 993, 994, 995, 996, 997, 998, 999, 1000, 1002, 1003, 1004, 1005, 1006, 1007, 1008, 1009, 1010, 1011, 1013, 1014, 1015, 1016, 1017, 1018, 1019, 1020, 1021, 1022, 1023, 1024, 1025, 1026, 1027, 1028, 1029, 1030, 1031, 1032, 1033, 1034, 1035, 1037, 1038, 1039, 1040, 1041, 1042, 1043, 1044, 1045, 1047, 1048, 1051, 1052, 1053, 1054, 1055, 1056, 1057, 1058, 1059, 1060, 1061, 1062, 1063, 1064, 1065, 1066, 1067, 1068, 1069, 1070, 1071, 1072, 1073, 1074, 1075, 1076, 1077, 1078, 1079, 1080, 1081, 1082, 1083, 1084, 1085, 1086, 1087, 1088, 1089, 1090, 1092, 1093, 1094, 1095, 1096, 1097, 1098, 1099, 1100, 1101, 1102, 1103, 1104, 1105, 1106, 1107, 1108, 1109, 1110, 1111, 1112, 1113, 1114, 1115, 1116, 1117, 1118, 1119, 1120, 1121, 1122, 1123, 1124, 1125, 1126, 1127, 1128, 1129, 1130, 1131, 1132, 1133, 1134, 1135, 1136, 1137, 1138, 1139, 1140, 1141, 1142, 1143, 1144, 1145, 1146, 1147, 1148, 1149, 1150, 1151, 1152, 1153, 1154, 1155, 1156, 1157, 1158, 1159, 1160, 1161, 1162, 1163, 1164, 1165, 1166, 1167, 1168, 1169, 1170, 1171, 1172, 1173, 1174, 1175, 1176, 1177, 1178, 1179, 1181, 1182, 1183, 1184, 1185, 1186, 1187, 1188, 1189, 1190, 1191, 1192, 1193, 1194, 1195, 1196, 1197, 1198, 1199, 1200, 1201, 1202, 1203, 1204, 1205, 1206, 1207, 1208, 1209, 1210, 1211, 1212, 1213, 1214, 1215, 1216, 1218, 1220, 1221, 1222, 1223, 1224, 1225, 1226, 1227, 1228, 1229, 1230, 1231, 1232, 1234, 1235, 1236, 1237, 1238, 1239, 1240, 1241, 1242, 1243, 1244, 1245, 1246, 1247, 1248, 1249, 1250, 1251, 1252, 1253, 1254, 1255, 1256, 1257, 1258, 1259, 1260, 1261, 1262, 1263, 1264, 1265, 1266, 1267, 1268, 1269, 1270, 1271, 1272, 1273, 1274, 1275, 1276, 1277, 1278, 1279, 1280, 1281, 1282, 1283, 1284, 1285, 1286, 1287, 1288, 1289, 1290, 1291, 1292, 1293, 1294, 1295, 1296, 1297, 1298, 1299, 1300, 1301, 1302, 1303, 1304, 1305, 1306, 1307, 1308, 1309, 1310, 1311, 1312, 1313, 1314, 1315, 1316, 1317, 1318, 1319, 1320, 1321, 1323, 1324, 1325, 1326, 1327, 1328, 1329, 1330, 1331, 1332, 1333, 1334, 1335, 1336, 1337, 1338, 1339, 1340, 1341, 1342, 1343, 1344, 1345, 1346, 1347, 1348, 1349, 1350, 1351, 1352, 1353, 1354, 1355, 1356, 1357, 1358, 1359, 1360, 1361, 1362, 1363, 1364, 1365, 1366, 1367, 1368, 1369, 1370, 1371, 1372, 1373, 1374, 1375, 1376, 1377, 1378, 1379, 1380, 1381, 1382, 1383, 1384, 1385, 1386, 1387, 1388, 1389, 1390, 1391, 1392, 1393, 1394, 1395, 1396, 1397, 1398, 1399, 1400, 1401, 1402, 1403, 1404, 1405, 1406, 1407, 1408, 1409, 1410, 1411, 1412, 1414, 1415, 1416, 1417, 1418, 1419, 1420, 1421, 1422, 1423, 1424, 1425, 1426, 1427, 1428, 1429, 1430, 1431, 1432, 1433, 1434, 1435, 1436, 1437, 1438, 1439, 1440, 1441, 1442, 1443, 1444, 1445, 1446, 1447, 1448, 1449, 1450, 1451, 1452, 1453, 1454, 1455, 1456, 1457, 1458, 1459, 1460, 1461, 1462, 1463, 1464, 1465, 1466, 1467, 1468, 1469, 1470, 1471, 1472, 1473, 1474, 1475, 1476, 1477, 1478, 1479, 1480, 1481, 1482, 1483, 1484, 1485, 1486, 1487, 1488, 1489, 1490, 1491, 1492, 1493, 1494, 1495, 1496, 1497, 1498, 1499, 1500, 1501, 1502, 1503, 1504, 1505, 1506, 1507, 1508, 1509, 1510, 1511, 1512, 1513, 1514, 1515, 1516, 1517, 1518, 1519, 1520, 1521, 1522, 1523, 1524, 1525, 1526, 1527, 1528, 1529, 1530, 1531, 1532, 1533, 1534, 1535, 1536, 1537, 1538, 1539, 1540, 1541, 1542, 1543, 1544, 1545, 1546, 1547, 1548, 1549, 1550, 1551, 1552, 1553, 1554, 1555, 1556, 1557, 1558, 1559, 1560, 1561, 1562, 1563, 1564, 1565, 1566, 1567, 1568, 1569, 1570, 1571, 1572, 1573, 1574, 1575, 1576, 1577, 1578, 1579, 1580, 1581, 1582, 1583, 1584, 1585, 1587, 1588, 1589, 1590, 1591, 1592, 1593, 1595, 1596, 1597, 1598, 1599, 1600, 1601, 1602, 1603, 1604, 1605, 1606, 1607, 1608, 1609, 1610, 1611, 1612, 1613, 1614, 1615, 1616, 1617, 1618, 1619, 1620, 1621, 1622, 1623, 1624, 1625, 1626, 1627, 1628, 1629, 1630, 1631, 1632, 1633, 1634, 1635, 1636, 1637, 1638, 1639, 1640, 1641, 1642, 1643, 1644, 1645, 1646, 1647, 1648, 1649, 1650, 1651, 1652, 1653, 1654, 1655, 1656, 1657, 1658, 1659, 1660, 1661, 1662, 1663, 1664, 1665, 1666, 1667, 1668, 1669, 1670, 1671, 1672, 1673, 1674, 1675, 1676, 1677, 1678, 1679, 1680, 1681, 1682, 1683, 1684, 1685, 1686, 1687, 1688, 1689, 1690, 1691, 1692, 1693, 1694, 1695, 1696, 1697, 1698, 1699, 1700, 1701, 1702, 1703, 1704, 1705, 1706, 1707, 1708, 1709, 1710, 1711, 1712, 1713, 1714, 1715, 1716, 1717, 1718, 1719, 1720, 1721, 1722, 1723, 1724, 1725, 1726, 1727, 1728, 1729, 1731, 1732, 1733, 1734, 1735, 1736, 1737, 1738, 1739, 1740, 1741, 1742, 1743, 1744, 1745, 1746, 1747, 1748, 1749, 1750, 1751, 1752, 1753, 1754, 1755, 1756, 1757, 1758, 1759, 1760, 1761, 1762, 1763, 1764, 1765, 1766, 1767, 1768, 1769, 1770, 1771, 1772, 1773, 1774, 1775, 1776, 1777, 1778, 1780, 1781, 1782, 1783, 1784, 1785, 1786, 1787, 1788, 1789, 1790, 1791, 1792, 1793, 1794, 1795, 1796, 1797, 1798, 1799, 1800, 1801, 1802, 1803, 1804, 1805, 1806, 1807, 1808, 1809, 1810, 1811, 1812, 1813, 1814, 1816, 1817, 1818, 1819, 1820, 1821, 1822, 1823, 1824, 1825, 1826, 1827, 1828, 1829, 1830, 1831, 1832, 1833, 1834, 1835, 1836, 1837, 1838, 1839, 1840, 1841, 1842, 1843, 1844, 1845, 1846, 1847, 1850, 1851, 1852, 1853, 1854, 1855, 1856, 1860, 1862, 1863, 1864, 1865, 1866, 1867, 1868, 1869, 1870, 1871, 1872, 1873, 1874, 1875, 1876, 1877, 1878, 1879, 1880, 1881, 1882, 1883, 1884, 1885, 1886, 1887, 1888, 1889, 1890, 1891, 1892, 1893, 1894, 1895, 1896, 1897, 1898, 1899, 1900, 1901, 1902, 1903, 1904, 1905, 1906, 1907, 1908, 1909, 1910, 1911, 1912, 1913, 1914, 1915, 1917, 1918, 1919, 1920, 1921, 1922, 1923, 1924, 1925, 1926, 1927, 1928, 1929, 1930, 1931, 1932, 1933, 1934, 1935, 1936, 1937, 1938, 1939, 1940, 1941, 1942, 1943, 1944, 1945, 1946, 1947, 1948, 1949, 1950, 1951, 1952, 1953, 1954, 1955, 1956, 1957, 1958, 1959, 1960, 1961, 1962, 1963, 1964, 1965, 1966, 1967, 1968, 1969, 1970, 1971, 1972, 1973, 1974, 1975, 1976, 1977, 1978, 1979, 1980, 1981, 1982, 1983, 1984, 1985, 1986, 1987, 1988, 1989, 1990, 1991, 1992, 1993, 1994, 1995, 1996, 1997, 1998, 1999, 2000, 2001, 2002, 2003, 2004, 2005, 2006, 2007, 2008, 2009, 2010, 2011, 2012, 2013, 2014, 2015, 2016, 2017, 2018, 2019, 2020, 2021, 2022, 2023, 2024, 2025, 2026, 2027, 2028, 2029, 2030, 2031, 2032, 2033, 2034, 2035, 2036, 2037, 2038, 2039, 2040, 2041, 2042, 2043, 2044, 2045, 2046, 2047, 2048, 2049, 2050, 2052, 2053, 2054, 2055, 2056, 2057, 2058, 2059, 2060, 2061, 2062, 2063, 2064, 2065, 2066, 2068, 2070, 2071, 2072, 2073, 2074, 2075, 2076, 2077, 2078, 2079, 2080, 2081, 2082, 2083, 2084, 2085, 2086, 2087, 2088, 2089, 2090, 2091, 2092, 2093, 2094, 2095, 2096, 2097, 2098, 2099, 2100, 2101, 2102, 2103, 2104, 2105, 2106, 2107, 2108, 2109, 2110, 2111, 2112, 2113, 2114, 2115, 2116, 2117, 2118, 2119, 2120, 2122, 2124, 2125, 2126, 2127, 2128, 2129, 2130, 2131, 2132, 2133, 2134, 2135, 2136, 2137, 2138, 2139, 2140, 2141, 2142, 2143, 2144, 2145, 2146, 2147, 2148, 2149, 2150, 2151, 2152, 2153, 2154, 2155, 2156, 2157, 2158, 2159, 2160, 2161, 2162, 2163, 2164, 2165, 2166, 2167, 2168, 2169, 2170, 2171, 2172, 2173, 2174, 2175, 2176, 2177, 2178, 2179, 2180, 2181, 2182, 2183, 2184, 2185, 2186, 2187, 2188, 2192, 2193, 2195, 2196, 2197, 2198, 2199, 2200, 2201, 2202, 2203, 2204, 2205, 2206, 2207, 2208, 2209, 2210, 2211, 2212, 2213, 2214, 2215, 2216, 2218, 2219, 2220, 2221, 2222, 2223, 2224, 2226, 2227, 2228, 2229, 2230, 2231, 2232, 2233, 2234, 2235, 2236, 2237, 2238, 2239, 2240, 2241, 2242, 2243, 2244, 2245, 2246, 2247, 2248, 2249, 2250, 2251, 2252, 2253, 2254, 2255, 2256, 2257, 2258, 2259, 2260, 2261, 2262, 2263, 2264, 2265, 2266, 2267, 2268, 2269, 2270, 2271, 2272, 2273, 2274, 2275, 2276, 2277, 2278, 2279, 2280, 2281, 2282, 2283, 2284, 2285, 2286, 2287, 2288, 2289, 2290, 2291, 2292, 2293, 2294, 2295, 2296, 2297, 2298, 2299, 2300, 2301, 2302, 2303, 2304, 2305, 2306, 2307, 2308, 2309, 2310, 2311, 2312, 2313, 2314, 2315, 2316, 2317, 2318, 2319, 2320, 2321, 2322, 2323, 2324, 2325, 2326, 2327, 2328, 2329, 2330, 2331, 2332, 2333, 2334, 2335, 2336, 2337, 2338, 2339, 2340, 2341, 2342, 2343, 2344, 2345, 2346, 2347, 2348, 2349, 2350, 2351, 2352, 2353, 2354, 2355, 2356, 2357, 2358, 2359, 2360, 2361, 2362, 2363, 2364, 2365, 2366, 2367, 2368, 2369, 2370, 2371, 2372, 2373, 2374, 2375, 2376, 2377, 2378, 2379, 2380, 2381, 2382, 2383, 2384, 2385, 2386, 2387, 2389, 2390, 2391, 2392, 2393, 2394, 2395, 2396, 2397, 2398, 2399, 2400, 2401, 2402, 2403, 2404, 2405, 2406, 2407, 2408, 2409, 2410, 2411, 2412, 2413, 2414, 2415, 2416, 2417, 2418, 2419, 2420, 2421, 2422, 2423, 2424, 2425, 2426, 2427, 2428, 2429, 2430, 2431, 2432, 2433, 2434, 2435, 2437, 2438, 2439, 2440, 2441, 2442, 2443, 2444, 2445, 2446, 2447, 2448, 2449, 2450, 2451, 2452, 2455, 2456, 2457, 2458, 2459, 2460, 2461, 2462, 2463, 2464, 2465, 2466, 2467, 2468, 2469, 2470, 2471, 2472, 2473, 2474, 2475, 2476, 2477, 2478, 2479, 2480, 2481, 2482, 2483, 2484, 2485, 2486, 2487, 2488, 2489, 2490, 2492, 2493, 2494, 2495, 2496, 2497, 2498, 2500, 2501, 2502, 2503, 2504, 2505, 2506, 2507, 2508, 2509, 2510, 2511, 2512, 2513, 2514, 2515, 2516, 2517, 2518, 2519, 2520, 2521, 2522, 2523, 2524, 2525, 2526, 2527, 2528, 2529, 2530, 2531, 2532, 2533, 2534, 2535, 2536, 2537, 2538, 2539, 2540, 2541, 2542, 2543, 2544, 2545, 2546, 2547, 2549, 2550, 2551, 2552, 2554, 2555, 2556, 2557, 2558, 2559, 2560, 2561, 2562, 2563, 2564, 2566, 2567, 2568, 2569, 2570, 2571, 2572, 2573, 2574, 2575, 2576, 2577, 2578, 2580, 2581, 2582, 2583, 2584, 2585, 2586, 2587, 2588, 2589, 2590, 2591, 2592, 2593, 2594, 2595, 2596, 2597, 2598, 2599, 2601, 2602, 2603, 2604, 2605, 2606, 2607, 2608, 2609, 2610, 2611, 2612, 2613, 2614, 2615, 2616, 2617, 2618, 2619, 2620, 2621, 2622, 2623, 2624, 2625, 2626, 2627, 2628, 2629, 2630, 2631, 2632, 2633, 2634, 2635, 2636, 2637, 2638, 2639, 2640, 2641, 2642, 2643, 2644, 2645, 2646, 2647, 2648, 2649, 2650, 2651, 2652, 2653, 2654, 2655, 2656, 2657, 2658, 2659, 2660, 2661, 2662, 2663, 2664, 2665, 2666, 2667, 2668, 2669, 2670, 2671, 2672, 2673, 2674, 2675, 2676, 2677, 2678, 2679, 2680, 2681, 2682, 2683, 2684, 2685, 2686, 2687, 2688, 2689, 2690, 2691, 2692, 2693, 2694, 2695, 2696, 2697, 2698, 2699, 2700, 2701, 2702, 2704, 2705, 2706, 2707, 2708, 2709, 2710, 2711, 2712, 2713, 2714, 2715, 2716, 2717, 2718, 2719, 2720, 2721, 2722, 2723, 2724, 2725, 2726, 2727, 2728, 2729, 2730, 2731, 2732, 2733, 2734, 2735, 2736, 2737, 2738, 2739, 2740, 2741, 2742, 2743, 2744, 2745, 2746, 2747, 2748, 2749, 2750, 2751, 2752, 2753, 2754, 2755, 2756, 2757, 2758, 2759, 2760, 2761, 2762, 2763, 2765, 2766, 2768, 2769, 2770, 2771, 2772, 2773, 2774, 2775, 2776, 2777, 2778, 2779, 2780, 2781, 2782, 2783, 2784, 2785, 2786, 2787, 2788, 2789, 2790, 2791, 2792, 2793, 2794, 2795, 2796, 2797, 2798, 2799, 2800, 2801, 2802, 2803, 2806, 2807, 2808, 2809, 2810, 2811, 2812, 2813, 2814, 2815, 2816, 2817, 2818, 2819, 2820, 2821, 2822, 2823, 2824, 2826, 2827, 2828, 2829, 2830, 2831, 2832, 2833, 2834, 2835, 2836, 2837, 2838, 2839, 2840, 2841, 2842, 2843, 2844, 2845, 2846, 2847, 2848, 2849, 2850, 2851, 2852, 2853, 2854, 2855, 2856, 2857, 2858, 2859, 2860, 2861, 2862, 2863, 2864, 2865, 2866, 2867, 2868, 2869, 2870, 2871, 2872, 2873, 2874, 2875, 2876, 2877, 2878, 2879, 2880, 2881, 2882, 2883, 2884, 2885, 2886, 2887, 2888, 2889, 2890, 2891, 2893, 2894, 2895, 2896, 2897, 2898, 2899, 2900, 2901, 2902, 2903, 2904, 2906, 2907, 2908, 2909, 2910, 2911, 2912, 2913, 2914, 2915, 2916, 2917, 2918, 2919]), ('2ndFlrSF', [1, 3, 4, 5, 6, 8, 9, 12, 21, 31, 36, 47, 49, 51, 57, 58, 59, 62, 64, 65, 66, 70, 73, 75, 76, 78, 80, 81, 85, 86, 87, 88, 94, 95, 96, 102, 105, 106, 109, 111, 112, 113, 115, 116, 119, 120, 122, 129, 131, 132, 139, 140, 143, 146, 148, 150, 153, 156, 158, 159, 160, 162, 165, 166, 168, 169, 173, 177, 178, 181, 182, 184, 185, 186, 188, 191, 192, 194, 196, 198, 199, 203, 205, 209, 213, 215, 218, 219, 222, 223, 226, 227, 228, 232, 233, 235, 236, 238, 240, 243, 244, 245, 247, 249, 250, 253, 256, 257, 259, 262, 267, 268, 271, 273, 276, 280, 281, 286, 287, 290, 291, 292, 293, 294, 297, 298, 299, 302, 305, 307, 308, 311, 313, 315, 316, 317, 318, 319, 321, 322, 323, 325, 329, 330, 335, 336, 341, 345, 346, 349, 350, 353, 355, 360, 362, 363, 364, 365, 366, 371, 372, 375, 378, 380, 381, 383, 385, 387, 390, 391, 392, 395, 398, 400, 404, 405, 408, 409, 410, 415, 417, 418, 419, 424, 426, 431, 432, 433, 434, 436, 437, 440, 443, 445, 448, 449, 450, 453, 454, 457, 459, 460, 461, 462, 464, 468, 470, 472, 478, 483, 489, 491, 492, 493, 498, 501, 502, 505, 506, 507, 509, 517, 518, 519, 520, 521, 523, 524, 525, 528, 532, 535, 536, 537, 542, 545, 546, 547, 550, 555, 558, 559, 564, 565, 566, 567, 569, 573, 574, 575, 576, 577, 579, 580, 584, 585, 591, 592, 597, 600, 601, 602, 603, 604, 606, 608, 609, 611, 613, 617, 620, 622, 624, 625, 629, 631, 636, 638, 642, 643, 644, 649, 651, 652, 653, 654, 656, 658, 659, 661, 662, 666, 667, 671, 672, 676, 677, 682, 685, 686, 687, 688, 692, 693, 695, 703, 704, 706, 709, 712, 715, 717, 719, 724, 733, 736, 738, 740, 741, 746, 747, 748, 750, 751, 752, 754, 756, 757, 758, 759, 760, 763, 764, 767, 768, 770, 782, 785, 787, 788, 790, 793, 795, 796, 799, 800, 801, 803, 804, 808, 810, 815, 821, 823, 824, 829, 830, 832, 833, 838, 840, 841, 842, 845, 847, 849, 850, 853, 858, 860, 861, 869, 870, 872, 875, 876, 878, 882, 883, 884, 888, 891, 892, 896, 898, 903, 908, 910, 911, 914, 915, 916, 919, 921, 922, 927, 928, 930, 938, 939, 940, 942, 946, 949, 954, 956, 957, 960, 962, 963, 965, 966, 967, 969, 971, 972, 975, 976, 982, 984, 985, 987, 989, 990, 991, 992, 993, 994, 996, 1008, 1011, 1013, 1016, 1019, 1023, 1029, 1030, 1031, 1032, 1033, 1038, 1039, 1042, 1044, 1047, 1053, 1055, 1058, 1059, 1060, 1063, 1066, 1067, 1068, 1069, 1072, 1073, 1074, 1076, 1077, 1085, 1087, 1088, 1089, 1092, 1093, 1097, 1099, 1105, 1106, 1108, 1109, 1111, 1112, 1117, 1119, 1125, 1129, 1131, 1133, 1134, 1135, 1137, 1138, 1142, 1143, 1145, 1146, 1148, 1149, 1150, 1155, 1160, 1161, 1168, 1169, 1170, 1173, 1174, 1175, 1176, 1178, 1179, 1181, 1183, 1186, 1187, 1189, 1190, 1192, 1193, 1195, 1196, 1197, 1198, 1202, 1203, 1211, 1212, 1217, 1219, 1220, 1223, 1225, 1227, 1231, 1235, 1236, 1237, 1238, 1241, 1245, 1246, 1247, 1249, 1254, 1255, 1256, 1261, 1263, 1264, 1266, 1267, 1269, 1270, 1271, 1275, 1276, 1277, 1279, 1280, 1284, 1285, 1286, 1290, 1292, 1293, 1294, 1299, 1301, 1302, 1303, 1305, 1313, 1314, 1316, 1323, 1329, 1330, 1334, 1335, 1339, 1343, 1344, 1345, 1350, 1351, 1352, 1353, 1354, 1355, 1356, 1359, 1361, 1363, 1364, 1365, 1366, 1367, 1368, 1371, 1373, 1375, 1378, 1379, 1380, 1383, 1385, 1386, 1387, 1388, 1390, 1394, 1396, 1398, 1399, 1400, 1401, 1402, 1405, 1409, 1410, 1411, 1412, 1415, 1417, 1418, 1421, 1424, 1427, 1428, 1431, 1434, 1440, 1441, 1443, 1448, 1449, 1451, 1456, 1458, 1463, 1464, 1466, 1468, 1472, 1473, 1474, 1476, 1481, 1485, 1486, 1487, 1491, 1494, 1495, 1497, 1498, 1499, 1500, 1501, 1502, 1504, 1507, 1508, 1509, 1513, 1515, 1516, 1523, 1528, 1531, 1534, 1535, 1536, 1538, 1539, 1540, 1541, 1542, 1543, 1545, 1546, 1547, 1548, 1549, 1550, 1552, 1553, 1554, 1556, 1557, 1558, 1559, 1560, 1565, 1568, 1569, 1576, 1578, 1580, 1584, 1589, 1594, 1595, 1596, 1597, 1598, 1602, 1605, 1610, 1615, 1616, 1617, 1620, 1621, 1622, 1624, 1627, 1628, 1629, 1633, 1634, 1635, 1637, 1638, 1640, 1642, 1643, 1644, 1652, 1653, 1654, 1656, 1657, 1658, 1661, 1662, 1667, 1673, 1684, 1685, 1687, 1688, 1689, 1690, 1691, 1692, 1693, 1694, 1695, 1696, 1697, 1698, 1700, 1701, 1711, 1715, 1719, 1725, 1726, 1728, 1729, 1730, 1738, 1739, 1742, 1743, 1746, 1747, 1748, 1751, 1754, 1762, 1780, 1783, 1784, 1787, 1791, 1797, 1801, 1803, 1806, 1807, 1808, 1809, 1810, 1811, 1812, 1813, 1817, 1818, 1819, 1822, 1825, 1826, 1828, 1830, 1831, 1832, 1833, 1834, 1835, 1836, 1838, 1842, 1845, 1851, 1856, 1857, 1858, 1862, 1863, 1864, 1872, 1873, 1876, 1882, 1883, 1884, 1889, 1896, 1897, 1898, 1900, 1901, 1903, 1906, 1908, 1909, 1910, 1911, 1913, 1917, 1923, 1925, 1932, 1933, 1934, 1935, 1936, 1937, 1941, 1942, 1944, 1954, 1955, 1956, 1958, 1959, 1962, 1963, 1964, 1965, 1970, 1971, 1972, 1973, 1974, 1977, 1978, 1984, 1988, 1989, 1990, 1992, 1993, 1994, 1995, 1996, 1997, 1999, 2000, 2001, 2003, 2004, 2009, 2010, 2013, 2014, 2015, 2016, 2017, 2023, 2024, 2025, 2027, 2028, 2029, 2034, 2035, 2036, 2037, 2038, 2040, 2042, 2047, 2050, 2054, 2058, 2070, 2072, 2079, 2081, 2083, 2087, 2088, 2090, 2091, 2092, 2093, 2095, 2097, 2098, 2101, 2102, 2103, 2104, 2105, 2106, 2107, 2111, 2112, 2113, 2114, 2115, 2117, 2118, 2120, 2122, 2124, 2125, 2126, 2127, 2128, 2130, 2132, 2134, 2136, 2148, 2151, 2155, 2156, 2158, 2159, 2160, 2168, 2169, 2170, 2174, 2175, 2177, 2178, 2188, 2193, 2194, 2197, 2199, 2200, 2201, 2202, 2203, 2204, 2205, 2207, 2208, 2210, 2212, 2213, 2214, 2216, 2218, 2219, 2220, 2224, 2225, 2229, 2230, 2231, 2243, 2244, 2245, 2247, 2251, 2253, 2254, 2255, 2256, 2257, 2259, 2263, 2270, 2272, 2277, 2283, 2284, 2290, 2291, 2294, 2296, 2297, 2299, 2300, 2301, 2304, 2312, 2313, 2314, 2315, 2316, 2318, 2319, 2324, 2326, 2327, 2328, 2329, 2330, 2331, 2332, 2333, 2334, 2335, 2336, 2344, 2345, 2348, 2349, 2350, 2353, 2358, 2359, 2362, 2370, 2371, 2373, 2374, 2379, 2384, 2395, 2400, 2419, 2423, 2425, 2426, 2427, 2428, 2440, 2444, 2445, 2446, 2447, 2448, 2449, 2450, 2451, 2452, 2455, 2456, 2457, 2458, 2460, 2461, 2462, 2463, 2464, 2465, 2466, 2467, 2468, 2469, 2470, 2471, 2472, 2473, 2474, 2475, 2476, 2487, 2488, 2497, 2502, 2503, 2504, 2505, 2512, 2513, 2516, 2519, 2520, 2521, 2522, 2532, 2533, 2535, 2536, 2538, 2541, 2542, 2545, 2548, 2549, 2555, 2558, 2560, 2561, 2562, 2563, 2564, 2566, 2567, 2570, 2575, 2576, 2577, 2580, 2598, 2602, 2603, 2604, 2605, 2609, 2620, 2621, 2622, 2623, 2624, 2625, 2628, 2629, 2630, 2631, 2632, 2636, 2638, 2639, 2643, 2644, 2645, 2646, 2647, 2651, 2652, 2656, 2657, 2658, 2659, 2660, 2663, 2667, 2668, 2670, 2671, 2676, 2677, 2678, 2679, 2680, 2681, 2682, 2683, 2684, 2685, 2686, 2690, 2691, 2695, 2696, 2697, 2698, 2701, 2703, 2711, 2712, 2714, 2715, 2716, 2717, 2722, 2729, 2736, 2754, 2755, 2758, 2759, 2760, 2765, 2766, 2773, 2774, 2775, 2776, 2777, 2778, 2779, 2783, 2785, 2787, 2789, 2790, 2793, 2794, 2795, 2797, 2798, 2799, 2802, 2819, 2821, 2822, 2823, 2827, 2828, 2830, 2834, 2836, 2839, 2841, 2842, 2843, 2846, 2847, 2849, 2850, 2851, 2852, 2853, 2856, 2857, 2859, 2862, 2864, 2866, 2867, 2868, 2869, 2873, 2874, 2875, 2876, 2877, 2878, 2879, 2880, 2881, 2882, 2883, 2884, 2885, 2886, 2888, 2891, 2893, 2894, 2907, 2911, 2913, 2914, 2915, 2916, 2919]), ('LowQualFinSF', [52, 89, 126, 171, 186, 188, 198, 199, 264, 268, 407, 590, 636, 730, 830, 832, 869, 874, 884, 946, 1010, 1032, 1174, 1350, 1365, 1441, 1571, 1786, 1802, 1821, 1845, 1913, 2091, 2131, 2424, 2474, 2579, 2714, 2819, 2871]), ('GarageYrBlt', [1, 2, 3, 4, 5, 6, 7, 8, 9, 10, 11, 12, 13, 14, 15, 16, 17, 18, 19, 20, 21, 22, 23, 24, 25, 26, 27, 28, 29, 30, 31, 32, 33, 34, 35, 36, 37, 38, 39, 41, 42, 43, 44, 45, 46, 47, 48, 50, 51, 52, 53, 54, 55, 56, 57, 58, 59, 60, 61, 62, 63, 64, 65, 66, 67, 68, 69, 70, 71, 72, 73, 74, 75, 76, 77, 78, 80, 81, 82, 83, 84, 85, 86, 87, 88, 91, 92, 93, 94, 95, 96, 97, 98, 99, 101, 102, 103, 104, 105, 106, 107, 108, 110, 111, 112, 113, 114, 115, 116, 117, 118, 119, 120, 121, 122, 123, 124, 125, 127, 129, 130, 131, 132, 133, 134, 135, 136, 137, 138, 139, 140, 142, 143, 144, 145, 146, 147, 148, 150, 151, 152, 153, 154, 155, 157, 158, 159, 160, 161, 162, 163, 165, 167, 168, 169, 170, 171, 172, 173, 174, 175, 176, 177, 178, 179, 180, 181, 182, 183, 184, 185, 186, 187, 188, 189, 190, 191, 192, 193, 194, 195, 196, 197, 198, 200, 201, 202, 203, 204, 205, 206, 207, 208, 209, 210, 212, 213, 214, 215, 216, 217, 218, 219, 220, 221, 222, 223, 224, 225, 226, 227, 228, 229, 230, 231, 232, 233, 234, 235, 236, 237, 238, 239, 240, 241, 243, 244, 245, 246, 247, 248, 249, 250, 252, 253, 254, 255, 256, 257, 258, 259, 260, 261, 262, 263, 264, 265, 266, 267, 268, 269, 270, 271, 272, 273, 274, 275, 276, 277, 278, 279, 280, 281, 282, 283, 284, 285, 286, 287, 289, 290, 291, 293, 294, 295, 296, 297, 298, 299, 300, 301, 302, 303, 304, 305, 306, 307, 309, 310, 311, 312, 313, 314, 315, 316, 317, 318, 319, 320, 321, 322, 323, 324, 325, 326, 327, 328, 329, 330, 331, 332, 333, 334, 335, 336, 337, 338, 339, 340, 341, 342, 343, 344, 345, 346, 347, 348, 349, 350, 351, 352, 353, 354, 355, 356, 357, 358, 359, 360, 361, 362, 363, 364, 365, 366, 367, 368, 369, 370, 371, 372, 373, 374, 375, 377, 378, 379, 380, 381, 382, 383, 384, 385, 386, 388, 389, 390, 391, 392, 393, 395, 396, 397, 398, 399, 400, 401, 402, 403, 404, 405, 406, 407, 408, 409, 410, 411, 412, 413, 414, 415, 416, 417, 418, 419, 420, 421, 422, 423, 424, 425, 426, 427, 428, 429, 430, 431, 433, 434, 436, 437, 438, 439, 440, 441, 443, 444, 445, 446, 447, 448, 449, 450, 451, 452, 453, 454, 455, 456, 457, 458, 459, 460, 461, 462, 463, 464, 466, 467, 468, 469, 470, 471, 472, 473, 474, 475, 476, 477, 478, 479, 480, 481, 482, 483, 484, 485, 486, 487, 488, 489, 490, 491, 492, 493, 494, 495, 497, 498, 499, 500, 501, 502, 503, 504, 505, 506, 507, 508, 509, 510, 511, 512, 513, 514, 515, 516, 517, 518, 519, 520, 522, 523, 524, 525, 526, 527, 528, 530, 531, 532, 533, 535, 537, 538, 539, 540, 541, 542, 543, 544, 545, 546, 547, 548, 549, 550, 551, 552, 553, 554, 555, 556, 557, 558, 559, 560, 561, 562, 564, 565, 566, 567, 568, 569, 570, 571, 572, 573, 574, 575, 576, 577, 578, 579, 580, 581, 582, 584, 585, 586, 587, 588, 589, 590, 591, 592, 593, 594, 595, 596, 597, 598, 599, 600, 601, 602, 603, 604, 605, 606, 607, 608, 609, 610, 611, 612, 613, 616, 617, 618, 619, 620, 622, 623, 624, 625, 626, 627, 628, 629, 630, 631, 632, 633, 634, 635, 638, 640, 641, 642, 643, 644, 645, 646, 647, 648, 649, 651, 652, 653, 654, 655, 656, 657, 658, 659, 660, 661, 662, 663, 664, 665, 666, 667, 668, 669, 670, 671, 672, 673, 674, 675, 676, 677, 678, 679, 680, 681, 682, 683, 684, 685, 686, 687, 688, 689, 690, 691, 692, 693, 694, 695, 696, 697, 698, 699, 700, 701, 702, 703, 704, 705, 707, 708, 709, 710, 712, 713, 714, 715, 716, 717, 718, 719, 720, 721, 722, 723, 724, 725, 726, 727, 728, 729, 730, 731, 732, 733, 734, 735, 736, 737, 738, 740, 741, 742, 743, 744, 745, 746, 747, 748, 749, 750, 752, 753, 754, 755, 756, 757, 758, 759, 760, 761, 762, 763, 764, 765, 766, 767, 768, 769, 770, 771, 772, 773, 774, 775, 776, 777, 778, 779, 780, 781, 782, 783, 784, 786, 787, 788, 789, 790, 791, 792, 793, 794, 795, 796, 797, 798, 799, 800, 801, 802, 803, 804, 805, 806, 807, 808, 809, 810, 811, 812, 813, 814, 815, 816, 817, 818, 819, 820, 821, 822, 823, 824, 825, 826, 828, 829, 830, 831, 832, 833, 834, 835, 836, 837, 838, 839, 840, 841, 842, 843, 845, 846, 847, 848, 849, 850, 851, 852, 853, 854, 855, 856, 857, 858, 859, 860, 861, 862, 863, 864, 865, 866, 867, 868, 869, 870, 871, 872, 873, 874, 875, 876, 877, 878, 879, 880, 881, 882, 883, 884, 885, 886, 887, 888, 889, 890, 891, 892, 893, 894, 895, 896, 897, 898, 899, 900, 901, 902, 903, 904, 905, 906, 907, 908, 909, 910, 911, 912, 913, 914, 915, 916, 917, 918, 919, 920, 921, 923, 924, 925, 926, 927, 928, 929, 930, 931, 932, 933, 934, 935, 936, 937, 938, 939, 940, 941, 942, 944, 945, 946, 947, 948, 949, 950, 951, 952, 953, 954, 956, 957, 958, 959, 960, 962, 963, 964, 965, 966, 967, 968, 970, 972, 973, 974, 975, 976, 978, 979, 980, 981, 982, 983, 984, 985, 986, 987, 988, 989, 990, 991, 992, 993, 994, 995, 996, 997, 998, 999, 1000, 1001, 1002, 1003, 1004, 1005, 1006, 1007, 1008, 1009, 1011, 1013, 1014, 1015, 1016, 1017, 1018, 1019, 1020, 1021, 1022, 1023, 1024, 1025, 1026, 1027, 1028, 1029, 1030, 1032, 1033, 1034, 1035, 1036, 1037, 1038, 1040, 1041, 1042, 1043, 1044, 1045, 1046, 1047, 1048, 1049, 1050, 1051, 1052, 1053, 1054, 1055, 1056, 1057, 1058, 1059, 1060, 1061, 1062, 1063, 1064, 1065, 1066, 1067, 1068, 1069, 1070, 1071, 1072, 1073, 1074, 1075, 1076, 1077, 1078, 1079, 1080, 1081, 1082, 1083, 1084, 1085, 1086, 1087, 1088, 1089, 1090, 1091, 1092, 1093, 1094, 1095, 1096, 1098, 1099, 1100, 1101, 1102, 1103, 1104, 1105, 1106, 1107, 1108, 1109, 1110, 1111, 1112, 1113, 1114, 1115, 1116, 1117, 1118, 1119, 1120, 1121, 1122, 1123, 1125, 1126, 1127, 1128, 1129, 1130, 1131, 1133, 1134, 1135, 1136, 1137, 1139, 1140, 1141, 1142, 1143, 1145, 1146, 1147, 1148, 1149, 1150, 1151, 1152, 1153, 1154, 1155, 1156, 1157, 1158, 1159, 1160, 1161, 1162, 1163, 1164, 1165, 1166, 1167, 1168, 1169, 1170, 1171, 1172, 1173, 1175, 1176, 1177, 1178, 1179, 1181, 1182, 1183, 1184, 1185, 1186, 1187, 1188, 1189, 1190, 1191, 1192, 1193, 1194, 1195, 1196, 1197, 1198, 1199, 1200, 1201, 1202, 1203, 1204, 1205, 1206, 1207, 1208, 1209, 1210, 1211, 1212, 1213, 1214, 1215, 1216, 1217, 1218, 1221, 1222, 1223, 1224, 1225, 1226, 1227, 1228, 1229, 1230, 1231, 1232, 1233, 1234, 1236, 1237, 1238, 1239, 1240, 1241, 1242, 1243, 1244, 1245, 1246, 1247, 1248, 1249, 1250, 1251, 1252, 1253, 1254, 1255, 1256, 1257, 1259, 1260, 1261, 1262, 1263, 1264, 1265, 1266, 1267, 1268, 1269, 1270, 1271, 1272, 1273, 1274, 1275, 1276, 1277, 1278, 1279, 1280, 1281, 1282, 1283, 1285, 1286, 1287, 1288, 1289, 1290, 1291, 1292, 1293, 1294, 1295, 1296, 1297, 1298, 1299, 1300, 1301, 1302, 1303, 1304, 1305, 1306, 1307, 1308, 1309, 1310, 1311, 1312, 1313, 1314, 1315, 1316, 1317, 1318, 1319, 1320, 1321, 1322, 1323, 1325, 1328, 1329, 1330, 1331, 1332, 1333, 1334, 1335, 1336, 1337, 1339, 1340, 1341, 1342, 1343, 1344, 1345, 1346, 1347, 1348, 1349, 1351, 1352, 1353, 1354, 1355, 1356, 1357, 1358, 1359, 1360, 1361, 1362, 1363, 1364, 1365, 1366, 1367, 1368, 1369, 1370, 1371, 1372, 1373, 1374, 1375, 1376, 1377, 1378, 1379, 1380, 1381, 1382, 1383, 1384, 1385, 1386, 1387, 1388, 1389, 1390, 1391, 1392, 1393, 1394, 1395, 1396, 1397, 1398, 1399, 1400, 1401, 1402, 1403, 1404, 1405, 1406, 1407, 1409, 1410, 1411, 1412, 1413, 1414, 1415, 1416, 1417, 1418, 1419, 1420, 1421, 1422, 1423, 1424, 1425, 1426, 1427, 1428, 1429, 1430, 1431, 1432, 1433, 1434, 1435, 1436, 1437, 1438, 1439, 1440, 1441, 1442, 1443, 1444, 1445, 1446, 1447, 1448, 1449, 1452, 1453, 1455, 1456, 1457, 1458, 1459, 1460, 1461, 1462, 1463, 1464, 1465, 1466, 1467, 1468, 1469, 1470, 1471, 1472, 1473, 1474, 1475, 1476, 1477, 1478, 1479, 1480, 1481, 1482, 1483, 1484, 1485, 1486, 1487, 1488, 1489, 1490, 1491, 1492, 1493, 1494, 1495, 1496, 1497, 1498, 1499, 1500, 1501, 1502, 1503, 1504, 1505, 1506, 1507, 1508, 1509, 1510, 1511, 1512, 1513, 1515, 1516, 1517, 1518, 1519, 1520, 1521, 1522, 1523, 1524, 1525, 1526, 1527, 1528, 1529, 1530, 1531, 1533, 1534, 1535, 1536, 1537, 1538, 1539, 1541, 1542, 1543, 1544, 1545, 1546, 1547, 1548, 1549, 1550, 1551, 1552, 1554, 1555, 1556, 1558, 1560, 1562, 1563, 1564, 1565, 1566, 1567, 1568, 1569, 1570, 1571, 1572, 1573, 1574, 1575, 1576, 1577, 1578, 1579, 1580, 1581, 1582, 1583, 1584, 1585, 1586, 1587, 1588, 1589, 1590, 1592, 1593, 1596, 1597, 1598, 1599, 1600, 1601, 1602, 1603, 1604, 1605, 1606, 1607, 1608, 1609, 1610, 1611, 1612, 1613, 1614, 1617, 1618, 1619, 1620, 1621, 1622, 1623, 1624, 1625, 1626, 1627, 1628, 1629, 1630, 1631, 1632, 1633, 1634, 1635, 1636, 1637, 1638, 1639, 1640, 1641, 1642, 1643, 1644, 1645, 1646, 1647, 1648, 1649, 1650, 1651, 1652, 1653, 1654, 1655, 1656, 1657, 1658, 1659, 1660, 1661, 1662, 1663, 1664, 1665, 1666, 1667, 1668, 1669, 1670, 1671, 1672, 1673, 1674, 1675, 1676, 1677, 1678, 1679, 1680, 1681, 1682, 1683, 1684, 1685, 1686, 1687, 1688, 1689, 1690, 1691, 1692, 1693, 1694, 1695, 1696, 1697, 1698, 1699, 1700, 1701, 1702, 1703, 1704, 1705, 1706, 1707, 1708, 1709, 1710, 1711, 1712, 1713, 1714, 1715, 1716, 1717, 1719, 1720, 1721, 1723, 1724, 1725, 1726, 1727, 1728, 1729, 1730, 1731, 1732, 1733, 1734, 1735, 1736, 1737, 1738, 1739, 1740, 1741, 1742, 1743, 1744, 1745, 1746, 1747, 1748, 1749, 1750, 1751, 1752, 1753, 1754, 1755, 1756, 1757, 1758, 1759, 1760, 1761, 1762, 1763, 1764, 1765, 1766, 1767, 1768, 1769, 1770, 1771, 1772, 1773, 1774, 1775, 1776, 1777, 1778, 1779, 1780, 1781, 1782, 1783, 1784, 1785, 1786, 1787, 1789, 1790, 1791, 1792, 1793, 1794, 1795, 1796, 1797, 1798, 1799, 1800, 1801, 1802, 1803, 1804, 1805, 1806, 1807, 1808, 1810, 1813, 1814, 1815, 1816, 1817, 1818, 1819, 1821, 1822, 1824, 1825, 1826, 1827, 1828, 1829, 1830, 1831, 1833, 1834, 1836, 1838, 1839, 1841, 1842, 1843, 1844, 1845, 1846, 1847, 1849, 1850, 1851, 1852, 1853, 1854, 1855, 1856, 1857, 1858, 1859, 1860, 1861, 1862, 1863, 1864, 1865, 1866, 1867, 1868, 1869, 1870, 1871, 1872, 1873, 1874, 1875, 1876, 1877, 1878, 1879, 1880, 1881, 1882, 1883, 1884, 1885, 1886, 1887, 1888, 1889, 1890, 1891, 1892, 1893, 1895, 1896, 1897, 1898, 1899, 1900, 1901, 1902, 1903, 1904, 1905, 1906, 1907, 1908, 1909, 1910, 1911, 1912, 1913, 1914, 1915, 1916, 1917, 1918, 1919, 1920, 1921, 1922, 1923, 1924, 1925, 1926, 1927, 1928, 1929, 1930, 1931, 1932, 1933, 1934, 1935, 1936, 1937, 1938, 1939, 1940, 1941, 1942, 1943, 1944, 1945, 1946, 1947, 1948, 1949, 1950, 1951, 1952, 1953, 1954, 1955, 1956, 1957, 1958, 1959, 1960, 1961, 1962, 1963, 1964, 1965, 1966, 1967, 1968, 1969, 1970, 1971, 1972, 1973, 1974, 1975, 1976, 1977, 1978, 1979, 1980, 1981, 1982, 1983, 1984, 1985, 1986, 1987, 1988, 1989, 1990, 1991, 1992, 1993, 1994, 1995, 1996, 1997, 1998, 1999, 2000, 2001, 2002, 2003, 2004, 2005, 2006, 2007, 2008, 2009, 2010, 2012, 2013, 2014, 2015, 2016, 2017, 2018, 2019, 2020, 2021, 2022, 2023, 2024, 2025, 2026, 2027, 2028, 2029, 2030, 2031, 2032, 2033, 2034, 2035, 2036, 2037, 2038, 2039, 2040, 2041, 2042, 2043, 2044, 2045, 2046, 2047, 2048, 2049, 2050, 2051, 2052, 2053, 2054, 2055, 2056, 2057, 2058, 2059, 2060, 2061, 2062, 2063, 2064, 2065, 2066, 2067, 2068, 2069, 2070, 2071, 2072, 2073, 2074, 2075, 2076, 2077, 2078, 2079, 2080, 2081, 2083, 2084, 2085, 2086, 2087, 2088, 2089, 2090, 2092, 2093, 2095, 2096, 2098, 2099, 2101, 2102, 2103, 2104, 2106, 2107, 2108, 2109, 2110, 2111, 2112, 2113, 2114, 2115, 2116, 2117, 2118, 2119, 2120, 2121, 2122, 2123, 2124, 2125, 2126, 2128, 2129, 2130, 2131, 2132, 2133, 2134, 2135, 2137, 2138, 2139, 2140, 2141, 2142, 2143, 2144, 2145, 2146, 2147, 2148, 2149, 2150, 2151, 2153, 2155, 2156, 2157, 2158, 2159, 2160, 2161, 2162, 2163, 2164, 2165, 2166, 2167, 2168, 2169, 2170, 2171, 2172, 2173, 2174, 2175, 2176, 2177, 2178, 2179, 2180, 2181, 2182, 2183, 2184, 2185, 2186, 2187, 2188, 2189, 2195, 2196, 2197, 2198, 2199, 2200, 2201, 2202, 2203, 2204, 2205, 2206, 2207, 2208, 2209, 2210, 2211, 2212, 2214, 2215, 2216, 2217, 2218, 2219, 2220, 2221, 2222, 2223, 2224, 2225, 2226, 2227, 2228, 2229, 2230, 2231, 2232, 2233, 2234, 2235, 2236, 2237, 2238, 2240, 2241, 2242, 2243, 2244, 2245, 2246, 2248, 2249, 2250, 2251, 2252, 2253, 2254, 2255, 2256, 2257, 2258, 2259, 2260, 2261, 2262, 2263, 2264, 2265, 2266, 2267, 2268, 2269, 2270, 2271, 2272, 2273, 2274, 2275, 2276, 2277, 2278, 2279, 2280, 2281, 2282, 2283, 2284, 2285, 2286, 2287, 2288, 2289, 2290, 2291, 2292, 2293, 2294, 2295, 2296, 2297, 2298, 2299, 2300, 2301, 2302, 2303, 2304, 2305, 2306, 2307, 2308, 2309, 2310, 2311, 2312, 2313, 2314, 2315, 2316, 2317, 2318, 2319, 2320, 2321, 2322, 2323, 2324, 2325, 2326, 2327, 2328, 2329, 2330, 2331, 2332, 2333, 2334, 2335, 2336, 2337, 2338, 2339, 2340, 2341, 2342, 2343, 2344, 2345, 2346, 2347, 2348, 2349, 2350, 2351, 2352, 2353, 2356, 2357, 2358, 2359, 2360, 2361, 2362, 2363, 2364, 2365, 2366, 2367, 2368, 2369, 2370, 2371, 2372, 2373, 2374, 2375, 2376, 2377, 2378, 2379, 2380, 2381, 2382, 2383, 2384, 2385, 2386, 2387, 2388, 2389, 2390, 2391, 2392, 2393, 2394, 2395, 2396, 2397, 2398, 2401, 2402, 2403, 2404, 2405, 2406, 2407, 2408, 2409, 2410, 2411, 2412, 2413, 2414, 2415, 2416, 2417, 2418, 2419, 2420, 2421, 2422, 2424, 2425, 2426, 2428, 2429, 2430, 2431, 2432, 2433, 2434, 2435, 2436, 2437, 2438, 2439, 2440, 2441, 2442, 2443, 2444, 2445, 2446, 2447, 2448, 2449, 2450, 2451, 2452, 2453, 2454, 2455, 2456, 2457, 2458, 2459, 2460, 2461, 2462, 2463, 2464, 2465, 2466, 2467, 2468, 2469, 2470, 2471, 2472, 2473, 2474, 2475, 2476, 2477, 2478, 2479, 2480, 2481, 2482, 2483, 2484, 2485, 2486, 2487, 2488, 2489, 2490, 2491, 2492, 2493, 2494, 2495, 2496, 2497, 2498, 2499, 2500, 2501, 2502, 2503, 2504, 2505, 2506, 2507, 2508, 2509, 2510, 2511, 2512, 2513, 2514, 2515, 2516, 2517, 2518, 2519, 2520, 2521, 2522, 2523, 2524, 2525, 2526, 2527, 2528, 2529, 2530, 2531, 2532, 2533, 2534, 2535, 2536, 2537, 2538, 2539, 2540, 2541, 2542, 2543, 2544, 2545, 2546, 2547, 2548, 2549, 2550, 2551, 2552, 2555, 2556, 2557, 2559, 2560, 2561, 2562, 2563, 2564, 2565, 2566, 2567, 2568, 2569, 2570, 2571, 2572, 2573, 2574, 2575, 2578, 2579, 2581, 2582, 2583, 2584, 2585, 2586, 2587, 2588, 2589, 2590, 2591, 2592, 2593, 2594, 2595, 2596, 2597, 2598, 2599, 2600, 2601, 2602, 2603, 2605, 2606, 2607, 2608, 2609, 2611, 2612, 2613, 2614, 2615, 2616, 2617, 2618, 2619, 2620, 2621, 2622, 2623, 2624, 2625, 2626, 2627, 2628, 2629, 2630, 2631, 2632, 2633, 2634, 2635, 2636, 2637, 2638, 2639, 2640, 2641, 2642, 2643, 2644, 2645, 2646, 2647, 2648, 2649, 2650, 2651, 2652, 2653, 2654, 2655, 2656, 2657, 2658, 2659, 2660, 2661, 2662, 2663, 2664, 2665, 2666, 2667, 2668, 2669, 2670, 2671, 2672, 2673, 2674, 2675, 2676, 2677, 2678, 2679, 2680, 2681, 2682, 2683, 2684, 2685, 2686, 2687, 2688, 2689, 2690, 2691, 2693, 2695, 2696, 2697, 2698, 2699, 2700, 2701, 2702, 2703, 2704, 2705, 2706, 2707, 2708, 2710, 2711, 2712, 2713, 2714, 2715, 2716, 2717, 2718, 2719, 2720, 2721, 2722, 2723, 2724, 2725, 2726, 2727, 2728, 2729, 2730, 2731, 2732, 2733, 2734, 2735, 2736, 2737, 2738, 2739, 2740, 2741, 2742, 2743, 2744, 2745, 2746, 2747, 2748, 2749, 2750, 2751, 2752, 2753, 2754, 2755, 2756, 2757, 2758, 2759, 2760, 2761, 2762, 2763, 2764, 2765, 2766, 2767, 2769, 2770, 2771, 2773, 2774, 2775, 2776, 2777, 2778, 2779, 2780, 2781, 2782, 2783, 2784, 2785, 2786, 2787, 2788, 2789, 2791, 2793, 2794, 2795, 2796, 2797, 2798, 2799, 2801, 2802, 2803, 2804, 2805, 2806, 2807, 2808, 2809, 2810, 2811, 2812, 2813, 2814, 2815, 2816, 2817, 2818, 2819, 2820, 2821, 2822, 2823, 2824, 2825, 2826, 2827, 2828, 2829, 2830, 2831, 2832, 2833, 2834, 2835, 2836, 2837, 2838, 2839, 2840, 2841, 2842, 2843, 2844, 2845, 2846, 2847, 2848, 2849, 2850, 2851, 2852, 2853, 2854, 2855, 2856, 2857, 2858, 2859, 2861, 2862, 2864, 2865, 2866, 2867, 2868, 2869, 2870, 2872, 2873, 2874, 2875, 2876, 2877, 2878, 2879, 2880, 2881, 2882, 2883, 2884, 2885, 2886, 2887, 2888, 2890, 2891, 2895, 2896, 2897, 2898, 2899, 2900, 2901, 2902, 2903, 2904, 2905, 2906, 2907, 2908, 2909, 2911, 2912, 2913, 2916, 2917, 2919]), ('EnclosedPorch', [4, 8, 9, 15, 22, 30, 31, 49, 59, 62, 64, 70, 75, 80, 89, 93, 99, 109, 114, 117, 122, 135, 155, 156, 165, 176, 180, 182, 198, 199, 203, 211, 218, 219, 231, 232, 243, 247, 261, 285, 307, 315, 319, 326, 329, 330, 342, 355, 359, 363, 366, 381, 384, 391, 408, 414, 420, 426, 430, 438, 439, 457, 460, 463, 486, 492, 495, 496, 497, 503, 509, 514, 515, 521, 523, 527, 529, 530, 532, 536, 556, 558, 566, 576, 578, 585, 587, 610, 621, 627, 628, 631, 639, 646, 649, 654, 658, 661, 663, 664, 670, 677, 678, 682, 694, 697, 704, 712, 717, 719, 721, 730, 741, 745, 748, 749, 750, 767, 768, 785, 787, 800, 801, 814, 815, 817, 822, 827, 837, 841, 842, 845, 847, 857, 873, 906, 913, 919, 936, 940, 946, 999, 1002, 1010, 1011, 1013, 1014, 1023, 1025, 1031, 1060, 1061, 1082, 1093, 1095, 1097, 1098, 1104, 1120, 1121, 1137, 1138, 1140, 1149, 1151, 1153, 1154, 1178, 1179, 1180, 1186, 1188, 1193, 1198, 1203, 1231, 1249, 1264, 1267, 1275, 1280, 1285, 1297, 1311, 1326, 1327, 1334, 1346, 1350, 1361, 1371, 1381, 1383, 1384, 1394, 1397, 1398, 1399, 1401, 1405, 1417, 1420, 1429, 1430, 1439, 1440, 1446, 1459, 1492, 1493, 1511, 1516, 1525, 1530, 1532, 1535, 1536, 1538, 1540, 1543, 1544, 1545, 1547, 1548, 1549, 1551, 1552, 1554, 1556, 1557, 1558, 1559, 1569, 1570, 1587, 1588, 1592, 1596, 1603, 1614, 1617, 1622, 1623, 1700, 1745, 1758, 1762, 1765, 1769, 1771, 1773, 1779, 1780, 1783, 1784, 1786, 1787, 1793, 1794, 1796, 1806, 1807, 1809, 1811, 1812, 1814, 1815, 1816, 1817, 1821, 1822, 1823, 1826, 1827, 1828, 1829, 1830, 1833, 1834, 1835, 1836, 1837, 1838, 1839, 1848, 1849, 1856, 1893, 1897, 1899, 1901, 1903, 1906, 1913, 1914, 1933, 1943, 1946, 1948, 1958, 2022, 2023, 2040, 2045, 2051, 2069, 2070, 2072, 2074, 2090, 2091, 2093, 2095, 2096, 2097, 2099, 2101, 2103, 2104, 2106, 2116, 2119, 2120, 2122, 2125, 2127, 2129, 2130, 2132, 2136, 2137, 2144, 2146, 2162, 2171, 2173, 2186, 2197, 2198, 2199, 2202, 2207, 2209, 2211, 2213, 2220, 2223, 2232, 2260, 2262, 2269, 2275, 2374, 2396, 2425, 2438, 2439, 2440, 2441, 2442, 2444, 2445, 2446, 2449, 2452, 2457, 2459, 2460, 2462, 2465, 2467, 2468, 2469, 2472, 2478, 2489, 2491, 2499, 2502, 2504, 2545, 2552, 2555, 2556, 2558, 2559, 2560, 2563, 2564, 2565, 2568, 2569, 2574, 2575, 2577, 2578, 2580, 2582, 2584, 2637, 2649, 2682, 2687, 2712, 2720, 2727, 2729, 2731, 2733, 2734, 2737, 2744, 2752, 2754, 2756, 2757, 2758, 2759, 2760, 2766, 2773, 2774, 2777, 2778, 2779, 2780, 2781, 2783, 2785, 2786, 2789, 2790, 2792, 2793, 2795, 2796, 2799, 2801, 2804, 2805, 2815, 2816, 2817, 2823, 2824, 2825, 2868, 2869, 2871, 2872, 2876, 2877, 2878, 2881, 2888, 2889, 2890, 2892, 2905]), ('3SsnPorch', [6, 56, 121, 130, 160, 183, 188, 206, 238, 259, 281, 547, 705, 727, 745, 890, 923, 942, 1081, 1157, 1162, 1182, 1347, 1438, 1503, 1737, 1744, 1756, 1828, 1915, 1953, 2221, 2245, 2406, 2576, 2582, 2753]), ('ScreenPorch', [13, 47, 73, 81, 94, 105, 113, 123, 167, 177, 186, 190, 197, 200, 209, 252, 276, 279, 287, 290, 293, 298, 313, 340, 352, 360, 361, 367, 370, 373, 386, 401, 427, 441, 467, 471, 472, 476, 488, 504, 511, 520, 551, 557, 561, 564, 585, 589, 596, 602, 606, 619, 625, 626, 648, 674, 724, 744, 764, 765, 770, 786, 796, 804, 829, 831, 834, 849, 853, 855, 860, 888, 889, 908, 913, 920, 945, 996, 1007, 1009, 1013, 1027, 1038, 1056, 1068, 1071, 1095, 1123, 1140, 1152, 1155, 1156, 1169, 1172, 1185, 1229, 1246, 1256, 1260, 1274, 1282, 1283, 1285, 1294, 1302, 1321, 1329, 1352, 1372, 1387, 1406, 1409, 1415, 1421, 1422, 1444, 1461, 1465, 1487, 1490, 1512, 1522, 1530, 1547, 1553, 1575, 1589, 1593, 1602, 1604, 1614, 1637, 1645, 1726, 1748, 1751, 1754, 1760, 1761, 1766, 1767, 1776, 1784, 1785, 1792, 1797, 1810, 1837, 1846, 1849, 1874, 1878, 1887, 1888, 1900, 1902, 1905, 1919, 1940, 1949, 1956, 1971, 1975, 1985, 2024, 2038, 2043, 2044, 2051, 2052, 2059, 2060, 2138, 2153, 2156, 2162, 2173, 2184, 2200, 2205, 2206, 2214, 2222, 2241, 2261, 2264, 2268, 2292, 2335, 2362, 2373, 2374, 2375, 2381, 2382, 2395, 2397, 2398, 2402, 2405, 2408, 2425, 2428, 2433, 2455, 2471, 2474, 2488, 2492, 2496, 2513, 2531, 2545, 2564, 2565, 2567, 2583, 2586, 2591, 2599, 2609, 2612, 2616, 2624, 2626, 2634, 2648, 2655, 2683, 2698, 2717, 2720, 2722, 2743, 2744, 2749, 2751, 2757, 2763, 2764, 2769, 2782, 2783, 2798, 2812, 2819, 2822, 2825, 2828, 2861, 2882, 2884, 2886, 2895, 2896, 2901]), ('PoolArea', [198, 811, 1171, 1183, 1299, 1387, 1424, 1975, 2421, 2504, 2574, 2600, 2711]), ('MiscVal', [6, 8, 17, 18, 52, 85, 96, 99, 100, 107, 215, 250, 251, 336, 339, 347, 393, 440, 500, 503, 511, 540, 590, 612, 627, 635, 706, 726, 734, 761, 767, 768, 787, 795, 801, 813, 814, 868, 879, 891, 913, 954, 1062, 1077, 1084, 1172, 1211, 1231, 1253, 1329, 1387, 1458, 1462, 1467, 1517, 1519, 1569, 1594, 1606, 1620, 1629, 1660, 1749, 1794, 1831, 1855, 1893, 1911, 1923, 1930, 1946, 2015, 2018, 2021, 2045, 2066, 2073, 2074, 2114, 2127, 2140, 2170, 2195, 2201, 2246, 2317, 2385, 2400, 2422, 2487, 2543, 2550, 2558, 2698, 2722, 2727, 2750, 2753, 2791, 2804, 2809, 2859, 2918])]\n"
     ]
    }
   ],
   "source": [
    "from scipy import stats \n",
    "\n",
    "cut_off = 4\n",
    "\n",
    "def value_of_outliers(column):\n",
    "    \n",
    "    if len(set(df[column])) < 2 * cut_off: \n",
    "        return df[column].max()\n",
    "    \n",
    "    sep = (df[column].max() - df[column].min())  / cut_off\n",
    "    diff = np.diff(np.sort(df[column]))\n",
    "    \n",
    "    out = list(map(lambda x: x[0], filter(lambda d: d[1] > sep, enumerate(diff))))\n",
    "    \n",
    "    if len(out) == 0:\n",
    "        return df[column].max()\n",
    "    \n",
    "    up_lim = np.sort(df[column])[out[0]] \n",
    "    \n",
    "    \n",
    "    return up_lim\n",
    "\n",
    "\n",
    "def detect_outliers(column):\n",
    "    \n",
    "    if len(set(df[column])) < 2 * cut_off: \n",
    "        return df[df[column] > 1000000000000] # TODO: fix \n",
    "    \n",
    "    sep = (df[column].max() - df[column].min())  / cut_off\n",
    "    diff = np.diff(np.sort(df[column]))\n",
    "    \n",
    "    out = list(map(lambda x: x[0], filter(lambda d: d[1] > sep, enumerate(diff))))\n",
    "    \n",
    "    if len(out) == 0: \n",
    "        return df[df[column] > 1000000000000] # TODO: fix\n",
    "    \n",
    "    up_lim = np.sort(df[column])[out[0]] \n",
    "    \n",
    "    \n",
    "    return df[df[column] > up_lim]\n",
    "\n",
    "\n",
    "out = []\n",
    "\n",
    "for i, feature in enumerate(numeric.columns):\n",
    "    dd = detect_outliers(feature)\n",
    "    \n",
    "    out.append( (feature, dd.index.values.tolist()))\n",
    "    \n",
    "#     print(feature)\n",
    "#     plt.figure(i)\n",
    "#     plt.title(feature)\n",
    "#     df[feature].hist(bins=50)\n",
    "#     (np.log1p(df[feature])).hist(bins = 50)\n",
    "\n",
    "out = list(filter(lambda l: len(l[1]) > 0, out))\n",
    "print(out)\n",
    "\n",
    "\n",
    "\n",
    "# IQR = stats.iqr(df.LotArea, interpolation = 'midpoint') \n",
    "# IQR "
   ]
  },
  {
   "cell_type": "code",
   "execution_count": 476,
   "metadata": {
    "scrolled": true
   },
   "outputs": [],
   "source": [
    "df.loc[(df['GarageYrBlt'] > 2020), 'GarageYrBlt'] = 2007"
   ]
  },
  {
   "cell_type": "code",
   "execution_count": 477,
   "metadata": {
    "scrolled": false
   },
   "outputs": [],
   "source": [
    "df.loc[[250]].LotArea = 15900"
   ]
  },
  {
   "cell_type": "code",
   "execution_count": 478,
   "metadata": {},
   "outputs": [],
   "source": [
    "outliers = [1299, 336]"
   ]
  },
  {
   "cell_type": "code",
   "execution_count": null,
   "metadata": {},
   "outputs": [],
   "source": []
  },
  {
   "cell_type": "code",
   "execution_count": 160,
   "metadata": {
    "scrolled": true
   },
   "outputs": [
    {
     "name": "stderr",
     "output_type": "stream",
     "text": [
      "/Users/yulialysenko/opt/anaconda3/lib/python3.7/site-packages/ipykernel_launcher.py:3: RuntimeWarning: More than 20 figures have been opened. Figures created through the pyplot interface (`matplotlib.pyplot.figure`) are retained until explicitly closed and may consume too much memory. (To control this warning, see the rcParam `figure.max_open_warning`).\n",
      "  This is separate from the ipykernel package so we can avoid doing imports until\n"
     ]
    },
    {
     "data": {
      "image/png": "[encoded data removed]",
      "text/plain": [
       "<Figure size 432x288 with 1 Axes>"
      ]
     },
     "metadata": {
      "needs_background": "light"
     },
     "output_type": "display_data"
    },
    {
     "data": {
      "image/png": "[encoded data removed]",
      "text/plain": [
       "<Figure size 432x288 with 1 Axes>"
      ]
     },
     "metadata": {
      "needs_background": "light"
     },
     "output_type": "display_data"
    },
    {
     "data": {
      "image/png": "[encoded data removed]",
      "text/plain": [
       "<Figure size 432x288 with 1 Axes>"
      ]
     },
     "metadata": {
      "needs_background": "light"
     },
     "output_type": "display_data"
    },
    {
     "data": {
      "image/png": "[encoded data removed]",
      "text/plain": [
       "<Figure size 432x288 with 1 Axes>"
      ]
     },
     "metadata": {
      "needs_background": "light"
     },
     "output_type": "display_data"
    },
    {
     "data": {
      "image/png": "[encoded data removed]",
      "text/plain": [
       "<Figure size 432x288 with 1 Axes>"
      ]
     },
     "metadata": {
      "needs_background": "light"
     },
     "output_type": "display_data"
    },
    {
     "data": {
      "image/png": "[encoded data removed]",
      "text/plain": [
       "<Figure size 432x288 with 1 Axes>"
      ]
     },
     "metadata": {
      "needs_background": "light"
     },
     "output_type": "display_data"
    },
    {
     "data": {
      "image/png": "[encoded data removed]",
      "text/plain": [
       "<Figure size 432x288 with 1 Axes>"
      ]
     },
     "metadata": {
      "needs_background": "light"
     },
     "output_type": "display_data"
    },
    {
     "data": {
      "image/png": "[encoded data removed]",
      "text/plain": [
       "<Figure size 432x288 with 1 Axes>"
      ]
     },
     "metadata": {
      "needs_background": "light"
     },
     "output_type": "display_data"
    },
    {
     "data": {
      "image/png": "[encoded data removed]",
      "text/plain": [
       "<Figure size 432x288 with 1 Axes>"
      ]
     },
     "metadata": {
      "needs_background": "light"
     },
     "output_type": "display_data"
    },
    {
     "data": {
      "image/png": "[encoded data removed]",
      "text/plain": [
       "<Figure size 432x288 with 1 Axes>"
      ]
     },
     "metadata": {
      "needs_background": "light"
     },
     "output_type": "display_data"
    },
    {
     "data": {
      "image/png": "[encoded data removed]",
      "text/plain": [
       "<Figure size 432x288 with 1 Axes>"
      ]
     },
     "metadata": {
      "needs_background": "light"
     },
     "output_type": "display_data"
    },
    {
     "data": {
      "image/png": "[encoded data removed]",
      "text/plain": [
       "<Figure size 432x288 with 1 Axes>"
      ]
     },
     "metadata": {
      "needs_background": "light"
     },
     "output_type": "display_data"
    },
    {
     "data": {
      "image/png": "[encoded data removed]",
      "text/plain": [
       "<Figure size 432x288 with 1 Axes>"
      ]
     },
     "metadata": {
      "needs_background": "light"
     },
     "output_type": "display_data"
    },
    {
     "data": {
      "image/png": "[encoded data removed]",
      "text/plain": [
       "<Figure size 432x288 with 1 Axes>"
      ]
     },
     "metadata": {
      "needs_background": "light"
     },
     "output_type": "display_data"
    },
    {
     "data": {
      "image/png": "[encoded data removed]",
      "text/plain": [
       "<Figure size 432x288 with 1 Axes>"
      ]
     },
     "metadata": {
      "needs_background": "light"
     },
     "output_type": "display_data"
    },
    {
     "data": {
      "image/png": "[encoded data removed]",
      "text/plain": [
       "<Figure size 432x288 with 1 Axes>"
      ]
     },
     "metadata": {
      "needs_background": "light"
     },
     "output_type": "display_data"
    },
    {
     "data": {
      "image/png": "[encoded data removed]",
      "text/plain": [
       "<Figure size 432x288 with 1 Axes>"
      ]
     },
     "metadata": {
      "needs_background": "light"
     },
     "output_type": "display_data"
    },
    {
     "data": {
      "image/png": "[encoded data removed]",
      "text/plain": [
       "<Figure size 432x288 with 1 Axes>"
      ]
     },
     "metadata": {
      "needs_background": "light"
     },
     "output_type": "display_data"
    },
    {
     "data": {
      "image/png": "[encoded data removed]",
      "text/plain": [
       "<Figure size 432x288 with 1 Axes>"
      ]
     },
     "metadata": {
      "needs_background": "light"
     },
     "output_type": "display_data"
    },
    {
     "data": {
      "image/png": "[encoded data removed]",
      "text/plain": [
       "<Figure size 432x288 with 1 Axes>"
      ]
     },
     "metadata": {
      "needs_background": "light"
     },
     "output_type": "display_data"
    },
    {
     "data": {
      "image/png": "[encoded data removed]",
      "text/plain": [
       "<Figure size 432x288 with 1 Axes>"
      ]
     },
     "metadata": {
      "needs_background": "light"
     },
     "output_type": "display_data"
    },
    {
     "data": {
      "image/png": "[encoded data removed]",
      "text/plain": [
       "<Figure size 432x288 with 1 Axes>"
      ]
     },
     "metadata": {
      "needs_background": "light"
     },
     "output_type": "display_data"
    },
    {
     "data": {
      "image/png": "[encoded data removed]",
      "text/plain": [
       "<Figure size 432x288 with 1 Axes>"
      ]
     },
     "metadata": {
      "needs_background": "light"
     },
     "output_type": "display_data"
    },
    {
     "data": {
      "image/png": "[encoded data removed]",
      "text/plain": [
       "<Figure size 432x288 with 1 Axes>"
      ]
     },
     "metadata": {
      "needs_background": "light"
     },
     "output_type": "display_data"
    },
    {
     "data": {
      "image/png": "[encoded data removed]",
      "text/plain": [
       "<Figure size 432x288 with 1 Axes>"
      ]
     },
     "metadata": {
      "needs_background": "light"
     },
     "output_type": "display_data"
    },
    {
     "data": {
      "image/png": "[encoded data removed]",
      "text/plain": [
       "<Figure size 432x288 with 1 Axes>"
      ]
     },
     "metadata": {
      "needs_background": "light"
     },
     "output_type": "display_data"
    },
    {
     "data": {
      "image/png": "[encoded data removed]",
      "text/plain": [
       "<Figure size 432x288 with 1 Axes>"
      ]
     },
     "metadata": {
      "needs_background": "light"
     },
     "output_type": "display_data"
    },
    {
     "data": {
      "image/png": "[encoded data removed]",
      "text/plain": [
       "<Figure size 432x288 with 1 Axes>"
      ]
     },
     "metadata": {
      "needs_background": "light"
     },
     "output_type": "display_data"
    },
    {
     "data": {
      "image/png": "[encoded data removed]",
      "text/plain": [
       "<Figure size 432x288 with 1 Axes>"
      ]
     },
     "metadata": {
      "needs_background": "light"
     },
     "output_type": "display_data"
    },
    {
     "data": {
      "image/png": "[encoded data removed]",
      "text/plain": [
       "<Figure size 432x288 with 1 Axes>"
      ]
     },
     "metadata": {
      "needs_background": "light"
     },
     "output_type": "display_data"
    },
    {
     "data": {
      "image/png": "[encoded data removed]",
      "text/plain": [
       "<Figure size 432x288 with 1 Axes>"
      ]
     },
     "metadata": {
      "needs_background": "light"
     },
     "output_type": "display_data"
    },
    {
     "data": {
      "image/png": "[encoded data removed]",
      "text/plain": [
       "<Figure size 432x288 with 1 Axes>"
      ]
     },
     "metadata": {
      "needs_background": "light"
     },
     "output_type": "display_data"
    },
    {
     "data": {
      "image/png": "[encoded data removed]",
      "text/plain": [
       "<Figure size 432x288 with 1 Axes>"
      ]
     },
     "metadata": {
      "needs_background": "light"
     },
     "output_type": "display_data"
    },
    {
     "data": {
      "image/png": "[encoded data removed]",
      "text/plain": [
       "<Figure size 432x288 with 1 Axes>"
      ]
     },
     "metadata": {
      "needs_background": "light"
     },
     "output_type": "display_data"
    },
    {
     "data": {
      "image/png": "[encoded data removed]",
      "text/plain": [
       "<Figure size 432x288 with 1 Axes>"
      ]
     },
     "metadata": {
      "needs_background": "light"
     },
     "output_type": "display_data"
    },
    {
     "data": {
      "image/png": "[encoded data removed]",
      "text/plain": [
       "<Figure size 432x288 with 1 Axes>"
      ]
     },
     "metadata": {
      "needs_background": "light"
     },
     "output_type": "display_data"
    },
    {
     "data": {
      "image/png": "[encoded data removed]",
      "text/plain": [
       "<Figure size 432x288 with 1 Axes>"
      ]
     },
     "metadata": {
      "needs_background": "light"
     },
     "output_type": "display_data"
    },
    {
     "data": {
      "image/png": "[encoded data removed]",
      "text/plain": [
       "<Figure size 432x288 with 1 Axes>"
      ]
     },
     "metadata": {
      "needs_background": "light"
     },
     "output_type": "display_data"
    },
    {
     "data": {
      "image/png": "[encoded data removed]",
      "text/plain": [
       "<Figure size 432x288 with 1 Axes>"
      ]
     },
     "metadata": {
      "needs_background": "light"
     },
     "output_type": "display_data"
    },
    {
     "data": {
      "image/png": "[encoded data removed]",
      "text/plain": [
       "<Figure size 432x288 with 1 Axes>"
      ]
     },
     "metadata": {
      "needs_background": "light"
     },
     "output_type": "display_data"
    },
    {
     "data": {
      "image/png": "[encoded data removed]",
      "text/plain": [
       "<Figure size 432x288 with 1 Axes>"
      ]
     },
     "metadata": {
      "needs_background": "light"
     },
     "output_type": "display_data"
    }
   ],
   "source": [
    "for i, feature in enumerate(numeric.columns):\n",
    "#     print(feature)\n",
    "    plt.figure(i)\n",
    "    plt.title(feature)\n",
    "    df[feature].hist(bins=50)\n",
    "#     plt.axvline(x= value_of_outliers(feature) , color='r')\n",
    "\n",
    "#     (np.log1p(df[feature])).hist(bins = 50)"
   ]
  },
  {
   "cell_type": "code",
   "execution_count": 209,
   "metadata": {
    "scrolled": true
   },
   "outputs": [
    {
     "data": {
      "text/plain": [
       "MSSubClass                 20\n",
       "MSZoning                   RL\n",
       "LotFrontage              73.0\n",
       "LotArea                 12772\n",
       "Street                   Pave\n",
       "LotShape                  IR1\n",
       "LandContour               Lvl\n",
       "Utilities              AllPub\n",
       "LotConfig             CulDSac\n",
       "LandSlope                 Gtl\n",
       "Neighborhood            NAmes\n",
       "Condition1               Norm\n",
       "Condition2               Norm\n",
       "BldgType                 1Fam\n",
       "HouseStyle             1Story\n",
       "OverallQual                 6\n",
       "OverallCond                 8\n",
       "YearBuilt                1960\n",
       "YearRemodAdd             1998\n",
       "RoofStyle                 Hip\n",
       "RoofMatl              CompShg\n",
       "Exterior1st           MetalSd\n",
       "Exterior2nd           MetalSd\n",
       "MasVnrType               None\n",
       "MasVnrArea                0.0\n",
       "ExterQual                  TA\n",
       "ExterCond                  Gd\n",
       "Foundation             CBlock\n",
       "BsmtQual                   TA\n",
       "BsmtCond                   TA\n",
       "BsmtExposure               Mn\n",
       "BsmtFinType1              BLQ\n",
       "BsmtFinSF1              498.0\n",
       "BsmtFinType2              Unf\n",
       "BsmtFinSF2                0.0\n",
       "BsmtUnfSF               460.0\n",
       "TotalBsmtSF             958.0\n",
       "Heating                  GasA\n",
       "HeatingQC                  TA\n",
       "CentralAir                  Y\n",
       "Electrical              SBrkr\n",
       "1stFlrSF                  958\n",
       "2ndFlrSF                    0\n",
       "LowQualFinSF                0\n",
       "GrLivArea                 958\n",
       "BsmtFullBath              0.0\n",
       "BsmtHalfBath              0.0\n",
       "FullBath                    1\n",
       "HalfBath                    0\n",
       "BedroomAbvGr                2\n",
       "KitchenAbvGr                1\n",
       "KitchenQual                TA\n",
       "TotRmsAbvGrd                5\n",
       "Functional                Typ\n",
       "Fireplaces                  0\n",
       "FireplaceQu                NA\n",
       "GarageType             Attchd\n",
       "GarageYrBlt            1960.0\n",
       "GarageFinish              RFn\n",
       "GarageCars                1.0\n",
       "GarageArea              301.0\n",
       "GarageQual                 TA\n",
       "GarageCond                 TA\n",
       "PavedDrive                  Y\n",
       "WoodDeckSF                  0\n",
       "OpenPorchSF                 0\n",
       "EnclosedPorch               0\n",
       "3SsnPorch                   0\n",
       "ScreenPorch                 0\n",
       "PoolArea                    0\n",
       "MiscVal                 15500\n",
       "MoSold                      4\n",
       "YrSold                   2007\n",
       "SaleType                   WD\n",
       "SaleCondition          Normal\n",
       "HasPool                     0\n",
       "TotalSF                  1916\n",
       "YearsSinceRemodel           9\n",
       "HasFireplace                0\n",
       "SalePrice            151500.0\n",
       "Name: 347, dtype: object"
      ]
     },
     "execution_count": 209,
     "metadata": {},
     "output_type": "execute_result"
    }
   ],
   "source": [
    "df.loc[347]"
   ]
  },
  {
   "cell_type": "code",
   "execution_count": 201,
   "metadata": {},
   "outputs": [
    {
     "data": {
      "text/plain": [
       "count      2919.000000\n",
       "mean      10168.114080\n",
       "std        7886.996359\n",
       "min        1300.000000\n",
       "25%        7478.000000\n",
       "50%        9453.000000\n",
       "75%       11570.000000\n",
       "max      215245.000000\n",
       "Name: LotArea, dtype: float64"
      ]
     },
     "execution_count": 201,
     "metadata": {},
     "output_type": "execute_result"
    }
   ],
   "source": [
    "df.LotArea.describe()"
   ]
  },
  {
   "cell_type": "code",
   "execution_count": 141,
   "metadata": {},
   "outputs": [],
   "source": [
    "# potential_outliers.append(df[df.LotFrontage > 250].index.values.tolist())\n",
    "# potential_outliers.append(df[df.LotArea > 100000].index.values.tolist())\n",
    "# potential_outliers.append(df[df.MasVnrArea > 1400].index.values.tolist())\n",
    "# potential_outliers.append(df[df.BsmtFinSF1 > 3000].index.values.tolist())\n",
    "# potential_outliers.append(df[df['1stFlrSF'] > 4000].index.values.tolist()())\n",
    "# potential_outliers.append(df[df['2ndFlrSF'] > 2000].index.values.tolist())\n",
    "# potential_outliers.append(df[df.OpenPorchSF > 550].index.values.tolist())\n",
    "# potential_outliers.append(df[df.EnclosedPorch > 550].index.values.tolist())\n",
    "# potential_outliers.append(df[df.OpenPorchSF > 550].index.values.tolist())\n",
    "# potential_outliers.append(df[df.OpenPorchSF > 550].index.values.tolist())"
   ]
  },
  {
   "cell_type": "code",
   "execution_count": 207,
   "metadata": {},
   "outputs": [
    {
     "data": {
      "text/plain": [
       "<AxesSubplot:>"
      ]
     },
     "execution_count": 207,
     "metadata": {},
     "output_type": "execute_result"
    },
    {
     "data": {
      "image/png": "[encoded data removed]",
      "text/plain": [
       "<Figure size 432x288 with 1 Axes>"
      ]
     },
     "metadata": {
      "needs_background": "light"
     },
     "output_type": "display_data"
    }
   ],
   "source": [
    "y.hist(bins=50)"
   ]
  },
  {
   "cell_type": "code",
   "execution_count": 152,
   "metadata": {},
   "outputs": [
    {
     "data": {
      "text/plain": [
       "Int64Index([198, 2504, 2568], dtype='int64', name='Id')"
      ]
     },
     "execution_count": 152,
     "metadata": {},
     "output_type": "execute_result"
    }
   ],
   "source": [
    "df[df.EnclosedPorch > 550].index"
   ]
  },
  {
   "cell_type": "code",
   "execution_count": 138,
   "metadata": {},
   "outputs": [
    {
     "data": {
      "text/plain": [
       "array([1183])"
      ]
     },
     "execution_count": 138,
     "metadata": {},
     "output_type": "execute_result"
    }
   ],
   "source": [
    "df[df['2FlrSF'] > 2000].index.values"
   ]
  },
  {
   "cell_type": "code",
   "execution_count": 479,
   "metadata": {},
   "outputs": [],
   "source": [
    "df = df.drop(outliers, axis=0)"
   ]
  },
  {
   "cell_type": "code",
   "execution_count": 222,
   "metadata": {},
   "outputs": [],
   "source": [
    "# df = df.drop(['SalePrice'], axis=1)"
   ]
  },
  {
   "cell_type": "markdown",
   "metadata": {},
   "source": [
    "## Fix skewness"
   ]
  },
  {
   "cell_type": "code",
   "execution_count": 480,
   "metadata": {
    "scrolled": true
   },
   "outputs": [
    {
     "data": {
      "text/plain": [
       "<AxesSubplot:>"
      ]
     },
     "execution_count": 480,
     "metadata": {},
     "output_type": "execute_result"
    },
    {
     "data": {
      "image/png": "[encoded data removed]",
      "text/plain": [
       "<Figure size 432x288 with 1 Axes>"
      ]
     },
     "metadata": {
      "needs_background": "light"
     },
     "output_type": "display_data"
    }
   ],
   "source": [
    "y = np.log1p(y)\n",
    "y.hist()"
   ]
  },
  {
   "cell_type": "code",
   "execution_count": 481,
   "metadata": {},
   "outputs": [],
   "source": [
    "from scipy.stats import norm, skew"
   ]
  },
  {
   "cell_type": "code",
   "execution_count": 482,
   "metadata": {
    "scrolled": true
   },
   "outputs": [
    {
     "data": {
      "text/plain": [
       "MiscVal          21.955112\n",
       "PoolQC           19.548879\n",
       "PoolArea         17.688664\n",
       "LotArea          12.904198\n",
       "LowQualFinSF     12.084539\n",
       "3SsnPorch        11.372080\n",
       "KitchenAbvGr      4.300550\n",
       "BsmtFinSF2        4.145847\n",
       "Alley             4.136731\n",
       "EnclosedPorch     4.002344\n",
       "ScreenPorch       3.945101\n",
       "BsmtHalfBath      3.929996\n",
       "BsmtFinType2      3.159290\n",
       "RecentRemodel     3.065363\n",
       "MasVnrArea        2.616780\n",
       "OpenPorchSF       2.538830\n",
       "LotConfig         2.123768\n",
       "WoodDeckSF        1.835145\n",
       "Fence             1.753731\n",
       "MSSubClass        1.374702\n",
       "ExterCond         1.315069\n",
       "1stFlrSF          1.282669\n",
       "LotShape          1.247973\n",
       "GrLivArea         1.128698\n",
       "BsmtExposure      1.119066\n",
       "TotalSF           1.083281\n",
       "LotFrontage       1.060208\n",
       "BsmtFinSF1        0.992957\n",
       "BsmtUnfSF         0.918657\n",
       "2ndFlrSF          0.862438\n",
       "ExterQual         0.784392\n",
       "TotRmsAbvGrd      0.751803\n",
       "Fireplaces        0.725036\n",
       "BsmtQual         -1.270529\n",
       "MSZoning         -2.660058\n",
       "GarageQual       -3.262260\n",
       "GarageCond       -3.381673\n",
       "LandContour      -3.413408\n",
       "BsmtCond         -3.602661\n",
       "GarageYrBlt      -3.905243\n",
       "LandSlope        -4.972836\n",
       "Functional       -5.133502\n",
       "Street          -16.192146\n",
       "Utilities       -53.981481\n",
       "dtype: float64"
      ]
     },
     "execution_count": 482,
     "metadata": {},
     "output_type": "execute_result"
    }
   ],
   "source": [
    "numeric_feats = df.dtypes[df.dtypes != 'object'].index\n",
    "skewed_feats = df[numeric_feats].apply(lambda x: skew(x)).sort_values(ascending=False)\n",
    "high_skew = skewed_feats[abs(skewed_feats) > 0.7]\n",
    "high_skew.head(50)"
   ]
  },
  {
   "cell_type": "code",
   "execution_count": 483,
   "metadata": {},
   "outputs": [],
   "source": [
    "for feature in high_skew.index:\n",
    "    df[feature] = np.log1p(df[feature])"
   ]
  },
  {
   "cell_type": "code",
   "execution_count": 35,
   "metadata": {},
   "outputs": [
    {
     "name": "stderr",
     "output_type": "stream",
     "text": [
      "/Users/yulialysenko/opt/anaconda3/lib/python3.7/site-packages/ipykernel_launcher.py:2: RuntimeWarning: More than 20 figures have been opened. Figures created through the pyplot interface (`matplotlib.pyplot.figure`) are retained until explicitly closed and may consume too much memory. (To control this warning, see the rcParam `figure.max_open_warning`).\n",
      "  \n"
     ]
    },
    {
     "data": {
      "image/png": "[encoded data removed]",
      "text/plain": [
       "<Figure size 432x288 with 1 Axes>"
      ]
     },
     "metadata": {
      "needs_background": "light"
     },
     "output_type": "display_data"
    },
    {
     "data": {
      "image/png": "[encoded data removed]",
      "text/plain": [
       "<Figure size 432x288 with 1 Axes>"
      ]
     },
     "metadata": {
      "needs_background": "light"
     },
     "output_type": "display_data"
    },
    {
     "data": {
      "image/png": "[encoded data removed]",
      "text/plain": [
       "<Figure size 432x288 with 1 Axes>"
      ]
     },
     "metadata": {
      "needs_background": "light"
     },
     "output_type": "display_data"
    },
    {
     "data": {
      "image/png": "[encoded data removed]",
      "text/plain": [
       "<Figure size 432x288 with 1 Axes>"
      ]
     },
     "metadata": {
      "needs_background": "light"
     },
     "output_type": "display_data"
    },
    {
     "data": {
      "image/png": "[encoded data removed]",
      "text/plain": [
       "<Figure size 432x288 with 1 Axes>"
      ]
     },
     "metadata": {
      "needs_background": "light"
     },
     "output_type": "display_data"
    },
    {
     "data": {
      "image/png": "[encoded data removed]",
      "text/plain": [
       "<Figure size 432x288 with 1 Axes>"
      ]
     },
     "metadata": {
      "needs_background": "light"
     },
     "output_type": "display_data"
    },
    {
     "data": {
      "image/png": "[encoded data removed]",
      "text/plain": [
       "<Figure size 432x288 with 1 Axes>"
      ]
     },
     "metadata": {
      "needs_background": "light"
     },
     "output_type": "display_data"
    },
    {
     "data": {
      "image/png": "[encoded data removed]",
      "text/plain": [
       "<Figure size 432x288 with 1 Axes>"
      ]
     },
     "metadata": {
      "needs_background": "light"
     },
     "output_type": "display_data"
    },
    {
     "data": {
      "image/png": "[encoded data removed]",
      "text/plain": [
       "<Figure size 432x288 with 1 Axes>"
      ]
     },
     "metadata": {
      "needs_background": "light"
     },
     "output_type": "display_data"
    },
    {
     "data": {
      "image/png": "[encoded data removed]",
      "text/plain": [
       "<Figure size 432x288 with 1 Axes>"
      ]
     },
     "metadata": {
      "needs_background": "light"
     },
     "output_type": "display_data"
    },
    {
     "data": {
      "image/png": "[encoded data removed]",
      "text/plain": [
       "<Figure size 432x288 with 1 Axes>"
      ]
     },
     "metadata": {
      "needs_background": "light"
     },
     "output_type": "display_data"
    },
    {
     "data": {
      "image/png": "[encoded data removed]",
      "text/plain": [
       "<Figure size 432x288 with 1 Axes>"
      ]
     },
     "metadata": {
      "needs_background": "light"
     },
     "output_type": "display_data"
    },
    {
     "data": {
      "image/png": "[encoded data removed]",
      "text/plain": [
       "<Figure size 432x288 with 1 Axes>"
      ]
     },
     "metadata": {
      "needs_background": "light"
     },
     "output_type": "display_data"
    },
    {
     "data": {
      "image/png": "[encoded data removed]",
      "text/plain": [
       "<Figure size 432x288 with 1 Axes>"
      ]
     },
     "metadata": {
      "needs_background": "light"
     },
     "output_type": "display_data"
    },
    {
     "data": {
      "image/png": "[encoded data removed]",
      "text/plain": [
       "<Figure size 432x288 with 1 Axes>"
      ]
     },
     "metadata": {
      "needs_background": "light"
     },
     "output_type": "display_data"
    },
    {
     "data": {
      "image/png": "[encoded data removed]",
      "text/plain": [
       "<Figure size 432x288 with 1 Axes>"
      ]
     },
     "metadata": {
      "needs_background": "light"
     },
     "output_type": "display_data"
    },
    {
     "data": {
      "image/png": "[encoded data removed]",
      "text/plain": [
       "<Figure size 432x288 with 1 Axes>"
      ]
     },
     "metadata": {
      "needs_background": "light"
     },
     "output_type": "display_data"
    },
    {
     "data": {
      "image/png": "[encoded data removed]",
      "text/plain": [
       "<Figure size 432x288 with 1 Axes>"
      ]
     },
     "metadata": {
      "needs_background": "light"
     },
     "output_type": "display_data"
    },
    {
     "data": {
      "image/png": "[encoded data removed]",
      "text/plain": [
       "<Figure size 432x288 with 1 Axes>"
      ]
     },
     "metadata": {
      "needs_background": "light"
     },
     "output_type": "display_data"
    },
    {
     "data": {
      "image/png": "[encoded data removed]",
      "text/plain": [
       "<Figure size 432x288 with 1 Axes>"
      ]
     },
     "metadata": {
      "needs_background": "light"
     },
     "output_type": "display_data"
    },
    {
     "data": {
      "image/png": "[encoded data removed]",
      "text/plain": [
       "<Figure size 432x288 with 1 Axes>"
      ]
     },
     "metadata": {
      "needs_background": "light"
     },
     "output_type": "display_data"
    },
    {
     "data": {
      "image/png": "[encoded data removed]",
      "text/plain": [
       "<Figure size 432x288 with 1 Axes>"
      ]
     },
     "metadata": {
      "needs_background": "light"
     },
     "output_type": "display_data"
    },
    {
     "data": {
      "image/png": "[encoded data removed]",
      "text/plain": [
       "<Figure size 432x288 with 1 Axes>"
      ]
     },
     "metadata": {
      "needs_background": "light"
     },
     "output_type": "display_data"
    },
    {
     "data": {
      "image/png": "[encoded data removed]",
      "text/plain": [
       "<Figure size 432x288 with 1 Axes>"
      ]
     },
     "metadata": {
      "needs_background": "light"
     },
     "output_type": "display_data"
    },
    {
     "data": {
      "image/png": "[encoded data removed]",
      "text/plain": [
       "<Figure size 432x288 with 1 Axes>"
      ]
     },
     "metadata": {
      "needs_background": "light"
     },
     "output_type": "display_data"
    },
    {
     "data": {
      "image/png": "[encoded data removed]",
      "text/plain": [
       "<Figure size 432x288 with 1 Axes>"
      ]
     },
     "metadata": {
      "needs_background": "light"
     },
     "output_type": "display_data"
    },
    {
     "data": {
      "image/png": "[encoded data removed]",
      "text/plain": [
       "<Figure size 432x288 with 1 Axes>"
      ]
     },
     "metadata": {
      "needs_background": "light"
     },
     "output_type": "display_data"
    }
   ],
   "source": [
    "# for i, feature in enumerate(high_skew.index):\n",
    "#     plt.figure(i)\n",
    "#     plt.title(feature)\n",
    "#     (np.log1p(df[feature])).hist(bins = 50)\n",
    "#     (df[feature]).hist(bins = 50, density = False)\n",
    "\n",
    "# for feature in high_skew[:5].index:\n",
    "#     matplotlib.pyplot.subplot(nrows, ncols, r) \n",
    "#     plt.hist() \n",
    "    \n",
    "#     (np.log1p(df[feature])).hist()"
   ]
  },
  {
   "cell_type": "code",
   "execution_count": null,
   "metadata": {},
   "outputs": [],
   "source": []
  },
  {
   "cell_type": "code",
   "execution_count": null,
   "metadata": {},
   "outputs": [],
   "source": []
  },
  {
   "cell_type": "markdown",
   "metadata": {},
   "source": [
    "### Delete variables with low correlation with the price"
   ]
  },
  {
   "cell_type": "code",
   "execution_count": 43,
   "metadata": {},
   "outputs": [],
   "source": [
    "corr = df.corrwith(y)#[\"SalePrice\"]"
   ]
  },
  {
   "cell_type": "code",
   "execution_count": 44,
   "metadata": {
    "scrolled": true
   },
   "outputs": [
    {
     "data": {
      "text/plain": [
       "MSSubClass     -0.020279\n",
       "OverallCond    -0.036868\n",
       "BsmtFinSF2     -0.030361\n",
       "BsmtHalfBath   -0.004890\n",
       "YrSold         -0.037263\n",
       "dtype: float64"
      ]
     },
     "execution_count": 44,
     "metadata": {},
     "output_type": "execute_result"
    }
   ],
   "source": [
    "corr[abs(corr) < 0.05]"
   ]
  },
  {
   "cell_type": "code",
   "execution_count": 45,
   "metadata": {},
   "outputs": [],
   "source": [
    "low_corr = corr[abs(corr) < 0.05].index#[\"LowQualFinSF\", \"MiscVal\", \"YrSold\", \"OverallCond\"]"
   ]
  },
  {
   "cell_type": "code",
   "execution_count": 46,
   "metadata": {},
   "outputs": [],
   "source": [
    "df = df.drop(low_corr, axis=1)"
   ]
  },
  {
   "cell_type": "markdown",
   "metadata": {},
   "source": [
    "## Adding categorical columns"
   ]
  },
  {
   "cell_type": "code",
   "execution_count": 484,
   "metadata": {},
   "outputs": [],
   "source": [
    "df = pd.get_dummies(df)\n"
   ]
  },
  {
   "cell_type": "code",
   "execution_count": 485,
   "metadata": {},
   "outputs": [
    {
     "data": {
      "text/html": [
       "<div>\n",
       "<style scoped>\n",
       "    .dataframe tbody tr th:only-of-type {\n",
       "        vertical-align: middle;\n",
       "    }\n",
       "\n",
       "    .dataframe tbody tr th {\n",
       "        vertical-align: top;\n",
       "    }\n",
       "\n",
       "    .dataframe thead th {\n",
       "        text-align: right;\n",
       "    }\n",
       "</style>\n",
       "<table border=\"1\" class=\"dataframe\">\n",
       "  <thead>\n",
       "    <tr style=\"text-align: right;\">\n",
       "      <th></th>\n",
       "      <th>MSSubClass</th>\n",
       "      <th>MSZoning</th>\n",
       "      <th>LotFrontage</th>\n",
       "      <th>LotArea</th>\n",
       "      <th>Street</th>\n",
       "      <th>Alley</th>\n",
       "      <th>LotShape</th>\n",
       "      <th>LandContour</th>\n",
       "      <th>Utilities</th>\n",
       "      <th>LotConfig</th>\n",
       "      <th>...</th>\n",
       "      <th>SaleType_ConLw</th>\n",
       "      <th>SaleType_New</th>\n",
       "      <th>SaleType_Oth</th>\n",
       "      <th>SaleType_WD</th>\n",
       "      <th>SaleCondition_Abnorml</th>\n",
       "      <th>SaleCondition_AdjLand</th>\n",
       "      <th>SaleCondition_Alloca</th>\n",
       "      <th>SaleCondition_Family</th>\n",
       "      <th>SaleCondition_Normal</th>\n",
       "      <th>SaleCondition_Partial</th>\n",
       "    </tr>\n",
       "    <tr>\n",
       "      <th>Id</th>\n",
       "      <th></th>\n",
       "      <th></th>\n",
       "      <th></th>\n",
       "      <th></th>\n",
       "      <th></th>\n",
       "      <th></th>\n",
       "      <th></th>\n",
       "      <th></th>\n",
       "      <th></th>\n",
       "      <th></th>\n",
       "      <th></th>\n",
       "      <th></th>\n",
       "      <th></th>\n",
       "      <th></th>\n",
       "      <th></th>\n",
       "      <th></th>\n",
       "      <th></th>\n",
       "      <th></th>\n",
       "      <th></th>\n",
       "      <th></th>\n",
       "      <th></th>\n",
       "    </tr>\n",
       "  </thead>\n",
       "  <tbody>\n",
       "    <tr>\n",
       "      <th>1</th>\n",
       "      <td>4.110874</td>\n",
       "      <td>1.791759</td>\n",
       "      <td>4.189655</td>\n",
       "      <td>9.042040</td>\n",
       "      <td>1.098612</td>\n",
       "      <td>0.0</td>\n",
       "      <td>0.693147</td>\n",
       "      <td>1.609438</td>\n",
       "      <td>1.609438</td>\n",
       "      <td>0.693147</td>\n",
       "      <td>...</td>\n",
       "      <td>0</td>\n",
       "      <td>0</td>\n",
       "      <td>0</td>\n",
       "      <td>1</td>\n",
       "      <td>0</td>\n",
       "      <td>0</td>\n",
       "      <td>0</td>\n",
       "      <td>0</td>\n",
       "      <td>1</td>\n",
       "      <td>0</td>\n",
       "    </tr>\n",
       "    <tr>\n",
       "      <th>2</th>\n",
       "      <td>3.044522</td>\n",
       "      <td>1.791759</td>\n",
       "      <td>4.394449</td>\n",
       "      <td>9.169623</td>\n",
       "      <td>1.098612</td>\n",
       "      <td>0.0</td>\n",
       "      <td>0.693147</td>\n",
       "      <td>1.609438</td>\n",
       "      <td>1.609438</td>\n",
       "      <td>1.609438</td>\n",
       "      <td>...</td>\n",
       "      <td>0</td>\n",
       "      <td>0</td>\n",
       "      <td>0</td>\n",
       "      <td>1</td>\n",
       "      <td>0</td>\n",
       "      <td>0</td>\n",
       "      <td>0</td>\n",
       "      <td>0</td>\n",
       "      <td>1</td>\n",
       "      <td>0</td>\n",
       "    </tr>\n",
       "    <tr>\n",
       "      <th>3</th>\n",
       "      <td>4.110874</td>\n",
       "      <td>1.791759</td>\n",
       "      <td>4.234107</td>\n",
       "      <td>9.328212</td>\n",
       "      <td>1.098612</td>\n",
       "      <td>0.0</td>\n",
       "      <td>1.098612</td>\n",
       "      <td>1.609438</td>\n",
       "      <td>1.609438</td>\n",
       "      <td>0.693147</td>\n",
       "      <td>...</td>\n",
       "      <td>0</td>\n",
       "      <td>0</td>\n",
       "      <td>0</td>\n",
       "      <td>1</td>\n",
       "      <td>0</td>\n",
       "      <td>0</td>\n",
       "      <td>0</td>\n",
       "      <td>0</td>\n",
       "      <td>1</td>\n",
       "      <td>0</td>\n",
       "    </tr>\n",
       "    <tr>\n",
       "      <th>4</th>\n",
       "      <td>4.262680</td>\n",
       "      <td>1.791759</td>\n",
       "      <td>4.110874</td>\n",
       "      <td>9.164401</td>\n",
       "      <td>1.098612</td>\n",
       "      <td>0.0</td>\n",
       "      <td>1.098612</td>\n",
       "      <td>1.609438</td>\n",
       "      <td>1.609438</td>\n",
       "      <td>1.098612</td>\n",
       "      <td>...</td>\n",
       "      <td>0</td>\n",
       "      <td>0</td>\n",
       "      <td>0</td>\n",
       "      <td>1</td>\n",
       "      <td>1</td>\n",
       "      <td>0</td>\n",
       "      <td>0</td>\n",
       "      <td>0</td>\n",
       "      <td>0</td>\n",
       "      <td>0</td>\n",
       "    </tr>\n",
       "    <tr>\n",
       "      <th>5</th>\n",
       "      <td>4.110874</td>\n",
       "      <td>1.791759</td>\n",
       "      <td>4.442651</td>\n",
       "      <td>9.565284</td>\n",
       "      <td>1.098612</td>\n",
       "      <td>0.0</td>\n",
       "      <td>1.098612</td>\n",
       "      <td>1.609438</td>\n",
       "      <td>1.609438</td>\n",
       "      <td>1.609438</td>\n",
       "      <td>...</td>\n",
       "      <td>0</td>\n",
       "      <td>0</td>\n",
       "      <td>0</td>\n",
       "      <td>1</td>\n",
       "      <td>0</td>\n",
       "      <td>0</td>\n",
       "      <td>0</td>\n",
       "      <td>0</td>\n",
       "      <td>1</td>\n",
       "      <td>0</td>\n",
       "    </tr>\n",
       "  </tbody>\n",
       "</table>\n",
       "<p>5 rows × 213 columns</p>\n",
       "</div>"
      ],
      "text/plain": [
       "    MSSubClass  MSZoning  LotFrontage   LotArea    Street  Alley  LotShape  \\\n",
       "Id                                                                           \n",
       "1     4.110874  1.791759     4.189655  9.042040  1.098612    0.0  0.693147   \n",
       "2     3.044522  1.791759     4.394449  9.169623  1.098612    0.0  0.693147   \n",
       "3     4.110874  1.791759     4.234107  9.328212  1.098612    0.0  1.098612   \n",
       "4     4.262680  1.791759     4.110874  9.164401  1.098612    0.0  1.098612   \n",
       "5     4.110874  1.791759     4.442651  9.565284  1.098612    0.0  1.098612   \n",
       "\n",
       "    LandContour  Utilities  LotConfig  ...  SaleType_ConLw  SaleType_New  \\\n",
       "Id                                     ...                                 \n",
       "1      1.609438   1.609438   0.693147  ...               0             0   \n",
       "2      1.609438   1.609438   1.609438  ...               0             0   \n",
       "3      1.609438   1.609438   0.693147  ...               0             0   \n",
       "4      1.609438   1.609438   1.098612  ...               0             0   \n",
       "5      1.609438   1.609438   1.609438  ...               0             0   \n",
       "\n",
       "    SaleType_Oth  SaleType_WD  SaleCondition_Abnorml  SaleCondition_AdjLand  \\\n",
       "Id                                                                            \n",
       "1              0            1                      0                      0   \n",
       "2              0            1                      0                      0   \n",
       "3              0            1                      0                      0   \n",
       "4              0            1                      1                      0   \n",
       "5              0            1                      0                      0   \n",
       "\n",
       "    SaleCondition_Alloca  SaleCondition_Family  SaleCondition_Normal  \\\n",
       "Id                                                                     \n",
       "1                      0                     0                     1   \n",
       "2                      0                     0                     1   \n",
       "3                      0                     0                     1   \n",
       "4                      0                     0                     0   \n",
       "5                      0                     0                     1   \n",
       "\n",
       "    SaleCondition_Partial  \n",
       "Id                         \n",
       "1                       0  \n",
       "2                       0  \n",
       "3                       0  \n",
       "4                       0  \n",
       "5                       0  \n",
       "\n",
       "[5 rows x 213 columns]"
      ]
     },
     "execution_count": 485,
     "metadata": {},
     "output_type": "execute_result"
    }
   ],
   "source": [
    "df.head()"
   ]
  },
  {
   "cell_type": "markdown",
   "metadata": {},
   "source": [
    "### Divide into train and test"
   ]
  },
  {
   "cell_type": "code",
   "execution_count": 486,
   "metadata": {},
   "outputs": [],
   "source": [
    "train = df[:len(train_data)-len(outliers)]\n",
    "test = df[len(train_data)-len(outliers):]"
   ]
  },
  {
   "cell_type": "code",
   "execution_count": 487,
   "metadata": {},
   "outputs": [
    {
     "name": "stdout",
     "output_type": "stream",
     "text": [
      "(1458, 213) (1459, 213) (1460, 80)\n"
     ]
    }
   ],
   "source": [
    "print(train.shape, test.shape, train_data.shape)"
   ]
  },
  {
   "cell_type": "code",
   "execution_count": 488,
   "metadata": {},
   "outputs": [],
   "source": [
    "X = train"
   ]
  },
  {
   "cell_type": "code",
   "execution_count": 489,
   "metadata": {},
   "outputs": [],
   "source": [
    "y = y.drop(outliers)"
   ]
  },
  {
   "cell_type": "code",
   "execution_count": 47,
   "metadata": {},
   "outputs": [],
   "source": [
    "# y = train_data.SalePrice\n",
    "# X = train_data.drop([\"SalePrice\"], axis=1)\n",
    "# X = pd.get_dummies(X)"
   ]
  },
  {
   "cell_type": "markdown",
   "metadata": {},
   "source": [
    "## Training"
   ]
  },
  {
   "cell_type": "code",
   "execution_count": 490,
   "metadata": {},
   "outputs": [],
   "source": [
    "X_train, X_test, y_train, y_test = train_test_split(X, y, test_size=0.33, random_state=42)"
   ]
  },
  {
   "cell_type": "code",
   "execution_count": 491,
   "metadata": {
    "scrolled": true
   },
   "outputs": [
    {
     "data": {
      "text/html": [
       "<div>\n",
       "<style scoped>\n",
       "    .dataframe tbody tr th:only-of-type {\n",
       "        vertical-align: middle;\n",
       "    }\n",
       "\n",
       "    .dataframe tbody tr th {\n",
       "        vertical-align: top;\n",
       "    }\n",
       "\n",
       "    .dataframe thead th {\n",
       "        text-align: right;\n",
       "    }\n",
       "</style>\n",
       "<table border=\"1\" class=\"dataframe\">\n",
       "  <thead>\n",
       "    <tr style=\"text-align: right;\">\n",
       "      <th></th>\n",
       "      <th>MSSubClass</th>\n",
       "      <th>MSZoning</th>\n",
       "      <th>LotFrontage</th>\n",
       "      <th>LotArea</th>\n",
       "      <th>Street</th>\n",
       "      <th>Alley</th>\n",
       "      <th>LotShape</th>\n",
       "      <th>LandContour</th>\n",
       "      <th>Utilities</th>\n",
       "      <th>LotConfig</th>\n",
       "      <th>...</th>\n",
       "      <th>SaleType_ConLw</th>\n",
       "      <th>SaleType_New</th>\n",
       "      <th>SaleType_Oth</th>\n",
       "      <th>SaleType_WD</th>\n",
       "      <th>SaleCondition_Abnorml</th>\n",
       "      <th>SaleCondition_AdjLand</th>\n",
       "      <th>SaleCondition_Alloca</th>\n",
       "      <th>SaleCondition_Family</th>\n",
       "      <th>SaleCondition_Normal</th>\n",
       "      <th>SaleCondition_Partial</th>\n",
       "    </tr>\n",
       "    <tr>\n",
       "      <th>Id</th>\n",
       "      <th></th>\n",
       "      <th></th>\n",
       "      <th></th>\n",
       "      <th></th>\n",
       "      <th></th>\n",
       "      <th></th>\n",
       "      <th></th>\n",
       "      <th></th>\n",
       "      <th></th>\n",
       "      <th></th>\n",
       "      <th></th>\n",
       "      <th></th>\n",
       "      <th></th>\n",
       "      <th></th>\n",
       "      <th></th>\n",
       "      <th></th>\n",
       "      <th></th>\n",
       "      <th></th>\n",
       "      <th></th>\n",
       "      <th></th>\n",
       "      <th></th>\n",
       "    </tr>\n",
       "  </thead>\n",
       "  <tbody>\n",
       "    <tr>\n",
       "      <th>1323</th>\n",
       "      <td>4.110874</td>\n",
       "      <td>1.791759</td>\n",
       "      <td>4.682131</td>\n",
       "      <td>9.228868</td>\n",
       "      <td>1.098612</td>\n",
       "      <td>0.0</td>\n",
       "      <td>1.098612</td>\n",
       "      <td>1.609438</td>\n",
       "      <td>1.609438</td>\n",
       "      <td>0.693147</td>\n",
       "      <td>...</td>\n",
       "      <td>0</td>\n",
       "      <td>0</td>\n",
       "      <td>0</td>\n",
       "      <td>1</td>\n",
       "      <td>0</td>\n",
       "      <td>0</td>\n",
       "      <td>0</td>\n",
       "      <td>0</td>\n",
       "      <td>1</td>\n",
       "      <td>0</td>\n",
       "    </tr>\n",
       "    <tr>\n",
       "      <th>838</th>\n",
       "      <td>5.081404</td>\n",
       "      <td>1.609438</td>\n",
       "      <td>3.091042</td>\n",
       "      <td>7.427144</td>\n",
       "      <td>1.098612</td>\n",
       "      <td>0.0</td>\n",
       "      <td>0.693147</td>\n",
       "      <td>1.609438</td>\n",
       "      <td>1.609438</td>\n",
       "      <td>0.693147</td>\n",
       "      <td>...</td>\n",
       "      <td>0</td>\n",
       "      <td>0</td>\n",
       "      <td>0</td>\n",
       "      <td>1</td>\n",
       "      <td>0</td>\n",
       "      <td>0</td>\n",
       "      <td>0</td>\n",
       "      <td>0</td>\n",
       "      <td>1</td>\n",
       "      <td>0</td>\n",
       "    </tr>\n",
       "    <tr>\n",
       "      <th>415</th>\n",
       "      <td>4.110874</td>\n",
       "      <td>1.791759</td>\n",
       "      <td>4.094345</td>\n",
       "      <td>9.326255</td>\n",
       "      <td>1.098612</td>\n",
       "      <td>0.0</td>\n",
       "      <td>1.386294</td>\n",
       "      <td>1.609438</td>\n",
       "      <td>1.609438</td>\n",
       "      <td>1.386294</td>\n",
       "      <td>...</td>\n",
       "      <td>0</td>\n",
       "      <td>0</td>\n",
       "      <td>0</td>\n",
       "      <td>1</td>\n",
       "      <td>0</td>\n",
       "      <td>0</td>\n",
       "      <td>0</td>\n",
       "      <td>0</td>\n",
       "      <td>1</td>\n",
       "      <td>0</td>\n",
       "    </tr>\n",
       "    <tr>\n",
       "      <th>524</th>\n",
       "      <td>4.110874</td>\n",
       "      <td>1.791759</td>\n",
       "      <td>4.875197</td>\n",
       "      <td>10.599007</td>\n",
       "      <td>1.098612</td>\n",
       "      <td>0.0</td>\n",
       "      <td>1.098612</td>\n",
       "      <td>1.386294</td>\n",
       "      <td>1.609438</td>\n",
       "      <td>0.693147</td>\n",
       "      <td>...</td>\n",
       "      <td>0</td>\n",
       "      <td>1</td>\n",
       "      <td>0</td>\n",
       "      <td>0</td>\n",
       "      <td>0</td>\n",
       "      <td>0</td>\n",
       "      <td>0</td>\n",
       "      <td>0</td>\n",
       "      <td>0</td>\n",
       "      <td>1</td>\n",
       "    </tr>\n",
       "    <tr>\n",
       "      <th>1037</th>\n",
       "      <td>3.044522</td>\n",
       "      <td>1.791759</td>\n",
       "      <td>4.499810</td>\n",
       "      <td>9.464905</td>\n",
       "      <td>1.098612</td>\n",
       "      <td>0.0</td>\n",
       "      <td>1.098612</td>\n",
       "      <td>1.098612</td>\n",
       "      <td>1.609438</td>\n",
       "      <td>0.693147</td>\n",
       "      <td>...</td>\n",
       "      <td>0</td>\n",
       "      <td>0</td>\n",
       "      <td>0</td>\n",
       "      <td>1</td>\n",
       "      <td>0</td>\n",
       "      <td>0</td>\n",
       "      <td>0</td>\n",
       "      <td>0</td>\n",
       "      <td>1</td>\n",
       "      <td>0</td>\n",
       "    </tr>\n",
       "  </tbody>\n",
       "</table>\n",
       "<p>5 rows × 213 columns</p>\n",
       "</div>"
      ],
      "text/plain": [
       "      MSSubClass  MSZoning  LotFrontage    LotArea    Street  Alley  LotShape  \\\n",
       "Id                                                                              \n",
       "1323    4.110874  1.791759     4.682131   9.228868  1.098612    0.0  1.098612   \n",
       "838     5.081404  1.609438     3.091042   7.427144  1.098612    0.0  0.693147   \n",
       "415     4.110874  1.791759     4.094345   9.326255  1.098612    0.0  1.386294   \n",
       "524     4.110874  1.791759     4.875197  10.599007  1.098612    0.0  1.098612   \n",
       "1037    3.044522  1.791759     4.499810   9.464905  1.098612    0.0  1.098612   \n",
       "\n",
       "      LandContour  Utilities  LotConfig  ...  SaleType_ConLw  SaleType_New  \\\n",
       "Id                                       ...                                 \n",
       "1323     1.609438   1.609438   0.693147  ...               0             0   \n",
       "838      1.609438   1.609438   0.693147  ...               0             0   \n",
       "415      1.609438   1.609438   1.386294  ...               0             0   \n",
       "524      1.386294   1.609438   0.693147  ...               0             1   \n",
       "1037     1.098612   1.609438   0.693147  ...               0             0   \n",
       "\n",
       "      SaleType_Oth  SaleType_WD  SaleCondition_Abnorml  SaleCondition_AdjLand  \\\n",
       "Id                                                                              \n",
       "1323             0            1                      0                      0   \n",
       "838              0            1                      0                      0   \n",
       "415              0            1                      0                      0   \n",
       "524              0            0                      0                      0   \n",
       "1037             0            1                      0                      0   \n",
       "\n",
       "      SaleCondition_Alloca  SaleCondition_Family  SaleCondition_Normal  \\\n",
       "Id                                                                       \n",
       "1323                     0                     0                     1   \n",
       "838                      0                     0                     1   \n",
       "415                      0                     0                     1   \n",
       "524                      0                     0                     0   \n",
       "1037                     0                     0                     1   \n",
       "\n",
       "      SaleCondition_Partial  \n",
       "Id                           \n",
       "1323                      0  \n",
       "838                       0  \n",
       "415                       0  \n",
       "524                       1  \n",
       "1037                      0  \n",
       "\n",
       "[5 rows x 213 columns]"
      ]
     },
     "execution_count": 491,
     "metadata": {},
     "output_type": "execute_result"
    }
   ],
   "source": [
    "X_test.head()"
   ]
  },
  {
   "cell_type": "code",
   "execution_count": 492,
   "metadata": {},
   "outputs": [],
   "source": [
    "from sklearn.ensemble import RandomForestRegressor\n",
    "from sklearn.model_selection import GridSearchCV"
   ]
  },
  {
   "cell_type": "code",
   "execution_count": 493,
   "metadata": {},
   "outputs": [],
   "source": [
    "rf = RandomForestRegressor()\n",
    "rf.fit(X_train, y_train)\n",
    "prediction_rf = rf.predict(X_test)\n"
   ]
  },
  {
   "cell_type": "code",
   "execution_count": 494,
   "metadata": {},
   "outputs": [],
   "source": [
    "from catboost import CatBoostRegressor"
   ]
  },
  {
   "cell_type": "code",
   "execution_count": 495,
   "metadata": {},
   "outputs": [
    {
     "name": "stdout",
     "output_type": "stream",
     "text": [
      "Learning rate set to 0.038862\n",
      "0:\tlearn: 0.3888590\ttotal: 9.96ms\tremaining: 9.95s\n",
      "1:\tlearn: 0.3794231\ttotal: 14.4ms\tremaining: 7.2s\n",
      "2:\tlearn: 0.3696288\ttotal: 18ms\tremaining: 5.98s\n",
      "3:\tlearn: 0.3606263\ttotal: 21.6ms\tremaining: 5.38s\n",
      "4:\tlearn: 0.3520466\ttotal: 25.1ms\tremaining: 5s\n",
      "5:\tlearn: 0.3443273\ttotal: 28.6ms\tremaining: 4.73s\n",
      "6:\tlearn: 0.3365669\ttotal: 32ms\tremaining: 4.54s\n",
      "7:\tlearn: 0.3288510\ttotal: 35.8ms\tremaining: 4.43s\n",
      "8:\tlearn: 0.3214753\ttotal: 39.2ms\tremaining: 4.32s\n",
      "9:\tlearn: 0.3144798\ttotal: 42.5ms\tremaining: 4.21s\n",
      "10:\tlearn: 0.3073035\ttotal: 46.1ms\tremaining: 4.14s\n",
      "11:\tlearn: 0.3012012\ttotal: 49.6ms\tremaining: 4.08s\n",
      "12:\tlearn: 0.2946031\ttotal: 53.2ms\tremaining: 4.04s\n",
      "13:\tlearn: 0.2881745\ttotal: 56.6ms\tremaining: 3.99s\n",
      "14:\tlearn: 0.2822370\ttotal: 60ms\tremaining: 3.94s\n",
      "15:\tlearn: 0.2761810\ttotal: 63.5ms\tremaining: 3.91s\n",
      "16:\tlearn: 0.2705667\ttotal: 67.3ms\tremaining: 3.89s\n",
      "17:\tlearn: 0.2652218\ttotal: 70.8ms\tremaining: 3.86s\n",
      "18:\tlearn: 0.2596118\ttotal: 74.3ms\tremaining: 3.83s\n",
      "19:\tlearn: 0.2546914\ttotal: 78.1ms\tremaining: 3.83s\n",
      "20:\tlearn: 0.2493504\ttotal: 81.8ms\tremaining: 3.81s\n",
      "21:\tlearn: 0.2446069\ttotal: 85.4ms\tremaining: 3.79s\n",
      "22:\tlearn: 0.2405731\ttotal: 88.8ms\tremaining: 3.77s\n",
      "23:\tlearn: 0.2361674\ttotal: 92.3ms\tremaining: 3.75s\n",
      "24:\tlearn: 0.2317690\ttotal: 95.8ms\tremaining: 3.73s\n",
      "25:\tlearn: 0.2272168\ttotal: 99.3ms\tremaining: 3.72s\n",
      "26:\tlearn: 0.2233499\ttotal: 103ms\tremaining: 3.71s\n",
      "27:\tlearn: 0.2193254\ttotal: 106ms\tremaining: 3.69s\n",
      "28:\tlearn: 0.2157091\ttotal: 110ms\tremaining: 3.68s\n",
      "29:\tlearn: 0.2126108\ttotal: 113ms\tremaining: 3.67s\n",
      "30:\tlearn: 0.2088615\ttotal: 117ms\tremaining: 3.66s\n",
      "31:\tlearn: 0.2054576\ttotal: 121ms\tremaining: 3.65s\n",
      "32:\tlearn: 0.2028199\ttotal: 124ms\tremaining: 3.63s\n",
      "33:\tlearn: 0.1999024\ttotal: 128ms\tremaining: 3.63s\n",
      "34:\tlearn: 0.1970370\ttotal: 132ms\tremaining: 3.65s\n",
      "35:\tlearn: 0.1937733\ttotal: 138ms\tremaining: 3.7s\n",
      "36:\tlearn: 0.1909515\ttotal: 144ms\tremaining: 3.75s\n",
      "37:\tlearn: 0.1879583\ttotal: 150ms\tremaining: 3.79s\n",
      "38:\tlearn: 0.1851979\ttotal: 155ms\tremaining: 3.82s\n",
      "39:\tlearn: 0.1826916\ttotal: 159ms\tremaining: 3.83s\n",
      "40:\tlearn: 0.1802802\ttotal: 163ms\tremaining: 3.81s\n",
      "41:\tlearn: 0.1779239\ttotal: 169ms\tremaining: 3.85s\n",
      "42:\tlearn: 0.1759956\ttotal: 173ms\tremaining: 3.85s\n",
      "43:\tlearn: 0.1741069\ttotal: 177ms\tremaining: 3.85s\n",
      "44:\tlearn: 0.1717929\ttotal: 183ms\tremaining: 3.89s\n",
      "45:\tlearn: 0.1697661\ttotal: 190ms\tremaining: 3.93s\n",
      "46:\tlearn: 0.1679009\ttotal: 195ms\tremaining: 3.95s\n",
      "47:\tlearn: 0.1662338\ttotal: 200ms\tremaining: 3.97s\n",
      "48:\tlearn: 0.1643421\ttotal: 205ms\tremaining: 3.97s\n",
      "49:\tlearn: 0.1629128\ttotal: 210ms\tremaining: 3.98s\n",
      "50:\tlearn: 0.1611292\ttotal: 215ms\tremaining: 4s\n",
      "51:\tlearn: 0.1593867\ttotal: 220ms\tremaining: 4.01s\n",
      "52:\tlearn: 0.1576463\ttotal: 225ms\tremaining: 4.02s\n",
      "53:\tlearn: 0.1559533\ttotal: 231ms\tremaining: 4.05s\n",
      "54:\tlearn: 0.1543002\ttotal: 239ms\tremaining: 4.1s\n",
      "55:\tlearn: 0.1527875\ttotal: 244ms\tremaining: 4.11s\n",
      "56:\tlearn: 0.1513790\ttotal: 249ms\tremaining: 4.11s\n",
      "57:\tlearn: 0.1500890\ttotal: 254ms\tremaining: 4.13s\n",
      "58:\tlearn: 0.1487062\ttotal: 261ms\tremaining: 4.16s\n",
      "59:\tlearn: 0.1473605\ttotal: 266ms\tremaining: 4.16s\n",
      "60:\tlearn: 0.1461389\ttotal: 270ms\tremaining: 4.15s\n",
      "61:\tlearn: 0.1451064\ttotal: 274ms\tremaining: 4.15s\n",
      "62:\tlearn: 0.1439431\ttotal: 280ms\tremaining: 4.16s\n",
      "63:\tlearn: 0.1428344\ttotal: 287ms\tremaining: 4.19s\n",
      "64:\tlearn: 0.1418748\ttotal: 293ms\tremaining: 4.21s\n",
      "65:\tlearn: 0.1407185\ttotal: 299ms\tremaining: 4.23s\n",
      "66:\tlearn: 0.1397638\ttotal: 304ms\tremaining: 4.23s\n",
      "67:\tlearn: 0.1387039\ttotal: 310ms\tremaining: 4.25s\n",
      "68:\tlearn: 0.1375935\ttotal: 316ms\tremaining: 4.27s\n",
      "69:\tlearn: 0.1365217\ttotal: 324ms\tremaining: 4.3s\n",
      "70:\tlearn: 0.1355246\ttotal: 330ms\tremaining: 4.32s\n",
      "71:\tlearn: 0.1346537\ttotal: 335ms\tremaining: 4.32s\n",
      "72:\tlearn: 0.1336817\ttotal: 340ms\tremaining: 4.32s\n",
      "73:\tlearn: 0.1328212\ttotal: 345ms\tremaining: 4.31s\n",
      "74:\tlearn: 0.1320615\ttotal: 350ms\tremaining: 4.32s\n",
      "75:\tlearn: 0.1314605\ttotal: 355ms\tremaining: 4.32s\n",
      "76:\tlearn: 0.1306922\ttotal: 360ms\tremaining: 4.31s\n",
      "77:\tlearn: 0.1299673\ttotal: 365ms\tremaining: 4.31s\n",
      "78:\tlearn: 0.1292336\ttotal: 370ms\tremaining: 4.31s\n",
      "79:\tlearn: 0.1285902\ttotal: 375ms\tremaining: 4.32s\n",
      "80:\tlearn: 0.1278609\ttotal: 381ms\tremaining: 4.32s\n",
      "81:\tlearn: 0.1271253\ttotal: 388ms\tremaining: 4.34s\n",
      "82:\tlearn: 0.1264787\ttotal: 396ms\tremaining: 4.38s\n",
      "83:\tlearn: 0.1258805\ttotal: 403ms\tremaining: 4.4s\n",
      "84:\tlearn: 0.1251828\ttotal: 409ms\tremaining: 4.4s\n",
      "85:\tlearn: 0.1246703\ttotal: 417ms\tremaining: 4.43s\n",
      "86:\tlearn: 0.1241492\ttotal: 423ms\tremaining: 4.44s\n",
      "87:\tlearn: 0.1236044\ttotal: 428ms\tremaining: 4.44s\n",
      "88:\tlearn: 0.1230035\ttotal: 434ms\tremaining: 4.44s\n",
      "89:\tlearn: 0.1224313\ttotal: 442ms\tremaining: 4.47s\n",
      "90:\tlearn: 0.1218260\ttotal: 448ms\tremaining: 4.48s\n",
      "91:\tlearn: 0.1213997\ttotal: 457ms\tremaining: 4.51s\n",
      "92:\tlearn: 0.1210682\ttotal: 463ms\tremaining: 4.51s\n",
      "93:\tlearn: 0.1205866\ttotal: 469ms\tremaining: 4.52s\n",
      "94:\tlearn: 0.1201822\ttotal: 473ms\tremaining: 4.51s\n",
      "95:\tlearn: 0.1196940\ttotal: 479ms\tremaining: 4.51s\n",
      "96:\tlearn: 0.1193493\ttotal: 483ms\tremaining: 4.5s\n",
      "97:\tlearn: 0.1189875\ttotal: 487ms\tremaining: 4.48s\n",
      "98:\tlearn: 0.1185685\ttotal: 491ms\tremaining: 4.46s\n",
      "99:\tlearn: 0.1181202\ttotal: 494ms\tremaining: 4.45s\n",
      "100:\tlearn: 0.1176901\ttotal: 499ms\tremaining: 4.44s\n",
      "101:\tlearn: 0.1172530\ttotal: 504ms\tremaining: 4.44s\n",
      "102:\tlearn: 0.1167795\ttotal: 509ms\tremaining: 4.43s\n",
      "103:\tlearn: 0.1164056\ttotal: 513ms\tremaining: 4.42s\n",
      "104:\tlearn: 0.1159774\ttotal: 517ms\tremaining: 4.4s\n",
      "105:\tlearn: 0.1155157\ttotal: 520ms\tremaining: 4.39s\n",
      "106:\tlearn: 0.1150951\ttotal: 524ms\tremaining: 4.37s\n",
      "107:\tlearn: 0.1147252\ttotal: 528ms\tremaining: 4.36s\n",
      "108:\tlearn: 0.1143250\ttotal: 531ms\tremaining: 4.34s\n",
      "109:\tlearn: 0.1139397\ttotal: 535ms\tremaining: 4.33s\n",
      "110:\tlearn: 0.1135834\ttotal: 538ms\tremaining: 4.31s\n",
      "111:\tlearn: 0.1133245\ttotal: 542ms\tremaining: 4.29s\n",
      "112:\tlearn: 0.1129993\ttotal: 546ms\tremaining: 4.28s\n",
      "113:\tlearn: 0.1126299\ttotal: 549ms\tremaining: 4.27s\n",
      "114:\tlearn: 0.1123436\ttotal: 553ms\tremaining: 4.25s\n",
      "115:\tlearn: 0.1119456\ttotal: 556ms\tremaining: 4.24s\n",
      "116:\tlearn: 0.1116755\ttotal: 560ms\tremaining: 4.23s\n",
      "117:\tlearn: 0.1113322\ttotal: 565ms\tremaining: 4.22s\n",
      "118:\tlearn: 0.1110555\ttotal: 570ms\tremaining: 4.22s\n",
      "119:\tlearn: 0.1107020\ttotal: 575ms\tremaining: 4.22s\n",
      "120:\tlearn: 0.1103961\ttotal: 580ms\tremaining: 4.21s\n",
      "121:\tlearn: 0.1101147\ttotal: 585ms\tremaining: 4.21s\n",
      "122:\tlearn: 0.1098279\ttotal: 590ms\tremaining: 4.21s\n",
      "123:\tlearn: 0.1095474\ttotal: 595ms\tremaining: 4.2s\n",
      "124:\tlearn: 0.1091963\ttotal: 600ms\tremaining: 4.2s\n",
      "125:\tlearn: 0.1089345\ttotal: 605ms\tremaining: 4.2s\n",
      "126:\tlearn: 0.1085984\ttotal: 610ms\tremaining: 4.19s\n",
      "127:\tlearn: 0.1083003\ttotal: 615ms\tremaining: 4.19s\n",
      "128:\tlearn: 0.1080289\ttotal: 620ms\tremaining: 4.18s\n",
      "129:\tlearn: 0.1077344\ttotal: 628ms\tremaining: 4.2s\n",
      "130:\tlearn: 0.1074446\ttotal: 635ms\tremaining: 4.21s\n",
      "131:\tlearn: 0.1071599\ttotal: 641ms\tremaining: 4.21s\n",
      "132:\tlearn: 0.1068522\ttotal: 648ms\tremaining: 4.22s\n",
      "133:\tlearn: 0.1065922\ttotal: 654ms\tremaining: 4.22s\n",
      "134:\tlearn: 0.1062051\ttotal: 658ms\tremaining: 4.22s\n",
      "135:\tlearn: 0.1059894\ttotal: 664ms\tremaining: 4.21s\n",
      "136:\tlearn: 0.1058168\ttotal: 669ms\tremaining: 4.21s\n",
      "137:\tlearn: 0.1055316\ttotal: 676ms\tremaining: 4.22s\n",
      "138:\tlearn: 0.1053212\ttotal: 684ms\tremaining: 4.23s\n",
      "139:\tlearn: 0.1050925\ttotal: 688ms\tremaining: 4.23s\n",
      "140:\tlearn: 0.1048364\ttotal: 693ms\tremaining: 4.22s\n",
      "141:\tlearn: 0.1045810\ttotal: 698ms\tremaining: 4.21s\n",
      "142:\tlearn: 0.1043265\ttotal: 707ms\tremaining: 4.24s\n",
      "143:\tlearn: 0.1041680\ttotal: 713ms\tremaining: 4.24s\n",
      "144:\tlearn: 0.1039463\ttotal: 718ms\tremaining: 4.23s\n",
      "145:\tlearn: 0.1036658\ttotal: 722ms\tremaining: 4.22s\n",
      "146:\tlearn: 0.1033888\ttotal: 727ms\tremaining: 4.22s\n",
      "147:\tlearn: 0.1031511\ttotal: 731ms\tremaining: 4.21s\n",
      "148:\tlearn: 0.1030031\ttotal: 737ms\tremaining: 4.21s\n",
      "149:\tlearn: 0.1027409\ttotal: 745ms\tremaining: 4.22s\n",
      "150:\tlearn: 0.1024303\ttotal: 751ms\tremaining: 4.22s\n",
      "151:\tlearn: 0.1021896\ttotal: 757ms\tremaining: 4.22s\n",
      "152:\tlearn: 0.1019837\ttotal: 762ms\tremaining: 4.22s\n",
      "153:\tlearn: 0.1017825\ttotal: 768ms\tremaining: 4.22s\n",
      "154:\tlearn: 0.1015807\ttotal: 775ms\tremaining: 4.22s\n",
      "155:\tlearn: 0.1014037\ttotal: 782ms\tremaining: 4.23s\n",
      "156:\tlearn: 0.1011561\ttotal: 787ms\tremaining: 4.23s\n",
      "157:\tlearn: 0.1009368\ttotal: 793ms\tremaining: 4.22s\n",
      "158:\tlearn: 0.1006862\ttotal: 799ms\tremaining: 4.22s\n",
      "159:\tlearn: 0.1005080\ttotal: 805ms\tremaining: 4.23s\n",
      "160:\tlearn: 0.1001723\ttotal: 810ms\tremaining: 4.22s\n",
      "161:\tlearn: 0.0998353\ttotal: 814ms\tremaining: 4.21s\n",
      "162:\tlearn: 0.0996895\ttotal: 817ms\tremaining: 4.2s\n",
      "163:\tlearn: 0.0994885\ttotal: 821ms\tremaining: 4.18s\n",
      "164:\tlearn: 0.0992599\ttotal: 827ms\tremaining: 4.18s\n",
      "165:\tlearn: 0.0990217\ttotal: 831ms\tremaining: 4.17s\n",
      "166:\tlearn: 0.0988238\ttotal: 835ms\tremaining: 4.16s\n",
      "167:\tlearn: 0.0986809\ttotal: 838ms\tremaining: 4.15s\n",
      "168:\tlearn: 0.0985088\ttotal: 842ms\tremaining: 4.14s\n",
      "169:\tlearn: 0.0983068\ttotal: 845ms\tremaining: 4.13s\n",
      "170:\tlearn: 0.0980486\ttotal: 849ms\tremaining: 4.12s\n",
      "171:\tlearn: 0.0979226\ttotal: 853ms\tremaining: 4.1s\n",
      "172:\tlearn: 0.0976923\ttotal: 856ms\tremaining: 4.09s\n",
      "173:\tlearn: 0.0974851\ttotal: 860ms\tremaining: 4.08s\n",
      "174:\tlearn: 0.0972830\ttotal: 863ms\tremaining: 4.07s\n",
      "175:\tlearn: 0.0971849\ttotal: 868ms\tremaining: 4.06s\n",
      "176:\tlearn: 0.0969882\ttotal: 872ms\tremaining: 4.05s\n",
      "177:\tlearn: 0.0967534\ttotal: 877ms\tremaining: 4.05s\n",
      "178:\tlearn: 0.0965619\ttotal: 881ms\tremaining: 4.04s\n",
      "179:\tlearn: 0.0963560\ttotal: 884ms\tremaining: 4.03s\n",
      "180:\tlearn: 0.0962627\ttotal: 889ms\tremaining: 4.02s\n",
      "181:\tlearn: 0.0960834\ttotal: 893ms\tremaining: 4.01s\n",
      "182:\tlearn: 0.0958960\ttotal: 898ms\tremaining: 4.01s\n",
      "183:\tlearn: 0.0958310\ttotal: 903ms\tremaining: 4s\n",
      "184:\tlearn: 0.0955951\ttotal: 908ms\tremaining: 4s\n",
      "185:\tlearn: 0.0954037\ttotal: 915ms\tremaining: 4s\n",
      "186:\tlearn: 0.0951983\ttotal: 930ms\tremaining: 4.04s\n",
      "187:\tlearn: 0.0949605\ttotal: 941ms\tremaining: 4.06s\n"
     ]
    },
    {
     "name": "stdout",
     "output_type": "stream",
     "text": [
      "188:\tlearn: 0.0948216\ttotal: 946ms\tremaining: 4.06s\n",
      "189:\tlearn: 0.0946934\ttotal: 951ms\tremaining: 4.05s\n",
      "190:\tlearn: 0.0945527\ttotal: 955ms\tremaining: 4.05s\n",
      "191:\tlearn: 0.0943960\ttotal: 959ms\tremaining: 4.04s\n",
      "192:\tlearn: 0.0943018\ttotal: 963ms\tremaining: 4.03s\n",
      "193:\tlearn: 0.0940756\ttotal: 968ms\tremaining: 4.02s\n",
      "194:\tlearn: 0.0938368\ttotal: 973ms\tremaining: 4.02s\n",
      "195:\tlearn: 0.0935915\ttotal: 979ms\tremaining: 4.01s\n",
      "196:\tlearn: 0.0933921\ttotal: 983ms\tremaining: 4.01s\n",
      "197:\tlearn: 0.0931709\ttotal: 989ms\tremaining: 4s\n",
      "198:\tlearn: 0.0929857\ttotal: 998ms\tremaining: 4.02s\n",
      "199:\tlearn: 0.0928326\ttotal: 1.01s\tremaining: 4.03s\n",
      "200:\tlearn: 0.0926249\ttotal: 1.01s\tremaining: 4.02s\n",
      "201:\tlearn: 0.0925272\ttotal: 1.02s\tremaining: 4.03s\n",
      "202:\tlearn: 0.0924572\ttotal: 1.02s\tremaining: 4.02s\n",
      "203:\tlearn: 0.0922725\ttotal: 1.03s\tremaining: 4.02s\n",
      "204:\tlearn: 0.0920295\ttotal: 1.04s\tremaining: 4.02s\n",
      "205:\tlearn: 0.0918766\ttotal: 1.04s\tremaining: 4.02s\n",
      "206:\tlearn: 0.0917471\ttotal: 1.05s\tremaining: 4.01s\n",
      "207:\tlearn: 0.0914514\ttotal: 1.05s\tremaining: 4.01s\n",
      "208:\tlearn: 0.0914055\ttotal: 1.06s\tremaining: 4.01s\n",
      "209:\tlearn: 0.0911817\ttotal: 1.07s\tremaining: 4.01s\n",
      "210:\tlearn: 0.0910671\ttotal: 1.07s\tremaining: 4.02s\n",
      "211:\tlearn: 0.0908434\ttotal: 1.08s\tremaining: 4.03s\n",
      "212:\tlearn: 0.0907570\ttotal: 1.09s\tremaining: 4.03s\n",
      "213:\tlearn: 0.0907021\ttotal: 1.11s\tremaining: 4.07s\n",
      "214:\tlearn: 0.0905136\ttotal: 1.12s\tremaining: 4.08s\n",
      "215:\tlearn: 0.0903385\ttotal: 1.12s\tremaining: 4.07s\n",
      "216:\tlearn: 0.0901202\ttotal: 1.13s\tremaining: 4.06s\n",
      "217:\tlearn: 0.0900544\ttotal: 1.13s\tremaining: 4.05s\n",
      "218:\tlearn: 0.0899071\ttotal: 1.13s\tremaining: 4.04s\n",
      "219:\tlearn: 0.0897592\ttotal: 1.14s\tremaining: 4.04s\n",
      "220:\tlearn: 0.0895397\ttotal: 1.14s\tremaining: 4.03s\n",
      "221:\tlearn: 0.0893072\ttotal: 1.15s\tremaining: 4.02s\n",
      "222:\tlearn: 0.0892557\ttotal: 1.15s\tremaining: 4.01s\n",
      "223:\tlearn: 0.0890737\ttotal: 1.15s\tremaining: 4s\n",
      "224:\tlearn: 0.0889418\ttotal: 1.16s\tremaining: 3.99s\n",
      "225:\tlearn: 0.0887312\ttotal: 1.16s\tremaining: 3.99s\n",
      "226:\tlearn: 0.0885609\ttotal: 1.17s\tremaining: 3.98s\n",
      "227:\tlearn: 0.0883946\ttotal: 1.18s\tremaining: 3.98s\n",
      "228:\tlearn: 0.0882451\ttotal: 1.18s\tremaining: 3.98s\n",
      "229:\tlearn: 0.0881102\ttotal: 1.19s\tremaining: 3.98s\n",
      "230:\tlearn: 0.0880675\ttotal: 1.19s\tremaining: 3.97s\n",
      "231:\tlearn: 0.0878726\ttotal: 1.2s\tremaining: 3.97s\n",
      "232:\tlearn: 0.0876674\ttotal: 1.2s\tremaining: 3.96s\n",
      "233:\tlearn: 0.0875239\ttotal: 1.21s\tremaining: 3.96s\n",
      "234:\tlearn: 0.0874637\ttotal: 1.21s\tremaining: 3.95s\n",
      "235:\tlearn: 0.0872960\ttotal: 1.22s\tremaining: 3.94s\n",
      "236:\tlearn: 0.0871469\ttotal: 1.22s\tremaining: 3.93s\n",
      "237:\tlearn: 0.0869443\ttotal: 1.22s\tremaining: 3.92s\n",
      "238:\tlearn: 0.0869035\ttotal: 1.23s\tremaining: 3.91s\n",
      "239:\tlearn: 0.0866963\ttotal: 1.23s\tremaining: 3.9s\n",
      "240:\tlearn: 0.0865345\ttotal: 1.24s\tremaining: 3.89s\n",
      "241:\tlearn: 0.0864408\ttotal: 1.24s\tremaining: 3.88s\n",
      "242:\tlearn: 0.0862670\ttotal: 1.24s\tremaining: 3.87s\n",
      "243:\tlearn: 0.0861202\ttotal: 1.25s\tremaining: 3.86s\n",
      "244:\tlearn: 0.0860656\ttotal: 1.25s\tremaining: 3.85s\n",
      "245:\tlearn: 0.0859234\ttotal: 1.25s\tremaining: 3.84s\n",
      "246:\tlearn: 0.0857510\ttotal: 1.26s\tremaining: 3.83s\n",
      "247:\tlearn: 0.0855955\ttotal: 1.26s\tremaining: 3.82s\n",
      "248:\tlearn: 0.0855147\ttotal: 1.26s\tremaining: 3.81s\n",
      "249:\tlearn: 0.0853123\ttotal: 1.27s\tremaining: 3.81s\n",
      "250:\tlearn: 0.0852692\ttotal: 1.27s\tremaining: 3.8s\n",
      "251:\tlearn: 0.0852371\ttotal: 1.28s\tremaining: 3.79s\n",
      "252:\tlearn: 0.0852086\ttotal: 1.28s\tremaining: 3.79s\n",
      "253:\tlearn: 0.0849836\ttotal: 1.29s\tremaining: 3.78s\n",
      "254:\tlearn: 0.0847916\ttotal: 1.29s\tremaining: 3.77s\n",
      "255:\tlearn: 0.0847264\ttotal: 1.29s\tremaining: 3.77s\n",
      "256:\tlearn: 0.0845837\ttotal: 1.3s\tremaining: 3.76s\n",
      "257:\tlearn: 0.0844078\ttotal: 1.3s\tremaining: 3.75s\n",
      "258:\tlearn: 0.0842572\ttotal: 1.31s\tremaining: 3.74s\n",
      "259:\tlearn: 0.0841333\ttotal: 1.31s\tremaining: 3.74s\n",
      "260:\tlearn: 0.0839424\ttotal: 1.32s\tremaining: 3.73s\n",
      "261:\tlearn: 0.0838551\ttotal: 1.32s\tremaining: 3.72s\n",
      "262:\tlearn: 0.0837129\ttotal: 1.32s\tremaining: 3.71s\n",
      "263:\tlearn: 0.0834947\ttotal: 1.33s\tremaining: 3.72s\n",
      "264:\tlearn: 0.0834661\ttotal: 1.34s\tremaining: 3.71s\n",
      "265:\tlearn: 0.0834038\ttotal: 1.34s\tremaining: 3.71s\n",
      "266:\tlearn: 0.0831899\ttotal: 1.35s\tremaining: 3.71s\n",
      "267:\tlearn: 0.0831091\ttotal: 1.36s\tremaining: 3.71s\n",
      "268:\tlearn: 0.0828831\ttotal: 1.36s\tremaining: 3.7s\n",
      "269:\tlearn: 0.0827115\ttotal: 1.37s\tremaining: 3.7s\n",
      "270:\tlearn: 0.0825334\ttotal: 1.37s\tremaining: 3.69s\n",
      "271:\tlearn: 0.0824895\ttotal: 1.38s\tremaining: 3.69s\n",
      "272:\tlearn: 0.0823344\ttotal: 1.38s\tremaining: 3.68s\n",
      "273:\tlearn: 0.0821637\ttotal: 1.39s\tremaining: 3.67s\n",
      "274:\tlearn: 0.0820059\ttotal: 1.39s\tremaining: 3.66s\n",
      "275:\tlearn: 0.0819645\ttotal: 1.39s\tremaining: 3.65s\n",
      "276:\tlearn: 0.0818420\ttotal: 1.4s\tremaining: 3.64s\n",
      "277:\tlearn: 0.0816629\ttotal: 1.4s\tremaining: 3.64s\n",
      "278:\tlearn: 0.0816048\ttotal: 1.4s\tremaining: 3.63s\n",
      "279:\tlearn: 0.0814842\ttotal: 1.41s\tremaining: 3.62s\n",
      "280:\tlearn: 0.0812780\ttotal: 1.41s\tremaining: 3.61s\n",
      "281:\tlearn: 0.0811016\ttotal: 1.41s\tremaining: 3.6s\n",
      "282:\tlearn: 0.0809016\ttotal: 1.42s\tremaining: 3.59s\n",
      "283:\tlearn: 0.0807618\ttotal: 1.42s\tremaining: 3.58s\n",
      "284:\tlearn: 0.0806870\ttotal: 1.42s\tremaining: 3.57s\n",
      "285:\tlearn: 0.0806153\ttotal: 1.43s\tremaining: 3.56s\n",
      "286:\tlearn: 0.0805078\ttotal: 1.43s\tremaining: 3.56s\n",
      "287:\tlearn: 0.0803323\ttotal: 1.44s\tremaining: 3.55s\n",
      "288:\tlearn: 0.0801592\ttotal: 1.44s\tremaining: 3.54s\n",
      "289:\tlearn: 0.0800220\ttotal: 1.44s\tremaining: 3.53s\n",
      "290:\tlearn: 0.0798766\ttotal: 1.45s\tremaining: 3.52s\n",
      "291:\tlearn: 0.0798209\ttotal: 1.45s\tremaining: 3.51s\n",
      "292:\tlearn: 0.0796470\ttotal: 1.45s\tremaining: 3.5s\n",
      "293:\tlearn: 0.0795699\ttotal: 1.46s\tremaining: 3.5s\n",
      "294:\tlearn: 0.0794897\ttotal: 1.46s\tremaining: 3.49s\n",
      "295:\tlearn: 0.0794149\ttotal: 1.46s\tremaining: 3.48s\n",
      "296:\tlearn: 0.0792525\ttotal: 1.47s\tremaining: 3.47s\n",
      "297:\tlearn: 0.0791149\ttotal: 1.47s\tremaining: 3.46s\n",
      "298:\tlearn: 0.0790885\ttotal: 1.47s\tremaining: 3.46s\n",
      "299:\tlearn: 0.0790577\ttotal: 1.48s\tremaining: 3.45s\n",
      "300:\tlearn: 0.0788863\ttotal: 1.48s\tremaining: 3.45s\n",
      "301:\tlearn: 0.0787494\ttotal: 1.49s\tremaining: 3.44s\n",
      "302:\tlearn: 0.0786222\ttotal: 1.49s\tremaining: 3.43s\n",
      "303:\tlearn: 0.0784478\ttotal: 1.49s\tremaining: 3.42s\n",
      "304:\tlearn: 0.0783425\ttotal: 1.5s\tremaining: 3.41s\n",
      "305:\tlearn: 0.0782420\ttotal: 1.5s\tremaining: 3.4s\n",
      "306:\tlearn: 0.0781468\ttotal: 1.5s\tremaining: 3.4s\n",
      "307:\tlearn: 0.0781253\ttotal: 1.51s\tremaining: 3.39s\n",
      "308:\tlearn: 0.0781044\ttotal: 1.51s\tremaining: 3.38s\n",
      "309:\tlearn: 0.0780164\ttotal: 1.52s\tremaining: 3.38s\n",
      "310:\tlearn: 0.0779672\ttotal: 1.52s\tremaining: 3.37s\n",
      "311:\tlearn: 0.0778490\ttotal: 1.53s\tremaining: 3.37s\n",
      "312:\tlearn: 0.0777808\ttotal: 1.53s\tremaining: 3.36s\n",
      "313:\tlearn: 0.0776048\ttotal: 1.54s\tremaining: 3.36s\n",
      "314:\tlearn: 0.0774412\ttotal: 1.54s\tremaining: 3.35s\n",
      "315:\tlearn: 0.0772857\ttotal: 1.55s\tremaining: 3.35s\n",
      "316:\tlearn: 0.0771933\ttotal: 1.55s\tremaining: 3.34s\n",
      "317:\tlearn: 0.0770981\ttotal: 1.56s\tremaining: 3.34s\n",
      "318:\tlearn: 0.0770589\ttotal: 1.56s\tremaining: 3.33s\n",
      "319:\tlearn: 0.0769465\ttotal: 1.56s\tremaining: 3.32s\n",
      "320:\tlearn: 0.0767931\ttotal: 1.57s\tremaining: 3.31s\n",
      "321:\tlearn: 0.0766467\ttotal: 1.57s\tremaining: 3.31s\n",
      "322:\tlearn: 0.0765429\ttotal: 1.57s\tremaining: 3.3s\n",
      "323:\tlearn: 0.0764313\ttotal: 1.58s\tremaining: 3.29s\n",
      "324:\tlearn: 0.0763138\ttotal: 1.58s\tremaining: 3.29s\n",
      "325:\tlearn: 0.0761496\ttotal: 1.58s\tremaining: 3.28s\n",
      "326:\tlearn: 0.0760223\ttotal: 1.59s\tremaining: 3.27s\n",
      "327:\tlearn: 0.0758605\ttotal: 1.59s\tremaining: 3.26s\n",
      "328:\tlearn: 0.0757610\ttotal: 1.6s\tremaining: 3.25s\n",
      "329:\tlearn: 0.0757408\ttotal: 1.6s\tremaining: 3.25s\n",
      "330:\tlearn: 0.0756971\ttotal: 1.6s\tremaining: 3.24s\n",
      "331:\tlearn: 0.0755692\ttotal: 1.61s\tremaining: 3.23s\n",
      "332:\tlearn: 0.0755505\ttotal: 1.61s\tremaining: 3.23s\n",
      "333:\tlearn: 0.0754588\ttotal: 1.61s\tremaining: 3.22s\n",
      "334:\tlearn: 0.0754108\ttotal: 1.62s\tremaining: 3.21s\n",
      "335:\tlearn: 0.0753157\ttotal: 1.62s\tremaining: 3.2s\n",
      "336:\tlearn: 0.0751668\ttotal: 1.63s\tremaining: 3.2s\n",
      "337:\tlearn: 0.0750334\ttotal: 1.63s\tremaining: 3.19s\n",
      "338:\tlearn: 0.0749117\ttotal: 1.63s\tremaining: 3.18s\n",
      "339:\tlearn: 0.0748682\ttotal: 1.64s\tremaining: 3.17s\n",
      "340:\tlearn: 0.0748001\ttotal: 1.64s\tremaining: 3.17s\n",
      "341:\tlearn: 0.0747165\ttotal: 1.64s\tremaining: 3.16s\n",
      "342:\tlearn: 0.0745501\ttotal: 1.65s\tremaining: 3.15s\n",
      "343:\tlearn: 0.0744304\ttotal: 1.65s\tremaining: 3.15s\n",
      "344:\tlearn: 0.0743443\ttotal: 1.65s\tremaining: 3.14s\n",
      "345:\tlearn: 0.0742257\ttotal: 1.66s\tremaining: 3.13s\n",
      "346:\tlearn: 0.0740943\ttotal: 1.66s\tremaining: 3.13s\n",
      "347:\tlearn: 0.0739860\ttotal: 1.66s\tremaining: 3.12s\n",
      "348:\tlearn: 0.0739084\ttotal: 1.67s\tremaining: 3.11s\n",
      "349:\tlearn: 0.0737515\ttotal: 1.67s\tremaining: 3.1s\n",
      "350:\tlearn: 0.0736173\ttotal: 1.68s\tremaining: 3.1s\n",
      "351:\tlearn: 0.0734797\ttotal: 1.68s\tremaining: 3.09s\n",
      "352:\tlearn: 0.0733336\ttotal: 1.68s\tremaining: 3.08s\n",
      "353:\tlearn: 0.0732369\ttotal: 1.69s\tremaining: 3.08s\n",
      "354:\tlearn: 0.0732138\ttotal: 1.69s\tremaining: 3.07s\n",
      "355:\tlearn: 0.0730829\ttotal: 1.69s\tremaining: 3.06s\n",
      "356:\tlearn: 0.0729779\ttotal: 1.7s\tremaining: 3.06s\n",
      "357:\tlearn: 0.0728558\ttotal: 1.7s\tremaining: 3.05s\n",
      "358:\tlearn: 0.0727194\ttotal: 1.7s\tremaining: 3.04s\n"
     ]
    },
    {
     "name": "stdout",
     "output_type": "stream",
     "text": [
      "359:\tlearn: 0.0726777\ttotal: 1.71s\tremaining: 3.04s\n",
      "360:\tlearn: 0.0726006\ttotal: 1.71s\tremaining: 3.03s\n",
      "361:\tlearn: 0.0724834\ttotal: 1.72s\tremaining: 3.03s\n",
      "362:\tlearn: 0.0724689\ttotal: 1.72s\tremaining: 3.02s\n",
      "363:\tlearn: 0.0723591\ttotal: 1.73s\tremaining: 3.02s\n",
      "364:\tlearn: 0.0721928\ttotal: 1.74s\tremaining: 3.02s\n",
      "365:\tlearn: 0.0720141\ttotal: 1.74s\tremaining: 3.01s\n",
      "366:\tlearn: 0.0718684\ttotal: 1.74s\tremaining: 3.01s\n",
      "367:\tlearn: 0.0718334\ttotal: 1.75s\tremaining: 3s\n",
      "368:\tlearn: 0.0716980\ttotal: 1.75s\tremaining: 3s\n",
      "369:\tlearn: 0.0715946\ttotal: 1.76s\tremaining: 2.99s\n",
      "370:\tlearn: 0.0714771\ttotal: 1.76s\tremaining: 2.99s\n",
      "371:\tlearn: 0.0713738\ttotal: 1.76s\tremaining: 2.98s\n",
      "372:\tlearn: 0.0712589\ttotal: 1.77s\tremaining: 2.97s\n",
      "373:\tlearn: 0.0711339\ttotal: 1.77s\tremaining: 2.97s\n",
      "374:\tlearn: 0.0710822\ttotal: 1.78s\tremaining: 2.96s\n",
      "375:\tlearn: 0.0709519\ttotal: 1.78s\tremaining: 2.95s\n",
      "376:\tlearn: 0.0709350\ttotal: 1.78s\tremaining: 2.95s\n",
      "377:\tlearn: 0.0709019\ttotal: 1.79s\tremaining: 2.94s\n",
      "378:\tlearn: 0.0707818\ttotal: 1.79s\tremaining: 2.93s\n",
      "379:\tlearn: 0.0707205\ttotal: 1.79s\tremaining: 2.93s\n",
      "380:\tlearn: 0.0706558\ttotal: 1.8s\tremaining: 2.92s\n",
      "381:\tlearn: 0.0705431\ttotal: 1.8s\tremaining: 2.91s\n",
      "382:\tlearn: 0.0703849\ttotal: 1.8s\tremaining: 2.91s\n",
      "383:\tlearn: 0.0703103\ttotal: 1.81s\tremaining: 2.9s\n",
      "384:\tlearn: 0.0702137\ttotal: 1.81s\tremaining: 2.89s\n",
      "385:\tlearn: 0.0701438\ttotal: 1.81s\tremaining: 2.89s\n",
      "386:\tlearn: 0.0701191\ttotal: 1.82s\tremaining: 2.88s\n",
      "387:\tlearn: 0.0699995\ttotal: 1.82s\tremaining: 2.87s\n",
      "388:\tlearn: 0.0698723\ttotal: 1.82s\tremaining: 2.87s\n",
      "389:\tlearn: 0.0697615\ttotal: 1.83s\tremaining: 2.86s\n",
      "390:\tlearn: 0.0696559\ttotal: 1.83s\tremaining: 2.85s\n",
      "391:\tlearn: 0.0696275\ttotal: 1.84s\tremaining: 2.85s\n",
      "392:\tlearn: 0.0695023\ttotal: 1.84s\tremaining: 2.84s\n",
      "393:\tlearn: 0.0694350\ttotal: 1.84s\tremaining: 2.83s\n",
      "394:\tlearn: 0.0694190\ttotal: 1.85s\tremaining: 2.83s\n",
      "395:\tlearn: 0.0693408\ttotal: 1.85s\tremaining: 2.82s\n",
      "396:\tlearn: 0.0692503\ttotal: 1.85s\tremaining: 2.82s\n",
      "397:\tlearn: 0.0691883\ttotal: 1.86s\tremaining: 2.81s\n",
      "398:\tlearn: 0.0690471\ttotal: 1.86s\tremaining: 2.8s\n",
      "399:\tlearn: 0.0689426\ttotal: 1.86s\tremaining: 2.8s\n",
      "400:\tlearn: 0.0689149\ttotal: 1.87s\tremaining: 2.79s\n",
      "401:\tlearn: 0.0688282\ttotal: 1.87s\tremaining: 2.78s\n",
      "402:\tlearn: 0.0686725\ttotal: 1.88s\tremaining: 2.78s\n",
      "403:\tlearn: 0.0686181\ttotal: 1.88s\tremaining: 2.77s\n",
      "404:\tlearn: 0.0685557\ttotal: 1.88s\tremaining: 2.77s\n",
      "405:\tlearn: 0.0684862\ttotal: 1.89s\tremaining: 2.76s\n",
      "406:\tlearn: 0.0683841\ttotal: 1.89s\tremaining: 2.75s\n",
      "407:\tlearn: 0.0682715\ttotal: 1.89s\tremaining: 2.75s\n",
      "408:\tlearn: 0.0681371\ttotal: 1.9s\tremaining: 2.74s\n",
      "409:\tlearn: 0.0680689\ttotal: 1.9s\tremaining: 2.74s\n",
      "410:\tlearn: 0.0680011\ttotal: 1.91s\tremaining: 2.73s\n",
      "411:\tlearn: 0.0678695\ttotal: 1.91s\tremaining: 2.73s\n",
      "412:\tlearn: 0.0678144\ttotal: 1.92s\tremaining: 2.73s\n",
      "413:\tlearn: 0.0677322\ttotal: 1.92s\tremaining: 2.72s\n",
      "414:\tlearn: 0.0677043\ttotal: 1.93s\tremaining: 2.72s\n",
      "415:\tlearn: 0.0675871\ttotal: 1.93s\tremaining: 2.71s\n",
      "416:\tlearn: 0.0674908\ttotal: 1.94s\tremaining: 2.71s\n",
      "417:\tlearn: 0.0674733\ttotal: 1.94s\tremaining: 2.71s\n",
      "418:\tlearn: 0.0673838\ttotal: 1.95s\tremaining: 2.7s\n",
      "419:\tlearn: 0.0673437\ttotal: 1.96s\tremaining: 2.7s\n",
      "420:\tlearn: 0.0672157\ttotal: 1.96s\tremaining: 2.7s\n",
      "421:\tlearn: 0.0670539\ttotal: 1.97s\tremaining: 2.7s\n",
      "422:\tlearn: 0.0669351\ttotal: 1.98s\tremaining: 2.7s\n",
      "423:\tlearn: 0.0668060\ttotal: 1.98s\tremaining: 2.69s\n",
      "424:\tlearn: 0.0667241\ttotal: 1.99s\tremaining: 2.69s\n",
      "425:\tlearn: 0.0666059\ttotal: 2s\tremaining: 2.69s\n",
      "426:\tlearn: 0.0664843\ttotal: 2s\tremaining: 2.69s\n",
      "427:\tlearn: 0.0663690\ttotal: 2.01s\tremaining: 2.69s\n",
      "428:\tlearn: 0.0662638\ttotal: 2.02s\tremaining: 2.69s\n",
      "429:\tlearn: 0.0661220\ttotal: 2.03s\tremaining: 2.69s\n",
      "430:\tlearn: 0.0661098\ttotal: 2.03s\tremaining: 2.69s\n",
      "431:\tlearn: 0.0659739\ttotal: 2.04s\tremaining: 2.68s\n",
      "432:\tlearn: 0.0659106\ttotal: 2.05s\tremaining: 2.68s\n",
      "433:\tlearn: 0.0658744\ttotal: 2.05s\tremaining: 2.68s\n",
      "434:\tlearn: 0.0657997\ttotal: 2.06s\tremaining: 2.68s\n",
      "435:\tlearn: 0.0656953\ttotal: 2.07s\tremaining: 2.68s\n",
      "436:\tlearn: 0.0656011\ttotal: 2.08s\tremaining: 2.67s\n",
      "437:\tlearn: 0.0655364\ttotal: 2.08s\tremaining: 2.67s\n",
      "438:\tlearn: 0.0653413\ttotal: 2.09s\tremaining: 2.67s\n",
      "439:\tlearn: 0.0652515\ttotal: 2.1s\tremaining: 2.67s\n",
      "440:\tlearn: 0.0651431\ttotal: 2.1s\tremaining: 2.67s\n",
      "441:\tlearn: 0.0650435\ttotal: 2.11s\tremaining: 2.66s\n",
      "442:\tlearn: 0.0649947\ttotal: 2.12s\tremaining: 2.66s\n",
      "443:\tlearn: 0.0649514\ttotal: 2.12s\tremaining: 2.66s\n",
      "444:\tlearn: 0.0648988\ttotal: 2.13s\tremaining: 2.66s\n",
      "445:\tlearn: 0.0647740\ttotal: 2.14s\tremaining: 2.65s\n",
      "446:\tlearn: 0.0646598\ttotal: 2.14s\tremaining: 2.65s\n",
      "447:\tlearn: 0.0645798\ttotal: 2.15s\tremaining: 2.65s\n",
      "448:\tlearn: 0.0644381\ttotal: 2.15s\tremaining: 2.65s\n",
      "449:\tlearn: 0.0643181\ttotal: 2.16s\tremaining: 2.64s\n",
      "450:\tlearn: 0.0641989\ttotal: 2.17s\tremaining: 2.64s\n",
      "451:\tlearn: 0.0641106\ttotal: 2.17s\tremaining: 2.63s\n",
      "452:\tlearn: 0.0640429\ttotal: 2.17s\tremaining: 2.63s\n",
      "453:\tlearn: 0.0639429\ttotal: 2.18s\tremaining: 2.62s\n",
      "454:\tlearn: 0.0638497\ttotal: 2.18s\tremaining: 2.61s\n",
      "455:\tlearn: 0.0637999\ttotal: 2.19s\tremaining: 2.61s\n",
      "456:\tlearn: 0.0636714\ttotal: 2.19s\tremaining: 2.6s\n",
      "457:\tlearn: 0.0635649\ttotal: 2.19s\tremaining: 2.6s\n",
      "458:\tlearn: 0.0634414\ttotal: 2.2s\tremaining: 2.59s\n",
      "459:\tlearn: 0.0633503\ttotal: 2.2s\tremaining: 2.58s\n",
      "460:\tlearn: 0.0632506\ttotal: 2.2s\tremaining: 2.58s\n",
      "461:\tlearn: 0.0631679\ttotal: 2.21s\tremaining: 2.57s\n",
      "462:\tlearn: 0.0630492\ttotal: 2.21s\tremaining: 2.56s\n",
      "463:\tlearn: 0.0630012\ttotal: 2.21s\tremaining: 2.56s\n",
      "464:\tlearn: 0.0629544\ttotal: 2.22s\tremaining: 2.55s\n",
      "465:\tlearn: 0.0629403\ttotal: 2.22s\tremaining: 2.55s\n",
      "466:\tlearn: 0.0627729\ttotal: 2.23s\tremaining: 2.54s\n",
      "467:\tlearn: 0.0626692\ttotal: 2.23s\tremaining: 2.54s\n",
      "468:\tlearn: 0.0626503\ttotal: 2.23s\tremaining: 2.53s\n",
      "469:\tlearn: 0.0625528\ttotal: 2.24s\tremaining: 2.52s\n",
      "470:\tlearn: 0.0624262\ttotal: 2.24s\tremaining: 2.52s\n",
      "471:\tlearn: 0.0623357\ttotal: 2.25s\tremaining: 2.51s\n",
      "472:\tlearn: 0.0623208\ttotal: 2.25s\tremaining: 2.5s\n",
      "473:\tlearn: 0.0622265\ttotal: 2.25s\tremaining: 2.5s\n",
      "474:\tlearn: 0.0621083\ttotal: 2.26s\tremaining: 2.49s\n",
      "475:\tlearn: 0.0619957\ttotal: 2.26s\tremaining: 2.49s\n",
      "476:\tlearn: 0.0619581\ttotal: 2.26s\tremaining: 2.48s\n",
      "477:\tlearn: 0.0618558\ttotal: 2.27s\tremaining: 2.48s\n",
      "478:\tlearn: 0.0617328\ttotal: 2.27s\tremaining: 2.47s\n",
      "479:\tlearn: 0.0616195\ttotal: 2.27s\tremaining: 2.46s\n",
      "480:\tlearn: 0.0615018\ttotal: 2.28s\tremaining: 2.46s\n",
      "481:\tlearn: 0.0613748\ttotal: 2.28s\tremaining: 2.45s\n",
      "482:\tlearn: 0.0612983\ttotal: 2.29s\tremaining: 2.45s\n",
      "483:\tlearn: 0.0612091\ttotal: 2.29s\tremaining: 2.44s\n",
      "484:\tlearn: 0.0611572\ttotal: 2.3s\tremaining: 2.44s\n",
      "485:\tlearn: 0.0610806\ttotal: 2.3s\tremaining: 2.44s\n",
      "486:\tlearn: 0.0610064\ttotal: 2.31s\tremaining: 2.43s\n",
      "487:\tlearn: 0.0608941\ttotal: 2.31s\tremaining: 2.43s\n",
      "488:\tlearn: 0.0608396\ttotal: 2.32s\tremaining: 2.42s\n",
      "489:\tlearn: 0.0607782\ttotal: 2.32s\tremaining: 2.42s\n",
      "490:\tlearn: 0.0606660\ttotal: 2.33s\tremaining: 2.41s\n",
      "491:\tlearn: 0.0605451\ttotal: 2.33s\tremaining: 2.4s\n",
      "492:\tlearn: 0.0604626\ttotal: 2.33s\tremaining: 2.4s\n",
      "493:\tlearn: 0.0603641\ttotal: 2.34s\tremaining: 2.4s\n",
      "494:\tlearn: 0.0602144\ttotal: 2.34s\tremaining: 2.39s\n",
      "495:\tlearn: 0.0601723\ttotal: 2.35s\tremaining: 2.38s\n",
      "496:\tlearn: 0.0600801\ttotal: 2.35s\tremaining: 2.38s\n",
      "497:\tlearn: 0.0599424\ttotal: 2.35s\tremaining: 2.37s\n",
      "498:\tlearn: 0.0598479\ttotal: 2.36s\tremaining: 2.37s\n",
      "499:\tlearn: 0.0598037\ttotal: 2.36s\tremaining: 2.36s\n",
      "500:\tlearn: 0.0596568\ttotal: 2.37s\tremaining: 2.36s\n",
      "501:\tlearn: 0.0595739\ttotal: 2.37s\tremaining: 2.35s\n",
      "502:\tlearn: 0.0595631\ttotal: 2.37s\tremaining: 2.34s\n",
      "503:\tlearn: 0.0594673\ttotal: 2.38s\tremaining: 2.34s\n",
      "504:\tlearn: 0.0593953\ttotal: 2.38s\tremaining: 2.33s\n",
      "505:\tlearn: 0.0593168\ttotal: 2.38s\tremaining: 2.33s\n",
      "506:\tlearn: 0.0592390\ttotal: 2.39s\tremaining: 2.32s\n",
      "507:\tlearn: 0.0592297\ttotal: 2.39s\tremaining: 2.31s\n",
      "508:\tlearn: 0.0591448\ttotal: 2.39s\tremaining: 2.31s\n",
      "509:\tlearn: 0.0590504\ttotal: 2.4s\tremaining: 2.3s\n",
      "510:\tlearn: 0.0589743\ttotal: 2.4s\tremaining: 2.3s\n",
      "511:\tlearn: 0.0588635\ttotal: 2.4s\tremaining: 2.29s\n",
      "512:\tlearn: 0.0587567\ttotal: 2.41s\tremaining: 2.29s\n",
      "513:\tlearn: 0.0587228\ttotal: 2.41s\tremaining: 2.28s\n",
      "514:\tlearn: 0.0586638\ttotal: 2.42s\tremaining: 2.27s\n",
      "515:\tlearn: 0.0585840\ttotal: 2.42s\tremaining: 2.27s\n",
      "516:\tlearn: 0.0584696\ttotal: 2.42s\tremaining: 2.26s\n",
      "517:\tlearn: 0.0583892\ttotal: 2.43s\tremaining: 2.26s\n",
      "518:\tlearn: 0.0582928\ttotal: 2.43s\tremaining: 2.25s\n",
      "519:\tlearn: 0.0581763\ttotal: 2.44s\tremaining: 2.25s\n",
      "520:\tlearn: 0.0580515\ttotal: 2.44s\tremaining: 2.24s\n",
      "521:\tlearn: 0.0579530\ttotal: 2.44s\tremaining: 2.24s\n",
      "522:\tlearn: 0.0579218\ttotal: 2.45s\tremaining: 2.24s\n",
      "523:\tlearn: 0.0578301\ttotal: 2.46s\tremaining: 2.23s\n",
      "524:\tlearn: 0.0577394\ttotal: 2.46s\tremaining: 2.23s\n"
     ]
    },
    {
     "name": "stdout",
     "output_type": "stream",
     "text": [
      "525:\tlearn: 0.0576423\ttotal: 2.48s\tremaining: 2.23s\n",
      "526:\tlearn: 0.0575815\ttotal: 2.48s\tremaining: 2.23s\n",
      "527:\tlearn: 0.0575698\ttotal: 2.49s\tremaining: 2.22s\n",
      "528:\tlearn: 0.0574249\ttotal: 2.49s\tremaining: 2.22s\n",
      "529:\tlearn: 0.0573374\ttotal: 2.5s\tremaining: 2.22s\n",
      "530:\tlearn: 0.0573115\ttotal: 2.5s\tremaining: 2.21s\n",
      "531:\tlearn: 0.0572544\ttotal: 2.51s\tremaining: 2.21s\n",
      "532:\tlearn: 0.0572384\ttotal: 2.52s\tremaining: 2.21s\n",
      "533:\tlearn: 0.0571529\ttotal: 2.53s\tremaining: 2.21s\n",
      "534:\tlearn: 0.0571306\ttotal: 2.54s\tremaining: 2.2s\n",
      "535:\tlearn: 0.0571200\ttotal: 2.54s\tremaining: 2.2s\n",
      "536:\tlearn: 0.0570162\ttotal: 2.55s\tremaining: 2.2s\n",
      "537:\tlearn: 0.0569159\ttotal: 2.55s\tremaining: 2.19s\n",
      "538:\tlearn: 0.0568034\ttotal: 2.56s\tremaining: 2.19s\n",
      "539:\tlearn: 0.0567041\ttotal: 2.57s\tremaining: 2.19s\n",
      "540:\tlearn: 0.0565934\ttotal: 2.57s\tremaining: 2.18s\n",
      "541:\tlearn: 0.0565625\ttotal: 2.58s\tremaining: 2.18s\n",
      "542:\tlearn: 0.0564922\ttotal: 2.58s\tremaining: 2.17s\n",
      "543:\tlearn: 0.0564188\ttotal: 2.59s\tremaining: 2.17s\n",
      "544:\tlearn: 0.0563077\ttotal: 2.6s\tremaining: 2.17s\n",
      "545:\tlearn: 0.0562456\ttotal: 2.6s\tremaining: 2.17s\n",
      "546:\tlearn: 0.0562363\ttotal: 2.61s\tremaining: 2.16s\n",
      "547:\tlearn: 0.0561487\ttotal: 2.62s\tremaining: 2.16s\n",
      "548:\tlearn: 0.0560758\ttotal: 2.63s\tremaining: 2.16s\n",
      "549:\tlearn: 0.0559948\ttotal: 2.63s\tremaining: 2.15s\n",
      "550:\tlearn: 0.0559007\ttotal: 2.64s\tremaining: 2.15s\n",
      "551:\tlearn: 0.0558867\ttotal: 2.65s\tremaining: 2.15s\n",
      "552:\tlearn: 0.0558008\ttotal: 2.65s\tremaining: 2.14s\n",
      "553:\tlearn: 0.0557108\ttotal: 2.66s\tremaining: 2.14s\n",
      "554:\tlearn: 0.0556332\ttotal: 2.67s\tremaining: 2.14s\n",
      "555:\tlearn: 0.0556088\ttotal: 2.67s\tremaining: 2.13s\n",
      "556:\tlearn: 0.0555263\ttotal: 2.68s\tremaining: 2.13s\n",
      "557:\tlearn: 0.0555148\ttotal: 2.68s\tremaining: 2.13s\n",
      "558:\tlearn: 0.0554958\ttotal: 2.69s\tremaining: 2.12s\n",
      "559:\tlearn: 0.0553923\ttotal: 2.69s\tremaining: 2.12s\n",
      "560:\tlearn: 0.0552950\ttotal: 2.7s\tremaining: 2.11s\n",
      "561:\tlearn: 0.0551580\ttotal: 2.71s\tremaining: 2.11s\n",
      "562:\tlearn: 0.0550302\ttotal: 2.71s\tremaining: 2.1s\n",
      "563:\tlearn: 0.0550187\ttotal: 2.71s\tremaining: 2.1s\n",
      "564:\tlearn: 0.0550117\ttotal: 2.72s\tremaining: 2.09s\n",
      "565:\tlearn: 0.0549650\ttotal: 2.72s\tremaining: 2.09s\n",
      "566:\tlearn: 0.0549552\ttotal: 2.73s\tremaining: 2.08s\n",
      "567:\tlearn: 0.0548968\ttotal: 2.74s\tremaining: 2.08s\n",
      "568:\tlearn: 0.0548361\ttotal: 2.74s\tremaining: 2.08s\n",
      "569:\tlearn: 0.0547853\ttotal: 2.75s\tremaining: 2.07s\n",
      "570:\tlearn: 0.0547755\ttotal: 2.75s\tremaining: 2.07s\n",
      "571:\tlearn: 0.0547172\ttotal: 2.76s\tremaining: 2.06s\n",
      "572:\tlearn: 0.0546496\ttotal: 2.77s\tremaining: 2.06s\n",
      "573:\tlearn: 0.0546172\ttotal: 2.77s\tremaining: 2.06s\n",
      "574:\tlearn: 0.0545649\ttotal: 2.78s\tremaining: 2.05s\n",
      "575:\tlearn: 0.0545581\ttotal: 2.79s\tremaining: 2.05s\n",
      "576:\tlearn: 0.0544417\ttotal: 2.79s\tremaining: 2.05s\n",
      "577:\tlearn: 0.0543371\ttotal: 2.79s\tremaining: 2.04s\n",
      "578:\tlearn: 0.0542839\ttotal: 2.8s\tremaining: 2.04s\n",
      "579:\tlearn: 0.0542346\ttotal: 2.8s\tremaining: 2.03s\n",
      "580:\tlearn: 0.0541243\ttotal: 2.81s\tremaining: 2.02s\n",
      "581:\tlearn: 0.0540310\ttotal: 2.81s\tremaining: 2.02s\n",
      "582:\tlearn: 0.0539739\ttotal: 2.81s\tremaining: 2.01s\n",
      "583:\tlearn: 0.0538826\ttotal: 2.82s\tremaining: 2.01s\n",
      "584:\tlearn: 0.0538715\ttotal: 2.82s\tremaining: 2s\n",
      "585:\tlearn: 0.0537949\ttotal: 2.82s\tremaining: 2s\n",
      "586:\tlearn: 0.0536930\ttotal: 2.83s\tremaining: 1.99s\n",
      "587:\tlearn: 0.0535896\ttotal: 2.83s\tremaining: 1.98s\n",
      "588:\tlearn: 0.0535544\ttotal: 2.84s\tremaining: 1.98s\n",
      "589:\tlearn: 0.0535363\ttotal: 2.84s\tremaining: 1.97s\n",
      "590:\tlearn: 0.0534644\ttotal: 2.84s\tremaining: 1.97s\n",
      "591:\tlearn: 0.0533805\ttotal: 2.85s\tremaining: 1.96s\n",
      "592:\tlearn: 0.0533388\ttotal: 2.85s\tremaining: 1.96s\n",
      "593:\tlearn: 0.0532609\ttotal: 2.85s\tremaining: 1.95s\n",
      "594:\tlearn: 0.0532399\ttotal: 2.86s\tremaining: 1.95s\n",
      "595:\tlearn: 0.0531287\ttotal: 2.86s\tremaining: 1.94s\n",
      "596:\tlearn: 0.0530404\ttotal: 2.87s\tremaining: 1.94s\n",
      "597:\tlearn: 0.0529487\ttotal: 2.87s\tremaining: 1.93s\n",
      "598:\tlearn: 0.0529377\ttotal: 2.88s\tremaining: 1.93s\n",
      "599:\tlearn: 0.0528753\ttotal: 2.88s\tremaining: 1.92s\n",
      "600:\tlearn: 0.0528010\ttotal: 2.89s\tremaining: 1.92s\n",
      "601:\tlearn: 0.0527000\ttotal: 2.89s\tremaining: 1.91s\n",
      "602:\tlearn: 0.0526135\ttotal: 2.9s\tremaining: 1.91s\n",
      "603:\tlearn: 0.0524880\ttotal: 2.9s\tremaining: 1.9s\n",
      "604:\tlearn: 0.0523809\ttotal: 2.9s\tremaining: 1.9s\n",
      "605:\tlearn: 0.0523625\ttotal: 2.91s\tremaining: 1.89s\n",
      "606:\tlearn: 0.0522884\ttotal: 2.91s\tremaining: 1.89s\n",
      "607:\tlearn: 0.0522445\ttotal: 2.92s\tremaining: 1.88s\n",
      "608:\tlearn: 0.0522132\ttotal: 2.92s\tremaining: 1.88s\n",
      "609:\tlearn: 0.0522044\ttotal: 2.92s\tremaining: 1.87s\n",
      "610:\tlearn: 0.0521728\ttotal: 2.93s\tremaining: 1.86s\n",
      "611:\tlearn: 0.0520754\ttotal: 2.93s\tremaining: 1.86s\n",
      "612:\tlearn: 0.0519924\ttotal: 2.94s\tremaining: 1.85s\n",
      "613:\tlearn: 0.0519002\ttotal: 2.94s\tremaining: 1.85s\n",
      "614:\tlearn: 0.0517804\ttotal: 2.94s\tremaining: 1.84s\n",
      "615:\tlearn: 0.0517678\ttotal: 2.95s\tremaining: 1.84s\n",
      "616:\tlearn: 0.0516676\ttotal: 2.95s\tremaining: 1.83s\n",
      "617:\tlearn: 0.0516045\ttotal: 2.95s\tremaining: 1.82s\n",
      "618:\tlearn: 0.0515142\ttotal: 2.96s\tremaining: 1.82s\n",
      "619:\tlearn: 0.0514596\ttotal: 2.96s\tremaining: 1.81s\n",
      "620:\tlearn: 0.0513881\ttotal: 2.96s\tremaining: 1.81s\n",
      "621:\tlearn: 0.0513718\ttotal: 2.97s\tremaining: 1.8s\n",
      "622:\tlearn: 0.0513435\ttotal: 2.97s\tremaining: 1.8s\n",
      "623:\tlearn: 0.0512772\ttotal: 2.98s\tremaining: 1.79s\n",
      "624:\tlearn: 0.0512316\ttotal: 2.98s\tremaining: 1.79s\n",
      "625:\tlearn: 0.0512237\ttotal: 2.98s\tremaining: 1.78s\n",
      "626:\tlearn: 0.0511413\ttotal: 2.98s\tremaining: 1.78s\n",
      "627:\tlearn: 0.0510919\ttotal: 2.99s\tremaining: 1.77s\n",
      "628:\tlearn: 0.0510854\ttotal: 2.99s\tremaining: 1.76s\n",
      "629:\tlearn: 0.0510519\ttotal: 3s\tremaining: 1.76s\n",
      "630:\tlearn: 0.0509931\ttotal: 3s\tremaining: 1.75s\n",
      "631:\tlearn: 0.0509670\ttotal: 3s\tremaining: 1.75s\n",
      "632:\tlearn: 0.0508762\ttotal: 3.01s\tremaining: 1.74s\n",
      "633:\tlearn: 0.0507929\ttotal: 3.01s\tremaining: 1.74s\n",
      "634:\tlearn: 0.0507178\ttotal: 3.01s\tremaining: 1.73s\n",
      "635:\tlearn: 0.0506701\ttotal: 3.02s\tremaining: 1.73s\n",
      "636:\tlearn: 0.0506622\ttotal: 3.02s\tremaining: 1.72s\n",
      "637:\tlearn: 0.0505560\ttotal: 3.02s\tremaining: 1.72s\n",
      "638:\tlearn: 0.0504932\ttotal: 3.03s\tremaining: 1.71s\n",
      "639:\tlearn: 0.0504246\ttotal: 3.03s\tremaining: 1.71s\n",
      "640:\tlearn: 0.0503475\ttotal: 3.04s\tremaining: 1.7s\n",
      "641:\tlearn: 0.0503323\ttotal: 3.04s\tremaining: 1.69s\n",
      "642:\tlearn: 0.0502857\ttotal: 3.04s\tremaining: 1.69s\n",
      "643:\tlearn: 0.0501909\ttotal: 3.05s\tremaining: 1.68s\n",
      "644:\tlearn: 0.0501349\ttotal: 3.05s\tremaining: 1.68s\n",
      "645:\tlearn: 0.0501130\ttotal: 3.06s\tremaining: 1.68s\n",
      "646:\tlearn: 0.0500771\ttotal: 3.06s\tremaining: 1.67s\n",
      "647:\tlearn: 0.0500705\ttotal: 3.07s\tremaining: 1.67s\n",
      "648:\tlearn: 0.0499839\ttotal: 3.07s\tremaining: 1.66s\n",
      "649:\tlearn: 0.0499282\ttotal: 3.08s\tremaining: 1.66s\n",
      "650:\tlearn: 0.0498562\ttotal: 3.08s\tremaining: 1.65s\n",
      "651:\tlearn: 0.0497439\ttotal: 3.09s\tremaining: 1.65s\n",
      "652:\tlearn: 0.0497274\ttotal: 3.09s\tremaining: 1.64s\n",
      "653:\tlearn: 0.0496521\ttotal: 3.09s\tremaining: 1.64s\n",
      "654:\tlearn: 0.0495707\ttotal: 3.1s\tremaining: 1.63s\n",
      "655:\tlearn: 0.0495644\ttotal: 3.1s\tremaining: 1.63s\n",
      "656:\tlearn: 0.0494730\ttotal: 3.11s\tremaining: 1.62s\n",
      "657:\tlearn: 0.0493956\ttotal: 3.11s\tremaining: 1.62s\n",
      "658:\tlearn: 0.0493354\ttotal: 3.11s\tremaining: 1.61s\n",
      "659:\tlearn: 0.0492583\ttotal: 3.12s\tremaining: 1.6s\n",
      "660:\tlearn: 0.0491628\ttotal: 3.12s\tremaining: 1.6s\n",
      "661:\tlearn: 0.0490658\ttotal: 3.12s\tremaining: 1.59s\n",
      "662:\tlearn: 0.0489920\ttotal: 3.13s\tremaining: 1.59s\n",
      "663:\tlearn: 0.0489859\ttotal: 3.13s\tremaining: 1.58s\n",
      "664:\tlearn: 0.0489190\ttotal: 3.13s\tremaining: 1.58s\n",
      "665:\tlearn: 0.0488541\ttotal: 3.14s\tremaining: 1.57s\n",
      "666:\tlearn: 0.0488484\ttotal: 3.14s\tremaining: 1.57s\n",
      "667:\tlearn: 0.0487833\ttotal: 3.15s\tremaining: 1.56s\n",
      "668:\tlearn: 0.0486864\ttotal: 3.15s\tremaining: 1.56s\n",
      "669:\tlearn: 0.0486064\ttotal: 3.15s\tremaining: 1.55s\n",
      "670:\tlearn: 0.0485700\ttotal: 3.16s\tremaining: 1.55s\n",
      "671:\tlearn: 0.0484984\ttotal: 3.16s\tremaining: 1.54s\n",
      "672:\tlearn: 0.0484174\ttotal: 3.16s\tremaining: 1.54s\n",
      "673:\tlearn: 0.0483302\ttotal: 3.17s\tremaining: 1.53s\n",
      "674:\tlearn: 0.0482808\ttotal: 3.17s\tremaining: 1.53s\n",
      "675:\tlearn: 0.0482236\ttotal: 3.17s\tremaining: 1.52s\n",
      "676:\tlearn: 0.0481651\ttotal: 3.18s\tremaining: 1.52s\n",
      "677:\tlearn: 0.0480905\ttotal: 3.18s\tremaining: 1.51s\n",
      "678:\tlearn: 0.0480628\ttotal: 3.19s\tremaining: 1.51s\n",
      "679:\tlearn: 0.0480429\ttotal: 3.19s\tremaining: 1.5s\n",
      "680:\tlearn: 0.0479826\ttotal: 3.19s\tremaining: 1.5s\n",
      "681:\tlearn: 0.0478915\ttotal: 3.2s\tremaining: 1.49s\n",
      "682:\tlearn: 0.0478620\ttotal: 3.2s\tremaining: 1.49s\n",
      "683:\tlearn: 0.0477849\ttotal: 3.2s\tremaining: 1.48s\n",
      "684:\tlearn: 0.0477434\ttotal: 3.21s\tremaining: 1.47s\n",
      "685:\tlearn: 0.0477247\ttotal: 3.21s\tremaining: 1.47s\n",
      "686:\tlearn: 0.0476938\ttotal: 3.21s\tremaining: 1.46s\n",
      "687:\tlearn: 0.0475934\ttotal: 3.22s\tremaining: 1.46s\n",
      "688:\tlearn: 0.0475357\ttotal: 3.22s\tremaining: 1.45s\n",
      "689:\tlearn: 0.0474697\ttotal: 3.22s\tremaining: 1.45s\n",
      "690:\tlearn: 0.0473998\ttotal: 3.23s\tremaining: 1.44s\n",
      "691:\tlearn: 0.0473724\ttotal: 3.23s\tremaining: 1.44s\n"
     ]
    },
    {
     "name": "stdout",
     "output_type": "stream",
     "text": [
      "692:\tlearn: 0.0473247\ttotal: 3.24s\tremaining: 1.43s\n",
      "693:\tlearn: 0.0472498\ttotal: 3.24s\tremaining: 1.43s\n",
      "694:\tlearn: 0.0471849\ttotal: 3.25s\tremaining: 1.42s\n",
      "695:\tlearn: 0.0471124\ttotal: 3.25s\tremaining: 1.42s\n",
      "696:\tlearn: 0.0470491\ttotal: 3.26s\tremaining: 1.42s\n",
      "697:\tlearn: 0.0469718\ttotal: 3.26s\tremaining: 1.41s\n",
      "698:\tlearn: 0.0468953\ttotal: 3.27s\tremaining: 1.41s\n",
      "699:\tlearn: 0.0468538\ttotal: 3.27s\tremaining: 1.4s\n",
      "700:\tlearn: 0.0467789\ttotal: 3.27s\tremaining: 1.4s\n",
      "701:\tlearn: 0.0467141\ttotal: 3.28s\tremaining: 1.39s\n",
      "702:\tlearn: 0.0466485\ttotal: 3.28s\tremaining: 1.39s\n",
      "703:\tlearn: 0.0465917\ttotal: 3.29s\tremaining: 1.38s\n",
      "704:\tlearn: 0.0465173\ttotal: 3.29s\tremaining: 1.38s\n",
      "705:\tlearn: 0.0464412\ttotal: 3.3s\tremaining: 1.37s\n",
      "706:\tlearn: 0.0463775\ttotal: 3.3s\tremaining: 1.37s\n",
      "707:\tlearn: 0.0462925\ttotal: 3.31s\tremaining: 1.36s\n",
      "708:\tlearn: 0.0462636\ttotal: 3.31s\tremaining: 1.36s\n",
      "709:\tlearn: 0.0462250\ttotal: 3.31s\tremaining: 1.35s\n",
      "710:\tlearn: 0.0461248\ttotal: 3.32s\tremaining: 1.35s\n",
      "711:\tlearn: 0.0460713\ttotal: 3.33s\tremaining: 1.34s\n",
      "712:\tlearn: 0.0460161\ttotal: 3.33s\tremaining: 1.34s\n",
      "713:\tlearn: 0.0459892\ttotal: 3.33s\tremaining: 1.33s\n",
      "714:\tlearn: 0.0458924\ttotal: 3.34s\tremaining: 1.33s\n",
      "715:\tlearn: 0.0458565\ttotal: 3.34s\tremaining: 1.32s\n",
      "716:\tlearn: 0.0458029\ttotal: 3.35s\tremaining: 1.32s\n",
      "717:\tlearn: 0.0457524\ttotal: 3.35s\tremaining: 1.32s\n",
      "718:\tlearn: 0.0457457\ttotal: 3.36s\tremaining: 1.31s\n",
      "719:\tlearn: 0.0456798\ttotal: 3.36s\tremaining: 1.31s\n",
      "720:\tlearn: 0.0456756\ttotal: 3.37s\tremaining: 1.3s\n",
      "721:\tlearn: 0.0455815\ttotal: 3.37s\tremaining: 1.3s\n",
      "722:\tlearn: 0.0454891\ttotal: 3.37s\tremaining: 1.29s\n",
      "723:\tlearn: 0.0454112\ttotal: 3.38s\tremaining: 1.29s\n",
      "724:\tlearn: 0.0453474\ttotal: 3.38s\tremaining: 1.28s\n",
      "725:\tlearn: 0.0452759\ttotal: 3.39s\tremaining: 1.28s\n",
      "726:\tlearn: 0.0452094\ttotal: 3.39s\tremaining: 1.27s\n",
      "727:\tlearn: 0.0451199\ttotal: 3.4s\tremaining: 1.27s\n",
      "728:\tlearn: 0.0450564\ttotal: 3.4s\tremaining: 1.26s\n",
      "729:\tlearn: 0.0450203\ttotal: 3.4s\tremaining: 1.26s\n",
      "730:\tlearn: 0.0450141\ttotal: 3.41s\tremaining: 1.25s\n",
      "731:\tlearn: 0.0449330\ttotal: 3.41s\tremaining: 1.25s\n",
      "732:\tlearn: 0.0449164\ttotal: 3.42s\tremaining: 1.25s\n",
      "733:\tlearn: 0.0448448\ttotal: 3.42s\tremaining: 1.24s\n",
      "734:\tlearn: 0.0448093\ttotal: 3.43s\tremaining: 1.24s\n",
      "735:\tlearn: 0.0447617\ttotal: 3.43s\tremaining: 1.23s\n",
      "736:\tlearn: 0.0446745\ttotal: 3.44s\tremaining: 1.23s\n",
      "737:\tlearn: 0.0446282\ttotal: 3.44s\tremaining: 1.22s\n",
      "738:\tlearn: 0.0445971\ttotal: 3.45s\tremaining: 1.22s\n",
      "739:\tlearn: 0.0445170\ttotal: 3.45s\tremaining: 1.21s\n",
      "740:\tlearn: 0.0444354\ttotal: 3.46s\tremaining: 1.21s\n",
      "741:\tlearn: 0.0443601\ttotal: 3.46s\tremaining: 1.2s\n",
      "742:\tlearn: 0.0443533\ttotal: 3.47s\tremaining: 1.2s\n",
      "743:\tlearn: 0.0442911\ttotal: 3.47s\tremaining: 1.19s\n",
      "744:\tlearn: 0.0442127\ttotal: 3.48s\tremaining: 1.19s\n",
      "745:\tlearn: 0.0441362\ttotal: 3.48s\tremaining: 1.19s\n",
      "746:\tlearn: 0.0441322\ttotal: 3.49s\tremaining: 1.18s\n",
      "747:\tlearn: 0.0440509\ttotal: 3.49s\tremaining: 1.18s\n",
      "748:\tlearn: 0.0440221\ttotal: 3.5s\tremaining: 1.17s\n",
      "749:\tlearn: 0.0439630\ttotal: 3.5s\tremaining: 1.17s\n",
      "750:\tlearn: 0.0438664\ttotal: 3.51s\tremaining: 1.16s\n",
      "751:\tlearn: 0.0437830\ttotal: 3.51s\tremaining: 1.16s\n",
      "752:\tlearn: 0.0437458\ttotal: 3.52s\tremaining: 1.15s\n",
      "753:\tlearn: 0.0437013\ttotal: 3.52s\tremaining: 1.15s\n",
      "754:\tlearn: 0.0436558\ttotal: 3.52s\tremaining: 1.14s\n",
      "755:\tlearn: 0.0435977\ttotal: 3.53s\tremaining: 1.14s\n",
      "756:\tlearn: 0.0435555\ttotal: 3.53s\tremaining: 1.13s\n",
      "757:\tlearn: 0.0435083\ttotal: 3.54s\tremaining: 1.13s\n",
      "758:\tlearn: 0.0434325\ttotal: 3.54s\tremaining: 1.12s\n",
      "759:\tlearn: 0.0433572\ttotal: 3.54s\tremaining: 1.12s\n",
      "760:\tlearn: 0.0433011\ttotal: 3.55s\tremaining: 1.11s\n",
      "761:\tlearn: 0.0432270\ttotal: 3.55s\tremaining: 1.11s\n",
      "762:\tlearn: 0.0431694\ttotal: 3.56s\tremaining: 1.1s\n",
      "763:\tlearn: 0.0431079\ttotal: 3.56s\tremaining: 1.1s\n",
      "764:\tlearn: 0.0430212\ttotal: 3.56s\tremaining: 1.09s\n",
      "765:\tlearn: 0.0429654\ttotal: 3.57s\tremaining: 1.09s\n",
      "766:\tlearn: 0.0429150\ttotal: 3.57s\tremaining: 1.08s\n",
      "767:\tlearn: 0.0428436\ttotal: 3.57s\tremaining: 1.08s\n",
      "768:\tlearn: 0.0428269\ttotal: 3.58s\tremaining: 1.07s\n",
      "769:\tlearn: 0.0427549\ttotal: 3.58s\tremaining: 1.07s\n",
      "770:\tlearn: 0.0426904\ttotal: 3.58s\tremaining: 1.06s\n",
      "771:\tlearn: 0.0426828\ttotal: 3.59s\tremaining: 1.06s\n",
      "772:\tlearn: 0.0426438\ttotal: 3.59s\tremaining: 1.05s\n",
      "773:\tlearn: 0.0425396\ttotal: 3.6s\tremaining: 1.05s\n",
      "774:\tlearn: 0.0424743\ttotal: 3.6s\tremaining: 1.04s\n",
      "775:\tlearn: 0.0424080\ttotal: 3.6s\tremaining: 1.04s\n",
      "776:\tlearn: 0.0423624\ttotal: 3.61s\tremaining: 1.03s\n",
      "777:\tlearn: 0.0423119\ttotal: 3.61s\tremaining: 1.03s\n",
      "778:\tlearn: 0.0422809\ttotal: 3.61s\tremaining: 1.02s\n",
      "779:\tlearn: 0.0422376\ttotal: 3.62s\tremaining: 1.02s\n",
      "780:\tlearn: 0.0421502\ttotal: 3.62s\tremaining: 1.02s\n",
      "781:\tlearn: 0.0421465\ttotal: 3.63s\tremaining: 1.01s\n",
      "782:\tlearn: 0.0420739\ttotal: 3.63s\tremaining: 1.01s\n",
      "783:\tlearn: 0.0420680\ttotal: 3.64s\tremaining: 1s\n",
      "784:\tlearn: 0.0420140\ttotal: 3.64s\tremaining: 998ms\n",
      "785:\tlearn: 0.0419755\ttotal: 3.65s\tremaining: 993ms\n",
      "786:\tlearn: 0.0419309\ttotal: 3.65s\tremaining: 989ms\n",
      "787:\tlearn: 0.0419093\ttotal: 3.66s\tremaining: 984ms\n",
      "788:\tlearn: 0.0418724\ttotal: 3.66s\tremaining: 979ms\n",
      "789:\tlearn: 0.0418142\ttotal: 3.67s\tremaining: 975ms\n",
      "790:\tlearn: 0.0417679\ttotal: 3.67s\tremaining: 970ms\n",
      "791:\tlearn: 0.0417622\ttotal: 3.67s\tremaining: 965ms\n",
      "792:\tlearn: 0.0417587\ttotal: 3.68s\tremaining: 960ms\n",
      "793:\tlearn: 0.0417327\ttotal: 3.68s\tremaining: 955ms\n",
      "794:\tlearn: 0.0416776\ttotal: 3.69s\tremaining: 951ms\n",
      "795:\tlearn: 0.0416139\ttotal: 3.69s\tremaining: 946ms\n",
      "796:\tlearn: 0.0416085\ttotal: 3.69s\tremaining: 941ms\n",
      "797:\tlearn: 0.0415685\ttotal: 3.7s\tremaining: 936ms\n",
      "798:\tlearn: 0.0415298\ttotal: 3.7s\tremaining: 931ms\n",
      "799:\tlearn: 0.0414791\ttotal: 3.71s\tremaining: 926ms\n",
      "800:\tlearn: 0.0414222\ttotal: 3.71s\tremaining: 921ms\n",
      "801:\tlearn: 0.0413341\ttotal: 3.71s\tremaining: 917ms\n",
      "802:\tlearn: 0.0412752\ttotal: 3.72s\tremaining: 912ms\n",
      "803:\tlearn: 0.0412017\ttotal: 3.72s\tremaining: 907ms\n",
      "804:\tlearn: 0.0411251\ttotal: 3.72s\tremaining: 902ms\n",
      "805:\tlearn: 0.0411047\ttotal: 3.73s\tremaining: 897ms\n",
      "806:\tlearn: 0.0410748\ttotal: 3.73s\tremaining: 893ms\n",
      "807:\tlearn: 0.0410614\ttotal: 3.74s\tremaining: 888ms\n",
      "808:\tlearn: 0.0410559\ttotal: 3.74s\tremaining: 883ms\n",
      "809:\tlearn: 0.0409942\ttotal: 3.74s\tremaining: 878ms\n",
      "810:\tlearn: 0.0409206\ttotal: 3.75s\tremaining: 873ms\n",
      "811:\tlearn: 0.0409133\ttotal: 3.75s\tremaining: 868ms\n",
      "812:\tlearn: 0.0408747\ttotal: 3.75s\tremaining: 864ms\n",
      "813:\tlearn: 0.0408434\ttotal: 3.76s\tremaining: 859ms\n",
      "814:\tlearn: 0.0408392\ttotal: 3.76s\tremaining: 854ms\n",
      "815:\tlearn: 0.0408006\ttotal: 3.77s\tremaining: 849ms\n",
      "816:\tlearn: 0.0407736\ttotal: 3.77s\tremaining: 844ms\n",
      "817:\tlearn: 0.0407289\ttotal: 3.77s\tremaining: 840ms\n",
      "818:\tlearn: 0.0406820\ttotal: 3.78s\tremaining: 835ms\n",
      "819:\tlearn: 0.0405903\ttotal: 3.78s\tremaining: 830ms\n",
      "820:\tlearn: 0.0404889\ttotal: 3.78s\tremaining: 825ms\n",
      "821:\tlearn: 0.0404394\ttotal: 3.79s\tremaining: 820ms\n",
      "822:\tlearn: 0.0404021\ttotal: 3.79s\tremaining: 815ms\n",
      "823:\tlearn: 0.0403337\ttotal: 3.79s\tremaining: 811ms\n",
      "824:\tlearn: 0.0402932\ttotal: 3.8s\tremaining: 806ms\n",
      "825:\tlearn: 0.0402438\ttotal: 3.8s\tremaining: 801ms\n",
      "826:\tlearn: 0.0401771\ttotal: 3.81s\tremaining: 797ms\n",
      "827:\tlearn: 0.0401738\ttotal: 3.81s\tremaining: 792ms\n",
      "828:\tlearn: 0.0401287\ttotal: 3.82s\tremaining: 788ms\n",
      "829:\tlearn: 0.0400758\ttotal: 3.82s\tremaining: 783ms\n",
      "830:\tlearn: 0.0400720\ttotal: 3.83s\tremaining: 779ms\n",
      "831:\tlearn: 0.0400684\ttotal: 3.83s\tremaining: 774ms\n",
      "832:\tlearn: 0.0400649\ttotal: 3.84s\tremaining: 769ms\n",
      "833:\tlearn: 0.0400542\ttotal: 3.84s\tremaining: 765ms\n",
      "834:\tlearn: 0.0400193\ttotal: 3.85s\tremaining: 760ms\n",
      "835:\tlearn: 0.0399764\ttotal: 3.85s\tremaining: 756ms\n",
      "836:\tlearn: 0.0399154\ttotal: 3.85s\tremaining: 751ms\n",
      "837:\tlearn: 0.0398703\ttotal: 3.86s\tremaining: 746ms\n",
      "838:\tlearn: 0.0398454\ttotal: 3.86s\tremaining: 741ms\n",
      "839:\tlearn: 0.0398407\ttotal: 3.87s\tremaining: 737ms\n",
      "840:\tlearn: 0.0397931\ttotal: 3.87s\tremaining: 732ms\n",
      "841:\tlearn: 0.0397882\ttotal: 3.88s\tremaining: 727ms\n",
      "842:\tlearn: 0.0397653\ttotal: 3.88s\tremaining: 723ms\n",
      "843:\tlearn: 0.0397497\ttotal: 3.89s\tremaining: 718ms\n",
      "844:\tlearn: 0.0397007\ttotal: 3.89s\tremaining: 714ms\n",
      "845:\tlearn: 0.0396637\ttotal: 3.9s\tremaining: 709ms\n",
      "846:\tlearn: 0.0396086\ttotal: 3.9s\tremaining: 705ms\n",
      "847:\tlearn: 0.0395857\ttotal: 3.9s\tremaining: 700ms\n",
      "848:\tlearn: 0.0395255\ttotal: 3.91s\tremaining: 695ms\n",
      "849:\tlearn: 0.0394849\ttotal: 3.91s\tremaining: 690ms\n",
      "850:\tlearn: 0.0394044\ttotal: 3.92s\tremaining: 686ms\n",
      "851:\tlearn: 0.0393609\ttotal: 3.92s\tremaining: 681ms\n",
      "852:\tlearn: 0.0393384\ttotal: 3.92s\tremaining: 676ms\n",
      "853:\tlearn: 0.0392890\ttotal: 3.93s\tremaining: 671ms\n",
      "854:\tlearn: 0.0392103\ttotal: 3.93s\tremaining: 666ms\n",
      "855:\tlearn: 0.0391553\ttotal: 3.93s\tremaining: 662ms\n",
      "856:\tlearn: 0.0390759\ttotal: 3.94s\tremaining: 657ms\n",
      "857:\tlearn: 0.0390500\ttotal: 3.94s\tremaining: 652ms\n",
      "858:\tlearn: 0.0389697\ttotal: 3.94s\tremaining: 647ms\n",
      "859:\tlearn: 0.0389114\ttotal: 3.95s\tremaining: 643ms\n",
      "860:\tlearn: 0.0388906\ttotal: 3.95s\tremaining: 638ms\n",
      "861:\tlearn: 0.0388613\ttotal: 3.96s\tremaining: 633ms\n",
      "862:\tlearn: 0.0388066\ttotal: 3.96s\tremaining: 629ms\n",
      "863:\tlearn: 0.0387536\ttotal: 3.96s\tremaining: 624ms\n",
      "864:\tlearn: 0.0387109\ttotal: 3.97s\tremaining: 619ms\n",
      "865:\tlearn: 0.0386424\ttotal: 3.97s\tremaining: 614ms\n",
      "866:\tlearn: 0.0385967\ttotal: 3.97s\tremaining: 610ms\n",
      "867:\tlearn: 0.0385512\ttotal: 3.98s\tremaining: 605ms\n",
      "868:\tlearn: 0.0385127\ttotal: 3.98s\tremaining: 600ms\n",
      "869:\tlearn: 0.0384887\ttotal: 3.98s\tremaining: 595ms\n",
      "870:\tlearn: 0.0383979\ttotal: 3.99s\tremaining: 591ms\n",
      "871:\tlearn: 0.0383267\ttotal: 3.99s\tremaining: 586ms\n"
     ]
    },
    {
     "name": "stdout",
     "output_type": "stream",
     "text": [
      "872:\tlearn: 0.0382825\ttotal: 4s\tremaining: 581ms\n",
      "873:\tlearn: 0.0382233\ttotal: 4s\tremaining: 577ms\n",
      "874:\tlearn: 0.0382108\ttotal: 4.01s\tremaining: 572ms\n",
      "875:\tlearn: 0.0382077\ttotal: 4.01s\tremaining: 568ms\n",
      "876:\tlearn: 0.0381692\ttotal: 4.01s\tremaining: 563ms\n",
      "877:\tlearn: 0.0381410\ttotal: 4.02s\tremaining: 559ms\n",
      "878:\tlearn: 0.0380479\ttotal: 4.03s\tremaining: 554ms\n",
      "879:\tlearn: 0.0379952\ttotal: 4.03s\tremaining: 550ms\n",
      "880:\tlearn: 0.0379187\ttotal: 4.04s\tremaining: 545ms\n",
      "881:\tlearn: 0.0378748\ttotal: 4.04s\tremaining: 541ms\n",
      "882:\tlearn: 0.0378203\ttotal: 4.04s\tremaining: 536ms\n",
      "883:\tlearn: 0.0377584\ttotal: 4.05s\tremaining: 531ms\n",
      "884:\tlearn: 0.0376971\ttotal: 4.05s\tremaining: 527ms\n",
      "885:\tlearn: 0.0376525\ttotal: 4.06s\tremaining: 522ms\n",
      "886:\tlearn: 0.0376170\ttotal: 4.06s\tremaining: 517ms\n",
      "887:\tlearn: 0.0375655\ttotal: 4.06s\tremaining: 513ms\n",
      "888:\tlearn: 0.0375513\ttotal: 4.07s\tremaining: 508ms\n",
      "889:\tlearn: 0.0375075\ttotal: 4.07s\tremaining: 503ms\n",
      "890:\tlearn: 0.0374545\ttotal: 4.08s\tremaining: 499ms\n",
      "891:\tlearn: 0.0374038\ttotal: 4.08s\tremaining: 495ms\n",
      "892:\tlearn: 0.0374001\ttotal: 4.09s\tremaining: 490ms\n",
      "893:\tlearn: 0.0373308\ttotal: 4.09s\tremaining: 485ms\n",
      "894:\tlearn: 0.0372820\ttotal: 4.1s\tremaining: 481ms\n",
      "895:\tlearn: 0.0372181\ttotal: 4.1s\tremaining: 476ms\n",
      "896:\tlearn: 0.0371747\ttotal: 4.1s\tremaining: 471ms\n",
      "897:\tlearn: 0.0371233\ttotal: 4.11s\tremaining: 467ms\n",
      "898:\tlearn: 0.0370408\ttotal: 4.11s\tremaining: 462ms\n",
      "899:\tlearn: 0.0370369\ttotal: 4.12s\tremaining: 457ms\n",
      "900:\tlearn: 0.0369892\ttotal: 4.12s\tremaining: 453ms\n",
      "901:\tlearn: 0.0369552\ttotal: 4.12s\tremaining: 448ms\n",
      "902:\tlearn: 0.0369521\ttotal: 4.13s\tremaining: 443ms\n",
      "903:\tlearn: 0.0368701\ttotal: 4.13s\tremaining: 439ms\n",
      "904:\tlearn: 0.0368120\ttotal: 4.13s\tremaining: 434ms\n",
      "905:\tlearn: 0.0367432\ttotal: 4.14s\tremaining: 429ms\n",
      "906:\tlearn: 0.0367159\ttotal: 4.14s\tremaining: 425ms\n",
      "907:\tlearn: 0.0366854\ttotal: 4.14s\tremaining: 420ms\n",
      "908:\tlearn: 0.0366827\ttotal: 4.15s\tremaining: 415ms\n",
      "909:\tlearn: 0.0366796\ttotal: 4.15s\tremaining: 411ms\n",
      "910:\tlearn: 0.0366766\ttotal: 4.16s\tremaining: 406ms\n",
      "911:\tlearn: 0.0366332\ttotal: 4.16s\tremaining: 401ms\n",
      "912:\tlearn: 0.0365889\ttotal: 4.16s\tremaining: 397ms\n",
      "913:\tlearn: 0.0365658\ttotal: 4.17s\tremaining: 392ms\n",
      "914:\tlearn: 0.0365103\ttotal: 4.17s\tremaining: 387ms\n",
      "915:\tlearn: 0.0364598\ttotal: 4.17s\tremaining: 383ms\n",
      "916:\tlearn: 0.0364087\ttotal: 4.18s\tremaining: 378ms\n",
      "917:\tlearn: 0.0363497\ttotal: 4.18s\tremaining: 374ms\n",
      "918:\tlearn: 0.0362800\ttotal: 4.19s\tremaining: 369ms\n",
      "919:\tlearn: 0.0362368\ttotal: 4.19s\tremaining: 364ms\n",
      "920:\tlearn: 0.0362040\ttotal: 4.2s\tremaining: 360ms\n",
      "921:\tlearn: 0.0361723\ttotal: 4.2s\tremaining: 355ms\n",
      "922:\tlearn: 0.0361424\ttotal: 4.21s\tremaining: 351ms\n",
      "923:\tlearn: 0.0361032\ttotal: 4.21s\tremaining: 346ms\n",
      "924:\tlearn: 0.0360773\ttotal: 4.22s\tremaining: 342ms\n",
      "925:\tlearn: 0.0360449\ttotal: 4.22s\tremaining: 337ms\n",
      "926:\tlearn: 0.0359917\ttotal: 4.22s\tremaining: 333ms\n",
      "927:\tlearn: 0.0359608\ttotal: 4.23s\tremaining: 328ms\n",
      "928:\tlearn: 0.0358914\ttotal: 4.23s\tremaining: 323ms\n",
      "929:\tlearn: 0.0358680\ttotal: 4.24s\tremaining: 319ms\n",
      "930:\tlearn: 0.0358121\ttotal: 4.24s\tremaining: 314ms\n",
      "931:\tlearn: 0.0357361\ttotal: 4.24s\tremaining: 310ms\n",
      "932:\tlearn: 0.0356732\ttotal: 4.25s\tremaining: 305ms\n",
      "933:\tlearn: 0.0355883\ttotal: 4.25s\tremaining: 300ms\n",
      "934:\tlearn: 0.0355538\ttotal: 4.25s\tremaining: 296ms\n",
      "935:\tlearn: 0.0354987\ttotal: 4.26s\tremaining: 291ms\n",
      "936:\tlearn: 0.0354235\ttotal: 4.26s\tremaining: 287ms\n",
      "937:\tlearn: 0.0353579\ttotal: 4.27s\tremaining: 282ms\n",
      "938:\tlearn: 0.0352983\ttotal: 4.27s\tremaining: 277ms\n",
      "939:\tlearn: 0.0352958\ttotal: 4.27s\tremaining: 273ms\n",
      "940:\tlearn: 0.0352632\ttotal: 4.28s\tremaining: 268ms\n",
      "941:\tlearn: 0.0352343\ttotal: 4.28s\tremaining: 264ms\n",
      "942:\tlearn: 0.0351874\ttotal: 4.28s\tremaining: 259ms\n",
      "943:\tlearn: 0.0351631\ttotal: 4.29s\tremaining: 254ms\n",
      "944:\tlearn: 0.0351046\ttotal: 4.29s\tremaining: 250ms\n",
      "945:\tlearn: 0.0350718\ttotal: 4.3s\tremaining: 245ms\n",
      "946:\tlearn: 0.0350169\ttotal: 4.3s\tremaining: 241ms\n",
      "947:\tlearn: 0.0349520\ttotal: 4.3s\tremaining: 236ms\n",
      "948:\tlearn: 0.0348863\ttotal: 4.31s\tremaining: 232ms\n",
      "949:\tlearn: 0.0348587\ttotal: 4.31s\tremaining: 227ms\n",
      "950:\tlearn: 0.0348173\ttotal: 4.32s\tremaining: 222ms\n",
      "951:\tlearn: 0.0347692\ttotal: 4.32s\tremaining: 218ms\n",
      "952:\tlearn: 0.0347284\ttotal: 4.33s\tremaining: 213ms\n",
      "953:\tlearn: 0.0347064\ttotal: 4.33s\tremaining: 209ms\n",
      "954:\tlearn: 0.0346226\ttotal: 4.33s\tremaining: 204ms\n",
      "955:\tlearn: 0.0345523\ttotal: 4.34s\tremaining: 200ms\n",
      "956:\tlearn: 0.0344968\ttotal: 4.34s\tremaining: 195ms\n",
      "957:\tlearn: 0.0344325\ttotal: 4.34s\tremaining: 190ms\n",
      "958:\tlearn: 0.0343792\ttotal: 4.35s\tremaining: 186ms\n",
      "959:\tlearn: 0.0343548\ttotal: 4.35s\tremaining: 181ms\n",
      "960:\tlearn: 0.0343335\ttotal: 4.35s\tremaining: 177ms\n",
      "961:\tlearn: 0.0343305\ttotal: 4.36s\tremaining: 172ms\n",
      "962:\tlearn: 0.0343126\ttotal: 4.36s\tremaining: 168ms\n",
      "963:\tlearn: 0.0343092\ttotal: 4.36s\tremaining: 163ms\n",
      "964:\tlearn: 0.0342707\ttotal: 4.37s\tremaining: 158ms\n",
      "965:\tlearn: 0.0342221\ttotal: 4.37s\tremaining: 154ms\n",
      "966:\tlearn: 0.0342186\ttotal: 4.38s\tremaining: 149ms\n",
      "967:\tlearn: 0.0341694\ttotal: 4.38s\tremaining: 145ms\n",
      "968:\tlearn: 0.0341195\ttotal: 4.39s\tremaining: 140ms\n",
      "969:\tlearn: 0.0341165\ttotal: 4.39s\tremaining: 136ms\n",
      "970:\tlearn: 0.0341143\ttotal: 4.4s\tremaining: 131ms\n",
      "971:\tlearn: 0.0340526\ttotal: 4.4s\tremaining: 127ms\n",
      "972:\tlearn: 0.0340066\ttotal: 4.41s\tremaining: 122ms\n",
      "973:\tlearn: 0.0339848\ttotal: 4.41s\tremaining: 118ms\n",
      "974:\tlearn: 0.0339566\ttotal: 4.42s\tremaining: 113ms\n",
      "975:\tlearn: 0.0339170\ttotal: 4.42s\tremaining: 109ms\n",
      "976:\tlearn: 0.0338791\ttotal: 4.42s\tremaining: 104ms\n",
      "977:\tlearn: 0.0338280\ttotal: 4.43s\tremaining: 99.6ms\n",
      "978:\tlearn: 0.0337971\ttotal: 4.43s\tremaining: 95ms\n",
      "979:\tlearn: 0.0337687\ttotal: 4.43s\tremaining: 90.5ms\n",
      "980:\tlearn: 0.0337193\ttotal: 4.44s\tremaining: 85.9ms\n",
      "981:\tlearn: 0.0336934\ttotal: 4.44s\tremaining: 81.4ms\n",
      "982:\tlearn: 0.0336497\ttotal: 4.44s\tremaining: 76.9ms\n",
      "983:\tlearn: 0.0336266\ttotal: 4.45s\tremaining: 72.3ms\n",
      "984:\tlearn: 0.0335849\ttotal: 4.45s\tremaining: 67.8ms\n",
      "985:\tlearn: 0.0335159\ttotal: 4.46s\tremaining: 63.3ms\n",
      "986:\tlearn: 0.0334926\ttotal: 4.46s\tremaining: 58.7ms\n",
      "987:\tlearn: 0.0334634\ttotal: 4.46s\tremaining: 54.2ms\n",
      "988:\tlearn: 0.0334179\ttotal: 4.47s\tremaining: 49.7ms\n",
      "989:\tlearn: 0.0334098\ttotal: 4.47s\tremaining: 45.1ms\n",
      "990:\tlearn: 0.0334066\ttotal: 4.47s\tremaining: 40.6ms\n",
      "991:\tlearn: 0.0333529\ttotal: 4.48s\tremaining: 36.1ms\n",
      "992:\tlearn: 0.0333122\ttotal: 4.48s\tremaining: 31.6ms\n",
      "993:\tlearn: 0.0332921\ttotal: 4.49s\tremaining: 27.1ms\n",
      "994:\tlearn: 0.0332694\ttotal: 4.49s\tremaining: 22.6ms\n",
      "995:\tlearn: 0.0332228\ttotal: 4.49s\tremaining: 18ms\n",
      "996:\tlearn: 0.0331713\ttotal: 4.5s\tremaining: 13.5ms\n",
      "997:\tlearn: 0.0331299\ttotal: 4.5s\tremaining: 9.02ms\n",
      "998:\tlearn: 0.0330902\ttotal: 4.5s\tremaining: 4.51ms\n",
      "999:\tlearn: 0.0330878\ttotal: 4.51s\tremaining: 0us\n"
     ]
    },
    {
     "data": {
      "text/plain": [
       "<catboost.core.CatBoostRegressor at 0x7ffab130a350>"
      ]
     },
     "execution_count": 495,
     "metadata": {},
     "output_type": "execute_result"
    }
   ],
   "source": [
    "catboost = CatBoostRegressor()\n",
    "catboost.fit(X_train, y_train)"
   ]
  },
  {
   "cell_type": "code",
   "execution_count": 496,
   "metadata": {},
   "outputs": [],
   "source": [
    "prediction_cb = catboost.predict(X_test)"
   ]
  },
  {
   "cell_type": "code",
   "execution_count": 497,
   "metadata": {},
   "outputs": [],
   "source": [
    "from xgboost import XGBRegressor\n",
    "import xgboost as xgb\n",
    "\n",
    "xgbr = xgb.XGBRegressor()"
   ]
  },
  {
   "cell_type": "code",
   "execution_count": 498,
   "metadata": {},
   "outputs": [
    {
     "data": {
      "text/plain": [
       "XGBRegressor(base_score=0.5, booster='gbtree', colsample_bylevel=1,\n",
       "             colsample_bynode=1, colsample_bytree=1, gamma=0, gpu_id=-1,\n",
       "             importance_type='gain', interaction_constraints='',\n",
       "             learning_rate=0.300000012, max_delta_step=0, max_depth=6,\n",
       "             min_child_weight=1, missing=nan, monotone_constraints='()',\n",
       "             n_estimators=100, n_jobs=8, num_parallel_tree=1, random_state=0,\n",
       "             reg_alpha=0, reg_lambda=1, scale_pos_weight=1, subsample=1,\n",
       "             tree_method='exact', validate_parameters=1, verbosity=None)"
      ]
     },
     "execution_count": 498,
     "metadata": {},
     "output_type": "execute_result"
    }
   ],
   "source": [
    "xgbr.fit(X_train, y_train)"
   ]
  },
  {
   "cell_type": "code",
   "execution_count": 499,
   "metadata": {},
   "outputs": [],
   "source": [
    "prediction_xgbr = xgbr.predict(X_test)"
   ]
  },
  {
   "cell_type": "markdown",
   "metadata": {},
   "source": [
    "## Choosing the best parametres "
   ]
  },
  {
   "cell_type": "markdown",
   "metadata": {},
   "source": [
    "### CatBoost"
   ]
  },
  {
   "cell_type": "code",
   "execution_count": 500,
   "metadata": {},
   "outputs": [],
   "source": [
    "from sklearn.model_selection import RandomizedSearchCV\n",
    "catM = CatBoostRegressor(verbose=0, allow_writing_files=False)\n",
    "params = {'learning_rate': [0.01, 0.05, 0.005, 0.0005],\n",
    "          'depth': [3, 4, 6],\n",
    "          'l2_leaf_reg': [1, 2, 3, 5, 9]}"
   ]
  },
  {
   "cell_type": "code",
   "execution_count": 501,
   "metadata": {},
   "outputs": [
    {
     "name": "stdout",
     "output_type": "stream",
     "text": [
      "Fitting 4 folds for each of 10 candidates, totalling 40 fits\n"
     ]
    },
    {
     "name": "stderr",
     "output_type": "stream",
     "text": [
      "[Parallel(n_jobs=-1)]: Using backend LokyBackend with 8 concurrent workers.\n",
      "[Parallel(n_jobs=-1)]: Done  25 tasks      | elapsed:   52.9s\n",
      "[Parallel(n_jobs=-1)]: Done  40 out of  40 | elapsed:  1.3min finished\n"
     ]
    },
    {
     "name": "stdout",
     "output_type": "stream",
     "text": [
      "Best params(CatBoost): {'learning_rate': 0.05, 'l2_leaf_reg': 5, 'depth': 4}\n",
      "RMSE(CatBoost): 0.12046877270592342\n"
     ]
    }
   ],
   "source": [
    "grid_search_cat = RandomizedSearchCV(estimator=catM, scoring='neg_root_mean_squared_error', param_distributions=params, n_iter=10, cv=4, verbose=2,\n",
    "                                 random_state=42, n_jobs=-1)\n",
    "grid_search_cat.fit(X_train, y_train)\n",
    "catModel = grid_search_cat.best_estimator_\n",
    "print('Best params(CatBoost):',grid_search_cat.best_params_)\n",
    "print('RMSE(CatBoost):', -grid_search_cat.best_score_)"
   ]
  },
  {
   "cell_type": "code",
   "execution_count": 502,
   "metadata": {},
   "outputs": [],
   "source": [
    "#catModel = catBoost(X_train, y_train, X_test)\n",
    "# catModel = CatBoostRegressor(verbose=0, allow_writing_files=False, learning_rate=0.05, l2_leaf_reg=2, depth=4)\n"
   ]
  },
  {
   "cell_type": "code",
   "execution_count": 503,
   "metadata": {},
   "outputs": [],
   "source": [
    "catModel.fit(X_train, y_train)\n",
    "prediction_cb_best = catModel.predict(X_test)"
   ]
  },
  {
   "cell_type": "markdown",
   "metadata": {},
   "source": [
    "### XGBoost"
   ]
  },
  {
   "cell_type": "code",
   "execution_count": 182,
   "metadata": {},
   "outputs": [],
   "source": [
    "params = {'learning_rate': [0.02], 'n_estimators' : [2000], 'max_depth':[3], \n",
    "          'colsample_bytree' : [0.4], 'subsample' : [0.7]}"
   ]
  },
  {
   "cell_type": "code",
   "execution_count": 183,
   "metadata": {},
   "outputs": [
    {
     "data": {
      "text/plain": [
       "GridSearchCV(cv=5,\n",
       "             estimator=XGBRegressor(base_score=0.5, booster='gbtree',\n",
       "                                    colsample_bylevel=1, colsample_bynode=1,\n",
       "                                    colsample_bytree=1, gamma=0, gpu_id=-1,\n",
       "                                    importance_type='gain',\n",
       "                                    interaction_constraints='',\n",
       "                                    learning_rate=0.300000012, max_delta_step=0,\n",
       "                                    max_depth=6, min_child_weight=1,\n",
       "                                    missing=nan, monotone_constraints='()',\n",
       "                                    n_estimators=100, n_jobs=8,\n",
       "                                    num_parallel_tree=1, random_state=0,\n",
       "                                    reg_alpha=0, reg_lambda=1,\n",
       "                                    scale_pos_weight=1, subsample=1,\n",
       "                                    tree_method='exact', validate_parameters=1,\n",
       "                                    verbosity=None),\n",
       "             n_jobs=1,\n",
       "             param_grid={'colsample_bytree': [0.4], 'learning_rate': [0.02],\n",
       "                         'max_depth': [3], 'n_estimators': [2000],\n",
       "                         'subsample': [0.7]})"
      ]
     },
     "execution_count": 183,
     "metadata": {},
     "output_type": "execute_result"
    }
   ],
   "source": [
    "xgbr_reg = GridSearchCV(xgbr, params, cv = 5, n_jobs =1)\n",
    "xgbr_reg.fit(X_train,y_train)"
   ]
  },
  {
   "cell_type": "code",
   "execution_count": 184,
   "metadata": {},
   "outputs": [
    {
     "name": "stdout",
     "output_type": "stream",
     "text": [
      "Best params:{'colsample_bytree': 0.4, 'learning_rate': 0.02, 'max_depth': 3, 'n_estimators': 2000, 'subsample': 0.7}\n",
      "Root Mean Square Error train = 0.003016313956477649\n",
      "Root Mean Square Error test = 0.010264353408802097\n"
     ]
    }
   ],
   "source": [
    "print(\"Best params:{}\".format(xgbr_reg.best_params_))\n",
    "\n",
    "best_x = xgbr_reg.best_estimator_\n",
    "y_train_pred_x = best_x.predict(X_train)\n",
    "y_val_pred_x = best_x.predict(X_test)\n",
    "\n",
    "print('Root Mean Square Error train = ' + str(np.sqrt(mean_squared_log_error(y_train, y_train_pred_x))))\n",
    "print('Root Mean Square Error test = ' + str(np.sqrt(mean_squared_log_error(y_test, y_val_pred_x)))) "
   ]
  },
  {
   "cell_type": "code",
   "execution_count": 185,
   "metadata": {},
   "outputs": [],
   "source": [
    "prediction_xgbr_best = best_x.predict(X_test)"
   ]
  },
  {
   "cell_type": "markdown",
   "metadata": {},
   "source": [
    "### Calculate error"
   ]
  },
  {
   "cell_type": "code",
   "execution_count": 504,
   "metadata": {
    "scrolled": true
   },
   "outputs": [],
   "source": [
    "from sklearn.metrics import mean_squared_log_error\n"
   ]
  },
  {
   "cell_type": "code",
   "execution_count": 249,
   "metadata": {},
   "outputs": [
    {
     "data": {
      "text/plain": [
       "Id\n",
       "1323    12.154785\n",
       "838     11.512935\n",
       "415     12.337105\n",
       "524     12.126764\n",
       "1037    12.661917\n",
       "616     11.831386\n",
       "219     12.649158\n",
       "1033    12.644331\n",
       "1290    12.546114\n",
       "888     11.816734\n",
       "578     12.010672\n",
       "1252    12.053801\n",
       "1192    12.066816\n",
       "569     12.665398\n",
       "1109    12.106258\n",
       "854     11.970357\n",
       "169     12.119975\n",
       "1103    11.813037\n",
       "1120    11.803361\n",
       "68      12.328295\n",
       "1043    12.185875\n",
       "455     12.144203\n",
       "671     12.063939\n",
       "1174    12.208575\n",
       "193     12.165256\n",
       "124     11.944065\n",
       "417     11.915058\n",
       "278     11.856522\n",
       "435     11.302217\n",
       "1171    12.049425\n",
       "185     11.751950\n",
       "556     11.635152\n",
       "1189    12.180760\n",
       "77      11.818578\n",
       "907     12.449023\n",
       "1025    12.567241\n",
       "1286    11.794345\n",
       "376     11.018646\n",
       "1449    11.626263\n",
       "260     11.482477\n",
       "52      11.648339\n",
       "245     12.230770\n",
       "1102    11.691080\n",
       "583     11.682677\n",
       "680     11.763692\n",
       "759     12.097379\n",
       "1015    11.688566\n",
       "50      11.751950\n",
       "593     11.835016\n",
       "967     11.982935\n",
       "1249    11.771444\n",
       "1280    11.133143\n",
       "492     11.798112\n",
       "1337    11.813037\n",
       "812     11.881042\n",
       "142     12.468441\n",
       "847     12.269052\n",
       "926     12.072547\n",
       "773     11.580593\n",
       "534     10.579005\n",
       "30      11.134604\n",
       "1052    12.206782\n",
       "66      12.666660\n",
       "766     12.484208\n",
       "1348    12.554840\n",
       "176     12.400821\n",
       "396     11.767575\n",
       "621     11.112463\n",
       "1390    11.782960\n",
       "116     12.078245\n",
       "1418    12.736704\n",
       "947     11.870607\n",
       "429     12.182809\n",
       "814     11.969724\n",
       "1403    12.174995\n",
       "1107    12.100162\n",
       "867     12.424811\n",
       "624     12.034697\n",
       "45      11.856522\n",
       "60      11.735277\n",
       "365     12.154785\n",
       "400     12.392556\n",
       "424     12.660331\n",
       "496     10.460271\n",
       "418     12.384223\n",
       "586     12.820991\n",
       "271     12.491255\n",
       "353     11.461643\n",
       "724     11.813037\n",
       "1239    11.867104\n",
       "1265    12.106258\n",
       "1334    11.740069\n",
       "275     11.732069\n",
       "323     12.614869\n",
       "79      11.824087\n",
       "1020    12.271350\n",
       "276     12.230770\n",
       "764     12.727841\n",
       "221     12.230282\n",
       "317     12.468441\n",
       "1007    12.004574\n",
       "1452    12.567555\n",
       "71      12.404928\n",
       "16      11.790565\n",
       "1358    11.917730\n",
       "743     12.095147\n",
       "709     12.098159\n",
       "1376    12.384223\n",
       "1002    11.362114\n",
       "1210    12.577640\n",
       "1085    12.141539\n",
       "466     12.093693\n",
       "1272    12.132162\n",
       "1398    11.831386\n",
       "384     11.238502\n",
       "1429    11.686887\n",
       "732     12.141539\n",
       "1341    11.719948\n",
       "1216    11.736077\n",
       "333     12.556733\n",
       "545     12.098855\n",
       "204     11.911708\n",
       "1134    12.386313\n",
       "1415    12.240479\n",
       "431     11.355113\n",
       "1114    11.809327\n",
       "747     12.371591\n",
       "591     12.132970\n",
       "1278    12.195522\n",
       "1118    11.775297\n",
       "592     13.021329\n",
       "587     11.775297\n",
       "1095    11.767575\n",
       "199     11.552156\n",
       "917     10.471978\n",
       "717     11.979805\n",
       "1045    12.535380\n",
       "44      11.777219\n",
       "1034    12.345839\n",
       "1032    12.190964\n",
       "232     12.906694\n",
       "528     13.008662\n",
       "102     12.089544\n",
       "884     11.682677\n",
       "413     12.310437\n",
       "1026    11.630717\n",
       "908     12.429220\n",
       "783     12.139404\n",
       "1279    12.375820\n",
       "622     12.388398\n",
       "670     11.831386\n",
       "129     11.951187\n",
       "531     12.072547\n",
       "911     11.946661\n",
       "653     12.160034\n",
       "1451    11.820418\n",
       "1070    11.813037\n",
       "248     11.849405\n",
       "530     12.209193\n",
       "924     12.170451\n",
       "33      12.100162\n",
       "810     11.571204\n",
       "1028    12.588194\n",
       "1054    11.881042\n",
       "577     11.884496\n",
       "667     11.767575\n",
       "298     12.384223\n",
       "262     12.528160\n",
       "1184    11.695255\n",
       "940     12.406566\n",
       "310     12.793862\n",
       "164     11.544434\n",
       "638     11.440366\n",
       "601     12.524530\n",
       "1175    12.384223\n",
       "373     11.736077\n",
       "240     11.635152\n",
       "787     11.842236\n",
       "1274    12.083911\n",
       "1087    11.332614\n",
       "1215    11.809327\n",
       "784     12.016733\n",
       "645     12.823631\n",
       "427     12.524530\n",
       "1055    12.449023\n",
       "64      11.849405\n",
       "656     11.385103\n",
       "1395    12.415438\n",
       "1110    12.542548\n",
       "960     11.951187\n",
       "434     12.106258\n",
       "933     12.676079\n",
       "1195    11.970357\n",
       "841     11.849405\n",
       "1324    11.320566\n",
       "609     12.791359\n",
       "1199    12.089544\n",
       "31      10.596660\n",
       "57      12.058158\n",
       "1178    11.652696\n",
       "453     12.225880\n",
       "560     12.363081\n",
       "367     11.976666\n",
       "425     11.842236\n",
       "1311    12.721889\n",
       "1441    12.160034\n",
       "1009    12.388398\n",
       "980     11.842236\n",
       "356     12.086732\n",
       "1357    11.608245\n",
       "307     12.323860\n",
       "1436    12.066816\n",
       "100     11.767188\n",
       "756     12.058158\n",
       "272     12.394629\n",
       "241     12.478010\n",
       "599     12.289959\n",
       "1093    11.824087\n",
       "360     12.542548\n",
       "985     11.744045\n",
       "1406    12.524530\n",
       "708     12.445093\n",
       "600     11.925042\n",
       "1430    12.116700\n",
       "1345    11.956559\n",
       "341     12.220473\n",
       "952     11.694422\n",
       "1433    11.074436\n",
       "1105    11.571204\n",
       "712     11.540317\n",
       "1050    11.349241\n",
       "311     12.017337\n",
       "573     12.321635\n",
       "918     11.813037\n",
       "604     11.925042\n",
       "290     11.941951\n",
       "430     12.072547\n",
       "1086    11.898195\n",
       "209     12.531776\n",
       "663     11.608245\n",
       "355     11.849405\n",
       "325     12.396697\n",
       "238     12.178193\n",
       "59      12.991756\n",
       "1159    12.367890\n",
       "537     12.144203\n",
       "369     11.790565\n",
       "1148    12.069686\n",
       "24      11.774528\n",
       "108     11.652696\n",
       "748     12.491176\n",
       "729     11.608245\n",
       "363     12.198549\n",
       "761     11.755879\n",
       "540     12.513561\n",
       "1142    12.193499\n",
       "1177    11.691080\n",
       "1389    12.841328\n",
       "782     12.077677\n",
       "1123    11.626263\n",
       "1096    12.080696\n",
       "1130    11.849405\n",
       "234     11.761355\n",
       "428     11.599186\n",
       "197     12.650351\n",
       "1251    12.404928\n",
       "82      11.941462\n",
       "1369    11.877576\n",
       "1448    12.388398\n",
       "112     12.100718\n",
       "1332    11.794345\n",
       "745     12.100718\n",
       "938     12.441149\n",
       "346     11.850832\n",
       "1232    11.794345\n",
       "955     11.755879\n",
       "936     11.288544\n",
       "352     12.154785\n",
       "590     11.283525\n",
       "1083    12.165256\n",
       "949     12.167857\n",
       "1450    11.429555\n",
       "990     12.190964\n",
       "1314    12.716405\n",
       "480     11.401681\n",
       "1248    12.042971\n",
       "1411    12.345839\n",
       "481     12.694656\n",
       "1362    12.468441\n",
       "1416    12.077677\n",
       "652     11.589896\n",
       "723     11.732069\n",
       "255     11.884496\n",
       "1067    12.089544\n",
       "866     11.908347\n",
       "800     12.072547\n",
       "382     12.142872\n",
       "304     11.917730\n",
       "87      12.066816\n",
       "1386    11.740069\n",
       "266     12.075400\n",
       "794     12.323860\n",
       "1446    11.767575\n",
       "809     11.982623\n",
       "1100    11.964007\n",
       "607     11.931642\n",
       "702     11.849405\n",
       "222     12.206078\n",
       "114     12.287657\n",
       "550     12.479913\n",
       "1167    12.410445\n",
       "175     12.122696\n",
       "516     12.906349\n",
       "1228    11.898195\n",
       "1211    12.149508\n",
       "966     12.094588\n",
       "1089    11.831386\n",
       "286     12.011887\n",
       "826     12.861001\n",
       "344     12.491255\n",
       "1165    12.175619\n",
       "32      11.914055\n",
       "1425    11.877576\n",
       "211     11.492733\n",
       "925     12.242891\n",
       "407     11.652696\n",
       "1444    11.703554\n",
       "383     12.271397\n",
       "890     11.915058\n",
       "1200    11.904974\n",
       "189     11.940400\n",
       "894     12.013707\n",
       "871     11.603689\n",
       "422     12.278398\n",
       "580     11.786770\n",
       "84      11.748005\n",
       "1235    11.775297\n",
       "49      11.635152\n",
       "156     11.277216\n",
       "1351    12.206078\n",
       "1307    12.218500\n",
       "851     11.786770\n",
       "1031    11.982935\n",
       "769     12.286906\n",
       "1313    12.618186\n",
       "1443    12.644331\n",
       "483     11.951187\n",
       "180     11.512935\n",
       "860     12.429220\n",
       "1213    11.635152\n",
       "585     11.798112\n",
       "479     12.601491\n",
       "1318    12.249616\n",
       "1146    11.911708\n",
       "1166    12.359527\n",
       "348     11.967187\n",
       "1214    11.884496\n",
       "1206    12.513193\n",
       "1183    13.521141\n",
       "1119    11.849405\n",
       "681     11.870607\n",
       "244     11.695255\n",
       "1038    12.567241\n",
       "912     11.874097\n",
       "970     11.849405\n",
       "849     12.388398\n",
       "811     12.106258\n",
       "1385    11.561725\n",
       "1063    11.407576\n",
       "954     12.055256\n",
       "840     11.779136\n",
       "372     11.808821\n",
       "55      11.775297\n",
       "536     11.585255\n",
       "1136    11.532738\n",
       "313     11.694422\n",
       "1201    11.661785\n",
       "110     12.154785\n",
       "432     11.288544\n",
       "101     12.230770\n",
       "515     11.477309\n",
       "640     12.485831\n",
       "267     12.128117\n",
       "1049    11.652696\n",
       "297     11.931642\n",
       "508     12.246739\n",
       "902     11.938200\n",
       "672     11.548302\n",
       "379     12.885205\n",
       "287     11.976666\n",
       "1401    11.695255\n",
       "1133    11.674202\n",
       "127     11.759793\n",
       "620     12.628070\n",
       "293     11.782960\n",
       "529     11.362114\n",
       "695     11.860062\n",
       "484     12.007628\n",
       "357     12.061053\n",
       "171     11.763692\n",
       "801     12.206078\n",
       "662     12.904210\n",
       "1234    11.863589\n",
       "210     11.884496\n",
       "487     11.957618\n",
       "141     11.652696\n",
       "1057    12.132701\n",
       "944     11.870607\n",
       "623     11.813037\n",
       "1157    12.100162\n",
       "818     12.509878\n",
       "978     12.205578\n",
       "1039    11.482477\n",
       "200     12.524166\n",
       "495     11.421917\n",
       "989     12.180760\n",
       "676     11.908347\n",
       "1059    12.721889\n",
       "1187    11.461643\n",
       "11      11.771444\n",
       "148     12.312687\n",
       "1198    11.877576\n",
       "283     12.242891\n",
       "299     12.072547\n",
       "919     12.380030\n",
       "292     11.819682\n",
       "820     12.319406\n",
       "575     11.842236\n",
       "1220    11.424105\n",
       "551     11.849405\n",
       "464     12.147919\n",
       "130     11.918397\n",
       "846     12.049425\n",
       "332     11.842236\n",
       "324     11.745433\n",
       "651     12.235394\n",
       "441     13.226725\n",
       "976     12.013707\n",
       "136     12.066816\n",
       "1453    11.884496\n",
       "1048    11.884496\n",
       "693     12.721889\n",
       "437     11.661354\n",
       "630     12.034697\n",
       "628     11.938200\n",
       "972     12.061053\n",
       "636     12.206078\n",
       "159     12.448631\n",
       "968     11.813037\n",
       "1287    11.870607\n",
       "553     12.450982\n",
       "499     11.775297\n",
       "1035    11.693170\n",
       "1262    11.766800\n",
       "903     12.100718\n",
       "1312    12.220966\n",
       "568     12.273736\n",
       "612     11.904974\n",
       "1060    12.301387\n",
       "1207    11.580593\n",
       "1170    13.345509\n",
       "440     11.608245\n",
       "941     11.924379\n",
       "97      12.273736\n",
       "562     12.043560\n",
       "1365    11.878631\n",
       "473     11.904974\n",
       "1098    12.043560\n",
       "412     11.884496\n",
       "964     12.384223\n",
       "584     12.691584\n",
       "157     11.603689\n",
       "596     12.672950\n",
       "619     12.659737\n",
       "449     11.691080\n",
       "1205    11.941462\n",
       "1068    12.031130\n",
       "1011    11.813037\n",
       "392     12.278398\n",
       "1410    12.278398\n",
       "848     11.801864\n",
       "1298    11.849405\n",
       "Name: SalePrice, dtype: float64"
      ]
     },
     "execution_count": 249,
     "metadata": {},
     "output_type": "execute_result"
    }
   ],
   "source": [
    "y_test"
   ]
  },
  {
   "cell_type": "code",
   "execution_count": 505,
   "metadata": {},
   "outputs": [
    {
     "data": {
      "text/plain": [
       "0.1462287266653488"
      ]
     },
     "execution_count": 505,
     "metadata": {},
     "output_type": "execute_result"
    }
   ],
   "source": [
    "np.sqrt(mean_squared_log_error(np.expm1(y_test), np.expm1(prediction_rf)))"
   ]
  },
  {
   "cell_type": "code",
   "execution_count": 506,
   "metadata": {},
   "outputs": [
    {
     "data": {
      "text/plain": [
       "0.12825979156396208"
      ]
     },
     "execution_count": 506,
     "metadata": {},
     "output_type": "execute_result"
    }
   ],
   "source": [
    "np.sqrt(mean_squared_log_error(np.expm1(y_test), np.expm1(prediction_cb)))"
   ]
  },
  {
   "cell_type": "code",
   "execution_count": 507,
   "metadata": {},
   "outputs": [
    {
     "data": {
      "text/plain": [
       "0.1239908214490315"
      ]
     },
     "execution_count": 507,
     "metadata": {},
     "output_type": "execute_result"
    }
   ],
   "source": [
    "np.sqrt(mean_squared_log_error(np.expm1(y_test), np.expm1(prediction_cb_best)))"
   ]
  },
  {
   "cell_type": "code",
   "execution_count": 189,
   "metadata": {},
   "outputs": [
    {
     "data": {
      "text/plain": [
       "0.1516233625377867"
      ]
     },
     "execution_count": 189,
     "metadata": {},
     "output_type": "execute_result"
    }
   ],
   "source": [
    "np.sqrt(mean_squared_log_error(np.expm1(y_test), np.expm1(prediction_xgbr)))"
   ]
  },
  {
   "cell_type": "code",
   "execution_count": 190,
   "metadata": {},
   "outputs": [
    {
     "data": {
      "text/plain": [
       "0.1317138513997094"
      ]
     },
     "execution_count": 190,
     "metadata": {},
     "output_type": "execute_result"
    }
   ],
   "source": [
    "np.sqrt(mean_squared_log_error(np.expm1(y_test), np.expm1(prediction_xgbr_best)))"
   ]
  },
  {
   "cell_type": "code",
   "execution_count": 135,
   "metadata": {},
   "outputs": [],
   "source": [
    "mixed_prediction = 0.6* prediction_cb + 0.4 * prediction_cb_best #+ 0.3*prediction_xgbr_best"
   ]
  },
  {
   "cell_type": "code",
   "execution_count": 136,
   "metadata": {},
   "outputs": [
    {
     "data": {
      "text/plain": [
       "0.12822568715166743"
      ]
     },
     "execution_count": 136,
     "metadata": {},
     "output_type": "execute_result"
    }
   ],
   "source": [
    "np.sqrt(mean_squared_log_error(np.expm1(y_test), np.expm1(mixed_prediction)))"
   ]
  },
  {
   "cell_type": "code",
   "execution_count": 82,
   "metadata": {
    "scrolled": true
   },
   "outputs": [
    {
     "data": {
      "text/plain": [
       "Id\n",
       "893     11.947956\n",
       "1106    12.691584\n",
       "414     11.652696\n",
       "523     11.976666\n",
       "1037    12.661917\n",
       "          ...    \n",
       "1011    11.813037\n",
       "391     11.686887\n",
       "1410    12.278398\n",
       "848     11.801864\n",
       "1285    12.037660\n",
       "Name: SalePrice, Length: 482, dtype: float64"
      ]
     },
     "execution_count": 82,
     "metadata": {},
     "output_type": "execute_result"
    }
   ],
   "source": [
    "y_test"
   ]
  },
  {
   "cell_type": "markdown",
   "metadata": {},
   "source": [
    "## Make prediction"
   ]
  },
  {
   "cell_type": "code",
   "execution_count": null,
   "metadata": {},
   "outputs": [],
   "source": [
    "# y_pred = catModel.predict(test)\n",
    "y_pred = catboost.predict(test)"
   ]
  },
  {
   "cell_type": "code",
   "execution_count": null,
   "metadata": {},
   "outputs": [],
   "source": [
    "y_pred"
   ]
  },
  {
   "cell_type": "code",
   "execution_count": null,
   "metadata": {},
   "outputs": [],
   "source": [
    "tmp = pd.read_csv('house-prices-advanced-regression-techniques/test.csv')\n",
    "tmp['SalePrice'] = np.expm1(y_pred)"
   ]
  },
  {
   "cell_type": "code",
   "execution_count": null,
   "metadata": {},
   "outputs": [],
   "source": [
    "y_pred.shape"
   ]
  },
  {
   "cell_type": "code",
   "execution_count": null,
   "metadata": {},
   "outputs": [],
   "source": [
    "pred_df = tmp[['Id', 'SalePrice']]\n",
    "pred_df.set_index('Id', inplace=True)"
   ]
  },
  {
   "cell_type": "code",
   "execution_count": null,
   "metadata": {},
   "outputs": [],
   "source": [
    "pred_df"
   ]
  },
  {
   "cell_type": "code",
   "execution_count": null,
   "metadata": {},
   "outputs": [],
   "source": [
    "pred_df.to_csv('out.csv')"
   ]
  },
  {
   "cell_type": "code",
   "execution_count": null,
   "metadata": {},
   "outputs": [],
   "source": [
    "np.sqrt(mean_squared_log_error(pred_df.SalePrice, np.expm1(y_pred)))"
   ]
  },
  {
   "cell_type": "code",
   "execution_count": null,
   "metadata": {},
   "outputs": [],
   "source": []
  },
  {
   "cell_type": "code",
   "execution_count": null,
   "metadata": {},
   "outputs": [],
   "source": []
  }
 ],
 "metadata": {
  "kernelspec": {
   "display_name": "Python 3",
   "language": "python",
   "name": "python3"
  },
  "language_info": {
   "codemirror_mode": {
    "name": "ipython",
    "version": 3
   },
   "file_extension": ".py",
   "mimetype": "text/x-python",
   "name": "python",
   "nbconvert_exporter": "python",
   "pygments_lexer": "ipython3",
   "version": "3.7.6"
  }
 },
 "nbformat": 4,
 "nbformat_minor": 4
}
