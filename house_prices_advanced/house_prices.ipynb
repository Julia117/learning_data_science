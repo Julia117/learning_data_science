{
 "cells": [
  {
   "cell_type": "code",
   "execution_count": 1,
   "metadata": {},
   "outputs": [],
   "source": [
    "from sklearn import tree\n",
    "import pandas as pd\n",
    "import numpy as np\n",
    "%matplotlib inline\n",
    "import matplotlib.pyplot as plt\n",
    "import seaborn as sns\n",
    "from sklearn.model_selection import train_test_split\n"
   ]
  },
  {
   "cell_type": "code",
   "execution_count": 2,
   "metadata": {},
   "outputs": [
    {
     "ename": "NameError",
     "evalue": "name 'df' is not defined",
     "output_type": "error",
     "traceback": [
      "\u001b[0;31m---------------------------------------------------------------------------\u001b[0m",
      "\u001b[0;31mNameError\u001b[0m                                 Traceback (most recent call last)",
      "\u001b[0;32m<ipython-input-2-5752359e8464>\u001b[0m in \u001b[0;36m<module>\u001b[0;34m\u001b[0m\n\u001b[0;32m----> 1\u001b[0;31m \u001b[0mpd\u001b[0m\u001b[0;34m.\u001b[0m\u001b[0mset_option\u001b[0m\u001b[0;34m(\u001b[0m\u001b[0;34m'display.max_rows'\u001b[0m\u001b[0;34m,\u001b[0m \u001b[0mdf\u001b[0m\u001b[0;34m.\u001b[0m\u001b[0mshape\u001b[0m\u001b[0;34m[\u001b[0m\u001b[0;36m0\u001b[0m\u001b[0;34m]\u001b[0m\u001b[0;34m+\u001b[0m\u001b[0;36m1\u001b[0m\u001b[0;34m)\u001b[0m\u001b[0;34m\u001b[0m\u001b[0;34m\u001b[0m\u001b[0m\n\u001b[0m\u001b[1;32m      2\u001b[0m \u001b[0;31m# pd.set_option('display.max_rows', 10)\u001b[0m\u001b[0;34m\u001b[0m\u001b[0;34m\u001b[0m\u001b[0;34m\u001b[0m\u001b[0m\n",
      "\u001b[0;31mNameError\u001b[0m: name 'df' is not defined"
     ]
    }
   ],
   "source": [
    "pd.set_option('display.max_rows', df.shape[0]+1)\n",
    "# pd.set_option('display.max_rows', 10)"
   ]
  },
  {
   "cell_type": "code",
   "execution_count": 414,
   "metadata": {},
   "outputs": [],
   "source": [
    "train_data = pd.read_csv('house-prices-advanced-regression-techniques/train.csv', index_col=0)\n",
    "test_data = pd.read_csv('house-prices-advanced-regression-techniques/test.csv', index_col=0)"
   ]
  },
  {
   "cell_type": "code",
   "execution_count": 415,
   "metadata": {
    "scrolled": true
   },
   "outputs": [
    {
     "name": "stdout",
     "output_type": "stream",
     "text": [
      "(1460, 80)\n"
     ]
    },
    {
     "data": {
      "text/html": [
       "<div>\n",
       "<style scoped>\n",
       "    .dataframe tbody tr th:only-of-type {\n",
       "        vertical-align: middle;\n",
       "    }\n",
       "\n",
       "    .dataframe tbody tr th {\n",
       "        vertical-align: top;\n",
       "    }\n",
       "\n",
       "    .dataframe thead th {\n",
       "        text-align: right;\n",
       "    }\n",
       "</style>\n",
       "<table border=\"1\" class=\"dataframe\">\n",
       "  <thead>\n",
       "    <tr style=\"text-align: right;\">\n",
       "      <th></th>\n",
       "      <th>MSSubClass</th>\n",
       "      <th>MSZoning</th>\n",
       "      <th>LotFrontage</th>\n",
       "      <th>LotArea</th>\n",
       "      <th>Street</th>\n",
       "      <th>Alley</th>\n",
       "      <th>LotShape</th>\n",
       "      <th>LandContour</th>\n",
       "      <th>Utilities</th>\n",
       "      <th>LotConfig</th>\n",
       "      <th>...</th>\n",
       "      <th>PoolArea</th>\n",
       "      <th>PoolQC</th>\n",
       "      <th>Fence</th>\n",
       "      <th>MiscFeature</th>\n",
       "      <th>MiscVal</th>\n",
       "      <th>MoSold</th>\n",
       "      <th>YrSold</th>\n",
       "      <th>SaleType</th>\n",
       "      <th>SaleCondition</th>\n",
       "      <th>SalePrice</th>\n",
       "    </tr>\n",
       "    <tr>\n",
       "      <th>Id</th>\n",
       "      <th></th>\n",
       "      <th></th>\n",
       "      <th></th>\n",
       "      <th></th>\n",
       "      <th></th>\n",
       "      <th></th>\n",
       "      <th></th>\n",
       "      <th></th>\n",
       "      <th></th>\n",
       "      <th></th>\n",
       "      <th></th>\n",
       "      <th></th>\n",
       "      <th></th>\n",
       "      <th></th>\n",
       "      <th></th>\n",
       "      <th></th>\n",
       "      <th></th>\n",
       "      <th></th>\n",
       "      <th></th>\n",
       "      <th></th>\n",
       "      <th></th>\n",
       "    </tr>\n",
       "  </thead>\n",
       "  <tbody>\n",
       "    <tr>\n",
       "      <th>1</th>\n",
       "      <td>60</td>\n",
       "      <td>RL</td>\n",
       "      <td>65.0</td>\n",
       "      <td>8450</td>\n",
       "      <td>Pave</td>\n",
       "      <td>NaN</td>\n",
       "      <td>Reg</td>\n",
       "      <td>Lvl</td>\n",
       "      <td>AllPub</td>\n",
       "      <td>Inside</td>\n",
       "      <td>...</td>\n",
       "      <td>0</td>\n",
       "      <td>NaN</td>\n",
       "      <td>NaN</td>\n",
       "      <td>NaN</td>\n",
       "      <td>0</td>\n",
       "      <td>2</td>\n",
       "      <td>2008</td>\n",
       "      <td>WD</td>\n",
       "      <td>Normal</td>\n",
       "      <td>208500</td>\n",
       "    </tr>\n",
       "    <tr>\n",
       "      <th>2</th>\n",
       "      <td>20</td>\n",
       "      <td>RL</td>\n",
       "      <td>80.0</td>\n",
       "      <td>9600</td>\n",
       "      <td>Pave</td>\n",
       "      <td>NaN</td>\n",
       "      <td>Reg</td>\n",
       "      <td>Lvl</td>\n",
       "      <td>AllPub</td>\n",
       "      <td>FR2</td>\n",
       "      <td>...</td>\n",
       "      <td>0</td>\n",
       "      <td>NaN</td>\n",
       "      <td>NaN</td>\n",
       "      <td>NaN</td>\n",
       "      <td>0</td>\n",
       "      <td>5</td>\n",
       "      <td>2007</td>\n",
       "      <td>WD</td>\n",
       "      <td>Normal</td>\n",
       "      <td>181500</td>\n",
       "    </tr>\n",
       "    <tr>\n",
       "      <th>3</th>\n",
       "      <td>60</td>\n",
       "      <td>RL</td>\n",
       "      <td>68.0</td>\n",
       "      <td>11250</td>\n",
       "      <td>Pave</td>\n",
       "      <td>NaN</td>\n",
       "      <td>IR1</td>\n",
       "      <td>Lvl</td>\n",
       "      <td>AllPub</td>\n",
       "      <td>Inside</td>\n",
       "      <td>...</td>\n",
       "      <td>0</td>\n",
       "      <td>NaN</td>\n",
       "      <td>NaN</td>\n",
       "      <td>NaN</td>\n",
       "      <td>0</td>\n",
       "      <td>9</td>\n",
       "      <td>2008</td>\n",
       "      <td>WD</td>\n",
       "      <td>Normal</td>\n",
       "      <td>223500</td>\n",
       "    </tr>\n",
       "    <tr>\n",
       "      <th>4</th>\n",
       "      <td>70</td>\n",
       "      <td>RL</td>\n",
       "      <td>60.0</td>\n",
       "      <td>9550</td>\n",
       "      <td>Pave</td>\n",
       "      <td>NaN</td>\n",
       "      <td>IR1</td>\n",
       "      <td>Lvl</td>\n",
       "      <td>AllPub</td>\n",
       "      <td>Corner</td>\n",
       "      <td>...</td>\n",
       "      <td>0</td>\n",
       "      <td>NaN</td>\n",
       "      <td>NaN</td>\n",
       "      <td>NaN</td>\n",
       "      <td>0</td>\n",
       "      <td>2</td>\n",
       "      <td>2006</td>\n",
       "      <td>WD</td>\n",
       "      <td>Abnorml</td>\n",
       "      <td>140000</td>\n",
       "    </tr>\n",
       "    <tr>\n",
       "      <th>5</th>\n",
       "      <td>60</td>\n",
       "      <td>RL</td>\n",
       "      <td>84.0</td>\n",
       "      <td>14260</td>\n",
       "      <td>Pave</td>\n",
       "      <td>NaN</td>\n",
       "      <td>IR1</td>\n",
       "      <td>Lvl</td>\n",
       "      <td>AllPub</td>\n",
       "      <td>FR2</td>\n",
       "      <td>...</td>\n",
       "      <td>0</td>\n",
       "      <td>NaN</td>\n",
       "      <td>NaN</td>\n",
       "      <td>NaN</td>\n",
       "      <td>0</td>\n",
       "      <td>12</td>\n",
       "      <td>2008</td>\n",
       "      <td>WD</td>\n",
       "      <td>Normal</td>\n",
       "      <td>250000</td>\n",
       "    </tr>\n",
       "  </tbody>\n",
       "</table>\n",
       "<p>5 rows × 80 columns</p>\n",
       "</div>"
      ],
      "text/plain": [
       "    MSSubClass MSZoning  LotFrontage  LotArea Street Alley LotShape  \\\n",
       "Id                                                                    \n",
       "1           60       RL         65.0     8450   Pave   NaN      Reg   \n",
       "2           20       RL         80.0     9600   Pave   NaN      Reg   \n",
       "3           60       RL         68.0    11250   Pave   NaN      IR1   \n",
       "4           70       RL         60.0     9550   Pave   NaN      IR1   \n",
       "5           60       RL         84.0    14260   Pave   NaN      IR1   \n",
       "\n",
       "   LandContour Utilities LotConfig  ... PoolArea PoolQC Fence MiscFeature  \\\n",
       "Id                                  ...                                     \n",
       "1          Lvl    AllPub    Inside  ...        0    NaN   NaN         NaN   \n",
       "2          Lvl    AllPub       FR2  ...        0    NaN   NaN         NaN   \n",
       "3          Lvl    AllPub    Inside  ...        0    NaN   NaN         NaN   \n",
       "4          Lvl    AllPub    Corner  ...        0    NaN   NaN         NaN   \n",
       "5          Lvl    AllPub       FR2  ...        0    NaN   NaN         NaN   \n",
       "\n",
       "   MiscVal MoSold  YrSold  SaleType  SaleCondition  SalePrice  \n",
       "Id                                                             \n",
       "1        0      2    2008        WD         Normal     208500  \n",
       "2        0      5    2007        WD         Normal     181500  \n",
       "3        0      9    2008        WD         Normal     223500  \n",
       "4        0      2    2006        WD        Abnorml     140000  \n",
       "5        0     12    2008        WD         Normal     250000  \n",
       "\n",
       "[5 rows x 80 columns]"
      ]
     },
     "execution_count": 415,
     "metadata": {},
     "output_type": "execute_result"
    }
   ],
   "source": [
    "print(train_data.shape)\n",
    "train_data.head()"
   ]
  },
  {
   "cell_type": "code",
   "execution_count": 416,
   "metadata": {
    "scrolled": false
   },
   "outputs": [
    {
     "data": {
      "text/html": [
       "<div>\n",
       "<style scoped>\n",
       "    .dataframe tbody tr th:only-of-type {\n",
       "        vertical-align: middle;\n",
       "    }\n",
       "\n",
       "    .dataframe tbody tr th {\n",
       "        vertical-align: top;\n",
       "    }\n",
       "\n",
       "    .dataframe thead th {\n",
       "        text-align: right;\n",
       "    }\n",
       "</style>\n",
       "<table border=\"1\" class=\"dataframe\">\n",
       "  <thead>\n",
       "    <tr style=\"text-align: right;\">\n",
       "      <th></th>\n",
       "      <th>MSSubClass</th>\n",
       "      <th>MSZoning</th>\n",
       "      <th>LotFrontage</th>\n",
       "      <th>LotArea</th>\n",
       "      <th>Street</th>\n",
       "      <th>Alley</th>\n",
       "      <th>LotShape</th>\n",
       "      <th>LandContour</th>\n",
       "      <th>Utilities</th>\n",
       "      <th>LotConfig</th>\n",
       "      <th>...</th>\n",
       "      <th>ScreenPorch</th>\n",
       "      <th>PoolArea</th>\n",
       "      <th>PoolQC</th>\n",
       "      <th>Fence</th>\n",
       "      <th>MiscFeature</th>\n",
       "      <th>MiscVal</th>\n",
       "      <th>MoSold</th>\n",
       "      <th>YrSold</th>\n",
       "      <th>SaleType</th>\n",
       "      <th>SaleCondition</th>\n",
       "    </tr>\n",
       "    <tr>\n",
       "      <th>Id</th>\n",
       "      <th></th>\n",
       "      <th></th>\n",
       "      <th></th>\n",
       "      <th></th>\n",
       "      <th></th>\n",
       "      <th></th>\n",
       "      <th></th>\n",
       "      <th></th>\n",
       "      <th></th>\n",
       "      <th></th>\n",
       "      <th></th>\n",
       "      <th></th>\n",
       "      <th></th>\n",
       "      <th></th>\n",
       "      <th></th>\n",
       "      <th></th>\n",
       "      <th></th>\n",
       "      <th></th>\n",
       "      <th></th>\n",
       "      <th></th>\n",
       "      <th></th>\n",
       "    </tr>\n",
       "  </thead>\n",
       "  <tbody>\n",
       "    <tr>\n",
       "      <th>1461</th>\n",
       "      <td>20</td>\n",
       "      <td>RH</td>\n",
       "      <td>80.0</td>\n",
       "      <td>11622</td>\n",
       "      <td>Pave</td>\n",
       "      <td>NaN</td>\n",
       "      <td>Reg</td>\n",
       "      <td>Lvl</td>\n",
       "      <td>AllPub</td>\n",
       "      <td>Inside</td>\n",
       "      <td>...</td>\n",
       "      <td>120</td>\n",
       "      <td>0</td>\n",
       "      <td>NaN</td>\n",
       "      <td>MnPrv</td>\n",
       "      <td>NaN</td>\n",
       "      <td>0</td>\n",
       "      <td>6</td>\n",
       "      <td>2010</td>\n",
       "      <td>WD</td>\n",
       "      <td>Normal</td>\n",
       "    </tr>\n",
       "    <tr>\n",
       "      <th>1462</th>\n",
       "      <td>20</td>\n",
       "      <td>RL</td>\n",
       "      <td>81.0</td>\n",
       "      <td>14267</td>\n",
       "      <td>Pave</td>\n",
       "      <td>NaN</td>\n",
       "      <td>IR1</td>\n",
       "      <td>Lvl</td>\n",
       "      <td>AllPub</td>\n",
       "      <td>Corner</td>\n",
       "      <td>...</td>\n",
       "      <td>0</td>\n",
       "      <td>0</td>\n",
       "      <td>NaN</td>\n",
       "      <td>NaN</td>\n",
       "      <td>Gar2</td>\n",
       "      <td>12500</td>\n",
       "      <td>6</td>\n",
       "      <td>2010</td>\n",
       "      <td>WD</td>\n",
       "      <td>Normal</td>\n",
       "    </tr>\n",
       "    <tr>\n",
       "      <th>1463</th>\n",
       "      <td>60</td>\n",
       "      <td>RL</td>\n",
       "      <td>74.0</td>\n",
       "      <td>13830</td>\n",
       "      <td>Pave</td>\n",
       "      <td>NaN</td>\n",
       "      <td>IR1</td>\n",
       "      <td>Lvl</td>\n",
       "      <td>AllPub</td>\n",
       "      <td>Inside</td>\n",
       "      <td>...</td>\n",
       "      <td>0</td>\n",
       "      <td>0</td>\n",
       "      <td>NaN</td>\n",
       "      <td>MnPrv</td>\n",
       "      <td>NaN</td>\n",
       "      <td>0</td>\n",
       "      <td>3</td>\n",
       "      <td>2010</td>\n",
       "      <td>WD</td>\n",
       "      <td>Normal</td>\n",
       "    </tr>\n",
       "    <tr>\n",
       "      <th>1464</th>\n",
       "      <td>60</td>\n",
       "      <td>RL</td>\n",
       "      <td>78.0</td>\n",
       "      <td>9978</td>\n",
       "      <td>Pave</td>\n",
       "      <td>NaN</td>\n",
       "      <td>IR1</td>\n",
       "      <td>Lvl</td>\n",
       "      <td>AllPub</td>\n",
       "      <td>Inside</td>\n",
       "      <td>...</td>\n",
       "      <td>0</td>\n",
       "      <td>0</td>\n",
       "      <td>NaN</td>\n",
       "      <td>NaN</td>\n",
       "      <td>NaN</td>\n",
       "      <td>0</td>\n",
       "      <td>6</td>\n",
       "      <td>2010</td>\n",
       "      <td>WD</td>\n",
       "      <td>Normal</td>\n",
       "    </tr>\n",
       "    <tr>\n",
       "      <th>1465</th>\n",
       "      <td>120</td>\n",
       "      <td>RL</td>\n",
       "      <td>43.0</td>\n",
       "      <td>5005</td>\n",
       "      <td>Pave</td>\n",
       "      <td>NaN</td>\n",
       "      <td>IR1</td>\n",
       "      <td>HLS</td>\n",
       "      <td>AllPub</td>\n",
       "      <td>Inside</td>\n",
       "      <td>...</td>\n",
       "      <td>144</td>\n",
       "      <td>0</td>\n",
       "      <td>NaN</td>\n",
       "      <td>NaN</td>\n",
       "      <td>NaN</td>\n",
       "      <td>0</td>\n",
       "      <td>1</td>\n",
       "      <td>2010</td>\n",
       "      <td>WD</td>\n",
       "      <td>Normal</td>\n",
       "    </tr>\n",
       "  </tbody>\n",
       "</table>\n",
       "<p>5 rows × 79 columns</p>\n",
       "</div>"
      ],
      "text/plain": [
       "      MSSubClass MSZoning  LotFrontage  LotArea Street Alley LotShape  \\\n",
       "Id                                                                      \n",
       "1461          20       RH         80.0    11622   Pave   NaN      Reg   \n",
       "1462          20       RL         81.0    14267   Pave   NaN      IR1   \n",
       "1463          60       RL         74.0    13830   Pave   NaN      IR1   \n",
       "1464          60       RL         78.0     9978   Pave   NaN      IR1   \n",
       "1465         120       RL         43.0     5005   Pave   NaN      IR1   \n",
       "\n",
       "     LandContour Utilities LotConfig  ... ScreenPorch PoolArea PoolQC  Fence  \\\n",
       "Id                                    ...                                      \n",
       "1461         Lvl    AllPub    Inside  ...         120        0    NaN  MnPrv   \n",
       "1462         Lvl    AllPub    Corner  ...           0        0    NaN    NaN   \n",
       "1463         Lvl    AllPub    Inside  ...           0        0    NaN  MnPrv   \n",
       "1464         Lvl    AllPub    Inside  ...           0        0    NaN    NaN   \n",
       "1465         HLS    AllPub    Inside  ...         144        0    NaN    NaN   \n",
       "\n",
       "     MiscFeature MiscVal  MoSold  YrSold  SaleType  SaleCondition  \n",
       "Id                                                                 \n",
       "1461         NaN       0       6    2010        WD         Normal  \n",
       "1462        Gar2   12500       6    2010        WD         Normal  \n",
       "1463         NaN       0       3    2010        WD         Normal  \n",
       "1464         NaN       0       6    2010        WD         Normal  \n",
       "1465         NaN       0       1    2010        WD         Normal  \n",
       "\n",
       "[5 rows x 79 columns]"
      ]
     },
     "execution_count": 416,
     "metadata": {},
     "output_type": "execute_result"
    }
   ],
   "source": [
    "test_data.head()"
   ]
  },
  {
   "cell_type": "markdown",
   "metadata": {},
   "source": [
    "## Removing missing values"
   ]
  },
  {
   "cell_type": "code",
   "execution_count": 417,
   "metadata": {
    "scrolled": false
   },
   "outputs": [
    {
     "data": {
      "text/plain": [
       "count       770.000000\n",
       "mean     216397.692208\n",
       "std       86843.901262\n",
       "min       60000.000000\n",
       "25%      159000.000000\n",
       "50%      191000.000000\n",
       "75%      257375.000000\n",
       "max      755000.000000\n",
       "Name: SalePrice, dtype: float64"
      ]
     },
     "execution_count": 417,
     "metadata": {},
     "output_type": "execute_result"
    }
   ],
   "source": [
    "train_data[train_data.FireplaceQu.notnull()][\"SalePrice\"].describe()"
   ]
  },
  {
   "cell_type": "markdown",
   "metadata": {},
   "source": [
    "### First, let's remove variables with most of the values missing"
   ]
  },
  {
   "cell_type": "code",
   "execution_count": 1380,
   "metadata": {},
   "outputs": [],
   "source": [
    "y = train_data.SalePrice\n",
    "X = train_data.drop(['SalePrice'], axis=1)"
   ]
  },
  {
   "cell_type": "code",
   "execution_count": 1381,
   "metadata": {},
   "outputs": [],
   "source": [
    "df = pd.concat([X , test_data])\n",
    "# df = df.drop(['PoolQC', 'Fence', 'MiscFeature', 'Alley'], axis=1)"
   ]
  },
  {
   "cell_type": "code",
   "execution_count": 1382,
   "metadata": {
    "scrolled": true
   },
   "outputs": [
    {
     "data": {
      "text/plain": [
       "(2919, 79)"
      ]
     },
     "execution_count": 1382,
     "metadata": {},
     "output_type": "execute_result"
    }
   ],
   "source": [
    "df.shape"
   ]
  },
  {
   "cell_type": "markdown",
   "metadata": {},
   "source": [
    "## Then let's remove missing values"
   ]
  },
  {
   "cell_type": "code",
   "execution_count": 1383,
   "metadata": {
    "scrolled": true
   },
   "outputs": [
    {
     "name": "stdout",
     "output_type": "stream",
     "text": [
      "PoolQC           2909\n",
      "MiscFeature      2814\n",
      "Alley            2721\n",
      "Fence            2348\n",
      "FireplaceQu      1420\n",
      "LotFrontage       486\n",
      "GarageYrBlt       159\n",
      "GarageFinish      159\n",
      "GarageQual        159\n",
      "GarageCond        159\n",
      "GarageType        157\n",
      "BsmtExposure       82\n",
      "BsmtCond           82\n",
      "BsmtQual           81\n",
      "BsmtFinType2       80\n",
      "BsmtFinType1       79\n",
      "MasVnrType         24\n",
      "MasVnrArea         23\n",
      "MSZoning            4\n",
      "Functional          2\n",
      "BsmtHalfBath        2\n",
      "BsmtFullBath        2\n",
      "Utilities           2\n",
      "SaleType            1\n",
      "BsmtFinSF1          1\n",
      "KitchenQual         1\n",
      "GarageCars          1\n",
      "BsmtUnfSF           1\n",
      "TotalBsmtSF         1\n",
      "Exterior2nd         1\n",
      "Exterior1st         1\n",
      "GarageArea          1\n",
      "Electrical          1\n",
      "BsmtFinSF2          1\n",
      "TotRmsAbvGrd        0\n",
      "Fireplaces          0\n",
      "MSSubClass          0\n",
      "BedroomAbvGr        0\n",
      "PavedDrive          0\n",
      "WoodDeckSF          0\n",
      "OpenPorchSF         0\n",
      "EnclosedPorch       0\n",
      "3SsnPorch           0\n",
      "ScreenPorch         0\n",
      "PoolArea            0\n",
      "MiscVal             0\n",
      "MoSold              0\n",
      "YrSold              0\n",
      "KitchenAbvGr        0\n",
      "HeatingQC           0\n",
      "HalfBath            0\n",
      "OverallCond         0\n",
      "LotArea             0\n",
      "Street              0\n",
      "LotShape            0\n",
      "LandContour         0\n",
      "LotConfig           0\n",
      "LandSlope           0\n",
      "Neighborhood        0\n",
      "Condition1          0\n",
      "Condition2          0\n",
      "BldgType            0\n",
      "HouseStyle          0\n",
      "OverallQual         0\n",
      "YearBuilt           0\n",
      "FullBath            0\n",
      "YearRemodAdd        0\n",
      "RoofStyle           0\n",
      "RoofMatl            0\n",
      "ExterQual           0\n",
      "ExterCond           0\n",
      "Foundation          0\n",
      "Heating             0\n",
      "CentralAir          0\n",
      "1stFlrSF            0\n",
      "2ndFlrSF            0\n",
      "LowQualFinSF        0\n",
      "GrLivArea           0\n",
      "SaleCondition       0\n",
      "dtype: int64\n"
     ]
    }
   ],
   "source": [
    "with pd.option_context('display.max_rows', None, 'display.max_columns', None):  # more options can be specified also\n",
    "    print(df.isnull().sum().sort_values(ascending=False))"
   ]
  },
  {
   "cell_type": "markdown",
   "metadata": {},
   "source": [
    "## Numerical values"
   ]
  },
  {
   "cell_type": "code",
   "execution_count": 1384,
   "metadata": {},
   "outputs": [],
   "source": [
    "numerical = list( df.loc[:,df.dtypes != 'object'].columns.values )\n",
    "categorical = list( df.loc[:,df.dtypes == 'object'].columns.values )"
   ]
  },
  {
   "cell_type": "code",
   "execution_count": 1385,
   "metadata": {
    "scrolled": false
   },
   "outputs": [
    {
     "data": {
      "text/plain": [
       "BsmtFinSF1        1\n",
       "BsmtFinSF2        1\n",
       "BsmtUnfSF         1\n",
       "TotalBsmtSF       1\n",
       "GarageCars        1\n",
       "GarageArea        1\n",
       "BsmtFullBath      2\n",
       "BsmtHalfBath      2\n",
       "MasVnrArea       23\n",
       "GarageYrBlt     159\n",
       "LotFrontage     486\n",
       "dtype: int64"
      ]
     },
     "execution_count": 1385,
     "metadata": {},
     "output_type": "execute_result"
    }
   ],
   "source": [
    "missing_num = df[numerical].isnull().sum()\n",
    "missing_num = missing_num[missing_num > 0]\n",
    "missing_num.sort_values()"
   ]
  },
  {
   "cell_type": "code",
   "execution_count": 1386,
   "metadata": {},
   "outputs": [],
   "source": [
    "x = [1000, 2000, 4000, 10000, 25000, 50000, 500000]\n",
    "\n",
    "df['LotFrontage'] = df.groupby(pd.cut(df['LotArea'], x))['LotFrontage'].apply(lambda x: x.fillna(x.median()))\n",
    "\n",
    "# df.groupby(pd.cut(df['LotArea'], x))['LotFrontage'].median()\n",
    "\n",
    "# numerical.remove(\"LotFrontage\")\n",
    "for feature in numerical:\n",
    "    df[feature] = df[feature].fillna(0)"
   ]
  },
  {
   "cell_type": "markdown",
   "metadata": {},
   "source": [
    "### Categorical values"
   ]
  },
  {
   "cell_type": "code",
   "execution_count": 1387,
   "metadata": {},
   "outputs": [
    {
     "data": {
      "text/plain": [
       "Electrical         1\n",
       "KitchenQual        1\n",
       "Exterior2nd        1\n",
       "SaleType           1\n",
       "Exterior1st        1\n",
       "Utilities          2\n",
       "Functional         2\n",
       "MSZoning           4\n",
       "MasVnrType        24\n",
       "BsmtFinType1      79\n",
       "BsmtFinType2      80\n",
       "BsmtQual          81\n",
       "BsmtCond          82\n",
       "BsmtExposure      82\n",
       "GarageType       157\n",
       "GarageFinish     159\n",
       "GarageQual       159\n",
       "GarageCond       159\n",
       "FireplaceQu     1420\n",
       "Fence           2348\n",
       "Alley           2721\n",
       "MiscFeature     2814\n",
       "PoolQC          2909\n",
       "dtype: int64"
      ]
     },
     "execution_count": 1387,
     "metadata": {},
     "output_type": "execute_result"
    }
   ],
   "source": [
    "missing_cat = df[categorical].isnull().sum()\n",
    "missing_cat = missing_cat[missing_cat > 0]\n",
    "missing_cat.sort_values()"
   ]
  },
  {
   "cell_type": "code",
   "execution_count": 1388,
   "metadata": {},
   "outputs": [],
   "source": [
    "cat_exclude = ['MasVnrType', \"MSZoning\", \"Functional\", \"Utilities\", \"Exterior1st\", \"SaleType\", \"Exterior2nd\", \"KitchenQual\", \"Electrical\"]\n",
    "for feature in missing_cat.drop(cat_exclude).index:\n",
    "    df[feature] = df[feature].fillna(\"NA\")"
   ]
  },
  {
   "cell_type": "code",
   "execution_count": 1389,
   "metadata": {},
   "outputs": [
    {
     "data": {
      "text/plain": [
       "array(['BrkFace', 'None', 'Stone', 'BrkCmn', nan], dtype=object)"
      ]
     },
     "execution_count": 1389,
     "metadata": {},
     "output_type": "execute_result"
    }
   ],
   "source": [
    "df.MasVnrType.unique()"
   ]
  },
  {
   "cell_type": "code",
   "execution_count": 1390,
   "metadata": {},
   "outputs": [],
   "source": [
    "df['MasVnrType'] = df.FireplaceQu.fillna(\"None\")\n",
    "cat_exclude.remove(\"MasVnrType\")"
   ]
  },
  {
   "cell_type": "code",
   "execution_count": 1391,
   "metadata": {},
   "outputs": [],
   "source": [
    "df[cat_exclude] = df.groupby('Neighborhood')[cat_exclude].transform(lambda x: x.fillna(x.mode()[0]))   "
   ]
  },
  {
   "cell_type": "code",
   "execution_count": 1392,
   "metadata": {},
   "outputs": [
    {
     "data": {
      "text/html": [
       "<div>\n",
       "<style scoped>\n",
       "    .dataframe tbody tr th:only-of-type {\n",
       "        vertical-align: middle;\n",
       "    }\n",
       "\n",
       "    .dataframe tbody tr th {\n",
       "        vertical-align: top;\n",
       "    }\n",
       "\n",
       "    .dataframe thead th {\n",
       "        text-align: right;\n",
       "    }\n",
       "</style>\n",
       "<table border=\"1\" class=\"dataframe\">\n",
       "  <thead>\n",
       "    <tr style=\"text-align: right;\">\n",
       "      <th></th>\n",
       "      <th>MSSubClass</th>\n",
       "      <th>MSZoning</th>\n",
       "      <th>LotFrontage</th>\n",
       "      <th>LotArea</th>\n",
       "      <th>Street</th>\n",
       "      <th>Alley</th>\n",
       "      <th>LotShape</th>\n",
       "      <th>LandContour</th>\n",
       "      <th>Utilities</th>\n",
       "      <th>LotConfig</th>\n",
       "      <th>...</th>\n",
       "      <th>ScreenPorch</th>\n",
       "      <th>PoolArea</th>\n",
       "      <th>PoolQC</th>\n",
       "      <th>Fence</th>\n",
       "      <th>MiscFeature</th>\n",
       "      <th>MiscVal</th>\n",
       "      <th>MoSold</th>\n",
       "      <th>YrSold</th>\n",
       "      <th>SaleType</th>\n",
       "      <th>SaleCondition</th>\n",
       "    </tr>\n",
       "    <tr>\n",
       "      <th>Id</th>\n",
       "      <th></th>\n",
       "      <th></th>\n",
       "      <th></th>\n",
       "      <th></th>\n",
       "      <th></th>\n",
       "      <th></th>\n",
       "      <th></th>\n",
       "      <th></th>\n",
       "      <th></th>\n",
       "      <th></th>\n",
       "      <th></th>\n",
       "      <th></th>\n",
       "      <th></th>\n",
       "      <th></th>\n",
       "      <th></th>\n",
       "      <th></th>\n",
       "      <th></th>\n",
       "      <th></th>\n",
       "      <th></th>\n",
       "      <th></th>\n",
       "      <th></th>\n",
       "    </tr>\n",
       "  </thead>\n",
       "  <tbody>\n",
       "  </tbody>\n",
       "</table>\n",
       "<p>0 rows × 79 columns</p>\n",
       "</div>"
      ],
      "text/plain": [
       "Empty DataFrame\n",
       "Columns: [MSSubClass, MSZoning, LotFrontage, LotArea, Street, Alley, LotShape, LandContour, Utilities, LotConfig, LandSlope, Neighborhood, Condition1, Condition2, BldgType, HouseStyle, OverallQual, OverallCond, YearBuilt, YearRemodAdd, RoofStyle, RoofMatl, Exterior1st, Exterior2nd, MasVnrType, MasVnrArea, ExterQual, ExterCond, Foundation, BsmtQual, BsmtCond, BsmtExposure, BsmtFinType1, BsmtFinSF1, BsmtFinType2, BsmtFinSF2, BsmtUnfSF, TotalBsmtSF, Heating, HeatingQC, CentralAir, Electrical, 1stFlrSF, 2ndFlrSF, LowQualFinSF, GrLivArea, BsmtFullBath, BsmtHalfBath, FullBath, HalfBath, BedroomAbvGr, KitchenAbvGr, KitchenQual, TotRmsAbvGrd, Functional, Fireplaces, FireplaceQu, GarageType, GarageYrBlt, GarageFinish, GarageCars, GarageArea, GarageQual, GarageCond, PavedDrive, WoodDeckSF, OpenPorchSF, EnclosedPorch, 3SsnPorch, ScreenPorch, PoolArea, PoolQC, Fence, MiscFeature, MiscVal, MoSold, YrSold, SaleType, SaleCondition]\n",
       "Index: []\n",
       "\n",
       "[0 rows x 79 columns]"
      ]
     },
     "execution_count": 1392,
     "metadata": {},
     "output_type": "execute_result"
    }
   ],
   "source": [
    "df[df.isnull().any(axis=1)]"
   ]
  },
  {
   "cell_type": "markdown",
   "metadata": {},
   "source": [
    "## Change categories to numbers"
   ]
  },
  {
   "cell_type": "code",
   "execution_count": 1393,
   "metadata": {},
   "outputs": [
    {
     "data": {
      "text/plain": [
       "array(['Typ', 'Min1', 'Maj1', 'Min2', 'Mod', 'Maj2', 'Sev'], dtype=object)"
      ]
     },
     "execution_count": 1393,
     "metadata": {},
     "output_type": "execute_result"
    }
   ],
   "source": [
    "df.Functional.unique()"
   ]
  },
  {
   "cell_type": "code",
   "execution_count": 1394,
   "metadata": {},
   "outputs": [],
   "source": [
    "rate_0 = ['NA', 'None']\n",
    "rate_1 = ['C (all)', 'Grvl', 'Reg', 'Low', 'ELO', 'Inside','Sev', 'Po', 'No', 'Unf', 'Sev', 'MnWw']\n",
    "rate_2 = ['FV', 'Pave', 'IR1', 'HLS', 'NoSeWa','Corner','Mod', 'Fa', 'Mn','LwQ', 'Maj2', 'RFn', 'GdWo']\n",
    "rate_3 = ['RH', 'IR2', 'Bnk', 'NoSewr','CulDSac','Gtl', 'TA', 'Av', 'Rec', 'Maj1', 'Fin', 'MnPrv']\n",
    "rate_4 = ['RM', 'IR3', 'Lvl', 'AllPub','FR2', 'Gd', 'BLQ', 'Mod', 'GdPrv']\n",
    "rate_5 = ['RL','FR3','Ex','ALQ', 'Min2']\n",
    "rate_6 = ['GLQ', 'Min1']\n",
    "rate_7 = ['Typ']\n",
    "\n",
    "rate = [rate_0, rate_1, rate_2, rate_3, rate_4, rate_5, rate_6, rate_7]\n",
    "\n",
    "# Given a categorical value [cat], return [i] such that [cat \\in rate_i]\n",
    "def cat_to_int(cat): \n",
    "    return next(filter(lambda rate_i : cat in rate_i[1], enumerate(rate)))[0] \n",
    "\n",
    "# List of all categorical values\n",
    "flat_rate = sum(rate, [])\n",
    "\n",
    "# Generate the dictionary\n",
    "replace_dictionary = dict( map(lambda cat: (cat, cat_to_int(cat)), flat_rate ) )"
   ]
  },
  {
   "cell_type": "code",
   "execution_count": 1395,
   "metadata": {},
   "outputs": [],
   "source": [
    "df[categorical] = df[categorical].replace(replace_dictionary)"
   ]
  },
  {
   "cell_type": "markdown",
   "metadata": {},
   "source": [
    "## Let's add new features"
   ]
  },
  {
   "cell_type": "code",
   "execution_count": 1396,
   "metadata": {},
   "outputs": [],
   "source": [
    "GoodNbrh = ['NridgHt', 'Crawfor', 'StoneBr', 'Somerst', 'NoRidge']\n",
    "df.loc[df.Neighborhood.isin(GoodNbrh), \"Neighborhood_Good\"] = 1\n",
    "df[\"Neighborhood_Good\"].fillna(0, inplace=True)\n"
   ]
  },
  {
   "cell_type": "code",
   "execution_count": 1397,
   "metadata": {},
   "outputs": [],
   "source": [
    "df['TotalExtraPoints'] = df.HeatingQC + df.PoolQC + df.FireplaceQu + df.KitchenQual\n",
    "df['TotalPoints'] = (df.ExterQual + df.FireplaceQu + df.GarageQual + df.KitchenQual +\n",
    "                      df.BsmtQual + df.BsmtExposure + df.BsmtFinType1 + df.PoolQC + \n",
    "                      df.ExterCond + df.BsmtCond + df.GarageCond + df.OverallCond +\n",
    "                      df.BsmtFinType2 + df.HeatingQC ) + df.OverallQual**2"
   ]
  },
  {
   "cell_type": "code",
   "execution_count": 1398,
   "metadata": {},
   "outputs": [],
   "source": [
    "# df['HasPool'] = df['PoolArea'].apply(lambda x: 1 if x > 0 else 0)\n",
    "df['TotalSF'] = (df['TotalBsmtSF'] + df['1stFlrSF'] + df['2ndFlrSF']).astype(int)\n",
    "df['YearsSinceRemodel'] = df['YrSold'].astype(int) - df['YearRemodAdd'].astype(int)\n",
    "df[\"Remodeled\"] = (df[\"YearRemodAdd\"] != df[\"YearBuilt\"]).astype(int)\n",
    "df[\"RecentRemodel\"] = (df[\"YearRemodAdd\"] == df[\"YrSold\"]).astype(int)\n",
    "df['ConstructArea'] = (df.TotalBsmtSF + df.WoodDeckSF + df.GrLivArea +df['3SsnPorch']+\n",
    "                       df.OpenPorchSF + df.ScreenPorch + df.EnclosedPorch +\n",
    "                       df.MasVnrArea + df.GarageArea + df.PoolArea )\n",
    "df['TotalPorchSF'] = df.OpenPorchSF + df.EnclosedPorch + df.ScreenPorch + df.WoodDeckSF+df['3SsnPorch']\n",
    "# df['HasFireplace'] = df['Fireplaces'].apply(lambda x: 1 if x > 0 else 0)\n",
    "# df['Total_Bathrooms'] = ((df['FullBath'] + (0.5 * df['HalfBath']) + df['BsmtFullBath'] + (0.5 * df['BsmtHalfBath']))).astype(int)\n",
    "\n"
   ]
  },
  {
   "cell_type": "code",
   "execution_count": 1343,
   "metadata": {},
   "outputs": [],
   "source": [
    "# df['HasPool'] = df['PoolArea'].apply(lambda x: 1 if x > 0 else 0)\n",
    "# df['Total_Bathrooms'] = ((df['FullBath'] + (0.5 * df['HalfBath']) + df['BsmtFullBath'] + (0.5 * df['BsmtHalfBath']))).astype(int)"
   ]
  },
  {
   "cell_type": "code",
   "execution_count": 1399,
   "metadata": {
    "scrolled": true
   },
   "outputs": [
    {
     "data": {
      "text/plain": [
       "TotalSF    0.78226\n",
       "dtype: float64"
      ]
     },
     "execution_count": 1399,
     "metadata": {},
     "output_type": "execute_result"
    }
   ],
   "source": [
    "df[['TotalSF']].corrwith(y)"
   ]
  },
  {
   "cell_type": "markdown",
   "metadata": {},
   "source": [
    "## Deal with outliers"
   ]
  },
  {
   "cell_type": "code",
   "execution_count": 1400,
   "metadata": {},
   "outputs": [],
   "source": [
    "# df[\"SalePrice\"] = y\n",
    "numeric_columns = df.select_dtypes(['int64','float64']).columns\n",
    "numeric = df[numeric_columns]"
   ]
  },
  {
   "cell_type": "code",
   "execution_count": 1401,
   "metadata": {
    "scrolled": true
   },
   "outputs": [],
   "source": [
    "df.loc[(df['GarageYrBlt'] > 2020), 'GarageYrBlt'] = 2007"
   ]
  },
  {
   "cell_type": "code",
   "execution_count": 1347,
   "metadata": {
    "scrolled": false
   },
   "outputs": [],
   "source": [
    "df.loc[[250]].LotArea = 15900"
   ]
  },
  {
   "cell_type": "code",
   "execution_count": 1348,
   "metadata": {},
   "outputs": [],
   "source": [
    "# outliers = [1299, 336]"
   ]
  },
  {
   "cell_type": "code",
   "execution_count": null,
   "metadata": {},
   "outputs": [],
   "source": []
  },
  {
   "cell_type": "code",
   "execution_count": 1349,
   "metadata": {
    "scrolled": true
   },
   "outputs": [
    {
     "name": "stderr",
     "output_type": "stream",
     "text": [
      "/Users/yulialysenko/opt/anaconda3/lib/python3.7/site-packages/ipykernel_launcher.py:3: RuntimeWarning: More than 20 figures have been opened. Figures created through the pyplot interface (`matplotlib.pyplot.figure`) are retained until explicitly closed and may consume too much memory. (To control this warning, see the rcParam `figure.max_open_warning`).\n",
      "  This is separate from the ipykernel package so we can avoid doing imports until\n"
     ]
    },
    {
     "data": {
      "image/png": "[encoded data removed]",
      "text/plain": [
       "<Figure size 432x288 with 1 Axes>"
      ]
     },
     "metadata": {
      "needs_background": "light"
     },
     "output_type": "display_data"
    },
    {
     "data": {
      "image/png": "[encoded data removed]",
      "text/plain": [
       "<Figure size 432x288 with 1 Axes>"
      ]
     },
     "metadata": {
      "needs_background": "light"
     },
     "output_type": "display_data"
    },
    {
     "data": {
      "image/png": "[encoded data removed]",
      "text/plain": [
       "<Figure size 432x288 with 1 Axes>"
      ]
     },
     "metadata": {
      "needs_background": "light"
     },
     "output_type": "display_data"
    },
    {
     "data": {
      "image/png": "[encoded data removed]",
      "text/plain": [
       "<Figure size 432x288 with 1 Axes>"
      ]
     },
     "metadata": {
      "needs_background": "light"
     },
     "output_type": "display_data"
    },
    {
     "data": {
      "image/png": "[encoded data removed]",
      "text/plain": [
       "<Figure size 432x288 with 1 Axes>"
      ]
     },
     "metadata": {
      "needs_background": "light"
     },
     "output_type": "display_data"
    },
    {
     "data": {
      "image/png": "[encoded data removed]",
      "text/plain": [
       "<Figure size 432x288 with 1 Axes>"
      ]
     },
     "metadata": {
      "needs_background": "light"
     },
     "output_type": "display_data"
    },
    {
     "data": {
      "image/png": "[encoded data removed]",
      "text/plain": [
       "<Figure size 432x288 with 1 Axes>"
      ]
     },
     "metadata": {
      "needs_background": "light"
     },
     "output_type": "display_data"
    },
    {
     "data": {
      "image/png": "[encoded data removed]",
      "text/plain": [
       "<Figure size 432x288 with 1 Axes>"
      ]
     },
     "metadata": {
      "needs_background": "light"
     },
     "output_type": "display_data"
    },
    {
     "data": {
      "image/png": "[encoded data removed]",
      "text/plain": [
       "<Figure size 432x288 with 1 Axes>"
      ]
     },
     "metadata": {
      "needs_background": "light"
     },
     "output_type": "display_data"
    },
    {
     "data": {
      "image/png": "[encoded data removed]",
      "text/plain": [
       "<Figure size 432x288 with 1 Axes>"
      ]
     },
     "metadata": {
      "needs_background": "light"
     },
     "output_type": "display_data"
    },
    {
     "data": {
      "image/png": "[encoded data removed]",
      "text/plain": [
       "<Figure size 432x288 with 1 Axes>"
      ]
     },
     "metadata": {
      "needs_background": "light"
     },
     "output_type": "display_data"
    },
    {
     "data": {
      "image/png": "[encoded data removed]",
      "text/plain": [
       "<Figure size 432x288 with 1 Axes>"
      ]
     },
     "metadata": {
      "needs_background": "light"
     },
     "output_type": "display_data"
    },
    {
     "data": {
      "image/png": "[encoded data removed]",
      "text/plain": [
       "<Figure size 432x288 with 1 Axes>"
      ]
     },
     "metadata": {
      "needs_background": "light"
     },
     "output_type": "display_data"
    },
    {
     "data": {
      "image/png": "[encoded data removed]",
      "text/plain": [
       "<Figure size 432x288 with 1 Axes>"
      ]
     },
     "metadata": {
      "needs_background": "light"
     },
     "output_type": "display_data"
    },
    {
     "data": {
      "image/png": "[encoded data removed]",
      "text/plain": [
       "<Figure size 432x288 with 1 Axes>"
      ]
     },
     "metadata": {
      "needs_background": "light"
     },
     "output_type": "display_data"
    },
    {
     "data": {
      "image/png": "[encoded data removed]",
      "text/plain": [
       "<Figure size 432x288 with 1 Axes>"
      ]
     },
     "metadata": {
      "needs_background": "light"
     },
     "output_type": "display_data"
    },
    {
     "data": {
      "image/png": "[encoded data removed]",
      "text/plain": [
       "<Figure size 432x288 with 1 Axes>"
      ]
     },
     "metadata": {
      "needs_background": "light"
     },
     "output_type": "display_data"
    },
    {
     "data": {
      "image/png": "[encoded data removed]",
      "text/plain": [
       "<Figure size 432x288 with 1 Axes>"
      ]
     },
     "metadata": {
      "needs_background": "light"
     },
     "output_type": "display_data"
    },
    {
     "data": {
      "image/png": "[encoded data removed]",
      "text/plain": [
       "<Figure size 432x288 with 1 Axes>"
      ]
     },
     "metadata": {
      "needs_background": "light"
     },
     "output_type": "display_data"
    },
    {
     "data": {
      "image/png": "[encoded data removed]",
      "text/plain": [
       "<Figure size 432x288 with 1 Axes>"
      ]
     },
     "metadata": {
      "needs_background": "light"
     },
     "output_type": "display_data"
    },
    {
     "data": {
      "image/png": "[encoded data removed]",
      "text/plain": [
       "<Figure size 432x288 with 1 Axes>"
      ]
     },
     "metadata": {
      "needs_background": "light"
     },
     "output_type": "display_data"
    },
    {
     "data": {
      "image/png": "[encoded data removed]",
      "text/plain": [
       "<Figure size 432x288 with 1 Axes>"
      ]
     },
     "metadata": {
      "needs_background": "light"
     },
     "output_type": "display_data"
    },
    {
     "data": {
      "image/png": "[encoded data removed]",
      "text/plain": [
       "<Figure size 432x288 with 1 Axes>"
      ]
     },
     "metadata": {
      "needs_background": "light"
     },
     "output_type": "display_data"
    },
    {
     "data": {
      "image/png": "[encoded data removed]",
      "text/plain": [
       "<Figure size 432x288 with 1 Axes>"
      ]
     },
     "metadata": {
      "needs_background": "light"
     },
     "output_type": "display_data"
    },
    {
     "data": {
      "image/png": "[encoded data removed]",
      "text/plain": [
       "<Figure size 432x288 with 1 Axes>"
      ]
     },
     "metadata": {
      "needs_background": "light"
     },
     "output_type": "display_data"
    },
    {
     "data": {
      "image/png": "[encoded data removed]",
      "text/plain": [
       "<Figure size 432x288 with 1 Axes>"
      ]
     },
     "metadata": {
      "needs_background": "light"
     },
     "output_type": "display_data"
    },
    {
     "data": {
      "image/png": "[encoded data removed]",
      "text/plain": [
       "<Figure size 432x288 with 1 Axes>"
      ]
     },
     "metadata": {
      "needs_background": "light"
     },
     "output_type": "display_data"
    },
    {
     "data": {
      "image/png": "[encoded data removed]",
      "text/plain": [
       "<Figure size 432x288 with 1 Axes>"
      ]
     },
     "metadata": {
      "needs_background": "light"
     },
     "output_type": "display_data"
    },
    {
     "data": {
      "image/png": "[encoded data removed]",
      "text/plain": [
       "<Figure size 432x288 with 1 Axes>"
      ]
     },
     "metadata": {
      "needs_background": "light"
     },
     "output_type": "display_data"
    },
    {
     "data": {
      "image/png": "[encoded data removed]",
      "text/plain": [
       "<Figure size 432x288 with 1 Axes>"
      ]
     },
     "metadata": {
      "needs_background": "light"
     },
     "output_type": "display_data"
    },
    {
     "data": {
      "image/png": "[encoded data removed]",
      "text/plain": [
       "<Figure size 432x288 with 1 Axes>"
      ]
     },
     "metadata": {
      "needs_background": "light"
     },
     "output_type": "display_data"
    },
    {
     "data": {
      "image/png": "[encoded data removed]",
      "text/plain": [
       "<Figure size 432x288 with 1 Axes>"
      ]
     },
     "metadata": {
      "needs_background": "light"
     },
     "output_type": "display_data"
    },
    {
     "data": {
      "image/png": "[encoded data removed]",
      "text/plain": [
       "<Figure size 432x288 with 1 Axes>"
      ]
     },
     "metadata": {
      "needs_background": "light"
     },
     "output_type": "display_data"
    },
    {
     "data": {
      "image/png": "[encoded data removed]",
      "text/plain": [
       "<Figure size 432x288 with 1 Axes>"
      ]
     },
     "metadata": {
      "needs_background": "light"
     },
     "output_type": "display_data"
    },
    {
     "data": {
      "image/png": "[encoded data removed]",
      "text/plain": [
       "<Figure size 432x288 with 1 Axes>"
      ]
     },
     "metadata": {
      "needs_background": "light"
     },
     "output_type": "display_data"
    },
    {
     "data": {
      "image/png": "[encoded data removed]",
      "text/plain": [
       "<Figure size 432x288 with 1 Axes>"
      ]
     },
     "metadata": {
      "needs_background": "light"
     },
     "output_type": "display_data"
    },
    {
     "data": {
      "image/png": "[encoded data removed]",
      "text/plain": [
       "<Figure size 432x288 with 1 Axes>"
      ]
     },
     "metadata": {
      "needs_background": "light"
     },
     "output_type": "display_data"
    },
    {
     "data": {
      "image/png": "[encoded data removed]",
      "text/plain": [
       "<Figure size 432x288 with 1 Axes>"
      ]
     },
     "metadata": {
      "needs_background": "light"
     },
     "output_type": "display_data"
    },
    {
     "data": {
      "image/png": "[encoded data removed]",
      "text/plain": [
       "<Figure size 432x288 with 1 Axes>"
      ]
     },
     "metadata": {
      "needs_background": "light"
     },
     "output_type": "display_data"
    },
    {
     "data": {
      "image/png": "[encoded data removed]",
      "text/plain": [
       "<Figure size 432x288 with 1 Axes>"
      ]
     },
     "metadata": {
      "needs_background": "light"
     },
     "output_type": "display_data"
    },
    {
     "data": {
      "image/png": "[encoded data removed]",
      "text/plain": [
       "<Figure size 432x288 with 1 Axes>"
      ]
     },
     "metadata": {
      "needs_background": "light"
     },
     "output_type": "display_data"
    },
    {
     "data": {
      "image/png": "[encoded data removed]",
      "text/plain": [
       "<Figure size 432x288 with 1 Axes>"
      ]
     },
     "metadata": {
      "needs_background": "light"
     },
     "output_type": "display_data"
    },
    {
     "data": {
      "image/png": "[encoded data removed]",
      "text/plain": [
       "<Figure size 432x288 with 1 Axes>"
      ]
     },
     "metadata": {
      "needs_background": "light"
     },
     "output_type": "display_data"
    },
    {
     "data": {
      "image/png": "[encoded data removed]",
      "text/plain": [
       "<Figure size 432x288 with 1 Axes>"
      ]
     },
     "metadata": {
      "needs_background": "light"
     },
     "output_type": "display_data"
    },
    {
     "data": {
      "image/png": "[encoded data removed]",
      "text/plain": [
       "<Figure size 432x288 with 1 Axes>"
      ]
     },
     "metadata": {
      "needs_background": "light"
     },
     "output_type": "display_data"
    },
    {
     "data": {
      "image/png": "[encoded data removed]",
      "text/plain": [
       "<Figure size 432x288 with 1 Axes>"
      ]
     },
     "metadata": {
      "needs_background": "light"
     },
     "output_type": "display_data"
    },
    {
     "data": {
      "image/png": "[encoded data removed]",
      "text/plain": [
       "<Figure size 432x288 with 1 Axes>"
      ]
     },
     "metadata": {
      "needs_background": "light"
     },
     "output_type": "display_data"
    },
    {
     "data": {
      "image/png": "[encoded data removed]",
      "text/plain": [
       "<Figure size 432x288 with 1 Axes>"
      ]
     },
     "metadata": {
      "needs_background": "light"
     },
     "output_type": "display_data"
    },
    {
     "data": {
      "image/png": "[encoded data removed]",
      "text/plain": [
       "<Figure size 432x288 with 1 Axes>"
      ]
     },
     "metadata": {
      "needs_background": "light"
     },
     "output_type": "display_data"
    },
    {
     "data": {
      "image/png": "[encoded data removed]",
      "text/plain": [
       "<Figure size 432x288 with 1 Axes>"
      ]
     },
     "metadata": {
      "needs_background": "light"
     },
     "output_type": "display_data"
    },
    {
     "data": {
      "image/png": "[encoded data removed]",
      "text/plain": [
       "<Figure size 432x288 with 1 Axes>"
      ]
     },
     "metadata": {
      "needs_background": "light"
     },
     "output_type": "display_data"
    },
    {
     "data": {
      "image/png": "[encoded data removed]",
      "text/plain": [
       "<Figure size 432x288 with 1 Axes>"
      ]
     },
     "metadata": {
      "needs_background": "light"
     },
     "output_type": "display_data"
    },
    {
     "data": {
      "image/png": "[encoded data removed]",
      "text/plain": [
       "<Figure size 432x288 with 1 Axes>"
      ]
     },
     "metadata": {
      "needs_background": "light"
     },
     "output_type": "display_data"
    },
    {
     "data": {
      "image/png": "[encoded data removed]",
      "text/plain": [
       "<Figure size 432x288 with 1 Axes>"
      ]
     },
     "metadata": {
      "needs_background": "light"
     },
     "output_type": "display_data"
    },
    {
     "data": {
      "image/png": "[encoded data removed]",
      "text/plain": [
       "<Figure size 432x288 with 1 Axes>"
      ]
     },
     "metadata": {
      "needs_background": "light"
     },
     "output_type": "display_data"
    },
    {
     "data": {
      "image/png": "[encoded data removed]",
      "text/plain": [
       "<Figure size 432x288 with 1 Axes>"
      ]
     },
     "metadata": {
      "needs_background": "light"
     },
     "output_type": "display_data"
    },
    {
     "data": {
      "image/png": "[encoded data removed]",
      "text/plain": [
       "<Figure size 432x288 with 1 Axes>"
      ]
     },
     "metadata": {
      "needs_background": "light"
     },
     "output_type": "display_data"
    },
    {
     "data": {
      "image/png": "[encoded data removed]",
      "text/plain": [
       "<Figure size 432x288 with 1 Axes>"
      ]
     },
     "metadata": {
      "needs_background": "light"
     },
     "output_type": "display_data"
    },
    {
     "data": {
      "image/png": "[encoded data removed]",
      "text/plain": [
       "<Figure size 432x288 with 1 Axes>"
      ]
     },
     "metadata": {
      "needs_background": "light"
     },
     "output_type": "display_data"
    },
    {
     "data": {
      "image/png": "[encoded data removed]",
      "text/plain": [
       "<Figure size 432x288 with 1 Axes>"
      ]
     },
     "metadata": {
      "needs_background": "light"
     },
     "output_type": "display_data"
    },
    {
     "data": {
      "image/png": "[encoded data removed]",
      "text/plain": [
       "<Figure size 432x288 with 1 Axes>"
      ]
     },
     "metadata": {
      "needs_background": "light"
     },
     "output_type": "display_data"
    },
    {
     "data": {
      "image/png": "[encoded data removed]",
      "text/plain": [
       "<Figure size 432x288 with 1 Axes>"
      ]
     },
     "metadata": {
      "needs_background": "light"
     },
     "output_type": "display_data"
    },
    {
     "data": {
      "image/png": "[encoded data removed]",
      "text/plain": [
       "<Figure size 432x288 with 1 Axes>"
      ]
     },
     "metadata": {
      "needs_background": "light"
     },
     "output_type": "display_data"
    },
    {
     "data": {
      "image/png": "[encoded data removed]",
      "text/plain": [
       "<Figure size 432x288 with 1 Axes>"
      ]
     },
     "metadata": {
      "needs_background": "light"
     },
     "output_type": "display_data"
    },
    {
     "data": {
      "image/png": "[encoded data removed]",
      "text/plain": [
       "<Figure size 432x288 with 1 Axes>"
      ]
     },
     "metadata": {
      "needs_background": "light"
     },
     "output_type": "display_data"
    },
    {
     "data": {
      "image/png": "[encoded data removed]",
      "text/plain": [
       "<Figure size 432x288 with 1 Axes>"
      ]
     },
     "metadata": {
      "needs_background": "light"
     },
     "output_type": "display_data"
    },
    {
     "data": {
      "image/png": "[encoded data removed]",
      "text/plain": [
       "<Figure size 432x288 with 1 Axes>"
      ]
     },
     "metadata": {
      "needs_background": "light"
     },
     "output_type": "display_data"
    },
    {
     "data": {
      "image/png": "[encoded data removed]",
      "text/plain": [
       "<Figure size 432x288 with 1 Axes>"
      ]
     },
     "metadata": {
      "needs_background": "light"
     },
     "output_type": "display_data"
    },
    {
     "data": {
      "image/png": "[encoded data removed]",
      "text/plain": [
       "<Figure size 432x288 with 1 Axes>"
      ]
     },
     "metadata": {
      "needs_background": "light"
     },
     "output_type": "display_data"
    },
    {
     "data": {
      "image/png": "[encoded data removed]",
      "text/plain": [
       "<Figure size 432x288 with 1 Axes>"
      ]
     },
     "metadata": {
      "needs_background": "light"
     },
     "output_type": "display_data"
    }
   ],
   "source": [
    "for i, feature in enumerate(numeric.columns):\n",
    "#     print(feature)\n",
    "    plt.figure(i)\n",
    "    plt.title(feature)\n",
    "    df[feature].hist(bins=50)\n",
    "#     plt.axvline(x= value_of_outliers(feature) , color='r')\n",
    "\n",
    "#     (np.log1p(df[feature])).hist(bins = 50)"
   ]
  },
  {
   "cell_type": "code",
   "execution_count": 1402,
   "metadata": {},
   "outputs": [],
   "source": [
    "outliers = df[(df.LotFrontage > 250) | (df.LotArea > 100000) | (df.MasVnrArea > 1400) | (df.BsmtFinSF1 > 3000) | \n",
    "   (df.TotalBsmtSF > 4500) | (df['1stFlrSF'] > 4000) | (df.WoodDeckSF > 1000) | (df.OpenPorchSF > 600) |\n",
    "  (df.EnclosedPorch > 600) | (df.ScreenPorch > 500) | (df.MiscVal> 12500) | (df.TotalSF > 9000)].index\n",
    "\n",
    "# outliers = df[(df.LotFrontage > 250) | (df.LotArea > 100000) | (df.MasVnrArea > 1400) | (df.BsmtFinSF1 > 3000) | \n",
    "#    (df.BsmtFinSF2 > 1400) | (df.TotalBsmtSF > 4500) | (df['1stFlrSF'] > 4000) | (df.WoodDeckSF > 900) |\n",
    "#     (df.OpenPorchSF > 500) | (df.EnclosedPorch > 500) | (df.ScreenPorch > 500) | (df.MiscVal> 12500) | \n",
    "#     (df.GrLivArea > 5000) | (df.TotalSF > 9000)].index\n",
    "outliers = outliers[outliers< 1460]"
   ]
  },
  {
   "cell_type": "code",
   "execution_count": 1403,
   "metadata": {},
   "outputs": [
    {
     "data": {
      "text/plain": [
       "Int64Index([250, 298, 314, 336, 347, 707, 935, 1299], dtype='int64', name='Id')"
      ]
     },
     "execution_count": 1403,
     "metadata": {},
     "output_type": "execute_result"
    }
   ],
   "source": [
    "outliers"
   ]
  },
  {
   "cell_type": "code",
   "execution_count": 1404,
   "metadata": {},
   "outputs": [
    {
     "data": {
      "text/plain": [
       "<AxesSubplot:>"
      ]
     },
     "execution_count": 1404,
     "metadata": {},
     "output_type": "execute_result"
    },
    {
     "data": {
      "image/png": "[encoded data removed]",
      "text/plain": [
       "<Figure size 432x288 with 1 Axes>"
      ]
     },
     "metadata": {
      "needs_background": "light"
     },
     "output_type": "display_data"
    }
   ],
   "source": [
    "y.hist(bins=50)"
   ]
  },
  {
   "cell_type": "code",
   "execution_count": 1405,
   "metadata": {},
   "outputs": [],
   "source": [
    "outliers = outliers.append(y[y > 700000].index)"
   ]
  },
  {
   "cell_type": "code",
   "execution_count": 1406,
   "metadata": {},
   "outputs": [
    {
     "data": {
      "text/plain": [
       "Int64Index([250, 298, 314, 336, 347, 707, 935, 1299, 692, 1183], dtype='int64', name='Id')"
      ]
     },
     "execution_count": 1406,
     "metadata": {},
     "output_type": "execute_result"
    }
   ],
   "source": [
    "outliers"
   ]
  },
  {
   "cell_type": "code",
   "execution_count": 1407,
   "metadata": {},
   "outputs": [],
   "source": [
    "df = df.drop(outliers, axis=0)"
   ]
  },
  {
   "cell_type": "code",
   "execution_count": 1408,
   "metadata": {},
   "outputs": [],
   "source": [
    "y = y.drop(outliers)"
   ]
  },
  {
   "cell_type": "markdown",
   "metadata": {},
   "source": [
    "## Fix skewness"
   ]
  },
  {
   "cell_type": "code",
   "execution_count": 1409,
   "metadata": {
    "scrolled": true
   },
   "outputs": [
    {
     "data": {
      "text/plain": [
       "<AxesSubplot:>"
      ]
     },
     "execution_count": 1409,
     "metadata": {},
     "output_type": "execute_result"
    },
    {
     "data": {
      "image/png": "[encoded data removed]",
      "text/plain": [
       "<Figure size 432x288 with 1 Axes>"
      ]
     },
     "metadata": {
      "needs_background": "light"
     },
     "output_type": "display_data"
    }
   ],
   "source": [
    "y = np.log1p(y)\n",
    "y.hist()"
   ]
  },
  {
   "cell_type": "code",
   "execution_count": 1215,
   "metadata": {},
   "outputs": [],
   "source": [
    "from scipy.stats import norm, skew"
   ]
  },
  {
   "cell_type": "code",
   "execution_count": 1410,
   "metadata": {
    "scrolled": true
   },
   "outputs": [
    {
     "data": {
      "text/plain": [
       "MiscVal              23.356545\n",
       "PoolQC               20.900302\n",
       "PoolArea             18.682408\n",
       "LowQualFinSF         12.067635\n",
       "3SsnPorch            11.356127\n",
       "KitchenAbvGr          4.293726\n",
       "BsmtFinSF2            4.155970\n",
       "Alley                 4.145324\n",
       "EnclosedPorch         3.996150\n",
       "BsmtHalfBath          3.952687\n",
       "ScreenPorch           3.951838\n",
       "LotArea               3.609092\n",
       "BsmtFinType2          3.159035\n",
       "RecentRemodel         3.059895\n",
       "OpenPorchSF           2.537473\n",
       "MasVnrArea            2.493150\n",
       "LotConfig             2.134257\n",
       "WoodDeckSF            1.839411\n",
       "Fence                 1.752501\n",
       "Neighborhood_Good     1.532058\n",
       "TotalPorchSF          1.381688\n",
       "MSSubClass            1.372362\n",
       "ExterCond             1.313415\n",
       "1stFlrSF              1.283180\n",
       "LotShape              1.237565\n",
       "BsmtExposure          1.125981\n",
       "ConstructArea         1.091292\n",
       "GrLivArea             1.047396\n",
       "TotalSF               1.018341\n",
       "BsmtFinSF1            0.990066\n",
       "BsmtUnfSF             0.917419\n",
       "2ndFlrSF              0.844248\n",
       "ExterQual             0.783724\n",
       "TotRmsAbvGrd          0.753795\n",
       "Fireplaces            0.727374\n",
       "HalfBath              0.695500\n",
       "TotalBsmtSF           0.690283\n",
       "BsmtFullBath          0.615244\n",
       "LotFrontage           0.591793\n",
       "TotalPoints           0.581322\n",
       "OverallCond           0.570402\n",
       "HeatingQC            -0.549578\n",
       "YearBuilt            -0.599008\n",
       "BsmtQual             -1.271422\n",
       "MSZoning             -2.661261\n",
       "GarageQual           -3.256590\n",
       "GarageCond           -3.375878\n",
       "LandContour          -3.441580\n",
       "BsmtCond             -3.596855\n",
       "GarageYrBlt          -3.898896\n",
       "dtype: float64"
      ]
     },
     "execution_count": 1410,
     "metadata": {},
     "output_type": "execute_result"
    }
   ],
   "source": [
    "numeric_feats = df.dtypes[df.dtypes != 'object'].index\n",
    "skewed_feats = df[numeric_feats].apply(lambda x: skew(x)).sort_values(ascending=False)\n",
    "high_skew = skewed_feats[abs(skewed_feats) > 0.5]\n",
    "high_skew.head(50)"
   ]
  },
  {
   "cell_type": "code",
   "execution_count": 1059,
   "metadata": {},
   "outputs": [],
   "source": [
    "# highest_skew = skewed_feats[abs(skewed_feats) > 18].index\n",
    "# df = df.drop(highest_skew, axis=1)"
   ]
  },
  {
   "cell_type": "code",
   "execution_count": 1411,
   "metadata": {},
   "outputs": [],
   "source": [
    "for feature in high_skew.index:\n",
    "    df[feature] = np.log1p(df[feature])"
   ]
  },
  {
   "cell_type": "code",
   "execution_count": 35,
   "metadata": {},
   "outputs": [
    {
     "name": "stderr",
     "output_type": "stream",
     "text": [
      "/Users/yulialysenko/opt/anaconda3/lib/python3.7/site-packages/ipykernel_launcher.py:2: RuntimeWarning: More than 20 figures have been opened. Figures created through the pyplot interface (`matplotlib.pyplot.figure`) are retained until explicitly closed and may consume too much memory. (To control this warning, see the rcParam `figure.max_open_warning`).\n",
      "  \n"
     ]
    },
    {
     "data": {
      "image/png": "[encoded data removed]",
      "text/plain": [
       "<Figure size 432x288 with 1 Axes>"
      ]
     },
     "metadata": {
      "needs_background": "light"
     },
     "output_type": "display_data"
    },
    {
     "data": {
      "image/png": "[encoded data removed]",
      "text/plain": [
       "<Figure size 432x288 with 1 Axes>"
      ]
     },
     "metadata": {
      "needs_background": "light"
     },
     "output_type": "display_data"
    },
    {
     "data": {
      "image/png": "[encoded data removed]",
      "text/plain": [
       "<Figure size 432x288 with 1 Axes>"
      ]
     },
     "metadata": {
      "needs_background": "light"
     },
     "output_type": "display_data"
    },
    {
     "data": {
      "image/png": "[encoded data removed]",
      "text/plain": [
       "<Figure size 432x288 with 1 Axes>"
      ]
     },
     "metadata": {
      "needs_background": "light"
     },
     "output_type": "display_data"
    },
    {
     "data": {
      "image/png": "[encoded data removed]",
      "text/plain": [
       "<Figure size 432x288 with 1 Axes>"
      ]
     },
     "metadata": {
      "needs_background": "light"
     },
     "output_type": "display_data"
    },
    {
     "data": {
      "image/png": "[encoded data removed]",
      "text/plain": [
       "<Figure size 432x288 with 1 Axes>"
      ]
     },
     "metadata": {
      "needs_background": "light"
     },
     "output_type": "display_data"
    },
    {
     "data": {
      "image/png": "[encoded data removed]",
      "text/plain": [
       "<Figure size 432x288 with 1 Axes>"
      ]
     },
     "metadata": {
      "needs_background": "light"
     },
     "output_type": "display_data"
    },
    {
     "data": {
      "image/png": "[encoded data removed]",
      "text/plain": [
       "<Figure size 432x288 with 1 Axes>"
      ]
     },
     "metadata": {
      "needs_background": "light"
     },
     "output_type": "display_data"
    },
    {
     "data": {
      "image/png": "[encoded data removed]",
      "text/plain": [
       "<Figure size 432x288 with 1 Axes>"
      ]
     },
     "metadata": {
      "needs_background": "light"
     },
     "output_type": "display_data"
    },
    {
     "data": {
      "image/png": "[encoded data removed]",
      "text/plain": [
       "<Figure size 432x288 with 1 Axes>"
      ]
     },
     "metadata": {
      "needs_background": "light"
     },
     "output_type": "display_data"
    },
    {
     "data": {
      "image/png": "[encoded data removed]",
      "text/plain": [
       "<Figure size 432x288 with 1 Axes>"
      ]
     },
     "metadata": {
      "needs_background": "light"
     },
     "output_type": "display_data"
    },
    {
     "data": {
      "image/png": "[encoded data removed]",
      "text/plain": [
       "<Figure size 432x288 with 1 Axes>"
      ]
     },
     "metadata": {
      "needs_background": "light"
     },
     "output_type": "display_data"
    },
    {
     "data": {
      "image/png": "[encoded data removed]",
      "text/plain": [
       "<Figure size 432x288 with 1 Axes>"
      ]
     },
     "metadata": {
      "needs_background": "light"
     },
     "output_type": "display_data"
    },
    {
     "data": {
      "image/png": "[encoded data removed]",
      "text/plain": [
       "<Figure size 432x288 with 1 Axes>"
      ]
     },
     "metadata": {
      "needs_background": "light"
     },
     "output_type": "display_data"
    },
    {
     "data": {
      "image/png": "[encoded data removed]",
      "text/plain": [
       "<Figure size 432x288 with 1 Axes>"
      ]
     },
     "metadata": {
      "needs_background": "light"
     },
     "output_type": "display_data"
    },
    {
     "data": {
      "image/png": "[encoded data removed]",
      "text/plain": [
       "<Figure size 432x288 with 1 Axes>"
      ]
     },
     "metadata": {
      "needs_background": "light"
     },
     "output_type": "display_data"
    },
    {
     "data": {
      "image/png": "[encoded data removed]",
      "text/plain": [
       "<Figure size 432x288 with 1 Axes>"
      ]
     },
     "metadata": {
      "needs_background": "light"
     },
     "output_type": "display_data"
    },
    {
     "data": {
      "image/png": "[encoded data removed]",
      "text/plain": [
       "<Figure size 432x288 with 1 Axes>"
      ]
     },
     "metadata": {
      "needs_background": "light"
     },
     "output_type": "display_data"
    },
    {
     "data": {
      "image/png": "[encoded data removed]",
      "text/plain": [
       "<Figure size 432x288 with 1 Axes>"
      ]
     },
     "metadata": {
      "needs_background": "light"
     },
     "output_type": "display_data"
    },
    {
     "data": {
      "image/png": "[encoded data removed]",
      "text/plain": [
       "<Figure size 432x288 with 1 Axes>"
      ]
     },
     "metadata": {
      "needs_background": "light"
     },
     "output_type": "display_data"
    },
    {
     "data": {
      "image/png": "[encoded data removed]",
      "text/plain": [
       "<Figure size 432x288 with 1 Axes>"
      ]
     },
     "metadata": {
      "needs_background": "light"
     },
     "output_type": "display_data"
    },
    {
     "data": {
      "image/png": "[encoded data removed]",
      "text/plain": [
       "<Figure size 432x288 with 1 Axes>"
      ]
     },
     "metadata": {
      "needs_background": "light"
     },
     "output_type": "display_data"
    },
    {
     "data": {
      "image/png": "[encoded data removed]",
      "text/plain": [
       "<Figure size 432x288 with 1 Axes>"
      ]
     },
     "metadata": {
      "needs_background": "light"
     },
     "output_type": "display_data"
    },
    {
     "data": {
      "image/png": "[encoded data removed]",
      "text/plain": [
       "<Figure size 432x288 with 1 Axes>"
      ]
     },
     "metadata": {
      "needs_background": "light"
     },
     "output_type": "display_data"
    },
    {
     "data": {
      "image/png": "[encoded data removed]",
      "text/plain": [
       "<Figure size 432x288 with 1 Axes>"
      ]
     },
     "metadata": {
      "needs_background": "light"
     },
     "output_type": "display_data"
    },
    {
     "data": {
      "image/png": "[encoded data removed]",
      "text/plain": [
       "<Figure size 432x288 with 1 Axes>"
      ]
     },
     "metadata": {
      "needs_background": "light"
     },
     "output_type": "display_data"
    },
    {
     "data": {
      "image/png": "[encoded data removed]",
      "text/plain": [
       "<Figure size 432x288 with 1 Axes>"
      ]
     },
     "metadata": {
      "needs_background": "light"
     },
     "output_type": "display_data"
    }
   ],
   "source": [
    "# for i, feature in enumerate(high_skew.index):\n",
    "#     plt.figure(i)\n",
    "#     plt.title(feature)\n",
    "#     (np.log1p(df[feature])).hist(bins = 50)\n",
    "#     (df[feature]).hist(bins = 50, density = False)\n",
    "\n",
    "# for feature in high_skew[:5].index:\n",
    "#     matplotlib.pyplot.subplot(nrows, ncols, r) \n",
    "#     plt.hist() \n",
    "    \n",
    "#     (np.log1p(df[feature])).hist()"
   ]
  },
  {
   "cell_type": "code",
   "execution_count": null,
   "metadata": {},
   "outputs": [],
   "source": []
  },
  {
   "cell_type": "code",
   "execution_count": null,
   "metadata": {},
   "outputs": [],
   "source": []
  },
  {
   "cell_type": "markdown",
   "metadata": {},
   "source": [
    "### Delete variables with low correlation with the price"
   ]
  },
  {
   "cell_type": "code",
   "execution_count": 1412,
   "metadata": {},
   "outputs": [],
   "source": [
    "corr = df.corrwith(y)#[\"SalePrice\"]"
   ]
  },
  {
   "cell_type": "code",
   "execution_count": 1413,
   "metadata": {
    "scrolled": true
   },
   "outputs": [
    {
     "data": {
      "text/plain": [
       "MSSubClass     -0.021083\n",
       "Utilities       0.012536\n",
       "LandSlope      -0.008624\n",
       "OverallCond    -0.002302\n",
       "BsmtHalfBath   -0.017698\n",
       "dtype: float64"
      ]
     },
     "execution_count": 1413,
     "metadata": {},
     "output_type": "execute_result"
    }
   ],
   "source": [
    "corr[abs(corr) < 0.03]"
   ]
  },
  {
   "cell_type": "code",
   "execution_count": 1220,
   "metadata": {},
   "outputs": [],
   "source": [
    "low_corr = corr[abs(corr) < 0.03].index#[\"LowQualFinSF\", \"MiscVal\", \"YrSold\", \"OverallCond\"]"
   ]
  },
  {
   "cell_type": "code",
   "execution_count": 1221,
   "metadata": {},
   "outputs": [],
   "source": [
    "df = df.drop(low_corr, axis=1)"
   ]
  },
  {
   "cell_type": "markdown",
   "metadata": {},
   "source": [
    "## Adding categorical columns"
   ]
  },
  {
   "cell_type": "code",
   "execution_count": 1414,
   "metadata": {},
   "outputs": [],
   "source": [
    "df = pd.get_dummies(df)\n"
   ]
  },
  {
   "cell_type": "code",
   "execution_count": 1415,
   "metadata": {},
   "outputs": [
    {
     "data": {
      "text/html": [
       "<div>\n",
       "<style scoped>\n",
       "    .dataframe tbody tr th:only-of-type {\n",
       "        vertical-align: middle;\n",
       "    }\n",
       "\n",
       "    .dataframe tbody tr th {\n",
       "        vertical-align: top;\n",
       "    }\n",
       "\n",
       "    .dataframe thead th {\n",
       "        text-align: right;\n",
       "    }\n",
       "</style>\n",
       "<table border=\"1\" class=\"dataframe\">\n",
       "  <thead>\n",
       "    <tr style=\"text-align: right;\">\n",
       "      <th></th>\n",
       "      <th>MSSubClass</th>\n",
       "      <th>MSZoning</th>\n",
       "      <th>LotFrontage</th>\n",
       "      <th>LotArea</th>\n",
       "      <th>Street</th>\n",
       "      <th>Alley</th>\n",
       "      <th>LotShape</th>\n",
       "      <th>LandContour</th>\n",
       "      <th>Utilities</th>\n",
       "      <th>LotConfig</th>\n",
       "      <th>...</th>\n",
       "      <th>SaleType_ConLw</th>\n",
       "      <th>SaleType_New</th>\n",
       "      <th>SaleType_Oth</th>\n",
       "      <th>SaleType_WD</th>\n",
       "      <th>SaleCondition_Abnorml</th>\n",
       "      <th>SaleCondition_AdjLand</th>\n",
       "      <th>SaleCondition_Alloca</th>\n",
       "      <th>SaleCondition_Family</th>\n",
       "      <th>SaleCondition_Normal</th>\n",
       "      <th>SaleCondition_Partial</th>\n",
       "    </tr>\n",
       "    <tr>\n",
       "      <th>Id</th>\n",
       "      <th></th>\n",
       "      <th></th>\n",
       "      <th></th>\n",
       "      <th></th>\n",
       "      <th></th>\n",
       "      <th></th>\n",
       "      <th></th>\n",
       "      <th></th>\n",
       "      <th></th>\n",
       "      <th></th>\n",
       "      <th></th>\n",
       "      <th></th>\n",
       "      <th></th>\n",
       "      <th></th>\n",
       "      <th></th>\n",
       "      <th></th>\n",
       "      <th></th>\n",
       "      <th></th>\n",
       "      <th></th>\n",
       "      <th></th>\n",
       "      <th></th>\n",
       "    </tr>\n",
       "  </thead>\n",
       "  <tbody>\n",
       "    <tr>\n",
       "      <th>1</th>\n",
       "      <td>4.110874</td>\n",
       "      <td>1.791759</td>\n",
       "      <td>4.189655</td>\n",
       "      <td>9.042040</td>\n",
       "      <td>1.098612</td>\n",
       "      <td>0.0</td>\n",
       "      <td>0.693147</td>\n",
       "      <td>1.609438</td>\n",
       "      <td>1.609438</td>\n",
       "      <td>0.693147</td>\n",
       "      <td>...</td>\n",
       "      <td>0</td>\n",
       "      <td>0</td>\n",
       "      <td>0</td>\n",
       "      <td>1</td>\n",
       "      <td>0</td>\n",
       "      <td>0</td>\n",
       "      <td>0</td>\n",
       "      <td>0</td>\n",
       "      <td>1</td>\n",
       "      <td>0</td>\n",
       "    </tr>\n",
       "    <tr>\n",
       "      <th>2</th>\n",
       "      <td>3.044522</td>\n",
       "      <td>1.791759</td>\n",
       "      <td>4.394449</td>\n",
       "      <td>9.169623</td>\n",
       "      <td>1.098612</td>\n",
       "      <td>0.0</td>\n",
       "      <td>0.693147</td>\n",
       "      <td>1.609438</td>\n",
       "      <td>1.609438</td>\n",
       "      <td>1.609438</td>\n",
       "      <td>...</td>\n",
       "      <td>0</td>\n",
       "      <td>0</td>\n",
       "      <td>0</td>\n",
       "      <td>1</td>\n",
       "      <td>0</td>\n",
       "      <td>0</td>\n",
       "      <td>0</td>\n",
       "      <td>0</td>\n",
       "      <td>1</td>\n",
       "      <td>0</td>\n",
       "    </tr>\n",
       "    <tr>\n",
       "      <th>3</th>\n",
       "      <td>4.110874</td>\n",
       "      <td>1.791759</td>\n",
       "      <td>4.234107</td>\n",
       "      <td>9.328212</td>\n",
       "      <td>1.098612</td>\n",
       "      <td>0.0</td>\n",
       "      <td>1.098612</td>\n",
       "      <td>1.609438</td>\n",
       "      <td>1.609438</td>\n",
       "      <td>0.693147</td>\n",
       "      <td>...</td>\n",
       "      <td>0</td>\n",
       "      <td>0</td>\n",
       "      <td>0</td>\n",
       "      <td>1</td>\n",
       "      <td>0</td>\n",
       "      <td>0</td>\n",
       "      <td>0</td>\n",
       "      <td>0</td>\n",
       "      <td>1</td>\n",
       "      <td>0</td>\n",
       "    </tr>\n",
       "    <tr>\n",
       "      <th>4</th>\n",
       "      <td>4.262680</td>\n",
       "      <td>1.791759</td>\n",
       "      <td>4.110874</td>\n",
       "      <td>9.164401</td>\n",
       "      <td>1.098612</td>\n",
       "      <td>0.0</td>\n",
       "      <td>1.098612</td>\n",
       "      <td>1.609438</td>\n",
       "      <td>1.609438</td>\n",
       "      <td>1.098612</td>\n",
       "      <td>...</td>\n",
       "      <td>0</td>\n",
       "      <td>0</td>\n",
       "      <td>0</td>\n",
       "      <td>1</td>\n",
       "      <td>1</td>\n",
       "      <td>0</td>\n",
       "      <td>0</td>\n",
       "      <td>0</td>\n",
       "      <td>0</td>\n",
       "      <td>0</td>\n",
       "    </tr>\n",
       "    <tr>\n",
       "      <th>5</th>\n",
       "      <td>4.110874</td>\n",
       "      <td>1.791759</td>\n",
       "      <td>4.442651</td>\n",
       "      <td>9.565284</td>\n",
       "      <td>1.098612</td>\n",
       "      <td>0.0</td>\n",
       "      <td>1.098612</td>\n",
       "      <td>1.609438</td>\n",
       "      <td>1.609438</td>\n",
       "      <td>1.609438</td>\n",
       "      <td>...</td>\n",
       "      <td>0</td>\n",
       "      <td>0</td>\n",
       "      <td>0</td>\n",
       "      <td>1</td>\n",
       "      <td>0</td>\n",
       "      <td>0</td>\n",
       "      <td>0</td>\n",
       "      <td>0</td>\n",
       "      <td>1</td>\n",
       "      <td>0</td>\n",
       "    </tr>\n",
       "  </tbody>\n",
       "</table>\n",
       "<p>5 rows × 218 columns</p>\n",
       "</div>"
      ],
      "text/plain": [
       "    MSSubClass  MSZoning  LotFrontage   LotArea    Street  Alley  LotShape  \\\n",
       "Id                                                                           \n",
       "1     4.110874  1.791759     4.189655  9.042040  1.098612    0.0  0.693147   \n",
       "2     3.044522  1.791759     4.394449  9.169623  1.098612    0.0  0.693147   \n",
       "3     4.110874  1.791759     4.234107  9.328212  1.098612    0.0  1.098612   \n",
       "4     4.262680  1.791759     4.110874  9.164401  1.098612    0.0  1.098612   \n",
       "5     4.110874  1.791759     4.442651  9.565284  1.098612    0.0  1.098612   \n",
       "\n",
       "    LandContour  Utilities  LotConfig  ...  SaleType_ConLw  SaleType_New  \\\n",
       "Id                                     ...                                 \n",
       "1      1.609438   1.609438   0.693147  ...               0             0   \n",
       "2      1.609438   1.609438   1.609438  ...               0             0   \n",
       "3      1.609438   1.609438   0.693147  ...               0             0   \n",
       "4      1.609438   1.609438   1.098612  ...               0             0   \n",
       "5      1.609438   1.609438   1.609438  ...               0             0   \n",
       "\n",
       "    SaleType_Oth  SaleType_WD  SaleCondition_Abnorml  SaleCondition_AdjLand  \\\n",
       "Id                                                                            \n",
       "1              0            1                      0                      0   \n",
       "2              0            1                      0                      0   \n",
       "3              0            1                      0                      0   \n",
       "4              0            1                      1                      0   \n",
       "5              0            1                      0                      0   \n",
       "\n",
       "    SaleCondition_Alloca  SaleCondition_Family  SaleCondition_Normal  \\\n",
       "Id                                                                     \n",
       "1                      0                     0                     1   \n",
       "2                      0                     0                     1   \n",
       "3                      0                     0                     1   \n",
       "4                      0                     0                     0   \n",
       "5                      0                     0                     1   \n",
       "\n",
       "    SaleCondition_Partial  \n",
       "Id                         \n",
       "1                       0  \n",
       "2                       0  \n",
       "3                       0  \n",
       "4                       0  \n",
       "5                       0  \n",
       "\n",
       "[5 rows x 218 columns]"
      ]
     },
     "execution_count": 1415,
     "metadata": {},
     "output_type": "execute_result"
    }
   ],
   "source": [
    "df.head()"
   ]
  },
  {
   "cell_type": "markdown",
   "metadata": {},
   "source": [
    "### Divide into train and test"
   ]
  },
  {
   "cell_type": "code",
   "execution_count": 1416,
   "metadata": {},
   "outputs": [],
   "source": [
    "train = df[:len(train_data)-len(outliers)]\n",
    "test = df[len(train_data)-len(outliers):]"
   ]
  },
  {
   "cell_type": "code",
   "execution_count": 1417,
   "metadata": {},
   "outputs": [
    {
     "name": "stdout",
     "output_type": "stream",
     "text": [
      "(1450, 218) (1459, 218) (1460, 80)\n"
     ]
    }
   ],
   "source": [
    "print(train.shape, test.shape, train_data.shape)"
   ]
  },
  {
   "cell_type": "code",
   "execution_count": 1418,
   "metadata": {},
   "outputs": [],
   "source": [
    "X = train"
   ]
  },
  {
   "cell_type": "code",
   "execution_count": 1364,
   "metadata": {},
   "outputs": [],
   "source": [
    "# y = y.drop(outliers)"
   ]
  },
  {
   "cell_type": "markdown",
   "metadata": {},
   "source": [
    "## Training"
   ]
  },
  {
   "cell_type": "code",
   "execution_count": 1419,
   "metadata": {},
   "outputs": [],
   "source": [
    "X_train, X_test, y_train, y_test = train_test_split(X, y, test_size=0.33, random_state=42)"
   ]
  },
  {
   "cell_type": "code",
   "execution_count": 1420,
   "metadata": {
    "scrolled": true
   },
   "outputs": [
    {
     "data": {
      "text/html": [
       "<div>\n",
       "<style scoped>\n",
       "    .dataframe tbody tr th:only-of-type {\n",
       "        vertical-align: middle;\n",
       "    }\n",
       "\n",
       "    .dataframe tbody tr th {\n",
       "        vertical-align: top;\n",
       "    }\n",
       "\n",
       "    .dataframe thead th {\n",
       "        text-align: right;\n",
       "    }\n",
       "</style>\n",
       "<table border=\"1\" class=\"dataframe\">\n",
       "  <thead>\n",
       "    <tr style=\"text-align: right;\">\n",
       "      <th></th>\n",
       "      <th>MSSubClass</th>\n",
       "      <th>MSZoning</th>\n",
       "      <th>LotFrontage</th>\n",
       "      <th>LotArea</th>\n",
       "      <th>Street</th>\n",
       "      <th>Alley</th>\n",
       "      <th>LotShape</th>\n",
       "      <th>LandContour</th>\n",
       "      <th>Utilities</th>\n",
       "      <th>LotConfig</th>\n",
       "      <th>...</th>\n",
       "      <th>SaleType_ConLw</th>\n",
       "      <th>SaleType_New</th>\n",
       "      <th>SaleType_Oth</th>\n",
       "      <th>SaleType_WD</th>\n",
       "      <th>SaleCondition_Abnorml</th>\n",
       "      <th>SaleCondition_AdjLand</th>\n",
       "      <th>SaleCondition_Alloca</th>\n",
       "      <th>SaleCondition_Family</th>\n",
       "      <th>SaleCondition_Normal</th>\n",
       "      <th>SaleCondition_Partial</th>\n",
       "    </tr>\n",
       "    <tr>\n",
       "      <th>Id</th>\n",
       "      <th></th>\n",
       "      <th></th>\n",
       "      <th></th>\n",
       "      <th></th>\n",
       "      <th></th>\n",
       "      <th></th>\n",
       "      <th></th>\n",
       "      <th></th>\n",
       "      <th></th>\n",
       "      <th></th>\n",
       "      <th></th>\n",
       "      <th></th>\n",
       "      <th></th>\n",
       "      <th></th>\n",
       "      <th></th>\n",
       "      <th></th>\n",
       "      <th></th>\n",
       "      <th></th>\n",
       "      <th></th>\n",
       "      <th></th>\n",
       "      <th></th>\n",
       "    </tr>\n",
       "  </thead>\n",
       "  <tbody>\n",
       "    <tr>\n",
       "      <th>544</th>\n",
       "      <td>4.795791</td>\n",
       "      <td>1.386294</td>\n",
       "      <td>3.555348</td>\n",
       "      <td>8.308692</td>\n",
       "      <td>1.098612</td>\n",
       "      <td>0.0</td>\n",
       "      <td>0.693147</td>\n",
       "      <td>1.609438</td>\n",
       "      <td>1.609438</td>\n",
       "      <td>0.693147</td>\n",
       "      <td>...</td>\n",
       "      <td>0</td>\n",
       "      <td>0</td>\n",
       "      <td>0</td>\n",
       "      <td>1</td>\n",
       "      <td>0</td>\n",
       "      <td>0</td>\n",
       "      <td>0</td>\n",
       "      <td>0</td>\n",
       "      <td>1</td>\n",
       "      <td>0</td>\n",
       "    </tr>\n",
       "    <tr>\n",
       "      <th>762</th>\n",
       "      <td>3.433987</td>\n",
       "      <td>1.609438</td>\n",
       "      <td>4.110874</td>\n",
       "      <td>8.841014</td>\n",
       "      <td>1.098612</td>\n",
       "      <td>0.0</td>\n",
       "      <td>0.693147</td>\n",
       "      <td>1.609438</td>\n",
       "      <td>1.609438</td>\n",
       "      <td>1.609438</td>\n",
       "      <td>...</td>\n",
       "      <td>0</td>\n",
       "      <td>0</td>\n",
       "      <td>0</td>\n",
       "      <td>1</td>\n",
       "      <td>0</td>\n",
       "      <td>0</td>\n",
       "      <td>0</td>\n",
       "      <td>0</td>\n",
       "      <td>1</td>\n",
       "      <td>0</td>\n",
       "    </tr>\n",
       "    <tr>\n",
       "      <th>50</th>\n",
       "      <td>3.044522</td>\n",
       "      <td>1.791759</td>\n",
       "      <td>4.204693</td>\n",
       "      <td>8.954544</td>\n",
       "      <td>1.098612</td>\n",
       "      <td>0.0</td>\n",
       "      <td>0.693147</td>\n",
       "      <td>1.609438</td>\n",
       "      <td>1.609438</td>\n",
       "      <td>0.693147</td>\n",
       "      <td>...</td>\n",
       "      <td>0</td>\n",
       "      <td>0</td>\n",
       "      <td>0</td>\n",
       "      <td>1</td>\n",
       "      <td>0</td>\n",
       "      <td>0</td>\n",
       "      <td>0</td>\n",
       "      <td>0</td>\n",
       "      <td>1</td>\n",
       "      <td>0</td>\n",
       "    </tr>\n",
       "    <tr>\n",
       "      <th>1391</th>\n",
       "      <td>3.044522</td>\n",
       "      <td>1.791759</td>\n",
       "      <td>4.262680</td>\n",
       "      <td>9.116140</td>\n",
       "      <td>1.098612</td>\n",
       "      <td>0.0</td>\n",
       "      <td>0.693147</td>\n",
       "      <td>1.609438</td>\n",
       "      <td>1.609438</td>\n",
       "      <td>0.693147</td>\n",
       "      <td>...</td>\n",
       "      <td>0</td>\n",
       "      <td>0</td>\n",
       "      <td>0</td>\n",
       "      <td>1</td>\n",
       "      <td>0</td>\n",
       "      <td>0</td>\n",
       "      <td>0</td>\n",
       "      <td>0</td>\n",
       "      <td>1</td>\n",
       "      <td>0</td>\n",
       "    </tr>\n",
       "    <tr>\n",
       "      <th>142</th>\n",
       "      <td>3.044522</td>\n",
       "      <td>1.791759</td>\n",
       "      <td>4.369448</td>\n",
       "      <td>9.362718</td>\n",
       "      <td>1.098612</td>\n",
       "      <td>0.0</td>\n",
       "      <td>0.693147</td>\n",
       "      <td>1.609438</td>\n",
       "      <td>1.609438</td>\n",
       "      <td>0.693147</td>\n",
       "      <td>...</td>\n",
       "      <td>0</td>\n",
       "      <td>0</td>\n",
       "      <td>0</td>\n",
       "      <td>1</td>\n",
       "      <td>0</td>\n",
       "      <td>0</td>\n",
       "      <td>0</td>\n",
       "      <td>0</td>\n",
       "      <td>1</td>\n",
       "      <td>0</td>\n",
       "    </tr>\n",
       "  </tbody>\n",
       "</table>\n",
       "<p>5 rows × 218 columns</p>\n",
       "</div>"
      ],
      "text/plain": [
       "      MSSubClass  MSZoning  LotFrontage   LotArea    Street  Alley  LotShape  \\\n",
       "Id                                                                             \n",
       "544     4.795791  1.386294     3.555348  8.308692  1.098612    0.0  0.693147   \n",
       "762     3.433987  1.609438     4.110874  8.841014  1.098612    0.0  0.693147   \n",
       "50      3.044522  1.791759     4.204693  8.954544  1.098612    0.0  0.693147   \n",
       "1391    3.044522  1.791759     4.262680  9.116140  1.098612    0.0  0.693147   \n",
       "142     3.044522  1.791759     4.369448  9.362718  1.098612    0.0  0.693147   \n",
       "\n",
       "      LandContour  Utilities  LotConfig  ...  SaleType_ConLw  SaleType_New  \\\n",
       "Id                                       ...                                 \n",
       "544      1.609438   1.609438   0.693147  ...               0             0   \n",
       "762      1.609438   1.609438   1.609438  ...               0             0   \n",
       "50       1.609438   1.609438   0.693147  ...               0             0   \n",
       "1391     1.609438   1.609438   0.693147  ...               0             0   \n",
       "142      1.609438   1.609438   0.693147  ...               0             0   \n",
       "\n",
       "      SaleType_Oth  SaleType_WD  SaleCondition_Abnorml  SaleCondition_AdjLand  \\\n",
       "Id                                                                              \n",
       "544              0            1                      0                      0   \n",
       "762              0            1                      0                      0   \n",
       "50               0            1                      0                      0   \n",
       "1391             0            1                      0                      0   \n",
       "142              0            1                      0                      0   \n",
       "\n",
       "      SaleCondition_Alloca  SaleCondition_Family  SaleCondition_Normal  \\\n",
       "Id                                                                       \n",
       "544                      0                     0                     1   \n",
       "762                      0                     0                     1   \n",
       "50                       0                     0                     1   \n",
       "1391                     0                     0                     1   \n",
       "142                      0                     0                     1   \n",
       "\n",
       "      SaleCondition_Partial  \n",
       "Id                           \n",
       "544                       0  \n",
       "762                       0  \n",
       "50                        0  \n",
       "1391                      0  \n",
       "142                       0  \n",
       "\n",
       "[5 rows x 218 columns]"
      ]
     },
     "execution_count": 1420,
     "metadata": {},
     "output_type": "execute_result"
    }
   ],
   "source": [
    "X_test.head()"
   ]
  },
  {
   "cell_type": "code",
   "execution_count": 1292,
   "metadata": {},
   "outputs": [],
   "source": [
    "from sklearn.ensemble import RandomForestRegressor\n",
    "from sklearn.model_selection import GridSearchCV"
   ]
  },
  {
   "cell_type": "code",
   "execution_count": 1421,
   "metadata": {},
   "outputs": [],
   "source": [
    "rf = RandomForestRegressor()\n",
    "rf.fit(X_train, y_train)\n",
    "prediction_rf = rf.predict(X_test)\n"
   ]
  },
  {
   "cell_type": "code",
   "execution_count": 1368,
   "metadata": {},
   "outputs": [],
   "source": [
    "from catboost import CatBoostRegressor"
   ]
  },
  {
   "cell_type": "code",
   "execution_count": 1422,
   "metadata": {},
   "outputs": [
    {
     "name": "stdout",
     "output_type": "stream",
     "text": [
      "Learning rate set to 0.038826\n",
      "0:\tlearn: 0.3819317\ttotal: 7.19ms\tremaining: 7.18s\n",
      "1:\tlearn: 0.3720421\ttotal: 12.9ms\tremaining: 6.42s\n",
      "2:\tlearn: 0.3626718\ttotal: 18.6ms\tremaining: 6.18s\n",
      "3:\tlearn: 0.3537287\ttotal: 23.9ms\tremaining: 5.94s\n",
      "4:\tlearn: 0.3450986\ttotal: 29.2ms\tremaining: 5.81s\n",
      "5:\tlearn: 0.3367028\ttotal: 34.6ms\tremaining: 5.72s\n",
      "6:\tlearn: 0.3286892\ttotal: 40.2ms\tremaining: 5.71s\n",
      "7:\tlearn: 0.3205977\ttotal: 45.6ms\tremaining: 5.66s\n",
      "8:\tlearn: 0.3130469\ttotal: 50.8ms\tremaining: 5.6s\n",
      "9:\tlearn: 0.3061141\ttotal: 56.1ms\tremaining: 5.55s\n",
      "10:\tlearn: 0.2990724\ttotal: 61.4ms\tremaining: 5.52s\n",
      "11:\tlearn: 0.2921530\ttotal: 67ms\tremaining: 5.51s\n",
      "12:\tlearn: 0.2851457\ttotal: 72.6ms\tremaining: 5.51s\n",
      "13:\tlearn: 0.2790895\ttotal: 79.4ms\tremaining: 5.59s\n",
      "14:\tlearn: 0.2732811\ttotal: 85.4ms\tremaining: 5.6s\n",
      "15:\tlearn: 0.2671795\ttotal: 90.5ms\tremaining: 5.57s\n",
      "16:\tlearn: 0.2612765\ttotal: 95.8ms\tremaining: 5.54s\n",
      "17:\tlearn: 0.2559580\ttotal: 101ms\tremaining: 5.52s\n",
      "18:\tlearn: 0.2509732\ttotal: 107ms\tremaining: 5.5s\n",
      "19:\tlearn: 0.2460666\ttotal: 112ms\tremaining: 5.5s\n",
      "20:\tlearn: 0.2413004\ttotal: 118ms\tremaining: 5.48s\n",
      "21:\tlearn: 0.2365056\ttotal: 123ms\tremaining: 5.46s\n",
      "22:\tlearn: 0.2318269\ttotal: 128ms\tremaining: 5.44s\n",
      "23:\tlearn: 0.2275328\ttotal: 134ms\tremaining: 5.44s\n",
      "24:\tlearn: 0.2229929\ttotal: 140ms\tremaining: 5.47s\n",
      "25:\tlearn: 0.2190775\ttotal: 146ms\tremaining: 5.49s\n",
      "26:\tlearn: 0.2151654\ttotal: 152ms\tremaining: 5.49s\n",
      "27:\tlearn: 0.2115696\ttotal: 157ms\tremaining: 5.45s\n",
      "28:\tlearn: 0.2079229\ttotal: 161ms\tremaining: 5.4s\n",
      "29:\tlearn: 0.2043885\ttotal: 166ms\tremaining: 5.38s\n",
      "30:\tlearn: 0.2010375\ttotal: 172ms\tremaining: 5.38s\n",
      "31:\tlearn: 0.1976594\ttotal: 177ms\tremaining: 5.35s\n",
      "32:\tlearn: 0.1948099\ttotal: 182ms\tremaining: 5.32s\n",
      "33:\tlearn: 0.1917063\ttotal: 187ms\tremaining: 5.32s\n",
      "34:\tlearn: 0.1890635\ttotal: 193ms\tremaining: 5.33s\n",
      "35:\tlearn: 0.1860507\ttotal: 199ms\tremaining: 5.33s\n",
      "36:\tlearn: 0.1834102\ttotal: 205ms\tremaining: 5.33s\n",
      "37:\tlearn: 0.1809263\ttotal: 211ms\tremaining: 5.35s\n",
      "38:\tlearn: 0.1788668\ttotal: 218ms\tremaining: 5.37s\n",
      "39:\tlearn: 0.1763125\ttotal: 225ms\tremaining: 5.39s\n",
      "40:\tlearn: 0.1739762\ttotal: 234ms\tremaining: 5.48s\n",
      "41:\tlearn: 0.1717266\ttotal: 245ms\tremaining: 5.58s\n",
      "42:\tlearn: 0.1693415\ttotal: 252ms\tremaining: 5.61s\n",
      "43:\tlearn: 0.1672543\ttotal: 260ms\tremaining: 5.65s\n",
      "44:\tlearn: 0.1653977\ttotal: 266ms\tremaining: 5.64s\n",
      "45:\tlearn: 0.1633275\ttotal: 271ms\tremaining: 5.62s\n",
      "46:\tlearn: 0.1614050\ttotal: 276ms\tremaining: 5.61s\n",
      "47:\tlearn: 0.1595650\ttotal: 281ms\tremaining: 5.57s\n",
      "48:\tlearn: 0.1578153\ttotal: 285ms\tremaining: 5.54s\n",
      "49:\tlearn: 0.1562583\ttotal: 290ms\tremaining: 5.5s\n",
      "50:\tlearn: 0.1548189\ttotal: 295ms\tremaining: 5.48s\n",
      "51:\tlearn: 0.1533312\ttotal: 301ms\tremaining: 5.49s\n",
      "52:\tlearn: 0.1519686\ttotal: 309ms\tremaining: 5.52s\n",
      "53:\tlearn: 0.1505019\ttotal: 314ms\tremaining: 5.5s\n",
      "54:\tlearn: 0.1493035\ttotal: 319ms\tremaining: 5.47s\n",
      "55:\tlearn: 0.1481139\ttotal: 323ms\tremaining: 5.44s\n",
      "56:\tlearn: 0.1467555\ttotal: 327ms\tremaining: 5.42s\n",
      "57:\tlearn: 0.1453407\ttotal: 332ms\tremaining: 5.39s\n",
      "58:\tlearn: 0.1442099\ttotal: 336ms\tremaining: 5.36s\n",
      "59:\tlearn: 0.1429808\ttotal: 341ms\tremaining: 5.34s\n",
      "60:\tlearn: 0.1415881\ttotal: 346ms\tremaining: 5.32s\n",
      "61:\tlearn: 0.1403384\ttotal: 350ms\tremaining: 5.3s\n",
      "62:\tlearn: 0.1392679\ttotal: 355ms\tremaining: 5.28s\n",
      "63:\tlearn: 0.1381392\ttotal: 360ms\tremaining: 5.26s\n",
      "64:\tlearn: 0.1371861\ttotal: 364ms\tremaining: 5.24s\n",
      "65:\tlearn: 0.1362481\ttotal: 369ms\tremaining: 5.22s\n",
      "66:\tlearn: 0.1354278\ttotal: 373ms\tremaining: 5.2s\n",
      "67:\tlearn: 0.1344789\ttotal: 379ms\tremaining: 5.19s\n",
      "68:\tlearn: 0.1336775\ttotal: 385ms\tremaining: 5.19s\n",
      "69:\tlearn: 0.1328340\ttotal: 391ms\tremaining: 5.19s\n",
      "70:\tlearn: 0.1320857\ttotal: 396ms\tremaining: 5.19s\n",
      "71:\tlearn: 0.1313157\ttotal: 403ms\tremaining: 5.19s\n",
      "72:\tlearn: 0.1305709\ttotal: 408ms\tremaining: 5.18s\n",
      "73:\tlearn: 0.1297511\ttotal: 414ms\tremaining: 5.18s\n",
      "74:\tlearn: 0.1288693\ttotal: 420ms\tremaining: 5.17s\n",
      "75:\tlearn: 0.1281842\ttotal: 426ms\tremaining: 5.17s\n",
      "76:\tlearn: 0.1274664\ttotal: 431ms\tremaining: 5.17s\n",
      "77:\tlearn: 0.1266771\ttotal: 437ms\tremaining: 5.16s\n",
      "78:\tlearn: 0.1259094\ttotal: 442ms\tremaining: 5.15s\n",
      "79:\tlearn: 0.1252546\ttotal: 448ms\tremaining: 5.15s\n",
      "80:\tlearn: 0.1246401\ttotal: 455ms\tremaining: 5.16s\n",
      "81:\tlearn: 0.1240940\ttotal: 460ms\tremaining: 5.14s\n",
      "82:\tlearn: 0.1234436\ttotal: 465ms\tremaining: 5.13s\n",
      "83:\tlearn: 0.1228216\ttotal: 469ms\tremaining: 5.12s\n",
      "84:\tlearn: 0.1222417\ttotal: 473ms\tremaining: 5.09s\n",
      "85:\tlearn: 0.1216988\ttotal: 477ms\tremaining: 5.07s\n",
      "86:\tlearn: 0.1211505\ttotal: 480ms\tremaining: 5.04s\n",
      "87:\tlearn: 0.1205151\ttotal: 485ms\tremaining: 5.03s\n",
      "88:\tlearn: 0.1200201\ttotal: 491ms\tremaining: 5.02s\n",
      "89:\tlearn: 0.1195638\ttotal: 497ms\tremaining: 5.02s\n",
      "90:\tlearn: 0.1191149\ttotal: 501ms\tremaining: 5.01s\n",
      "91:\tlearn: 0.1185568\ttotal: 505ms\tremaining: 4.99s\n",
      "92:\tlearn: 0.1181774\ttotal: 509ms\tremaining: 4.96s\n",
      "93:\tlearn: 0.1176179\ttotal: 513ms\tremaining: 4.94s\n",
      "94:\tlearn: 0.1171519\ttotal: 517ms\tremaining: 4.92s\n",
      "95:\tlearn: 0.1167414\ttotal: 521ms\tremaining: 4.9s\n",
      "96:\tlearn: 0.1164448\ttotal: 524ms\tremaining: 4.88s\n",
      "97:\tlearn: 0.1160876\ttotal: 528ms\tremaining: 4.86s\n",
      "98:\tlearn: 0.1157153\ttotal: 532ms\tremaining: 4.84s\n",
      "99:\tlearn: 0.1153879\ttotal: 536ms\tremaining: 4.82s\n",
      "100:\tlearn: 0.1149828\ttotal: 540ms\tremaining: 4.8s\n",
      "101:\tlearn: 0.1145632\ttotal: 543ms\tremaining: 4.78s\n",
      "102:\tlearn: 0.1139671\ttotal: 547ms\tremaining: 4.77s\n",
      "103:\tlearn: 0.1135319\ttotal: 551ms\tremaining: 4.75s\n",
      "104:\tlearn: 0.1131707\ttotal: 555ms\tremaining: 4.73s\n",
      "105:\tlearn: 0.1128957\ttotal: 559ms\tremaining: 4.71s\n",
      "106:\tlearn: 0.1125650\ttotal: 563ms\tremaining: 4.7s\n",
      "107:\tlearn: 0.1121213\ttotal: 567ms\tremaining: 4.68s\n",
      "108:\tlearn: 0.1117587\ttotal: 572ms\tremaining: 4.68s\n",
      "109:\tlearn: 0.1114454\ttotal: 578ms\tremaining: 4.67s\n",
      "110:\tlearn: 0.1111840\ttotal: 583ms\tremaining: 4.67s\n",
      "111:\tlearn: 0.1108815\ttotal: 588ms\tremaining: 4.66s\n",
      "112:\tlearn: 0.1106207\ttotal: 593ms\tremaining: 4.66s\n",
      "113:\tlearn: 0.1103528\ttotal: 598ms\tremaining: 4.65s\n",
      "114:\tlearn: 0.1101136\ttotal: 604ms\tremaining: 4.65s\n",
      "115:\tlearn: 0.1098395\ttotal: 613ms\tremaining: 4.67s\n",
      "116:\tlearn: 0.1095675\ttotal: 618ms\tremaining: 4.67s\n",
      "117:\tlearn: 0.1093928\ttotal: 623ms\tremaining: 4.66s\n",
      "118:\tlearn: 0.1090348\ttotal: 629ms\tremaining: 4.65s\n",
      "119:\tlearn: 0.1087049\ttotal: 638ms\tremaining: 4.68s\n",
      "120:\tlearn: 0.1084454\ttotal: 644ms\tremaining: 4.68s\n",
      "121:\tlearn: 0.1081825\ttotal: 650ms\tremaining: 4.68s\n",
      "122:\tlearn: 0.1079162\ttotal: 656ms\tremaining: 4.67s\n",
      "123:\tlearn: 0.1076501\ttotal: 663ms\tremaining: 4.68s\n",
      "124:\tlearn: 0.1074380\ttotal: 671ms\tremaining: 4.69s\n",
      "125:\tlearn: 0.1072290\ttotal: 676ms\tremaining: 4.69s\n",
      "126:\tlearn: 0.1068401\ttotal: 681ms\tremaining: 4.68s\n",
      "127:\tlearn: 0.1066276\ttotal: 686ms\tremaining: 4.67s\n",
      "128:\tlearn: 0.1063249\ttotal: 691ms\tremaining: 4.67s\n",
      "129:\tlearn: 0.1060037\ttotal: 696ms\tremaining: 4.66s\n",
      "130:\tlearn: 0.1057540\ttotal: 703ms\tremaining: 4.66s\n",
      "131:\tlearn: 0.1054737\ttotal: 711ms\tremaining: 4.67s\n",
      "132:\tlearn: 0.1053053\ttotal: 716ms\tremaining: 4.66s\n",
      "133:\tlearn: 0.1050388\ttotal: 721ms\tremaining: 4.66s\n",
      "134:\tlearn: 0.1047717\ttotal: 725ms\tremaining: 4.65s\n",
      "135:\tlearn: 0.1045566\ttotal: 732ms\tremaining: 4.65s\n",
      "136:\tlearn: 0.1042855\ttotal: 736ms\tremaining: 4.64s\n",
      "137:\tlearn: 0.1040326\ttotal: 740ms\tremaining: 4.62s\n",
      "138:\tlearn: 0.1038215\ttotal: 744ms\tremaining: 4.61s\n",
      "139:\tlearn: 0.1034967\ttotal: 747ms\tremaining: 4.59s\n",
      "140:\tlearn: 0.1033159\ttotal: 752ms\tremaining: 4.58s\n",
      "141:\tlearn: 0.1031397\ttotal: 758ms\tremaining: 4.58s\n",
      "142:\tlearn: 0.1028459\ttotal: 765ms\tremaining: 4.58s\n",
      "143:\tlearn: 0.1026469\ttotal: 771ms\tremaining: 4.58s\n",
      "144:\tlearn: 0.1024345\ttotal: 777ms\tremaining: 4.58s\n",
      "145:\tlearn: 0.1023136\ttotal: 782ms\tremaining: 4.57s\n",
      "146:\tlearn: 0.1021347\ttotal: 787ms\tremaining: 4.57s\n",
      "147:\tlearn: 0.1020113\ttotal: 792ms\tremaining: 4.56s\n",
      "148:\tlearn: 0.1018240\ttotal: 797ms\tremaining: 4.55s\n",
      "149:\tlearn: 0.1015858\ttotal: 803ms\tremaining: 4.55s\n",
      "150:\tlearn: 0.1012108\ttotal: 808ms\tremaining: 4.54s\n",
      "151:\tlearn: 0.1010943\ttotal: 812ms\tremaining: 4.53s\n",
      "152:\tlearn: 0.1008596\ttotal: 816ms\tremaining: 4.52s\n",
      "153:\tlearn: 0.1007072\ttotal: 820ms\tremaining: 4.5s\n",
      "154:\tlearn: 0.1005114\ttotal: 824ms\tremaining: 4.49s\n",
      "155:\tlearn: 0.1003610\ttotal: 828ms\tremaining: 4.48s\n",
      "156:\tlearn: 0.1001859\ttotal: 833ms\tremaining: 4.47s\n",
      "157:\tlearn: 0.1000200\ttotal: 840ms\tremaining: 4.47s\n",
      "158:\tlearn: 0.0999382\ttotal: 844ms\tremaining: 4.46s\n",
      "159:\tlearn: 0.0998999\ttotal: 847ms\tremaining: 4.45s\n",
      "160:\tlearn: 0.0996359\ttotal: 851ms\tremaining: 4.43s\n",
      "161:\tlearn: 0.0994786\ttotal: 855ms\tremaining: 4.42s\n",
      "162:\tlearn: 0.0990295\ttotal: 859ms\tremaining: 4.41s\n",
      "163:\tlearn: 0.0988746\ttotal: 862ms\tremaining: 4.4s\n",
      "164:\tlearn: 0.0987300\ttotal: 866ms\tremaining: 4.38s\n",
      "165:\tlearn: 0.0984635\ttotal: 870ms\tremaining: 4.37s\n",
      "166:\tlearn: 0.0983411\ttotal: 874ms\tremaining: 4.36s\n",
      "167:\tlearn: 0.0981027\ttotal: 878ms\tremaining: 4.35s\n",
      "168:\tlearn: 0.0979059\ttotal: 881ms\tremaining: 4.33s\n",
      "169:\tlearn: 0.0977145\ttotal: 885ms\tremaining: 4.32s\n",
      "170:\tlearn: 0.0975052\ttotal: 889ms\tremaining: 4.31s\n",
      "171:\tlearn: 0.0973541\ttotal: 893ms\tremaining: 4.3s\n",
      "172:\tlearn: 0.0971482\ttotal: 897ms\tremaining: 4.29s\n",
      "173:\tlearn: 0.0970218\ttotal: 900ms\tremaining: 4.27s\n",
      "174:\tlearn: 0.0968995\ttotal: 904ms\tremaining: 4.26s\n",
      "175:\tlearn: 0.0967669\ttotal: 908ms\tremaining: 4.25s\n",
      "176:\tlearn: 0.0965824\ttotal: 912ms\tremaining: 4.24s\n",
      "177:\tlearn: 0.0964895\ttotal: 915ms\tremaining: 4.23s\n",
      "178:\tlearn: 0.0963615\ttotal: 919ms\tremaining: 4.22s\n",
      "179:\tlearn: 0.0960983\ttotal: 923ms\tremaining: 4.21s\n",
      "180:\tlearn: 0.0958100\ttotal: 929ms\tremaining: 4.2s\n",
      "181:\tlearn: 0.0956279\ttotal: 934ms\tremaining: 4.2s\n",
      "182:\tlearn: 0.0955069\ttotal: 940ms\tremaining: 4.2s\n",
      "183:\tlearn: 0.0954075\ttotal: 945ms\tremaining: 4.19s\n"
     ]
    },
    {
     "name": "stdout",
     "output_type": "stream",
     "text": [
      "184:\tlearn: 0.0952668\ttotal: 967ms\tremaining: 4.26s\n",
      "185:\tlearn: 0.0950511\ttotal: 971ms\tremaining: 4.25s\n",
      "186:\tlearn: 0.0948624\ttotal: 976ms\tremaining: 4.25s\n",
      "187:\tlearn: 0.0947387\ttotal: 981ms\tremaining: 4.24s\n",
      "188:\tlearn: 0.0945404\ttotal: 987ms\tremaining: 4.23s\n",
      "189:\tlearn: 0.0943089\ttotal: 992ms\tremaining: 4.23s\n",
      "190:\tlearn: 0.0941627\ttotal: 997ms\tremaining: 4.22s\n",
      "191:\tlearn: 0.0940550\ttotal: 1s\tremaining: 4.22s\n",
      "192:\tlearn: 0.0939390\ttotal: 1.01s\tremaining: 4.21s\n",
      "193:\tlearn: 0.0939050\ttotal: 1.01s\tremaining: 4.21s\n",
      "194:\tlearn: 0.0937725\ttotal: 1.02s\tremaining: 4.2s\n",
      "195:\tlearn: 0.0934830\ttotal: 1.02s\tremaining: 4.19s\n",
      "196:\tlearn: 0.0933589\ttotal: 1.02s\tremaining: 4.18s\n",
      "197:\tlearn: 0.0930850\ttotal: 1.03s\tremaining: 4.17s\n",
      "198:\tlearn: 0.0929226\ttotal: 1.03s\tremaining: 4.16s\n",
      "199:\tlearn: 0.0927765\ttotal: 1.04s\tremaining: 4.16s\n",
      "200:\tlearn: 0.0925347\ttotal: 1.04s\tremaining: 4.15s\n",
      "201:\tlearn: 0.0922755\ttotal: 1.05s\tremaining: 4.14s\n",
      "202:\tlearn: 0.0920705\ttotal: 1.05s\tremaining: 4.13s\n",
      "203:\tlearn: 0.0918408\ttotal: 1.05s\tremaining: 4.12s\n",
      "204:\tlearn: 0.0916407\ttotal: 1.06s\tremaining: 4.11s\n",
      "205:\tlearn: 0.0915612\ttotal: 1.06s\tremaining: 4.09s\n",
      "206:\tlearn: 0.0914126\ttotal: 1.07s\tremaining: 4.08s\n",
      "207:\tlearn: 0.0912117\ttotal: 1.07s\tremaining: 4.07s\n",
      "208:\tlearn: 0.0909976\ttotal: 1.07s\tremaining: 4.06s\n",
      "209:\tlearn: 0.0909442\ttotal: 1.08s\tremaining: 4.05s\n",
      "210:\tlearn: 0.0907858\ttotal: 1.08s\tremaining: 4.04s\n",
      "211:\tlearn: 0.0905376\ttotal: 1.08s\tremaining: 4.03s\n",
      "212:\tlearn: 0.0903546\ttotal: 1.09s\tremaining: 4.02s\n",
      "213:\tlearn: 0.0901491\ttotal: 1.09s\tremaining: 4.01s\n",
      "214:\tlearn: 0.0899219\ttotal: 1.1s\tremaining: 4s\n",
      "215:\tlearn: 0.0896968\ttotal: 1.1s\tremaining: 3.99s\n",
      "216:\tlearn: 0.0894812\ttotal: 1.1s\tremaining: 3.98s\n",
      "217:\tlearn: 0.0893276\ttotal: 1.11s\tremaining: 3.97s\n",
      "218:\tlearn: 0.0892043\ttotal: 1.11s\tremaining: 3.96s\n",
      "219:\tlearn: 0.0889657\ttotal: 1.11s\tremaining: 3.95s\n",
      "220:\tlearn: 0.0887265\ttotal: 1.12s\tremaining: 3.94s\n",
      "221:\tlearn: 0.0885431\ttotal: 1.12s\tremaining: 3.93s\n",
      "222:\tlearn: 0.0884860\ttotal: 1.13s\tremaining: 3.92s\n",
      "223:\tlearn: 0.0883410\ttotal: 1.13s\tremaining: 3.92s\n",
      "224:\tlearn: 0.0881067\ttotal: 1.14s\tremaining: 3.94s\n",
      "225:\tlearn: 0.0879609\ttotal: 1.15s\tremaining: 3.95s\n",
      "226:\tlearn: 0.0879151\ttotal: 1.17s\tremaining: 3.99s\n",
      "227:\tlearn: 0.0878854\ttotal: 1.18s\tremaining: 4.01s\n",
      "228:\tlearn: 0.0877005\ttotal: 1.2s\tremaining: 4.04s\n",
      "229:\tlearn: 0.0875440\ttotal: 1.21s\tremaining: 4.05s\n",
      "230:\tlearn: 0.0875025\ttotal: 1.21s\tremaining: 4.04s\n",
      "231:\tlearn: 0.0873030\ttotal: 1.23s\tremaining: 4.06s\n",
      "232:\tlearn: 0.0872675\ttotal: 1.23s\tremaining: 4.06s\n",
      "233:\tlearn: 0.0872366\ttotal: 1.24s\tremaining: 4.06s\n",
      "234:\tlearn: 0.0870342\ttotal: 1.25s\tremaining: 4.05s\n",
      "235:\tlearn: 0.0868137\ttotal: 1.25s\tremaining: 4.05s\n",
      "236:\tlearn: 0.0867084\ttotal: 1.26s\tremaining: 4.05s\n",
      "237:\tlearn: 0.0864771\ttotal: 1.26s\tremaining: 4.05s\n",
      "238:\tlearn: 0.0864006\ttotal: 1.27s\tremaining: 4.06s\n",
      "239:\tlearn: 0.0862399\ttotal: 1.29s\tremaining: 4.08s\n",
      "240:\tlearn: 0.0860163\ttotal: 1.3s\tremaining: 4.08s\n",
      "241:\tlearn: 0.0857617\ttotal: 1.3s\tremaining: 4.09s\n",
      "242:\tlearn: 0.0856412\ttotal: 1.32s\tremaining: 4.1s\n",
      "243:\tlearn: 0.0855134\ttotal: 1.33s\tremaining: 4.11s\n",
      "244:\tlearn: 0.0853151\ttotal: 1.33s\tremaining: 4.12s\n",
      "245:\tlearn: 0.0852039\ttotal: 1.34s\tremaining: 4.12s\n",
      "246:\tlearn: 0.0850150\ttotal: 1.35s\tremaining: 4.13s\n",
      "247:\tlearn: 0.0848563\ttotal: 1.36s\tremaining: 4.14s\n",
      "248:\tlearn: 0.0847154\ttotal: 1.38s\tremaining: 4.16s\n",
      "249:\tlearn: 0.0846686\ttotal: 1.39s\tremaining: 4.16s\n",
      "250:\tlearn: 0.0846221\ttotal: 1.39s\tremaining: 4.15s\n",
      "251:\tlearn: 0.0844230\ttotal: 1.4s\tremaining: 4.15s\n",
      "252:\tlearn: 0.0842668\ttotal: 1.4s\tremaining: 4.15s\n",
      "253:\tlearn: 0.0841741\ttotal: 1.42s\tremaining: 4.16s\n",
      "254:\tlearn: 0.0840095\ttotal: 1.42s\tremaining: 4.16s\n",
      "255:\tlearn: 0.0839166\ttotal: 1.43s\tremaining: 4.17s\n",
      "256:\tlearn: 0.0838909\ttotal: 1.44s\tremaining: 4.17s\n",
      "257:\tlearn: 0.0837293\ttotal: 1.45s\tremaining: 4.18s\n",
      "258:\tlearn: 0.0836958\ttotal: 1.46s\tremaining: 4.18s\n",
      "259:\tlearn: 0.0834845\ttotal: 1.47s\tremaining: 4.18s\n",
      "260:\tlearn: 0.0834134\ttotal: 1.48s\tremaining: 4.18s\n",
      "261:\tlearn: 0.0832386\ttotal: 1.48s\tremaining: 4.18s\n",
      "262:\tlearn: 0.0830533\ttotal: 1.49s\tremaining: 4.17s\n",
      "263:\tlearn: 0.0828959\ttotal: 1.5s\tremaining: 4.17s\n",
      "264:\tlearn: 0.0826770\ttotal: 1.5s\tremaining: 4.17s\n",
      "265:\tlearn: 0.0826120\ttotal: 1.51s\tremaining: 4.17s\n",
      "266:\tlearn: 0.0823861\ttotal: 1.51s\tremaining: 4.16s\n",
      "267:\tlearn: 0.0822159\ttotal: 1.53s\tremaining: 4.18s\n",
      "268:\tlearn: 0.0819992\ttotal: 1.54s\tremaining: 4.18s\n",
      "269:\tlearn: 0.0818824\ttotal: 1.54s\tremaining: 4.18s\n",
      "270:\tlearn: 0.0817267\ttotal: 1.55s\tremaining: 4.17s\n",
      "271:\tlearn: 0.0815578\ttotal: 1.55s\tremaining: 4.16s\n",
      "272:\tlearn: 0.0814111\ttotal: 1.56s\tremaining: 4.17s\n",
      "273:\tlearn: 0.0812645\ttotal: 1.57s\tremaining: 4.16s\n",
      "274:\tlearn: 0.0811589\ttotal: 1.57s\tremaining: 4.15s\n",
      "275:\tlearn: 0.0810314\ttotal: 1.58s\tremaining: 4.14s\n",
      "276:\tlearn: 0.0808820\ttotal: 1.58s\tremaining: 4.13s\n",
      "277:\tlearn: 0.0808567\ttotal: 1.59s\tremaining: 4.13s\n",
      "278:\tlearn: 0.0808165\ttotal: 1.59s\tremaining: 4.11s\n",
      "279:\tlearn: 0.0806573\ttotal: 1.6s\tremaining: 4.1s\n",
      "280:\tlearn: 0.0804742\ttotal: 1.6s\tremaining: 4.1s\n",
      "281:\tlearn: 0.0803176\ttotal: 1.61s\tremaining: 4.09s\n",
      "282:\tlearn: 0.0801092\ttotal: 1.61s\tremaining: 4.08s\n",
      "283:\tlearn: 0.0799727\ttotal: 1.62s\tremaining: 4.07s\n",
      "284:\tlearn: 0.0799451\ttotal: 1.62s\tremaining: 4.06s\n",
      "285:\tlearn: 0.0798891\ttotal: 1.62s\tremaining: 4.05s\n",
      "286:\tlearn: 0.0797744\ttotal: 1.63s\tremaining: 4.04s\n",
      "287:\tlearn: 0.0796519\ttotal: 1.63s\tremaining: 4.04s\n",
      "288:\tlearn: 0.0795202\ttotal: 1.64s\tremaining: 4.03s\n",
      "289:\tlearn: 0.0793877\ttotal: 1.64s\tremaining: 4.02s\n",
      "290:\tlearn: 0.0793545\ttotal: 1.65s\tremaining: 4.02s\n",
      "291:\tlearn: 0.0793319\ttotal: 1.65s\tremaining: 4.01s\n",
      "292:\tlearn: 0.0793081\ttotal: 1.65s\tremaining: 3.99s\n",
      "293:\tlearn: 0.0791634\ttotal: 1.66s\tremaining: 3.98s\n",
      "294:\tlearn: 0.0789787\ttotal: 1.66s\tremaining: 3.97s\n",
      "295:\tlearn: 0.0789503\ttotal: 1.67s\tremaining: 3.96s\n",
      "296:\tlearn: 0.0788641\ttotal: 1.67s\tremaining: 3.95s\n",
      "297:\tlearn: 0.0788420\ttotal: 1.67s\tremaining: 3.94s\n",
      "298:\tlearn: 0.0787367\ttotal: 1.68s\tremaining: 3.93s\n",
      "299:\tlearn: 0.0786368\ttotal: 1.68s\tremaining: 3.92s\n",
      "300:\tlearn: 0.0784569\ttotal: 1.68s\tremaining: 3.91s\n",
      "301:\tlearn: 0.0783343\ttotal: 1.69s\tremaining: 3.9s\n",
      "302:\tlearn: 0.0782255\ttotal: 1.69s\tremaining: 3.89s\n",
      "303:\tlearn: 0.0781024\ttotal: 1.69s\tremaining: 3.88s\n",
      "304:\tlearn: 0.0780798\ttotal: 1.7s\tremaining: 3.87s\n",
      "305:\tlearn: 0.0779664\ttotal: 1.7s\tremaining: 3.86s\n",
      "306:\tlearn: 0.0778104\ttotal: 1.71s\tremaining: 3.85s\n",
      "307:\tlearn: 0.0776509\ttotal: 1.71s\tremaining: 3.84s\n",
      "308:\tlearn: 0.0775029\ttotal: 1.71s\tremaining: 3.83s\n",
      "309:\tlearn: 0.0773689\ttotal: 1.72s\tremaining: 3.82s\n",
      "310:\tlearn: 0.0773478\ttotal: 1.72s\tremaining: 3.81s\n",
      "311:\tlearn: 0.0772121\ttotal: 1.73s\tremaining: 3.81s\n",
      "312:\tlearn: 0.0770075\ttotal: 1.73s\tremaining: 3.8s\n",
      "313:\tlearn: 0.0769900\ttotal: 1.73s\tremaining: 3.79s\n",
      "314:\tlearn: 0.0767553\ttotal: 1.74s\tremaining: 3.78s\n",
      "315:\tlearn: 0.0767360\ttotal: 1.74s\tremaining: 3.77s\n",
      "316:\tlearn: 0.0766079\ttotal: 1.75s\tremaining: 3.76s\n",
      "317:\tlearn: 0.0764616\ttotal: 1.75s\tremaining: 3.76s\n",
      "318:\tlearn: 0.0763813\ttotal: 1.76s\tremaining: 3.75s\n",
      "319:\tlearn: 0.0762390\ttotal: 1.76s\tremaining: 3.74s\n",
      "320:\tlearn: 0.0762204\ttotal: 1.77s\tremaining: 3.74s\n",
      "321:\tlearn: 0.0760870\ttotal: 1.77s\tremaining: 3.73s\n",
      "322:\tlearn: 0.0759769\ttotal: 1.78s\tremaining: 3.72s\n",
      "323:\tlearn: 0.0758695\ttotal: 1.78s\tremaining: 3.72s\n",
      "324:\tlearn: 0.0757073\ttotal: 1.79s\tremaining: 3.71s\n",
      "325:\tlearn: 0.0755680\ttotal: 1.79s\tremaining: 3.71s\n",
      "326:\tlearn: 0.0755499\ttotal: 1.8s\tremaining: 3.7s\n",
      "327:\tlearn: 0.0754099\ttotal: 1.8s\tremaining: 3.7s\n",
      "328:\tlearn: 0.0753428\ttotal: 1.81s\tremaining: 3.69s\n",
      "329:\tlearn: 0.0752299\ttotal: 1.81s\tremaining: 3.69s\n",
      "330:\tlearn: 0.0750869\ttotal: 1.82s\tremaining: 3.68s\n",
      "331:\tlearn: 0.0749281\ttotal: 1.83s\tremaining: 3.67s\n",
      "332:\tlearn: 0.0749084\ttotal: 1.83s\tremaining: 3.67s\n",
      "333:\tlearn: 0.0747816\ttotal: 1.84s\tremaining: 3.66s\n",
      "334:\tlearn: 0.0747049\ttotal: 1.84s\tremaining: 3.66s\n",
      "335:\tlearn: 0.0745301\ttotal: 1.85s\tremaining: 3.65s\n",
      "336:\tlearn: 0.0743979\ttotal: 1.85s\tremaining: 3.65s\n",
      "337:\tlearn: 0.0743790\ttotal: 1.86s\tremaining: 3.64s\n",
      "338:\tlearn: 0.0742269\ttotal: 1.86s\tremaining: 3.63s\n",
      "339:\tlearn: 0.0741068\ttotal: 1.87s\tremaining: 3.63s\n",
      "340:\tlearn: 0.0740089\ttotal: 1.87s\tremaining: 3.62s\n",
      "341:\tlearn: 0.0738826\ttotal: 1.88s\tremaining: 3.62s\n",
      "342:\tlearn: 0.0737483\ttotal: 1.89s\tremaining: 3.61s\n",
      "343:\tlearn: 0.0736240\ttotal: 1.89s\tremaining: 3.6s\n",
      "344:\tlearn: 0.0734231\ttotal: 1.89s\tremaining: 3.6s\n",
      "345:\tlearn: 0.0732948\ttotal: 1.9s\tremaining: 3.59s\n",
      "346:\tlearn: 0.0732766\ttotal: 1.9s\tremaining: 3.58s\n",
      "347:\tlearn: 0.0731488\ttotal: 1.91s\tremaining: 3.57s\n",
      "348:\tlearn: 0.0730049\ttotal: 1.91s\tremaining: 3.57s\n",
      "349:\tlearn: 0.0728610\ttotal: 1.92s\tremaining: 3.56s\n",
      "350:\tlearn: 0.0727274\ttotal: 1.92s\tremaining: 3.55s\n",
      "351:\tlearn: 0.0725941\ttotal: 1.93s\tremaining: 3.54s\n",
      "352:\tlearn: 0.0724687\ttotal: 1.93s\tremaining: 3.54s\n",
      "353:\tlearn: 0.0722230\ttotal: 1.94s\tremaining: 3.53s\n"
     ]
    },
    {
     "name": "stdout",
     "output_type": "stream",
     "text": [
      "354:\tlearn: 0.0720971\ttotal: 1.94s\tremaining: 3.53s\n",
      "355:\tlearn: 0.0719741\ttotal: 1.95s\tremaining: 3.52s\n",
      "356:\tlearn: 0.0717984\ttotal: 1.95s\tremaining: 3.51s\n",
      "357:\tlearn: 0.0717826\ttotal: 1.96s\tremaining: 3.51s\n",
      "358:\tlearn: 0.0716307\ttotal: 1.96s\tremaining: 3.5s\n",
      "359:\tlearn: 0.0714984\ttotal: 1.97s\tremaining: 3.5s\n",
      "360:\tlearn: 0.0714832\ttotal: 1.97s\tremaining: 3.49s\n",
      "361:\tlearn: 0.0713598\ttotal: 1.98s\tremaining: 3.49s\n",
      "362:\tlearn: 0.0712823\ttotal: 1.99s\tremaining: 3.48s\n",
      "363:\tlearn: 0.0711571\ttotal: 1.99s\tremaining: 3.48s\n",
      "364:\tlearn: 0.0710427\ttotal: 2s\tremaining: 3.48s\n",
      "365:\tlearn: 0.0709565\ttotal: 2s\tremaining: 3.47s\n",
      "366:\tlearn: 0.0708391\ttotal: 2.01s\tremaining: 3.46s\n",
      "367:\tlearn: 0.0707142\ttotal: 2.01s\tremaining: 3.46s\n",
      "368:\tlearn: 0.0705789\ttotal: 2.02s\tremaining: 3.45s\n",
      "369:\tlearn: 0.0704785\ttotal: 2.02s\tremaining: 3.44s\n",
      "370:\tlearn: 0.0703582\ttotal: 2.02s\tremaining: 3.43s\n",
      "371:\tlearn: 0.0702200\ttotal: 2.03s\tremaining: 3.42s\n",
      "372:\tlearn: 0.0700994\ttotal: 2.03s\tremaining: 3.42s\n",
      "373:\tlearn: 0.0699913\ttotal: 2.04s\tremaining: 3.41s\n",
      "374:\tlearn: 0.0698931\ttotal: 2.04s\tremaining: 3.4s\n",
      "375:\tlearn: 0.0698732\ttotal: 2.04s\tremaining: 3.39s\n",
      "376:\tlearn: 0.0697254\ttotal: 2.05s\tremaining: 3.38s\n",
      "377:\tlearn: 0.0695613\ttotal: 2.05s\tremaining: 3.37s\n",
      "378:\tlearn: 0.0694549\ttotal: 2.05s\tremaining: 3.37s\n",
      "379:\tlearn: 0.0693548\ttotal: 2.06s\tremaining: 3.36s\n",
      "380:\tlearn: 0.0693396\ttotal: 2.06s\tremaining: 3.35s\n",
      "381:\tlearn: 0.0692377\ttotal: 2.06s\tremaining: 3.34s\n",
      "382:\tlearn: 0.0691199\ttotal: 2.07s\tremaining: 3.33s\n",
      "383:\tlearn: 0.0689996\ttotal: 2.07s\tremaining: 3.33s\n",
      "384:\tlearn: 0.0689182\ttotal: 2.08s\tremaining: 3.32s\n",
      "385:\tlearn: 0.0689026\ttotal: 2.08s\tremaining: 3.31s\n",
      "386:\tlearn: 0.0687560\ttotal: 2.09s\tremaining: 3.31s\n",
      "387:\tlearn: 0.0686447\ttotal: 2.09s\tremaining: 3.3s\n",
      "388:\tlearn: 0.0685459\ttotal: 2.1s\tremaining: 3.29s\n",
      "389:\tlearn: 0.0684258\ttotal: 2.1s\tremaining: 3.29s\n",
      "390:\tlearn: 0.0683205\ttotal: 2.11s\tremaining: 3.28s\n",
      "391:\tlearn: 0.0682584\ttotal: 2.11s\tremaining: 3.27s\n",
      "392:\tlearn: 0.0681956\ttotal: 2.11s\tremaining: 3.27s\n",
      "393:\tlearn: 0.0680880\ttotal: 2.12s\tremaining: 3.26s\n",
      "394:\tlearn: 0.0679944\ttotal: 2.12s\tremaining: 3.25s\n",
      "395:\tlearn: 0.0678574\ttotal: 2.13s\tremaining: 3.24s\n",
      "396:\tlearn: 0.0677809\ttotal: 2.13s\tremaining: 3.23s\n",
      "397:\tlearn: 0.0675898\ttotal: 2.13s\tremaining: 3.23s\n",
      "398:\tlearn: 0.0674760\ttotal: 2.14s\tremaining: 3.22s\n",
      "399:\tlearn: 0.0673990\ttotal: 2.14s\tremaining: 3.22s\n",
      "400:\tlearn: 0.0672712\ttotal: 2.15s\tremaining: 3.21s\n",
      "401:\tlearn: 0.0671004\ttotal: 2.15s\tremaining: 3.21s\n",
      "402:\tlearn: 0.0669790\ttotal: 2.16s\tremaining: 3.2s\n",
      "403:\tlearn: 0.0669357\ttotal: 2.17s\tremaining: 3.19s\n",
      "404:\tlearn: 0.0668271\ttotal: 2.17s\tremaining: 3.19s\n",
      "405:\tlearn: 0.0667552\ttotal: 2.17s\tremaining: 3.18s\n",
      "406:\tlearn: 0.0666826\ttotal: 2.18s\tremaining: 3.17s\n",
      "407:\tlearn: 0.0666579\ttotal: 2.18s\tremaining: 3.17s\n",
      "408:\tlearn: 0.0664387\ttotal: 2.19s\tremaining: 3.16s\n",
      "409:\tlearn: 0.0663330\ttotal: 2.19s\tremaining: 3.15s\n",
      "410:\tlearn: 0.0662800\ttotal: 2.19s\tremaining: 3.15s\n",
      "411:\tlearn: 0.0661463\ttotal: 2.2s\tremaining: 3.14s\n",
      "412:\tlearn: 0.0660759\ttotal: 2.2s\tremaining: 3.13s\n",
      "413:\tlearn: 0.0659823\ttotal: 2.21s\tremaining: 3.12s\n",
      "414:\tlearn: 0.0658884\ttotal: 2.21s\tremaining: 3.12s\n",
      "415:\tlearn: 0.0657565\ttotal: 2.21s\tremaining: 3.11s\n",
      "416:\tlearn: 0.0656540\ttotal: 2.22s\tremaining: 3.1s\n",
      "417:\tlearn: 0.0655295\ttotal: 2.22s\tremaining: 3.09s\n",
      "418:\tlearn: 0.0655098\ttotal: 2.23s\tremaining: 3.09s\n",
      "419:\tlearn: 0.0653855\ttotal: 2.23s\tremaining: 3.08s\n",
      "420:\tlearn: 0.0652558\ttotal: 2.23s\tremaining: 3.07s\n",
      "421:\tlearn: 0.0651134\ttotal: 2.24s\tremaining: 3.06s\n",
      "422:\tlearn: 0.0649978\ttotal: 2.24s\tremaining: 3.06s\n",
      "423:\tlearn: 0.0649707\ttotal: 2.25s\tremaining: 3.05s\n",
      "424:\tlearn: 0.0648028\ttotal: 2.25s\tremaining: 3.04s\n",
      "425:\tlearn: 0.0646818\ttotal: 2.25s\tremaining: 3.04s\n",
      "426:\tlearn: 0.0645532\ttotal: 2.26s\tremaining: 3.03s\n",
      "427:\tlearn: 0.0644457\ttotal: 2.26s\tremaining: 3.02s\n",
      "428:\tlearn: 0.0643718\ttotal: 2.26s\tremaining: 3.01s\n",
      "429:\tlearn: 0.0643537\ttotal: 2.27s\tremaining: 3.01s\n",
      "430:\tlearn: 0.0642345\ttotal: 2.27s\tremaining: 3s\n",
      "431:\tlearn: 0.0641400\ttotal: 2.28s\tremaining: 3s\n",
      "432:\tlearn: 0.0641223\ttotal: 2.28s\tremaining: 2.99s\n",
      "433:\tlearn: 0.0640114\ttotal: 2.29s\tremaining: 2.98s\n",
      "434:\tlearn: 0.0639376\ttotal: 2.29s\tremaining: 2.98s\n",
      "435:\tlearn: 0.0638329\ttotal: 2.29s\tremaining: 2.97s\n",
      "436:\tlearn: 0.0637637\ttotal: 2.3s\tremaining: 2.96s\n",
      "437:\tlearn: 0.0636524\ttotal: 2.3s\tremaining: 2.95s\n",
      "438:\tlearn: 0.0635317\ttotal: 2.31s\tremaining: 2.95s\n",
      "439:\tlearn: 0.0633297\ttotal: 2.31s\tremaining: 2.94s\n",
      "440:\tlearn: 0.0632200\ttotal: 2.31s\tremaining: 2.93s\n",
      "441:\tlearn: 0.0632014\ttotal: 2.32s\tremaining: 2.93s\n",
      "442:\tlearn: 0.0631280\ttotal: 2.32s\tremaining: 2.92s\n",
      "443:\tlearn: 0.0630540\ttotal: 2.33s\tremaining: 2.92s\n",
      "444:\tlearn: 0.0629766\ttotal: 2.33s\tremaining: 2.91s\n",
      "445:\tlearn: 0.0628534\ttotal: 2.34s\tremaining: 2.9s\n",
      "446:\tlearn: 0.0627502\ttotal: 2.34s\tremaining: 2.9s\n",
      "447:\tlearn: 0.0626089\ttotal: 2.35s\tremaining: 2.89s\n",
      "448:\tlearn: 0.0625418\ttotal: 2.35s\tremaining: 2.89s\n",
      "449:\tlearn: 0.0625306\ttotal: 2.36s\tremaining: 2.88s\n",
      "450:\tlearn: 0.0625209\ttotal: 2.36s\tremaining: 2.88s\n",
      "451:\tlearn: 0.0624214\ttotal: 2.37s\tremaining: 2.87s\n",
      "452:\tlearn: 0.0622756\ttotal: 2.37s\tremaining: 2.86s\n",
      "453:\tlearn: 0.0621827\ttotal: 2.38s\tremaining: 2.86s\n",
      "454:\tlearn: 0.0620797\ttotal: 2.38s\tremaining: 2.85s\n",
      "455:\tlearn: 0.0619961\ttotal: 2.38s\tremaining: 2.84s\n",
      "456:\tlearn: 0.0618994\ttotal: 2.39s\tremaining: 2.84s\n",
      "457:\tlearn: 0.0617052\ttotal: 2.39s\tremaining: 2.83s\n",
      "458:\tlearn: 0.0615942\ttotal: 2.4s\tremaining: 2.82s\n",
      "459:\tlearn: 0.0614551\ttotal: 2.4s\tremaining: 2.82s\n",
      "460:\tlearn: 0.0613505\ttotal: 2.4s\tremaining: 2.81s\n",
      "461:\tlearn: 0.0613343\ttotal: 2.41s\tremaining: 2.81s\n",
      "462:\tlearn: 0.0612376\ttotal: 2.42s\tremaining: 2.8s\n",
      "463:\tlearn: 0.0611252\ttotal: 2.42s\tremaining: 2.8s\n",
      "464:\tlearn: 0.0609884\ttotal: 2.43s\tremaining: 2.79s\n",
      "465:\tlearn: 0.0609725\ttotal: 2.43s\tremaining: 2.79s\n",
      "466:\tlearn: 0.0609494\ttotal: 2.44s\tremaining: 2.78s\n",
      "467:\tlearn: 0.0608589\ttotal: 2.44s\tremaining: 2.77s\n",
      "468:\tlearn: 0.0607733\ttotal: 2.45s\tremaining: 2.77s\n",
      "469:\tlearn: 0.0607008\ttotal: 2.45s\tremaining: 2.76s\n",
      "470:\tlearn: 0.0606316\ttotal: 2.46s\tremaining: 2.76s\n",
      "471:\tlearn: 0.0605157\ttotal: 2.46s\tremaining: 2.75s\n",
      "472:\tlearn: 0.0604216\ttotal: 2.46s\tremaining: 2.75s\n",
      "473:\tlearn: 0.0602754\ttotal: 2.47s\tremaining: 2.74s\n",
      "474:\tlearn: 0.0601941\ttotal: 2.47s\tremaining: 2.73s\n",
      "475:\tlearn: 0.0601020\ttotal: 2.48s\tremaining: 2.73s\n",
      "476:\tlearn: 0.0599809\ttotal: 2.48s\tremaining: 2.72s\n",
      "477:\tlearn: 0.0599114\ttotal: 2.49s\tremaining: 2.72s\n",
      "478:\tlearn: 0.0598455\ttotal: 2.49s\tremaining: 2.71s\n",
      "479:\tlearn: 0.0597510\ttotal: 2.5s\tremaining: 2.71s\n",
      "480:\tlearn: 0.0596666\ttotal: 2.5s\tremaining: 2.7s\n",
      "481:\tlearn: 0.0596243\ttotal: 2.51s\tremaining: 2.7s\n",
      "482:\tlearn: 0.0595266\ttotal: 2.52s\tremaining: 2.69s\n",
      "483:\tlearn: 0.0594619\ttotal: 2.52s\tremaining: 2.69s\n",
      "484:\tlearn: 0.0593967\ttotal: 2.52s\tremaining: 2.68s\n",
      "485:\tlearn: 0.0593121\ttotal: 2.53s\tremaining: 2.68s\n",
      "486:\tlearn: 0.0592348\ttotal: 2.54s\tremaining: 2.67s\n",
      "487:\tlearn: 0.0591558\ttotal: 2.54s\tremaining: 2.67s\n",
      "488:\tlearn: 0.0591226\ttotal: 2.55s\tremaining: 2.66s\n",
      "489:\tlearn: 0.0590130\ttotal: 2.55s\tremaining: 2.66s\n",
      "490:\tlearn: 0.0588513\ttotal: 2.56s\tremaining: 2.65s\n",
      "491:\tlearn: 0.0587927\ttotal: 2.56s\tremaining: 2.65s\n",
      "492:\tlearn: 0.0587382\ttotal: 2.57s\tremaining: 2.64s\n",
      "493:\tlearn: 0.0586664\ttotal: 2.57s\tremaining: 2.63s\n",
      "494:\tlearn: 0.0585227\ttotal: 2.58s\tremaining: 2.63s\n",
      "495:\tlearn: 0.0584242\ttotal: 2.58s\tremaining: 2.62s\n",
      "496:\tlearn: 0.0583709\ttotal: 2.58s\tremaining: 2.61s\n",
      "497:\tlearn: 0.0583073\ttotal: 2.59s\tremaining: 2.61s\n",
      "498:\tlearn: 0.0582783\ttotal: 2.59s\tremaining: 2.6s\n",
      "499:\tlearn: 0.0582137\ttotal: 2.6s\tremaining: 2.6s\n",
      "500:\tlearn: 0.0581914\ttotal: 2.6s\tremaining: 2.59s\n",
      "501:\tlearn: 0.0581554\ttotal: 2.6s\tremaining: 2.58s\n",
      "502:\tlearn: 0.0580801\ttotal: 2.61s\tremaining: 2.58s\n",
      "503:\tlearn: 0.0580039\ttotal: 2.61s\tremaining: 2.57s\n",
      "504:\tlearn: 0.0579428\ttotal: 2.62s\tremaining: 2.56s\n",
      "505:\tlearn: 0.0578287\ttotal: 2.62s\tremaining: 2.56s\n",
      "506:\tlearn: 0.0578120\ttotal: 2.63s\tremaining: 2.55s\n",
      "507:\tlearn: 0.0576997\ttotal: 2.63s\tremaining: 2.55s\n",
      "508:\tlearn: 0.0575820\ttotal: 2.64s\tremaining: 2.54s\n",
      "509:\tlearn: 0.0575742\ttotal: 2.64s\tremaining: 2.54s\n",
      "510:\tlearn: 0.0574716\ttotal: 2.65s\tremaining: 2.53s\n",
      "511:\tlearn: 0.0574063\ttotal: 2.65s\tremaining: 2.53s\n",
      "512:\tlearn: 0.0573160\ttotal: 2.65s\tremaining: 2.52s\n",
      "513:\tlearn: 0.0572187\ttotal: 2.66s\tremaining: 2.51s\n",
      "514:\tlearn: 0.0571291\ttotal: 2.66s\tremaining: 2.51s\n",
      "515:\tlearn: 0.0570359\ttotal: 2.67s\tremaining: 2.5s\n",
      "516:\tlearn: 0.0569132\ttotal: 2.67s\tremaining: 2.5s\n",
      "517:\tlearn: 0.0568628\ttotal: 2.67s\tremaining: 2.49s\n",
      "518:\tlearn: 0.0568107\ttotal: 2.68s\tremaining: 2.48s\n",
      "519:\tlearn: 0.0567108\ttotal: 2.68s\tremaining: 2.48s\n",
      "520:\tlearn: 0.0565827\ttotal: 2.69s\tremaining: 2.47s\n",
      "521:\tlearn: 0.0564966\ttotal: 2.69s\tremaining: 2.46s\n",
      "522:\tlearn: 0.0564214\ttotal: 2.69s\tremaining: 2.46s\n"
     ]
    },
    {
     "name": "stdout",
     "output_type": "stream",
     "text": [
      "523:\tlearn: 0.0563628\ttotal: 2.7s\tremaining: 2.45s\n",
      "524:\tlearn: 0.0562496\ttotal: 2.71s\tremaining: 2.45s\n",
      "525:\tlearn: 0.0562136\ttotal: 2.71s\tremaining: 2.44s\n",
      "526:\tlearn: 0.0561954\ttotal: 2.72s\tremaining: 2.44s\n",
      "527:\tlearn: 0.0561100\ttotal: 2.72s\tremaining: 2.44s\n",
      "528:\tlearn: 0.0559594\ttotal: 2.73s\tremaining: 2.44s\n",
      "529:\tlearn: 0.0558844\ttotal: 2.74s\tremaining: 2.43s\n",
      "530:\tlearn: 0.0558245\ttotal: 2.75s\tremaining: 2.43s\n",
      "531:\tlearn: 0.0557187\ttotal: 2.76s\tremaining: 2.43s\n",
      "532:\tlearn: 0.0556831\ttotal: 2.76s\tremaining: 2.42s\n",
      "533:\tlearn: 0.0556214\ttotal: 2.77s\tremaining: 2.42s\n",
      "534:\tlearn: 0.0555192\ttotal: 2.78s\tremaining: 2.41s\n",
      "535:\tlearn: 0.0554324\ttotal: 2.79s\tremaining: 2.41s\n",
      "536:\tlearn: 0.0553618\ttotal: 2.8s\tremaining: 2.41s\n",
      "537:\tlearn: 0.0553363\ttotal: 2.8s\tremaining: 2.41s\n",
      "538:\tlearn: 0.0552316\ttotal: 2.81s\tremaining: 2.4s\n",
      "539:\tlearn: 0.0552093\ttotal: 2.82s\tremaining: 2.4s\n",
      "540:\tlearn: 0.0550737\ttotal: 2.84s\tremaining: 2.41s\n",
      "541:\tlearn: 0.0550096\ttotal: 2.86s\tremaining: 2.41s\n",
      "542:\tlearn: 0.0549000\ttotal: 2.87s\tremaining: 2.41s\n",
      "543:\tlearn: 0.0548817\ttotal: 2.88s\tremaining: 2.41s\n",
      "544:\tlearn: 0.0548135\ttotal: 2.89s\tremaining: 2.41s\n",
      "545:\tlearn: 0.0547115\ttotal: 2.91s\tremaining: 2.42s\n",
      "546:\tlearn: 0.0546188\ttotal: 2.92s\tremaining: 2.42s\n",
      "547:\tlearn: 0.0545290\ttotal: 2.93s\tremaining: 2.42s\n",
      "548:\tlearn: 0.0544319\ttotal: 2.94s\tremaining: 2.41s\n",
      "549:\tlearn: 0.0543575\ttotal: 2.94s\tremaining: 2.41s\n",
      "550:\tlearn: 0.0542065\ttotal: 2.95s\tremaining: 2.4s\n",
      "551:\tlearn: 0.0541099\ttotal: 2.96s\tremaining: 2.4s\n",
      "552:\tlearn: 0.0540667\ttotal: 2.96s\tremaining: 2.4s\n",
      "553:\tlearn: 0.0539703\ttotal: 2.97s\tremaining: 2.39s\n",
      "554:\tlearn: 0.0539422\ttotal: 2.97s\tremaining: 2.38s\n",
      "555:\tlearn: 0.0538830\ttotal: 2.98s\tremaining: 2.38s\n",
      "556:\tlearn: 0.0537726\ttotal: 2.99s\tremaining: 2.38s\n",
      "557:\tlearn: 0.0536611\ttotal: 2.99s\tremaining: 2.37s\n",
      "558:\tlearn: 0.0535918\ttotal: 3s\tremaining: 2.36s\n",
      "559:\tlearn: 0.0535011\ttotal: 3s\tremaining: 2.36s\n",
      "560:\tlearn: 0.0534598\ttotal: 3.01s\tremaining: 2.35s\n",
      "561:\tlearn: 0.0533749\ttotal: 3.01s\tremaining: 2.35s\n",
      "562:\tlearn: 0.0533121\ttotal: 3.02s\tremaining: 2.34s\n",
      "563:\tlearn: 0.0532355\ttotal: 3.02s\tremaining: 2.33s\n",
      "564:\tlearn: 0.0532075\ttotal: 3.02s\tremaining: 2.33s\n",
      "565:\tlearn: 0.0531591\ttotal: 3.03s\tremaining: 2.32s\n",
      "566:\tlearn: 0.0530212\ttotal: 3.03s\tremaining: 2.32s\n",
      "567:\tlearn: 0.0530050\ttotal: 3.04s\tremaining: 2.31s\n",
      "568:\tlearn: 0.0529010\ttotal: 3.04s\tremaining: 2.31s\n",
      "569:\tlearn: 0.0527816\ttotal: 3.05s\tremaining: 2.3s\n",
      "570:\tlearn: 0.0527132\ttotal: 3.06s\tremaining: 2.3s\n",
      "571:\tlearn: 0.0526236\ttotal: 3.07s\tremaining: 2.3s\n",
      "572:\tlearn: 0.0525549\ttotal: 3.08s\tremaining: 2.29s\n",
      "573:\tlearn: 0.0524972\ttotal: 3.09s\tremaining: 2.29s\n",
      "574:\tlearn: 0.0523900\ttotal: 3.09s\tremaining: 2.29s\n",
      "575:\tlearn: 0.0523232\ttotal: 3.1s\tremaining: 2.28s\n",
      "576:\tlearn: 0.0522748\ttotal: 3.1s\tremaining: 2.27s\n",
      "577:\tlearn: 0.0521985\ttotal: 3.11s\tremaining: 2.27s\n",
      "578:\tlearn: 0.0521308\ttotal: 3.11s\tremaining: 2.26s\n",
      "579:\tlearn: 0.0520535\ttotal: 3.12s\tremaining: 2.26s\n",
      "580:\tlearn: 0.0519847\ttotal: 3.13s\tremaining: 2.25s\n",
      "581:\tlearn: 0.0519163\ttotal: 3.13s\tremaining: 2.25s\n",
      "582:\tlearn: 0.0519024\ttotal: 3.14s\tremaining: 2.24s\n",
      "583:\tlearn: 0.0518612\ttotal: 3.14s\tremaining: 2.24s\n",
      "584:\tlearn: 0.0517737\ttotal: 3.15s\tremaining: 2.23s\n",
      "585:\tlearn: 0.0516892\ttotal: 3.16s\tremaining: 2.23s\n",
      "586:\tlearn: 0.0515965\ttotal: 3.16s\tremaining: 2.22s\n",
      "587:\tlearn: 0.0515359\ttotal: 3.17s\tremaining: 2.22s\n",
      "588:\tlearn: 0.0514715\ttotal: 3.17s\tremaining: 2.21s\n",
      "589:\tlearn: 0.0514602\ttotal: 3.18s\tremaining: 2.21s\n",
      "590:\tlearn: 0.0513590\ttotal: 3.18s\tremaining: 2.2s\n",
      "591:\tlearn: 0.0512449\ttotal: 3.19s\tremaining: 2.2s\n",
      "592:\tlearn: 0.0511452\ttotal: 3.19s\tremaining: 2.19s\n",
      "593:\tlearn: 0.0510832\ttotal: 3.2s\tremaining: 2.19s\n",
      "594:\tlearn: 0.0509889\ttotal: 3.21s\tremaining: 2.18s\n",
      "595:\tlearn: 0.0508799\ttotal: 3.21s\tremaining: 2.18s\n",
      "596:\tlearn: 0.0508370\ttotal: 3.21s\tremaining: 2.17s\n",
      "597:\tlearn: 0.0508102\ttotal: 3.22s\tremaining: 2.16s\n",
      "598:\tlearn: 0.0507558\ttotal: 3.22s\tremaining: 2.16s\n",
      "599:\tlearn: 0.0507414\ttotal: 3.23s\tremaining: 2.15s\n",
      "600:\tlearn: 0.0506909\ttotal: 3.23s\tremaining: 2.15s\n",
      "601:\tlearn: 0.0506126\ttotal: 3.24s\tremaining: 2.14s\n",
      "602:\tlearn: 0.0504923\ttotal: 3.24s\tremaining: 2.14s\n",
      "603:\tlearn: 0.0504125\ttotal: 3.25s\tremaining: 2.13s\n",
      "604:\tlearn: 0.0503639\ttotal: 3.25s\tremaining: 2.12s\n",
      "605:\tlearn: 0.0502499\ttotal: 3.26s\tremaining: 2.12s\n",
      "606:\tlearn: 0.0501759\ttotal: 3.26s\tremaining: 2.11s\n",
      "607:\tlearn: 0.0501344\ttotal: 3.27s\tremaining: 2.11s\n",
      "608:\tlearn: 0.0500664\ttotal: 3.27s\tremaining: 2.1s\n",
      "609:\tlearn: 0.0499881\ttotal: 3.27s\tremaining: 2.09s\n",
      "610:\tlearn: 0.0499251\ttotal: 3.28s\tremaining: 2.09s\n",
      "611:\tlearn: 0.0498146\ttotal: 3.29s\tremaining: 2.08s\n",
      "612:\tlearn: 0.0497890\ttotal: 3.29s\tremaining: 2.08s\n",
      "613:\tlearn: 0.0497132\ttotal: 3.3s\tremaining: 2.07s\n",
      "614:\tlearn: 0.0496180\ttotal: 3.3s\tremaining: 2.07s\n",
      "615:\tlearn: 0.0495766\ttotal: 3.31s\tremaining: 2.06s\n",
      "616:\tlearn: 0.0495443\ttotal: 3.31s\tremaining: 2.06s\n",
      "617:\tlearn: 0.0495341\ttotal: 3.32s\tremaining: 2.05s\n",
      "618:\tlearn: 0.0494266\ttotal: 3.32s\tremaining: 2.04s\n",
      "619:\tlearn: 0.0493538\ttotal: 3.33s\tremaining: 2.04s\n",
      "620:\tlearn: 0.0492725\ttotal: 3.33s\tremaining: 2.03s\n",
      "621:\tlearn: 0.0492091\ttotal: 3.33s\tremaining: 2.03s\n",
      "622:\tlearn: 0.0491537\ttotal: 3.34s\tremaining: 2.02s\n",
      "623:\tlearn: 0.0491413\ttotal: 3.34s\tremaining: 2.01s\n",
      "624:\tlearn: 0.0490371\ttotal: 3.35s\tremaining: 2.01s\n",
      "625:\tlearn: 0.0488974\ttotal: 3.35s\tremaining: 2s\n",
      "626:\tlearn: 0.0488017\ttotal: 3.35s\tremaining: 2s\n",
      "627:\tlearn: 0.0487073\ttotal: 3.36s\tremaining: 1.99s\n",
      "628:\tlearn: 0.0486352\ttotal: 3.36s\tremaining: 1.98s\n",
      "629:\tlearn: 0.0485794\ttotal: 3.37s\tremaining: 1.98s\n",
      "630:\tlearn: 0.0484969\ttotal: 3.37s\tremaining: 1.97s\n",
      "631:\tlearn: 0.0484720\ttotal: 3.37s\tremaining: 1.96s\n",
      "632:\tlearn: 0.0483773\ttotal: 3.38s\tremaining: 1.96s\n",
      "633:\tlearn: 0.0483208\ttotal: 3.38s\tremaining: 1.95s\n",
      "634:\tlearn: 0.0482689\ttotal: 3.39s\tremaining: 1.95s\n",
      "635:\tlearn: 0.0482140\ttotal: 3.39s\tremaining: 1.94s\n",
      "636:\tlearn: 0.0481357\ttotal: 3.39s\tremaining: 1.93s\n",
      "637:\tlearn: 0.0480716\ttotal: 3.4s\tremaining: 1.93s\n",
      "638:\tlearn: 0.0480020\ttotal: 3.4s\tremaining: 1.92s\n",
      "639:\tlearn: 0.0479171\ttotal: 3.41s\tremaining: 1.92s\n",
      "640:\tlearn: 0.0478623\ttotal: 3.41s\tremaining: 1.91s\n",
      "641:\tlearn: 0.0477902\ttotal: 3.41s\tremaining: 1.9s\n",
      "642:\tlearn: 0.0477234\ttotal: 3.42s\tremaining: 1.9s\n",
      "643:\tlearn: 0.0476539\ttotal: 3.42s\tremaining: 1.89s\n",
      "644:\tlearn: 0.0475571\ttotal: 3.42s\tremaining: 1.89s\n",
      "645:\tlearn: 0.0474787\ttotal: 3.43s\tremaining: 1.88s\n",
      "646:\tlearn: 0.0473659\ttotal: 3.43s\tremaining: 1.87s\n",
      "647:\tlearn: 0.0472806\ttotal: 3.44s\tremaining: 1.87s\n",
      "648:\tlearn: 0.0472530\ttotal: 3.44s\tremaining: 1.86s\n",
      "649:\tlearn: 0.0471649\ttotal: 3.44s\tremaining: 1.85s\n",
      "650:\tlearn: 0.0471027\ttotal: 3.45s\tremaining: 1.85s\n",
      "651:\tlearn: 0.0470258\ttotal: 3.45s\tremaining: 1.84s\n",
      "652:\tlearn: 0.0469905\ttotal: 3.46s\tremaining: 1.84s\n",
      "653:\tlearn: 0.0469818\ttotal: 3.46s\tremaining: 1.83s\n",
      "654:\tlearn: 0.0469158\ttotal: 3.46s\tremaining: 1.82s\n",
      "655:\tlearn: 0.0469091\ttotal: 3.47s\tremaining: 1.82s\n",
      "656:\tlearn: 0.0468304\ttotal: 3.47s\tremaining: 1.81s\n",
      "657:\tlearn: 0.0467718\ttotal: 3.48s\tremaining: 1.81s\n",
      "658:\tlearn: 0.0467091\ttotal: 3.48s\tremaining: 1.8s\n",
      "659:\tlearn: 0.0466337\ttotal: 3.49s\tremaining: 1.8s\n",
      "660:\tlearn: 0.0466282\ttotal: 3.5s\tremaining: 1.79s\n",
      "661:\tlearn: 0.0465488\ttotal: 3.5s\tremaining: 1.79s\n",
      "662:\tlearn: 0.0464917\ttotal: 3.5s\tremaining: 1.78s\n",
      "663:\tlearn: 0.0464285\ttotal: 3.51s\tremaining: 1.78s\n",
      "664:\tlearn: 0.0463503\ttotal: 3.52s\tremaining: 1.77s\n",
      "665:\tlearn: 0.0462850\ttotal: 3.52s\tremaining: 1.76s\n",
      "666:\tlearn: 0.0462792\ttotal: 3.52s\tremaining: 1.76s\n",
      "667:\tlearn: 0.0462198\ttotal: 3.53s\tremaining: 1.75s\n",
      "668:\tlearn: 0.0461313\ttotal: 3.53s\tremaining: 1.75s\n",
      "669:\tlearn: 0.0460462\ttotal: 3.53s\tremaining: 1.74s\n",
      "670:\tlearn: 0.0460350\ttotal: 3.54s\tremaining: 1.74s\n",
      "671:\tlearn: 0.0459616\ttotal: 3.54s\tremaining: 1.73s\n",
      "672:\tlearn: 0.0458873\ttotal: 3.55s\tremaining: 1.72s\n",
      "673:\tlearn: 0.0458145\ttotal: 3.55s\tremaining: 1.72s\n",
      "674:\tlearn: 0.0457541\ttotal: 3.55s\tremaining: 1.71s\n",
      "675:\tlearn: 0.0456792\ttotal: 3.56s\tremaining: 1.71s\n",
      "676:\tlearn: 0.0455967\ttotal: 3.56s\tremaining: 1.7s\n",
      "677:\tlearn: 0.0455323\ttotal: 3.57s\tremaining: 1.69s\n",
      "678:\tlearn: 0.0455280\ttotal: 3.57s\tremaining: 1.69s\n",
      "679:\tlearn: 0.0455219\ttotal: 3.58s\tremaining: 1.68s\n",
      "680:\tlearn: 0.0454736\ttotal: 3.58s\tremaining: 1.68s\n",
      "681:\tlearn: 0.0454202\ttotal: 3.59s\tremaining: 1.67s\n",
      "682:\tlearn: 0.0453571\ttotal: 3.59s\tremaining: 1.67s\n",
      "683:\tlearn: 0.0452947\ttotal: 3.6s\tremaining: 1.66s\n",
      "684:\tlearn: 0.0452182\ttotal: 3.6s\tremaining: 1.66s\n",
      "685:\tlearn: 0.0452131\ttotal: 3.61s\tremaining: 1.65s\n",
      "686:\tlearn: 0.0451840\ttotal: 3.62s\tremaining: 1.65s\n",
      "687:\tlearn: 0.0451700\ttotal: 3.62s\tremaining: 1.64s\n",
      "688:\tlearn: 0.0450829\ttotal: 3.63s\tremaining: 1.64s\n",
      "689:\tlearn: 0.0450037\ttotal: 3.63s\tremaining: 1.63s\n",
      "690:\tlearn: 0.0449294\ttotal: 3.64s\tremaining: 1.63s\n",
      "691:\tlearn: 0.0448111\ttotal: 3.64s\tremaining: 1.62s\n",
      "692:\tlearn: 0.0448030\ttotal: 3.65s\tremaining: 1.61s\n",
      "693:\tlearn: 0.0447044\ttotal: 3.65s\tremaining: 1.61s\n",
      "694:\tlearn: 0.0446987\ttotal: 3.66s\tremaining: 1.6s\n"
     ]
    },
    {
     "name": "stdout",
     "output_type": "stream",
     "text": [
      "695:\tlearn: 0.0446555\ttotal: 3.66s\tremaining: 1.6s\n",
      "696:\tlearn: 0.0445907\ttotal: 3.67s\tremaining: 1.59s\n",
      "697:\tlearn: 0.0445857\ttotal: 3.67s\tremaining: 1.59s\n",
      "698:\tlearn: 0.0445242\ttotal: 3.68s\tremaining: 1.58s\n",
      "699:\tlearn: 0.0444582\ttotal: 3.69s\tremaining: 1.58s\n",
      "700:\tlearn: 0.0444301\ttotal: 3.69s\tremaining: 1.57s\n",
      "701:\tlearn: 0.0444210\ttotal: 3.7s\tremaining: 1.57s\n",
      "702:\tlearn: 0.0444160\ttotal: 3.7s\tremaining: 1.56s\n",
      "703:\tlearn: 0.0443590\ttotal: 3.71s\tremaining: 1.56s\n",
      "704:\tlearn: 0.0442751\ttotal: 3.71s\tremaining: 1.55s\n",
      "705:\tlearn: 0.0442293\ttotal: 3.72s\tremaining: 1.55s\n",
      "706:\tlearn: 0.0442254\ttotal: 3.72s\tremaining: 1.54s\n",
      "707:\tlearn: 0.0441392\ttotal: 3.73s\tremaining: 1.54s\n",
      "708:\tlearn: 0.0440346\ttotal: 3.73s\tremaining: 1.53s\n",
      "709:\tlearn: 0.0439719\ttotal: 3.74s\tremaining: 1.53s\n",
      "710:\tlearn: 0.0439085\ttotal: 3.74s\tremaining: 1.52s\n",
      "711:\tlearn: 0.0438097\ttotal: 3.75s\tremaining: 1.51s\n",
      "712:\tlearn: 0.0437308\ttotal: 3.75s\tremaining: 1.51s\n",
      "713:\tlearn: 0.0437256\ttotal: 3.76s\tremaining: 1.5s\n",
      "714:\tlearn: 0.0437204\ttotal: 3.76s\tremaining: 1.5s\n",
      "715:\tlearn: 0.0437068\ttotal: 3.77s\tremaining: 1.49s\n",
      "716:\tlearn: 0.0437025\ttotal: 3.77s\tremaining: 1.49s\n",
      "717:\tlearn: 0.0436332\ttotal: 3.77s\tremaining: 1.48s\n",
      "718:\tlearn: 0.0435289\ttotal: 3.78s\tremaining: 1.48s\n",
      "719:\tlearn: 0.0434117\ttotal: 3.78s\tremaining: 1.47s\n",
      "720:\tlearn: 0.0433379\ttotal: 3.79s\tremaining: 1.47s\n",
      "721:\tlearn: 0.0432865\ttotal: 3.79s\tremaining: 1.46s\n",
      "722:\tlearn: 0.0432187\ttotal: 3.79s\tremaining: 1.45s\n",
      "723:\tlearn: 0.0431656\ttotal: 3.8s\tremaining: 1.45s\n",
      "724:\tlearn: 0.0431055\ttotal: 3.81s\tremaining: 1.44s\n",
      "725:\tlearn: 0.0431010\ttotal: 3.81s\tremaining: 1.44s\n",
      "726:\tlearn: 0.0430957\ttotal: 3.82s\tremaining: 1.43s\n",
      "727:\tlearn: 0.0430397\ttotal: 3.82s\tremaining: 1.43s\n",
      "728:\tlearn: 0.0430199\ttotal: 3.83s\tremaining: 1.42s\n",
      "729:\tlearn: 0.0430145\ttotal: 3.83s\tremaining: 1.42s\n",
      "730:\tlearn: 0.0429359\ttotal: 3.84s\tremaining: 1.41s\n",
      "731:\tlearn: 0.0428697\ttotal: 3.84s\tremaining: 1.41s\n",
      "732:\tlearn: 0.0428653\ttotal: 3.84s\tremaining: 1.4s\n",
      "733:\tlearn: 0.0427749\ttotal: 3.85s\tremaining: 1.39s\n",
      "734:\tlearn: 0.0427155\ttotal: 3.85s\tremaining: 1.39s\n",
      "735:\tlearn: 0.0427112\ttotal: 3.86s\tremaining: 1.38s\n",
      "736:\tlearn: 0.0426761\ttotal: 3.86s\tremaining: 1.38s\n",
      "737:\tlearn: 0.0426156\ttotal: 3.87s\tremaining: 1.37s\n",
      "738:\tlearn: 0.0425762\ttotal: 3.87s\tremaining: 1.37s\n",
      "739:\tlearn: 0.0425106\ttotal: 3.88s\tremaining: 1.36s\n",
      "740:\tlearn: 0.0424547\ttotal: 3.88s\tremaining: 1.36s\n",
      "741:\tlearn: 0.0423938\ttotal: 3.89s\tremaining: 1.35s\n",
      "742:\tlearn: 0.0423829\ttotal: 3.9s\tremaining: 1.35s\n",
      "743:\tlearn: 0.0423347\ttotal: 3.91s\tremaining: 1.34s\n",
      "744:\tlearn: 0.0422617\ttotal: 3.91s\tremaining: 1.34s\n",
      "745:\tlearn: 0.0422219\ttotal: 3.92s\tremaining: 1.33s\n",
      "746:\tlearn: 0.0422161\ttotal: 3.92s\tremaining: 1.33s\n",
      "747:\tlearn: 0.0421543\ttotal: 3.93s\tremaining: 1.32s\n",
      "748:\tlearn: 0.0420666\ttotal: 3.93s\tremaining: 1.32s\n",
      "749:\tlearn: 0.0420042\ttotal: 3.94s\tremaining: 1.31s\n",
      "750:\tlearn: 0.0420004\ttotal: 3.94s\tremaining: 1.31s\n",
      "751:\tlearn: 0.0419469\ttotal: 3.95s\tremaining: 1.3s\n",
      "752:\tlearn: 0.0418671\ttotal: 3.95s\tremaining: 1.3s\n",
      "753:\tlearn: 0.0417902\ttotal: 3.96s\tremaining: 1.29s\n",
      "754:\tlearn: 0.0417576\ttotal: 3.96s\tremaining: 1.29s\n",
      "755:\tlearn: 0.0416965\ttotal: 3.97s\tremaining: 1.28s\n",
      "756:\tlearn: 0.0416928\ttotal: 3.98s\tremaining: 1.28s\n",
      "757:\tlearn: 0.0416876\ttotal: 3.98s\tremaining: 1.27s\n",
      "758:\tlearn: 0.0416220\ttotal: 3.99s\tremaining: 1.27s\n",
      "759:\tlearn: 0.0415666\ttotal: 3.99s\tremaining: 1.26s\n",
      "760:\tlearn: 0.0415620\ttotal: 4s\tremaining: 1.25s\n",
      "761:\tlearn: 0.0415042\ttotal: 4s\tremaining: 1.25s\n",
      "762:\tlearn: 0.0415006\ttotal: 4.01s\tremaining: 1.24s\n",
      "763:\tlearn: 0.0414591\ttotal: 4.01s\tremaining: 1.24s\n",
      "764:\tlearn: 0.0413638\ttotal: 4.02s\tremaining: 1.23s\n",
      "765:\tlearn: 0.0413411\ttotal: 4.02s\tremaining: 1.23s\n",
      "766:\tlearn: 0.0412758\ttotal: 4.03s\tremaining: 1.22s\n",
      "767:\tlearn: 0.0412090\ttotal: 4.03s\tremaining: 1.22s\n",
      "768:\tlearn: 0.0412042\ttotal: 4.03s\tremaining: 1.21s\n",
      "769:\tlearn: 0.0411429\ttotal: 4.04s\tremaining: 1.21s\n",
      "770:\tlearn: 0.0411138\ttotal: 4.04s\tremaining: 1.2s\n",
      "771:\tlearn: 0.0410259\ttotal: 4.05s\tremaining: 1.2s\n",
      "772:\tlearn: 0.0409554\ttotal: 4.05s\tremaining: 1.19s\n",
      "773:\tlearn: 0.0408643\ttotal: 4.06s\tremaining: 1.18s\n",
      "774:\tlearn: 0.0408122\ttotal: 4.06s\tremaining: 1.18s\n",
      "775:\tlearn: 0.0407554\ttotal: 4.07s\tremaining: 1.17s\n",
      "776:\tlearn: 0.0406824\ttotal: 4.07s\tremaining: 1.17s\n",
      "777:\tlearn: 0.0405757\ttotal: 4.08s\tremaining: 1.16s\n",
      "778:\tlearn: 0.0404993\ttotal: 4.08s\tremaining: 1.16s\n",
      "779:\tlearn: 0.0404428\ttotal: 4.09s\tremaining: 1.15s\n",
      "780:\tlearn: 0.0403958\ttotal: 4.09s\tremaining: 1.15s\n",
      "781:\tlearn: 0.0403571\ttotal: 4.1s\tremaining: 1.14s\n",
      "782:\tlearn: 0.0403125\ttotal: 4.1s\tremaining: 1.14s\n",
      "783:\tlearn: 0.0402521\ttotal: 4.1s\tremaining: 1.13s\n",
      "784:\tlearn: 0.0401859\ttotal: 4.11s\tremaining: 1.13s\n",
      "785:\tlearn: 0.0401812\ttotal: 4.11s\tremaining: 1.12s\n",
      "786:\tlearn: 0.0401183\ttotal: 4.12s\tremaining: 1.11s\n",
      "787:\tlearn: 0.0400616\ttotal: 4.12s\tremaining: 1.11s\n",
      "788:\tlearn: 0.0400583\ttotal: 4.12s\tremaining: 1.1s\n",
      "789:\tlearn: 0.0399761\ttotal: 4.13s\tremaining: 1.1s\n",
      "790:\tlearn: 0.0399341\ttotal: 4.13s\tremaining: 1.09s\n",
      "791:\tlearn: 0.0398868\ttotal: 4.14s\tremaining: 1.09s\n",
      "792:\tlearn: 0.0398834\ttotal: 4.14s\tremaining: 1.08s\n",
      "793:\tlearn: 0.0398777\ttotal: 4.14s\tremaining: 1.07s\n",
      "794:\tlearn: 0.0398138\ttotal: 4.15s\tremaining: 1.07s\n",
      "795:\tlearn: 0.0397405\ttotal: 4.15s\tremaining: 1.06s\n",
      "796:\tlearn: 0.0396643\ttotal: 4.16s\tremaining: 1.06s\n",
      "797:\tlearn: 0.0396065\ttotal: 4.16s\tremaining: 1.05s\n",
      "798:\tlearn: 0.0395122\ttotal: 4.16s\tremaining: 1.05s\n",
      "799:\tlearn: 0.0394514\ttotal: 4.17s\tremaining: 1.04s\n",
      "800:\tlearn: 0.0394060\ttotal: 4.17s\tremaining: 1.04s\n",
      "801:\tlearn: 0.0393616\ttotal: 4.17s\tremaining: 1.03s\n",
      "802:\tlearn: 0.0393167\ttotal: 4.18s\tremaining: 1.02s\n",
      "803:\tlearn: 0.0392861\ttotal: 4.18s\tremaining: 1.02s\n",
      "804:\tlearn: 0.0392431\ttotal: 4.19s\tremaining: 1.01s\n",
      "805:\tlearn: 0.0391827\ttotal: 4.19s\tremaining: 1.01s\n",
      "806:\tlearn: 0.0391200\ttotal: 4.19s\tremaining: 1s\n",
      "807:\tlearn: 0.0390352\ttotal: 4.2s\tremaining: 998ms\n",
      "808:\tlearn: 0.0390320\ttotal: 4.2s\tremaining: 992ms\n",
      "809:\tlearn: 0.0390283\ttotal: 4.21s\tremaining: 987ms\n",
      "810:\tlearn: 0.0389840\ttotal: 4.21s\tremaining: 981ms\n",
      "811:\tlearn: 0.0389747\ttotal: 4.21s\tremaining: 976ms\n",
      "812:\tlearn: 0.0388937\ttotal: 4.22s\tremaining: 970ms\n",
      "813:\tlearn: 0.0388448\ttotal: 4.22s\tremaining: 965ms\n",
      "814:\tlearn: 0.0387787\ttotal: 4.22s\tremaining: 959ms\n",
      "815:\tlearn: 0.0387409\ttotal: 4.23s\tremaining: 954ms\n",
      "816:\tlearn: 0.0386866\ttotal: 4.23s\tremaining: 948ms\n",
      "817:\tlearn: 0.0386287\ttotal: 4.24s\tremaining: 943ms\n",
      "818:\tlearn: 0.0385684\ttotal: 4.25s\tremaining: 938ms\n",
      "819:\tlearn: 0.0385141\ttotal: 4.25s\tremaining: 933ms\n",
      "820:\tlearn: 0.0384869\ttotal: 4.26s\tremaining: 928ms\n",
      "821:\tlearn: 0.0384456\ttotal: 4.26s\tremaining: 923ms\n",
      "822:\tlearn: 0.0383642\ttotal: 4.27s\tremaining: 918ms\n",
      "823:\tlearn: 0.0383610\ttotal: 4.27s\tremaining: 913ms\n",
      "824:\tlearn: 0.0383151\ttotal: 4.28s\tremaining: 907ms\n",
      "825:\tlearn: 0.0382565\ttotal: 4.28s\tremaining: 902ms\n",
      "826:\tlearn: 0.0381555\ttotal: 4.29s\tremaining: 897ms\n",
      "827:\tlearn: 0.0380978\ttotal: 4.29s\tremaining: 891ms\n",
      "828:\tlearn: 0.0380646\ttotal: 4.29s\tremaining: 886ms\n",
      "829:\tlearn: 0.0380159\ttotal: 4.3s\tremaining: 880ms\n",
      "830:\tlearn: 0.0379792\ttotal: 4.3s\tremaining: 875ms\n",
      "831:\tlearn: 0.0379321\ttotal: 4.31s\tremaining: 870ms\n",
      "832:\tlearn: 0.0378680\ttotal: 4.31s\tremaining: 864ms\n",
      "833:\tlearn: 0.0378642\ttotal: 4.31s\tremaining: 859ms\n",
      "834:\tlearn: 0.0378100\ttotal: 4.32s\tremaining: 853ms\n",
      "835:\tlearn: 0.0377586\ttotal: 4.32s\tremaining: 848ms\n",
      "836:\tlearn: 0.0377540\ttotal: 4.33s\tremaining: 843ms\n",
      "837:\tlearn: 0.0376804\ttotal: 4.33s\tremaining: 837ms\n",
      "838:\tlearn: 0.0376137\ttotal: 4.33s\tremaining: 832ms\n",
      "839:\tlearn: 0.0375469\ttotal: 4.34s\tremaining: 826ms\n",
      "840:\tlearn: 0.0375442\ttotal: 4.34s\tremaining: 821ms\n",
      "841:\tlearn: 0.0375028\ttotal: 4.34s\tremaining: 815ms\n",
      "842:\tlearn: 0.0374421\ttotal: 4.35s\tremaining: 810ms\n",
      "843:\tlearn: 0.0374023\ttotal: 4.35s\tremaining: 805ms\n",
      "844:\tlearn: 0.0373527\ttotal: 4.36s\tremaining: 799ms\n",
      "845:\tlearn: 0.0372998\ttotal: 4.36s\tremaining: 794ms\n",
      "846:\tlearn: 0.0372730\ttotal: 4.36s\tremaining: 788ms\n",
      "847:\tlearn: 0.0372234\ttotal: 4.37s\tremaining: 783ms\n",
      "848:\tlearn: 0.0372205\ttotal: 4.37s\tremaining: 778ms\n",
      "849:\tlearn: 0.0371814\ttotal: 4.38s\tremaining: 772ms\n",
      "850:\tlearn: 0.0371387\ttotal: 4.38s\tremaining: 767ms\n",
      "851:\tlearn: 0.0371136\ttotal: 4.38s\tremaining: 762ms\n",
      "852:\tlearn: 0.0370552\ttotal: 4.39s\tremaining: 756ms\n",
      "853:\tlearn: 0.0370522\ttotal: 4.39s\tremaining: 751ms\n",
      "854:\tlearn: 0.0369863\ttotal: 4.39s\tremaining: 745ms\n",
      "855:\tlearn: 0.0369837\ttotal: 4.4s\tremaining: 740ms\n",
      "856:\tlearn: 0.0368996\ttotal: 4.4s\tremaining: 735ms\n",
      "857:\tlearn: 0.0368316\ttotal: 4.41s\tremaining: 729ms\n",
      "858:\tlearn: 0.0368284\ttotal: 4.41s\tremaining: 724ms\n",
      "859:\tlearn: 0.0367805\ttotal: 4.41s\tremaining: 719ms\n"
     ]
    },
    {
     "name": "stdout",
     "output_type": "stream",
     "text": [
      "860:\tlearn: 0.0367318\ttotal: 4.42s\tremaining: 713ms\n",
      "861:\tlearn: 0.0366767\ttotal: 4.42s\tremaining: 708ms\n",
      "862:\tlearn: 0.0366721\ttotal: 4.43s\tremaining: 703ms\n",
      "863:\tlearn: 0.0366532\ttotal: 4.43s\tremaining: 698ms\n",
      "864:\tlearn: 0.0365518\ttotal: 4.44s\tremaining: 693ms\n",
      "865:\tlearn: 0.0365132\ttotal: 4.45s\tremaining: 688ms\n",
      "866:\tlearn: 0.0364525\ttotal: 4.45s\tremaining: 683ms\n",
      "867:\tlearn: 0.0364246\ttotal: 4.46s\tremaining: 678ms\n",
      "868:\tlearn: 0.0364050\ttotal: 4.46s\tremaining: 672ms\n",
      "869:\tlearn: 0.0363606\ttotal: 4.47s\tremaining: 668ms\n",
      "870:\tlearn: 0.0363041\ttotal: 4.47s\tremaining: 662ms\n",
      "871:\tlearn: 0.0362875\ttotal: 4.48s\tremaining: 657ms\n",
      "872:\tlearn: 0.0362411\ttotal: 4.49s\tremaining: 652ms\n",
      "873:\tlearn: 0.0362160\ttotal: 4.49s\tremaining: 647ms\n",
      "874:\tlearn: 0.0362136\ttotal: 4.49s\tremaining: 642ms\n",
      "875:\tlearn: 0.0361809\ttotal: 4.5s\tremaining: 637ms\n",
      "876:\tlearn: 0.0361294\ttotal: 4.5s\tremaining: 631ms\n",
      "877:\tlearn: 0.0361210\ttotal: 4.51s\tremaining: 626ms\n",
      "878:\tlearn: 0.0360847\ttotal: 4.51s\tremaining: 621ms\n",
      "879:\tlearn: 0.0360179\ttotal: 4.51s\tremaining: 616ms\n",
      "880:\tlearn: 0.0360060\ttotal: 4.52s\tremaining: 610ms\n",
      "881:\tlearn: 0.0360009\ttotal: 4.52s\tremaining: 605ms\n",
      "882:\tlearn: 0.0359634\ttotal: 4.53s\tremaining: 600ms\n",
      "883:\tlearn: 0.0359604\ttotal: 4.53s\tremaining: 595ms\n",
      "884:\tlearn: 0.0359357\ttotal: 4.54s\tremaining: 589ms\n",
      "885:\tlearn: 0.0359325\ttotal: 4.54s\tremaining: 584ms\n",
      "886:\tlearn: 0.0358752\ttotal: 4.54s\tremaining: 579ms\n",
      "887:\tlearn: 0.0358627\ttotal: 4.55s\tremaining: 574ms\n",
      "888:\tlearn: 0.0358167\ttotal: 4.55s\tremaining: 568ms\n",
      "889:\tlearn: 0.0357637\ttotal: 4.55s\tremaining: 563ms\n",
      "890:\tlearn: 0.0357481\ttotal: 4.56s\tremaining: 558ms\n",
      "891:\tlearn: 0.0357214\ttotal: 4.56s\tremaining: 553ms\n",
      "892:\tlearn: 0.0356793\ttotal: 4.57s\tremaining: 547ms\n",
      "893:\tlearn: 0.0356258\ttotal: 4.57s\tremaining: 542ms\n",
      "894:\tlearn: 0.0355822\ttotal: 4.58s\tremaining: 537ms\n",
      "895:\tlearn: 0.0355370\ttotal: 4.58s\tremaining: 531ms\n",
      "896:\tlearn: 0.0355345\ttotal: 4.58s\tremaining: 526ms\n",
      "897:\tlearn: 0.0354981\ttotal: 4.59s\tremaining: 521ms\n",
      "898:\tlearn: 0.0354442\ttotal: 4.59s\tremaining: 516ms\n",
      "899:\tlearn: 0.0353512\ttotal: 4.59s\tremaining: 510ms\n",
      "900:\tlearn: 0.0353146\ttotal: 4.6s\tremaining: 505ms\n",
      "901:\tlearn: 0.0352699\ttotal: 4.6s\tremaining: 500ms\n",
      "902:\tlearn: 0.0352076\ttotal: 4.61s\tremaining: 495ms\n",
      "903:\tlearn: 0.0351573\ttotal: 4.61s\tremaining: 490ms\n",
      "904:\tlearn: 0.0351138\ttotal: 4.62s\tremaining: 484ms\n",
      "905:\tlearn: 0.0350672\ttotal: 4.62s\tremaining: 480ms\n",
      "906:\tlearn: 0.0350275\ttotal: 4.63s\tremaining: 475ms\n",
      "907:\tlearn: 0.0349810\ttotal: 4.63s\tremaining: 470ms\n",
      "908:\tlearn: 0.0349442\ttotal: 4.65s\tremaining: 465ms\n",
      "909:\tlearn: 0.0349087\ttotal: 4.65s\tremaining: 460ms\n",
      "910:\tlearn: 0.0348772\ttotal: 4.66s\tremaining: 455ms\n",
      "911:\tlearn: 0.0348386\ttotal: 4.66s\tremaining: 450ms\n",
      "912:\tlearn: 0.0347746\ttotal: 4.67s\tremaining: 445ms\n",
      "913:\tlearn: 0.0347382\ttotal: 4.67s\tremaining: 440ms\n",
      "914:\tlearn: 0.0347353\ttotal: 4.68s\tremaining: 435ms\n",
      "915:\tlearn: 0.0347096\ttotal: 4.69s\tremaining: 430ms\n",
      "916:\tlearn: 0.0347073\ttotal: 4.69s\tremaining: 425ms\n",
      "917:\tlearn: 0.0346178\ttotal: 4.7s\tremaining: 420ms\n",
      "918:\tlearn: 0.0345819\ttotal: 4.7s\tremaining: 415ms\n",
      "919:\tlearn: 0.0345469\ttotal: 4.71s\tremaining: 409ms\n",
      "920:\tlearn: 0.0345446\ttotal: 4.71s\tremaining: 404ms\n",
      "921:\tlearn: 0.0345136\ttotal: 4.72s\tremaining: 399ms\n",
      "922:\tlearn: 0.0345109\ttotal: 4.72s\tremaining: 394ms\n",
      "923:\tlearn: 0.0344640\ttotal: 4.73s\tremaining: 389ms\n",
      "924:\tlearn: 0.0344428\ttotal: 4.74s\tremaining: 384ms\n",
      "925:\tlearn: 0.0344059\ttotal: 4.74s\tremaining: 379ms\n",
      "926:\tlearn: 0.0343573\ttotal: 4.75s\tremaining: 374ms\n",
      "927:\tlearn: 0.0343047\ttotal: 4.75s\tremaining: 369ms\n",
      "928:\tlearn: 0.0342069\ttotal: 4.76s\tremaining: 363ms\n",
      "929:\tlearn: 0.0341862\ttotal: 4.76s\tremaining: 358ms\n",
      "930:\tlearn: 0.0341395\ttotal: 4.77s\tremaining: 353ms\n",
      "931:\tlearn: 0.0340897\ttotal: 4.78s\tremaining: 348ms\n",
      "932:\tlearn: 0.0340255\ttotal: 4.78s\tremaining: 343ms\n",
      "933:\tlearn: 0.0339767\ttotal: 4.79s\tremaining: 338ms\n",
      "934:\tlearn: 0.0339359\ttotal: 4.79s\tremaining: 333ms\n",
      "935:\tlearn: 0.0339340\ttotal: 4.8s\tremaining: 328ms\n",
      "936:\tlearn: 0.0338800\ttotal: 4.8s\tremaining: 323ms\n",
      "937:\tlearn: 0.0338153\ttotal: 4.81s\tremaining: 318ms\n",
      "938:\tlearn: 0.0337781\ttotal: 4.82s\tremaining: 313ms\n",
      "939:\tlearn: 0.0337745\ttotal: 4.82s\tremaining: 308ms\n",
      "940:\tlearn: 0.0337117\ttotal: 4.83s\tremaining: 303ms\n",
      "941:\tlearn: 0.0336708\ttotal: 4.84s\tremaining: 298ms\n",
      "942:\tlearn: 0.0336387\ttotal: 4.85s\tremaining: 293ms\n",
      "943:\tlearn: 0.0335938\ttotal: 4.85s\tremaining: 288ms\n",
      "944:\tlearn: 0.0335347\ttotal: 4.86s\tremaining: 283ms\n",
      "945:\tlearn: 0.0335327\ttotal: 4.87s\tremaining: 278ms\n",
      "946:\tlearn: 0.0335046\ttotal: 4.87s\tremaining: 273ms\n",
      "947:\tlearn: 0.0334571\ttotal: 4.88s\tremaining: 268ms\n",
      "948:\tlearn: 0.0334062\ttotal: 4.88s\tremaining: 263ms\n",
      "949:\tlearn: 0.0333633\ttotal: 4.89s\tremaining: 257ms\n",
      "950:\tlearn: 0.0333367\ttotal: 4.9s\tremaining: 252ms\n",
      "951:\tlearn: 0.0332684\ttotal: 4.9s\tremaining: 247ms\n",
      "952:\tlearn: 0.0332148\ttotal: 4.91s\tremaining: 242ms\n",
      "953:\tlearn: 0.0331666\ttotal: 4.92s\tremaining: 237ms\n",
      "954:\tlearn: 0.0331059\ttotal: 4.92s\tremaining: 232ms\n",
      "955:\tlearn: 0.0330573\ttotal: 4.93s\tremaining: 227ms\n",
      "956:\tlearn: 0.0330065\ttotal: 4.94s\tremaining: 222ms\n",
      "957:\tlearn: 0.0329748\ttotal: 4.94s\tremaining: 217ms\n",
      "958:\tlearn: 0.0329335\ttotal: 4.95s\tremaining: 212ms\n",
      "959:\tlearn: 0.0328803\ttotal: 4.96s\tremaining: 206ms\n",
      "960:\tlearn: 0.0328157\ttotal: 4.96s\tremaining: 201ms\n",
      "961:\tlearn: 0.0327360\ttotal: 4.97s\tremaining: 196ms\n",
      "962:\tlearn: 0.0326888\ttotal: 4.97s\tremaining: 191ms\n",
      "963:\tlearn: 0.0326321\ttotal: 4.98s\tremaining: 186ms\n",
      "964:\tlearn: 0.0326084\ttotal: 4.99s\tremaining: 181ms\n",
      "965:\tlearn: 0.0325769\ttotal: 4.99s\tremaining: 176ms\n",
      "966:\tlearn: 0.0325256\ttotal: 5s\tremaining: 171ms\n",
      "967:\tlearn: 0.0324565\ttotal: 5.01s\tremaining: 166ms\n",
      "968:\tlearn: 0.0324190\ttotal: 5.02s\tremaining: 160ms\n",
      "969:\tlearn: 0.0323855\ttotal: 5.02s\tremaining: 155ms\n",
      "970:\tlearn: 0.0323336\ttotal: 5.03s\tremaining: 150ms\n",
      "971:\tlearn: 0.0322806\ttotal: 5.04s\tremaining: 145ms\n",
      "972:\tlearn: 0.0322355\ttotal: 5.04s\tremaining: 140ms\n",
      "973:\tlearn: 0.0322127\ttotal: 5.05s\tremaining: 135ms\n",
      "974:\tlearn: 0.0321677\ttotal: 5.05s\tremaining: 130ms\n",
      "975:\tlearn: 0.0321312\ttotal: 5.06s\tremaining: 124ms\n",
      "976:\tlearn: 0.0320886\ttotal: 5.07s\tremaining: 119ms\n",
      "977:\tlearn: 0.0320250\ttotal: 5.07s\tremaining: 114ms\n",
      "978:\tlearn: 0.0319847\ttotal: 5.08s\tremaining: 109ms\n",
      "979:\tlearn: 0.0319551\ttotal: 5.09s\tremaining: 104ms\n",
      "980:\tlearn: 0.0319403\ttotal: 5.1s\tremaining: 98.7ms\n",
      "981:\tlearn: 0.0318785\ttotal: 5.1s\tremaining: 93.6ms\n",
      "982:\tlearn: 0.0318221\ttotal: 5.11s\tremaining: 88.4ms\n",
      "983:\tlearn: 0.0317770\ttotal: 5.12s\tremaining: 83.2ms\n",
      "984:\tlearn: 0.0317655\ttotal: 5.12s\tremaining: 78ms\n",
      "985:\tlearn: 0.0317498\ttotal: 5.13s\tremaining: 72.8ms\n",
      "986:\tlearn: 0.0317058\ttotal: 5.13s\tremaining: 67.6ms\n",
      "987:\tlearn: 0.0316816\ttotal: 5.13s\tremaining: 62.4ms\n",
      "988:\tlearn: 0.0316657\ttotal: 5.14s\tremaining: 57.2ms\n",
      "989:\tlearn: 0.0316228\ttotal: 5.15s\tremaining: 52ms\n",
      "990:\tlearn: 0.0316179\ttotal: 5.15s\tremaining: 46.8ms\n",
      "991:\tlearn: 0.0315743\ttotal: 5.15s\tremaining: 41.6ms\n",
      "992:\tlearn: 0.0315119\ttotal: 5.16s\tremaining: 36.4ms\n",
      "993:\tlearn: 0.0315082\ttotal: 5.16s\tremaining: 31.2ms\n",
      "994:\tlearn: 0.0314780\ttotal: 5.17s\tremaining: 26ms\n",
      "995:\tlearn: 0.0314295\ttotal: 5.17s\tremaining: 20.8ms\n",
      "996:\tlearn: 0.0313589\ttotal: 5.17s\tremaining: 15.6ms\n",
      "997:\tlearn: 0.0313381\ttotal: 5.18s\tremaining: 10.4ms\n",
      "998:\tlearn: 0.0313356\ttotal: 5.18s\tremaining: 5.19ms\n",
      "999:\tlearn: 0.0312912\ttotal: 5.18s\tremaining: 0us\n"
     ]
    },
    {
     "data": {
      "text/plain": [
       "<catboost.core.CatBoostRegressor at 0x7ffa889a94d0>"
      ]
     },
     "execution_count": 1422,
     "metadata": {},
     "output_type": "execute_result"
    }
   ],
   "source": [
    "catboost = CatBoostRegressor()\n",
    "catboost.fit(X_train, y_train)"
   ]
  },
  {
   "cell_type": "code",
   "execution_count": 1423,
   "metadata": {},
   "outputs": [],
   "source": [
    "prediction_cb = catboost.predict(X_test)"
   ]
  },
  {
   "cell_type": "code",
   "execution_count": 1297,
   "metadata": {},
   "outputs": [],
   "source": [
    "from xgboost import XGBRegressor\n",
    "import xgboost as xgb\n",
    "\n",
    "xgbr = xgb.XGBRegressor()"
   ]
  },
  {
   "cell_type": "code",
   "execution_count": 1298,
   "metadata": {},
   "outputs": [
    {
     "data": {
      "text/plain": [
       "XGBRegressor(base_score=0.5, booster='gbtree', colsample_bylevel=1,\n",
       "             colsample_bynode=1, colsample_bytree=1, gamma=0, gpu_id=-1,\n",
       "             importance_type='gain', interaction_constraints='',\n",
       "             learning_rate=0.300000012, max_delta_step=0, max_depth=6,\n",
       "             min_child_weight=1, missing=nan, monotone_constraints='()',\n",
       "             n_estimators=100, n_jobs=8, num_parallel_tree=1, random_state=0,\n",
       "             reg_alpha=0, reg_lambda=1, scale_pos_weight=1, subsample=1,\n",
       "             tree_method='exact', validate_parameters=1, verbosity=None)"
      ]
     },
     "execution_count": 1298,
     "metadata": {},
     "output_type": "execute_result"
    }
   ],
   "source": [
    "xgbr.fit(X_train, y_train)"
   ]
  },
  {
   "cell_type": "code",
   "execution_count": 1299,
   "metadata": {},
   "outputs": [],
   "source": [
    "prediction_xgbr = xgbr.predict(X_test)"
   ]
  },
  {
   "cell_type": "markdown",
   "metadata": {},
   "source": [
    "## Choosing the best parametres "
   ]
  },
  {
   "cell_type": "markdown",
   "metadata": {},
   "source": [
    "### CatBoost"
   ]
  },
  {
   "cell_type": "code",
   "execution_count": 1424,
   "metadata": {},
   "outputs": [],
   "source": [
    "from sklearn.model_selection import RandomizedSearchCV\n",
    "catM = CatBoostRegressor(verbose=0, allow_writing_files=False)\n",
    "params = {'learning_rate': [0.05, 0.005, 0.0005],\n",
    "          'depth': [4, 5, 6, 7, 8],\n",
    "          'l2_leaf_reg': [5, 6, 9]}"
   ]
  },
  {
   "cell_type": "code",
   "execution_count": 1425,
   "metadata": {},
   "outputs": [
    {
     "name": "stdout",
     "output_type": "stream",
     "text": [
      "Fitting 4 folds for each of 10 candidates, totalling 40 fits\n"
     ]
    },
    {
     "name": "stderr",
     "output_type": "stream",
     "text": [
      "[Parallel(n_jobs=-1)]: Using backend LokyBackend with 8 concurrent workers.\n",
      "[Parallel(n_jobs=-1)]: Done  25 tasks      | elapsed:  2.3min\n",
      "[Parallel(n_jobs=-1)]: Done  40 out of  40 | elapsed:  2.6min finished\n"
     ]
    },
    {
     "name": "stdout",
     "output_type": "stream",
     "text": [
      "Best params(CatBoost): {'learning_rate': 0.05, 'l2_leaf_reg': 6, 'depth': 4}\n",
      "RMSE(CatBoost): 0.12074408239170253\n"
     ]
    }
   ],
   "source": [
    "grid_search_cat = RandomizedSearchCV(estimator=catM, scoring='neg_root_mean_squared_error', param_distributions=params, n_iter=10, cv=4, verbose=2,\n",
    "                                 random_state=42, n_jobs=-1)\n",
    "grid_search_cat.fit(X_train, y_train)\n",
    "catModel = grid_search_cat.best_estimator_\n",
    "print('Best params(CatBoost):',grid_search_cat.best_params_)\n",
    "print('RMSE(CatBoost):', -grid_search_cat.best_score_)"
   ]
  },
  {
   "cell_type": "code",
   "execution_count": 1426,
   "metadata": {},
   "outputs": [],
   "source": [
    "#catModel = catBoost(X_train, y_train, X_test)\n",
    "# catModel = CatBoostRegressor(verbose=0, allow_writing_files=False, learning_rate=0.05, l2_leaf_reg=2, depth=4)\n"
   ]
  },
  {
   "cell_type": "code",
   "execution_count": 1427,
   "metadata": {},
   "outputs": [],
   "source": [
    "catModel.fit(X_train, y_train)\n",
    "prediction_cb_best = catModel.predict(X_test)"
   ]
  },
  {
   "cell_type": "markdown",
   "metadata": {},
   "source": [
    "### XGBoost"
   ]
  },
  {
   "cell_type": "code",
   "execution_count": 508,
   "metadata": {},
   "outputs": [],
   "source": [
    "params = {'learning_rate': [0.02], 'n_estimators' : [2000], 'max_depth':[3], \n",
    "          'colsample_bytree' : [0.4], 'subsample' : [0.7]}"
   ]
  },
  {
   "cell_type": "code",
   "execution_count": 509,
   "metadata": {},
   "outputs": [
    {
     "data": {
      "text/plain": [
       "GridSearchCV(cv=5,\n",
       "             estimator=XGBRegressor(base_score=0.5, booster='gbtree',\n",
       "                                    colsample_bylevel=1, colsample_bynode=1,\n",
       "                                    colsample_bytree=1, gamma=0, gpu_id=-1,\n",
       "                                    importance_type='gain',\n",
       "                                    interaction_constraints='',\n",
       "                                    learning_rate=0.300000012, max_delta_step=0,\n",
       "                                    max_depth=6, min_child_weight=1,\n",
       "                                    missing=nan, monotone_constraints='()',\n",
       "                                    n_estimators=100, n_jobs=8,\n",
       "                                    num_parallel_tree=1, random_state=0,\n",
       "                                    reg_alpha=0, reg_lambda=1,\n",
       "                                    scale_pos_weight=1, subsample=1,\n",
       "                                    tree_method='exact', validate_parameters=1,\n",
       "                                    verbosity=None),\n",
       "             n_jobs=1,\n",
       "             param_grid={'colsample_bytree': [0.4], 'learning_rate': [0.02],\n",
       "                         'max_depth': [3], 'n_estimators': [2000],\n",
       "                         'subsample': [0.7]})"
      ]
     },
     "execution_count": 509,
     "metadata": {},
     "output_type": "execute_result"
    }
   ],
   "source": [
    "xgbr_reg = GridSearchCV(xgbr, params, cv = 5, n_jobs =1)\n",
    "xgbr_reg.fit(X_train,y_train)"
   ]
  },
  {
   "cell_type": "code",
   "execution_count": 510,
   "metadata": {},
   "outputs": [
    {
     "name": "stdout",
     "output_type": "stream",
     "text": [
      "Best params:{'colsample_bytree': 0.4, 'learning_rate': 0.02, 'max_depth': 3, 'n_estimators': 2000, 'subsample': 0.7}\n",
      "Root Mean Square Error train = 0.0030053972778739885\n",
      "Root Mean Square Error test = 0.010086346462917922\n"
     ]
    }
   ],
   "source": [
    "print(\"Best params:{}\".format(xgbr_reg.best_params_))\n",
    "\n",
    "best_x = xgbr_reg.best_estimator_\n",
    "y_train_pred_x = best_x.predict(X_train)\n",
    "y_val_pred_x = best_x.predict(X_test)\n",
    "\n",
    "print('Root Mean Square Error train = ' + str(np.sqrt(mean_squared_log_error(y_train, y_train_pred_x))))\n",
    "print('Root Mean Square Error test = ' + str(np.sqrt(mean_squared_log_error(y_test, y_val_pred_x)))) "
   ]
  },
  {
   "cell_type": "code",
   "execution_count": 511,
   "metadata": {},
   "outputs": [],
   "source": [
    "prediction_xgbr_best = best_x.predict(X_test)"
   ]
  },
  {
   "cell_type": "markdown",
   "metadata": {},
   "source": [
    "### Calculate error"
   ]
  },
  {
   "cell_type": "code",
   "execution_count": 504,
   "metadata": {
    "scrolled": true
   },
   "outputs": [],
   "source": [
    "from sklearn.metrics import mean_squared_log_error\n"
   ]
  },
  {
   "cell_type": "code",
   "execution_count": 1428,
   "metadata": {},
   "outputs": [
    {
     "data": {
      "text/plain": [
       "0.1412278665431039"
      ]
     },
     "execution_count": 1428,
     "metadata": {},
     "output_type": "execute_result"
    }
   ],
   "source": [
    "np.sqrt(mean_squared_log_error(np.expm1(y_test), np.expm1(prediction_rf)))"
   ]
  },
  {
   "cell_type": "code",
   "execution_count": 1429,
   "metadata": {},
   "outputs": [
    {
     "data": {
      "text/plain": [
       "0.12196953290021371"
      ]
     },
     "execution_count": 1429,
     "metadata": {},
     "output_type": "execute_result"
    }
   ],
   "source": [
    "np.sqrt(mean_squared_log_error(np.expm1(y_test), np.expm1(prediction_cb)))"
   ]
  },
  {
   "cell_type": "code",
   "execution_count": 1430,
   "metadata": {},
   "outputs": [
    {
     "data": {
      "text/plain": [
       "0.11833876421230229"
      ]
     },
     "execution_count": 1430,
     "metadata": {},
     "output_type": "execute_result"
    }
   ],
   "source": [
    "np.sqrt(mean_squared_log_error(np.expm1(y_test), np.expm1(prediction_cb_best)))"
   ]
  },
  {
   "cell_type": "code",
   "execution_count": 1245,
   "metadata": {},
   "outputs": [
    {
     "data": {
      "text/plain": [
       "0.1420148448126499"
      ]
     },
     "execution_count": 1245,
     "metadata": {},
     "output_type": "execute_result"
    }
   ],
   "source": [
    "np.sqrt(mean_squared_log_error(np.expm1(y_test), np.expm1(prediction_xgbr)))"
   ]
  },
  {
   "cell_type": "code",
   "execution_count": 1246,
   "metadata": {},
   "outputs": [
    {
     "ename": "ValueError",
     "evalue": "Found input variables with inconsistent numbers of samples: [480, 482]",
     "output_type": "error",
     "traceback": [
      "\u001b[0;31m---------------------------------------------------------------------------\u001b[0m",
      "\u001b[0;31mValueError\u001b[0m                                Traceback (most recent call last)",
      "\u001b[0;32m<ipython-input-1246-1782ab720207>\u001b[0m in \u001b[0;36m<module>\u001b[0;34m\u001b[0m\n\u001b[0;32m----> 1\u001b[0;31m \u001b[0mnp\u001b[0m\u001b[0;34m.\u001b[0m\u001b[0msqrt\u001b[0m\u001b[0;34m(\u001b[0m\u001b[0mmean_squared_log_error\u001b[0m\u001b[0;34m(\u001b[0m\u001b[0mnp\u001b[0m\u001b[0;34m.\u001b[0m\u001b[0mexpm1\u001b[0m\u001b[0;34m(\u001b[0m\u001b[0my_test\u001b[0m\u001b[0;34m)\u001b[0m\u001b[0;34m,\u001b[0m \u001b[0mnp\u001b[0m\u001b[0;34m.\u001b[0m\u001b[0mexpm1\u001b[0m\u001b[0;34m(\u001b[0m\u001b[0mprediction_xgbr_best\u001b[0m\u001b[0;34m)\u001b[0m\u001b[0;34m)\u001b[0m\u001b[0;34m)\u001b[0m\u001b[0;34m\u001b[0m\u001b[0;34m\u001b[0m\u001b[0m\n\u001b[0m",
      "\u001b[0;32m~/opt/anaconda3/lib/python3.7/site-packages/sklearn/utils/validation.py\u001b[0m in \u001b[0;36minner_f\u001b[0;34m(*args, **kwargs)\u001b[0m\n\u001b[1;32m     70\u001b[0m                           FutureWarning)\n\u001b[1;32m     71\u001b[0m         \u001b[0mkwargs\u001b[0m\u001b[0;34m.\u001b[0m\u001b[0mupdate\u001b[0m\u001b[0;34m(\u001b[0m\u001b[0;34m{\u001b[0m\u001b[0mk\u001b[0m\u001b[0;34m:\u001b[0m \u001b[0marg\u001b[0m \u001b[0;32mfor\u001b[0m \u001b[0mk\u001b[0m\u001b[0;34m,\u001b[0m \u001b[0marg\u001b[0m \u001b[0;32min\u001b[0m \u001b[0mzip\u001b[0m\u001b[0;34m(\u001b[0m\u001b[0msig\u001b[0m\u001b[0;34m.\u001b[0m\u001b[0mparameters\u001b[0m\u001b[0;34m,\u001b[0m \u001b[0margs\u001b[0m\u001b[0;34m)\u001b[0m\u001b[0;34m}\u001b[0m\u001b[0;34m)\u001b[0m\u001b[0;34m\u001b[0m\u001b[0;34m\u001b[0m\u001b[0m\n\u001b[0;32m---> 72\u001b[0;31m         \u001b[0;32mreturn\u001b[0m \u001b[0mf\u001b[0m\u001b[0;34m(\u001b[0m\u001b[0;34m**\u001b[0m\u001b[0mkwargs\u001b[0m\u001b[0;34m)\u001b[0m\u001b[0;34m\u001b[0m\u001b[0;34m\u001b[0m\u001b[0m\n\u001b[0m\u001b[1;32m     73\u001b[0m     \u001b[0;32mreturn\u001b[0m \u001b[0minner_f\u001b[0m\u001b[0;34m\u001b[0m\u001b[0;34m\u001b[0m\u001b[0m\n\u001b[1;32m     74\u001b[0m \u001b[0;34m\u001b[0m\u001b[0m\n",
      "\u001b[0;32m~/opt/anaconda3/lib/python3.7/site-packages/sklearn/metrics/_regression.py\u001b[0m in \u001b[0;36mmean_squared_log_error\u001b[0;34m(y_true, y_pred, sample_weight, multioutput)\u001b[0m\n\u001b[1;32m    328\u001b[0m     \"\"\"\n\u001b[1;32m    329\u001b[0m     y_type, y_true, y_pred, multioutput = _check_reg_targets(\n\u001b[0;32m--> 330\u001b[0;31m         y_true, y_pred, multioutput)\n\u001b[0m\u001b[1;32m    331\u001b[0m     \u001b[0mcheck_consistent_length\u001b[0m\u001b[0;34m(\u001b[0m\u001b[0my_true\u001b[0m\u001b[0;34m,\u001b[0m \u001b[0my_pred\u001b[0m\u001b[0;34m,\u001b[0m \u001b[0msample_weight\u001b[0m\u001b[0;34m)\u001b[0m\u001b[0;34m\u001b[0m\u001b[0;34m\u001b[0m\u001b[0m\n\u001b[1;32m    332\u001b[0m \u001b[0;34m\u001b[0m\u001b[0m\n",
      "\u001b[0;32m~/opt/anaconda3/lib/python3.7/site-packages/sklearn/metrics/_regression.py\u001b[0m in \u001b[0;36m_check_reg_targets\u001b[0;34m(y_true, y_pred, multioutput, dtype)\u001b[0m\n\u001b[1;32m     82\u001b[0m \u001b[0;34m\u001b[0m\u001b[0m\n\u001b[1;32m     83\u001b[0m     \"\"\"\n\u001b[0;32m---> 84\u001b[0;31m     \u001b[0mcheck_consistent_length\u001b[0m\u001b[0;34m(\u001b[0m\u001b[0my_true\u001b[0m\u001b[0;34m,\u001b[0m \u001b[0my_pred\u001b[0m\u001b[0;34m)\u001b[0m\u001b[0;34m\u001b[0m\u001b[0;34m\u001b[0m\u001b[0m\n\u001b[0m\u001b[1;32m     85\u001b[0m     \u001b[0my_true\u001b[0m \u001b[0;34m=\u001b[0m \u001b[0mcheck_array\u001b[0m\u001b[0;34m(\u001b[0m\u001b[0my_true\u001b[0m\u001b[0;34m,\u001b[0m \u001b[0mensure_2d\u001b[0m\u001b[0;34m=\u001b[0m\u001b[0;32mFalse\u001b[0m\u001b[0;34m,\u001b[0m \u001b[0mdtype\u001b[0m\u001b[0;34m=\u001b[0m\u001b[0mdtype\u001b[0m\u001b[0;34m)\u001b[0m\u001b[0;34m\u001b[0m\u001b[0;34m\u001b[0m\u001b[0m\n\u001b[1;32m     86\u001b[0m     \u001b[0my_pred\u001b[0m \u001b[0;34m=\u001b[0m \u001b[0mcheck_array\u001b[0m\u001b[0;34m(\u001b[0m\u001b[0my_pred\u001b[0m\u001b[0;34m,\u001b[0m \u001b[0mensure_2d\u001b[0m\u001b[0;34m=\u001b[0m\u001b[0;32mFalse\u001b[0m\u001b[0;34m,\u001b[0m \u001b[0mdtype\u001b[0m\u001b[0;34m=\u001b[0m\u001b[0mdtype\u001b[0m\u001b[0;34m)\u001b[0m\u001b[0;34m\u001b[0m\u001b[0;34m\u001b[0m\u001b[0m\n",
      "\u001b[0;32m~/opt/anaconda3/lib/python3.7/site-packages/sklearn/utils/validation.py\u001b[0m in \u001b[0;36mcheck_consistent_length\u001b[0;34m(*arrays)\u001b[0m\n\u001b[1;32m    254\u001b[0m     \u001b[0;32mif\u001b[0m \u001b[0mlen\u001b[0m\u001b[0;34m(\u001b[0m\u001b[0muniques\u001b[0m\u001b[0;34m)\u001b[0m \u001b[0;34m>\u001b[0m \u001b[0;36m1\u001b[0m\u001b[0;34m:\u001b[0m\u001b[0;34m\u001b[0m\u001b[0;34m\u001b[0m\u001b[0m\n\u001b[1;32m    255\u001b[0m         raise ValueError(\"Found input variables with inconsistent numbers of\"\n\u001b[0;32m--> 256\u001b[0;31m                          \" samples: %r\" % [int(l) for l in lengths])\n\u001b[0m\u001b[1;32m    257\u001b[0m \u001b[0;34m\u001b[0m\u001b[0m\n\u001b[1;32m    258\u001b[0m \u001b[0;34m\u001b[0m\u001b[0m\n",
      "\u001b[0;31mValueError\u001b[0m: Found input variables with inconsistent numbers of samples: [480, 482]"
     ]
    }
   ],
   "source": [
    "np.sqrt(mean_squared_log_error(np.expm1(y_test), np.expm1(prediction_xgbr_best)))"
   ]
  },
  {
   "cell_type": "code",
   "execution_count": 517,
   "metadata": {},
   "outputs": [],
   "source": [
    "# mixed_prediction = 0.3* prediction_cb + 0.6 * prediction_cb_best + 0.1*prediction_xgbr_best\n",
    "mixed_prediction = 0.9 * prediction_cb_best + 0.1*prediction_xgbr_best"
   ]
  },
  {
   "cell_type": "code",
   "execution_count": 518,
   "metadata": {},
   "outputs": [
    {
     "data": {
      "text/plain": [
       "0.1241494004144555"
      ]
     },
     "execution_count": 518,
     "metadata": {},
     "output_type": "execute_result"
    }
   ],
   "source": [
    "np.sqrt(mean_squared_log_error(np.expm1(y_test), np.expm1(mixed_prediction)))"
   ]
  },
  {
   "cell_type": "code",
   "execution_count": 82,
   "metadata": {
    "scrolled": true
   },
   "outputs": [
    {
     "data": {
      "text/plain": [
       "Id\n",
       "893     11.947956\n",
       "1106    12.691584\n",
       "414     11.652696\n",
       "523     11.976666\n",
       "1037    12.661917\n",
       "          ...    \n",
       "1011    11.813037\n",
       "391     11.686887\n",
       "1410    12.278398\n",
       "848     11.801864\n",
       "1285    12.037660\n",
       "Name: SalePrice, Length: 482, dtype: float64"
      ]
     },
     "execution_count": 82,
     "metadata": {},
     "output_type": "execute_result"
    }
   ],
   "source": [
    "y_test"
   ]
  },
  {
   "cell_type": "markdown",
   "metadata": {},
   "source": [
    "## Make prediction"
   ]
  },
  {
   "cell_type": "code",
   "execution_count": 1306,
   "metadata": {},
   "outputs": [],
   "source": [
    "y_old = y_pred"
   ]
  },
  {
   "cell_type": "code",
   "execution_count": 1431,
   "metadata": {},
   "outputs": [],
   "source": [
    "y_pred = catModel.predict(test)\n",
    "# y_pred = catboost.predict(test)"
   ]
  },
  {
   "cell_type": "code",
   "execution_count": 1432,
   "metadata": {},
   "outputs": [
    {
     "data": {
      "text/plain": [
       "0.04030339503747047"
      ]
     },
     "execution_count": 1432,
     "metadata": {},
     "output_type": "execute_result"
    }
   ],
   "source": [
    "np.sqrt(mean_squared_log_error(np.expm1(y_old), np.expm1(y_pred)))"
   ]
  },
  {
   "cell_type": "code",
   "execution_count": 1019,
   "metadata": {},
   "outputs": [
    {
     "data": {
      "text/plain": [
       "array([11.7668157 , 12.01333859, 12.12474553, ..., 12.03752349,\n",
       "       11.64036114, 12.23727785])"
      ]
     },
     "execution_count": 1019,
     "metadata": {},
     "output_type": "execute_result"
    }
   ],
   "source": [
    "y_pred"
   ]
  },
  {
   "cell_type": "code",
   "execution_count": 1319,
   "metadata": {},
   "outputs": [],
   "source": [
    "tmp = pd.read_csv('house-prices-advanced-regression-techniques/test.csv')\n",
    "tmp['SalePrice'] = np.expm1(y_pred)"
   ]
  },
  {
   "cell_type": "code",
   "execution_count": 1320,
   "metadata": {},
   "outputs": [
    {
     "data": {
      "text/plain": [
       "(1459,)"
      ]
     },
     "execution_count": 1320,
     "metadata": {},
     "output_type": "execute_result"
    }
   ],
   "source": [
    "y_pred.shape"
   ]
  },
  {
   "cell_type": "code",
   "execution_count": 1321,
   "metadata": {},
   "outputs": [],
   "source": [
    "pred_df = tmp[['Id', 'SalePrice']]\n",
    "pred_df.set_index('Id', inplace=True)"
   ]
  },
  {
   "cell_type": "code",
   "execution_count": 1322,
   "metadata": {},
   "outputs": [
    {
     "data": {
      "text/html": [
       "<div>\n",
       "<style scoped>\n",
       "    .dataframe tbody tr th:only-of-type {\n",
       "        vertical-align: middle;\n",
       "    }\n",
       "\n",
       "    .dataframe tbody tr th {\n",
       "        vertical-align: top;\n",
       "    }\n",
       "\n",
       "    .dataframe thead th {\n",
       "        text-align: right;\n",
       "    }\n",
       "</style>\n",
       "<table border=\"1\" class=\"dataframe\">\n",
       "  <thead>\n",
       "    <tr style=\"text-align: right;\">\n",
       "      <th></th>\n",
       "      <th>SalePrice</th>\n",
       "    </tr>\n",
       "    <tr>\n",
       "      <th>Id</th>\n",
       "      <th></th>\n",
       "    </tr>\n",
       "  </thead>\n",
       "  <tbody>\n",
       "    <tr>\n",
       "      <th>1461</th>\n",
       "      <td>130160.265494</td>\n",
       "    </tr>\n",
       "    <tr>\n",
       "      <th>1462</th>\n",
       "      <td>164963.311768</td>\n",
       "    </tr>\n",
       "    <tr>\n",
       "      <th>1463</th>\n",
       "      <td>182661.605093</td>\n",
       "    </tr>\n",
       "    <tr>\n",
       "      <th>1464</th>\n",
       "      <td>198925.584681</td>\n",
       "    </tr>\n",
       "    <tr>\n",
       "      <th>1465</th>\n",
       "      <td>190282.353913</td>\n",
       "    </tr>\n",
       "    <tr>\n",
       "      <th>...</th>\n",
       "      <td>...</td>\n",
       "    </tr>\n",
       "    <tr>\n",
       "      <th>2915</th>\n",
       "      <td>76286.515740</td>\n",
       "    </tr>\n",
       "    <tr>\n",
       "      <th>2916</th>\n",
       "      <td>84168.552523</td>\n",
       "    </tr>\n",
       "    <tr>\n",
       "      <th>2917</th>\n",
       "      <td>175786.458830</td>\n",
       "    </tr>\n",
       "    <tr>\n",
       "      <th>2918</th>\n",
       "      <td>108397.264220</td>\n",
       "    </tr>\n",
       "    <tr>\n",
       "      <th>2919</th>\n",
       "      <td>213063.564952</td>\n",
       "    </tr>\n",
       "  </tbody>\n",
       "</table>\n",
       "<p>1459 rows × 1 columns</p>\n",
       "</div>"
      ],
      "text/plain": [
       "          SalePrice\n",
       "Id                 \n",
       "1461  130160.265494\n",
       "1462  164963.311768\n",
       "1463  182661.605093\n",
       "1464  198925.584681\n",
       "1465  190282.353913\n",
       "...             ...\n",
       "2915   76286.515740\n",
       "2916   84168.552523\n",
       "2917  175786.458830\n",
       "2918  108397.264220\n",
       "2919  213063.564952\n",
       "\n",
       "[1459 rows x 1 columns]"
      ]
     },
     "execution_count": 1322,
     "metadata": {},
     "output_type": "execute_result"
    }
   ],
   "source": [
    "pred_df"
   ]
  },
  {
   "cell_type": "code",
   "execution_count": 1323,
   "metadata": {},
   "outputs": [],
   "source": [
    "pred_df.to_csv('out.csv')"
   ]
  },
  {
   "cell_type": "code",
   "execution_count": null,
   "metadata": {},
   "outputs": [],
   "source": [
    "np.sqrt(mean_squared_log_error(pred_df.SalePrice, np.expm1(y_pred)))"
   ]
  },
  {
   "cell_type": "code",
   "execution_count": null,
   "metadata": {},
   "outputs": [],
   "source": []
  },
  {
   "cell_type": "code",
   "execution_count": null,
   "metadata": {},
   "outputs": [],
   "source": []
  }
 ],
 "metadata": {
  "kernelspec": {
   "display_name": "Python 3",
   "language": "python",
   "name": "python3"
  },
  "language_info": {
   "codemirror_mode": {
    "name": "ipython",
    "version": 3
   },
   "file_extension": ".py",
   "mimetype": "text/x-python",
   "name": "python",
   "nbconvert_exporter": "python",
   "pygments_lexer": "ipython3",
   "version": "3.7.6"
  }
 },
 "nbformat": 4,
 "nbformat_minor": 4
}
