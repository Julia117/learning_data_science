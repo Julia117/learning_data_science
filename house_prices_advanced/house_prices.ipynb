{
 "cells": [
  {
   "cell_type": "code",
   "execution_count": 1,
   "metadata": {},
   "outputs": [],
   "source": [
    "from sklearn import tree\n",
    "import pandas as pd\n",
    "import numpy as np\n",
    "%matplotlib inline\n",
    "import matplotlib.pyplot as plt\n",
    "import seaborn as sns\n",
    "from sklearn.model_selection import train_test_split\n"
   ]
  },
  {
   "cell_type": "code",
   "execution_count": 2,
   "metadata": {},
   "outputs": [
    {
     "ename": "NameError",
     "evalue": "name 'df' is not defined",
     "output_type": "error",
     "traceback": [
      "\u001b[0;31m---------------------------------------------------------------------------\u001b[0m",
      "\u001b[0;31mNameError\u001b[0m                                 Traceback (most recent call last)",
      "\u001b[0;32m<ipython-input-2-5752359e8464>\u001b[0m in \u001b[0;36m<module>\u001b[0;34m\u001b[0m\n\u001b[0;32m----> 1\u001b[0;31m \u001b[0mpd\u001b[0m\u001b[0;34m.\u001b[0m\u001b[0mset_option\u001b[0m\u001b[0;34m(\u001b[0m\u001b[0;34m'display.max_rows'\u001b[0m\u001b[0;34m,\u001b[0m \u001b[0mdf\u001b[0m\u001b[0;34m.\u001b[0m\u001b[0mshape\u001b[0m\u001b[0;34m[\u001b[0m\u001b[0;36m0\u001b[0m\u001b[0;34m]\u001b[0m\u001b[0;34m+\u001b[0m\u001b[0;36m1\u001b[0m\u001b[0;34m)\u001b[0m\u001b[0;34m\u001b[0m\u001b[0;34m\u001b[0m\u001b[0m\n\u001b[0m\u001b[1;32m      2\u001b[0m \u001b[0;31m# pd.set_option('display.max_rows', 10)\u001b[0m\u001b[0;34m\u001b[0m\u001b[0;34m\u001b[0m\u001b[0;34m\u001b[0m\u001b[0m\n",
      "\u001b[0;31mNameError\u001b[0m: name 'df' is not defined"
     ]
    }
   ],
   "source": [
    "pd.set_option('display.max_rows', df.shape[0]+1)\n",
    "# pd.set_option('display.max_rows', 10)"
   ]
  },
  {
   "cell_type": "code",
   "execution_count": 414,
   "metadata": {},
   "outputs": [],
   "source": [
    "train_data = pd.read_csv('house-prices-advanced-regression-techniques/train.csv', index_col=0)\n",
    "test_data = pd.read_csv('house-prices-advanced-regression-techniques/test.csv', index_col=0)"
   ]
  },
  {
   "cell_type": "code",
   "execution_count": 415,
   "metadata": {
    "scrolled": true
   },
   "outputs": [
    {
     "name": "stdout",
     "output_type": "stream",
     "text": [
      "(1460, 80)\n"
     ]
    },
    {
     "data": {
      "text/html": [
       "<div>\n",
       "<style scoped>\n",
       "    .dataframe tbody tr th:only-of-type {\n",
       "        vertical-align: middle;\n",
       "    }\n",
       "\n",
       "    .dataframe tbody tr th {\n",
       "        vertical-align: top;\n",
       "    }\n",
       "\n",
       "    .dataframe thead th {\n",
       "        text-align: right;\n",
       "    }\n",
       "</style>\n",
       "<table border=\"1\" class=\"dataframe\">\n",
       "  <thead>\n",
       "    <tr style=\"text-align: right;\">\n",
       "      <th></th>\n",
       "      <th>MSSubClass</th>\n",
       "      <th>MSZoning</th>\n",
       "      <th>LotFrontage</th>\n",
       "      <th>LotArea</th>\n",
       "      <th>Street</th>\n",
       "      <th>Alley</th>\n",
       "      <th>LotShape</th>\n",
       "      <th>LandContour</th>\n",
       "      <th>Utilities</th>\n",
       "      <th>LotConfig</th>\n",
       "      <th>...</th>\n",
       "      <th>PoolArea</th>\n",
       "      <th>PoolQC</th>\n",
       "      <th>Fence</th>\n",
       "      <th>MiscFeature</th>\n",
       "      <th>MiscVal</th>\n",
       "      <th>MoSold</th>\n",
       "      <th>YrSold</th>\n",
       "      <th>SaleType</th>\n",
       "      <th>SaleCondition</th>\n",
       "      <th>SalePrice</th>\n",
       "    </tr>\n",
       "    <tr>\n",
       "      <th>Id</th>\n",
       "      <th></th>\n",
       "      <th></th>\n",
       "      <th></th>\n",
       "      <th></th>\n",
       "      <th></th>\n",
       "      <th></th>\n",
       "      <th></th>\n",
       "      <th></th>\n",
       "      <th></th>\n",
       "      <th></th>\n",
       "      <th></th>\n",
       "      <th></th>\n",
       "      <th></th>\n",
       "      <th></th>\n",
       "      <th></th>\n",
       "      <th></th>\n",
       "      <th></th>\n",
       "      <th></th>\n",
       "      <th></th>\n",
       "      <th></th>\n",
       "      <th></th>\n",
       "    </tr>\n",
       "  </thead>\n",
       "  <tbody>\n",
       "    <tr>\n",
       "      <th>1</th>\n",
       "      <td>60</td>\n",
       "      <td>RL</td>\n",
       "      <td>65.0</td>\n",
       "      <td>8450</td>\n",
       "      <td>Pave</td>\n",
       "      <td>NaN</td>\n",
       "      <td>Reg</td>\n",
       "      <td>Lvl</td>\n",
       "      <td>AllPub</td>\n",
       "      <td>Inside</td>\n",
       "      <td>...</td>\n",
       "      <td>0</td>\n",
       "      <td>NaN</td>\n",
       "      <td>NaN</td>\n",
       "      <td>NaN</td>\n",
       "      <td>0</td>\n",
       "      <td>2</td>\n",
       "      <td>2008</td>\n",
       "      <td>WD</td>\n",
       "      <td>Normal</td>\n",
       "      <td>208500</td>\n",
       "    </tr>\n",
       "    <tr>\n",
       "      <th>2</th>\n",
       "      <td>20</td>\n",
       "      <td>RL</td>\n",
       "      <td>80.0</td>\n",
       "      <td>9600</td>\n",
       "      <td>Pave</td>\n",
       "      <td>NaN</td>\n",
       "      <td>Reg</td>\n",
       "      <td>Lvl</td>\n",
       "      <td>AllPub</td>\n",
       "      <td>FR2</td>\n",
       "      <td>...</td>\n",
       "      <td>0</td>\n",
       "      <td>NaN</td>\n",
       "      <td>NaN</td>\n",
       "      <td>NaN</td>\n",
       "      <td>0</td>\n",
       "      <td>5</td>\n",
       "      <td>2007</td>\n",
       "      <td>WD</td>\n",
       "      <td>Normal</td>\n",
       "      <td>181500</td>\n",
       "    </tr>\n",
       "    <tr>\n",
       "      <th>3</th>\n",
       "      <td>60</td>\n",
       "      <td>RL</td>\n",
       "      <td>68.0</td>\n",
       "      <td>11250</td>\n",
       "      <td>Pave</td>\n",
       "      <td>NaN</td>\n",
       "      <td>IR1</td>\n",
       "      <td>Lvl</td>\n",
       "      <td>AllPub</td>\n",
       "      <td>Inside</td>\n",
       "      <td>...</td>\n",
       "      <td>0</td>\n",
       "      <td>NaN</td>\n",
       "      <td>NaN</td>\n",
       "      <td>NaN</td>\n",
       "      <td>0</td>\n",
       "      <td>9</td>\n",
       "      <td>2008</td>\n",
       "      <td>WD</td>\n",
       "      <td>Normal</td>\n",
       "      <td>223500</td>\n",
       "    </tr>\n",
       "    <tr>\n",
       "      <th>4</th>\n",
       "      <td>70</td>\n",
       "      <td>RL</td>\n",
       "      <td>60.0</td>\n",
       "      <td>9550</td>\n",
       "      <td>Pave</td>\n",
       "      <td>NaN</td>\n",
       "      <td>IR1</td>\n",
       "      <td>Lvl</td>\n",
       "      <td>AllPub</td>\n",
       "      <td>Corner</td>\n",
       "      <td>...</td>\n",
       "      <td>0</td>\n",
       "      <td>NaN</td>\n",
       "      <td>NaN</td>\n",
       "      <td>NaN</td>\n",
       "      <td>0</td>\n",
       "      <td>2</td>\n",
       "      <td>2006</td>\n",
       "      <td>WD</td>\n",
       "      <td>Abnorml</td>\n",
       "      <td>140000</td>\n",
       "    </tr>\n",
       "    <tr>\n",
       "      <th>5</th>\n",
       "      <td>60</td>\n",
       "      <td>RL</td>\n",
       "      <td>84.0</td>\n",
       "      <td>14260</td>\n",
       "      <td>Pave</td>\n",
       "      <td>NaN</td>\n",
       "      <td>IR1</td>\n",
       "      <td>Lvl</td>\n",
       "      <td>AllPub</td>\n",
       "      <td>FR2</td>\n",
       "      <td>...</td>\n",
       "      <td>0</td>\n",
       "      <td>NaN</td>\n",
       "      <td>NaN</td>\n",
       "      <td>NaN</td>\n",
       "      <td>0</td>\n",
       "      <td>12</td>\n",
       "      <td>2008</td>\n",
       "      <td>WD</td>\n",
       "      <td>Normal</td>\n",
       "      <td>250000</td>\n",
       "    </tr>\n",
       "  </tbody>\n",
       "</table>\n",
       "<p>5 rows × 80 columns</p>\n",
       "</div>"
      ],
      "text/plain": [
       "    MSSubClass MSZoning  LotFrontage  LotArea Street Alley LotShape  \\\n",
       "Id                                                                    \n",
       "1           60       RL         65.0     8450   Pave   NaN      Reg   \n",
       "2           20       RL         80.0     9600   Pave   NaN      Reg   \n",
       "3           60       RL         68.0    11250   Pave   NaN      IR1   \n",
       "4           70       RL         60.0     9550   Pave   NaN      IR1   \n",
       "5           60       RL         84.0    14260   Pave   NaN      IR1   \n",
       "\n",
       "   LandContour Utilities LotConfig  ... PoolArea PoolQC Fence MiscFeature  \\\n",
       "Id                                  ...                                     \n",
       "1          Lvl    AllPub    Inside  ...        0    NaN   NaN         NaN   \n",
       "2          Lvl    AllPub       FR2  ...        0    NaN   NaN         NaN   \n",
       "3          Lvl    AllPub    Inside  ...        0    NaN   NaN         NaN   \n",
       "4          Lvl    AllPub    Corner  ...        0    NaN   NaN         NaN   \n",
       "5          Lvl    AllPub       FR2  ...        0    NaN   NaN         NaN   \n",
       "\n",
       "   MiscVal MoSold  YrSold  SaleType  SaleCondition  SalePrice  \n",
       "Id                                                             \n",
       "1        0      2    2008        WD         Normal     208500  \n",
       "2        0      5    2007        WD         Normal     181500  \n",
       "3        0      9    2008        WD         Normal     223500  \n",
       "4        0      2    2006        WD        Abnorml     140000  \n",
       "5        0     12    2008        WD         Normal     250000  \n",
       "\n",
       "[5 rows x 80 columns]"
      ]
     },
     "execution_count": 415,
     "metadata": {},
     "output_type": "execute_result"
    }
   ],
   "source": [
    "print(train_data.shape)\n",
    "train_data.head()"
   ]
  },
  {
   "cell_type": "code",
   "execution_count": 416,
   "metadata": {
    "scrolled": false
   },
   "outputs": [
    {
     "data": {
      "text/html": [
       "<div>\n",
       "<style scoped>\n",
       "    .dataframe tbody tr th:only-of-type {\n",
       "        vertical-align: middle;\n",
       "    }\n",
       "\n",
       "    .dataframe tbody tr th {\n",
       "        vertical-align: top;\n",
       "    }\n",
       "\n",
       "    .dataframe thead th {\n",
       "        text-align: right;\n",
       "    }\n",
       "</style>\n",
       "<table border=\"1\" class=\"dataframe\">\n",
       "  <thead>\n",
       "    <tr style=\"text-align: right;\">\n",
       "      <th></th>\n",
       "      <th>MSSubClass</th>\n",
       "      <th>MSZoning</th>\n",
       "      <th>LotFrontage</th>\n",
       "      <th>LotArea</th>\n",
       "      <th>Street</th>\n",
       "      <th>Alley</th>\n",
       "      <th>LotShape</th>\n",
       "      <th>LandContour</th>\n",
       "      <th>Utilities</th>\n",
       "      <th>LotConfig</th>\n",
       "      <th>...</th>\n",
       "      <th>ScreenPorch</th>\n",
       "      <th>PoolArea</th>\n",
       "      <th>PoolQC</th>\n",
       "      <th>Fence</th>\n",
       "      <th>MiscFeature</th>\n",
       "      <th>MiscVal</th>\n",
       "      <th>MoSold</th>\n",
       "      <th>YrSold</th>\n",
       "      <th>SaleType</th>\n",
       "      <th>SaleCondition</th>\n",
       "    </tr>\n",
       "    <tr>\n",
       "      <th>Id</th>\n",
       "      <th></th>\n",
       "      <th></th>\n",
       "      <th></th>\n",
       "      <th></th>\n",
       "      <th></th>\n",
       "      <th></th>\n",
       "      <th></th>\n",
       "      <th></th>\n",
       "      <th></th>\n",
       "      <th></th>\n",
       "      <th></th>\n",
       "      <th></th>\n",
       "      <th></th>\n",
       "      <th></th>\n",
       "      <th></th>\n",
       "      <th></th>\n",
       "      <th></th>\n",
       "      <th></th>\n",
       "      <th></th>\n",
       "      <th></th>\n",
       "      <th></th>\n",
       "    </tr>\n",
       "  </thead>\n",
       "  <tbody>\n",
       "    <tr>\n",
       "      <th>1461</th>\n",
       "      <td>20</td>\n",
       "      <td>RH</td>\n",
       "      <td>80.0</td>\n",
       "      <td>11622</td>\n",
       "      <td>Pave</td>\n",
       "      <td>NaN</td>\n",
       "      <td>Reg</td>\n",
       "      <td>Lvl</td>\n",
       "      <td>AllPub</td>\n",
       "      <td>Inside</td>\n",
       "      <td>...</td>\n",
       "      <td>120</td>\n",
       "      <td>0</td>\n",
       "      <td>NaN</td>\n",
       "      <td>MnPrv</td>\n",
       "      <td>NaN</td>\n",
       "      <td>0</td>\n",
       "      <td>6</td>\n",
       "      <td>2010</td>\n",
       "      <td>WD</td>\n",
       "      <td>Normal</td>\n",
       "    </tr>\n",
       "    <tr>\n",
       "      <th>1462</th>\n",
       "      <td>20</td>\n",
       "      <td>RL</td>\n",
       "      <td>81.0</td>\n",
       "      <td>14267</td>\n",
       "      <td>Pave</td>\n",
       "      <td>NaN</td>\n",
       "      <td>IR1</td>\n",
       "      <td>Lvl</td>\n",
       "      <td>AllPub</td>\n",
       "      <td>Corner</td>\n",
       "      <td>...</td>\n",
       "      <td>0</td>\n",
       "      <td>0</td>\n",
       "      <td>NaN</td>\n",
       "      <td>NaN</td>\n",
       "      <td>Gar2</td>\n",
       "      <td>12500</td>\n",
       "      <td>6</td>\n",
       "      <td>2010</td>\n",
       "      <td>WD</td>\n",
       "      <td>Normal</td>\n",
       "    </tr>\n",
       "    <tr>\n",
       "      <th>1463</th>\n",
       "      <td>60</td>\n",
       "      <td>RL</td>\n",
       "      <td>74.0</td>\n",
       "      <td>13830</td>\n",
       "      <td>Pave</td>\n",
       "      <td>NaN</td>\n",
       "      <td>IR1</td>\n",
       "      <td>Lvl</td>\n",
       "      <td>AllPub</td>\n",
       "      <td>Inside</td>\n",
       "      <td>...</td>\n",
       "      <td>0</td>\n",
       "      <td>0</td>\n",
       "      <td>NaN</td>\n",
       "      <td>MnPrv</td>\n",
       "      <td>NaN</td>\n",
       "      <td>0</td>\n",
       "      <td>3</td>\n",
       "      <td>2010</td>\n",
       "      <td>WD</td>\n",
       "      <td>Normal</td>\n",
       "    </tr>\n",
       "    <tr>\n",
       "      <th>1464</th>\n",
       "      <td>60</td>\n",
       "      <td>RL</td>\n",
       "      <td>78.0</td>\n",
       "      <td>9978</td>\n",
       "      <td>Pave</td>\n",
       "      <td>NaN</td>\n",
       "      <td>IR1</td>\n",
       "      <td>Lvl</td>\n",
       "      <td>AllPub</td>\n",
       "      <td>Inside</td>\n",
       "      <td>...</td>\n",
       "      <td>0</td>\n",
       "      <td>0</td>\n",
       "      <td>NaN</td>\n",
       "      <td>NaN</td>\n",
       "      <td>NaN</td>\n",
       "      <td>0</td>\n",
       "      <td>6</td>\n",
       "      <td>2010</td>\n",
       "      <td>WD</td>\n",
       "      <td>Normal</td>\n",
       "    </tr>\n",
       "    <tr>\n",
       "      <th>1465</th>\n",
       "      <td>120</td>\n",
       "      <td>RL</td>\n",
       "      <td>43.0</td>\n",
       "      <td>5005</td>\n",
       "      <td>Pave</td>\n",
       "      <td>NaN</td>\n",
       "      <td>IR1</td>\n",
       "      <td>HLS</td>\n",
       "      <td>AllPub</td>\n",
       "      <td>Inside</td>\n",
       "      <td>...</td>\n",
       "      <td>144</td>\n",
       "      <td>0</td>\n",
       "      <td>NaN</td>\n",
       "      <td>NaN</td>\n",
       "      <td>NaN</td>\n",
       "      <td>0</td>\n",
       "      <td>1</td>\n",
       "      <td>2010</td>\n",
       "      <td>WD</td>\n",
       "      <td>Normal</td>\n",
       "    </tr>\n",
       "  </tbody>\n",
       "</table>\n",
       "<p>5 rows × 79 columns</p>\n",
       "</div>"
      ],
      "text/plain": [
       "      MSSubClass MSZoning  LotFrontage  LotArea Street Alley LotShape  \\\n",
       "Id                                                                      \n",
       "1461          20       RH         80.0    11622   Pave   NaN      Reg   \n",
       "1462          20       RL         81.0    14267   Pave   NaN      IR1   \n",
       "1463          60       RL         74.0    13830   Pave   NaN      IR1   \n",
       "1464          60       RL         78.0     9978   Pave   NaN      IR1   \n",
       "1465         120       RL         43.0     5005   Pave   NaN      IR1   \n",
       "\n",
       "     LandContour Utilities LotConfig  ... ScreenPorch PoolArea PoolQC  Fence  \\\n",
       "Id                                    ...                                      \n",
       "1461         Lvl    AllPub    Inside  ...         120        0    NaN  MnPrv   \n",
       "1462         Lvl    AllPub    Corner  ...           0        0    NaN    NaN   \n",
       "1463         Lvl    AllPub    Inside  ...           0        0    NaN  MnPrv   \n",
       "1464         Lvl    AllPub    Inside  ...           0        0    NaN    NaN   \n",
       "1465         HLS    AllPub    Inside  ...         144        0    NaN    NaN   \n",
       "\n",
       "     MiscFeature MiscVal  MoSold  YrSold  SaleType  SaleCondition  \n",
       "Id                                                                 \n",
       "1461         NaN       0       6    2010        WD         Normal  \n",
       "1462        Gar2   12500       6    2010        WD         Normal  \n",
       "1463         NaN       0       3    2010        WD         Normal  \n",
       "1464         NaN       0       6    2010        WD         Normal  \n",
       "1465         NaN       0       1    2010        WD         Normal  \n",
       "\n",
       "[5 rows x 79 columns]"
      ]
     },
     "execution_count": 416,
     "metadata": {},
     "output_type": "execute_result"
    }
   ],
   "source": [
    "test_data.head()"
   ]
  },
  {
   "cell_type": "markdown",
   "metadata": {},
   "source": [
    "## Removing missing values"
   ]
  },
  {
   "cell_type": "code",
   "execution_count": 417,
   "metadata": {
    "scrolled": false
   },
   "outputs": [
    {
     "data": {
      "text/plain": [
       "count       770.000000\n",
       "mean     216397.692208\n",
       "std       86843.901262\n",
       "min       60000.000000\n",
       "25%      159000.000000\n",
       "50%      191000.000000\n",
       "75%      257375.000000\n",
       "max      755000.000000\n",
       "Name: SalePrice, dtype: float64"
      ]
     },
     "execution_count": 417,
     "metadata": {},
     "output_type": "execute_result"
    }
   ],
   "source": [
    "train_data[train_data.FireplaceQu.notnull()][\"SalePrice\"].describe()"
   ]
  },
  {
   "cell_type": "markdown",
   "metadata": {},
   "source": [
    "### First, let's remove variables with most of the values missing"
   ]
  },
  {
   "cell_type": "code",
   "execution_count": 961,
   "metadata": {},
   "outputs": [],
   "source": [
    "y = train_data.SalePrice\n",
    "X = train_data.drop(['SalePrice'], axis=1)"
   ]
  },
  {
   "cell_type": "code",
   "execution_count": 962,
   "metadata": {},
   "outputs": [],
   "source": [
    "df = pd.concat([X , test_data])\n",
    "# df = df.drop(['PoolQC', 'Fence', 'MiscFeature', 'Alley'], axis=1)"
   ]
  },
  {
   "cell_type": "code",
   "execution_count": 963,
   "metadata": {
    "scrolled": true
   },
   "outputs": [
    {
     "data": {
      "text/plain": [
       "(2919, 79)"
      ]
     },
     "execution_count": 963,
     "metadata": {},
     "output_type": "execute_result"
    }
   ],
   "source": [
    "df.shape"
   ]
  },
  {
   "cell_type": "markdown",
   "metadata": {},
   "source": [
    "## Then let's remove missing values"
   ]
  },
  {
   "cell_type": "code",
   "execution_count": 964,
   "metadata": {
    "scrolled": true
   },
   "outputs": [
    {
     "name": "stdout",
     "output_type": "stream",
     "text": [
      "PoolQC           2909\n",
      "MiscFeature      2814\n",
      "Alley            2721\n",
      "Fence            2348\n",
      "FireplaceQu      1420\n",
      "LotFrontage       486\n",
      "GarageYrBlt       159\n",
      "GarageFinish      159\n",
      "GarageQual        159\n",
      "GarageCond        159\n",
      "GarageType        157\n",
      "BsmtExposure       82\n",
      "BsmtCond           82\n",
      "BsmtQual           81\n",
      "BsmtFinType2       80\n",
      "BsmtFinType1       79\n",
      "MasVnrType         24\n",
      "MasVnrArea         23\n",
      "MSZoning            4\n",
      "Functional          2\n",
      "BsmtHalfBath        2\n",
      "BsmtFullBath        2\n",
      "Utilities           2\n",
      "SaleType            1\n",
      "BsmtFinSF1          1\n",
      "KitchenQual         1\n",
      "GarageCars          1\n",
      "BsmtUnfSF           1\n",
      "TotalBsmtSF         1\n",
      "Exterior2nd         1\n",
      "Exterior1st         1\n",
      "GarageArea          1\n",
      "Electrical          1\n",
      "BsmtFinSF2          1\n",
      "TotRmsAbvGrd        0\n",
      "Fireplaces          0\n",
      "MSSubClass          0\n",
      "BedroomAbvGr        0\n",
      "PavedDrive          0\n",
      "WoodDeckSF          0\n",
      "OpenPorchSF         0\n",
      "EnclosedPorch       0\n",
      "3SsnPorch           0\n",
      "ScreenPorch         0\n",
      "PoolArea            0\n",
      "MiscVal             0\n",
      "MoSold              0\n",
      "YrSold              0\n",
      "KitchenAbvGr        0\n",
      "HeatingQC           0\n",
      "HalfBath            0\n",
      "OverallCond         0\n",
      "LotArea             0\n",
      "Street              0\n",
      "LotShape            0\n",
      "LandContour         0\n",
      "LotConfig           0\n",
      "LandSlope           0\n",
      "Neighborhood        0\n",
      "Condition1          0\n",
      "Condition2          0\n",
      "BldgType            0\n",
      "HouseStyle          0\n",
      "OverallQual         0\n",
      "YearBuilt           0\n",
      "FullBath            0\n",
      "YearRemodAdd        0\n",
      "RoofStyle           0\n",
      "RoofMatl            0\n",
      "ExterQual           0\n",
      "ExterCond           0\n",
      "Foundation          0\n",
      "Heating             0\n",
      "CentralAir          0\n",
      "1stFlrSF            0\n",
      "2ndFlrSF            0\n",
      "LowQualFinSF        0\n",
      "GrLivArea           0\n",
      "SaleCondition       0\n",
      "dtype: int64\n"
     ]
    }
   ],
   "source": [
    "with pd.option_context('display.max_rows', None, 'display.max_columns', None):  # more options can be specified also\n",
    "    print(df.isnull().sum().sort_values(ascending=False))"
   ]
  },
  {
   "cell_type": "markdown",
   "metadata": {},
   "source": [
    "## Numerical values"
   ]
  },
  {
   "cell_type": "code",
   "execution_count": 965,
   "metadata": {},
   "outputs": [],
   "source": [
    "numerical = list( df.loc[:,df.dtypes != 'object'].columns.values )\n",
    "categorical = list( df.loc[:,df.dtypes == 'object'].columns.values )"
   ]
  },
  {
   "cell_type": "code",
   "execution_count": 966,
   "metadata": {
    "scrolled": false
   },
   "outputs": [
    {
     "data": {
      "text/plain": [
       "BsmtFinSF1        1\n",
       "BsmtFinSF2        1\n",
       "BsmtUnfSF         1\n",
       "TotalBsmtSF       1\n",
       "GarageCars        1\n",
       "GarageArea        1\n",
       "BsmtFullBath      2\n",
       "BsmtHalfBath      2\n",
       "MasVnrArea       23\n",
       "GarageYrBlt     159\n",
       "LotFrontage     486\n",
       "dtype: int64"
      ]
     },
     "execution_count": 966,
     "metadata": {},
     "output_type": "execute_result"
    }
   ],
   "source": [
    "missing_num = df[numerical].isnull().sum()\n",
    "missing_num = missing_num[missing_num > 0]\n",
    "missing_num.sort_values()"
   ]
  },
  {
   "cell_type": "code",
   "execution_count": 967,
   "metadata": {},
   "outputs": [],
   "source": [
    "x = [1000, 2000, 4000, 10000, 25000, 50000, 500000]\n",
    "\n",
    "df['LotFrontage'] = df.groupby(pd.cut(df['LotArea'], x))['LotFrontage'].apply(lambda x: x.fillna(x.median()))\n",
    "\n",
    "# df.groupby(pd.cut(df['LotArea'], x))['LotFrontage'].median()\n",
    "\n",
    "# numerical.remove(\"LotFrontage\")\n",
    "for feature in numerical:\n",
    "    df[feature] = df[feature].fillna(0)"
   ]
  },
  {
   "cell_type": "markdown",
   "metadata": {},
   "source": [
    "### Categorical values"
   ]
  },
  {
   "cell_type": "code",
   "execution_count": 968,
   "metadata": {},
   "outputs": [
    {
     "data": {
      "text/plain": [
       "Electrical         1\n",
       "KitchenQual        1\n",
       "Exterior2nd        1\n",
       "SaleType           1\n",
       "Exterior1st        1\n",
       "Utilities          2\n",
       "Functional         2\n",
       "MSZoning           4\n",
       "MasVnrType        24\n",
       "BsmtFinType1      79\n",
       "BsmtFinType2      80\n",
       "BsmtQual          81\n",
       "BsmtCond          82\n",
       "BsmtExposure      82\n",
       "GarageType       157\n",
       "GarageFinish     159\n",
       "GarageQual       159\n",
       "GarageCond       159\n",
       "FireplaceQu     1420\n",
       "Fence           2348\n",
       "Alley           2721\n",
       "MiscFeature     2814\n",
       "PoolQC          2909\n",
       "dtype: int64"
      ]
     },
     "execution_count": 968,
     "metadata": {},
     "output_type": "execute_result"
    }
   ],
   "source": [
    "missing_cat = df[categorical].isnull().sum()\n",
    "missing_cat = missing_cat[missing_cat > 0]\n",
    "missing_cat.sort_values()"
   ]
  },
  {
   "cell_type": "code",
   "execution_count": 969,
   "metadata": {},
   "outputs": [],
   "source": [
    "cat_exclude = ['MasVnrType', \"MSZoning\", \"Functional\", \"Utilities\", \"Exterior1st\", \"SaleType\", \"Exterior2nd\", \"KitchenQual\", \"Electrical\"]\n",
    "for feature in missing_cat.drop(cat_exclude).index:\n",
    "    df[feature] = df[feature].fillna(\"NA\")"
   ]
  },
  {
   "cell_type": "code",
   "execution_count": 970,
   "metadata": {},
   "outputs": [
    {
     "data": {
      "text/plain": [
       "array(['BrkFace', 'None', 'Stone', 'BrkCmn', nan], dtype=object)"
      ]
     },
     "execution_count": 970,
     "metadata": {},
     "output_type": "execute_result"
    }
   ],
   "source": [
    "df.MasVnrType.unique()"
   ]
  },
  {
   "cell_type": "code",
   "execution_count": 971,
   "metadata": {},
   "outputs": [],
   "source": [
    "df['MasVnrType'] = df.FireplaceQu.fillna(\"None\")\n",
    "cat_exclude.remove(\"MasVnrType\")"
   ]
  },
  {
   "cell_type": "code",
   "execution_count": 972,
   "metadata": {},
   "outputs": [],
   "source": [
    "df[cat_exclude] = df.groupby('Neighborhood')[cat_exclude].transform(lambda x: x.fillna(x.mode()[0]))   "
   ]
  },
  {
   "cell_type": "code",
   "execution_count": 973,
   "metadata": {},
   "outputs": [
    {
     "data": {
      "text/html": [
       "<div>\n",
       "<style scoped>\n",
       "    .dataframe tbody tr th:only-of-type {\n",
       "        vertical-align: middle;\n",
       "    }\n",
       "\n",
       "    .dataframe tbody tr th {\n",
       "        vertical-align: top;\n",
       "    }\n",
       "\n",
       "    .dataframe thead th {\n",
       "        text-align: right;\n",
       "    }\n",
       "</style>\n",
       "<table border=\"1\" class=\"dataframe\">\n",
       "  <thead>\n",
       "    <tr style=\"text-align: right;\">\n",
       "      <th></th>\n",
       "      <th>MSSubClass</th>\n",
       "      <th>MSZoning</th>\n",
       "      <th>LotFrontage</th>\n",
       "      <th>LotArea</th>\n",
       "      <th>Street</th>\n",
       "      <th>Alley</th>\n",
       "      <th>LotShape</th>\n",
       "      <th>LandContour</th>\n",
       "      <th>Utilities</th>\n",
       "      <th>LotConfig</th>\n",
       "      <th>...</th>\n",
       "      <th>ScreenPorch</th>\n",
       "      <th>PoolArea</th>\n",
       "      <th>PoolQC</th>\n",
       "      <th>Fence</th>\n",
       "      <th>MiscFeature</th>\n",
       "      <th>MiscVal</th>\n",
       "      <th>MoSold</th>\n",
       "      <th>YrSold</th>\n",
       "      <th>SaleType</th>\n",
       "      <th>SaleCondition</th>\n",
       "    </tr>\n",
       "    <tr>\n",
       "      <th>Id</th>\n",
       "      <th></th>\n",
       "      <th></th>\n",
       "      <th></th>\n",
       "      <th></th>\n",
       "      <th></th>\n",
       "      <th></th>\n",
       "      <th></th>\n",
       "      <th></th>\n",
       "      <th></th>\n",
       "      <th></th>\n",
       "      <th></th>\n",
       "      <th></th>\n",
       "      <th></th>\n",
       "      <th></th>\n",
       "      <th></th>\n",
       "      <th></th>\n",
       "      <th></th>\n",
       "      <th></th>\n",
       "      <th></th>\n",
       "      <th></th>\n",
       "      <th></th>\n",
       "    </tr>\n",
       "  </thead>\n",
       "  <tbody>\n",
       "  </tbody>\n",
       "</table>\n",
       "<p>0 rows × 79 columns</p>\n",
       "</div>"
      ],
      "text/plain": [
       "Empty DataFrame\n",
       "Columns: [MSSubClass, MSZoning, LotFrontage, LotArea, Street, Alley, LotShape, LandContour, Utilities, LotConfig, LandSlope, Neighborhood, Condition1, Condition2, BldgType, HouseStyle, OverallQual, OverallCond, YearBuilt, YearRemodAdd, RoofStyle, RoofMatl, Exterior1st, Exterior2nd, MasVnrType, MasVnrArea, ExterQual, ExterCond, Foundation, BsmtQual, BsmtCond, BsmtExposure, BsmtFinType1, BsmtFinSF1, BsmtFinType2, BsmtFinSF2, BsmtUnfSF, TotalBsmtSF, Heating, HeatingQC, CentralAir, Electrical, 1stFlrSF, 2ndFlrSF, LowQualFinSF, GrLivArea, BsmtFullBath, BsmtHalfBath, FullBath, HalfBath, BedroomAbvGr, KitchenAbvGr, KitchenQual, TotRmsAbvGrd, Functional, Fireplaces, FireplaceQu, GarageType, GarageYrBlt, GarageFinish, GarageCars, GarageArea, GarageQual, GarageCond, PavedDrive, WoodDeckSF, OpenPorchSF, EnclosedPorch, 3SsnPorch, ScreenPorch, PoolArea, PoolQC, Fence, MiscFeature, MiscVal, MoSold, YrSold, SaleType, SaleCondition]\n",
       "Index: []\n",
       "\n",
       "[0 rows x 79 columns]"
      ]
     },
     "execution_count": 973,
     "metadata": {},
     "output_type": "execute_result"
    }
   ],
   "source": [
    "df[df.isnull().any(axis=1)]"
   ]
  },
  {
   "cell_type": "markdown",
   "metadata": {},
   "source": [
    "## Change categories to numbers"
   ]
  },
  {
   "cell_type": "code",
   "execution_count": 974,
   "metadata": {},
   "outputs": [
    {
     "data": {
      "text/plain": [
       "array(['Typ', 'Min1', 'Maj1', 'Min2', 'Mod', 'Maj2', 'Sev'], dtype=object)"
      ]
     },
     "execution_count": 974,
     "metadata": {},
     "output_type": "execute_result"
    }
   ],
   "source": [
    "df.Functional.unique()"
   ]
  },
  {
   "cell_type": "code",
   "execution_count": 975,
   "metadata": {},
   "outputs": [],
   "source": [
    "rate_0 = ['NA', 'None']\n",
    "rate_1 = ['C (all)', 'Grvl', 'Reg', 'Low', 'ELO', 'Inside','Sev', 'Po', 'No', 'Unf', 'Sev', 'MnWw']\n",
    "rate_2 = ['FV', 'Pave', 'IR1', 'HLS', 'NoSeWa','Corner','Mod', 'Fa', 'Mn','LwQ', 'Maj2', 'RFn', 'GdWo']\n",
    "rate_3 = ['RH', 'IR2', 'Bnk', 'NoSewr','CulDSac','Gtl', 'TA', 'Av', 'Rec', 'Maj1', 'Fin', 'MnPrv']\n",
    "rate_4 = ['RM', 'IR3', 'Lvl', 'AllPub','FR2', 'Gd', 'BLQ', 'Mod', 'GdPrv']\n",
    "rate_5 = ['RL','FR3','Ex','ALQ', 'Min2']\n",
    "rate_6 = ['GLQ', 'Min1']\n",
    "rate_7 = ['Typ']\n",
    "\n",
    "rate = [rate_0, rate_1, rate_2, rate_3, rate_4, rate_5, rate_6, rate_7]\n",
    "\n",
    "# Given a categorical value [cat], return [i] such that [cat \\in rate_i]\n",
    "def cat_to_int(cat): \n",
    "    return next(filter(lambda rate_i : cat in rate_i[1], enumerate(rate)))[0] \n",
    "\n",
    "# List of all categorical values\n",
    "flat_rate = sum(rate, [])\n",
    "\n",
    "# Generate the dictionary\n",
    "replace_dictionary = dict( map(lambda cat: (cat, cat_to_int(cat)), flat_rate ) )"
   ]
  },
  {
   "cell_type": "code",
   "execution_count": 976,
   "metadata": {},
   "outputs": [],
   "source": [
    "df[categorical] = df[categorical].replace(replace_dictionary)"
   ]
  },
  {
   "cell_type": "markdown",
   "metadata": {},
   "source": [
    "## Let's add new features"
   ]
  },
  {
   "cell_type": "code",
   "execution_count": 977,
   "metadata": {},
   "outputs": [],
   "source": [
    "# df_copy = df.copy()"
   ]
  },
  {
   "cell_type": "code",
   "execution_count": 978,
   "metadata": {},
   "outputs": [],
   "source": [
    "GoodNbrh = ['NridgHt', 'Crawfor', 'StoneBr', 'Somerst', 'NoRidge']\n",
    "df.loc[df.Neighborhood.isin(GoodNbrh), \"Neighborhood_Good\"] = 1\n",
    "df[\"Neighborhood_Good\"].fillna(0, inplace=True)\n"
   ]
  },
  {
   "cell_type": "code",
   "execution_count": 979,
   "metadata": {},
   "outputs": [],
   "source": [
    "df['TotalExtraPoints'] = df.HeatingQC + df.PoolQC + df.FireplaceQu + df.KitchenQual\n",
    "df['TotalPoints'] = (df.ExterQual + df.FireplaceQu + df.GarageQual + df.KitchenQual +\n",
    "                      df.BsmtQual + df.BsmtExposure + df.BsmtFinType1 + df.PoolQC + \n",
    "                      df.ExterCond + df.BsmtCond + df.GarageCond + df.OverallCond +\n",
    "                      df.BsmtFinType2 + df.HeatingQC ) + df.OverallQual**2"
   ]
  },
  {
   "cell_type": "code",
   "execution_count": 980,
   "metadata": {},
   "outputs": [],
   "source": [
    "# df['HasPool'] = df['PoolArea'].apply(lambda x: 1 if x > 0 else 0)\n",
    "df['TotalSF'] = (df['TotalBsmtSF'] + df['1stFlrSF'] + df['2ndFlrSF']).astype(int)\n",
    "df['YearsSinceRemodel'] = df['YrSold'].astype(int) - df['YearRemodAdd'].astype(int)\n",
    "df[\"Remodeled\"] = (df[\"YearRemodAdd\"] != df[\"YearBuilt\"]).astype(int)\n",
    "df[\"RecentRemodel\"] = (df[\"YearRemodAdd\"] == df[\"YrSold\"]).astype(int)\n",
    "df['ConstructArea'] = (df.TotalBsmtSF + df.WoodDeckSF + df.GrLivArea +df['3SsnPorch']+\n",
    "                       df.OpenPorchSF + df.ScreenPorch + df.EnclosedPorch +\n",
    "                       df.MasVnrArea + df.GarageArea + df.PoolArea )\n",
    "df['TotalPorchSF'] = df.OpenPorchSF + df.EnclosedPorch + df.ScreenPorch + df.WoodDeckSF+df['3SsnPorch']\n",
    "# df['HasFireplace'] = df['Fireplaces'].apply(lambda x: 1 if x > 0 else 0)\n",
    "# df['Total_Bathrooms'] = ((df['FullBath'] + (0.5 * df['HalfBath']) + df['BsmtFullBath'] + (0.5 * df['BsmtHalfBath']))).astype(int)\n",
    "\n"
   ]
  },
  {
   "cell_type": "code",
   "execution_count": 981,
   "metadata": {},
   "outputs": [],
   "source": [
    "# df['HasPool'] = df['PoolArea'].apply(lambda x: 1 if x > 0 else 0)\n",
    "# df['Total_Bathrooms'] = ((df['FullBath'] + (0.5 * df['HalfBath']) + df['BsmtFullBath'] + (0.5 * df['BsmtHalfBath']))).astype(int)"
   ]
  },
  {
   "cell_type": "code",
   "execution_count": 982,
   "metadata": {
    "scrolled": true
   },
   "outputs": [
    {
     "data": {
      "text/plain": [
       "TotalSF    0.78226\n",
       "dtype: float64"
      ]
     },
     "execution_count": 982,
     "metadata": {},
     "output_type": "execute_result"
    }
   ],
   "source": [
    "df[['TotalSF']].corrwith(y)"
   ]
  },
  {
   "cell_type": "markdown",
   "metadata": {},
   "source": [
    "## Deal with outliers"
   ]
  },
  {
   "cell_type": "code",
   "execution_count": 570,
   "metadata": {},
   "outputs": [],
   "source": [
    "# df[\"SalePrice\"] = y\n",
    "numeric_columns = df.select_dtypes(['int64','float64']).columns\n",
    "numeric = df[numeric_columns]"
   ]
  },
  {
   "cell_type": "code",
   "execution_count": 983,
   "metadata": {
    "scrolled": true
   },
   "outputs": [],
   "source": [
    "df.loc[(df['GarageYrBlt'] > 2020), 'GarageYrBlt'] = 2007"
   ]
  },
  {
   "cell_type": "code",
   "execution_count": 984,
   "metadata": {
    "scrolled": false
   },
   "outputs": [],
   "source": [
    "df.loc[[250]].LotArea = 15900"
   ]
  },
  {
   "cell_type": "code",
   "execution_count": 873,
   "metadata": {},
   "outputs": [],
   "source": [
    "# outliers = [1299, 336]"
   ]
  },
  {
   "cell_type": "code",
   "execution_count": null,
   "metadata": {},
   "outputs": [],
   "source": []
  },
  {
   "cell_type": "code",
   "execution_count": 875,
   "metadata": {
    "scrolled": true
   },
   "outputs": [
    {
     "name": "stderr",
     "output_type": "stream",
     "text": [
      "/Users/yulialysenko/opt/anaconda3/lib/python3.7/site-packages/ipykernel_launcher.py:3: RuntimeWarning: More than 20 figures have been opened. Figures created through the pyplot interface (`matplotlib.pyplot.figure`) are retained until explicitly closed and may consume too much memory. (To control this warning, see the rcParam `figure.max_open_warning`).\n",
      "  This is separate from the ipykernel package so we can avoid doing imports until\n"
     ]
    },
    {
     "data": {
      "image/png": "[encoded data removed]",
      "text/plain": [
       "<Figure size 432x288 with 1 Axes>"
      ]
     },
     "metadata": {
      "needs_background": "light"
     },
     "output_type": "display_data"
    },
    {
     "data": {
      "image/png": "[encoded data removed]",
      "text/plain": [
       "<Figure size 432x288 with 1 Axes>"
      ]
     },
     "metadata": {
      "needs_background": "light"
     },
     "output_type": "display_data"
    },
    {
     "data": {
      "image/png": "[encoded data removed]",
      "text/plain": [
       "<Figure size 432x288 with 1 Axes>"
      ]
     },
     "metadata": {
      "needs_background": "light"
     },
     "output_type": "display_data"
    },
    {
     "data": {
      "image/png": "[encoded data removed]",
      "text/plain": [
       "<Figure size 432x288 with 1 Axes>"
      ]
     },
     "metadata": {
      "needs_background": "light"
     },
     "output_type": "display_data"
    },
    {
     "data": {
      "image/png": "[encoded data removed]",
      "text/plain": [
       "<Figure size 432x288 with 1 Axes>"
      ]
     },
     "metadata": {
      "needs_background": "light"
     },
     "output_type": "display_data"
    },
    {
     "data": {
      "image/png": "[encoded data removed]",
      "text/plain": [
       "<Figure size 432x288 with 1 Axes>"
      ]
     },
     "metadata": {
      "needs_background": "light"
     },
     "output_type": "display_data"
    },
    {
     "data": {
      "image/png": "[encoded data removed]",
      "text/plain": [
       "<Figure size 432x288 with 1 Axes>"
      ]
     },
     "metadata": {
      "needs_background": "light"
     },
     "output_type": "display_data"
    },
    {
     "data": {
      "image/png": "[encoded data removed]",
      "text/plain": [
       "<Figure size 432x288 with 1 Axes>"
      ]
     },
     "metadata": {
      "needs_background": "light"
     },
     "output_type": "display_data"
    },
    {
     "data": {
      "image/png": "[encoded data removed]",
      "text/plain": [
       "<Figure size 432x288 with 1 Axes>"
      ]
     },
     "metadata": {
      "needs_background": "light"
     },
     "output_type": "display_data"
    },
    {
     "data": {
      "image/png": "[encoded data removed]",
      "text/plain": [
       "<Figure size 432x288 with 1 Axes>"
      ]
     },
     "metadata": {
      "needs_background": "light"
     },
     "output_type": "display_data"
    },
    {
     "data": {
      "image/png": "[encoded data removed]",
      "text/plain": [
       "<Figure size 432x288 with 1 Axes>"
      ]
     },
     "metadata": {
      "needs_background": "light"
     },
     "output_type": "display_data"
    },
    {
     "data": {
      "image/png": "[encoded data removed]",
      "text/plain": [
       "<Figure size 432x288 with 1 Axes>"
      ]
     },
     "metadata": {
      "needs_background": "light"
     },
     "output_type": "display_data"
    },
    {
     "data": {
      "image/png": "[encoded data removed]",
      "text/plain": [
       "<Figure size 432x288 with 1 Axes>"
      ]
     },
     "metadata": {
      "needs_background": "light"
     },
     "output_type": "display_data"
    },
    {
     "data": {
      "image/png": "[encoded data removed]",
      "text/plain": [
       "<Figure size 432x288 with 1 Axes>"
      ]
     },
     "metadata": {
      "needs_background": "light"
     },
     "output_type": "display_data"
    },
    {
     "data": {
      "image/png": "[encoded data removed]",
      "text/plain": [
       "<Figure size 432x288 with 1 Axes>"
      ]
     },
     "metadata": {
      "needs_background": "light"
     },
     "output_type": "display_data"
    },
    {
     "data": {
      "image/png": "[encoded data removed]",
      "text/plain": [
       "<Figure size 432x288 with 1 Axes>"
      ]
     },
     "metadata": {
      "needs_background": "light"
     },
     "output_type": "display_data"
    },
    {
     "data": {
      "image/png": "[encoded data removed]",
      "text/plain": [
       "<Figure size 432x288 with 1 Axes>"
      ]
     },
     "metadata": {
      "needs_background": "light"
     },
     "output_type": "display_data"
    },
    {
     "data": {
      "image/png": "[encoded data removed]",
      "text/plain": [
       "<Figure size 432x288 with 1 Axes>"
      ]
     },
     "metadata": {
      "needs_background": "light"
     },
     "output_type": "display_data"
    },
    {
     "data": {
      "image/png": "[encoded data removed]",
      "text/plain": [
       "<Figure size 432x288 with 1 Axes>"
      ]
     },
     "metadata": {
      "needs_background": "light"
     },
     "output_type": "display_data"
    },
    {
     "data": {
      "image/png": "[encoded data removed]",
      "text/plain": [
       "<Figure size 432x288 with 1 Axes>"
      ]
     },
     "metadata": {
      "needs_background": "light"
     },
     "output_type": "display_data"
    },
    {
     "data": {
      "image/png": "[encoded data removed]",
      "text/plain": [
       "<Figure size 432x288 with 1 Axes>"
      ]
     },
     "metadata": {
      "needs_background": "light"
     },
     "output_type": "display_data"
    },
    {
     "data": {
      "image/png": "[encoded data removed]",
      "text/plain": [
       "<Figure size 432x288 with 1 Axes>"
      ]
     },
     "metadata": {
      "needs_background": "light"
     },
     "output_type": "display_data"
    },
    {
     "data": {
      "image/png": "[encoded data removed]",
      "text/plain": [
       "<Figure size 432x288 with 1 Axes>"
      ]
     },
     "metadata": {
      "needs_background": "light"
     },
     "output_type": "display_data"
    },
    {
     "data": {
      "image/png": "[encoded data removed]",
      "text/plain": [
       "<Figure size 432x288 with 1 Axes>"
      ]
     },
     "metadata": {
      "needs_background": "light"
     },
     "output_type": "display_data"
    },
    {
     "data": {
      "image/png": "[encoded data removed]",
      "text/plain": [
       "<Figure size 432x288 with 1 Axes>"
      ]
     },
     "metadata": {
      "needs_background": "light"
     },
     "output_type": "display_data"
    },
    {
     "data": {
      "image/png": "[encoded data removed]",
      "text/plain": [
       "<Figure size 432x288 with 1 Axes>"
      ]
     },
     "metadata": {
      "needs_background": "light"
     },
     "output_type": "display_data"
    },
    {
     "data": {
      "image/png": "[encoded data removed]",
      "text/plain": [
       "<Figure size 432x288 with 1 Axes>"
      ]
     },
     "metadata": {
      "needs_background": "light"
     },
     "output_type": "display_data"
    },
    {
     "data": {
      "image/png": "[encoded data removed]",
      "text/plain": [
       "<Figure size 432x288 with 1 Axes>"
      ]
     },
     "metadata": {
      "needs_background": "light"
     },
     "output_type": "display_data"
    },
    {
     "data": {
      "image/png": "[encoded data removed]",
      "text/plain": [
       "<Figure size 432x288 with 1 Axes>"
      ]
     },
     "metadata": {
      "needs_background": "light"
     },
     "output_type": "display_data"
    },
    {
     "data": {
      "image/png": "[encoded data removed]",
      "text/plain": [
       "<Figure size 432x288 with 1 Axes>"
      ]
     },
     "metadata": {
      "needs_background": "light"
     },
     "output_type": "display_data"
    },
    {
     "data": {
      "image/png": "[encoded data removed]",
      "text/plain": [
       "<Figure size 432x288 with 1 Axes>"
      ]
     },
     "metadata": {
      "needs_background": "light"
     },
     "output_type": "display_data"
    },
    {
     "data": {
      "image/png": "[encoded data removed]",
      "text/plain": [
       "<Figure size 432x288 with 1 Axes>"
      ]
     },
     "metadata": {
      "needs_background": "light"
     },
     "output_type": "display_data"
    },
    {
     "data": {
      "image/png": "[encoded data removed]",
      "text/plain": [
       "<Figure size 432x288 with 1 Axes>"
      ]
     },
     "metadata": {
      "needs_background": "light"
     },
     "output_type": "display_data"
    },
    {
     "data": {
      "image/png": "[encoded data removed]",
      "text/plain": [
       "<Figure size 432x288 with 1 Axes>"
      ]
     },
     "metadata": {
      "needs_background": "light"
     },
     "output_type": "display_data"
    },
    {
     "data": {
      "image/png": "[encoded data removed]",
      "text/plain": [
       "<Figure size 432x288 with 1 Axes>"
      ]
     },
     "metadata": {
      "needs_background": "light"
     },
     "output_type": "display_data"
    },
    {
     "data": {
      "image/png": "[encoded data removed]",
      "text/plain": [
       "<Figure size 432x288 with 1 Axes>"
      ]
     },
     "metadata": {
      "needs_background": "light"
     },
     "output_type": "display_data"
    },
    {
     "data": {
      "image/png": "[encoded data removed]",
      "text/plain": [
       "<Figure size 432x288 with 1 Axes>"
      ]
     },
     "metadata": {
      "needs_background": "light"
     },
     "output_type": "display_data"
    },
    {
     "data": {
      "image/png": "[encoded data removed]",
      "text/plain": [
       "<Figure size 432x288 with 1 Axes>"
      ]
     },
     "metadata": {
      "needs_background": "light"
     },
     "output_type": "display_data"
    },
    {
     "data": {
      "image/png": "[encoded data removed]",
      "text/plain": [
       "<Figure size 432x288 with 1 Axes>"
      ]
     },
     "metadata": {
      "needs_background": "light"
     },
     "output_type": "display_data"
    },
    {
     "data": {
      "image/png": "[encoded data removed]",
      "text/plain": [
       "<Figure size 432x288 with 1 Axes>"
      ]
     },
     "metadata": {
      "needs_background": "light"
     },
     "output_type": "display_data"
    },
    {
     "data": {
      "image/png": "[encoded data removed]",
      "text/plain": [
       "<Figure size 432x288 with 1 Axes>"
      ]
     },
     "metadata": {
      "needs_background": "light"
     },
     "output_type": "display_data"
    },
    {
     "data": {
      "image/png": "[encoded data removed]",
      "text/plain": [
       "<Figure size 432x288 with 1 Axes>"
      ]
     },
     "metadata": {
      "needs_background": "light"
     },
     "output_type": "display_data"
    },
    {
     "data": {
      "image/png": "[encoded data removed]",
      "text/plain": [
       "<Figure size 432x288 with 1 Axes>"
      ]
     },
     "metadata": {
      "needs_background": "light"
     },
     "output_type": "display_data"
    },
    {
     "data": {
      "image/png": "[encoded data removed]",
      "text/plain": [
       "<Figure size 432x288 with 1 Axes>"
      ]
     },
     "metadata": {
      "needs_background": "light"
     },
     "output_type": "display_data"
    },
    {
     "data": {
      "image/png": "[encoded data removed]",
      "text/plain": [
       "<Figure size 432x288 with 1 Axes>"
      ]
     },
     "metadata": {
      "needs_background": "light"
     },
     "output_type": "display_data"
    },
    {
     "data": {
      "image/png": "[encoded data removed]",
      "text/plain": [
       "<Figure size 432x288 with 1 Axes>"
      ]
     },
     "metadata": {
      "needs_background": "light"
     },
     "output_type": "display_data"
    },
    {
     "data": {
      "image/png": "[encoded data removed]",
      "text/plain": [
       "<Figure size 432x288 with 1 Axes>"
      ]
     },
     "metadata": {
      "needs_background": "light"
     },
     "output_type": "display_data"
    },
    {
     "data": {
      "image/png": "[encoded data removed]",
      "text/plain": [
       "<Figure size 432x288 with 1 Axes>"
      ]
     },
     "metadata": {
      "needs_background": "light"
     },
     "output_type": "display_data"
    },
    {
     "data": {
      "image/png": "[encoded data removed]",
      "text/plain": [
       "<Figure size 432x288 with 1 Axes>"
      ]
     },
     "metadata": {
      "needs_background": "light"
     },
     "output_type": "display_data"
    },
    {
     "data": {
      "image/png": "[encoded data removed]",
      "text/plain": [
       "<Figure size 432x288 with 1 Axes>"
      ]
     },
     "metadata": {
      "needs_background": "light"
     },
     "output_type": "display_data"
    },
    {
     "data": {
      "image/png": "[encoded data removed]",
      "text/plain": [
       "<Figure size 432x288 with 1 Axes>"
      ]
     },
     "metadata": {
      "needs_background": "light"
     },
     "output_type": "display_data"
    },
    {
     "data": {
      "image/png": "[encoded data removed]",
      "text/plain": [
       "<Figure size 432x288 with 1 Axes>"
      ]
     },
     "metadata": {
      "needs_background": "light"
     },
     "output_type": "display_data"
    },
    {
     "data": {
      "image/png": "[encoded data removed]",
      "text/plain": [
       "<Figure size 432x288 with 1 Axes>"
      ]
     },
     "metadata": {
      "needs_background": "light"
     },
     "output_type": "display_data"
    },
    {
     "data": {
      "image/png": "[encoded data removed]",
      "text/plain": [
       "<Figure size 432x288 with 1 Axes>"
      ]
     },
     "metadata": {
      "needs_background": "light"
     },
     "output_type": "display_data"
    },
    {
     "data": {
      "image/png": "[encoded data removed]",
      "text/plain": [
       "<Figure size 432x288 with 1 Axes>"
      ]
     },
     "metadata": {
      "needs_background": "light"
     },
     "output_type": "display_data"
    },
    {
     "data": {
      "image/png": "[encoded data removed]",
      "text/plain": [
       "<Figure size 432x288 with 1 Axes>"
      ]
     },
     "metadata": {
      "needs_background": "light"
     },
     "output_type": "display_data"
    },
    {
     "data": {
      "image/png": "[encoded data removed]",
      "text/plain": [
       "<Figure size 432x288 with 1 Axes>"
      ]
     },
     "metadata": {
      "needs_background": "light"
     },
     "output_type": "display_data"
    },
    {
     "data": {
      "image/png": "[encoded data removed]",
      "text/plain": [
       "<Figure size 432x288 with 1 Axes>"
      ]
     },
     "metadata": {
      "needs_background": "light"
     },
     "output_type": "display_data"
    },
    {
     "data": {
      "image/png": "[encoded data removed]",
      "text/plain": [
       "<Figure size 432x288 with 1 Axes>"
      ]
     },
     "metadata": {
      "needs_background": "light"
     },
     "output_type": "display_data"
    },
    {
     "data": {
      "image/png": "[encoded data removed]",
      "text/plain": [
       "<Figure size 432x288 with 1 Axes>"
      ]
     },
     "metadata": {
      "needs_background": "light"
     },
     "output_type": "display_data"
    },
    {
     "data": {
      "image/png": "[encoded data removed]",
      "text/plain": [
       "<Figure size 432x288 with 1 Axes>"
      ]
     },
     "metadata": {
      "needs_background": "light"
     },
     "output_type": "display_data"
    },
    {
     "data": {
      "image/png": "[encoded data removed]",
      "text/plain": [
       "<Figure size 432x288 with 1 Axes>"
      ]
     },
     "metadata": {
      "needs_background": "light"
     },
     "output_type": "display_data"
    },
    {
     "data": {
      "image/png": "[encoded data removed]",
      "text/plain": [
       "<Figure size 432x288 with 1 Axes>"
      ]
     },
     "metadata": {
      "needs_background": "light"
     },
     "output_type": "display_data"
    },
    {
     "data": {
      "image/png": "[encoded data removed]",
      "text/plain": [
       "<Figure size 432x288 with 1 Axes>"
      ]
     },
     "metadata": {
      "needs_background": "light"
     },
     "output_type": "display_data"
    },
    {
     "data": {
      "image/png": "[encoded data removed]",
      "text/plain": [
       "<Figure size 432x288 with 1 Axes>"
      ]
     },
     "metadata": {
      "needs_background": "light"
     },
     "output_type": "display_data"
    }
   ],
   "source": [
    "for i, feature in enumerate(numeric.columns):\n",
    "#     print(feature)\n",
    "    plt.figure(i)\n",
    "    plt.title(feature)\n",
    "    df[feature].hist(bins=50)\n",
    "#     plt.axvline(x= value_of_outliers(feature) , color='r')\n",
    "\n",
    "#     (np.log1p(df[feature])).hist(bins = 50)"
   ]
  },
  {
   "cell_type": "code",
   "execution_count": 987,
   "metadata": {},
   "outputs": [],
   "source": [
    "outliers = df[(df.LotFrontage > 250) | (df.LotArea > 100000) | (df.MasVnrArea > 1400) | (df.BsmtFinSF1 > 3000) | \n",
    "   (df.TotalBsmtSF > 4500) | (df['1stFlrSF'] > 4000) | (df.WoodDeckSF > 1000) | (df.OpenPorchSF > 600) |\n",
    "  (df.EnclosedPorch > 600) | (df.ScreenPorch > 500) | (df.MiscVal> 12500) | (df.TotalSF > 9000)].index\n",
    "outliers = outliers[outliers< 1460]"
   ]
  },
  {
   "cell_type": "code",
   "execution_count": 988,
   "metadata": {},
   "outputs": [
    {
     "data": {
      "text/plain": [
       "Int64Index([250, 298, 314, 336, 347, 707, 935, 1299], dtype='int64', name='Id')"
      ]
     },
     "execution_count": 988,
     "metadata": {},
     "output_type": "execute_result"
    }
   ],
   "source": [
    "outliers"
   ]
  },
  {
   "cell_type": "code",
   "execution_count": 883,
   "metadata": {
    "scrolled": false
   },
   "outputs": [
    {
     "data": {
      "text/plain": [
       "MSSubClass               20\n",
       "MSZoning                  5\n",
       "LotFrontage            80.0\n",
       "LotArea               12772\n",
       "Street                    2\n",
       "                      ...  \n",
       "YearsSinceRemodel         9\n",
       "Remodeled                 1\n",
       "RecentRemodel             0\n",
       "ConstructArea        2217.0\n",
       "TotalPorchSF              0\n",
       "Name: 347, Length: 88, dtype: object"
      ]
     },
     "execution_count": 883,
     "metadata": {},
     "output_type": "execute_result"
    }
   ],
   "source": [
    "df.loc[347]"
   ]
  },
  {
   "cell_type": "code",
   "execution_count": 884,
   "metadata": {},
   "outputs": [
    {
     "data": {
      "text/plain": [
       "count      2917.000000\n",
       "mean      10096.735687\n",
       "std        7284.748925\n",
       "min        1300.000000\n",
       "25%        7476.000000\n",
       "50%        9452.000000\n",
       "75%       11556.000000\n",
       "max      215245.000000\n",
       "Name: LotArea, dtype: float64"
      ]
     },
     "execution_count": 884,
     "metadata": {},
     "output_type": "execute_result"
    }
   ],
   "source": [
    "df.LotArea.describe()"
   ]
  },
  {
   "cell_type": "code",
   "execution_count": 207,
   "metadata": {},
   "outputs": [
    {
     "data": {
      "text/plain": [
       "<AxesSubplot:>"
      ]
     },
     "execution_count": 207,
     "metadata": {},
     "output_type": "execute_result"
    },
    {
     "data": {
      "image/png": "[encoded data removed]",
      "text/plain": [
       "<Figure size 432x288 with 1 Axes>"
      ]
     },
     "metadata": {
      "needs_background": "light"
     },
     "output_type": "display_data"
    }
   ],
   "source": [
    "y.hist(bins=50)"
   ]
  },
  {
   "cell_type": "code",
   "execution_count": 152,
   "metadata": {},
   "outputs": [
    {
     "data": {
      "text/plain": [
       "Int64Index([198, 2504, 2568], dtype='int64', name='Id')"
      ]
     },
     "execution_count": 152,
     "metadata": {},
     "output_type": "execute_result"
    }
   ],
   "source": [
    "df[df.EnclosedPorch > 550].index"
   ]
  },
  {
   "cell_type": "code",
   "execution_count": 138,
   "metadata": {},
   "outputs": [
    {
     "data": {
      "text/plain": [
       "array([1183])"
      ]
     },
     "execution_count": 138,
     "metadata": {},
     "output_type": "execute_result"
    }
   ],
   "source": [
    "df[df['2FlrSF'] > 2000].index.values"
   ]
  },
  {
   "cell_type": "code",
   "execution_count": 989,
   "metadata": {},
   "outputs": [],
   "source": [
    "df = df.drop(outliers, axis=0)"
   ]
  },
  {
   "cell_type": "code",
   "execution_count": 658,
   "metadata": {},
   "outputs": [],
   "source": [
    "# df = df.drop(['SalePrice'], axis=1)"
   ]
  },
  {
   "cell_type": "markdown",
   "metadata": {},
   "source": [
    "## Fix skewness"
   ]
  },
  {
   "cell_type": "code",
   "execution_count": 990,
   "metadata": {
    "scrolled": true
   },
   "outputs": [
    {
     "data": {
      "text/plain": [
       "<AxesSubplot:>"
      ]
     },
     "execution_count": 990,
     "metadata": {},
     "output_type": "execute_result"
    },
    {
     "data": {
      "image/png": "[encoded data removed]",
      "text/plain": [
       "<Figure size 432x288 with 1 Axes>"
      ]
     },
     "metadata": {
      "needs_background": "light"
     },
     "output_type": "display_data"
    }
   ],
   "source": [
    "y = np.log1p(y)\n",
    "y.hist()"
   ]
  },
  {
   "cell_type": "code",
   "execution_count": 991,
   "metadata": {},
   "outputs": [],
   "source": [
    "from scipy.stats import norm, skew"
   ]
  },
  {
   "cell_type": "code",
   "execution_count": 992,
   "metadata": {
    "scrolled": true
   },
   "outputs": [
    {
     "data": {
      "text/plain": [
       "MiscVal              23.364557\n",
       "PoolQC               19.528606\n",
       "PoolArea             17.670290\n",
       "LowQualFinSF         12.071863\n",
       "3SsnPorch            11.360117\n",
       "KitchenAbvGr          4.295433\n",
       "BsmtFinSF2            4.157618\n",
       "Alley                 4.146986\n",
       "EnclosedPorch         3.997699\n",
       "ScreenPorch           3.953436\n",
       "BsmtHalfBath          3.939684\n",
       "LotArea               3.599715\n",
       "BsmtFinType2          3.160428\n",
       "RecentRemodel         3.061263\n",
       "OpenPorchSF           2.537602\n",
       "MasVnrArea            2.517533\n",
       "LotConfig             2.132372\n",
       "WoodDeckSF            1.835928\n",
       "Fence                 1.750436\n",
       "Neighborhood_Good     1.527648\n",
       "TotalPorchSF          1.379601\n",
       "MSSubClass            1.372688\n",
       "ExterCond             1.314260\n",
       "1stFlrSF              1.287039\n",
       "LotShape              1.235164\n",
       "ConstructArea         1.141828\n",
       "GrLivArea             1.133840\n",
       "BsmtExposure          1.123442\n",
       "TotalSF               1.087070\n",
       "BsmtFinSF1            0.996357\n",
       "BsmtUnfSF             0.916974\n",
       "2ndFlrSF              0.862443\n",
       "ExterQual             0.784207\n",
       "TotRmsAbvGrd          0.753408\n",
       "Fireplaces            0.726723\n",
       "BsmtQual             -1.268343\n",
       "MSZoning             -2.662490\n",
       "GarageQual           -3.258009\n",
       "GarageCond           -3.377328\n",
       "LandContour          -3.443042\n",
       "BsmtCond             -3.598307\n",
       "GarageYrBlt          -3.900484\n",
       "LandSlope            -4.975743\n",
       "Functional           -5.127660\n",
       "Street              -16.175295\n",
       "Utilities           -53.925878\n",
       "dtype: float64"
      ]
     },
     "execution_count": 992,
     "metadata": {},
     "output_type": "execute_result"
    }
   ],
   "source": [
    "numeric_feats = df.dtypes[df.dtypes != 'object'].index\n",
    "skewed_feats = df[numeric_feats].apply(lambda x: skew(x)).sort_values(ascending=False)\n",
    "high_skew = skewed_feats[abs(skewed_feats) > 0.7]\n",
    "high_skew.head(50)"
   ]
  },
  {
   "cell_type": "code",
   "execution_count": 826,
   "metadata": {},
   "outputs": [],
   "source": [
    "# highest_skew = skewed_feats[abs(skewed_feats) > 17].index\n",
    "# df = df.drop(highest_skew, axis=1)"
   ]
  },
  {
   "cell_type": "code",
   "execution_count": 993,
   "metadata": {},
   "outputs": [],
   "source": [
    "for feature in high_skew.index:\n",
    "    df[feature] = np.log1p(df[feature])"
   ]
  },
  {
   "cell_type": "code",
   "execution_count": 35,
   "metadata": {},
   "outputs": [
    {
     "name": "stderr",
     "output_type": "stream",
     "text": [
      "/Users/yulialysenko/opt/anaconda3/lib/python3.7/site-packages/ipykernel_launcher.py:2: RuntimeWarning: More than 20 figures have been opened. Figures created through the pyplot interface (`matplotlib.pyplot.figure`) are retained until explicitly closed and may consume too much memory. (To control this warning, see the rcParam `figure.max_open_warning`).\n",
      "  \n"
     ]
    },
    {
     "data": {
      "image/png": "[encoded data removed]",
      "text/plain": [
       "<Figure size 432x288 with 1 Axes>"
      ]
     },
     "metadata": {
      "needs_background": "light"
     },
     "output_type": "display_data"
    },
    {
     "data": {
      "image/png": "[encoded data removed]",
      "text/plain": [
       "<Figure size 432x288 with 1 Axes>"
      ]
     },
     "metadata": {
      "needs_background": "light"
     },
     "output_type": "display_data"
    },
    {
     "data": {
      "image/png": "[encoded data removed]",
      "text/plain": [
       "<Figure size 432x288 with 1 Axes>"
      ]
     },
     "metadata": {
      "needs_background": "light"
     },
     "output_type": "display_data"
    },
    {
     "data": {
      "image/png": "[encoded data removed]",
      "text/plain": [
       "<Figure size 432x288 with 1 Axes>"
      ]
     },
     "metadata": {
      "needs_background": "light"
     },
     "output_type": "display_data"
    },
    {
     "data": {
      "image/png": "[encoded data removed]",
      "text/plain": [
       "<Figure size 432x288 with 1 Axes>"
      ]
     },
     "metadata": {
      "needs_background": "light"
     },
     "output_type": "display_data"
    },
    {
     "data": {
      "image/png": "[encoded data removed]",
      "text/plain": [
       "<Figure size 432x288 with 1 Axes>"
      ]
     },
     "metadata": {
      "needs_background": "light"
     },
     "output_type": "display_data"
    },
    {
     "data": {
      "image/png": "[encoded data removed]",
      "text/plain": [
       "<Figure size 432x288 with 1 Axes>"
      ]
     },
     "metadata": {
      "needs_background": "light"
     },
     "output_type": "display_data"
    },
    {
     "data": {
      "image/png": "[encoded data removed]",
      "text/plain": [
       "<Figure size 432x288 with 1 Axes>"
      ]
     },
     "metadata": {
      "needs_background": "light"
     },
     "output_type": "display_data"
    },
    {
     "data": {
      "image/png": "[encoded data removed]",
      "text/plain": [
       "<Figure size 432x288 with 1 Axes>"
      ]
     },
     "metadata": {
      "needs_background": "light"
     },
     "output_type": "display_data"
    },
    {
     "data": {
      "image/png": "[encoded data removed]",
      "text/plain": [
       "<Figure size 432x288 with 1 Axes>"
      ]
     },
     "metadata": {
      "needs_background": "light"
     },
     "output_type": "display_data"
    },
    {
     "data": {
      "image/png": "[encoded data removed]",
      "text/plain": [
       "<Figure size 432x288 with 1 Axes>"
      ]
     },
     "metadata": {
      "needs_background": "light"
     },
     "output_type": "display_data"
    },
    {
     "data": {
      "image/png": "[encoded data removed]",
      "text/plain": [
       "<Figure size 432x288 with 1 Axes>"
      ]
     },
     "metadata": {
      "needs_background": "light"
     },
     "output_type": "display_data"
    },
    {
     "data": {
      "image/png": "[encoded data removed]",
      "text/plain": [
       "<Figure size 432x288 with 1 Axes>"
      ]
     },
     "metadata": {
      "needs_background": "light"
     },
     "output_type": "display_data"
    },
    {
     "data": {
      "image/png": "[encoded data removed]",
      "text/plain": [
       "<Figure size 432x288 with 1 Axes>"
      ]
     },
     "metadata": {
      "needs_background": "light"
     },
     "output_type": "display_data"
    },
    {
     "data": {
      "image/png": "[encoded data removed]",
      "text/plain": [
       "<Figure size 432x288 with 1 Axes>"
      ]
     },
     "metadata": {
      "needs_background": "light"
     },
     "output_type": "display_data"
    },
    {
     "data": {
      "image/png": "[encoded data removed]",
      "text/plain": [
       "<Figure size 432x288 with 1 Axes>"
      ]
     },
     "metadata": {
      "needs_background": "light"
     },
     "output_type": "display_data"
    },
    {
     "data": {
      "image/png": "[encoded data removed]",
      "text/plain": [
       "<Figure size 432x288 with 1 Axes>"
      ]
     },
     "metadata": {
      "needs_background": "light"
     },
     "output_type": "display_data"
    },
    {
     "data": {
      "image/png": "[encoded data removed]",
      "text/plain": [
       "<Figure size 432x288 with 1 Axes>"
      ]
     },
     "metadata": {
      "needs_background": "light"
     },
     "output_type": "display_data"
    },
    {
     "data": {
      "image/png": "[encoded data removed]",
      "text/plain": [
       "<Figure size 432x288 with 1 Axes>"
      ]
     },
     "metadata": {
      "needs_background": "light"
     },
     "output_type": "display_data"
    },
    {
     "data": {
      "image/png": "[encoded data removed]",
      "text/plain": [
       "<Figure size 432x288 with 1 Axes>"
      ]
     },
     "metadata": {
      "needs_background": "light"
     },
     "output_type": "display_data"
    },
    {
     "data": {
      "image/png": "[encoded data removed]",
      "text/plain": [
       "<Figure size 432x288 with 1 Axes>"
      ]
     },
     "metadata": {
      "needs_background": "light"
     },
     "output_type": "display_data"
    },
    {
     "data": {
      "image/png": "[encoded data removed]",
      "text/plain": [
       "<Figure size 432x288 with 1 Axes>"
      ]
     },
     "metadata": {
      "needs_background": "light"
     },
     "output_type": "display_data"
    },
    {
     "data": {
      "image/png": "[encoded data removed]",
      "text/plain": [
       "<Figure size 432x288 with 1 Axes>"
      ]
     },
     "metadata": {
      "needs_background": "light"
     },
     "output_type": "display_data"
    },
    {
     "data": {
      "image/png": "[encoded data removed]",
      "text/plain": [
       "<Figure size 432x288 with 1 Axes>"
      ]
     },
     "metadata": {
      "needs_background": "light"
     },
     "output_type": "display_data"
    },
    {
     "data": {
      "image/png": "[encoded data removed]",
      "text/plain": [
       "<Figure size 432x288 with 1 Axes>"
      ]
     },
     "metadata": {
      "needs_background": "light"
     },
     "output_type": "display_data"
    },
    {
     "data": {
      "image/png": "[encoded data removed]",
      "text/plain": [
       "<Figure size 432x288 with 1 Axes>"
      ]
     },
     "metadata": {
      "needs_background": "light"
     },
     "output_type": "display_data"
    },
    {
     "data": {
      "image/png": "[encoded data removed]",
      "text/plain": [
       "<Figure size 432x288 with 1 Axes>"
      ]
     },
     "metadata": {
      "needs_background": "light"
     },
     "output_type": "display_data"
    }
   ],
   "source": [
    "# for i, feature in enumerate(high_skew.index):\n",
    "#     plt.figure(i)\n",
    "#     plt.title(feature)\n",
    "#     (np.log1p(df[feature])).hist(bins = 50)\n",
    "#     (df[feature]).hist(bins = 50, density = False)\n",
    "\n",
    "# for feature in high_skew[:5].index:\n",
    "#     matplotlib.pyplot.subplot(nrows, ncols, r) \n",
    "#     plt.hist() \n",
    "    \n",
    "#     (np.log1p(df[feature])).hist()"
   ]
  },
  {
   "cell_type": "code",
   "execution_count": null,
   "metadata": {},
   "outputs": [],
   "source": []
  },
  {
   "cell_type": "code",
   "execution_count": null,
   "metadata": {},
   "outputs": [],
   "source": []
  },
  {
   "cell_type": "markdown",
   "metadata": {},
   "source": [
    "### Delete variables with low correlation with the price"
   ]
  },
  {
   "cell_type": "code",
   "execution_count": 43,
   "metadata": {},
   "outputs": [],
   "source": [
    "corr = df.corrwith(y)#[\"SalePrice\"]"
   ]
  },
  {
   "cell_type": "code",
   "execution_count": 44,
   "metadata": {
    "scrolled": true
   },
   "outputs": [
    {
     "data": {
      "text/plain": [
       "MSSubClass     -0.020279\n",
       "OverallCond    -0.036868\n",
       "BsmtFinSF2     -0.030361\n",
       "BsmtHalfBath   -0.004890\n",
       "YrSold         -0.037263\n",
       "dtype: float64"
      ]
     },
     "execution_count": 44,
     "metadata": {},
     "output_type": "execute_result"
    }
   ],
   "source": [
    "corr[abs(corr) < 0.05]"
   ]
  },
  {
   "cell_type": "code",
   "execution_count": 45,
   "metadata": {},
   "outputs": [],
   "source": [
    "low_corr = corr[abs(corr) < 0.05].index#[\"LowQualFinSF\", \"MiscVal\", \"YrSold\", \"OverallCond\"]"
   ]
  },
  {
   "cell_type": "code",
   "execution_count": 46,
   "metadata": {},
   "outputs": [],
   "source": [
    "df = df.drop(low_corr, axis=1)"
   ]
  },
  {
   "cell_type": "markdown",
   "metadata": {},
   "source": [
    "## Adding categorical columns"
   ]
  },
  {
   "cell_type": "code",
   "execution_count": 994,
   "metadata": {},
   "outputs": [],
   "source": [
    "df = pd.get_dummies(df)\n"
   ]
  },
  {
   "cell_type": "code",
   "execution_count": 995,
   "metadata": {},
   "outputs": [
    {
     "data": {
      "text/html": [
       "<div>\n",
       "<style scoped>\n",
       "    .dataframe tbody tr th:only-of-type {\n",
       "        vertical-align: middle;\n",
       "    }\n",
       "\n",
       "    .dataframe tbody tr th {\n",
       "        vertical-align: top;\n",
       "    }\n",
       "\n",
       "    .dataframe thead th {\n",
       "        text-align: right;\n",
       "    }\n",
       "</style>\n",
       "<table border=\"1\" class=\"dataframe\">\n",
       "  <thead>\n",
       "    <tr style=\"text-align: right;\">\n",
       "      <th></th>\n",
       "      <th>MSSubClass</th>\n",
       "      <th>MSZoning</th>\n",
       "      <th>LotFrontage</th>\n",
       "      <th>LotArea</th>\n",
       "      <th>Street</th>\n",
       "      <th>Alley</th>\n",
       "      <th>LotShape</th>\n",
       "      <th>LandContour</th>\n",
       "      <th>Utilities</th>\n",
       "      <th>LotConfig</th>\n",
       "      <th>...</th>\n",
       "      <th>SaleType_ConLw</th>\n",
       "      <th>SaleType_New</th>\n",
       "      <th>SaleType_Oth</th>\n",
       "      <th>SaleType_WD</th>\n",
       "      <th>SaleCondition_Abnorml</th>\n",
       "      <th>SaleCondition_AdjLand</th>\n",
       "      <th>SaleCondition_Alloca</th>\n",
       "      <th>SaleCondition_Family</th>\n",
       "      <th>SaleCondition_Normal</th>\n",
       "      <th>SaleCondition_Partial</th>\n",
       "    </tr>\n",
       "    <tr>\n",
       "      <th>Id</th>\n",
       "      <th></th>\n",
       "      <th></th>\n",
       "      <th></th>\n",
       "      <th></th>\n",
       "      <th></th>\n",
       "      <th></th>\n",
       "      <th></th>\n",
       "      <th></th>\n",
       "      <th></th>\n",
       "      <th></th>\n",
       "      <th></th>\n",
       "      <th></th>\n",
       "      <th></th>\n",
       "      <th></th>\n",
       "      <th></th>\n",
       "      <th></th>\n",
       "      <th></th>\n",
       "      <th></th>\n",
       "      <th></th>\n",
       "      <th></th>\n",
       "      <th></th>\n",
       "    </tr>\n",
       "  </thead>\n",
       "  <tbody>\n",
       "    <tr>\n",
       "      <th>1</th>\n",
       "      <td>4.110874</td>\n",
       "      <td>1.791759</td>\n",
       "      <td>65.0</td>\n",
       "      <td>9.042040</td>\n",
       "      <td>1.098612</td>\n",
       "      <td>0.0</td>\n",
       "      <td>0.693147</td>\n",
       "      <td>1.609438</td>\n",
       "      <td>1.609438</td>\n",
       "      <td>0.693147</td>\n",
       "      <td>...</td>\n",
       "      <td>0</td>\n",
       "      <td>0</td>\n",
       "      <td>0</td>\n",
       "      <td>1</td>\n",
       "      <td>0</td>\n",
       "      <td>0</td>\n",
       "      <td>0</td>\n",
       "      <td>0</td>\n",
       "      <td>1</td>\n",
       "      <td>0</td>\n",
       "    </tr>\n",
       "    <tr>\n",
       "      <th>2</th>\n",
       "      <td>3.044522</td>\n",
       "      <td>1.791759</td>\n",
       "      <td>80.0</td>\n",
       "      <td>9.169623</td>\n",
       "      <td>1.098612</td>\n",
       "      <td>0.0</td>\n",
       "      <td>0.693147</td>\n",
       "      <td>1.609438</td>\n",
       "      <td>1.609438</td>\n",
       "      <td>1.609438</td>\n",
       "      <td>...</td>\n",
       "      <td>0</td>\n",
       "      <td>0</td>\n",
       "      <td>0</td>\n",
       "      <td>1</td>\n",
       "      <td>0</td>\n",
       "      <td>0</td>\n",
       "      <td>0</td>\n",
       "      <td>0</td>\n",
       "      <td>1</td>\n",
       "      <td>0</td>\n",
       "    </tr>\n",
       "    <tr>\n",
       "      <th>3</th>\n",
       "      <td>4.110874</td>\n",
       "      <td>1.791759</td>\n",
       "      <td>68.0</td>\n",
       "      <td>9.328212</td>\n",
       "      <td>1.098612</td>\n",
       "      <td>0.0</td>\n",
       "      <td>1.098612</td>\n",
       "      <td>1.609438</td>\n",
       "      <td>1.609438</td>\n",
       "      <td>0.693147</td>\n",
       "      <td>...</td>\n",
       "      <td>0</td>\n",
       "      <td>0</td>\n",
       "      <td>0</td>\n",
       "      <td>1</td>\n",
       "      <td>0</td>\n",
       "      <td>0</td>\n",
       "      <td>0</td>\n",
       "      <td>0</td>\n",
       "      <td>1</td>\n",
       "      <td>0</td>\n",
       "    </tr>\n",
       "    <tr>\n",
       "      <th>4</th>\n",
       "      <td>4.262680</td>\n",
       "      <td>1.791759</td>\n",
       "      <td>60.0</td>\n",
       "      <td>9.164401</td>\n",
       "      <td>1.098612</td>\n",
       "      <td>0.0</td>\n",
       "      <td>1.098612</td>\n",
       "      <td>1.609438</td>\n",
       "      <td>1.609438</td>\n",
       "      <td>1.098612</td>\n",
       "      <td>...</td>\n",
       "      <td>0</td>\n",
       "      <td>0</td>\n",
       "      <td>0</td>\n",
       "      <td>1</td>\n",
       "      <td>1</td>\n",
       "      <td>0</td>\n",
       "      <td>0</td>\n",
       "      <td>0</td>\n",
       "      <td>0</td>\n",
       "      <td>0</td>\n",
       "    </tr>\n",
       "    <tr>\n",
       "      <th>5</th>\n",
       "      <td>4.110874</td>\n",
       "      <td>1.791759</td>\n",
       "      <td>84.0</td>\n",
       "      <td>9.565284</td>\n",
       "      <td>1.098612</td>\n",
       "      <td>0.0</td>\n",
       "      <td>1.098612</td>\n",
       "      <td>1.609438</td>\n",
       "      <td>1.609438</td>\n",
       "      <td>1.609438</td>\n",
       "      <td>...</td>\n",
       "      <td>0</td>\n",
       "      <td>0</td>\n",
       "      <td>0</td>\n",
       "      <td>1</td>\n",
       "      <td>0</td>\n",
       "      <td>0</td>\n",
       "      <td>0</td>\n",
       "      <td>0</td>\n",
       "      <td>1</td>\n",
       "      <td>0</td>\n",
       "    </tr>\n",
       "  </tbody>\n",
       "</table>\n",
       "<p>5 rows × 218 columns</p>\n",
       "</div>"
      ],
      "text/plain": [
       "    MSSubClass  MSZoning  LotFrontage   LotArea    Street  Alley  LotShape  \\\n",
       "Id                                                                           \n",
       "1     4.110874  1.791759         65.0  9.042040  1.098612    0.0  0.693147   \n",
       "2     3.044522  1.791759         80.0  9.169623  1.098612    0.0  0.693147   \n",
       "3     4.110874  1.791759         68.0  9.328212  1.098612    0.0  1.098612   \n",
       "4     4.262680  1.791759         60.0  9.164401  1.098612    0.0  1.098612   \n",
       "5     4.110874  1.791759         84.0  9.565284  1.098612    0.0  1.098612   \n",
       "\n",
       "    LandContour  Utilities  LotConfig  ...  SaleType_ConLw  SaleType_New  \\\n",
       "Id                                     ...                                 \n",
       "1      1.609438   1.609438   0.693147  ...               0             0   \n",
       "2      1.609438   1.609438   1.609438  ...               0             0   \n",
       "3      1.609438   1.609438   0.693147  ...               0             0   \n",
       "4      1.609438   1.609438   1.098612  ...               0             0   \n",
       "5      1.609438   1.609438   1.609438  ...               0             0   \n",
       "\n",
       "    SaleType_Oth  SaleType_WD  SaleCondition_Abnorml  SaleCondition_AdjLand  \\\n",
       "Id                                                                            \n",
       "1              0            1                      0                      0   \n",
       "2              0            1                      0                      0   \n",
       "3              0            1                      0                      0   \n",
       "4              0            1                      1                      0   \n",
       "5              0            1                      0                      0   \n",
       "\n",
       "    SaleCondition_Alloca  SaleCondition_Family  SaleCondition_Normal  \\\n",
       "Id                                                                     \n",
       "1                      0                     0                     1   \n",
       "2                      0                     0                     1   \n",
       "3                      0                     0                     1   \n",
       "4                      0                     0                     0   \n",
       "5                      0                     0                     1   \n",
       "\n",
       "    SaleCondition_Partial  \n",
       "Id                         \n",
       "1                       0  \n",
       "2                       0  \n",
       "3                       0  \n",
       "4                       0  \n",
       "5                       0  \n",
       "\n",
       "[5 rows x 218 columns]"
      ]
     },
     "execution_count": 995,
     "metadata": {},
     "output_type": "execute_result"
    }
   ],
   "source": [
    "df.head()"
   ]
  },
  {
   "cell_type": "markdown",
   "metadata": {},
   "source": [
    "### Divide into train and test"
   ]
  },
  {
   "cell_type": "code",
   "execution_count": 996,
   "metadata": {},
   "outputs": [],
   "source": [
    "train = df[:len(train_data)-len(outliers)]\n",
    "test = df[len(train_data)-len(outliers):]"
   ]
  },
  {
   "cell_type": "code",
   "execution_count": 997,
   "metadata": {},
   "outputs": [
    {
     "name": "stdout",
     "output_type": "stream",
     "text": [
      "(1452, 218) (1459, 218) (1460, 80)\n"
     ]
    }
   ],
   "source": [
    "print(train.shape, test.shape, train_data.shape)"
   ]
  },
  {
   "cell_type": "code",
   "execution_count": 998,
   "metadata": {},
   "outputs": [],
   "source": [
    "X = train"
   ]
  },
  {
   "cell_type": "code",
   "execution_count": 999,
   "metadata": {},
   "outputs": [],
   "source": [
    "y = y.drop(outliers)"
   ]
  },
  {
   "cell_type": "code",
   "execution_count": 803,
   "metadata": {},
   "outputs": [],
   "source": [
    "# y = train_data.SalePrice\n",
    "# X = train_data.drop([\"SalePrice\"], axis=1)\n",
    "# X = pd.get_dummies(X)"
   ]
  },
  {
   "cell_type": "markdown",
   "metadata": {},
   "source": [
    "## Training"
   ]
  },
  {
   "cell_type": "code",
   "execution_count": 1000,
   "metadata": {},
   "outputs": [],
   "source": [
    "X_train, X_test, y_train, y_test = train_test_split(X, y, test_size=0.33, random_state=42)"
   ]
  },
  {
   "cell_type": "code",
   "execution_count": 1001,
   "metadata": {
    "scrolled": true
   },
   "outputs": [
    {
     "data": {
      "text/html": [
       "<div>\n",
       "<style scoped>\n",
       "    .dataframe tbody tr th:only-of-type {\n",
       "        vertical-align: middle;\n",
       "    }\n",
       "\n",
       "    .dataframe tbody tr th {\n",
       "        vertical-align: top;\n",
       "    }\n",
       "\n",
       "    .dataframe thead th {\n",
       "        text-align: right;\n",
       "    }\n",
       "</style>\n",
       "<table border=\"1\" class=\"dataframe\">\n",
       "  <thead>\n",
       "    <tr style=\"text-align: right;\">\n",
       "      <th></th>\n",
       "      <th>MSSubClass</th>\n",
       "      <th>MSZoning</th>\n",
       "      <th>LotFrontage</th>\n",
       "      <th>LotArea</th>\n",
       "      <th>Street</th>\n",
       "      <th>Alley</th>\n",
       "      <th>LotShape</th>\n",
       "      <th>LandContour</th>\n",
       "      <th>Utilities</th>\n",
       "      <th>LotConfig</th>\n",
       "      <th>...</th>\n",
       "      <th>SaleType_ConLw</th>\n",
       "      <th>SaleType_New</th>\n",
       "      <th>SaleType_Oth</th>\n",
       "      <th>SaleType_WD</th>\n",
       "      <th>SaleCondition_Abnorml</th>\n",
       "      <th>SaleCondition_AdjLand</th>\n",
       "      <th>SaleCondition_Alloca</th>\n",
       "      <th>SaleCondition_Family</th>\n",
       "      <th>SaleCondition_Normal</th>\n",
       "      <th>SaleCondition_Partial</th>\n",
       "    </tr>\n",
       "    <tr>\n",
       "      <th>Id</th>\n",
       "      <th></th>\n",
       "      <th></th>\n",
       "      <th></th>\n",
       "      <th></th>\n",
       "      <th></th>\n",
       "      <th></th>\n",
       "      <th></th>\n",
       "      <th></th>\n",
       "      <th></th>\n",
       "      <th></th>\n",
       "      <th></th>\n",
       "      <th></th>\n",
       "      <th></th>\n",
       "      <th></th>\n",
       "      <th></th>\n",
       "      <th></th>\n",
       "      <th></th>\n",
       "      <th></th>\n",
       "      <th></th>\n",
       "      <th></th>\n",
       "      <th></th>\n",
       "    </tr>\n",
       "  </thead>\n",
       "  <tbody>\n",
       "    <tr>\n",
       "      <th>1044</th>\n",
       "      <td>4.110874</td>\n",
       "      <td>1.791759</td>\n",
       "      <td>86.0</td>\n",
       "      <td>9.379239</td>\n",
       "      <td>1.098612</td>\n",
       "      <td>0.0</td>\n",
       "      <td>0.693147</td>\n",
       "      <td>1.609438</td>\n",
       "      <td>1.609438</td>\n",
       "      <td>0.693147</td>\n",
       "      <td>...</td>\n",
       "      <td>0</td>\n",
       "      <td>0</td>\n",
       "      <td>0</td>\n",
       "      <td>1</td>\n",
       "      <td>0</td>\n",
       "      <td>0</td>\n",
       "      <td>0</td>\n",
       "      <td>0</td>\n",
       "      <td>1</td>\n",
       "      <td>0</td>\n",
       "    </tr>\n",
       "    <tr>\n",
       "      <th>1132</th>\n",
       "      <td>3.044522</td>\n",
       "      <td>1.791759</td>\n",
       "      <td>63.0</td>\n",
       "      <td>9.279213</td>\n",
       "      <td>1.098612</td>\n",
       "      <td>0.0</td>\n",
       "      <td>0.693147</td>\n",
       "      <td>1.609438</td>\n",
       "      <td>1.609438</td>\n",
       "      <td>0.693147</td>\n",
       "      <td>...</td>\n",
       "      <td>0</td>\n",
       "      <td>0</td>\n",
       "      <td>1</td>\n",
       "      <td>0</td>\n",
       "      <td>1</td>\n",
       "      <td>0</td>\n",
       "      <td>0</td>\n",
       "      <td>0</td>\n",
       "      <td>0</td>\n",
       "      <td>0</td>\n",
       "    </tr>\n",
       "    <tr>\n",
       "      <th>1005</th>\n",
       "      <td>4.795791</td>\n",
       "      <td>1.791759</td>\n",
       "      <td>43.0</td>\n",
       "      <td>8.065579</td>\n",
       "      <td>1.098612</td>\n",
       "      <td>0.0</td>\n",
       "      <td>0.693147</td>\n",
       "      <td>1.609438</td>\n",
       "      <td>1.609438</td>\n",
       "      <td>0.693147</td>\n",
       "      <td>...</td>\n",
       "      <td>0</td>\n",
       "      <td>0</td>\n",
       "      <td>0</td>\n",
       "      <td>1</td>\n",
       "      <td>0</td>\n",
       "      <td>0</td>\n",
       "      <td>0</td>\n",
       "      <td>0</td>\n",
       "      <td>1</td>\n",
       "      <td>0</td>\n",
       "    </tr>\n",
       "    <tr>\n",
       "      <th>1325</th>\n",
       "      <td>3.044522</td>\n",
       "      <td>1.791759</td>\n",
       "      <td>75.0</td>\n",
       "      <td>9.209040</td>\n",
       "      <td>1.098612</td>\n",
       "      <td>0.0</td>\n",
       "      <td>0.693147</td>\n",
       "      <td>1.609438</td>\n",
       "      <td>1.609438</td>\n",
       "      <td>0.693147</td>\n",
       "      <td>...</td>\n",
       "      <td>0</td>\n",
       "      <td>1</td>\n",
       "      <td>0</td>\n",
       "      <td>0</td>\n",
       "      <td>0</td>\n",
       "      <td>0</td>\n",
       "      <td>0</td>\n",
       "      <td>0</td>\n",
       "      <td>0</td>\n",
       "      <td>1</td>\n",
       "    </tr>\n",
       "    <tr>\n",
       "      <th>535</th>\n",
       "      <td>4.110874</td>\n",
       "      <td>1.791759</td>\n",
       "      <td>74.0</td>\n",
       "      <td>9.111293</td>\n",
       "      <td>1.098612</td>\n",
       "      <td>0.0</td>\n",
       "      <td>1.098612</td>\n",
       "      <td>1.609438</td>\n",
       "      <td>1.609438</td>\n",
       "      <td>0.693147</td>\n",
       "      <td>...</td>\n",
       "      <td>0</td>\n",
       "      <td>0</td>\n",
       "      <td>0</td>\n",
       "      <td>1</td>\n",
       "      <td>0</td>\n",
       "      <td>0</td>\n",
       "      <td>0</td>\n",
       "      <td>0</td>\n",
       "      <td>1</td>\n",
       "      <td>0</td>\n",
       "    </tr>\n",
       "  </tbody>\n",
       "</table>\n",
       "<p>5 rows × 218 columns</p>\n",
       "</div>"
      ],
      "text/plain": [
       "      MSSubClass  MSZoning  LotFrontage   LotArea    Street  Alley  LotShape  \\\n",
       "Id                                                                             \n",
       "1044    4.110874  1.791759         86.0  9.379239  1.098612    0.0  0.693147   \n",
       "1132    3.044522  1.791759         63.0  9.279213  1.098612    0.0  0.693147   \n",
       "1005    4.795791  1.791759         43.0  8.065579  1.098612    0.0  0.693147   \n",
       "1325    3.044522  1.791759         75.0  9.209040  1.098612    0.0  0.693147   \n",
       "535     4.110874  1.791759         74.0  9.111293  1.098612    0.0  1.098612   \n",
       "\n",
       "      LandContour  Utilities  LotConfig  ...  SaleType_ConLw  SaleType_New  \\\n",
       "Id                                       ...                                 \n",
       "1044     1.609438   1.609438   0.693147  ...               0             0   \n",
       "1132     1.609438   1.609438   0.693147  ...               0             0   \n",
       "1005     1.609438   1.609438   0.693147  ...               0             0   \n",
       "1325     1.609438   1.609438   0.693147  ...               0             1   \n",
       "535      1.609438   1.609438   0.693147  ...               0             0   \n",
       "\n",
       "      SaleType_Oth  SaleType_WD  SaleCondition_Abnorml  SaleCondition_AdjLand  \\\n",
       "Id                                                                              \n",
       "1044             0            1                      0                      0   \n",
       "1132             1            0                      1                      0   \n",
       "1005             0            1                      0                      0   \n",
       "1325             0            0                      0                      0   \n",
       "535              0            1                      0                      0   \n",
       "\n",
       "      SaleCondition_Alloca  SaleCondition_Family  SaleCondition_Normal  \\\n",
       "Id                                                                       \n",
       "1044                     0                     0                     1   \n",
       "1132                     0                     0                     0   \n",
       "1005                     0                     0                     1   \n",
       "1325                     0                     0                     0   \n",
       "535                      0                     0                     1   \n",
       "\n",
       "      SaleCondition_Partial  \n",
       "Id                           \n",
       "1044                      0  \n",
       "1132                      0  \n",
       "1005                      0  \n",
       "1325                      1  \n",
       "535                       0  \n",
       "\n",
       "[5 rows x 218 columns]"
      ]
     },
     "execution_count": 1001,
     "metadata": {},
     "output_type": "execute_result"
    }
   ],
   "source": [
    "X_test.head()"
   ]
  },
  {
   "cell_type": "code",
   "execution_count": 1002,
   "metadata": {},
   "outputs": [],
   "source": [
    "from sklearn.ensemble import RandomForestRegressor\n",
    "from sklearn.model_selection import GridSearchCV"
   ]
  },
  {
   "cell_type": "code",
   "execution_count": 1003,
   "metadata": {},
   "outputs": [],
   "source": [
    "rf = RandomForestRegressor()\n",
    "rf.fit(X_train, y_train)\n",
    "prediction_rf = rf.predict(X_test)\n"
   ]
  },
  {
   "cell_type": "code",
   "execution_count": 1004,
   "metadata": {},
   "outputs": [],
   "source": [
    "from catboost import CatBoostRegressor"
   ]
  },
  {
   "cell_type": "code",
   "execution_count": 1005,
   "metadata": {},
   "outputs": [
    {
     "name": "stdout",
     "output_type": "stream",
     "text": [
      "Learning rate set to 0.038833\n",
      "0:\tlearn: 0.3868212\ttotal: 7.03ms\tremaining: 7.03s\n",
      "1:\tlearn: 0.3769486\ttotal: 12.3ms\tremaining: 6.13s\n",
      "2:\tlearn: 0.3680312\ttotal: 17.9ms\tremaining: 5.93s\n",
      "3:\tlearn: 0.3587980\ttotal: 23.6ms\tremaining: 5.87s\n",
      "4:\tlearn: 0.3494601\ttotal: 28.6ms\tremaining: 5.69s\n",
      "5:\tlearn: 0.3412289\ttotal: 35.5ms\tremaining: 5.88s\n",
      "6:\tlearn: 0.3326783\ttotal: 40.9ms\tremaining: 5.8s\n",
      "7:\tlearn: 0.3244995\ttotal: 46.4ms\tremaining: 5.76s\n",
      "8:\tlearn: 0.3169576\ttotal: 51.5ms\tremaining: 5.67s\n",
      "9:\tlearn: 0.3100234\ttotal: 55.4ms\tremaining: 5.48s\n",
      "10:\tlearn: 0.3024176\ttotal: 63.7ms\tremaining: 5.72s\n",
      "11:\tlearn: 0.2955971\ttotal: 68ms\tremaining: 5.6s\n",
      "12:\tlearn: 0.2892909\ttotal: 72.1ms\tremaining: 5.47s\n",
      "13:\tlearn: 0.2823531\ttotal: 76.1ms\tremaining: 5.36s\n",
      "14:\tlearn: 0.2764851\ttotal: 79.7ms\tremaining: 5.23s\n",
      "15:\tlearn: 0.2712968\ttotal: 83.3ms\tremaining: 5.12s\n",
      "16:\tlearn: 0.2656038\ttotal: 86.9ms\tremaining: 5.03s\n",
      "17:\tlearn: 0.2600061\ttotal: 90.7ms\tremaining: 4.95s\n",
      "18:\tlearn: 0.2547254\ttotal: 94.4ms\tremaining: 4.87s\n",
      "19:\tlearn: 0.2497720\ttotal: 98ms\tremaining: 4.8s\n",
      "20:\tlearn: 0.2446913\ttotal: 102ms\tremaining: 4.74s\n",
      "21:\tlearn: 0.2395491\ttotal: 105ms\tremaining: 4.68s\n",
      "22:\tlearn: 0.2349029\ttotal: 109ms\tremaining: 4.64s\n",
      "23:\tlearn: 0.2306239\ttotal: 113ms\tremaining: 4.59s\n",
      "24:\tlearn: 0.2262270\ttotal: 118ms\tremaining: 4.58s\n",
      "25:\tlearn: 0.2222708\ttotal: 122ms\tremaining: 4.58s\n",
      "26:\tlearn: 0.2184852\ttotal: 129ms\tremaining: 4.64s\n",
      "27:\tlearn: 0.2150507\ttotal: 135ms\tremaining: 4.69s\n",
      "28:\tlearn: 0.2112662\ttotal: 140ms\tremaining: 4.69s\n",
      "29:\tlearn: 0.2076698\ttotal: 145ms\tremaining: 4.69s\n",
      "30:\tlearn: 0.2039821\ttotal: 150ms\tremaining: 4.69s\n",
      "31:\tlearn: 0.2010594\ttotal: 156ms\tremaining: 4.71s\n",
      "32:\tlearn: 0.1980984\ttotal: 161ms\tremaining: 4.71s\n",
      "33:\tlearn: 0.1951047\ttotal: 166ms\tremaining: 4.71s\n",
      "34:\tlearn: 0.1922183\ttotal: 171ms\tremaining: 4.71s\n",
      "35:\tlearn: 0.1894612\ttotal: 177ms\tremaining: 4.73s\n",
      "36:\tlearn: 0.1866666\ttotal: 181ms\tremaining: 4.72s\n",
      "37:\tlearn: 0.1840570\ttotal: 188ms\tremaining: 4.75s\n",
      "38:\tlearn: 0.1812554\ttotal: 193ms\tremaining: 4.75s\n",
      "39:\tlearn: 0.1790113\ttotal: 198ms\tremaining: 4.76s\n",
      "40:\tlearn: 0.1766908\ttotal: 203ms\tremaining: 4.75s\n",
      "41:\tlearn: 0.1743654\ttotal: 208ms\tremaining: 4.75s\n",
      "42:\tlearn: 0.1720979\ttotal: 213ms\tremaining: 4.75s\n",
      "43:\tlearn: 0.1700852\ttotal: 219ms\tremaining: 4.77s\n",
      "44:\tlearn: 0.1681964\ttotal: 227ms\tremaining: 4.82s\n",
      "45:\tlearn: 0.1661488\ttotal: 235ms\tremaining: 4.86s\n",
      "46:\tlearn: 0.1642409\ttotal: 243ms\tremaining: 4.92s\n",
      "47:\tlearn: 0.1624504\ttotal: 250ms\tremaining: 4.97s\n",
      "48:\tlearn: 0.1605455\ttotal: 257ms\tremaining: 4.98s\n",
      "49:\tlearn: 0.1589049\ttotal: 263ms\tremaining: 5s\n",
      "50:\tlearn: 0.1572243\ttotal: 269ms\tremaining: 5s\n",
      "51:\tlearn: 0.1555264\ttotal: 274ms\tremaining: 5s\n",
      "52:\tlearn: 0.1540718\ttotal: 280ms\tremaining: 5s\n",
      "53:\tlearn: 0.1527099\ttotal: 287ms\tremaining: 5.03s\n",
      "54:\tlearn: 0.1514160\ttotal: 294ms\tremaining: 5.05s\n",
      "55:\tlearn: 0.1500422\ttotal: 299ms\tremaining: 5.04s\n",
      "56:\tlearn: 0.1486304\ttotal: 304ms\tremaining: 5.03s\n",
      "57:\tlearn: 0.1473917\ttotal: 311ms\tremaining: 5.04s\n",
      "58:\tlearn: 0.1460996\ttotal: 316ms\tremaining: 5.04s\n",
      "59:\tlearn: 0.1448727\ttotal: 320ms\tremaining: 5.02s\n",
      "60:\tlearn: 0.1436353\ttotal: 326ms\tremaining: 5.01s\n",
      "61:\tlearn: 0.1425523\ttotal: 332ms\tremaining: 5.02s\n",
      "62:\tlearn: 0.1414413\ttotal: 336ms\tremaining: 5s\n",
      "63:\tlearn: 0.1404124\ttotal: 341ms\tremaining: 4.99s\n",
      "64:\tlearn: 0.1394678\ttotal: 346ms\tremaining: 4.98s\n",
      "65:\tlearn: 0.1384888\ttotal: 351ms\tremaining: 4.97s\n",
      "66:\tlearn: 0.1374928\ttotal: 356ms\tremaining: 4.95s\n",
      "67:\tlearn: 0.1365774\ttotal: 359ms\tremaining: 4.93s\n",
      "68:\tlearn: 0.1356992\ttotal: 364ms\tremaining: 4.91s\n",
      "69:\tlearn: 0.1347916\ttotal: 368ms\tremaining: 4.89s\n",
      "70:\tlearn: 0.1339652\ttotal: 372ms\tremaining: 4.86s\n",
      "71:\tlearn: 0.1331914\ttotal: 376ms\tremaining: 4.85s\n",
      "72:\tlearn: 0.1324201\ttotal: 381ms\tremaining: 4.84s\n",
      "73:\tlearn: 0.1316509\ttotal: 386ms\tremaining: 4.83s\n",
      "74:\tlearn: 0.1307546\ttotal: 391ms\tremaining: 4.82s\n",
      "75:\tlearn: 0.1298147\ttotal: 396ms\tremaining: 4.81s\n",
      "76:\tlearn: 0.1291539\ttotal: 401ms\tremaining: 4.81s\n",
      "77:\tlearn: 0.1285280\ttotal: 406ms\tremaining: 4.8s\n",
      "78:\tlearn: 0.1278324\ttotal: 411ms\tremaining: 4.79s\n",
      "79:\tlearn: 0.1273247\ttotal: 416ms\tremaining: 4.79s\n",
      "80:\tlearn: 0.1266125\ttotal: 422ms\tremaining: 4.78s\n",
      "81:\tlearn: 0.1259448\ttotal: 426ms\tremaining: 4.77s\n",
      "82:\tlearn: 0.1252689\ttotal: 432ms\tremaining: 4.77s\n",
      "83:\tlearn: 0.1246915\ttotal: 439ms\tremaining: 4.79s\n",
      "84:\tlearn: 0.1240090\ttotal: 445ms\tremaining: 4.79s\n",
      "85:\tlearn: 0.1234238\ttotal: 450ms\tremaining: 4.78s\n",
      "86:\tlearn: 0.1229070\ttotal: 455ms\tremaining: 4.77s\n",
      "87:\tlearn: 0.1223090\ttotal: 459ms\tremaining: 4.76s\n",
      "88:\tlearn: 0.1217235\ttotal: 463ms\tremaining: 4.74s\n",
      "89:\tlearn: 0.1211707\ttotal: 467ms\tremaining: 4.73s\n",
      "90:\tlearn: 0.1207507\ttotal: 472ms\tremaining: 4.71s\n",
      "91:\tlearn: 0.1202906\ttotal: 478ms\tremaining: 4.71s\n",
      "92:\tlearn: 0.1199429\ttotal: 482ms\tremaining: 4.7s\n",
      "93:\tlearn: 0.1194122\ttotal: 486ms\tremaining: 4.68s\n",
      "94:\tlearn: 0.1190249\ttotal: 490ms\tremaining: 4.67s\n",
      "95:\tlearn: 0.1185804\ttotal: 494ms\tremaining: 4.65s\n",
      "96:\tlearn: 0.1179955\ttotal: 498ms\tremaining: 4.63s\n",
      "97:\tlearn: 0.1176948\ttotal: 501ms\tremaining: 4.61s\n",
      "98:\tlearn: 0.1173500\ttotal: 505ms\tremaining: 4.59s\n",
      "99:\tlearn: 0.1169026\ttotal: 509ms\tremaining: 4.58s\n",
      "100:\tlearn: 0.1165233\ttotal: 512ms\tremaining: 4.56s\n",
      "101:\tlearn: 0.1162132\ttotal: 516ms\tremaining: 4.54s\n",
      "102:\tlearn: 0.1158441\ttotal: 519ms\tremaining: 4.52s\n",
      "103:\tlearn: 0.1154760\ttotal: 523ms\tremaining: 4.5s\n",
      "104:\tlearn: 0.1151760\ttotal: 527ms\tremaining: 4.49s\n",
      "105:\tlearn: 0.1148525\ttotal: 530ms\tremaining: 4.47s\n",
      "106:\tlearn: 0.1143907\ttotal: 534ms\tremaining: 4.46s\n",
      "107:\tlearn: 0.1141129\ttotal: 538ms\tremaining: 4.44s\n",
      "108:\tlearn: 0.1137030\ttotal: 541ms\tremaining: 4.42s\n",
      "109:\tlearn: 0.1135694\ttotal: 545ms\tremaining: 4.41s\n",
      "110:\tlearn: 0.1131226\ttotal: 548ms\tremaining: 4.39s\n",
      "111:\tlearn: 0.1130069\ttotal: 552ms\tremaining: 4.38s\n",
      "112:\tlearn: 0.1127156\ttotal: 556ms\tremaining: 4.36s\n",
      "113:\tlearn: 0.1122812\ttotal: 559ms\tremaining: 4.35s\n",
      "114:\tlearn: 0.1120517\ttotal: 563ms\tremaining: 4.33s\n",
      "115:\tlearn: 0.1117241\ttotal: 568ms\tremaining: 4.33s\n",
      "116:\tlearn: 0.1115358\ttotal: 573ms\tremaining: 4.32s\n",
      "117:\tlearn: 0.1112286\ttotal: 577ms\tremaining: 4.32s\n",
      "118:\tlearn: 0.1111207\ttotal: 583ms\tremaining: 4.31s\n",
      "119:\tlearn: 0.1107619\ttotal: 588ms\tremaining: 4.31s\n",
      "120:\tlearn: 0.1104585\ttotal: 593ms\tremaining: 4.3s\n",
      "121:\tlearn: 0.1101108\ttotal: 598ms\tremaining: 4.3s\n",
      "122:\tlearn: 0.1098487\ttotal: 603ms\tremaining: 4.3s\n",
      "123:\tlearn: 0.1094839\ttotal: 607ms\tremaining: 4.29s\n",
      "124:\tlearn: 0.1092224\ttotal: 612ms\tremaining: 4.29s\n",
      "125:\tlearn: 0.1087806\ttotal: 617ms\tremaining: 4.28s\n",
      "126:\tlearn: 0.1085603\ttotal: 622ms\tremaining: 4.28s\n",
      "127:\tlearn: 0.1083402\ttotal: 631ms\tremaining: 4.3s\n",
      "128:\tlearn: 0.1080646\ttotal: 638ms\tremaining: 4.31s\n",
      "129:\tlearn: 0.1078098\ttotal: 644ms\tremaining: 4.31s\n",
      "130:\tlearn: 0.1075032\ttotal: 649ms\tremaining: 4.3s\n",
      "131:\tlearn: 0.1073186\ttotal: 655ms\tremaining: 4.3s\n",
      "132:\tlearn: 0.1070621\ttotal: 660ms\tremaining: 4.3s\n",
      "133:\tlearn: 0.1067334\ttotal: 669ms\tremaining: 4.32s\n",
      "134:\tlearn: 0.1066031\ttotal: 674ms\tremaining: 4.32s\n",
      "135:\tlearn: 0.1062871\ttotal: 679ms\tremaining: 4.31s\n",
      "136:\tlearn: 0.1060305\ttotal: 684ms\tremaining: 4.31s\n",
      "137:\tlearn: 0.1058731\ttotal: 688ms\tremaining: 4.3s\n",
      "138:\tlearn: 0.1055929\ttotal: 693ms\tremaining: 4.29s\n",
      "139:\tlearn: 0.1053382\ttotal: 699ms\tremaining: 4.29s\n",
      "140:\tlearn: 0.1050977\ttotal: 705ms\tremaining: 4.29s\n",
      "141:\tlearn: 0.1049134\ttotal: 710ms\tremaining: 4.29s\n",
      "142:\tlearn: 0.1046547\ttotal: 715ms\tremaining: 4.29s\n",
      "143:\tlearn: 0.1044071\ttotal: 719ms\tremaining: 4.28s\n",
      "144:\tlearn: 0.1041536\ttotal: 724ms\tremaining: 4.27s\n",
      "145:\tlearn: 0.1039423\ttotal: 728ms\tremaining: 4.26s\n",
      "146:\tlearn: 0.1037833\ttotal: 735ms\tremaining: 4.26s\n",
      "147:\tlearn: 0.1035646\ttotal: 739ms\tremaining: 4.25s\n",
      "148:\tlearn: 0.1033103\ttotal: 744ms\tremaining: 4.25s\n",
      "149:\tlearn: 0.1030159\ttotal: 751ms\tremaining: 4.26s\n",
      "150:\tlearn: 0.1028044\ttotal: 759ms\tremaining: 4.26s\n",
      "151:\tlearn: 0.1027488\ttotal: 767ms\tremaining: 4.28s\n",
      "152:\tlearn: 0.1024687\ttotal: 772ms\tremaining: 4.27s\n",
      "153:\tlearn: 0.1021301\ttotal: 777ms\tremaining: 4.27s\n",
      "154:\tlearn: 0.1019737\ttotal: 782ms\tremaining: 4.26s\n",
      "155:\tlearn: 0.1017336\ttotal: 787ms\tremaining: 4.26s\n",
      "156:\tlearn: 0.1015221\ttotal: 792ms\tremaining: 4.25s\n",
      "157:\tlearn: 0.1012537\ttotal: 797ms\tremaining: 4.25s\n",
      "158:\tlearn: 0.1011104\ttotal: 802ms\tremaining: 4.24s\n",
      "159:\tlearn: 0.1008943\ttotal: 806ms\tremaining: 4.23s\n",
      "160:\tlearn: 0.1006475\ttotal: 812ms\tremaining: 4.23s\n",
      "161:\tlearn: 0.1004598\ttotal: 817ms\tremaining: 4.22s\n",
      "162:\tlearn: 0.1002786\ttotal: 822ms\tremaining: 4.22s\n",
      "163:\tlearn: 0.1001184\ttotal: 827ms\tremaining: 4.21s\n",
      "164:\tlearn: 0.0998488\ttotal: 832ms\tremaining: 4.21s\n",
      "165:\tlearn: 0.0996498\ttotal: 838ms\tremaining: 4.21s\n",
      "166:\tlearn: 0.0993615\ttotal: 846ms\tremaining: 4.22s\n",
      "167:\tlearn: 0.0990689\ttotal: 851ms\tremaining: 4.21s\n",
      "168:\tlearn: 0.0988954\ttotal: 856ms\tremaining: 4.21s\n",
      "169:\tlearn: 0.0987214\ttotal: 861ms\tremaining: 4.2s\n",
      "170:\tlearn: 0.0984748\ttotal: 867ms\tremaining: 4.2s\n",
      "171:\tlearn: 0.0982494\ttotal: 875ms\tremaining: 4.21s\n",
      "172:\tlearn: 0.0979921\ttotal: 881ms\tremaining: 4.21s\n",
      "173:\tlearn: 0.0977478\ttotal: 886ms\tremaining: 4.2s\n",
      "174:\tlearn: 0.0975968\ttotal: 890ms\tremaining: 4.2s\n",
      "175:\tlearn: 0.0975336\ttotal: 895ms\tremaining: 4.19s\n",
      "176:\tlearn: 0.0973619\ttotal: 900ms\tremaining: 4.18s\n",
      "177:\tlearn: 0.0971807\ttotal: 905ms\tremaining: 4.18s\n",
      "178:\tlearn: 0.0971190\ttotal: 911ms\tremaining: 4.18s\n",
      "179:\tlearn: 0.0970077\ttotal: 915ms\tremaining: 4.17s\n",
      "180:\tlearn: 0.0968121\ttotal: 918ms\tremaining: 4.16s\n",
      "181:\tlearn: 0.0966331\ttotal: 923ms\tremaining: 4.15s\n",
      "182:\tlearn: 0.0965540\ttotal: 926ms\tremaining: 4.13s\n",
      "183:\tlearn: 0.0963743\ttotal: 930ms\tremaining: 4.12s\n",
      "184:\tlearn: 0.0962119\ttotal: 933ms\tremaining: 4.11s\n",
      "185:\tlearn: 0.0960020\ttotal: 937ms\tremaining: 4.1s\n",
      "186:\tlearn: 0.0958814\ttotal: 941ms\tremaining: 4.09s\n",
      "187:\tlearn: 0.0956993\ttotal: 944ms\tremaining: 4.08s\n"
     ]
    },
    {
     "name": "stdout",
     "output_type": "stream",
     "text": [
      "188:\tlearn: 0.0955988\ttotal: 949ms\tremaining: 4.07s\n",
      "189:\tlearn: 0.0954047\ttotal: 953ms\tremaining: 4.06s\n",
      "190:\tlearn: 0.0952529\ttotal: 957ms\tremaining: 4.05s\n",
      "191:\tlearn: 0.0950462\ttotal: 961ms\tremaining: 4.04s\n",
      "192:\tlearn: 0.0948596\ttotal: 964ms\tremaining: 4.03s\n",
      "193:\tlearn: 0.0947595\ttotal: 969ms\tremaining: 4.02s\n",
      "194:\tlearn: 0.0946465\ttotal: 974ms\tremaining: 4.02s\n",
      "195:\tlearn: 0.0944345\ttotal: 979ms\tremaining: 4.01s\n",
      "196:\tlearn: 0.0943134\ttotal: 984ms\tremaining: 4.01s\n",
      "197:\tlearn: 0.0940125\ttotal: 988ms\tremaining: 4s\n",
      "198:\tlearn: 0.0939287\ttotal: 993ms\tremaining: 4s\n",
      "199:\tlearn: 0.0937293\ttotal: 1000ms\tremaining: 4s\n",
      "200:\tlearn: 0.0935237\ttotal: 1.01s\tremaining: 4.01s\n",
      "201:\tlearn: 0.0933692\ttotal: 1.03s\tremaining: 4.06s\n",
      "202:\tlearn: 0.0932351\ttotal: 1.04s\tremaining: 4.08s\n",
      "203:\tlearn: 0.0931309\ttotal: 1.04s\tremaining: 4.07s\n",
      "204:\tlearn: 0.0930462\ttotal: 1.04s\tremaining: 4.06s\n",
      "205:\tlearn: 0.0929787\ttotal: 1.05s\tremaining: 4.05s\n",
      "206:\tlearn: 0.0926923\ttotal: 1.05s\tremaining: 4.04s\n",
      "207:\tlearn: 0.0924452\ttotal: 1.06s\tremaining: 4.03s\n",
      "208:\tlearn: 0.0922087\ttotal: 1.06s\tremaining: 4.02s\n",
      "209:\tlearn: 0.0920110\ttotal: 1.06s\tremaining: 4.01s\n",
      "210:\tlearn: 0.0918845\ttotal: 1.07s\tremaining: 4s\n",
      "211:\tlearn: 0.0916376\ttotal: 1.07s\tremaining: 3.99s\n",
      "212:\tlearn: 0.0915386\ttotal: 1.08s\tremaining: 3.98s\n",
      "213:\tlearn: 0.0912202\ttotal: 1.08s\tremaining: 3.97s\n",
      "214:\tlearn: 0.0910888\ttotal: 1.08s\tremaining: 3.96s\n",
      "215:\tlearn: 0.0910341\ttotal: 1.09s\tremaining: 3.95s\n",
      "216:\tlearn: 0.0909656\ttotal: 1.09s\tremaining: 3.94s\n",
      "217:\tlearn: 0.0908041\ttotal: 1.1s\tremaining: 3.93s\n",
      "218:\tlearn: 0.0906075\ttotal: 1.1s\tremaining: 3.92s\n",
      "219:\tlearn: 0.0904372\ttotal: 1.1s\tremaining: 3.92s\n",
      "220:\tlearn: 0.0902343\ttotal: 1.11s\tremaining: 3.91s\n",
      "221:\tlearn: 0.0899778\ttotal: 1.11s\tremaining: 3.9s\n",
      "222:\tlearn: 0.0898449\ttotal: 1.11s\tremaining: 3.88s\n",
      "223:\tlearn: 0.0896184\ttotal: 1.12s\tremaining: 3.87s\n",
      "224:\tlearn: 0.0894496\ttotal: 1.12s\tremaining: 3.86s\n",
      "225:\tlearn: 0.0892787\ttotal: 1.13s\tremaining: 3.85s\n",
      "226:\tlearn: 0.0891524\ttotal: 1.13s\tremaining: 3.85s\n",
      "227:\tlearn: 0.0890871\ttotal: 1.14s\tremaining: 3.85s\n",
      "228:\tlearn: 0.0890025\ttotal: 1.14s\tremaining: 3.85s\n",
      "229:\tlearn: 0.0889555\ttotal: 1.15s\tremaining: 3.85s\n",
      "230:\tlearn: 0.0887979\ttotal: 1.16s\tremaining: 3.86s\n",
      "231:\tlearn: 0.0887216\ttotal: 1.17s\tremaining: 3.89s\n",
      "232:\tlearn: 0.0885588\ttotal: 1.18s\tremaining: 3.9s\n",
      "233:\tlearn: 0.0884390\ttotal: 1.19s\tremaining: 3.9s\n",
      "234:\tlearn: 0.0884040\ttotal: 1.2s\tremaining: 3.91s\n",
      "235:\tlearn: 0.0882965\ttotal: 1.21s\tremaining: 3.91s\n",
      "236:\tlearn: 0.0880648\ttotal: 1.22s\tremaining: 3.92s\n",
      "237:\tlearn: 0.0880084\ttotal: 1.22s\tremaining: 3.92s\n",
      "238:\tlearn: 0.0878275\ttotal: 1.23s\tremaining: 3.92s\n",
      "239:\tlearn: 0.0876121\ttotal: 1.24s\tremaining: 3.91s\n",
      "240:\tlearn: 0.0875589\ttotal: 1.24s\tremaining: 3.91s\n",
      "241:\tlearn: 0.0874579\ttotal: 1.25s\tremaining: 3.91s\n",
      "242:\tlearn: 0.0872911\ttotal: 1.25s\tremaining: 3.9s\n",
      "243:\tlearn: 0.0870511\ttotal: 1.25s\tremaining: 3.89s\n",
      "244:\tlearn: 0.0870161\ttotal: 1.26s\tremaining: 3.88s\n",
      "245:\tlearn: 0.0867354\ttotal: 1.26s\tremaining: 3.87s\n",
      "246:\tlearn: 0.0865444\ttotal: 1.27s\tremaining: 3.86s\n",
      "247:\tlearn: 0.0863748\ttotal: 1.27s\tremaining: 3.85s\n",
      "248:\tlearn: 0.0862371\ttotal: 1.27s\tremaining: 3.84s\n",
      "249:\tlearn: 0.0860305\ttotal: 1.28s\tremaining: 3.83s\n",
      "250:\tlearn: 0.0858373\ttotal: 1.28s\tremaining: 3.82s\n",
      "251:\tlearn: 0.0857585\ttotal: 1.28s\tremaining: 3.81s\n",
      "252:\tlearn: 0.0856824\ttotal: 1.29s\tremaining: 3.81s\n",
      "253:\tlearn: 0.0855993\ttotal: 1.29s\tremaining: 3.8s\n",
      "254:\tlearn: 0.0854992\ttotal: 1.3s\tremaining: 3.8s\n",
      "255:\tlearn: 0.0852892\ttotal: 1.3s\tremaining: 3.79s\n",
      "256:\tlearn: 0.0850890\ttotal: 1.31s\tremaining: 3.79s\n",
      "257:\tlearn: 0.0849868\ttotal: 1.32s\tremaining: 3.79s\n",
      "258:\tlearn: 0.0849139\ttotal: 1.32s\tremaining: 3.78s\n",
      "259:\tlearn: 0.0847844\ttotal: 1.32s\tremaining: 3.77s\n",
      "260:\tlearn: 0.0846036\ttotal: 1.33s\tremaining: 3.76s\n",
      "261:\tlearn: 0.0844010\ttotal: 1.33s\tremaining: 3.76s\n",
      "262:\tlearn: 0.0841690\ttotal: 1.34s\tremaining: 3.75s\n",
      "263:\tlearn: 0.0839795\ttotal: 1.34s\tremaining: 3.75s\n",
      "264:\tlearn: 0.0836838\ttotal: 1.35s\tremaining: 3.74s\n",
      "265:\tlearn: 0.0835070\ttotal: 1.35s\tremaining: 3.73s\n",
      "266:\tlearn: 0.0832648\ttotal: 1.36s\tremaining: 3.73s\n",
      "267:\tlearn: 0.0830801\ttotal: 1.36s\tremaining: 3.73s\n",
      "268:\tlearn: 0.0829122\ttotal: 1.37s\tremaining: 3.72s\n",
      "269:\tlearn: 0.0827784\ttotal: 1.37s\tremaining: 3.72s\n",
      "270:\tlearn: 0.0825999\ttotal: 1.38s\tremaining: 3.71s\n",
      "271:\tlearn: 0.0824252\ttotal: 1.39s\tremaining: 3.71s\n",
      "272:\tlearn: 0.0822636\ttotal: 1.39s\tremaining: 3.7s\n",
      "273:\tlearn: 0.0820900\ttotal: 1.39s\tremaining: 3.7s\n",
      "274:\tlearn: 0.0819150\ttotal: 1.4s\tremaining: 3.69s\n",
      "275:\tlearn: 0.0817628\ttotal: 1.4s\tremaining: 3.68s\n",
      "276:\tlearn: 0.0815685\ttotal: 1.41s\tremaining: 3.67s\n",
      "277:\tlearn: 0.0814300\ttotal: 1.41s\tremaining: 3.67s\n",
      "278:\tlearn: 0.0812738\ttotal: 1.42s\tremaining: 3.66s\n",
      "279:\tlearn: 0.0811346\ttotal: 1.42s\tremaining: 3.65s\n",
      "280:\tlearn: 0.0809665\ttotal: 1.43s\tremaining: 3.65s\n",
      "281:\tlearn: 0.0808468\ttotal: 1.43s\tremaining: 3.64s\n",
      "282:\tlearn: 0.0807490\ttotal: 1.44s\tremaining: 3.64s\n",
      "283:\tlearn: 0.0805869\ttotal: 1.44s\tremaining: 3.63s\n",
      "284:\tlearn: 0.0804313\ttotal: 1.45s\tremaining: 3.63s\n",
      "285:\tlearn: 0.0804010\ttotal: 1.45s\tremaining: 3.62s\n",
      "286:\tlearn: 0.0802769\ttotal: 1.46s\tremaining: 3.62s\n",
      "287:\tlearn: 0.0802513\ttotal: 1.46s\tremaining: 3.61s\n",
      "288:\tlearn: 0.0800867\ttotal: 1.47s\tremaining: 3.6s\n",
      "289:\tlearn: 0.0799355\ttotal: 1.47s\tremaining: 3.6s\n",
      "290:\tlearn: 0.0798201\ttotal: 1.48s\tremaining: 3.6s\n",
      "291:\tlearn: 0.0796616\ttotal: 1.48s\tremaining: 3.59s\n",
      "292:\tlearn: 0.0794857\ttotal: 1.49s\tremaining: 3.59s\n",
      "293:\tlearn: 0.0794450\ttotal: 1.49s\tremaining: 3.58s\n",
      "294:\tlearn: 0.0794179\ttotal: 1.5s\tremaining: 3.58s\n",
      "295:\tlearn: 0.0792937\ttotal: 1.5s\tremaining: 3.57s\n",
      "296:\tlearn: 0.0790607\ttotal: 1.51s\tremaining: 3.57s\n",
      "297:\tlearn: 0.0789131\ttotal: 1.51s\tremaining: 3.56s\n",
      "298:\tlearn: 0.0788136\ttotal: 1.52s\tremaining: 3.56s\n",
      "299:\tlearn: 0.0786466\ttotal: 1.53s\tremaining: 3.56s\n",
      "300:\tlearn: 0.0785028\ttotal: 1.53s\tremaining: 3.56s\n",
      "301:\tlearn: 0.0783906\ttotal: 1.54s\tremaining: 3.56s\n",
      "302:\tlearn: 0.0782633\ttotal: 1.54s\tremaining: 3.55s\n",
      "303:\tlearn: 0.0781504\ttotal: 1.55s\tremaining: 3.55s\n",
      "304:\tlearn: 0.0780441\ttotal: 1.55s\tremaining: 3.54s\n",
      "305:\tlearn: 0.0778834\ttotal: 1.56s\tremaining: 3.54s\n",
      "306:\tlearn: 0.0777279\ttotal: 1.57s\tremaining: 3.54s\n",
      "307:\tlearn: 0.0776053\ttotal: 1.57s\tremaining: 3.54s\n",
      "308:\tlearn: 0.0775732\ttotal: 1.58s\tremaining: 3.53s\n",
      "309:\tlearn: 0.0774210\ttotal: 1.59s\tremaining: 3.53s\n",
      "310:\tlearn: 0.0773981\ttotal: 1.59s\tremaining: 3.52s\n",
      "311:\tlearn: 0.0772560\ttotal: 1.6s\tremaining: 3.52s\n",
      "312:\tlearn: 0.0770981\ttotal: 1.6s\tremaining: 3.51s\n",
      "313:\tlearn: 0.0769166\ttotal: 1.6s\tremaining: 3.51s\n",
      "314:\tlearn: 0.0767668\ttotal: 1.61s\tremaining: 3.5s\n",
      "315:\tlearn: 0.0767440\ttotal: 1.61s\tremaining: 3.5s\n",
      "316:\tlearn: 0.0766426\ttotal: 1.62s\tremaining: 3.49s\n",
      "317:\tlearn: 0.0764700\ttotal: 1.62s\tremaining: 3.48s\n",
      "318:\tlearn: 0.0763416\ttotal: 1.63s\tremaining: 3.48s\n",
      "319:\tlearn: 0.0761519\ttotal: 1.64s\tremaining: 3.48s\n",
      "320:\tlearn: 0.0760417\ttotal: 1.64s\tremaining: 3.47s\n",
      "321:\tlearn: 0.0758777\ttotal: 1.65s\tremaining: 3.47s\n",
      "322:\tlearn: 0.0758544\ttotal: 1.65s\tremaining: 3.46s\n",
      "323:\tlearn: 0.0757012\ttotal: 1.66s\tremaining: 3.46s\n",
      "324:\tlearn: 0.0755571\ttotal: 1.66s\tremaining: 3.45s\n",
      "325:\tlearn: 0.0755071\ttotal: 1.67s\tremaining: 3.44s\n",
      "326:\tlearn: 0.0754086\ttotal: 1.67s\tremaining: 3.44s\n",
      "327:\tlearn: 0.0752956\ttotal: 1.68s\tremaining: 3.43s\n",
      "328:\tlearn: 0.0752750\ttotal: 1.68s\tremaining: 3.43s\n",
      "329:\tlearn: 0.0750444\ttotal: 1.68s\tremaining: 3.42s\n",
      "330:\tlearn: 0.0750265\ttotal: 1.69s\tremaining: 3.41s\n",
      "331:\tlearn: 0.0748953\ttotal: 1.69s\tremaining: 3.41s\n",
      "332:\tlearn: 0.0747614\ttotal: 1.7s\tremaining: 3.4s\n",
      "333:\tlearn: 0.0746256\ttotal: 1.7s\tremaining: 3.39s\n",
      "334:\tlearn: 0.0744846\ttotal: 1.71s\tremaining: 3.39s\n",
      "335:\tlearn: 0.0743689\ttotal: 1.71s\tremaining: 3.38s\n",
      "336:\tlearn: 0.0742225\ttotal: 1.72s\tremaining: 3.38s\n",
      "337:\tlearn: 0.0741156\ttotal: 1.72s\tremaining: 3.37s\n",
      "338:\tlearn: 0.0739752\ttotal: 1.73s\tremaining: 3.37s\n",
      "339:\tlearn: 0.0739580\ttotal: 1.73s\tremaining: 3.36s\n",
      "340:\tlearn: 0.0738596\ttotal: 1.74s\tremaining: 3.36s\n",
      "341:\tlearn: 0.0737049\ttotal: 1.75s\tremaining: 3.36s\n",
      "342:\tlearn: 0.0735528\ttotal: 1.75s\tremaining: 3.35s\n",
      "343:\tlearn: 0.0734182\ttotal: 1.76s\tremaining: 3.35s\n",
      "344:\tlearn: 0.0732975\ttotal: 1.76s\tremaining: 3.34s\n",
      "345:\tlearn: 0.0731296\ttotal: 1.77s\tremaining: 3.34s\n",
      "346:\tlearn: 0.0730717\ttotal: 1.77s\tremaining: 3.33s\n",
      "347:\tlearn: 0.0729644\ttotal: 1.77s\tremaining: 3.33s\n",
      "348:\tlearn: 0.0728210\ttotal: 1.78s\tremaining: 3.32s\n",
      "349:\tlearn: 0.0727663\ttotal: 1.78s\tremaining: 3.31s\n",
      "350:\tlearn: 0.0726557\ttotal: 1.79s\tremaining: 3.31s\n",
      "351:\tlearn: 0.0725041\ttotal: 1.79s\tremaining: 3.3s\n",
      "352:\tlearn: 0.0723715\ttotal: 1.8s\tremaining: 3.3s\n",
      "353:\tlearn: 0.0722629\ttotal: 1.8s\tremaining: 3.29s\n",
      "354:\tlearn: 0.0721238\ttotal: 1.81s\tremaining: 3.28s\n",
      "355:\tlearn: 0.0720526\ttotal: 1.81s\tremaining: 3.28s\n",
      "356:\tlearn: 0.0720361\ttotal: 1.82s\tremaining: 3.27s\n",
      "357:\tlearn: 0.0719340\ttotal: 1.82s\tremaining: 3.26s\n",
      "358:\tlearn: 0.0718369\ttotal: 1.82s\tremaining: 3.26s\n",
      "359:\tlearn: 0.0716971\ttotal: 1.83s\tremaining: 3.25s\n",
      "360:\tlearn: 0.0715914\ttotal: 1.83s\tremaining: 3.25s\n",
      "361:\tlearn: 0.0714950\ttotal: 1.84s\tremaining: 3.24s\n",
      "362:\tlearn: 0.0713673\ttotal: 1.84s\tremaining: 3.23s\n",
      "363:\tlearn: 0.0712480\ttotal: 1.85s\tremaining: 3.23s\n",
      "364:\tlearn: 0.0711751\ttotal: 1.85s\tremaining: 3.22s\n",
      "365:\tlearn: 0.0711084\ttotal: 1.85s\tremaining: 3.21s\n",
      "366:\tlearn: 0.0710059\ttotal: 1.86s\tremaining: 3.2s\n",
      "367:\tlearn: 0.0708744\ttotal: 1.86s\tremaining: 3.2s\n",
      "368:\tlearn: 0.0707317\ttotal: 1.86s\tremaining: 3.19s\n",
      "369:\tlearn: 0.0706124\ttotal: 1.87s\tremaining: 3.18s\n",
      "370:\tlearn: 0.0705167\ttotal: 1.87s\tremaining: 3.17s\n",
      "371:\tlearn: 0.0703743\ttotal: 1.88s\tremaining: 3.17s\n",
      "372:\tlearn: 0.0702940\ttotal: 1.88s\tremaining: 3.16s\n",
      "373:\tlearn: 0.0702693\ttotal: 1.88s\tremaining: 3.15s\n",
      "374:\tlearn: 0.0701686\ttotal: 1.89s\tremaining: 3.15s\n",
      "375:\tlearn: 0.0700092\ttotal: 1.89s\tremaining: 3.14s\n"
     ]
    },
    {
     "name": "stdout",
     "output_type": "stream",
     "text": [
      "376:\tlearn: 0.0699261\ttotal: 1.9s\tremaining: 3.13s\n",
      "377:\tlearn: 0.0697699\ttotal: 1.9s\tremaining: 3.13s\n",
      "378:\tlearn: 0.0696412\ttotal: 1.91s\tremaining: 3.13s\n",
      "379:\tlearn: 0.0694698\ttotal: 1.91s\tremaining: 3.12s\n",
      "380:\tlearn: 0.0693635\ttotal: 1.92s\tremaining: 3.12s\n",
      "381:\tlearn: 0.0692906\ttotal: 1.93s\tremaining: 3.11s\n",
      "382:\tlearn: 0.0692194\ttotal: 1.93s\tremaining: 3.11s\n",
      "383:\tlearn: 0.0690776\ttotal: 1.94s\tremaining: 3.11s\n",
      "384:\tlearn: 0.0689346\ttotal: 1.94s\tremaining: 3.1s\n",
      "385:\tlearn: 0.0688586\ttotal: 1.95s\tremaining: 3.1s\n",
      "386:\tlearn: 0.0687633\ttotal: 1.95s\tremaining: 3.09s\n",
      "387:\tlearn: 0.0687161\ttotal: 1.96s\tremaining: 3.09s\n",
      "388:\tlearn: 0.0686200\ttotal: 1.96s\tremaining: 3.08s\n",
      "389:\tlearn: 0.0685965\ttotal: 1.97s\tremaining: 3.08s\n",
      "390:\tlearn: 0.0685422\ttotal: 1.97s\tremaining: 3.07s\n",
      "391:\tlearn: 0.0684640\ttotal: 1.98s\tremaining: 3.06s\n",
      "392:\tlearn: 0.0683214\ttotal: 1.98s\tremaining: 3.06s\n",
      "393:\tlearn: 0.0681880\ttotal: 1.98s\tremaining: 3.05s\n",
      "394:\tlearn: 0.0680391\ttotal: 1.99s\tremaining: 3.05s\n",
      "395:\tlearn: 0.0680235\ttotal: 1.99s\tremaining: 3.04s\n",
      "396:\tlearn: 0.0678904\ttotal: 2s\tremaining: 3.04s\n",
      "397:\tlearn: 0.0678204\ttotal: 2s\tremaining: 3.03s\n",
      "398:\tlearn: 0.0677144\ttotal: 2.01s\tremaining: 3.02s\n",
      "399:\tlearn: 0.0677005\ttotal: 2.01s\tremaining: 3.02s\n",
      "400:\tlearn: 0.0675915\ttotal: 2.02s\tremaining: 3.01s\n",
      "401:\tlearn: 0.0674582\ttotal: 2.02s\tremaining: 3.01s\n",
      "402:\tlearn: 0.0673260\ttotal: 2.02s\tremaining: 3s\n",
      "403:\tlearn: 0.0672019\ttotal: 2.03s\tremaining: 2.99s\n",
      "404:\tlearn: 0.0671155\ttotal: 2.03s\tremaining: 2.99s\n",
      "405:\tlearn: 0.0671021\ttotal: 2.04s\tremaining: 2.98s\n",
      "406:\tlearn: 0.0670061\ttotal: 2.04s\tremaining: 2.98s\n",
      "407:\tlearn: 0.0668906\ttotal: 2.05s\tremaining: 2.97s\n",
      "408:\tlearn: 0.0667837\ttotal: 2.05s\tremaining: 2.96s\n",
      "409:\tlearn: 0.0666356\ttotal: 2.06s\tremaining: 2.96s\n",
      "410:\tlearn: 0.0665769\ttotal: 2.06s\tremaining: 2.95s\n",
      "411:\tlearn: 0.0664465\ttotal: 2.06s\tremaining: 2.95s\n",
      "412:\tlearn: 0.0663935\ttotal: 2.07s\tremaining: 2.94s\n",
      "413:\tlearn: 0.0662775\ttotal: 2.07s\tremaining: 2.94s\n",
      "414:\tlearn: 0.0662011\ttotal: 2.08s\tremaining: 2.93s\n",
      "415:\tlearn: 0.0661527\ttotal: 2.08s\tremaining: 2.92s\n",
      "416:\tlearn: 0.0660545\ttotal: 2.09s\tremaining: 2.92s\n",
      "417:\tlearn: 0.0659885\ttotal: 2.1s\tremaining: 2.92s\n",
      "418:\tlearn: 0.0659674\ttotal: 2.1s\tremaining: 2.91s\n",
      "419:\tlearn: 0.0659491\ttotal: 2.11s\tremaining: 2.91s\n",
      "420:\tlearn: 0.0659297\ttotal: 2.11s\tremaining: 2.91s\n",
      "421:\tlearn: 0.0658260\ttotal: 2.12s\tremaining: 2.9s\n",
      "422:\tlearn: 0.0657478\ttotal: 2.12s\tremaining: 2.9s\n",
      "423:\tlearn: 0.0656354\ttotal: 2.13s\tremaining: 2.89s\n",
      "424:\tlearn: 0.0655103\ttotal: 2.13s\tremaining: 2.88s\n",
      "425:\tlearn: 0.0653331\ttotal: 2.14s\tremaining: 2.88s\n",
      "426:\tlearn: 0.0652586\ttotal: 2.14s\tremaining: 2.87s\n",
      "427:\tlearn: 0.0651411\ttotal: 2.15s\tremaining: 2.87s\n",
      "428:\tlearn: 0.0650313\ttotal: 2.15s\tremaining: 2.86s\n",
      "429:\tlearn: 0.0649217\ttotal: 2.15s\tremaining: 2.85s\n",
      "430:\tlearn: 0.0648649\ttotal: 2.16s\tremaining: 2.85s\n",
      "431:\tlearn: 0.0647740\ttotal: 2.16s\tremaining: 2.84s\n",
      "432:\tlearn: 0.0646559\ttotal: 2.16s\tremaining: 2.83s\n",
      "433:\tlearn: 0.0645552\ttotal: 2.17s\tremaining: 2.83s\n",
      "434:\tlearn: 0.0644406\ttotal: 2.17s\tremaining: 2.82s\n",
      "435:\tlearn: 0.0643477\ttotal: 2.17s\tremaining: 2.81s\n",
      "436:\tlearn: 0.0642203\ttotal: 2.18s\tremaining: 2.81s\n",
      "437:\tlearn: 0.0641144\ttotal: 2.18s\tremaining: 2.8s\n",
      "438:\tlearn: 0.0639691\ttotal: 2.19s\tremaining: 2.79s\n",
      "439:\tlearn: 0.0639289\ttotal: 2.19s\tremaining: 2.79s\n",
      "440:\tlearn: 0.0638646\ttotal: 2.19s\tremaining: 2.78s\n",
      "441:\tlearn: 0.0637784\ttotal: 2.2s\tremaining: 2.77s\n",
      "442:\tlearn: 0.0636959\ttotal: 2.2s\tremaining: 2.77s\n",
      "443:\tlearn: 0.0636847\ttotal: 2.2s\tremaining: 2.76s\n",
      "444:\tlearn: 0.0635514\ttotal: 2.21s\tremaining: 2.75s\n",
      "445:\tlearn: 0.0634379\ttotal: 2.21s\tremaining: 2.75s\n",
      "446:\tlearn: 0.0633494\ttotal: 2.21s\tremaining: 2.74s\n",
      "447:\tlearn: 0.0633320\ttotal: 2.22s\tremaining: 2.73s\n",
      "448:\tlearn: 0.0632718\ttotal: 2.22s\tremaining: 2.73s\n",
      "449:\tlearn: 0.0631832\ttotal: 2.23s\tremaining: 2.72s\n",
      "450:\tlearn: 0.0631553\ttotal: 2.23s\tremaining: 2.71s\n",
      "451:\tlearn: 0.0629774\ttotal: 2.23s\tremaining: 2.71s\n",
      "452:\tlearn: 0.0628675\ttotal: 2.24s\tremaining: 2.7s\n",
      "453:\tlearn: 0.0627511\ttotal: 2.24s\tremaining: 2.69s\n",
      "454:\tlearn: 0.0627202\ttotal: 2.24s\tremaining: 2.69s\n",
      "455:\tlearn: 0.0626166\ttotal: 2.25s\tremaining: 2.68s\n",
      "456:\tlearn: 0.0625081\ttotal: 2.25s\tremaining: 2.67s\n",
      "457:\tlearn: 0.0624071\ttotal: 2.25s\tremaining: 2.67s\n",
      "458:\tlearn: 0.0623613\ttotal: 2.26s\tremaining: 2.66s\n",
      "459:\tlearn: 0.0622572\ttotal: 2.26s\tremaining: 2.65s\n",
      "460:\tlearn: 0.0621479\ttotal: 2.27s\tremaining: 2.65s\n",
      "461:\tlearn: 0.0620651\ttotal: 2.27s\tremaining: 2.64s\n",
      "462:\tlearn: 0.0619674\ttotal: 2.27s\tremaining: 2.63s\n",
      "463:\tlearn: 0.0619457\ttotal: 2.28s\tremaining: 2.63s\n",
      "464:\tlearn: 0.0618454\ttotal: 2.28s\tremaining: 2.63s\n",
      "465:\tlearn: 0.0617959\ttotal: 2.29s\tremaining: 2.62s\n",
      "466:\tlearn: 0.0616694\ttotal: 2.29s\tremaining: 2.62s\n",
      "467:\tlearn: 0.0615537\ttotal: 2.3s\tremaining: 2.61s\n",
      "468:\tlearn: 0.0614729\ttotal: 2.3s\tremaining: 2.61s\n",
      "469:\tlearn: 0.0614238\ttotal: 2.31s\tremaining: 2.6s\n",
      "470:\tlearn: 0.0613136\ttotal: 2.31s\tremaining: 2.6s\n",
      "471:\tlearn: 0.0612390\ttotal: 2.32s\tremaining: 2.59s\n",
      "472:\tlearn: 0.0610983\ttotal: 2.32s\tremaining: 2.58s\n",
      "473:\tlearn: 0.0610062\ttotal: 2.32s\tremaining: 2.58s\n",
      "474:\tlearn: 0.0609023\ttotal: 2.33s\tremaining: 2.57s\n",
      "475:\tlearn: 0.0608012\ttotal: 2.33s\tremaining: 2.57s\n",
      "476:\tlearn: 0.0607492\ttotal: 2.34s\tremaining: 2.56s\n",
      "477:\tlearn: 0.0606828\ttotal: 2.34s\tremaining: 2.56s\n",
      "478:\tlearn: 0.0605456\ttotal: 2.34s\tremaining: 2.55s\n",
      "479:\tlearn: 0.0603971\ttotal: 2.35s\tremaining: 2.54s\n",
      "480:\tlearn: 0.0602937\ttotal: 2.35s\tremaining: 2.54s\n",
      "481:\tlearn: 0.0602207\ttotal: 2.35s\tremaining: 2.53s\n",
      "482:\tlearn: 0.0601872\ttotal: 2.36s\tremaining: 2.52s\n",
      "483:\tlearn: 0.0601212\ttotal: 2.36s\tremaining: 2.52s\n",
      "484:\tlearn: 0.0600148\ttotal: 2.37s\tremaining: 2.51s\n",
      "485:\tlearn: 0.0599359\ttotal: 2.37s\tremaining: 2.51s\n",
      "486:\tlearn: 0.0598405\ttotal: 2.37s\tremaining: 2.5s\n",
      "487:\tlearn: 0.0597695\ttotal: 2.38s\tremaining: 2.49s\n",
      "488:\tlearn: 0.0597227\ttotal: 2.38s\tremaining: 2.49s\n",
      "489:\tlearn: 0.0596023\ttotal: 2.38s\tremaining: 2.48s\n",
      "490:\tlearn: 0.0595283\ttotal: 2.39s\tremaining: 2.48s\n",
      "491:\tlearn: 0.0594914\ttotal: 2.39s\tremaining: 2.47s\n",
      "492:\tlearn: 0.0593932\ttotal: 2.4s\tremaining: 2.46s\n",
      "493:\tlearn: 0.0593308\ttotal: 2.4s\tremaining: 2.46s\n",
      "494:\tlearn: 0.0591847\ttotal: 2.4s\tremaining: 2.45s\n",
      "495:\tlearn: 0.0590932\ttotal: 2.41s\tremaining: 2.44s\n",
      "496:\tlearn: 0.0590417\ttotal: 2.41s\tremaining: 2.44s\n",
      "497:\tlearn: 0.0589484\ttotal: 2.41s\tremaining: 2.43s\n",
      "498:\tlearn: 0.0587815\ttotal: 2.42s\tremaining: 2.43s\n",
      "499:\tlearn: 0.0586734\ttotal: 2.42s\tremaining: 2.42s\n",
      "500:\tlearn: 0.0585994\ttotal: 2.42s\tremaining: 2.41s\n",
      "501:\tlearn: 0.0585596\ttotal: 2.43s\tremaining: 2.41s\n",
      "502:\tlearn: 0.0584492\ttotal: 2.43s\tremaining: 2.4s\n",
      "503:\tlearn: 0.0583701\ttotal: 2.44s\tremaining: 2.4s\n",
      "504:\tlearn: 0.0582346\ttotal: 2.44s\tremaining: 2.39s\n",
      "505:\tlearn: 0.0581435\ttotal: 2.44s\tremaining: 2.38s\n",
      "506:\tlearn: 0.0580420\ttotal: 2.45s\tremaining: 2.38s\n",
      "507:\tlearn: 0.0579531\ttotal: 2.45s\tremaining: 2.37s\n",
      "508:\tlearn: 0.0578227\ttotal: 2.45s\tremaining: 2.37s\n",
      "509:\tlearn: 0.0577534\ttotal: 2.46s\tremaining: 2.36s\n",
      "510:\tlearn: 0.0576823\ttotal: 2.46s\tremaining: 2.35s\n",
      "511:\tlearn: 0.0575890\ttotal: 2.46s\tremaining: 2.35s\n",
      "512:\tlearn: 0.0575654\ttotal: 2.47s\tremaining: 2.34s\n",
      "513:\tlearn: 0.0574579\ttotal: 2.47s\tremaining: 2.34s\n",
      "514:\tlearn: 0.0574317\ttotal: 2.48s\tremaining: 2.33s\n",
      "515:\tlearn: 0.0573794\ttotal: 2.48s\tremaining: 2.33s\n",
      "516:\tlearn: 0.0573693\ttotal: 2.49s\tremaining: 2.32s\n",
      "517:\tlearn: 0.0573207\ttotal: 2.49s\tremaining: 2.32s\n",
      "518:\tlearn: 0.0572870\ttotal: 2.5s\tremaining: 2.31s\n",
      "519:\tlearn: 0.0572134\ttotal: 2.5s\tremaining: 2.31s\n",
      "520:\tlearn: 0.0571800\ttotal: 2.51s\tremaining: 2.31s\n",
      "521:\tlearn: 0.0571164\ttotal: 2.51s\tremaining: 2.3s\n",
      "522:\tlearn: 0.0570148\ttotal: 2.52s\tremaining: 2.3s\n",
      "523:\tlearn: 0.0569772\ttotal: 2.52s\tremaining: 2.29s\n",
      "524:\tlearn: 0.0569132\ttotal: 2.53s\tremaining: 2.29s\n",
      "525:\tlearn: 0.0568636\ttotal: 2.53s\tremaining: 2.28s\n",
      "526:\tlearn: 0.0567976\ttotal: 2.53s\tremaining: 2.27s\n",
      "527:\tlearn: 0.0567656\ttotal: 2.54s\tremaining: 2.27s\n",
      "528:\tlearn: 0.0566369\ttotal: 2.54s\tremaining: 2.26s\n",
      "529:\tlearn: 0.0564898\ttotal: 2.54s\tremaining: 2.26s\n",
      "530:\tlearn: 0.0564149\ttotal: 2.55s\tremaining: 2.25s\n",
      "531:\tlearn: 0.0563097\ttotal: 2.55s\tremaining: 2.24s\n",
      "532:\tlearn: 0.0562391\ttotal: 2.56s\tremaining: 2.24s\n",
      "533:\tlearn: 0.0562290\ttotal: 2.56s\tremaining: 2.23s\n",
      "534:\tlearn: 0.0560948\ttotal: 2.56s\tremaining: 2.23s\n",
      "535:\tlearn: 0.0560610\ttotal: 2.57s\tremaining: 2.22s\n",
      "536:\tlearn: 0.0559562\ttotal: 2.57s\tremaining: 2.21s\n",
      "537:\tlearn: 0.0558691\ttotal: 2.57s\tremaining: 2.21s\n",
      "538:\tlearn: 0.0557067\ttotal: 2.58s\tremaining: 2.2s\n",
      "539:\tlearn: 0.0556007\ttotal: 2.58s\tremaining: 2.2s\n",
      "540:\tlearn: 0.0555385\ttotal: 2.58s\tremaining: 2.19s\n",
      "541:\tlearn: 0.0554449\ttotal: 2.59s\tremaining: 2.19s\n",
      "542:\tlearn: 0.0553457\ttotal: 2.59s\tremaining: 2.18s\n",
      "543:\tlearn: 0.0552893\ttotal: 2.6s\tremaining: 2.17s\n",
      "544:\tlearn: 0.0551963\ttotal: 2.6s\tremaining: 2.17s\n",
      "545:\tlearn: 0.0551022\ttotal: 2.6s\tremaining: 2.16s\n",
      "546:\tlearn: 0.0550739\ttotal: 2.61s\tremaining: 2.16s\n",
      "547:\tlearn: 0.0549970\ttotal: 2.61s\tremaining: 2.15s\n",
      "548:\tlearn: 0.0549164\ttotal: 2.61s\tremaining: 2.15s\n",
      "549:\tlearn: 0.0547701\ttotal: 2.62s\tremaining: 2.14s\n",
      "550:\tlearn: 0.0547373\ttotal: 2.62s\tremaining: 2.13s\n",
      "551:\tlearn: 0.0546504\ttotal: 2.62s\tremaining: 2.13s\n",
      "552:\tlearn: 0.0545807\ttotal: 2.63s\tremaining: 2.12s\n",
      "553:\tlearn: 0.0545111\ttotal: 2.63s\tremaining: 2.12s\n",
      "554:\tlearn: 0.0544828\ttotal: 2.64s\tremaining: 2.11s\n",
      "555:\tlearn: 0.0544059\ttotal: 2.64s\tremaining: 2.11s\n",
      "556:\tlearn: 0.0543253\ttotal: 2.64s\tremaining: 2.1s\n",
      "557:\tlearn: 0.0542837\ttotal: 2.65s\tremaining: 2.1s\n",
      "558:\tlearn: 0.0541892\ttotal: 2.65s\tremaining: 2.09s\n",
      "559:\tlearn: 0.0540541\ttotal: 2.65s\tremaining: 2.09s\n",
      "560:\tlearn: 0.0539545\ttotal: 2.66s\tremaining: 2.08s\n"
     ]
    },
    {
     "name": "stdout",
     "output_type": "stream",
     "text": [
      "561:\tlearn: 0.0539400\ttotal: 2.66s\tremaining: 2.08s\n",
      "562:\tlearn: 0.0538700\ttotal: 2.67s\tremaining: 2.07s\n",
      "563:\tlearn: 0.0538030\ttotal: 2.67s\tremaining: 2.07s\n",
      "564:\tlearn: 0.0537727\ttotal: 2.68s\tremaining: 2.06s\n",
      "565:\tlearn: 0.0536967\ttotal: 2.68s\tremaining: 2.06s\n",
      "566:\tlearn: 0.0535960\ttotal: 2.69s\tremaining: 2.05s\n",
      "567:\tlearn: 0.0535182\ttotal: 2.69s\tremaining: 2.05s\n",
      "568:\tlearn: 0.0534069\ttotal: 2.7s\tremaining: 2.04s\n",
      "569:\tlearn: 0.0533320\ttotal: 2.7s\tremaining: 2.04s\n",
      "570:\tlearn: 0.0532425\ttotal: 2.71s\tremaining: 2.03s\n",
      "571:\tlearn: 0.0531783\ttotal: 2.71s\tremaining: 2.03s\n",
      "572:\tlearn: 0.0530687\ttotal: 2.71s\tremaining: 2.02s\n",
      "573:\tlearn: 0.0529878\ttotal: 2.72s\tremaining: 2.02s\n",
      "574:\tlearn: 0.0529699\ttotal: 2.72s\tremaining: 2.01s\n",
      "575:\tlearn: 0.0528785\ttotal: 2.73s\tremaining: 2.01s\n",
      "576:\tlearn: 0.0528076\ttotal: 2.73s\tremaining: 2s\n",
      "577:\tlearn: 0.0527415\ttotal: 2.73s\tremaining: 2s\n",
      "578:\tlearn: 0.0526648\ttotal: 2.74s\tremaining: 1.99s\n",
      "579:\tlearn: 0.0525264\ttotal: 2.74s\tremaining: 1.99s\n",
      "580:\tlearn: 0.0524681\ttotal: 2.75s\tremaining: 1.98s\n",
      "581:\tlearn: 0.0524005\ttotal: 2.75s\tremaining: 1.97s\n",
      "582:\tlearn: 0.0523343\ttotal: 2.75s\tremaining: 1.97s\n",
      "583:\tlearn: 0.0523224\ttotal: 2.76s\tremaining: 1.96s\n",
      "584:\tlearn: 0.0522241\ttotal: 2.76s\tremaining: 1.96s\n",
      "585:\tlearn: 0.0521416\ttotal: 2.76s\tremaining: 1.95s\n",
      "586:\tlearn: 0.0520420\ttotal: 2.77s\tremaining: 1.95s\n",
      "587:\tlearn: 0.0519808\ttotal: 2.77s\tremaining: 1.94s\n",
      "588:\tlearn: 0.0518537\ttotal: 2.77s\tremaining: 1.94s\n",
      "589:\tlearn: 0.0517881\ttotal: 2.78s\tremaining: 1.93s\n",
      "590:\tlearn: 0.0517279\ttotal: 2.78s\tremaining: 1.93s\n",
      "591:\tlearn: 0.0516244\ttotal: 2.79s\tremaining: 1.92s\n",
      "592:\tlearn: 0.0514829\ttotal: 2.79s\tremaining: 1.91s\n",
      "593:\tlearn: 0.0514608\ttotal: 2.79s\tremaining: 1.91s\n",
      "594:\tlearn: 0.0514196\ttotal: 2.8s\tremaining: 1.9s\n",
      "595:\tlearn: 0.0513629\ttotal: 2.8s\tremaining: 1.9s\n",
      "596:\tlearn: 0.0513092\ttotal: 2.81s\tremaining: 1.89s\n",
      "597:\tlearn: 0.0512479\ttotal: 2.81s\tremaining: 1.89s\n",
      "598:\tlearn: 0.0511753\ttotal: 2.81s\tremaining: 1.88s\n",
      "599:\tlearn: 0.0511014\ttotal: 2.82s\tremaining: 1.88s\n",
      "600:\tlearn: 0.0510344\ttotal: 2.82s\tremaining: 1.87s\n",
      "601:\tlearn: 0.0509468\ttotal: 2.82s\tremaining: 1.87s\n",
      "602:\tlearn: 0.0509214\ttotal: 2.83s\tremaining: 1.86s\n",
      "603:\tlearn: 0.0508391\ttotal: 2.83s\tremaining: 1.86s\n",
      "604:\tlearn: 0.0507163\ttotal: 2.83s\tremaining: 1.85s\n",
      "605:\tlearn: 0.0506724\ttotal: 2.84s\tremaining: 1.84s\n",
      "606:\tlearn: 0.0505927\ttotal: 2.84s\tremaining: 1.84s\n",
      "607:\tlearn: 0.0505132\ttotal: 2.85s\tremaining: 1.83s\n",
      "608:\tlearn: 0.0503897\ttotal: 2.85s\tremaining: 1.83s\n",
      "609:\tlearn: 0.0503030\ttotal: 2.85s\tremaining: 1.82s\n",
      "610:\tlearn: 0.0502419\ttotal: 2.86s\tremaining: 1.82s\n",
      "611:\tlearn: 0.0501533\ttotal: 2.87s\tremaining: 1.82s\n",
      "612:\tlearn: 0.0500808\ttotal: 2.87s\tremaining: 1.81s\n",
      "613:\tlearn: 0.0500644\ttotal: 2.88s\tremaining: 1.81s\n",
      "614:\tlearn: 0.0500028\ttotal: 2.88s\tremaining: 1.8s\n",
      "615:\tlearn: 0.0499436\ttotal: 2.89s\tremaining: 1.8s\n",
      "616:\tlearn: 0.0499207\ttotal: 2.89s\tremaining: 1.79s\n",
      "617:\tlearn: 0.0498391\ttotal: 2.9s\tremaining: 1.79s\n",
      "618:\tlearn: 0.0497629\ttotal: 2.9s\tremaining: 1.78s\n",
      "619:\tlearn: 0.0496948\ttotal: 2.9s\tremaining: 1.78s\n",
      "620:\tlearn: 0.0495785\ttotal: 2.91s\tremaining: 1.77s\n",
      "621:\tlearn: 0.0494934\ttotal: 2.91s\tremaining: 1.77s\n",
      "622:\tlearn: 0.0493889\ttotal: 2.92s\tremaining: 1.76s\n",
      "623:\tlearn: 0.0493040\ttotal: 2.92s\tremaining: 1.76s\n",
      "624:\tlearn: 0.0492628\ttotal: 2.92s\tremaining: 1.75s\n",
      "625:\tlearn: 0.0492133\ttotal: 2.93s\tremaining: 1.75s\n",
      "626:\tlearn: 0.0491616\ttotal: 2.93s\tremaining: 1.74s\n",
      "627:\tlearn: 0.0490898\ttotal: 2.93s\tremaining: 1.74s\n",
      "628:\tlearn: 0.0490321\ttotal: 2.94s\tremaining: 1.73s\n",
      "629:\tlearn: 0.0490253\ttotal: 2.94s\tremaining: 1.73s\n",
      "630:\tlearn: 0.0489588\ttotal: 2.94s\tremaining: 1.72s\n",
      "631:\tlearn: 0.0488906\ttotal: 2.95s\tremaining: 1.72s\n",
      "632:\tlearn: 0.0488452\ttotal: 2.95s\tremaining: 1.71s\n",
      "633:\tlearn: 0.0487593\ttotal: 2.96s\tremaining: 1.71s\n",
      "634:\tlearn: 0.0486943\ttotal: 2.96s\tremaining: 1.7s\n",
      "635:\tlearn: 0.0486445\ttotal: 2.96s\tremaining: 1.7s\n",
      "636:\tlearn: 0.0486002\ttotal: 2.97s\tremaining: 1.69s\n",
      "637:\tlearn: 0.0485951\ttotal: 2.97s\tremaining: 1.69s\n",
      "638:\tlearn: 0.0485434\ttotal: 2.97s\tremaining: 1.68s\n",
      "639:\tlearn: 0.0484622\ttotal: 2.98s\tremaining: 1.68s\n",
      "640:\tlearn: 0.0484255\ttotal: 2.98s\tremaining: 1.67s\n",
      "641:\tlearn: 0.0483241\ttotal: 2.99s\tremaining: 1.67s\n",
      "642:\tlearn: 0.0482347\ttotal: 2.99s\tremaining: 1.66s\n",
      "643:\tlearn: 0.0481515\ttotal: 3s\tremaining: 1.66s\n",
      "644:\tlearn: 0.0481013\ttotal: 3s\tremaining: 1.65s\n",
      "645:\tlearn: 0.0480443\ttotal: 3s\tremaining: 1.65s\n",
      "646:\tlearn: 0.0479934\ttotal: 3.01s\tremaining: 1.64s\n",
      "647:\tlearn: 0.0479264\ttotal: 3.01s\tremaining: 1.64s\n",
      "648:\tlearn: 0.0478328\ttotal: 3.02s\tremaining: 1.63s\n",
      "649:\tlearn: 0.0477690\ttotal: 3.02s\tremaining: 1.63s\n",
      "650:\tlearn: 0.0477145\ttotal: 3.03s\tremaining: 1.62s\n",
      "651:\tlearn: 0.0476043\ttotal: 3.03s\tremaining: 1.62s\n",
      "652:\tlearn: 0.0475426\ttotal: 3.03s\tremaining: 1.61s\n",
      "653:\tlearn: 0.0475155\ttotal: 3.04s\tremaining: 1.61s\n",
      "654:\tlearn: 0.0474662\ttotal: 3.04s\tremaining: 1.6s\n",
      "655:\tlearn: 0.0473882\ttotal: 3.05s\tremaining: 1.6s\n",
      "656:\tlearn: 0.0472624\ttotal: 3.05s\tremaining: 1.59s\n",
      "657:\tlearn: 0.0471760\ttotal: 3.06s\tremaining: 1.59s\n",
      "658:\tlearn: 0.0471570\ttotal: 3.06s\tremaining: 1.58s\n",
      "659:\tlearn: 0.0470974\ttotal: 3.07s\tremaining: 1.58s\n",
      "660:\tlearn: 0.0470322\ttotal: 3.07s\tremaining: 1.57s\n",
      "661:\tlearn: 0.0469652\ttotal: 3.08s\tremaining: 1.57s\n",
      "662:\tlearn: 0.0469218\ttotal: 3.08s\tremaining: 1.57s\n",
      "663:\tlearn: 0.0468582\ttotal: 3.08s\tremaining: 1.56s\n",
      "664:\tlearn: 0.0468165\ttotal: 3.09s\tremaining: 1.56s\n",
      "665:\tlearn: 0.0467299\ttotal: 3.09s\tremaining: 1.55s\n",
      "666:\tlearn: 0.0466041\ttotal: 3.1s\tremaining: 1.55s\n",
      "667:\tlearn: 0.0464787\ttotal: 3.1s\tremaining: 1.54s\n",
      "668:\tlearn: 0.0464257\ttotal: 3.11s\tremaining: 1.54s\n",
      "669:\tlearn: 0.0463503\ttotal: 3.11s\tremaining: 1.53s\n",
      "670:\tlearn: 0.0462991\ttotal: 3.12s\tremaining: 1.53s\n",
      "671:\tlearn: 0.0462405\ttotal: 3.12s\tremaining: 1.52s\n",
      "672:\tlearn: 0.0461428\ttotal: 3.13s\tremaining: 1.52s\n",
      "673:\tlearn: 0.0461099\ttotal: 3.13s\tremaining: 1.51s\n",
      "674:\tlearn: 0.0460564\ttotal: 3.14s\tremaining: 1.51s\n",
      "675:\tlearn: 0.0460155\ttotal: 3.14s\tremaining: 1.51s\n",
      "676:\tlearn: 0.0459727\ttotal: 3.15s\tremaining: 1.5s\n",
      "677:\tlearn: 0.0459077\ttotal: 3.15s\tremaining: 1.5s\n",
      "678:\tlearn: 0.0458389\ttotal: 3.16s\tremaining: 1.49s\n",
      "679:\tlearn: 0.0458055\ttotal: 3.16s\tremaining: 1.49s\n",
      "680:\tlearn: 0.0457642\ttotal: 3.17s\tremaining: 1.48s\n",
      "681:\tlearn: 0.0457127\ttotal: 3.17s\tremaining: 1.48s\n",
      "682:\tlearn: 0.0456674\ttotal: 3.17s\tremaining: 1.47s\n",
      "683:\tlearn: 0.0456595\ttotal: 3.18s\tremaining: 1.47s\n",
      "684:\tlearn: 0.0455596\ttotal: 3.18s\tremaining: 1.46s\n",
      "685:\tlearn: 0.0455130\ttotal: 3.18s\tremaining: 1.46s\n",
      "686:\tlearn: 0.0454337\ttotal: 3.19s\tremaining: 1.45s\n",
      "687:\tlearn: 0.0453790\ttotal: 3.19s\tremaining: 1.45s\n",
      "688:\tlearn: 0.0453449\ttotal: 3.19s\tremaining: 1.44s\n",
      "689:\tlearn: 0.0452882\ttotal: 3.2s\tremaining: 1.44s\n",
      "690:\tlearn: 0.0452143\ttotal: 3.2s\tremaining: 1.43s\n",
      "691:\tlearn: 0.0451409\ttotal: 3.21s\tremaining: 1.43s\n",
      "692:\tlearn: 0.0450835\ttotal: 3.21s\tremaining: 1.42s\n",
      "693:\tlearn: 0.0450296\ttotal: 3.21s\tremaining: 1.42s\n",
      "694:\tlearn: 0.0449313\ttotal: 3.22s\tremaining: 1.41s\n",
      "695:\tlearn: 0.0448747\ttotal: 3.22s\tremaining: 1.41s\n",
      "696:\tlearn: 0.0448139\ttotal: 3.22s\tremaining: 1.4s\n",
      "697:\tlearn: 0.0447506\ttotal: 3.23s\tremaining: 1.4s\n",
      "698:\tlearn: 0.0447052\ttotal: 3.23s\tremaining: 1.39s\n",
      "699:\tlearn: 0.0446342\ttotal: 3.23s\tremaining: 1.39s\n",
      "700:\tlearn: 0.0445834\ttotal: 3.24s\tremaining: 1.38s\n",
      "701:\tlearn: 0.0445050\ttotal: 3.24s\tremaining: 1.38s\n",
      "702:\tlearn: 0.0444480\ttotal: 3.25s\tremaining: 1.37s\n",
      "703:\tlearn: 0.0444278\ttotal: 3.25s\tremaining: 1.37s\n",
      "704:\tlearn: 0.0443585\ttotal: 3.26s\tremaining: 1.36s\n",
      "705:\tlearn: 0.0442787\ttotal: 3.27s\tremaining: 1.36s\n",
      "706:\tlearn: 0.0442142\ttotal: 3.27s\tremaining: 1.36s\n",
      "707:\tlearn: 0.0441592\ttotal: 3.28s\tremaining: 1.35s\n",
      "708:\tlearn: 0.0441042\ttotal: 3.28s\tremaining: 1.35s\n",
      "709:\tlearn: 0.0440513\ttotal: 3.29s\tremaining: 1.34s\n",
      "710:\tlearn: 0.0440097\ttotal: 3.29s\tremaining: 1.34s\n",
      "711:\tlearn: 0.0439501\ttotal: 3.3s\tremaining: 1.33s\n",
      "712:\tlearn: 0.0438906\ttotal: 3.3s\tremaining: 1.33s\n",
      "713:\tlearn: 0.0438464\ttotal: 3.31s\tremaining: 1.32s\n",
      "714:\tlearn: 0.0437912\ttotal: 3.31s\tremaining: 1.32s\n",
      "715:\tlearn: 0.0437058\ttotal: 3.32s\tremaining: 1.32s\n",
      "716:\tlearn: 0.0436365\ttotal: 3.32s\tremaining: 1.31s\n",
      "717:\tlearn: 0.0435738\ttotal: 3.33s\tremaining: 1.31s\n",
      "718:\tlearn: 0.0435201\ttotal: 3.33s\tremaining: 1.3s\n",
      "719:\tlearn: 0.0434383\ttotal: 3.34s\tremaining: 1.3s\n",
      "720:\tlearn: 0.0433947\ttotal: 3.34s\tremaining: 1.29s\n",
      "721:\tlearn: 0.0432688\ttotal: 3.35s\tremaining: 1.29s\n",
      "722:\tlearn: 0.0432342\ttotal: 3.36s\tremaining: 1.28s\n",
      "723:\tlearn: 0.0432047\ttotal: 3.36s\tremaining: 1.28s\n",
      "724:\tlearn: 0.0431541\ttotal: 3.36s\tremaining: 1.28s\n",
      "725:\tlearn: 0.0430835\ttotal: 3.37s\tremaining: 1.27s\n",
      "726:\tlearn: 0.0430305\ttotal: 3.37s\tremaining: 1.27s\n",
      "727:\tlearn: 0.0429847\ttotal: 3.38s\tremaining: 1.26s\n",
      "728:\tlearn: 0.0429140\ttotal: 3.38s\tremaining: 1.26s\n",
      "729:\tlearn: 0.0428256\ttotal: 3.38s\tremaining: 1.25s\n",
      "730:\tlearn: 0.0427738\ttotal: 3.39s\tremaining: 1.25s\n",
      "731:\tlearn: 0.0427289\ttotal: 3.39s\tremaining: 1.24s\n",
      "732:\tlearn: 0.0426781\ttotal: 3.39s\tremaining: 1.24s\n",
      "733:\tlearn: 0.0426102\ttotal: 3.4s\tremaining: 1.23s\n",
      "734:\tlearn: 0.0425529\ttotal: 3.4s\tremaining: 1.23s\n",
      "735:\tlearn: 0.0424908\ttotal: 3.4s\tremaining: 1.22s\n",
      "736:\tlearn: 0.0424747\ttotal: 3.41s\tremaining: 1.22s\n",
      "737:\tlearn: 0.0424659\ttotal: 3.41s\tremaining: 1.21s\n",
      "738:\tlearn: 0.0424271\ttotal: 3.42s\tremaining: 1.21s\n",
      "739:\tlearn: 0.0423928\ttotal: 3.42s\tremaining: 1.2s\n"
     ]
    },
    {
     "name": "stdout",
     "output_type": "stream",
     "text": [
      "740:\tlearn: 0.0423877\ttotal: 3.42s\tremaining: 1.2s\n",
      "741:\tlearn: 0.0423306\ttotal: 3.43s\tremaining: 1.19s\n",
      "742:\tlearn: 0.0422390\ttotal: 3.43s\tremaining: 1.19s\n",
      "743:\tlearn: 0.0421773\ttotal: 3.44s\tremaining: 1.18s\n",
      "744:\tlearn: 0.0421673\ttotal: 3.44s\tremaining: 1.18s\n",
      "745:\tlearn: 0.0421108\ttotal: 3.45s\tremaining: 1.17s\n",
      "746:\tlearn: 0.0420474\ttotal: 3.45s\tremaining: 1.17s\n",
      "747:\tlearn: 0.0419856\ttotal: 3.46s\tremaining: 1.17s\n",
      "748:\tlearn: 0.0419757\ttotal: 3.46s\tremaining: 1.16s\n",
      "749:\tlearn: 0.0419189\ttotal: 3.47s\tremaining: 1.16s\n",
      "750:\tlearn: 0.0418703\ttotal: 3.47s\tremaining: 1.15s\n",
      "751:\tlearn: 0.0417792\ttotal: 3.48s\tremaining: 1.15s\n",
      "752:\tlearn: 0.0417484\ttotal: 3.48s\tremaining: 1.14s\n",
      "753:\tlearn: 0.0417191\ttotal: 3.48s\tremaining: 1.14s\n",
      "754:\tlearn: 0.0416691\ttotal: 3.49s\tremaining: 1.13s\n",
      "755:\tlearn: 0.0416622\ttotal: 3.49s\tremaining: 1.13s\n",
      "756:\tlearn: 0.0415778\ttotal: 3.5s\tremaining: 1.12s\n",
      "757:\tlearn: 0.0414923\ttotal: 3.5s\tremaining: 1.12s\n",
      "758:\tlearn: 0.0414302\ttotal: 3.5s\tremaining: 1.11s\n",
      "759:\tlearn: 0.0413667\ttotal: 3.51s\tremaining: 1.11s\n",
      "760:\tlearn: 0.0413275\ttotal: 3.51s\tremaining: 1.1s\n",
      "761:\tlearn: 0.0412633\ttotal: 3.51s\tremaining: 1.1s\n",
      "762:\tlearn: 0.0411832\ttotal: 3.52s\tremaining: 1.09s\n",
      "763:\tlearn: 0.0411005\ttotal: 3.52s\tremaining: 1.09s\n",
      "764:\tlearn: 0.0410837\ttotal: 3.52s\tremaining: 1.08s\n",
      "765:\tlearn: 0.0410416\ttotal: 3.53s\tremaining: 1.08s\n",
      "766:\tlearn: 0.0409772\ttotal: 3.53s\tremaining: 1.07s\n",
      "767:\tlearn: 0.0409446\ttotal: 3.54s\tremaining: 1.07s\n",
      "768:\tlearn: 0.0408714\ttotal: 3.54s\tremaining: 1.06s\n",
      "769:\tlearn: 0.0408067\ttotal: 3.54s\tremaining: 1.06s\n",
      "770:\tlearn: 0.0407703\ttotal: 3.55s\tremaining: 1.05s\n",
      "771:\tlearn: 0.0407112\ttotal: 3.55s\tremaining: 1.05s\n",
      "772:\tlearn: 0.0406672\ttotal: 3.56s\tremaining: 1.04s\n",
      "773:\tlearn: 0.0406106\ttotal: 3.56s\tremaining: 1.04s\n",
      "774:\tlearn: 0.0405949\ttotal: 3.56s\tremaining: 1.03s\n",
      "775:\tlearn: 0.0405179\ttotal: 3.57s\tremaining: 1.03s\n",
      "776:\tlearn: 0.0404610\ttotal: 3.57s\tremaining: 1.02s\n",
      "777:\tlearn: 0.0404122\ttotal: 3.57s\tremaining: 1.02s\n",
      "778:\tlearn: 0.0403492\ttotal: 3.58s\tremaining: 1.01s\n",
      "779:\tlearn: 0.0403093\ttotal: 3.58s\tremaining: 1.01s\n",
      "780:\tlearn: 0.0402814\ttotal: 3.58s\tremaining: 1s\n",
      "781:\tlearn: 0.0402266\ttotal: 3.59s\tremaining: 1s\n",
      "782:\tlearn: 0.0401820\ttotal: 3.59s\tremaining: 996ms\n",
      "783:\tlearn: 0.0401556\ttotal: 3.6s\tremaining: 991ms\n",
      "784:\tlearn: 0.0401419\ttotal: 3.6s\tremaining: 986ms\n",
      "785:\tlearn: 0.0401015\ttotal: 3.6s\tremaining: 981ms\n",
      "786:\tlearn: 0.0400617\ttotal: 3.61s\tremaining: 976ms\n",
      "787:\tlearn: 0.0399914\ttotal: 3.61s\tremaining: 972ms\n",
      "788:\tlearn: 0.0399651\ttotal: 3.62s\tremaining: 967ms\n",
      "789:\tlearn: 0.0398981\ttotal: 3.62s\tremaining: 963ms\n",
      "790:\tlearn: 0.0398378\ttotal: 3.63s\tremaining: 958ms\n",
      "791:\tlearn: 0.0397798\ttotal: 3.63s\tremaining: 954ms\n",
      "792:\tlearn: 0.0397249\ttotal: 3.64s\tremaining: 949ms\n",
      "793:\tlearn: 0.0397012\ttotal: 3.64s\tremaining: 945ms\n",
      "794:\tlearn: 0.0396205\ttotal: 3.65s\tremaining: 941ms\n",
      "795:\tlearn: 0.0395444\ttotal: 3.65s\tremaining: 937ms\n",
      "796:\tlearn: 0.0394912\ttotal: 3.66s\tremaining: 933ms\n",
      "797:\tlearn: 0.0394126\ttotal: 3.67s\tremaining: 928ms\n",
      "798:\tlearn: 0.0393577\ttotal: 3.67s\tremaining: 924ms\n",
      "799:\tlearn: 0.0393110\ttotal: 3.68s\tremaining: 919ms\n",
      "800:\tlearn: 0.0392501\ttotal: 3.68s\tremaining: 915ms\n",
      "801:\tlearn: 0.0392021\ttotal: 3.69s\tremaining: 910ms\n",
      "802:\tlearn: 0.0391973\ttotal: 3.69s\tremaining: 906ms\n",
      "803:\tlearn: 0.0391315\ttotal: 3.7s\tremaining: 901ms\n",
      "804:\tlearn: 0.0390763\ttotal: 3.7s\tremaining: 897ms\n",
      "805:\tlearn: 0.0390336\ttotal: 3.71s\tremaining: 892ms\n",
      "806:\tlearn: 0.0389750\ttotal: 3.71s\tremaining: 888ms\n",
      "807:\tlearn: 0.0389524\ttotal: 3.72s\tremaining: 883ms\n",
      "808:\tlearn: 0.0388867\ttotal: 3.72s\tremaining: 879ms\n",
      "809:\tlearn: 0.0388275\ttotal: 3.73s\tremaining: 874ms\n",
      "810:\tlearn: 0.0387419\ttotal: 3.73s\tremaining: 870ms\n",
      "811:\tlearn: 0.0386508\ttotal: 3.74s\tremaining: 865ms\n",
      "812:\tlearn: 0.0386055\ttotal: 3.74s\tremaining: 861ms\n",
      "813:\tlearn: 0.0385495\ttotal: 3.75s\tremaining: 857ms\n",
      "814:\tlearn: 0.0385141\ttotal: 3.75s\tremaining: 853ms\n",
      "815:\tlearn: 0.0385086\ttotal: 3.76s\tremaining: 848ms\n",
      "816:\tlearn: 0.0384748\ttotal: 3.77s\tremaining: 844ms\n",
      "817:\tlearn: 0.0384425\ttotal: 3.77s\tremaining: 839ms\n",
      "818:\tlearn: 0.0384033\ttotal: 3.78s\tremaining: 835ms\n",
      "819:\tlearn: 0.0383961\ttotal: 3.78s\tremaining: 830ms\n",
      "820:\tlearn: 0.0383563\ttotal: 3.78s\tremaining: 825ms\n",
      "821:\tlearn: 0.0382958\ttotal: 3.79s\tremaining: 820ms\n",
      "822:\tlearn: 0.0382668\ttotal: 3.79s\tremaining: 816ms\n",
      "823:\tlearn: 0.0382179\ttotal: 3.8s\tremaining: 811ms\n",
      "824:\tlearn: 0.0381560\ttotal: 3.8s\tremaining: 806ms\n",
      "825:\tlearn: 0.0380986\ttotal: 3.81s\tremaining: 802ms\n",
      "826:\tlearn: 0.0380467\ttotal: 3.81s\tremaining: 797ms\n",
      "827:\tlearn: 0.0379969\ttotal: 3.82s\tremaining: 793ms\n",
      "828:\tlearn: 0.0379542\ttotal: 3.82s\tremaining: 789ms\n",
      "829:\tlearn: 0.0379122\ttotal: 3.83s\tremaining: 784ms\n",
      "830:\tlearn: 0.0378844\ttotal: 3.83s\tremaining: 779ms\n",
      "831:\tlearn: 0.0378470\ttotal: 3.84s\tremaining: 775ms\n",
      "832:\tlearn: 0.0378069\ttotal: 3.84s\tremaining: 770ms\n",
      "833:\tlearn: 0.0377275\ttotal: 3.85s\tremaining: 765ms\n",
      "834:\tlearn: 0.0376493\ttotal: 3.85s\tremaining: 761ms\n",
      "835:\tlearn: 0.0376067\ttotal: 3.85s\tremaining: 756ms\n",
      "836:\tlearn: 0.0375521\ttotal: 3.86s\tremaining: 751ms\n",
      "837:\tlearn: 0.0375125\ttotal: 3.86s\tremaining: 747ms\n",
      "838:\tlearn: 0.0374513\ttotal: 3.87s\tremaining: 742ms\n",
      "839:\tlearn: 0.0374030\ttotal: 3.87s\tremaining: 737ms\n",
      "840:\tlearn: 0.0373349\ttotal: 3.87s\tremaining: 732ms\n",
      "841:\tlearn: 0.0372883\ttotal: 3.88s\tremaining: 727ms\n",
      "842:\tlearn: 0.0372539\ttotal: 3.88s\tremaining: 723ms\n",
      "843:\tlearn: 0.0372501\ttotal: 3.88s\tremaining: 718ms\n",
      "844:\tlearn: 0.0372211\ttotal: 3.89s\tremaining: 713ms\n",
      "845:\tlearn: 0.0371777\ttotal: 3.89s\tremaining: 708ms\n",
      "846:\tlearn: 0.0371157\ttotal: 3.9s\tremaining: 704ms\n",
      "847:\tlearn: 0.0370528\ttotal: 3.9s\tremaining: 699ms\n",
      "848:\tlearn: 0.0369929\ttotal: 3.9s\tremaining: 694ms\n",
      "849:\tlearn: 0.0369537\ttotal: 3.91s\tremaining: 689ms\n",
      "850:\tlearn: 0.0369247\ttotal: 3.91s\tremaining: 685ms\n",
      "851:\tlearn: 0.0368444\ttotal: 3.91s\tremaining: 680ms\n",
      "852:\tlearn: 0.0367819\ttotal: 3.92s\tremaining: 675ms\n",
      "853:\tlearn: 0.0367150\ttotal: 3.92s\tremaining: 670ms\n",
      "854:\tlearn: 0.0366535\ttotal: 3.92s\tremaining: 666ms\n",
      "855:\tlearn: 0.0365994\ttotal: 3.93s\tremaining: 661ms\n",
      "856:\tlearn: 0.0365583\ttotal: 3.93s\tremaining: 656ms\n",
      "857:\tlearn: 0.0365174\ttotal: 3.94s\tremaining: 652ms\n",
      "858:\tlearn: 0.0364845\ttotal: 3.94s\tremaining: 647ms\n",
      "859:\tlearn: 0.0364313\ttotal: 3.94s\tremaining: 642ms\n",
      "860:\tlearn: 0.0363818\ttotal: 3.95s\tremaining: 637ms\n",
      "861:\tlearn: 0.0363191\ttotal: 3.95s\tremaining: 633ms\n",
      "862:\tlearn: 0.0362872\ttotal: 3.96s\tremaining: 628ms\n",
      "863:\tlearn: 0.0362441\ttotal: 3.96s\tremaining: 623ms\n",
      "864:\tlearn: 0.0361790\ttotal: 3.96s\tremaining: 618ms\n",
      "865:\tlearn: 0.0361299\ttotal: 3.97s\tremaining: 614ms\n",
      "866:\tlearn: 0.0361062\ttotal: 3.97s\tremaining: 609ms\n",
      "867:\tlearn: 0.0360677\ttotal: 3.97s\tremaining: 604ms\n",
      "868:\tlearn: 0.0360096\ttotal: 3.98s\tremaining: 600ms\n",
      "869:\tlearn: 0.0359733\ttotal: 3.98s\tremaining: 595ms\n",
      "870:\tlearn: 0.0359680\ttotal: 3.98s\tremaining: 590ms\n",
      "871:\tlearn: 0.0359164\ttotal: 3.99s\tremaining: 586ms\n",
      "872:\tlearn: 0.0359089\ttotal: 3.99s\tremaining: 581ms\n",
      "873:\tlearn: 0.0358628\ttotal: 4s\tremaining: 577ms\n",
      "874:\tlearn: 0.0357941\ttotal: 4s\tremaining: 572ms\n",
      "875:\tlearn: 0.0357141\ttotal: 4.01s\tremaining: 568ms\n",
      "876:\tlearn: 0.0356661\ttotal: 4.01s\tremaining: 563ms\n",
      "877:\tlearn: 0.0356572\ttotal: 4.02s\tremaining: 559ms\n",
      "878:\tlearn: 0.0355647\ttotal: 4.02s\tremaining: 554ms\n",
      "879:\tlearn: 0.0355200\ttotal: 4.03s\tremaining: 550ms\n",
      "880:\tlearn: 0.0354665\ttotal: 4.04s\tremaining: 545ms\n",
      "881:\tlearn: 0.0354062\ttotal: 4.04s\tremaining: 540ms\n",
      "882:\tlearn: 0.0353427\ttotal: 4.04s\tremaining: 536ms\n",
      "883:\tlearn: 0.0353154\ttotal: 4.05s\tremaining: 531ms\n",
      "884:\tlearn: 0.0352734\ttotal: 4.05s\tremaining: 526ms\n",
      "885:\tlearn: 0.0352570\ttotal: 4.05s\tremaining: 522ms\n",
      "886:\tlearn: 0.0352060\ttotal: 4.06s\tremaining: 517ms\n",
      "887:\tlearn: 0.0351393\ttotal: 4.06s\tremaining: 512ms\n",
      "888:\tlearn: 0.0351083\ttotal: 4.07s\tremaining: 508ms\n",
      "889:\tlearn: 0.0351014\ttotal: 4.07s\tremaining: 503ms\n",
      "890:\tlearn: 0.0350427\ttotal: 4.07s\tremaining: 498ms\n",
      "891:\tlearn: 0.0350024\ttotal: 4.08s\tremaining: 494ms\n",
      "892:\tlearn: 0.0349446\ttotal: 4.08s\tremaining: 489ms\n",
      "893:\tlearn: 0.0348749\ttotal: 4.08s\tremaining: 484ms\n",
      "894:\tlearn: 0.0348175\ttotal: 4.09s\tremaining: 480ms\n",
      "895:\tlearn: 0.0347737\ttotal: 4.09s\tremaining: 475ms\n",
      "896:\tlearn: 0.0347354\ttotal: 4.09s\tremaining: 470ms\n",
      "897:\tlearn: 0.0346863\ttotal: 4.1s\tremaining: 466ms\n",
      "898:\tlearn: 0.0346414\ttotal: 4.1s\tremaining: 461ms\n",
      "899:\tlearn: 0.0345842\ttotal: 4.11s\tremaining: 456ms\n",
      "900:\tlearn: 0.0345532\ttotal: 4.11s\tremaining: 452ms\n",
      "901:\tlearn: 0.0345501\ttotal: 4.11s\tremaining: 447ms\n",
      "902:\tlearn: 0.0345031\ttotal: 4.12s\tremaining: 442ms\n",
      "903:\tlearn: 0.0344451\ttotal: 4.12s\tremaining: 438ms\n",
      "904:\tlearn: 0.0343996\ttotal: 4.13s\tremaining: 433ms\n",
      "905:\tlearn: 0.0343574\ttotal: 4.13s\tremaining: 429ms\n",
      "906:\tlearn: 0.0343064\ttotal: 4.14s\tremaining: 424ms\n",
      "907:\tlearn: 0.0342692\ttotal: 4.14s\tremaining: 420ms\n",
      "908:\tlearn: 0.0342248\ttotal: 4.15s\tremaining: 415ms\n",
      "909:\tlearn: 0.0342197\ttotal: 4.15s\tremaining: 411ms\n",
      "910:\tlearn: 0.0342015\ttotal: 4.16s\tremaining: 406ms\n",
      "911:\tlearn: 0.0341397\ttotal: 4.16s\tremaining: 402ms\n",
      "912:\tlearn: 0.0340741\ttotal: 4.17s\tremaining: 397ms\n",
      "913:\tlearn: 0.0340190\ttotal: 4.17s\tremaining: 393ms\n"
     ]
    },
    {
     "name": "stdout",
     "output_type": "stream",
     "text": [
      "914:\tlearn: 0.0339721\ttotal: 4.18s\tremaining: 388ms\n",
      "915:\tlearn: 0.0339345\ttotal: 4.18s\tremaining: 384ms\n",
      "916:\tlearn: 0.0339292\ttotal: 4.19s\tremaining: 379ms\n",
      "917:\tlearn: 0.0339260\ttotal: 4.2s\tremaining: 375ms\n",
      "918:\tlearn: 0.0338798\ttotal: 4.2s\tremaining: 370ms\n",
      "919:\tlearn: 0.0338054\ttotal: 4.21s\tremaining: 366ms\n",
      "920:\tlearn: 0.0337617\ttotal: 4.21s\tremaining: 361ms\n",
      "921:\tlearn: 0.0337206\ttotal: 4.22s\tremaining: 357ms\n",
      "922:\tlearn: 0.0336804\ttotal: 4.22s\tremaining: 352ms\n",
      "923:\tlearn: 0.0336340\ttotal: 4.23s\tremaining: 348ms\n",
      "924:\tlearn: 0.0335867\ttotal: 4.24s\tremaining: 343ms\n",
      "925:\tlearn: 0.0335413\ttotal: 4.24s\tremaining: 339ms\n",
      "926:\tlearn: 0.0335368\ttotal: 4.25s\tremaining: 334ms\n",
      "927:\tlearn: 0.0335068\ttotal: 4.25s\tremaining: 330ms\n",
      "928:\tlearn: 0.0334782\ttotal: 4.26s\tremaining: 326ms\n",
      "929:\tlearn: 0.0334380\ttotal: 4.27s\tremaining: 321ms\n",
      "930:\tlearn: 0.0334089\ttotal: 4.27s\tremaining: 317ms\n",
      "931:\tlearn: 0.0333821\ttotal: 4.28s\tremaining: 312ms\n",
      "932:\tlearn: 0.0333460\ttotal: 4.29s\tremaining: 308ms\n",
      "933:\tlearn: 0.0332990\ttotal: 4.29s\tremaining: 303ms\n",
      "934:\tlearn: 0.0332543\ttotal: 4.3s\tremaining: 299ms\n",
      "935:\tlearn: 0.0332085\ttotal: 4.3s\tremaining: 294ms\n",
      "936:\tlearn: 0.0331728\ttotal: 4.31s\tremaining: 290ms\n",
      "937:\tlearn: 0.0331383\ttotal: 4.31s\tremaining: 285ms\n",
      "938:\tlearn: 0.0330667\ttotal: 4.31s\tremaining: 280ms\n",
      "939:\tlearn: 0.0330298\ttotal: 4.32s\tremaining: 276ms\n",
      "940:\tlearn: 0.0329877\ttotal: 4.32s\tremaining: 271ms\n",
      "941:\tlearn: 0.0329498\ttotal: 4.33s\tremaining: 266ms\n",
      "942:\tlearn: 0.0329313\ttotal: 4.33s\tremaining: 262ms\n",
      "943:\tlearn: 0.0329137\ttotal: 4.34s\tremaining: 257ms\n",
      "944:\tlearn: 0.0328827\ttotal: 4.34s\tremaining: 253ms\n",
      "945:\tlearn: 0.0328696\ttotal: 4.34s\tremaining: 248ms\n",
      "946:\tlearn: 0.0328093\ttotal: 4.35s\tremaining: 243ms\n",
      "947:\tlearn: 0.0328022\ttotal: 4.36s\tremaining: 239ms\n",
      "948:\tlearn: 0.0327593\ttotal: 4.36s\tremaining: 234ms\n",
      "949:\tlearn: 0.0327442\ttotal: 4.36s\tremaining: 230ms\n",
      "950:\tlearn: 0.0326977\ttotal: 4.37s\tremaining: 225ms\n",
      "951:\tlearn: 0.0326602\ttotal: 4.37s\tremaining: 221ms\n",
      "952:\tlearn: 0.0326132\ttotal: 4.38s\tremaining: 216ms\n",
      "953:\tlearn: 0.0325733\ttotal: 4.39s\tremaining: 212ms\n",
      "954:\tlearn: 0.0325435\ttotal: 4.39s\tremaining: 207ms\n",
      "955:\tlearn: 0.0325355\ttotal: 4.4s\tremaining: 202ms\n",
      "956:\tlearn: 0.0324780\ttotal: 4.4s\tremaining: 198ms\n",
      "957:\tlearn: 0.0324169\ttotal: 4.41s\tremaining: 193ms\n",
      "958:\tlearn: 0.0323714\ttotal: 4.41s\tremaining: 189ms\n",
      "959:\tlearn: 0.0323490\ttotal: 4.42s\tremaining: 184ms\n",
      "960:\tlearn: 0.0323038\ttotal: 4.42s\tremaining: 180ms\n",
      "961:\tlearn: 0.0322666\ttotal: 4.43s\tremaining: 175ms\n",
      "962:\tlearn: 0.0322629\ttotal: 4.43s\tremaining: 170ms\n",
      "963:\tlearn: 0.0322305\ttotal: 4.44s\tremaining: 166ms\n",
      "964:\tlearn: 0.0321889\ttotal: 4.44s\tremaining: 161ms\n",
      "965:\tlearn: 0.0321265\ttotal: 4.45s\tremaining: 157ms\n",
      "966:\tlearn: 0.0320995\ttotal: 4.45s\tremaining: 152ms\n",
      "967:\tlearn: 0.0320688\ttotal: 4.46s\tremaining: 147ms\n",
      "968:\tlearn: 0.0320390\ttotal: 4.46s\tremaining: 143ms\n",
      "969:\tlearn: 0.0319682\ttotal: 4.46s\tremaining: 138ms\n",
      "970:\tlearn: 0.0319127\ttotal: 4.47s\tremaining: 134ms\n",
      "971:\tlearn: 0.0318632\ttotal: 4.47s\tremaining: 129ms\n",
      "972:\tlearn: 0.0318051\ttotal: 4.48s\tremaining: 124ms\n",
      "973:\tlearn: 0.0317575\ttotal: 4.48s\tremaining: 120ms\n",
      "974:\tlearn: 0.0317089\ttotal: 4.49s\tremaining: 115ms\n",
      "975:\tlearn: 0.0316694\ttotal: 4.49s\tremaining: 110ms\n",
      "976:\tlearn: 0.0316362\ttotal: 4.5s\tremaining: 106ms\n",
      "977:\tlearn: 0.0315938\ttotal: 4.5s\tremaining: 101ms\n",
      "978:\tlearn: 0.0315391\ttotal: 4.5s\tremaining: 96.6ms\n",
      "979:\tlearn: 0.0314839\ttotal: 4.51s\tremaining: 92ms\n",
      "980:\tlearn: 0.0314269\ttotal: 4.51s\tremaining: 87.3ms\n",
      "981:\tlearn: 0.0313982\ttotal: 4.51s\tremaining: 82.7ms\n",
      "982:\tlearn: 0.0313456\ttotal: 4.52s\tremaining: 78.1ms\n",
      "983:\tlearn: 0.0313100\ttotal: 4.52s\tremaining: 73.5ms\n",
      "984:\tlearn: 0.0312614\ttotal: 4.52s\tremaining: 68.9ms\n",
      "985:\tlearn: 0.0312009\ttotal: 4.53s\tremaining: 64.3ms\n",
      "986:\tlearn: 0.0311405\ttotal: 4.53s\tremaining: 59.7ms\n",
      "987:\tlearn: 0.0311301\ttotal: 4.54s\tremaining: 55.1ms\n",
      "988:\tlearn: 0.0310796\ttotal: 4.54s\tremaining: 50.5ms\n",
      "989:\tlearn: 0.0310268\ttotal: 4.54s\tremaining: 45.9ms\n",
      "990:\tlearn: 0.0310110\ttotal: 4.55s\tremaining: 41.3ms\n",
      "991:\tlearn: 0.0309706\ttotal: 4.55s\tremaining: 36.7ms\n",
      "992:\tlearn: 0.0309465\ttotal: 4.55s\tremaining: 32.1ms\n",
      "993:\tlearn: 0.0309121\ttotal: 4.56s\tremaining: 27.5ms\n",
      "994:\tlearn: 0.0308434\ttotal: 4.56s\tremaining: 22.9ms\n",
      "995:\tlearn: 0.0308151\ttotal: 4.57s\tremaining: 18.3ms\n",
      "996:\tlearn: 0.0307736\ttotal: 4.57s\tremaining: 13.8ms\n",
      "997:\tlearn: 0.0307347\ttotal: 4.58s\tremaining: 9.18ms\n",
      "998:\tlearn: 0.0306818\ttotal: 4.58s\tremaining: 4.59ms\n",
      "999:\tlearn: 0.0306279\ttotal: 4.59s\tremaining: 0us\n"
     ]
    },
    {
     "data": {
      "text/plain": [
       "<catboost.core.CatBoostRegressor at 0x7ffa9f25b7d0>"
      ]
     },
     "execution_count": 1005,
     "metadata": {},
     "output_type": "execute_result"
    }
   ],
   "source": [
    "catboost = CatBoostRegressor()\n",
    "catboost.fit(X_train, y_train)"
   ]
  },
  {
   "cell_type": "code",
   "execution_count": 1006,
   "metadata": {},
   "outputs": [],
   "source": [
    "prediction_cb = catboost.predict(X_test)"
   ]
  },
  {
   "cell_type": "code",
   "execution_count": 1007,
   "metadata": {},
   "outputs": [],
   "source": [
    "from xgboost import XGBRegressor\n",
    "import xgboost as xgb\n",
    "\n",
    "xgbr = xgb.XGBRegressor()"
   ]
  },
  {
   "cell_type": "code",
   "execution_count": 1008,
   "metadata": {},
   "outputs": [
    {
     "data": {
      "text/plain": [
       "XGBRegressor(base_score=0.5, booster='gbtree', colsample_bylevel=1,\n",
       "             colsample_bynode=1, colsample_bytree=1, gamma=0, gpu_id=-1,\n",
       "             importance_type='gain', interaction_constraints='',\n",
       "             learning_rate=0.300000012, max_delta_step=0, max_depth=6,\n",
       "             min_child_weight=1, missing=nan, monotone_constraints='()',\n",
       "             n_estimators=100, n_jobs=8, num_parallel_tree=1, random_state=0,\n",
       "             reg_alpha=0, reg_lambda=1, scale_pos_weight=1, subsample=1,\n",
       "             tree_method='exact', validate_parameters=1, verbosity=None)"
      ]
     },
     "execution_count": 1008,
     "metadata": {},
     "output_type": "execute_result"
    }
   ],
   "source": [
    "xgbr.fit(X_train, y_train)"
   ]
  },
  {
   "cell_type": "code",
   "execution_count": 1009,
   "metadata": {},
   "outputs": [],
   "source": [
    "prediction_xgbr = xgbr.predict(X_test)"
   ]
  },
  {
   "cell_type": "markdown",
   "metadata": {},
   "source": [
    "## Choosing the best parametres "
   ]
  },
  {
   "cell_type": "markdown",
   "metadata": {},
   "source": [
    "### CatBoost"
   ]
  },
  {
   "cell_type": "code",
   "execution_count": 1010,
   "metadata": {},
   "outputs": [],
   "source": [
    "from sklearn.model_selection import RandomizedSearchCV\n",
    "catM = CatBoostRegressor(verbose=0, allow_writing_files=False)\n",
    "params = {'learning_rate': [0.05, 0.005, 0.0005],\n",
    "          'depth': [4, 5, 6, 7, 8],\n",
    "          'l2_leaf_reg': [5,6, 9]}"
   ]
  },
  {
   "cell_type": "code",
   "execution_count": 1011,
   "metadata": {},
   "outputs": [
    {
     "name": "stdout",
     "output_type": "stream",
     "text": [
      "Fitting 4 folds for each of 10 candidates, totalling 40 fits\n"
     ]
    },
    {
     "name": "stderr",
     "output_type": "stream",
     "text": [
      "[Parallel(n_jobs=-1)]: Using backend LokyBackend with 8 concurrent workers.\n",
      "[Parallel(n_jobs=-1)]: Done  25 tasks      | elapsed:  2.3min\n",
      "[Parallel(n_jobs=-1)]: Done  40 out of  40 | elapsed:  2.6min finished\n"
     ]
    },
    {
     "name": "stdout",
     "output_type": "stream",
     "text": [
      "Best params(CatBoost): {'learning_rate': 0.05, 'l2_leaf_reg': 6, 'depth': 5}\n",
      "RMSE(CatBoost): 0.12208945941714386\n"
     ]
    }
   ],
   "source": [
    "grid_search_cat = RandomizedSearchCV(estimator=catM, scoring='neg_root_mean_squared_error', param_distributions=params, n_iter=10, cv=4, verbose=2,\n",
    "                                 random_state=42, n_jobs=-1)\n",
    "grid_search_cat.fit(X_train, y_train)\n",
    "catModel = grid_search_cat.best_estimator_\n",
    "print('Best params(CatBoost):',grid_search_cat.best_params_)\n",
    "print('RMSE(CatBoost):', -grid_search_cat.best_score_)"
   ]
  },
  {
   "cell_type": "code",
   "execution_count": 1012,
   "metadata": {},
   "outputs": [],
   "source": [
    "#catModel = catBoost(X_train, y_train, X_test)\n",
    "# catModel = CatBoostRegressor(verbose=0, allow_writing_files=False, learning_rate=0.05, l2_leaf_reg=2, depth=4)\n"
   ]
  },
  {
   "cell_type": "code",
   "execution_count": 1013,
   "metadata": {},
   "outputs": [],
   "source": [
    "catModel.fit(X_train, y_train)\n",
    "prediction_cb_best = catModel.predict(X_test)"
   ]
  },
  {
   "cell_type": "markdown",
   "metadata": {},
   "source": [
    "### XGBoost"
   ]
  },
  {
   "cell_type": "code",
   "execution_count": 508,
   "metadata": {},
   "outputs": [],
   "source": [
    "params = {'learning_rate': [0.02], 'n_estimators' : [2000], 'max_depth':[3], \n",
    "          'colsample_bytree' : [0.4], 'subsample' : [0.7]}"
   ]
  },
  {
   "cell_type": "code",
   "execution_count": 509,
   "metadata": {},
   "outputs": [
    {
     "data": {
      "text/plain": [
       "GridSearchCV(cv=5,\n",
       "             estimator=XGBRegressor(base_score=0.5, booster='gbtree',\n",
       "                                    colsample_bylevel=1, colsample_bynode=1,\n",
       "                                    colsample_bytree=1, gamma=0, gpu_id=-1,\n",
       "                                    importance_type='gain',\n",
       "                                    interaction_constraints='',\n",
       "                                    learning_rate=0.300000012, max_delta_step=0,\n",
       "                                    max_depth=6, min_child_weight=1,\n",
       "                                    missing=nan, monotone_constraints='()',\n",
       "                                    n_estimators=100, n_jobs=8,\n",
       "                                    num_parallel_tree=1, random_state=0,\n",
       "                                    reg_alpha=0, reg_lambda=1,\n",
       "                                    scale_pos_weight=1, subsample=1,\n",
       "                                    tree_method='exact', validate_parameters=1,\n",
       "                                    verbosity=None),\n",
       "             n_jobs=1,\n",
       "             param_grid={'colsample_bytree': [0.4], 'learning_rate': [0.02],\n",
       "                         'max_depth': [3], 'n_estimators': [2000],\n",
       "                         'subsample': [0.7]})"
      ]
     },
     "execution_count": 509,
     "metadata": {},
     "output_type": "execute_result"
    }
   ],
   "source": [
    "xgbr_reg = GridSearchCV(xgbr, params, cv = 5, n_jobs =1)\n",
    "xgbr_reg.fit(X_train,y_train)"
   ]
  },
  {
   "cell_type": "code",
   "execution_count": 510,
   "metadata": {},
   "outputs": [
    {
     "name": "stdout",
     "output_type": "stream",
     "text": [
      "Best params:{'colsample_bytree': 0.4, 'learning_rate': 0.02, 'max_depth': 3, 'n_estimators': 2000, 'subsample': 0.7}\n",
      "Root Mean Square Error train = 0.0030053972778739885\n",
      "Root Mean Square Error test = 0.010086346462917922\n"
     ]
    }
   ],
   "source": [
    "print(\"Best params:{}\".format(xgbr_reg.best_params_))\n",
    "\n",
    "best_x = xgbr_reg.best_estimator_\n",
    "y_train_pred_x = best_x.predict(X_train)\n",
    "y_val_pred_x = best_x.predict(X_test)\n",
    "\n",
    "print('Root Mean Square Error train = ' + str(np.sqrt(mean_squared_log_error(y_train, y_train_pred_x))))\n",
    "print('Root Mean Square Error test = ' + str(np.sqrt(mean_squared_log_error(y_test, y_val_pred_x)))) "
   ]
  },
  {
   "cell_type": "code",
   "execution_count": 511,
   "metadata": {},
   "outputs": [],
   "source": [
    "prediction_xgbr_best = best_x.predict(X_test)"
   ]
  },
  {
   "cell_type": "markdown",
   "metadata": {},
   "source": [
    "### Calculate error"
   ]
  },
  {
   "cell_type": "code",
   "execution_count": 504,
   "metadata": {
    "scrolled": true
   },
   "outputs": [],
   "source": [
    "from sklearn.metrics import mean_squared_log_error\n"
   ]
  },
  {
   "cell_type": "code",
   "execution_count": 1014,
   "metadata": {},
   "outputs": [
    {
     "data": {
      "text/plain": [
       "0.13478919185348978"
      ]
     },
     "execution_count": 1014,
     "metadata": {},
     "output_type": "execute_result"
    }
   ],
   "source": [
    "np.sqrt(mean_squared_log_error(np.expm1(y_test), np.expm1(prediction_rf)))"
   ]
  },
  {
   "cell_type": "code",
   "execution_count": 1015,
   "metadata": {},
   "outputs": [
    {
     "data": {
      "text/plain": [
       "0.11697264589107612"
      ]
     },
     "execution_count": 1015,
     "metadata": {},
     "output_type": "execute_result"
    }
   ],
   "source": [
    "np.sqrt(mean_squared_log_error(np.expm1(y_test), np.expm1(prediction_cb)))"
   ]
  },
  {
   "cell_type": "code",
   "execution_count": 1016,
   "metadata": {},
   "outputs": [
    {
     "data": {
      "text/plain": [
       "0.1158708513282788"
      ]
     },
     "execution_count": 1016,
     "metadata": {},
     "output_type": "execute_result"
    }
   ],
   "source": [
    "np.sqrt(mean_squared_log_error(np.expm1(y_test), np.expm1(prediction_cb_best)))"
   ]
  },
  {
   "cell_type": "code",
   "execution_count": 1017,
   "metadata": {},
   "outputs": [
    {
     "data": {
      "text/plain": [
       "0.14431521511909834"
      ]
     },
     "execution_count": 1017,
     "metadata": {},
     "output_type": "execute_result"
    }
   ],
   "source": [
    "np.sqrt(mean_squared_log_error(np.expm1(y_test), np.expm1(prediction_xgbr)))"
   ]
  },
  {
   "cell_type": "code",
   "execution_count": 512,
   "metadata": {},
   "outputs": [
    {
     "data": {
      "text/plain": [
       "0.12941922196913147"
      ]
     },
     "execution_count": 512,
     "metadata": {},
     "output_type": "execute_result"
    }
   ],
   "source": [
    "np.sqrt(mean_squared_log_error(np.expm1(y_test), np.expm1(prediction_xgbr_best)))"
   ]
  },
  {
   "cell_type": "code",
   "execution_count": 517,
   "metadata": {},
   "outputs": [],
   "source": [
    "# mixed_prediction = 0.3* prediction_cb + 0.6 * prediction_cb_best + 0.1*prediction_xgbr_best\n",
    "mixed_prediction = 0.9 * prediction_cb_best + 0.1*prediction_xgbr_best"
   ]
  },
  {
   "cell_type": "code",
   "execution_count": 518,
   "metadata": {},
   "outputs": [
    {
     "data": {
      "text/plain": [
       "0.1241494004144555"
      ]
     },
     "execution_count": 518,
     "metadata": {},
     "output_type": "execute_result"
    }
   ],
   "source": [
    "np.sqrt(mean_squared_log_error(np.expm1(y_test), np.expm1(mixed_prediction)))"
   ]
  },
  {
   "cell_type": "code",
   "execution_count": 82,
   "metadata": {
    "scrolled": true
   },
   "outputs": [
    {
     "data": {
      "text/plain": [
       "Id\n",
       "893     11.947956\n",
       "1106    12.691584\n",
       "414     11.652696\n",
       "523     11.976666\n",
       "1037    12.661917\n",
       "          ...    \n",
       "1011    11.813037\n",
       "391     11.686887\n",
       "1410    12.278398\n",
       "848     11.801864\n",
       "1285    12.037660\n",
       "Name: SalePrice, Length: 482, dtype: float64"
      ]
     },
     "execution_count": 82,
     "metadata": {},
     "output_type": "execute_result"
    }
   ],
   "source": [
    "y_test"
   ]
  },
  {
   "cell_type": "markdown",
   "metadata": {},
   "source": [
    "## Make prediction"
   ]
  },
  {
   "cell_type": "code",
   "execution_count": 763,
   "metadata": {},
   "outputs": [],
   "source": [
    "y_pred = catModel.predict(test)\n",
    "# y_pred = catboost.predict(test)"
   ]
  },
  {
   "cell_type": "code",
   "execution_count": 764,
   "metadata": {},
   "outputs": [
    {
     "data": {
      "text/plain": [
       "array([11.70286384, 12.02871751, 12.11700635, ..., 11.98214621,\n",
       "       11.63605047, 12.30284157])"
      ]
     },
     "execution_count": 764,
     "metadata": {},
     "output_type": "execute_result"
    }
   ],
   "source": [
    "y_pred"
   ]
  },
  {
   "cell_type": "code",
   "execution_count": 765,
   "metadata": {},
   "outputs": [],
   "source": [
    "tmp = pd.read_csv('house-prices-advanced-regression-techniques/test.csv')\n",
    "tmp['SalePrice'] = np.expm1(y_pred)"
   ]
  },
  {
   "cell_type": "code",
   "execution_count": 766,
   "metadata": {},
   "outputs": [
    {
     "data": {
      "text/plain": [
       "(1459,)"
      ]
     },
     "execution_count": 766,
     "metadata": {},
     "output_type": "execute_result"
    }
   ],
   "source": [
    "y_pred.shape"
   ]
  },
  {
   "cell_type": "code",
   "execution_count": 767,
   "metadata": {},
   "outputs": [],
   "source": [
    "pred_df = tmp[['Id', 'SalePrice']]\n",
    "pred_df.set_index('Id', inplace=True)"
   ]
  },
  {
   "cell_type": "code",
   "execution_count": 768,
   "metadata": {},
   "outputs": [
    {
     "data": {
      "text/html": [
       "<div>\n",
       "<style scoped>\n",
       "    .dataframe tbody tr th:only-of-type {\n",
       "        vertical-align: middle;\n",
       "    }\n",
       "\n",
       "    .dataframe tbody tr th {\n",
       "        vertical-align: top;\n",
       "    }\n",
       "\n",
       "    .dataframe thead th {\n",
       "        text-align: right;\n",
       "    }\n",
       "</style>\n",
       "<table border=\"1\" class=\"dataframe\">\n",
       "  <thead>\n",
       "    <tr style=\"text-align: right;\">\n",
       "      <th></th>\n",
       "      <th>SalePrice</th>\n",
       "    </tr>\n",
       "    <tr>\n",
       "      <th>Id</th>\n",
       "      <th></th>\n",
       "    </tr>\n",
       "  </thead>\n",
       "  <tbody>\n",
       "    <tr>\n",
       "      <th>1461</th>\n",
       "      <td>120916.507483</td>\n",
       "    </tr>\n",
       "    <tr>\n",
       "      <th>1462</th>\n",
       "      <td>167495.462816</td>\n",
       "    </tr>\n",
       "    <tr>\n",
       "      <th>1463</th>\n",
       "      <td>182955.985594</td>\n",
       "    </tr>\n",
       "    <tr>\n",
       "      <th>1464</th>\n",
       "      <td>198050.783972</td>\n",
       "    </tr>\n",
       "    <tr>\n",
       "      <th>1465</th>\n",
       "      <td>190343.599325</td>\n",
       "    </tr>\n",
       "    <tr>\n",
       "      <th>...</th>\n",
       "      <td>...</td>\n",
       "    </tr>\n",
       "    <tr>\n",
       "      <th>2915</th>\n",
       "      <td>80520.852447</td>\n",
       "    </tr>\n",
       "    <tr>\n",
       "      <th>2916</th>\n",
       "      <td>86344.462317</td>\n",
       "    </tr>\n",
       "    <tr>\n",
       "      <th>2917</th>\n",
       "      <td>159873.788282</td>\n",
       "    </tr>\n",
       "    <tr>\n",
       "      <th>2918</th>\n",
       "      <td>113101.579375</td>\n",
       "    </tr>\n",
       "    <tr>\n",
       "      <th>2919</th>\n",
       "      <td>220320.157354</td>\n",
       "    </tr>\n",
       "  </tbody>\n",
       "</table>\n",
       "<p>1459 rows × 1 columns</p>\n",
       "</div>"
      ],
      "text/plain": [
       "          SalePrice\n",
       "Id                 \n",
       "1461  120916.507483\n",
       "1462  167495.462816\n",
       "1463  182955.985594\n",
       "1464  198050.783972\n",
       "1465  190343.599325\n",
       "...             ...\n",
       "2915   80520.852447\n",
       "2916   86344.462317\n",
       "2917  159873.788282\n",
       "2918  113101.579375\n",
       "2919  220320.157354\n",
       "\n",
       "[1459 rows x 1 columns]"
      ]
     },
     "execution_count": 768,
     "metadata": {},
     "output_type": "execute_result"
    }
   ],
   "source": [
    "pred_df"
   ]
  },
  {
   "cell_type": "code",
   "execution_count": 769,
   "metadata": {},
   "outputs": [],
   "source": [
    "pred_df.to_csv('out.csv')"
   ]
  },
  {
   "cell_type": "code",
   "execution_count": null,
   "metadata": {},
   "outputs": [],
   "source": [
    "np.sqrt(mean_squared_log_error(pred_df.SalePrice, np.expm1(y_pred)))"
   ]
  },
  {
   "cell_type": "code",
   "execution_count": null,
   "metadata": {},
   "outputs": [],
   "source": []
  },
  {
   "cell_type": "code",
   "execution_count": null,
   "metadata": {},
   "outputs": [],
   "source": []
  }
 ],
 "metadata": {
  "kernelspec": {
   "display_name": "Python 3",
   "language": "python",
   "name": "python3"
  },
  "language_info": {
   "codemirror_mode": {
    "name": "ipython",
    "version": 3
   },
   "file_extension": ".py",
   "mimetype": "text/x-python",
   "name": "python",
   "nbconvert_exporter": "python",
   "pygments_lexer": "ipython3",
   "version": "3.7.6"
  }
 },
 "nbformat": 4,
 "nbformat_minor": 4
}
