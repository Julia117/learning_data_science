{
 "cells": [
  {
   "cell_type": "code",
   "execution_count": 1,
   "id": "hired-hands",
   "metadata": {},
   "outputs": [],
   "source": [
    "from sklearn import tree\n",
    "import pandas as pd\n",
    "import numpy as np\n",
    "%matplotlib inline\n",
    "import matplotlib.pyplot as plt\n",
    "import seaborn as sns\n",
    "from sklearn.model_selection import train_test_split\n",
    "import re\n"
   ]
  },
  {
   "cell_type": "code",
   "execution_count": 2,
   "id": "nearby-attribute",
   "metadata": {},
   "outputs": [],
   "source": [
    "import spacy\n",
    "from spacy.lang.en import English\n",
    "import contextualSpellCheck"
   ]
  },
  {
   "cell_type": "code",
   "execution_count": 38,
   "id": "crude-worth",
   "metadata": {},
   "outputs": [],
   "source": [
    "train_data = pd.read_csv('nlp-getting-started/train.csv', index_col=0)\n",
    "test_data = pd.read_csv('nlp-getting-started/test.csv', index_col=0)"
   ]
  },
  {
   "cell_type": "code",
   "execution_count": 39,
   "id": "comparable-medium",
   "metadata": {
    "scrolled": true
   },
   "outputs": [
    {
     "data": {
      "text/html": [
       "<div>\n",
       "<style scoped>\n",
       "    .dataframe tbody tr th:only-of-type {\n",
       "        vertical-align: middle;\n",
       "    }\n",
       "\n",
       "    .dataframe tbody tr th {\n",
       "        vertical-align: top;\n",
       "    }\n",
       "\n",
       "    .dataframe thead th {\n",
       "        text-align: right;\n",
       "    }\n",
       "</style>\n",
       "<table border=\"1\" class=\"dataframe\">\n",
       "  <thead>\n",
       "    <tr style=\"text-align: right;\">\n",
       "      <th></th>\n",
       "      <th>keyword</th>\n",
       "      <th>location</th>\n",
       "      <th>text</th>\n",
       "      <th>target</th>\n",
       "    </tr>\n",
       "    <tr>\n",
       "      <th>id</th>\n",
       "      <th></th>\n",
       "      <th></th>\n",
       "      <th></th>\n",
       "      <th></th>\n",
       "    </tr>\n",
       "  </thead>\n",
       "  <tbody>\n",
       "    <tr>\n",
       "      <th>1</th>\n",
       "      <td>NaN</td>\n",
       "      <td>NaN</td>\n",
       "      <td>Our Deeds are the Reason of this #earthquake M...</td>\n",
       "      <td>1</td>\n",
       "    </tr>\n",
       "    <tr>\n",
       "      <th>4</th>\n",
       "      <td>NaN</td>\n",
       "      <td>NaN</td>\n",
       "      <td>Forest fire near La Ronge Sask. Canada</td>\n",
       "      <td>1</td>\n",
       "    </tr>\n",
       "    <tr>\n",
       "      <th>5</th>\n",
       "      <td>NaN</td>\n",
       "      <td>NaN</td>\n",
       "      <td>All residents asked to 'shelter in place' are ...</td>\n",
       "      <td>1</td>\n",
       "    </tr>\n",
       "    <tr>\n",
       "      <th>6</th>\n",
       "      <td>NaN</td>\n",
       "      <td>NaN</td>\n",
       "      <td>13,000 people receive #wildfires evacuation or...</td>\n",
       "      <td>1</td>\n",
       "    </tr>\n",
       "    <tr>\n",
       "      <th>7</th>\n",
       "      <td>NaN</td>\n",
       "      <td>NaN</td>\n",
       "      <td>Just got sent this photo from Ruby #Alaska as ...</td>\n",
       "      <td>1</td>\n",
       "    </tr>\n",
       "  </tbody>\n",
       "</table>\n",
       "</div>"
      ],
      "text/plain": [
       "   keyword location                                               text  target\n",
       "id                                                                            \n",
       "1      NaN      NaN  Our Deeds are the Reason of this #earthquake M...       1\n",
       "4      NaN      NaN             Forest fire near La Ronge Sask. Canada       1\n",
       "5      NaN      NaN  All residents asked to 'shelter in place' are ...       1\n",
       "6      NaN      NaN  13,000 people receive #wildfires evacuation or...       1\n",
       "7      NaN      NaN  Just got sent this photo from Ruby #Alaska as ...       1"
      ]
     },
     "execution_count": 39,
     "metadata": {},
     "output_type": "execute_result"
    }
   ],
   "source": [
    "train_data.head()"
   ]
  },
  {
   "cell_type": "code",
   "execution_count": 40,
   "id": "hairy-college",
   "metadata": {},
   "outputs": [
    {
     "name": "stdout",
     "output_type": "stream",
     "text": [
      "(7613, 4) (3263, 3)\n"
     ]
    }
   ],
   "source": [
    "print(train_data.shape, test_data.shape)"
   ]
  },
  {
   "cell_type": "code",
   "execution_count": 41,
   "id": "impaired-hospital",
   "metadata": {
    "scrolled": true
   },
   "outputs": [
    {
     "data": {
      "text/plain": [
       "keyword       61\n",
       "location    2533\n",
       "text           0\n",
       "target         0\n",
       "dtype: int64"
      ]
     },
     "execution_count": 41,
     "metadata": {},
     "output_type": "execute_result"
    }
   ],
   "source": [
    "train_data.isnull().sum()"
   ]
  },
  {
   "cell_type": "markdown",
   "id": "competitive-kansas",
   "metadata": {},
   "source": [
    "## Dealing with mislabeling"
   ]
  },
  {
   "cell_type": "code",
   "execution_count": 42,
   "id": "formal-found",
   "metadata": {
    "scrolled": true
   },
   "outputs": [
    {
     "data": {
      "text/plain": [
       "['like for the music video I want some real action shit like burning buildings and police chases not some weak ben winston shit',\n",
       " 'Hellfire! We don\\x89Ûªt even want to think about it or mention it so let\\x89Ûªs not do anything that leads to it #islam!',\n",
       " \"The Prophet (peace be upon him) said 'Save yourself from Hellfire even if it is by giving half a date in charity.'\",\n",
       " 'In #islam saving a person is equal in reward to saving all humans! Islam is the opposite of terrorism!',\n",
       " 'To fight bioterrorism sir.',\n",
       " 'Who is bringing the tornadoes and floods. Who is bringing the climate change. God is after America He is plaguing her\\n \\n#FARRAKHAN #QUOTE',\n",
       " '#foodscare #offers2go #NestleIndia slips into loss after #Magginoodle #ban unsafe and hazardous for #humanconsumption',\n",
       " '#Allah describes piling up #wealth thinking it would last #forever as the description of the people of #Hellfire in Surah Humaza. #Reflect',\n",
       " 'He came to a land which was engulfed in tribal war and turned it into a land of peace i.e. Madinah. #ProphetMuhammad #islam',\n",
       " 'RT NotExplained: The only known image of infamous hijacker D.B. Cooper. http://t.co/JlzK2HdeTG',\n",
       " 'Hellfire is surrounded by desires so be careful and don\\x89Ûªt let your desires control you! #Afterlife',\n",
       " 'CLEARED:incident with injury:I-495  inner loop Exit 31 - MD 97/Georgia Ave Silver Spring',\n",
       " \"Mmmmmm I'm burning.... I'm burning buildings I'm building.... Oooooohhhh oooh ooh...\",\n",
       " 'wowo--=== 12000 Nigerian refugees repatriated from Cameroon',\n",
       " '.POTUS #StrategicPatience is a strategy for #Genocide; refugees; IDP Internally displaced people; horror; etc. https://t.co/rqWuoy1fm4',\n",
       " 'Caution: breathing may be hazardous to your health.',\n",
       " 'I Pledge Allegiance To The P.O.P.E. And The Burning Buildings of Epic City. ??????',\n",
       " 'that horrible sinking feeling when you\\x89Ûªve been at home on your phone for a while and you realise its been on 3G this whole time']"
      ]
     },
     "execution_count": 42,
     "metadata": {},
     "output_type": "execute_result"
    }
   ],
   "source": [
    "mislabeled_data = train_data.groupby(['text']).nunique().sort_values(by='target', ascending=False)\n",
    "mislabeled_data = mislabeled_data[mislabeled_data['target'] > 1]['target']\n",
    "mislabeled_data.index.tolist()"
   ]
  },
  {
   "cell_type": "code",
   "execution_count": 79,
   "id": "continuing-large",
   "metadata": {},
   "outputs": [],
   "source": [
    "def fix_target(l):\n",
    "    true_labels = [0, 0, 0, 0, 0, 1, 0, 0, 0, 1, 0, 1, 0, 0, 0, 1, 0, 0]\n",
    "    for i in range(len(l)):\n",
    "        indexes = train_data.loc[train_data['text'] == l[i]].index\n",
    "        for index in indexes:\n",
    "            train_data.loc[index, 'target'] = true_labels[i]           "
   ]
  },
  {
   "cell_type": "code",
   "execution_count": 81,
   "id": "interracial-dynamics",
   "metadata": {
    "scrolled": true
   },
   "outputs": [],
   "source": [
    "l = mislabeled_data.index.tolist()\n",
    "fix_target(l)"
   ]
  },
  {
   "cell_type": "markdown",
   "id": "accessible-compatibility",
   "metadata": {},
   "source": [
    "## Separate Text"
   ]
  },
  {
   "cell_type": "code",
   "execution_count": 7,
   "id": "focal-composite",
   "metadata": {},
   "outputs": [],
   "source": [
    "text = pd.concat([train_data.text, test_data.text])"
   ]
  },
  {
   "cell_type": "code",
   "execution_count": 8,
   "id": "promotional-resource",
   "metadata": {
    "scrolled": false
   },
   "outputs": [
    {
     "data": {
      "text/plain": [
       "id\n",
       "1    Our Deeds are the Reason of this #earthquake M...\n",
       "4               Forest fire near La Ronge Sask. Canada\n",
       "5    All residents asked to 'shelter in place' are ...\n",
       "6    13,000 people receive #wildfires evacuation or...\n",
       "7    Just got sent this photo from Ruby #Alaska as ...\n",
       "Name: text, dtype: object"
      ]
     },
     "execution_count": 8,
     "metadata": {},
     "output_type": "execute_result"
    }
   ],
   "source": [
    "text.head()"
   ]
  },
  {
   "cell_type": "code",
   "execution_count": null,
   "id": "nasty-healthcare",
   "metadata": {},
   "outputs": [],
   "source": []
  },
  {
   "cell_type": "code",
   "execution_count": null,
   "id": "suspended-trustee",
   "metadata": {},
   "outputs": [],
   "source": []
  },
  {
   "cell_type": "code",
   "execution_count": 9,
   "id": "painted-petroleum",
   "metadata": {},
   "outputs": [],
   "source": [
    "nlp = English()  # Includes English data\n",
    "nlp = spacy.load(\"en_core_web_sm\")\n",
    "lemmatizer = nlp.get_pipe(\"lemmatizer\")\n"
   ]
  },
  {
   "cell_type": "code",
   "execution_count": 10,
   "id": "mysterious-sugar",
   "metadata": {},
   "outputs": [],
   "source": [
    "def text_to_token(text):\n",
    "    return nlp(text)\n",
    "#     token_list = []\n",
    "#     text = nlp(text)\n",
    "#     for token in text:\n",
    "#         token_list.append(token)#.text)\n",
    "#     return token_list    "
   ]
  },
  {
   "cell_type": "code",
   "execution_count": 11,
   "id": "jewish-diesel",
   "metadata": {},
   "outputs": [],
   "source": [
    "# tmp = text_to_token(text)\n",
    "text = text.apply(text_to_token)"
   ]
  },
  {
   "cell_type": "markdown",
   "id": "lightweight-escape",
   "metadata": {},
   "source": [
    "### Remove stopwords"
   ]
  },
  {
   "cell_type": "code",
   "execution_count": 12,
   "id": "sticky-nutrition",
   "metadata": {},
   "outputs": [],
   "source": [
    "stopwords = nlp.Defaults.stop_words"
   ]
  },
  {
   "cell_type": "code",
   "execution_count": 13,
   "id": "strange-collectible",
   "metadata": {},
   "outputs": [],
   "source": [
    "def remove_stopwords(text):\n",
    "    return [word for word in text if word not in stopwords] "
   ]
  },
  {
   "cell_type": "code",
   "execution_count": 14,
   "id": "scenic-blood",
   "metadata": {},
   "outputs": [],
   "source": [
    "text = text.apply(remove_stopwords)"
   ]
  },
  {
   "cell_type": "markdown",
   "id": "democratic-liechtenstein",
   "metadata": {},
   "source": [
    "### Remove short words"
   ]
  },
  {
   "cell_type": "code",
   "execution_count": 15,
   "id": "committed-louis",
   "metadata": {},
   "outputs": [],
   "source": [
    "def remove_short_words(text):\n",
    "    return [word for word in text if len(word) > 3]"
   ]
  },
  {
   "cell_type": "code",
   "execution_count": 16,
   "id": "environmental-oxygen",
   "metadata": {},
   "outputs": [],
   "source": [
    "text = text.apply(remove_short_words)"
   ]
  },
  {
   "cell_type": "markdown",
   "id": "brutal-haven",
   "metadata": {},
   "source": [
    "### Remove punctuation"
   ]
  },
  {
   "cell_type": "code",
   "execution_count": 17,
   "id": "expanded-madagascar",
   "metadata": {},
   "outputs": [],
   "source": [
    "from string import punctuation"
   ]
  },
  {
   "cell_type": "code",
   "execution_count": 18,
   "id": "common-glasgow",
   "metadata": {
    "scrolled": true
   },
   "outputs": [
    {
     "data": {
      "text/plain": [
       "'!\"#$%&\\'()*+,-./:;<=>?@[\\\\]^_`{|}~'"
      ]
     },
     "execution_count": 18,
     "metadata": {},
     "output_type": "execute_result"
    }
   ],
   "source": [
    "punctuation"
   ]
  },
  {
   "cell_type": "code",
   "execution_count": 19,
   "id": "careful-nirvana",
   "metadata": {},
   "outputs": [],
   "source": [
    "def remove_punctuation(text):\n",
    "    return [word for word in text if word.text not in punctuation and word.text not in ['\\n']] "
   ]
  },
  {
   "cell_type": "code",
   "execution_count": 20,
   "id": "latest-listening",
   "metadata": {},
   "outputs": [],
   "source": [
    "text = text.apply(remove_punctuation)"
   ]
  },
  {
   "cell_type": "markdown",
   "id": "driven-stereo",
   "metadata": {},
   "source": [
    "### Remove @username"
   ]
  },
  {
   "cell_type": "code",
   "execution_count": 21,
   "id": "black-corporation",
   "metadata": {},
   "outputs": [],
   "source": [
    "def remove_username(txt):\n",
    "    pattern = '@[/w]*'\n",
    "    return [word for word in txt if not re.match(pattern, word.text)] "
   ]
  },
  {
   "cell_type": "code",
   "execution_count": 22,
   "id": "synthetic-allergy",
   "metadata": {},
   "outputs": [],
   "source": [
    "text = text.apply(remove_username)"
   ]
  },
  {
   "cell_type": "markdown",
   "id": "guided-intelligence",
   "metadata": {},
   "source": [
    "### Remove links"
   ]
  },
  {
   "cell_type": "code",
   "execution_count": 23,
   "id": "boxed-winning",
   "metadata": {},
   "outputs": [],
   "source": [
    "def remove_links(text):\n",
    "    pattern = \"(https?:\\/\\/)?([\\da-z\\.-]+)\\.([a-z\\.]{2,6})([\\/\\w \\.-]*)\"\n",
    "    return [word for word in text if not re.match(pattern, word.text)] "
   ]
  },
  {
   "cell_type": "code",
   "execution_count": 24,
   "id": "necessary-interstate",
   "metadata": {},
   "outputs": [
    {
     "data": {
      "text/plain": [
       "[huge, fire, Wholesale, markets, ablaze]"
      ]
     },
     "execution_count": 24,
     "metadata": {},
     "output_type": "execute_result"
    }
   ],
   "source": [
    "remove_links(text[93])"
   ]
  },
  {
   "cell_type": "code",
   "execution_count": 25,
   "id": "narrative-hazard",
   "metadata": {},
   "outputs": [],
   "source": [
    "text = text.apply(remove_links)"
   ]
  },
  {
   "cell_type": "markdown",
   "id": "separated-alexander",
   "metadata": {},
   "source": [
    "### Spelling correction\n"
   ]
  },
  {
   "cell_type": "code",
   "execution_count": 24,
   "id": "supposed-mortgage",
   "metadata": {},
   "outputs": [],
   "source": [
    "from autocorrect import Speller"
   ]
  },
  {
   "cell_type": "code",
   "execution_count": 25,
   "id": "proprietary-syndicate",
   "metadata": {},
   "outputs": [],
   "source": [
    "spell = Speller()"
   ]
  },
  {
   "cell_type": "code",
   "execution_count": 117,
   "id": "fresh-contribution",
   "metadata": {},
   "outputs": [],
   "source": [
    "# import contextualSpellCheck"
   ]
  },
  {
   "cell_type": "code",
   "execution_count": 134,
   "id": "minus-analyst",
   "metadata": {},
   "outputs": [
    {
     "name": "stdout",
     "output_type": "stream",
     "text": [
      "True\n",
      "Income was $9.4 million compared to the prior year of $2.7 million.\n"
     ]
    }
   ],
   "source": [
    "# import spacy\n",
    "# nlp = spacy.load('en_core_web_sm')\n",
    "# contextualSpellCheck.add_to_pipe(nlp)\n",
    "# doc = nlp('Income was $9.4 milion compared to the prior year of $2.7 milion.')\n",
    "\n",
    "# print(doc._.performed_spellCheck) #Should be True\n",
    "# print(doc._.outcome_spellCheck) #Income was $9.4 million compared to the prior year of $2.7 million."
   ]
  },
  {
   "cell_type": "code",
   "execution_count": 121,
   "id": "occupied-offering",
   "metadata": {},
   "outputs": [
    {
     "data": {
      "text/plain": [
       "<spacy.pipeline.sentencizer.Sentencizer at 0x7f8e83db76e0>"
      ]
     },
     "execution_count": 121,
     "metadata": {},
     "output_type": "execute_result"
    }
   ],
   "source": [
    "# nlp.add_pipe('sentencizer')"
   ]
  },
  {
   "cell_type": "code",
   "execution_count": 245,
   "id": "unsigned-fault",
   "metadata": {},
   "outputs": [],
   "source": [
    "def correct_spelling(text):\n",
    "    return [spell(word) for word in text]"
   ]
  },
  {
   "cell_type": "code",
   "execution_count": 249,
   "id": "defensive-monitor",
   "metadata": {},
   "outputs": [
    {
     "data": {
      "text/plain": [
       "id\n",
       "170    [I, seeing, Issues, aftershock]\n",
       "Name: text, dtype: object"
      ]
     },
     "execution_count": 249,
     "metadata": {},
     "output_type": "execute_result"
    }
   ],
   "source": [
    "text[117:118].apply(correct_spelling)"
   ]
  },
  {
   "cell_type": "code",
   "execution_count": 251,
   "id": "advance-gateway",
   "metadata": {},
   "outputs": [
    {
     "name": "stdout",
     "output_type": "stream",
     "text": [
      "0\n",
      "10\n",
      "20\n",
      "30\n",
      "40\n",
      "50\n",
      "60\n",
      "70\n",
      "80\n",
      "90\n",
      "100\n",
      "110\n",
      "120\n",
      "130\n",
      "140\n",
      "150\n",
      "160\n",
      "170\n",
      "180\n",
      "190\n",
      "200\n",
      "210\n",
      "220\n",
      "230\n",
      "240\n",
      "250\n",
      "260\n",
      "270\n",
      "280\n",
      "290\n",
      "300\n",
      "310\n",
      "320\n",
      "330\n",
      "340\n",
      "350\n",
      "360\n",
      "370\n",
      "380\n",
      "390\n",
      "400\n",
      "410\n",
      "420\n",
      "430\n",
      "440\n",
      "450\n",
      "460\n",
      "470\n",
      "480\n",
      "490\n",
      "500\n",
      "510\n",
      "520\n",
      "530\n",
      "540\n",
      "550\n",
      "560\n",
      "570\n",
      "580\n",
      "590\n",
      "600\n",
      "610\n",
      "620\n",
      "630\n",
      "640\n",
      "650\n",
      "660\n",
      "670\n",
      "680\n",
      "690\n",
      "700\n",
      "710\n",
      "720\n",
      "730\n",
      "740\n",
      "750\n",
      "760\n",
      "770\n",
      "780\n",
      "790\n",
      "800\n",
      "810\n",
      "820\n",
      "830\n",
      "840\n",
      "850\n",
      "860\n",
      "870\n",
      "880\n",
      "890\n",
      "900\n",
      "910\n",
      "920\n",
      "930\n",
      "940\n",
      "950\n",
      "960\n",
      "970\n",
      "980\n",
      "990\n",
      "1000\n",
      "1010\n",
      "1020\n",
      "1030\n",
      "1040\n",
      "1050\n",
      "1060\n",
      "1070\n",
      "1080\n",
      "1090\n",
      "1100\n",
      "1110\n",
      "1120\n",
      "1130\n",
      "1140\n",
      "1150\n",
      "1160\n",
      "1170\n",
      "1180\n",
      "1190\n",
      "1200\n",
      "1210\n",
      "1220\n",
      "1230\n",
      "1240\n",
      "1250\n",
      "1260\n",
      "1270\n",
      "1280\n",
      "1290\n",
      "1300\n",
      "1310\n",
      "1320\n",
      "1330\n",
      "1340\n",
      "1350\n",
      "1360\n",
      "1370\n",
      "1380\n",
      "1390\n",
      "1400\n",
      "1410\n",
      "1420\n",
      "1430\n",
      "1440\n",
      "1450\n",
      "1460\n",
      "1470\n",
      "1480\n",
      "1490\n",
      "1500\n",
      "1510\n",
      "1520\n",
      "1530\n",
      "1540\n",
      "1550\n",
      "1560\n",
      "1570\n",
      "1580\n",
      "1590\n",
      "1600\n",
      "1610\n",
      "1620\n",
      "1630\n",
      "1640\n",
      "1650\n",
      "1660\n",
      "1670\n",
      "1680\n",
      "1690\n",
      "1700\n",
      "1710\n",
      "1720\n",
      "1730\n",
      "1740\n",
      "1750\n",
      "1760\n",
      "1770\n",
      "1780\n",
      "1790\n",
      "1800\n",
      "1810\n",
      "1820\n",
      "1830\n",
      "1840\n",
      "1850\n",
      "1860\n",
      "1870\n",
      "1880\n",
      "1890\n",
      "1900\n",
      "1910\n",
      "1920\n",
      "1930\n",
      "1940\n",
      "1950\n",
      "1960\n",
      "1970\n",
      "1980\n",
      "1990\n",
      "2000\n",
      "2010\n",
      "2020\n",
      "2030\n",
      "2040\n",
      "2050\n",
      "2060\n",
      "2070\n",
      "2080\n",
      "2090\n",
      "2100\n",
      "2110\n",
      "2120\n",
      "2130\n",
      "2140\n",
      "2150\n",
      "2160\n",
      "2170\n",
      "2180\n",
      "2190\n",
      "2200\n",
      "2210\n",
      "2220\n",
      "2230\n",
      "2240\n",
      "2250\n",
      "2260\n",
      "2270\n",
      "2280\n",
      "2290\n",
      "2300\n",
      "2310\n",
      "2320\n",
      "2330\n",
      "2340\n",
      "2350\n",
      "2360\n",
      "2370\n",
      "2380\n",
      "2390\n",
      "2400\n",
      "2410\n",
      "2420\n",
      "2430\n",
      "2440\n",
      "2450\n",
      "2460\n",
      "2470\n",
      "2480\n",
      "2490\n",
      "2500\n",
      "2510\n",
      "2520\n",
      "2530\n",
      "2540\n",
      "2550\n",
      "2560\n",
      "2570\n",
      "2580\n",
      "2590\n",
      "2600\n",
      "2610\n",
      "2620\n",
      "2630\n",
      "2640\n",
      "2650\n",
      "2660\n",
      "2670\n",
      "2680\n",
      "2690\n",
      "2700\n",
      "2710\n",
      "2720\n",
      "2730\n",
      "2740\n",
      "2750\n",
      "2760\n",
      "2770\n",
      "2780\n",
      "2790\n",
      "2800\n",
      "2810\n",
      "2820\n",
      "2830\n",
      "2840\n",
      "2850\n",
      "2860\n",
      "2870\n",
      "2880\n",
      "2890\n",
      "2900\n",
      "2910\n",
      "2920\n",
      "2930\n",
      "2940\n",
      "2950\n",
      "2960\n",
      "2970\n",
      "2980\n",
      "2990\n",
      "3000\n",
      "3010\n",
      "3020\n",
      "3030\n",
      "3040\n",
      "3050\n",
      "3060\n",
      "3070\n",
      "3080\n",
      "3090\n",
      "3100\n",
      "3110\n",
      "3120\n",
      "3130\n",
      "3140\n",
      "3150\n",
      "3160\n",
      "3170\n",
      "3180\n",
      "3190\n",
      "3200\n",
      "3210\n",
      "3220\n",
      "3230\n",
      "3240\n",
      "3250\n",
      "3260\n",
      "3270\n",
      "3280\n",
      "3290\n",
      "3300\n",
      "3310\n",
      "3320\n",
      "3330\n",
      "3340\n",
      "3350\n",
      "3360\n",
      "3370\n",
      "3380\n",
      "3390\n",
      "3400\n",
      "3410\n",
      "3420\n",
      "3430\n",
      "3440\n",
      "3450\n",
      "3460\n",
      "3470\n",
      "3480\n",
      "3490\n",
      "3500\n",
      "3510\n",
      "3520\n",
      "3530\n",
      "3540\n",
      "3550\n",
      "3560\n",
      "3570\n",
      "3580\n",
      "3590\n",
      "3600\n",
      "3610\n",
      "3620\n",
      "3630\n",
      "3640\n",
      "3650\n",
      "3660\n",
      "3670\n",
      "3680\n",
      "3690\n",
      "3700\n",
      "3710\n",
      "3720\n",
      "3730\n",
      "3740\n",
      "3750\n",
      "3760\n",
      "3770\n",
      "3780\n",
      "3790\n",
      "3800\n",
      "3810\n",
      "3820\n",
      "3830\n",
      "3840\n",
      "3850\n",
      "3860\n",
      "3870\n",
      "3880\n",
      "3890\n",
      "3900\n",
      "3910\n",
      "3920\n",
      "3930\n",
      "3940\n",
      "3950\n",
      "3960\n",
      "3970\n",
      "3980\n",
      "3990\n",
      "4000\n",
      "4010\n",
      "4020\n",
      "4030\n",
      "4040\n",
      "4050\n",
      "4060\n",
      "4070\n",
      "4080\n",
      "4090\n",
      "4100\n",
      "4110\n",
      "4120\n",
      "4130\n",
      "4140\n",
      "4150\n",
      "4160\n",
      "4170\n",
      "4180\n",
      "4190\n",
      "4200\n",
      "4210\n",
      "4220\n",
      "4230\n",
      "4240\n",
      "4250\n",
      "4260\n",
      "4270\n",
      "4280\n",
      "4290\n",
      "4300\n",
      "4310\n",
      "4320\n",
      "4330\n",
      "4340\n",
      "4350\n",
      "4360\n",
      "4370\n",
      "4380\n",
      "4390\n",
      "4400\n",
      "4410\n",
      "4420\n",
      "4430\n",
      "4440\n",
      "4450\n",
      "4460\n",
      "4470\n",
      "4480\n",
      "4490\n",
      "4500\n",
      "4510\n",
      "4520\n",
      "4530\n",
      "4540\n",
      "4550\n",
      "4560\n",
      "4570\n",
      "4580\n",
      "4590\n",
      "4600\n",
      "4610\n",
      "4620\n",
      "4630\n",
      "4640\n",
      "4650\n",
      "4660\n",
      "4670\n",
      "4680\n",
      "4690\n",
      "4700\n",
      "4710\n",
      "4720\n",
      "4730\n",
      "4740\n",
      "4750\n",
      "4760\n",
      "4770\n",
      "4780\n",
      "4790\n",
      "4800\n",
      "4810\n",
      "4820\n",
      "4830\n",
      "4840\n",
      "4850\n",
      "4860\n",
      "4870\n",
      "4880\n",
      "4890\n",
      "4900\n",
      "4910\n",
      "4920\n",
      "4930\n",
      "4940\n",
      "4950\n",
      "4960\n",
      "4970\n",
      "4980\n",
      "4990\n",
      "5000\n",
      "5010\n",
      "5020\n",
      "5030\n",
      "5040\n",
      "5050\n",
      "5060\n",
      "5070\n",
      "5080\n",
      "5090\n",
      "5100\n",
      "5110\n",
      "5120\n",
      "5130\n",
      "5140\n",
      "5150\n",
      "5160\n",
      "5170\n",
      "5180\n",
      "5190\n",
      "5200\n",
      "5210\n",
      "5220\n",
      "5230\n",
      "5240\n",
      "5250\n",
      "5260\n",
      "5270\n",
      "5280\n",
      "5290\n",
      "5300\n",
      "5310\n",
      "5320\n",
      "5330\n",
      "5340\n",
      "5350\n",
      "5360\n",
      "5370\n",
      "5380\n",
      "5390\n",
      "5400\n",
      "5410\n",
      "5420\n",
      "5430\n",
      "5440\n",
      "5450\n",
      "5460\n",
      "5470\n",
      "5480\n",
      "5490\n",
      "5500\n",
      "5510\n",
      "5520\n",
      "5530\n",
      "5540\n",
      "5550\n",
      "5560\n",
      "5570\n",
      "5580\n",
      "5590\n",
      "5600\n",
      "5610\n",
      "5620\n",
      "5630\n",
      "5640\n",
      "5650\n",
      "5660\n",
      "5670\n",
      "5680\n",
      "5690\n",
      "5700\n",
      "5710\n",
      "5720\n",
      "5730\n",
      "5740\n",
      "5750\n",
      "5760\n",
      "5770\n",
      "5780\n",
      "5790\n",
      "5800\n",
      "5810\n",
      "5820\n",
      "5830\n",
      "5840\n",
      "5850\n",
      "5860\n",
      "5870\n",
      "5880\n",
      "5890\n",
      "5900\n",
      "5910\n",
      "5920\n",
      "5930\n",
      "5940\n",
      "5950\n",
      "5960\n",
      "5970\n",
      "5980\n",
      "5990\n",
      "6000\n",
      "6010\n",
      "6020\n",
      "6030\n",
      "6040\n",
      "6050\n",
      "6060\n",
      "6070\n",
      "6080\n",
      "6090\n",
      "6100\n",
      "6110\n",
      "6120\n",
      "6130\n",
      "6140\n",
      "6150\n",
      "6160\n",
      "6170\n",
      "6180\n",
      "6190\n",
      "6200\n",
      "6210\n",
      "6220\n",
      "6230\n",
      "6240\n",
      "6250\n",
      "6260\n",
      "6270\n",
      "6280\n",
      "6290\n",
      "6300\n",
      "6310\n",
      "6320\n",
      "6330\n",
      "6340\n",
      "6350\n",
      "6360\n",
      "6370\n",
      "6380\n",
      "6390\n",
      "6400\n",
      "6410\n",
      "6420\n",
      "6430\n",
      "6440\n",
      "6450\n",
      "6460\n",
      "6470\n",
      "6480\n",
      "6490\n",
      "6500\n",
      "6510\n",
      "6520\n",
      "6530\n",
      "6540\n",
      "6550\n",
      "6560\n",
      "6570\n",
      "6580\n",
      "6590\n",
      "6600\n",
      "6610\n",
      "6620\n",
      "6630\n",
      "6640\n",
      "6650\n",
      "6660\n",
      "6670\n",
      "6680\n",
      "6690\n",
      "6700\n",
      "6710\n",
      "6720\n",
      "6730\n",
      "6740\n",
      "6750\n",
      "6760\n",
      "6770\n",
      "6780\n",
      "6790\n",
      "6800\n",
      "6810\n",
      "6820\n",
      "6830\n",
      "6840\n",
      "6850\n",
      "6860\n",
      "6870\n",
      "6880\n",
      "6890\n",
      "6900\n",
      "6910\n",
      "6920\n",
      "6930\n",
      "6940\n",
      "6950\n",
      "6960\n",
      "6970\n",
      "6980\n",
      "6990\n",
      "7000\n",
      "7010\n",
      "7020\n",
      "7030\n",
      "7040\n",
      "7050\n",
      "7060\n",
      "7070\n",
      "7080\n",
      "7090\n",
      "7100\n",
      "7110\n",
      "7120\n",
      "7130\n",
      "7140\n",
      "7150\n",
      "7160\n",
      "7170\n",
      "7180\n",
      "7190\n",
      "7200\n",
      "7210\n",
      "7220\n",
      "7230\n",
      "7240\n",
      "7250\n",
      "7260\n",
      "7270\n",
      "7280\n",
      "7290\n",
      "7300\n",
      "7310\n",
      "7320\n",
      "7330\n",
      "7340\n",
      "7350\n",
      "7360\n",
      "7370\n",
      "7380\n",
      "7390\n",
      "7400\n",
      "7410\n",
      "7420\n",
      "7430\n",
      "7440\n",
      "7450\n",
      "7460\n",
      "7470\n",
      "7480\n",
      "7490\n",
      "7500\n",
      "7510\n",
      "7520\n",
      "7530\n",
      "7540\n",
      "7550\n",
      "7560\n",
      "7570\n",
      "7580\n",
      "7590\n",
      "7600\n",
      "7610\n",
      "7620\n",
      "7630\n",
      "7640\n",
      "7650\n",
      "7660\n",
      "7670\n",
      "7680\n",
      "7690\n",
      "7700\n",
      "7710\n",
      "7720\n",
      "7730\n",
      "7740\n",
      "7750\n",
      "7760\n",
      "7770\n",
      "7780\n",
      "7790\n",
      "7800\n",
      "7810\n",
      "7820\n",
      "7830\n",
      "7840\n",
      "7850\n",
      "7860\n",
      "7870\n",
      "7880\n",
      "7890\n",
      "7900\n",
      "7910\n",
      "7920\n",
      "7930\n",
      "7940\n",
      "7950\n",
      "7960\n",
      "7970\n",
      "7980\n",
      "7990\n",
      "8000\n",
      "8010\n",
      "8020\n",
      "8030\n",
      "8040\n",
      "8050\n",
      "8060\n",
      "8070\n",
      "8080\n",
      "8090\n",
      "8100\n",
      "8110\n",
      "8120\n",
      "8130\n",
      "8140\n",
      "8150\n",
      "8160\n",
      "8170\n",
      "8180\n",
      "8190\n",
      "8200\n",
      "8210\n",
      "8220\n",
      "8230\n",
      "8240\n",
      "8250\n",
      "8260\n",
      "8270\n",
      "8280\n",
      "8290\n",
      "8300\n",
      "8310\n",
      "8320\n",
      "8330\n",
      "8340\n",
      "8350\n",
      "8360\n",
      "8370\n",
      "8380\n",
      "8390\n",
      "8400\n",
      "8410\n",
      "8420\n",
      "8430\n",
      "8440\n",
      "8450\n",
      "8460\n",
      "8470\n",
      "8480\n",
      "8490\n",
      "8500\n",
      "8510\n",
      "8520\n",
      "8530\n",
      "8540\n",
      "8550\n",
      "8560\n",
      "8570\n",
      "8580\n",
      "8590\n",
      "8600\n",
      "8610\n",
      "8620\n",
      "8630\n",
      "8640\n",
      "8650\n",
      "8660\n",
      "8670\n",
      "8680\n",
      "8690\n",
      "8700\n",
      "8710\n",
      "8720\n",
      "8730\n",
      "8740\n",
      "8750\n",
      "8760\n",
      "8770\n",
      "8780\n",
      "8790\n",
      "8800\n",
      "8810\n",
      "8820\n",
      "8830\n",
      "8840\n",
      "8850\n",
      "8860\n",
      "8870\n",
      "8880\n",
      "8890\n",
      "8900\n",
      "8910\n",
      "8920\n",
      "8930\n",
      "8940\n",
      "8950\n",
      "8960\n",
      "8970\n",
      "8980\n",
      "8990\n",
      "9000\n",
      "9010\n",
      "9020\n",
      "9030\n",
      "9040\n",
      "9050\n",
      "9060\n",
      "9070\n",
      "9080\n",
      "9090\n",
      "9100\n",
      "9110\n",
      "9120\n",
      "9130\n",
      "9140\n",
      "9150\n",
      "9160\n",
      "9170\n",
      "9180\n",
      "9190\n",
      "9200\n",
      "9210\n",
      "9220\n",
      "9230\n",
      "9240\n",
      "9250\n",
      "9260\n",
      "9270\n",
      "9280\n",
      "9290\n",
      "9300\n",
      "9310\n",
      "9320\n",
      "9330\n",
      "9340\n",
      "9350\n",
      "9360\n",
      "9370\n",
      "9380\n",
      "9390\n",
      "9400\n",
      "9410\n",
      "9420\n",
      "9430\n",
      "9440\n",
      "9450\n",
      "9460\n",
      "9470\n",
      "9480\n",
      "9490\n",
      "9500\n",
      "9510\n",
      "9520\n",
      "9530\n",
      "9540\n",
      "9550\n",
      "9560\n",
      "9570\n",
      "9580\n",
      "9590\n",
      "9600\n",
      "9610\n",
      "9620\n",
      "9630\n",
      "9640\n",
      "9650\n",
      "9660\n",
      "9670\n",
      "9680\n",
      "9690\n",
      "9700\n",
      "9710\n",
      "9720\n",
      "9730\n",
      "9740\n",
      "9750\n",
      "9760\n",
      "9770\n",
      "9780\n",
      "9790\n",
      "9800\n",
      "9810\n",
      "9820\n",
      "9830\n",
      "9840\n",
      "9850\n",
      "9860\n",
      "9870\n",
      "9880\n",
      "9890\n",
      "9900\n",
      "9910\n",
      "9920\n",
      "9930\n",
      "9940\n",
      "9950\n",
      "9960\n",
      "9970\n",
      "9980\n",
      "9990\n",
      "10000\n",
      "10010\n",
      "10020\n",
      "10030\n",
      "10040\n",
      "10050\n",
      "10060\n",
      "10070\n",
      "10080\n",
      "10090\n",
      "10100\n",
      "10110\n",
      "10120\n",
      "10130\n",
      "10140\n",
      "10150\n",
      "10160\n",
      "10170\n",
      "10180\n",
      "10190\n",
      "10200\n",
      "10210\n",
      "10220\n",
      "10230\n",
      "10240\n",
      "10250\n",
      "10260\n",
      "10270\n",
      "10280\n",
      "10290\n",
      "10300\n",
      "10310\n",
      "10320\n",
      "10330\n",
      "10340\n",
      "10350\n",
      "10360\n",
      "10370\n",
      "10380\n",
      "10390\n",
      "10400\n",
      "10410\n",
      "10420\n",
      "10430\n",
      "10440\n",
      "10450\n",
      "10460\n",
      "10470\n",
      "10480\n",
      "10490\n",
      "10500\n",
      "10510\n",
      "10520\n",
      "10530\n",
      "10540\n",
      "10550\n",
      "10560\n",
      "10570\n",
      "10580\n",
      "10590\n",
      "10600\n",
      "10610\n",
      "10620\n",
      "10630\n",
      "10640\n",
      "10650\n",
      "10660\n",
      "10670\n",
      "10680\n",
      "10690\n",
      "10700\n",
      "10710\n",
      "10720\n",
      "10730\n",
      "10740\n",
      "10750\n",
      "10760\n",
      "10770\n",
      "10780\n",
      "10790\n",
      "10800\n",
      "10810\n",
      "10820\n",
      "10830\n",
      "10840\n",
      "10850\n",
      "10860\n",
      "10870\n"
     ]
    }
   ],
   "source": [
    "for i in range(len(text)):\n",
    "#     text[i] = text[i].apply(correct_spelling)\n",
    "    text[i] = correct_spelling(text[i])\n",
    "    if i % 10 == 0:\n",
    "        print(i)"
   ]
  },
  {
   "cell_type": "code",
   "execution_count": 273,
   "id": "multiple-charlotte",
   "metadata": {},
   "outputs": [],
   "source": [
    "text_with_spelling = text.copy()"
   ]
  },
  {
   "cell_type": "code",
   "execution_count": 272,
   "id": "limited-premium",
   "metadata": {},
   "outputs": [
    {
     "data": {
      "text/plain": [
       "id\n",
       "1    [Our, Deeds, Reason, earthquake, May, ALL, For...\n",
       "4        [Forest, fire, near, La, Range, Task, Canada]\n",
       "5    [All, residents, asked, shelter, place, notifi...\n",
       "6    [13,000, people, receive, wildfires, evacuatio...\n",
       "7    [Just, got, sent, photo, Ruby, Alaska, smoke, ...\n",
       "Name: text, dtype: object"
      ]
     },
     "execution_count": 272,
     "metadata": {},
     "output_type": "execute_result"
    }
   ],
   "source": [
    "text.head()"
   ]
  },
  {
   "cell_type": "code",
   "execution_count": 255,
   "id": "convertible-rendering",
   "metadata": {},
   "outputs": [],
   "source": [
    "text = text.apply(remove_stopwords)"
   ]
  },
  {
   "cell_type": "code",
   "execution_count": 70,
   "id": "apparent-right",
   "metadata": {
    "scrolled": true
   },
   "outputs": [
    {
     "data": {
      "text/plain": [
       "id\n",
       "1           [deed, Reason, earthquake, ALLAH, forgive]\n",
       "4                   forest fire near Ronge Sask Canada\n",
       "5    resident shelter place notify officer evacuati...\n",
       "6    [13,000, people, receive, wildfire, evacuation...\n",
       "7    [send, photo, Ruby, Alaska, smoke, wildfires, ...\n",
       "Name: text, dtype: object"
      ]
     },
     "execution_count": 70,
     "metadata": {},
     "output_type": "execute_result"
    }
   ],
   "source": [
    "text.head()"
   ]
  },
  {
   "cell_type": "code",
   "execution_count": null,
   "id": "surprising-browse",
   "metadata": {},
   "outputs": [],
   "source": []
  },
  {
   "cell_type": "markdown",
   "id": "broadband-essex",
   "metadata": {},
   "source": [
    "## Dealing with mislabeling"
   ]
  },
  {
   "cell_type": "code",
   "execution_count": 37,
   "id": "immune-interface",
   "metadata": {
    "scrolled": true
   },
   "outputs": [
    {
     "data": {
      "text/plain": [
       "['like for the music video I want some real action shit like burning buildings and police chases not some weak ben winston shit',\n",
       " 'Hellfire! We don\\x89Ûªt even want to think about it or mention it so let\\x89Ûªs not do anything that leads to it #islam!',\n",
       " \"The Prophet (peace be upon him) said 'Save yourself from Hellfire even if it is by giving half a date in charity.'\",\n",
       " 'In #islam saving a person is equal in reward to saving all humans! Islam is the opposite of terrorism!',\n",
       " 'To fight bioterrorism sir.',\n",
       " 'Who is bringing the tornadoes and floods. Who is bringing the climate change. God is after America He is plaguing her\\n \\n#FARRAKHAN #QUOTE',\n",
       " '#foodscare #offers2go #NestleIndia slips into loss after #Magginoodle #ban unsafe and hazardous for #humanconsumption',\n",
       " '#Allah describes piling up #wealth thinking it would last #forever as the description of the people of #Hellfire in Surah Humaza. #Reflect',\n",
       " 'He came to a land which was engulfed in tribal war and turned it into a land of peace i.e. Madinah. #ProphetMuhammad #islam',\n",
       " 'RT NotExplained: The only known image of infamous hijacker D.B. Cooper. http://t.co/JlzK2HdeTG',\n",
       " 'Hellfire is surrounded by desires so be careful and don\\x89Ûªt let your desires control you! #Afterlife',\n",
       " 'CLEARED:incident with injury:I-495  inner loop Exit 31 - MD 97/Georgia Ave Silver Spring',\n",
       " \"Mmmmmm I'm burning.... I'm burning buildings I'm building.... Oooooohhhh oooh ooh...\",\n",
       " 'wowo--=== 12000 Nigerian refugees repatriated from Cameroon',\n",
       " '.POTUS #StrategicPatience is a strategy for #Genocide; refugees; IDP Internally displaced people; horror; etc. https://t.co/rqWuoy1fm4',\n",
       " 'Caution: breathing may be hazardous to your health.',\n",
       " 'I Pledge Allegiance To The P.O.P.E. And The Burning Buildings of Epic City. ??????',\n",
       " 'that horrible sinking feeling when you\\x89Ûªve been at home on your phone for a while and you realise its been on 3G this whole time']"
      ]
     },
     "execution_count": 37,
     "metadata": {},
     "output_type": "execute_result"
    }
   ],
   "source": [
    "mislabeled_data = train_data.groupby(['text']).nunique().sort_values(by='target', ascending=False)\n",
    "mislabeled_data = mislabeled_data[mislabeled_data['target'] > 1]['target']\n",
    "mislabeled_data.index.tolist()"
   ]
  },
  {
   "cell_type": "code",
   "execution_count": 34,
   "id": "intermediate-neighborhood",
   "metadata": {},
   "outputs": [
    {
     "data": {
      "text/plain": [
       "id\n",
       "1760    1\n",
       "1950    0\n",
       "Name: target, dtype: int64"
      ]
     },
     "execution_count": 34,
     "metadata": {},
     "output_type": "execute_result"
    }
   ],
   "source": [
    "train_data.loc[train_data['text'] == l[0]].target"
   ]
  },
  {
   "cell_type": "code",
   "execution_count": 35,
   "id": "spectacular-stanford",
   "metadata": {},
   "outputs": [
    {
     "name": "stderr",
     "output_type": "stream",
     "text": [
      "/Users/yulialysenko/opt/anaconda3/lib/python3.7/site-packages/pandas/core/generic.py:5489: SettingWithCopyWarning: \n",
      "A value is trying to be set on a copy of a slice from a DataFrame.\n",
      "Try using .loc[row_indexer,col_indexer] = value instead\n",
      "\n",
      "See the caveats in the documentation: https://pandas.pydata.org/pandas-docs/stable/user_guide/indexing.html#returning-a-view-versus-a-copy\n",
      "  self[name] = value\n"
     ]
    }
   ],
   "source": [
    "fixed = (mislabeled_data.index.tolist())"
   ]
  },
  {
   "cell_type": "code",
   "execution_count": null,
   "id": "timely-sleeping",
   "metadata": {},
   "outputs": [],
   "source": []
  },
  {
   "cell_type": "code",
   "execution_count": 36,
   "id": "executed-dublin",
   "metadata": {
    "scrolled": true
   },
   "outputs": [
    {
     "ename": "NameError",
     "evalue": "name 'df_mislabeled' is not defined",
     "output_type": "error",
     "traceback": [
      "\u001b[0;31m---------------------------------------------------------------------------\u001b[0m",
      "\u001b[0;31mNameError\u001b[0m                                 Traceback (most recent call last)",
      "\u001b[0;32m<ipython-input-36-81b9d9b62bc8>\u001b[0m in \u001b[0;36m<module>\u001b[0;34m\u001b[0m\n\u001b[0;32m----> 1\u001b[0;31m \u001b[0mdf_mislabeled\u001b[0m\u001b[0;34m\u001b[0m\u001b[0;34m\u001b[0m\u001b[0m\n\u001b[0m",
      "\u001b[0;31mNameError\u001b[0m: name 'df_mislabeled' is not defined"
     ]
    }
   ],
   "source": [
    "df_mislabeled"
   ]
  },
  {
   "cell_type": "code",
   "execution_count": 86,
   "id": "distinguished-jewelry",
   "metadata": {},
   "outputs": [
    {
     "data": {
      "text/html": [
       "<div>\n",
       "<style scoped>\n",
       "    .dataframe tbody tr th:only-of-type {\n",
       "        vertical-align: middle;\n",
       "    }\n",
       "\n",
       "    .dataframe tbody tr th {\n",
       "        vertical-align: top;\n",
       "    }\n",
       "\n",
       "    .dataframe thead th {\n",
       "        text-align: right;\n",
       "    }\n",
       "</style>\n",
       "<table border=\"1\" class=\"dataframe\">\n",
       "  <thead>\n",
       "    <tr style=\"text-align: right;\">\n",
       "      <th></th>\n",
       "      <th>keyword</th>\n",
       "      <th>location</th>\n",
       "      <th>text</th>\n",
       "      <th>target</th>\n",
       "    </tr>\n",
       "    <tr>\n",
       "      <th>id</th>\n",
       "      <th></th>\n",
       "      <th></th>\n",
       "      <th></th>\n",
       "      <th></th>\n",
       "    </tr>\n",
       "  </thead>\n",
       "  <tbody>\n",
       "    <tr>\n",
       "      <th>1760</th>\n",
       "      <td>buildings%20burning</td>\n",
       "      <td>dallas</td>\n",
       "      <td>like for the music video I want some real acti...</td>\n",
       "      <td>1</td>\n",
       "    </tr>\n",
       "    <tr>\n",
       "      <th>1950</th>\n",
       "      <td>burning%20buildings</td>\n",
       "      <td>dallas</td>\n",
       "      <td>like for the music video I want some real acti...</td>\n",
       "      <td>0</td>\n",
       "    </tr>\n",
       "  </tbody>\n",
       "</table>\n",
       "</div>"
      ],
      "text/plain": [
       "                  keyword location  \\\n",
       "id                                   \n",
       "1760  buildings%20burning   dallas   \n",
       "1950  burning%20buildings   dallas   \n",
       "\n",
       "                                                   text  target  \n",
       "id                                                               \n",
       "1760  like for the music video I want some real acti...       1  \n",
       "1950  like for the music video I want some real acti...       0  "
      ]
     },
     "execution_count": 86,
     "metadata": {},
     "output_type": "execute_result"
    }
   ],
   "source": [
    "train_data[train_data['text'] == \"like for the music video I want some real action shit like burning buildings and police chases not some weak ben winston shit\"]"
   ]
  },
  {
   "cell_type": "code",
   "execution_count": 78,
   "id": "intelligent-talent",
   "metadata": {},
   "outputs": [
    {
     "data": {
      "text/plain": [
       "array([1, 0])"
      ]
     },
     "execution_count": 78,
     "metadata": {},
     "output_type": "execute_result"
    }
   ],
   "source": [
    "train_data.target.unique()"
   ]
  },
  {
   "cell_type": "code",
   "execution_count": 75,
   "id": "conventional-angola",
   "metadata": {},
   "outputs": [
    {
     "data": {
      "text/html": [
       "<div>\n",
       "<style scoped>\n",
       "    .dataframe tbody tr th:only-of-type {\n",
       "        vertical-align: middle;\n",
       "    }\n",
       "\n",
       "    .dataframe tbody tr th {\n",
       "        vertical-align: top;\n",
       "    }\n",
       "\n",
       "    .dataframe thead th {\n",
       "        text-align: right;\n",
       "    }\n",
       "</style>\n",
       "<table border=\"1\" class=\"dataframe\">\n",
       "  <thead>\n",
       "    <tr style=\"text-align: right;\">\n",
       "      <th></th>\n",
       "      <th>keyword</th>\n",
       "      <th>location</th>\n",
       "      <th>text</th>\n",
       "      <th>target</th>\n",
       "    </tr>\n",
       "    <tr>\n",
       "      <th>id</th>\n",
       "      <th></th>\n",
       "      <th></th>\n",
       "      <th></th>\n",
       "      <th></th>\n",
       "    </tr>\n",
       "  </thead>\n",
       "  <tbody>\n",
       "  </tbody>\n",
       "</table>\n",
       "</div>"
      ],
      "text/plain": [
       "Empty DataFrame\n",
       "Columns: [keyword, location, text, target]\n",
       "Index: []"
      ]
     },
     "execution_count": 75,
     "metadata": {},
     "output_type": "execute_result"
    }
   ],
   "source": [
    "train_data[train_data['target'] > 1]"
   ]
  },
  {
   "cell_type": "markdown",
   "id": "sensitive-console",
   "metadata": {},
   "source": [
    "### Lemmatization"
   ]
  },
  {
   "cell_type": "code",
   "execution_count": 363,
   "id": "premium-importance",
   "metadata": {},
   "outputs": [],
   "source": [
    "\n",
    "# nlp = spacy.load(\"en_core_web_sm\")\n"
   ]
  },
  {
   "cell_type": "code",
   "execution_count": 39,
   "id": "studied-hazard",
   "metadata": {},
   "outputs": [
    {
     "ename": "AttributeError",
     "evalue": "'str' object has no attribute 'lemma_'",
     "output_type": "error",
     "traceback": [
      "\u001b[0;31m---------------------------------------------------------------------------\u001b[0m",
      "\u001b[0;31mAttributeError\u001b[0m                            Traceback (most recent call last)",
      "\u001b[0;32m<ipython-input-39-26abd00dd4d7>\u001b[0m in \u001b[0;36m<module>\u001b[0;34m\u001b[0m\n\u001b[1;32m      2\u001b[0m \u001b[0;31m# l = train_data.text\u001b[0m\u001b[0;34m\u001b[0m\u001b[0;34m\u001b[0m\u001b[0;34m\u001b[0m\u001b[0m\n\u001b[1;32m      3\u001b[0m \u001b[0;31m# doc = nlp()# running runner\")\u001b[0m\u001b[0;34m\u001b[0m\u001b[0;34m\u001b[0m\u001b[0;34m\u001b[0m\u001b[0m\n\u001b[0;32m----> 4\u001b[0;31m \u001b[0mprint\u001b[0m\u001b[0;34m(\u001b[0m\u001b[0;34m[\u001b[0m\u001b[0mtoken\u001b[0m\u001b[0;34m.\u001b[0m\u001b[0mlemma_\u001b[0m \u001b[0;32mfor\u001b[0m \u001b[0mtoken\u001b[0m \u001b[0;32min\u001b[0m \u001b[0ml\u001b[0m\u001b[0;34m]\u001b[0m\u001b[0;34m)\u001b[0m\u001b[0;34m\u001b[0m\u001b[0;34m\u001b[0m\u001b[0m\n\u001b[0m",
      "\u001b[0;32m<ipython-input-39-26abd00dd4d7>\u001b[0m in \u001b[0;36m<listcomp>\u001b[0;34m(.0)\u001b[0m\n\u001b[1;32m      2\u001b[0m \u001b[0;31m# l = train_data.text\u001b[0m\u001b[0;34m\u001b[0m\u001b[0;34m\u001b[0m\u001b[0;34m\u001b[0m\u001b[0m\n\u001b[1;32m      3\u001b[0m \u001b[0;31m# doc = nlp()# running runner\")\u001b[0m\u001b[0;34m\u001b[0m\u001b[0;34m\u001b[0m\u001b[0;34m\u001b[0m\u001b[0m\n\u001b[0;32m----> 4\u001b[0;31m \u001b[0mprint\u001b[0m\u001b[0;34m(\u001b[0m\u001b[0;34m[\u001b[0m\u001b[0mtoken\u001b[0m\u001b[0;34m.\u001b[0m\u001b[0mlemma_\u001b[0m \u001b[0;32mfor\u001b[0m \u001b[0mtoken\u001b[0m \u001b[0;32min\u001b[0m \u001b[0ml\u001b[0m\u001b[0;34m]\u001b[0m\u001b[0;34m)\u001b[0m\u001b[0;34m\u001b[0m\u001b[0;34m\u001b[0m\u001b[0m\n\u001b[0m",
      "\u001b[0;31mAttributeError\u001b[0m: 'str' object has no attribute 'lemma_'"
     ]
    }
   ],
   "source": [
    "l = text[1]\n",
    "# l = train_data.text\n",
    "# doc = nlp()# running runner\")\n",
    "print([token.lemma_ for token in l])"
   ]
  },
  {
   "cell_type": "code",
   "execution_count": 27,
   "id": "complex-donor",
   "metadata": {},
   "outputs": [],
   "source": [
    "def lemmatize(text):\n",
    "    return[token.lemma_ for token in text]"
   ]
  },
  {
   "cell_type": "code",
   "execution_count": 28,
   "id": "first-computer",
   "metadata": {},
   "outputs": [],
   "source": [
    "text = text.apply(lemmatize)"
   ]
  },
  {
   "cell_type": "markdown",
   "id": "looking-fault",
   "metadata": {},
   "source": [
    "## From lemma back to token"
   ]
  },
  {
   "cell_type": "code",
   "execution_count": 40,
   "id": "compressed-bridal",
   "metadata": {},
   "outputs": [
    {
     "data": {
      "text/plain": [
       "id\n",
       "1         [deed, Reason, this, earthquake, ALLAH, forgive]\n",
       "4                [forest, fire, near, Ronge, Sask, Canada]\n",
       "5        [resident, shelter, place, notify, officer, ot...\n",
       "6        [13,000, people, receive, wildfire, evacuation...\n",
       "7        [just, send, this, photo, from, Ruby, Alaska, ...\n",
       "                               ...                        \n",
       "10861    [earthquake, SAFETY, ANGELES, SAFETY, fastener...\n",
       "10865    [storm, than, last, hurricane, city&amp;3other...\n",
       "10868                   [Green, Line, derailment, Chicago]\n",
       "10874                 [issue, Hazardous, Weather, Outlook]\n",
       "10875    [CityofCalgary, have, activate, Municipal, Eme...\n",
       "Name: text, Length: 10876, dtype: object"
      ]
     },
     "execution_count": 40,
     "metadata": {},
     "output_type": "execute_result"
    }
   ],
   "source": [
    "text"
   ]
  },
  {
   "cell_type": "code",
   "execution_count": 41,
   "id": "geological-employment",
   "metadata": {},
   "outputs": [],
   "source": [
    "text = text.apply(remove_stopwords)"
   ]
  },
  {
   "cell_type": "code",
   "execution_count": 43,
   "id": "applied-charter",
   "metadata": {},
   "outputs": [],
   "source": [
    "def list_to_tokens(text):\n",
    "    return [nlp(word) for word in text]\n",
    "#     token_list = []\n",
    "# #     text = nlp(text)\n",
    "#     for token in text:\n",
    "#         token_list.append(nlp(token)#.text)\n",
    "#     return token_list  "
   ]
  },
  {
   "cell_type": "code",
   "execution_count": 44,
   "id": "known-living",
   "metadata": {},
   "outputs": [],
   "source": [
    "token_text = text.apply(list_to_tokens)"
   ]
  },
  {
   "cell_type": "markdown",
   "id": "interim-transformation",
   "metadata": {},
   "source": [
    "## Vectorizing"
   ]
  },
  {
   "cell_type": "code",
   "execution_count": 505,
   "id": "roman-amber",
   "metadata": {},
   "outputs": [],
   "source": [
    "def vectorize(line):\n",
    "    return [word.vector for word in line]\n",
    "    "
   ]
  },
  {
   "cell_type": "code",
   "execution_count": 525,
   "id": "plastic-scotland",
   "metadata": {},
   "outputs": [
    {
     "data": {
      "text/plain": [
       "id\n",
       "1    [[-0.027740717, -0.11559065, 0.14615542, -0.11...\n",
       "4    [[3.0948722, 0.90669054, 0.21063933, -0.480993...\n",
       "5    [[-1.2147622, 0.49894887, 0.28072032, -0.30333...\n",
       "6    [[0.5988686, 2.0787547, 0.22975582, -0.5023366...\n",
       "7    [[-0.5375247, 1.4861925, -0.7751549, 0.3462769...\n",
       "Name: text, dtype: object"
      ]
     },
     "execution_count": 525,
     "metadata": {},
     "output_type": "execute_result"
    }
   ],
   "source": [
    "token_text[0:5].apply(vectorize)"
   ]
  },
  {
   "cell_type": "code",
   "execution_count": 526,
   "id": "technological-topic",
   "metadata": {},
   "outputs": [],
   "source": [
    "vec_text = token_text.apply(vectorize)"
   ]
  },
  {
   "cell_type": "code",
   "execution_count": null,
   "id": "standing-right",
   "metadata": {},
   "outputs": [],
   "source": []
  },
  {
   "cell_type": "markdown",
   "id": "incredible-royal",
   "metadata": {},
   "source": [
    "## Vectorization using TF-IDF"
   ]
  },
  {
   "cell_type": "code",
   "execution_count": 437,
   "id": "ordinary-miracle",
   "metadata": {},
   "outputs": [
    {
     "data": {
      "text/plain": [
       "(10876,)"
      ]
     },
     "execution_count": 437,
     "metadata": {},
     "output_type": "execute_result"
    }
   ],
   "source": [
    "from sklearn.feature_extraction.text import TfidfVectorizer\n",
    "tfidf_vectorizer = TfidfVectorizer()\n",
    "tfidf = text.apply(tfidf_vectorizer.fit_transform)\n",
    "tfidf.shape"
   ]
  },
  {
   "cell_type": "code",
   "execution_count": 431,
   "id": "incident-surprise",
   "metadata": {},
   "outputs": [
    {
     "data": {
      "text/plain": [
       "id\n",
       "1    [our, deed, be, the, Reason, of, this, earthqu...\n",
       "4        [forest, fire, near, La, Ronge, Sask, Canada]\n",
       "5    [all, resident, ask, to, shelter, in, place, b...\n",
       "6    [13,000, people, receive, wildfire, evacuation...\n",
       "7    [just, got, send, this, photo, from, Ruby, Ala...\n",
       "Name: text, dtype: object"
      ]
     },
     "execution_count": 431,
     "metadata": {},
     "output_type": "execute_result"
    }
   ],
   "source": [
    "text.head()"
   ]
  },
  {
   "cell_type": "code",
   "execution_count": 468,
   "id": "auburn-swimming",
   "metadata": {},
   "outputs": [
    {
     "name": "stdout",
     "output_type": "stream",
     "text": [
      "['just', 'happen', 'a', 'terrible', 'car', 'crash']   (0, 3)\t1.0\n",
      "  (1, 2)\t1.0\n",
      "  (3, 4)\t1.0\n",
      "  (4, 0)\t1.0\n",
      "  (5, 1)\t1.0\n"
     ]
    }
   ],
   "source": [
    "print(text[0], tfidf[0])"
   ]
  },
  {
   "cell_type": "code",
   "execution_count": 469,
   "id": "digital-pendant",
   "metadata": {},
   "outputs": [],
   "source": [
    "# train_vec = tfidf[0:len(train_data)]\n",
    "# test_vec = tfidf[len(train_data):]"
   ]
  },
  {
   "cell_type": "code",
   "execution_count": 509,
   "id": "integral-works",
   "metadata": {
    "scrolled": true
   },
   "outputs": [
    {
     "name": "stdout",
     "output_type": "stream",
     "text": [
      "7613 7613\n"
     ]
    }
   ],
   "source": [
    "print(len(train_data), len(train_vec))"
   ]
  },
  {
   "cell_type": "code",
   "execution_count": null,
   "id": "photographic-store",
   "metadata": {},
   "outputs": [],
   "source": []
  },
  {
   "cell_type": "code",
   "execution_count": null,
   "id": "stunning-grocery",
   "metadata": {},
   "outputs": [],
   "source": []
  },
  {
   "cell_type": "markdown",
   "id": "first-museum",
   "metadata": {},
   "source": [
    "## Logistic regression"
   ]
  },
  {
   "cell_type": "code",
   "execution_count": 55,
   "id": "eight-vegetation",
   "metadata": {},
   "outputs": [],
   "source": [
    "train_vec = text[0:len(train_data)]\n",
    "test_vec = text[len(train_data):]"
   ]
  },
  {
   "cell_type": "code",
   "execution_count": 56,
   "id": "double-macedonia",
   "metadata": {},
   "outputs": [],
   "source": [
    "y = train_data.target\n",
    "X = train_vec"
   ]
  },
  {
   "cell_type": "code",
   "execution_count": 57,
   "id": "human-hindu",
   "metadata": {},
   "outputs": [],
   "source": [
    "X_train, X_test, y_train, y_test = train_test_split(X, y, test_size=0.33, random_state=42)"
   ]
  },
  {
   "cell_type": "code",
   "execution_count": 58,
   "id": "necessary-registration",
   "metadata": {},
   "outputs": [
    {
     "data": {
      "text/plain": [
       "id\n",
       "1               [deed, Reason, earthquake, ALLAH, forgive]\n",
       "4                [forest, fire, near, Ronge, Sask, Canada]\n",
       "5        [resident, shelter, place, notify, officer, ev...\n",
       "6        [13,000, people, receive, wildfire, evacuation...\n",
       "7        [send, photo, Ruby, Alaska, smoke, wildfires, ...\n",
       "                               ...                        \n",
       "10861    [earthquake, SAFETY, ANGELES, SAFETY, fastener...\n",
       "10865    [storm, hurricane, city&amp;3other, hard, yard...\n",
       "10868                   [Green, Line, derailment, Chicago]\n",
       "10874                 [issue, Hazardous, Weather, Outlook]\n",
       "10875    [CityofCalgary, activate, Municipal, Emergency...\n",
       "Name: text, Length: 10876, dtype: object"
      ]
     },
     "execution_count": 58,
     "metadata": {},
     "output_type": "execute_result"
    }
   ],
   "source": [
    "text"
   ]
  },
  {
   "cell_type": "code",
   "execution_count": 62,
   "id": "brilliant-uncle",
   "metadata": {},
   "outputs": [],
   "source": [
    "tmpx = text[1:3]"
   ]
  },
  {
   "cell_type": "code",
   "execution_count": 66,
   "id": "valuable-michigan",
   "metadata": {},
   "outputs": [
    {
     "data": {
      "text/plain": [
       "id\n",
       "4                   forest fire near Ronge Sask Canada\n",
       "5    resident shelter place notify officer evacuati...\n",
       "Name: text, dtype: object"
      ]
     },
     "execution_count": 66,
     "metadata": {},
     "output_type": "execute_result"
    }
   ],
   "source": [
    "tmpx"
   ]
  },
  {
   "cell_type": "code",
   "execution_count": 65,
   "id": "nominated-violation",
   "metadata": {},
   "outputs": [],
   "source": [
    "tmpx[4] = \"forest fire near Ronge Sask Canada\"\n",
    "tmpx[5] = \"resident shelter place notify officer evacuation shelter place order expect\""
   ]
  },
  {
   "cell_type": "code",
   "execution_count": 67,
   "id": "premier-knife",
   "metadata": {},
   "outputs": [],
   "source": [
    "tmpy = y[1:3]"
   ]
  },
  {
   "cell_type": "code",
   "execution_count": 69,
   "id": "excess-worry",
   "metadata": {},
   "outputs": [
    {
     "ename": "ValueError",
     "evalue": "could not convert string to float: 'forest fire near Ronge Sask Canada'",
     "output_type": "error",
     "traceback": [
      "\u001b[0;31m---------------------------------------------------------------------------\u001b[0m",
      "\u001b[0;31mValueError\u001b[0m                                Traceback (most recent call last)",
      "\u001b[0;32m<ipython-input-69-3be0d13a28f7>\u001b[0m in \u001b[0;36m<module>\u001b[0;34m\u001b[0m\n\u001b[1;32m      1\u001b[0m \u001b[0;32mfrom\u001b[0m \u001b[0msklearn\u001b[0m\u001b[0;34m.\u001b[0m\u001b[0mlinear_model\u001b[0m \u001b[0;32mimport\u001b[0m \u001b[0mLogisticRegression\u001b[0m\u001b[0;34m\u001b[0m\u001b[0;34m\u001b[0m\u001b[0m\n\u001b[1;32m      2\u001b[0m \u001b[0mlog\u001b[0m \u001b[0;34m=\u001b[0m \u001b[0mLogisticRegression\u001b[0m\u001b[0;34m(\u001b[0m\u001b[0msolver\u001b[0m\u001b[0;34m=\u001b[0m\u001b[0;34m'lbfgs'\u001b[0m\u001b[0;34m)\u001b[0m\u001b[0;34m\u001b[0m\u001b[0;34m\u001b[0m\u001b[0m\n\u001b[0;32m----> 3\u001b[0;31m \u001b[0mlog\u001b[0m\u001b[0;34m.\u001b[0m\u001b[0mfit\u001b[0m\u001b[0;34m(\u001b[0m\u001b[0mtmpx\u001b[0m\u001b[0;34m,\u001b[0m\u001b[0mtmpy\u001b[0m\u001b[0;34m)\u001b[0m\u001b[0;34m\u001b[0m\u001b[0;34m\u001b[0m\u001b[0m\n\u001b[0m",
      "\u001b[0;32m~/opt/anaconda3/lib/python3.7/site-packages/sklearn/linear_model/_logistic.py\u001b[0m in \u001b[0;36mfit\u001b[0;34m(self, X, y, sample_weight)\u001b[0m\n\u001b[1;32m   1342\u001b[0m         X, y = self._validate_data(X, y, accept_sparse='csr', dtype=_dtype,\n\u001b[1;32m   1343\u001b[0m                                    \u001b[0morder\u001b[0m\u001b[0;34m=\u001b[0m\u001b[0;34m\"C\"\u001b[0m\u001b[0;34m,\u001b[0m\u001b[0;34m\u001b[0m\u001b[0;34m\u001b[0m\u001b[0m\n\u001b[0;32m-> 1344\u001b[0;31m                                    accept_large_sparse=solver != 'liblinear')\n\u001b[0m\u001b[1;32m   1345\u001b[0m         \u001b[0mcheck_classification_targets\u001b[0m\u001b[0;34m(\u001b[0m\u001b[0my\u001b[0m\u001b[0;34m)\u001b[0m\u001b[0;34m\u001b[0m\u001b[0;34m\u001b[0m\u001b[0m\n\u001b[1;32m   1346\u001b[0m         \u001b[0mself\u001b[0m\u001b[0;34m.\u001b[0m\u001b[0mclasses_\u001b[0m \u001b[0;34m=\u001b[0m \u001b[0mnp\u001b[0m\u001b[0;34m.\u001b[0m\u001b[0munique\u001b[0m\u001b[0;34m(\u001b[0m\u001b[0my\u001b[0m\u001b[0;34m)\u001b[0m\u001b[0;34m\u001b[0m\u001b[0;34m\u001b[0m\u001b[0m\n",
      "\u001b[0;32m~/opt/anaconda3/lib/python3.7/site-packages/sklearn/base.py\u001b[0m in \u001b[0;36m_validate_data\u001b[0;34m(self, X, y, reset, validate_separately, **check_params)\u001b[0m\n\u001b[1;32m    430\u001b[0m                 \u001b[0my\u001b[0m \u001b[0;34m=\u001b[0m \u001b[0mcheck_array\u001b[0m\u001b[0;34m(\u001b[0m\u001b[0my\u001b[0m\u001b[0;34m,\u001b[0m \u001b[0;34m**\u001b[0m\u001b[0mcheck_y_params\u001b[0m\u001b[0;34m)\u001b[0m\u001b[0;34m\u001b[0m\u001b[0;34m\u001b[0m\u001b[0m\n\u001b[1;32m    431\u001b[0m             \u001b[0;32melse\u001b[0m\u001b[0;34m:\u001b[0m\u001b[0;34m\u001b[0m\u001b[0;34m\u001b[0m\u001b[0m\n\u001b[0;32m--> 432\u001b[0;31m                 \u001b[0mX\u001b[0m\u001b[0;34m,\u001b[0m \u001b[0my\u001b[0m \u001b[0;34m=\u001b[0m \u001b[0mcheck_X_y\u001b[0m\u001b[0;34m(\u001b[0m\u001b[0mX\u001b[0m\u001b[0;34m,\u001b[0m \u001b[0my\u001b[0m\u001b[0;34m,\u001b[0m \u001b[0;34m**\u001b[0m\u001b[0mcheck_params\u001b[0m\u001b[0;34m)\u001b[0m\u001b[0;34m\u001b[0m\u001b[0;34m\u001b[0m\u001b[0m\n\u001b[0m\u001b[1;32m    433\u001b[0m             \u001b[0mout\u001b[0m \u001b[0;34m=\u001b[0m \u001b[0mX\u001b[0m\u001b[0;34m,\u001b[0m \u001b[0my\u001b[0m\u001b[0;34m\u001b[0m\u001b[0;34m\u001b[0m\u001b[0m\n\u001b[1;32m    434\u001b[0m \u001b[0;34m\u001b[0m\u001b[0m\n",
      "\u001b[0;32m~/opt/anaconda3/lib/python3.7/site-packages/sklearn/utils/validation.py\u001b[0m in \u001b[0;36minner_f\u001b[0;34m(*args, **kwargs)\u001b[0m\n\u001b[1;32m     70\u001b[0m                           FutureWarning)\n\u001b[1;32m     71\u001b[0m         \u001b[0mkwargs\u001b[0m\u001b[0;34m.\u001b[0m\u001b[0mupdate\u001b[0m\u001b[0;34m(\u001b[0m\u001b[0;34m{\u001b[0m\u001b[0mk\u001b[0m\u001b[0;34m:\u001b[0m \u001b[0marg\u001b[0m \u001b[0;32mfor\u001b[0m \u001b[0mk\u001b[0m\u001b[0;34m,\u001b[0m \u001b[0marg\u001b[0m \u001b[0;32min\u001b[0m \u001b[0mzip\u001b[0m\u001b[0;34m(\u001b[0m\u001b[0msig\u001b[0m\u001b[0;34m.\u001b[0m\u001b[0mparameters\u001b[0m\u001b[0;34m,\u001b[0m \u001b[0margs\u001b[0m\u001b[0;34m)\u001b[0m\u001b[0;34m}\u001b[0m\u001b[0;34m)\u001b[0m\u001b[0;34m\u001b[0m\u001b[0;34m\u001b[0m\u001b[0m\n\u001b[0;32m---> 72\u001b[0;31m         \u001b[0;32mreturn\u001b[0m \u001b[0mf\u001b[0m\u001b[0;34m(\u001b[0m\u001b[0;34m**\u001b[0m\u001b[0mkwargs\u001b[0m\u001b[0;34m)\u001b[0m\u001b[0;34m\u001b[0m\u001b[0;34m\u001b[0m\u001b[0m\n\u001b[0m\u001b[1;32m     73\u001b[0m     \u001b[0;32mreturn\u001b[0m \u001b[0minner_f\u001b[0m\u001b[0;34m\u001b[0m\u001b[0;34m\u001b[0m\u001b[0m\n\u001b[1;32m     74\u001b[0m \u001b[0;34m\u001b[0m\u001b[0m\n",
      "\u001b[0;32m~/opt/anaconda3/lib/python3.7/site-packages/sklearn/utils/validation.py\u001b[0m in \u001b[0;36mcheck_X_y\u001b[0;34m(X, y, accept_sparse, accept_large_sparse, dtype, order, copy, force_all_finite, ensure_2d, allow_nd, multi_output, ensure_min_samples, ensure_min_features, y_numeric, estimator)\u001b[0m\n\u001b[1;32m    800\u001b[0m                     \u001b[0mensure_min_samples\u001b[0m\u001b[0;34m=\u001b[0m\u001b[0mensure_min_samples\u001b[0m\u001b[0;34m,\u001b[0m\u001b[0;34m\u001b[0m\u001b[0;34m\u001b[0m\u001b[0m\n\u001b[1;32m    801\u001b[0m                     \u001b[0mensure_min_features\u001b[0m\u001b[0;34m=\u001b[0m\u001b[0mensure_min_features\u001b[0m\u001b[0;34m,\u001b[0m\u001b[0;34m\u001b[0m\u001b[0;34m\u001b[0m\u001b[0m\n\u001b[0;32m--> 802\u001b[0;31m                     estimator=estimator)\n\u001b[0m\u001b[1;32m    803\u001b[0m     \u001b[0;32mif\u001b[0m \u001b[0mmulti_output\u001b[0m\u001b[0;34m:\u001b[0m\u001b[0;34m\u001b[0m\u001b[0;34m\u001b[0m\u001b[0m\n\u001b[1;32m    804\u001b[0m         y = check_array(y, accept_sparse='csr', force_all_finite=True,\n",
      "\u001b[0;32m~/opt/anaconda3/lib/python3.7/site-packages/sklearn/utils/validation.py\u001b[0m in \u001b[0;36minner_f\u001b[0;34m(*args, **kwargs)\u001b[0m\n\u001b[1;32m     70\u001b[0m                           FutureWarning)\n\u001b[1;32m     71\u001b[0m         \u001b[0mkwargs\u001b[0m\u001b[0;34m.\u001b[0m\u001b[0mupdate\u001b[0m\u001b[0;34m(\u001b[0m\u001b[0;34m{\u001b[0m\u001b[0mk\u001b[0m\u001b[0;34m:\u001b[0m \u001b[0marg\u001b[0m \u001b[0;32mfor\u001b[0m \u001b[0mk\u001b[0m\u001b[0;34m,\u001b[0m \u001b[0marg\u001b[0m \u001b[0;32min\u001b[0m \u001b[0mzip\u001b[0m\u001b[0;34m(\u001b[0m\u001b[0msig\u001b[0m\u001b[0;34m.\u001b[0m\u001b[0mparameters\u001b[0m\u001b[0;34m,\u001b[0m \u001b[0margs\u001b[0m\u001b[0;34m)\u001b[0m\u001b[0;34m}\u001b[0m\u001b[0;34m)\u001b[0m\u001b[0;34m\u001b[0m\u001b[0;34m\u001b[0m\u001b[0m\n\u001b[0;32m---> 72\u001b[0;31m         \u001b[0;32mreturn\u001b[0m \u001b[0mf\u001b[0m\u001b[0;34m(\u001b[0m\u001b[0;34m**\u001b[0m\u001b[0mkwargs\u001b[0m\u001b[0;34m)\u001b[0m\u001b[0;34m\u001b[0m\u001b[0;34m\u001b[0m\u001b[0m\n\u001b[0m\u001b[1;32m     73\u001b[0m     \u001b[0;32mreturn\u001b[0m \u001b[0minner_f\u001b[0m\u001b[0;34m\u001b[0m\u001b[0;34m\u001b[0m\u001b[0m\n\u001b[1;32m     74\u001b[0m \u001b[0;34m\u001b[0m\u001b[0m\n",
      "\u001b[0;32m~/opt/anaconda3/lib/python3.7/site-packages/sklearn/utils/validation.py\u001b[0m in \u001b[0;36mcheck_array\u001b[0;34m(array, accept_sparse, accept_large_sparse, dtype, order, copy, force_all_finite, ensure_2d, allow_nd, ensure_min_samples, ensure_min_features, estimator)\u001b[0m\n\u001b[1;32m    596\u001b[0m                     \u001b[0marray\u001b[0m \u001b[0;34m=\u001b[0m \u001b[0marray\u001b[0m\u001b[0;34m.\u001b[0m\u001b[0mastype\u001b[0m\u001b[0;34m(\u001b[0m\u001b[0mdtype\u001b[0m\u001b[0;34m,\u001b[0m \u001b[0mcasting\u001b[0m\u001b[0;34m=\u001b[0m\u001b[0;34m\"unsafe\"\u001b[0m\u001b[0;34m,\u001b[0m \u001b[0mcopy\u001b[0m\u001b[0;34m=\u001b[0m\u001b[0;32mFalse\u001b[0m\u001b[0;34m)\u001b[0m\u001b[0;34m\u001b[0m\u001b[0;34m\u001b[0m\u001b[0m\n\u001b[1;32m    597\u001b[0m                 \u001b[0;32melse\u001b[0m\u001b[0;34m:\u001b[0m\u001b[0;34m\u001b[0m\u001b[0;34m\u001b[0m\u001b[0m\n\u001b[0;32m--> 598\u001b[0;31m                     \u001b[0marray\u001b[0m \u001b[0;34m=\u001b[0m \u001b[0mnp\u001b[0m\u001b[0;34m.\u001b[0m\u001b[0masarray\u001b[0m\u001b[0;34m(\u001b[0m\u001b[0marray\u001b[0m\u001b[0;34m,\u001b[0m \u001b[0morder\u001b[0m\u001b[0;34m=\u001b[0m\u001b[0morder\u001b[0m\u001b[0;34m,\u001b[0m \u001b[0mdtype\u001b[0m\u001b[0;34m=\u001b[0m\u001b[0mdtype\u001b[0m\u001b[0;34m)\u001b[0m\u001b[0;34m\u001b[0m\u001b[0;34m\u001b[0m\u001b[0m\n\u001b[0m\u001b[1;32m    599\u001b[0m             \u001b[0;32mexcept\u001b[0m \u001b[0mComplexWarning\u001b[0m\u001b[0;34m:\u001b[0m\u001b[0;34m\u001b[0m\u001b[0;34m\u001b[0m\u001b[0m\n\u001b[1;32m    600\u001b[0m                 raise ValueError(\"Complex data not supported\\n\"\n",
      "\u001b[0;32m~/opt/anaconda3/lib/python3.7/site-packages/numpy/core/_asarray.py\u001b[0m in \u001b[0;36masarray\u001b[0;34m(a, dtype, order)\u001b[0m\n\u001b[1;32m     81\u001b[0m \u001b[0;34m\u001b[0m\u001b[0m\n\u001b[1;32m     82\u001b[0m     \"\"\"\n\u001b[0;32m---> 83\u001b[0;31m     \u001b[0;32mreturn\u001b[0m \u001b[0marray\u001b[0m\u001b[0;34m(\u001b[0m\u001b[0ma\u001b[0m\u001b[0;34m,\u001b[0m \u001b[0mdtype\u001b[0m\u001b[0;34m,\u001b[0m \u001b[0mcopy\u001b[0m\u001b[0;34m=\u001b[0m\u001b[0;32mFalse\u001b[0m\u001b[0;34m,\u001b[0m \u001b[0morder\u001b[0m\u001b[0;34m=\u001b[0m\u001b[0morder\u001b[0m\u001b[0;34m)\u001b[0m\u001b[0;34m\u001b[0m\u001b[0;34m\u001b[0m\u001b[0m\n\u001b[0m\u001b[1;32m     84\u001b[0m \u001b[0;34m\u001b[0m\u001b[0m\n\u001b[1;32m     85\u001b[0m \u001b[0;34m\u001b[0m\u001b[0m\n",
      "\u001b[0;32m~/opt/anaconda3/lib/python3.7/site-packages/pandas/core/series.py\u001b[0m in \u001b[0;36m__array__\u001b[0;34m(self, dtype)\u001b[0m\n\u001b[1;32m    737\u001b[0m               dtype='datetime64[ns]')\n\u001b[1;32m    738\u001b[0m         \"\"\"\n\u001b[0;32m--> 739\u001b[0;31m         \u001b[0;32mreturn\u001b[0m \u001b[0mnp\u001b[0m\u001b[0;34m.\u001b[0m\u001b[0masarray\u001b[0m\u001b[0;34m(\u001b[0m\u001b[0mself\u001b[0m\u001b[0;34m.\u001b[0m\u001b[0marray\u001b[0m\u001b[0;34m,\u001b[0m \u001b[0mdtype\u001b[0m\u001b[0;34m)\u001b[0m\u001b[0;34m\u001b[0m\u001b[0;34m\u001b[0m\u001b[0m\n\u001b[0m\u001b[1;32m    740\u001b[0m \u001b[0;34m\u001b[0m\u001b[0m\n\u001b[1;32m    741\u001b[0m     \u001b[0;31m# ----------------------------------------------------------------------\u001b[0m\u001b[0;34m\u001b[0m\u001b[0;34m\u001b[0m\u001b[0;34m\u001b[0m\u001b[0m\n",
      "\u001b[0;32m~/opt/anaconda3/lib/python3.7/site-packages/numpy/core/_asarray.py\u001b[0m in \u001b[0;36masarray\u001b[0;34m(a, dtype, order)\u001b[0m\n\u001b[1;32m     81\u001b[0m \u001b[0;34m\u001b[0m\u001b[0m\n\u001b[1;32m     82\u001b[0m     \"\"\"\n\u001b[0;32m---> 83\u001b[0;31m     \u001b[0;32mreturn\u001b[0m \u001b[0marray\u001b[0m\u001b[0;34m(\u001b[0m\u001b[0ma\u001b[0m\u001b[0;34m,\u001b[0m \u001b[0mdtype\u001b[0m\u001b[0;34m,\u001b[0m \u001b[0mcopy\u001b[0m\u001b[0;34m=\u001b[0m\u001b[0;32mFalse\u001b[0m\u001b[0;34m,\u001b[0m \u001b[0morder\u001b[0m\u001b[0;34m=\u001b[0m\u001b[0morder\u001b[0m\u001b[0;34m)\u001b[0m\u001b[0;34m\u001b[0m\u001b[0;34m\u001b[0m\u001b[0m\n\u001b[0m\u001b[1;32m     84\u001b[0m \u001b[0;34m\u001b[0m\u001b[0m\n\u001b[1;32m     85\u001b[0m \u001b[0;34m\u001b[0m\u001b[0m\n",
      "\u001b[0;32m~/opt/anaconda3/lib/python3.7/site-packages/pandas/core/arrays/numpy_.py\u001b[0m in \u001b[0;36m__array__\u001b[0;34m(self, dtype)\u001b[0m\n\u001b[1;32m    201\u001b[0m \u001b[0;34m\u001b[0m\u001b[0m\n\u001b[1;32m    202\u001b[0m     \u001b[0;32mdef\u001b[0m \u001b[0m__array__\u001b[0m\u001b[0;34m(\u001b[0m\u001b[0mself\u001b[0m\u001b[0;34m,\u001b[0m \u001b[0mdtype\u001b[0m\u001b[0;34m=\u001b[0m\u001b[0;32mNone\u001b[0m\u001b[0;34m)\u001b[0m \u001b[0;34m->\u001b[0m \u001b[0mnp\u001b[0m\u001b[0;34m.\u001b[0m\u001b[0mndarray\u001b[0m\u001b[0;34m:\u001b[0m\u001b[0;34m\u001b[0m\u001b[0;34m\u001b[0m\u001b[0m\n\u001b[0;32m--> 203\u001b[0;31m         \u001b[0;32mreturn\u001b[0m \u001b[0mnp\u001b[0m\u001b[0;34m.\u001b[0m\u001b[0masarray\u001b[0m\u001b[0;34m(\u001b[0m\u001b[0mself\u001b[0m\u001b[0;34m.\u001b[0m\u001b[0m_ndarray\u001b[0m\u001b[0;34m,\u001b[0m \u001b[0mdtype\u001b[0m\u001b[0;34m=\u001b[0m\u001b[0mdtype\u001b[0m\u001b[0;34m)\u001b[0m\u001b[0;34m\u001b[0m\u001b[0;34m\u001b[0m\u001b[0m\n\u001b[0m\u001b[1;32m    204\u001b[0m \u001b[0;34m\u001b[0m\u001b[0m\n\u001b[1;32m    205\u001b[0m     \u001b[0m_HANDLED_TYPES\u001b[0m \u001b[0;34m=\u001b[0m \u001b[0;34m(\u001b[0m\u001b[0mnp\u001b[0m\u001b[0;34m.\u001b[0m\u001b[0mndarray\u001b[0m\u001b[0;34m,\u001b[0m \u001b[0mnumbers\u001b[0m\u001b[0;34m.\u001b[0m\u001b[0mNumber\u001b[0m\u001b[0;34m)\u001b[0m\u001b[0;34m\u001b[0m\u001b[0;34m\u001b[0m\u001b[0m\n",
      "\u001b[0;32m~/opt/anaconda3/lib/python3.7/site-packages/numpy/core/_asarray.py\u001b[0m in \u001b[0;36masarray\u001b[0;34m(a, dtype, order)\u001b[0m\n\u001b[1;32m     81\u001b[0m \u001b[0;34m\u001b[0m\u001b[0m\n\u001b[1;32m     82\u001b[0m     \"\"\"\n\u001b[0;32m---> 83\u001b[0;31m     \u001b[0;32mreturn\u001b[0m \u001b[0marray\u001b[0m\u001b[0;34m(\u001b[0m\u001b[0ma\u001b[0m\u001b[0;34m,\u001b[0m \u001b[0mdtype\u001b[0m\u001b[0;34m,\u001b[0m \u001b[0mcopy\u001b[0m\u001b[0;34m=\u001b[0m\u001b[0;32mFalse\u001b[0m\u001b[0;34m,\u001b[0m \u001b[0morder\u001b[0m\u001b[0;34m=\u001b[0m\u001b[0morder\u001b[0m\u001b[0;34m)\u001b[0m\u001b[0;34m\u001b[0m\u001b[0;34m\u001b[0m\u001b[0m\n\u001b[0m\u001b[1;32m     84\u001b[0m \u001b[0;34m\u001b[0m\u001b[0m\n\u001b[1;32m     85\u001b[0m \u001b[0;34m\u001b[0m\u001b[0m\n",
      "\u001b[0;31mValueError\u001b[0m: could not convert string to float: 'forest fire near Ronge Sask Canada'"
     ]
    }
   ],
   "source": [
    "from sklearn.linear_model import LogisticRegression\n",
    "log = LogisticRegression(solver='lbfgs')\n",
    "log.fit(tmpx,tmpy)"
   ]
  },
  {
   "cell_type": "code",
   "execution_count": null,
   "id": "amateur-touch",
   "metadata": {},
   "outputs": [],
   "source": []
  },
  {
   "cell_type": "markdown",
   "id": "physical-hopkins",
   "metadata": {},
   "source": [
    "## Train"
   ]
  },
  {
   "cell_type": "code",
   "execution_count": 563,
   "id": "latest-click",
   "metadata": {},
   "outputs": [],
   "source": [
    "train_vec = vec_text[0:len(train_data)]\n",
    "test_vec = vec_text[len(train_data):]"
   ]
  },
  {
   "cell_type": "code",
   "execution_count": 527,
   "id": "female-malaysia",
   "metadata": {},
   "outputs": [],
   "source": [
    "y = train_data.target"
   ]
  },
  {
   "cell_type": "code",
   "execution_count": 566,
   "id": "changed-tackle",
   "metadata": {},
   "outputs": [],
   "source": [
    "X = train_vec"
   ]
  },
  {
   "cell_type": "code",
   "execution_count": 567,
   "id": "graphic-choir",
   "metadata": {},
   "outputs": [
    {
     "data": {
      "text/plain": [
       "(7613, 1)"
      ]
     },
     "execution_count": 567,
     "metadata": {},
     "output_type": "execute_result"
    }
   ],
   "source": [
    "X = np.array(X).reshape((-1,1))\n",
    "X.shape"
   ]
  },
  {
   "cell_type": "code",
   "execution_count": 568,
   "id": "binary-medicaid",
   "metadata": {},
   "outputs": [
    {
     "data": {
      "text/plain": [
       "array([list([array([-0.02774072, -0.11559065,  0.14615542, -0.11262162,  0.20590073,\n",
       "        1.3233712 ,  0.20108943, -0.48430508, -0.42471087,  0.26066253,\n",
       "        0.38413414,  0.41469753,  0.64132434,  0.04055576, -1.3105894 ,\n",
       "        1.1406448 ,  0.4976621 ,  0.0936054 , -0.27008253,  0.72645736,\n",
       "        0.05013415,  0.59617174,  0.13145459,  0.69075036, -0.71736395,\n",
       "        0.12233558,  0.38195804, -0.01476383,  0.12947941, -0.27279308,\n",
       "        0.39406896, -1.1618849 , -0.19090304, -1.3933973 ,  0.08491737,\n",
       "       -0.75081015,  0.94009125,  0.8038806 ,  0.23661709,  0.27275795,\n",
       "       -0.05207478,  0.13427894, -0.8324771 ,  1.1079587 ,  0.2104932 ,\n",
       "        0.62744683, -0.2664832 ,  1.0130234 ,  0.81135255, -0.34865883,\n",
       "        0.24815471,  1.5028428 , -0.91374344, -0.18855765,  0.84990066,\n",
       "       -1.4090112 , -1.0745279 , -0.12779333,  0.10113759,  0.49894562,\n",
       "       -0.42008552,  0.48094767, -0.4808635 , -0.5301091 ,  0.49211234,\n",
       "        0.97112507, -0.20914365,  0.3704738 , -1.6803738 ,  0.3305989 ,\n",
       "        0.7683263 , -0.14830282,  0.74143296, -0.5889089 , -0.8048997 ,\n",
       "       -0.01975679, -1.4699713 ,  1.1963103 ,  0.59289527, -0.4838373 ,\n",
       "       -0.27200717, -0.09460105,  1.3844281 ,  0.39565456, -0.8368306 ,\n",
       "       -0.6827603 , -0.6850592 , -1.083108  , -0.18549064,  0.45379445,\n",
       "       -0.07716307,  0.06685352, -0.5617694 ,  0.4780923 , -0.22379097,\n",
       "       -0.8590355 ], dtype=float32), array([ 1.0935910e+00,  1.9481933e-01,  2.7941275e-01,  3.8473335e-01,\n",
       "        2.7595520e-01, -8.3535630e-01, -7.8851157e-01, -1.0356191e+00,\n",
       "       -8.1119418e-01, -1.0102775e+00,  5.3223029e-02,  3.7324673e-01,\n",
       "        1.0149732e-01,  9.9190342e-01, -1.0868884e+00,  1.4165406e+00,\n",
       "        1.1740234e+00,  2.3033905e-01,  2.7501917e-01, -2.5661111e-01,\n",
       "       -1.3042197e-01,  2.3639864e-01, -1.3094252e+00,  1.3767746e-01,\n",
       "        1.2212968e-01, -4.5839044e-01,  1.1312424e+00, -6.7476410e-01,\n",
       "        1.3008714e-04,  3.9913982e-01, -1.0508378e-01, -8.5657495e-01,\n",
       "       -1.2142146e+00, -8.8908780e-01,  1.7115291e+00,  1.6018276e-01,\n",
       "       -4.2062268e-01,  1.8987219e-01, -8.6312950e-01,  3.1114593e-01,\n",
       "       -1.5073296e+00, -1.0080839e+00, -1.2191074e+00,  1.4993120e+00,\n",
       "       -1.4375222e-01,  9.6789785e-02, -5.3168392e-01,  1.9431307e+00,\n",
       "        2.8579265e-01, -1.5350905e-01,  4.7429818e-01, -1.5835367e-01,\n",
       "       -8.3895206e-02,  2.1274072e-01,  9.9212056e-01, -9.1911697e-01,\n",
       "        8.1529057e-01,  6.9088572e-01,  1.0734074e-01,  7.7246678e-01,\n",
       "        2.9615134e-01,  4.5499021e-01, -1.0103061e+00,  3.8367993e-01,\n",
       "       -7.1286815e-01,  5.5971825e-01, -3.5795057e-01,  2.2077690e-01,\n",
       "       -2.6581389e-01,  8.4995025e-01,  6.0276961e-01,  2.7491927e-01,\n",
       "        7.1427315e-01, -4.8766911e-01, -5.4472345e-01,  9.6090132e-01,\n",
       "       -4.3500224e-01, -4.7249770e-01, -8.6379951e-01,  9.0334117e-01,\n",
       "        2.2458401e-01, -8.2154322e-01,  8.1318885e-02,  6.0267895e-01,\n",
       "       -5.5630225e-01,  1.1565983e+00,  3.4126505e-01, -4.6686983e-01,\n",
       "       -1.2128975e+00, -7.2880769e-01, -4.6572372e-01,  1.4768599e+00,\n",
       "       -4.9525946e-01, -8.8793898e-01, -6.5741193e-01, -6.6635084e-01],\n",
       "      dtype=float32), array([ 0.9430863 ,  0.9140399 ,  0.3892268 , -0.7945759 , -0.89310503,\n",
       "       -0.02470189, -0.8380112 , -0.9401955 , -0.9621669 , -0.20776367,\n",
       "        0.78004944, -0.47505802,  0.6500572 ,  0.60222316, -0.60899496,\n",
       "        0.6419022 ,  0.9244721 , -0.46259347, -0.28587705,  0.06154907,\n",
       "       -0.01199523, -0.00381559, -0.86421907,  0.7604196 , -0.45908776,\n",
       "        0.63513005,  0.4047221 , -0.30686167,  0.44360256,  0.6028464 ,\n",
       "       -1.3005728 , -0.92773306, -1.0708858 , -0.68590045,  0.47962812,\n",
       "        0.60434353, -1.3242276 ,  0.42408738,  0.13443556,  1.1688552 ,\n",
       "       -0.7744781 , -1.023376  , -0.2701826 ,  1.4531541 ,  0.4069736 ,\n",
       "        0.17981166, -0.04985925,  1.3982215 ,  1.2282467 , -0.13577068,\n",
       "       -0.31091407,  0.63715744, -0.89048386,  1.1898748 ,  0.6912416 ,\n",
       "       -0.8009895 ,  1.0257556 , -0.36508065,  1.3638521 , -0.16689733,\n",
       "       -0.9448582 , -0.12682249, -0.33013794, -0.9917392 , -0.6326368 ,\n",
       "        0.05505481, -0.11025666,  0.04944199, -0.49958557,  0.34498042,\n",
       "        0.51710063, -0.35583985,  0.9610961 , -0.12412817, -0.49342483,\n",
       "        0.2831916 , -1.467583  ,  0.614035  , -0.27361065,  0.46693325,\n",
       "        0.16858672, -0.55757195,  0.87645257, -0.15711665, -0.5258558 ,\n",
       "        0.10159263, -0.64966345, -0.51534724, -1.1368861 , -0.70716536,\n",
       "        0.3105691 ,  1.0602142 ,  0.37207323,  0.18832088, -0.33637533,\n",
       "       -1.0696595 ], dtype=float32), array([ 5.1070225e-01,  1.0957097e+00, -1.1240007e+00, -1.1189427e+00,\n",
       "        3.6211726e-01, -1.8882519e-01,  3.7402293e-01, -5.4777426e-01,\n",
       "       -1.1278005e-01, -1.0293014e+00, -1.1029580e+00,  4.9865502e-01,\n",
       "       -4.6853971e-01,  7.2961342e-01, -2.0090105e-01,  1.5636412e+00,\n",
       "        7.9292512e-01, -2.8189099e-01, -9.4032288e-04,  8.4683806e-01,\n",
       "        2.4768980e-01,  8.5460013e-01, -7.7493536e-01,  9.8670757e-01,\n",
       "       -6.0887331e-01,  4.2366967e-02,  7.0133191e-01, -1.0772368e+00,\n",
       "        6.4883161e-01,  1.3899213e+00,  5.3357732e-01, -1.0788354e+00,\n",
       "       -9.0553188e-01, -1.0789084e+00,  7.4678707e-01,  6.3317358e-01,\n",
       "       -4.1882545e-01,  4.9297968e-01, -7.1934986e-01,  7.4354339e-01,\n",
       "       -1.2119348e+00, -1.7427000e-01, -1.2182088e+00,  7.3826206e-01,\n",
       "       -3.7855500e-01, -1.1726021e+00,  1.4044015e+00, -2.9176593e-02,\n",
       "        1.3712204e-01,  1.3771436e+00, -2.6149470e-01, -5.8832519e-02,\n",
       "       -1.8337199e-01, -1.4171144e-01,  9.3746966e-01, -6.2005651e-01,\n",
       "        6.7157805e-01,  9.7202599e-02,  2.0167273e-01,  1.1638529e+00,\n",
       "        8.6093611e-01, -1.4190364e+00,  3.5555911e-01,  5.3445458e-01,\n",
       "       -7.5519210e-01, -7.4989021e-01, -3.1684512e-01,  2.1394107e-01,\n",
       "        8.1943607e-01, -3.9586261e-01,  3.8621223e-01,  2.1153735e-01,\n",
       "       -8.1534314e-01, -2.1599992e-01, -7.6967144e-01,  2.0990222e+00,\n",
       "       -1.1688147e+00, -4.9721506e-01, -8.7101477e-01,  8.1228495e-01,\n",
       "        6.3486052e-01, -7.2609621e-01,  1.1500141e-01,  3.1531237e-02,\n",
       "       -7.3644376e-01,  7.5875914e-01,  9.5268548e-01, -6.3774770e-01,\n",
       "       -3.3097294e-01, -1.0303410e+00, -8.7440562e-01,  1.2421712e+00,\n",
       "        1.2700934e+00, -1.4335382e+00,  2.5150776e-02, -6.8318987e-01],\n",
       "      dtype=float32), array([-1.43764031e+00, -4.40362185e-01,  1.20838046e-01, -6.73447251e-01,\n",
       "        6.03873551e-01,  9.50160384e-01, -6.76285744e-01, -9.36725795e-01,\n",
       "       -1.12315047e+00,  1.69737786e-01, -5.42891860e-01,  1.32571828e+00,\n",
       "        4.96946424e-01, -6.24269962e-01, -5.07575750e-01,  1.14827168e+00,\n",
       "        1.03368908e-01, -4.49775070e-01,  2.46804953e-01,  1.47221208e-01,\n",
       "        2.76343137e-01, -3.26271802e-02,  1.61981034e+00,  6.68408394e-01,\n",
       "       -1.40349865e-01,  1.54158548e-01,  4.35188770e-01, -6.13482714e-01,\n",
       "       -2.70318866e-01,  9.95783687e-01, -1.22997367e+00, -9.40900803e-01,\n",
       "       -5.21746993e-01, -1.20876062e+00, -2.91311473e-01,  6.27888739e-02,\n",
       "        3.05570126e-01,  7.96489239e-01, -2.66617954e-01,  1.08465517e+00,\n",
       "       -1.65434182e-03,  4.37563866e-01,  5.32935858e-02,  1.38803387e+00,\n",
       "       -9.95665908e-01, -3.60188007e-01,  1.12715364e+00,  3.13175380e-01,\n",
       "        7.38020360e-01, -6.66776657e-01,  3.06559741e-01,  1.95052695e+00,\n",
       "        1.88445106e-01, -1.86847821e-01, -4.88090515e-03, -1.32280803e+00,\n",
       "       -1.00031304e+00, -5.09045184e-01,  1.01216383e-01,  2.12422848e-01,\n",
       "       -1.15754396e-01,  4.72975075e-01, -2.18620598e-02,  4.83572066e-01,\n",
       "        1.04563832e+00,  3.57464314e-01, -6.35569632e-01, -6.32514238e-01,\n",
       "       -2.93967456e-01,  2.70788252e-01,  1.16865861e+00, -9.92666721e-01,\n",
       "        7.63878703e-01, -5.93864739e-01, -9.84370112e-01,  5.47261536e-01,\n",
       "       -1.04581404e+00,  1.75420499e+00,  7.46484101e-02, -8.22916925e-01,\n",
       "       -2.07862258e-01, -1.79955527e-01,  1.17653716e+00, -2.12015092e-01,\n",
       "       -5.47803104e-01,  4.09093499e-03, -4.41082358e-01, -7.05257475e-01,\n",
       "       -5.21717608e-01, -5.81086874e-01,  7.31377453e-02,  3.02367479e-01,\n",
       "        4.09489155e-01, -7.28670061e-02, -9.27810431e-01, -1.18905592e+00],\n",
       "      dtype=float32)])], dtype=object)"
      ]
     },
     "execution_count": 568,
     "metadata": {},
     "output_type": "execute_result"
    }
   ],
   "source": [
    "X[0]"
   ]
  },
  {
   "cell_type": "code",
   "execution_count": 552,
   "id": "amino-industry",
   "metadata": {},
   "outputs": [],
   "source": [
    "y = np.array(y).reshape((-1,1))\n"
   ]
  },
  {
   "cell_type": "code",
   "execution_count": 569,
   "id": "blank-haven",
   "metadata": {},
   "outputs": [],
   "source": [
    "X_train, X_test, y_train, y_test = train_test_split(X, y, test_size=0.33, random_state=42)"
   ]
  },
  {
   "cell_type": "code",
   "execution_count": 48,
   "id": "colored-boulder",
   "metadata": {},
   "outputs": [
    {
     "name": "stderr",
     "output_type": "stream",
     "text": [
      "/Users/yulialysenko/opt/anaconda3/lib/python3.7/site-packages/xgboost/sklearn.py:888: UserWarning: The use of label encoder in XGBClassifier is deprecated and will be removed in a future release. To remove this warning, do the following: 1) Pass option use_label_encoder=False when constructing XGBClassifier object; and 2) Encode your labels (y) as integers starting with 0, i.e. 0, 1, 2, ..., [num_class - 1].\n",
      "  warnings.warn(label_encoder_deprecation_msg, UserWarning)\n"
     ]
    },
    {
     "ename": "ValueError",
     "evalue": "Please reshape the input data X into 2-dimensional matrix.",
     "output_type": "error",
     "traceback": [
      "\u001b[0;31m---------------------------------------------------------------------------\u001b[0m",
      "\u001b[0;31mValueError\u001b[0m                                Traceback (most recent call last)",
      "\u001b[0;32m<ipython-input-48-134d7fb3045e>\u001b[0m in \u001b[0;36m<module>\u001b[0;34m\u001b[0m\n\u001b[1;32m      1\u001b[0m \u001b[0;32mfrom\u001b[0m \u001b[0mxgboost\u001b[0m \u001b[0;32mimport\u001b[0m \u001b[0mXGBClassifier\u001b[0m\u001b[0;34m\u001b[0m\u001b[0;34m\u001b[0m\u001b[0m\n\u001b[1;32m      2\u001b[0m \u001b[0mxgb\u001b[0m \u001b[0;34m=\u001b[0m \u001b[0mXGBClassifier\u001b[0m\u001b[0;34m(\u001b[0m\u001b[0;34m)\u001b[0m\u001b[0;34m\u001b[0m\u001b[0;34m\u001b[0m\u001b[0m\n\u001b[0;32m----> 3\u001b[0;31m \u001b[0mxgb\u001b[0m\u001b[0;34m.\u001b[0m\u001b[0mfit\u001b[0m\u001b[0;34m(\u001b[0m\u001b[0mX_train\u001b[0m\u001b[0;34m,\u001b[0m\u001b[0my_train\u001b[0m\u001b[0;34m)\u001b[0m\u001b[0;34m\u001b[0m\u001b[0;34m\u001b[0m\u001b[0m\n\u001b[0m",
      "\u001b[0;32m~/opt/anaconda3/lib/python3.7/site-packages/xgboost/core.py\u001b[0m in \u001b[0;36minner_f\u001b[0;34m(*args, **kwargs)\u001b[0m\n\u001b[1;32m    420\u001b[0m         \u001b[0;32mfor\u001b[0m \u001b[0mk\u001b[0m\u001b[0;34m,\u001b[0m \u001b[0marg\u001b[0m \u001b[0;32min\u001b[0m \u001b[0mzip\u001b[0m\u001b[0;34m(\u001b[0m\u001b[0msig\u001b[0m\u001b[0;34m.\u001b[0m\u001b[0mparameters\u001b[0m\u001b[0;34m,\u001b[0m \u001b[0margs\u001b[0m\u001b[0;34m)\u001b[0m\u001b[0;34m:\u001b[0m\u001b[0;34m\u001b[0m\u001b[0;34m\u001b[0m\u001b[0m\n\u001b[1;32m    421\u001b[0m             \u001b[0mkwargs\u001b[0m\u001b[0;34m[\u001b[0m\u001b[0mk\u001b[0m\u001b[0;34m]\u001b[0m \u001b[0;34m=\u001b[0m \u001b[0marg\u001b[0m\u001b[0;34m\u001b[0m\u001b[0;34m\u001b[0m\u001b[0m\n\u001b[0;32m--> 422\u001b[0;31m         \u001b[0;32mreturn\u001b[0m \u001b[0mf\u001b[0m\u001b[0;34m(\u001b[0m\u001b[0;34m**\u001b[0m\u001b[0mkwargs\u001b[0m\u001b[0;34m)\u001b[0m\u001b[0;34m\u001b[0m\u001b[0;34m\u001b[0m\u001b[0m\n\u001b[0m\u001b[1;32m    423\u001b[0m \u001b[0;34m\u001b[0m\u001b[0m\n\u001b[1;32m    424\u001b[0m     \u001b[0;32mreturn\u001b[0m \u001b[0minner_f\u001b[0m\u001b[0;34m\u001b[0m\u001b[0;34m\u001b[0m\u001b[0m\n",
      "\u001b[0;32m~/opt/anaconda3/lib/python3.7/site-packages/xgboost/sklearn.py\u001b[0m in \u001b[0;36mfit\u001b[0;34m(self, X, y, sample_weight, base_margin, eval_set, eval_metric, early_stopping_rounds, verbose, xgb_model, sample_weight_eval_set, feature_weights, callbacks)\u001b[0m\n\u001b[1;32m    896\u001b[0m             \u001b[0;31m# different ways of reshaping\u001b[0m\u001b[0;34m\u001b[0m\u001b[0;34m\u001b[0m\u001b[0;34m\u001b[0m\u001b[0m\n\u001b[1;32m    897\u001b[0m             raise ValueError(\n\u001b[0;32m--> 898\u001b[0;31m                 'Please reshape the input data X into 2-dimensional matrix.')\n\u001b[0m\u001b[1;32m    899\u001b[0m \u001b[0;34m\u001b[0m\u001b[0m\n\u001b[1;32m    900\u001b[0m         \u001b[0mself\u001b[0m\u001b[0;34m.\u001b[0m\u001b[0m_features_count\u001b[0m \u001b[0;34m=\u001b[0m \u001b[0mX\u001b[0m\u001b[0;34m.\u001b[0m\u001b[0mshape\u001b[0m\u001b[0;34m[\u001b[0m\u001b[0;36m1\u001b[0m\u001b[0;34m]\u001b[0m\u001b[0;34m\u001b[0m\u001b[0;34m\u001b[0m\u001b[0m\n",
      "\u001b[0;31mValueError\u001b[0m: Please reshape the input data X into 2-dimensional matrix."
     ]
    }
   ],
   "source": [
    "from xgboost import XGBClassifier\n",
    "xgb = XGBClassifier()\n",
    "xgb.fit(X_train,y_train)"
   ]
  },
  {
   "cell_type": "code",
   "execution_count": 12,
   "id": "operational-nursing",
   "metadata": {},
   "outputs": [],
   "source": [
    "cat_features = ['keyword', 'location']"
   ]
  },
  {
   "cell_type": "code",
   "execution_count": 571,
   "id": "better-booth",
   "metadata": {},
   "outputs": [],
   "source": [
    "from catboost import CatBoostClassifier\n",
    "\n",
    "clf = CatBoostClassifier(\n",
    "    #loss_function='CrossEntropy'\n",
    ")\n",
    "\n",
    "\n",
    "# clf.fit(X_train, y_train, \n",
    "\n",
    "# )"
   ]
  },
  {
   "cell_type": "code",
   "execution_count": 572,
   "id": "responsible-internship",
   "metadata": {},
   "outputs": [
    {
     "ename": "CatBoostError",
     "evalue": "Bad value for num_feature[non_default_doc_idx=0,feature_idx=0]=\"[array([ 0.3495788 , -0.4561724 ,  1.2586519 , -0.7471764 , -0.46494156,\n        0.16647986, -0.10573772, -0.8771249 , -0.65399534, -0.15204024,\n        0.07033759,  0.46884963, -0.19904914,  0.77769816, -0.8107884 ,\n        1.0268824 ,  0.7427417 , -0.9502356 ,  0.39993343, -0.63472307,\n        0.18649387,  0.17406642, -0.656852  ,  1.1624869 , -0.87541837,\n        0.33441642,  0.7458436 , -1.0898608 , -0.23791698,  1.451618  ,\n       -0.33459514, -0.9694805 , -0.44435063, -0.69399947,  1.1743393 ,\n        0.5280838 , -1.577163  , -0.28677857, -1.0974559 ,  1.1254141 ,\n       -0.4843909 , -0.5178052 , -0.71023196,  0.8638295 , -0.62591344,\n        0.30161053,  0.6015882 ,  1.0868223 ,  0.02368483,  0.28823793,\n        0.16170247,  0.40672344, -0.05991697,  0.13433132,  0.6788314 ,\n       -1.2013595 , -0.01681021,  0.39632112,  1.1827209 ,  0.7607031 ,\n       -1.0643141 , -0.34678566, -1.0176688 , -0.88600606,  0.34479213,\n       -0.09243765, -0.23779336, -0.78372335, -0.7517282 , -0.03127651,\n        0.96172005, -0.381994  ,  0.5309633 ,  0.03200884, -0.36825666,\n        0.79651666, -0.98866636, -0.08651507, -0.1662238 , -0.30166945,\n        0.69805455,  0.48351485,  0.51714724,  0.07047254, -0.6810608 ,\n        0.6178864 , -0.2219815 , -0.13115114, -0.8227797 , -0.31565538,\n       -0.77559876,  2.5952182 ,  1.4719429 ,  0.07864508, -0.73043317,\n       -1.0190277 ], dtype=float32), array([ 8.1265384e-01, -2.5697574e-01,  7.6723462e-01, -9.6390867e-01,\n        3.4402817e-01, -9.1367376e-01,  4.2977932e-01, -1.1937513e+00,\n       -1.2297136e+00, -5.2514303e-01,  1.5014324e+00,  1.2990016e+00,\n       -1.4403537e-01,  3.5328951e-01, -7.6496899e-02,  8.4531230e-01,\n        7.6926380e-01, -9.3811375e-01, -1.1700165e-01,  1.2338834e+00,\n       -2.7863061e-01,  2.0356452e-01, -4.1025519e-01,  7.3087311e-01,\n       -8.5068148e-01, -1.2187505e-01,  2.7405566e-01, -9.1714847e-01,\n        1.6128492e-01,  2.1338244e-01, -1.1479883e+00, -2.0734267e-01,\n       -6.8777663e-01, -4.1263002e-01,  7.5537115e-03,  5.7055503e-01,\n       -8.2599157e-01,  3.6273772e-01, -6.9040567e-01,  9.9230200e-02,\n       -2.5525606e-01, -6.7648673e-01, -7.8579348e-01,  4.8812720e-01,\n        5.0386268e-01,  5.6761390e-01,  1.2379283e+00, -2.7462888e-01,\n        4.7704762e-01,  5.2707076e-01,  4.1175282e-01,  7.9928392e-01,\n       -3.0258122e-01,  2.1028146e-01,  1.3112197e+00, -1.1975337e+00,\n       -7.2276318e-01,  5.5518106e-02,  1.0416493e+00,  3.3559996e-01,\n        3.1546104e-01, -2.6893210e-01, -2.6798329e-01, -7.1848756e-01,\n       -4.4766191e-01,  3.5180783e-01, -6.3344616e-01, -7.0540369e-01,\n       -1.3270454e+00,  2.2864699e-02,  9.7484589e-01, -4.8702440e-01,\n       -7.5062501e-01, -1.9449800e-01,  3.6533007e-01,  2.4150982e-02,\n       -6.8835461e-01,  4.6925306e-02,  2.3043910e-01,  2.4007040e-01,\n        3.9651880e-01, -8.1520087e-01,  1.8514693e+00, -4.3587315e-01,\n       -1.1215134e+00,  6.6903412e-02, -3.2794121e-01, -4.5428997e-01,\n        6.6773069e-01, -4.2840838e-04, -5.1848006e-01,  1.2993593e+00,\n        1.0758280e+00,  5.2930295e-01, -4.2480260e-01, -6.2655216e-01],\n      dtype=float32), array([ 5.35162508e-01,  8.59115481e-01,  2.28565007e-01, -6.92717314e-01,\n       -8.65211546e-01, -2.83924878e-01,  4.91510332e-01, -1.73159170e+00,\n       -1.24982774e+00, -1.05179429e-01, -4.89084385e-02,  1.05246150e+00,\n        8.59390348e-02,  1.24210954e+00, -6.55043900e-01,  1.49220228e+00,\n        4.20565426e-01, -5.70476055e-04,  2.42518216e-01,  1.42804489e-01,\n       -5.89680195e-01,  5.55625796e-01, -6.79479837e-01,  1.37490714e+00,\n       -3.69156748e-01,  1.78609759e-01,  5.63705981e-01, -6.43933415e-01,\n        9.93020415e-01, -5.93898892e-02, -7.37285614e-01, -1.08933806e+00,\n       -1.02473462e+00, -8.72211456e-01,  7.88919330e-01,  6.80464864e-01,\n       -1.46944213e+00, -4.22193781e-02, -2.41862789e-01,  1.67641449e+00,\n       -5.10414541e-01, -1.22266698e+00, -4.17384893e-01,  1.73529911e+00,\n       -6.88716173e-02, -6.39135838e-01,  1.06259182e-01, -2.88743258e-01,\n        8.71217012e-01, -5.13916373e-01,  7.18017936e-01,  1.29567564e+00,\n       -4.42390859e-01,  1.47425354e-01,  7.32328773e-01, -1.11923134e+00,\n       -4.92611527e-02,  1.50400847e-01,  6.72741532e-01,  6.89768732e-01,\n        2.64037967e-01, -5.38850069e-01, -1.01750359e-01, -7.74998188e-01,\n       -9.97844636e-02,  3.94178689e-01, -7.37869591e-02, -3.07055354e-01,\n        1.95954546e-01, -7.34482050e-01,  1.74879110e+00, -9.95615482e-01,\n       -5.93908131e-02, -1.18261874e+00, -8.88690591e-01,  8.74831617e-01,\n       -1.03163815e+00,  1.62429929e+00, -8.20928216e-02,  1.28568336e-01,\n        1.15514025e-02, -1.20315933e+00,  3.20284367e-01, -1.07568510e-01,\n       -1.14865637e+00,  1.98898047e-01,  3.83648127e-01,  1.16749503e-01,\n       -4.32485670e-01, -8.13356757e-01, -2.98686385e-01,  1.12004852e+00,\n        7.02210724e-01, -3.74241203e-01, -9.26602066e-01, -8.16816449e-01],\n      dtype=float32), array([ 1.49382651e-02,  4.31723088e-01,  7.69960403e-01, -2.68115103e-02,\n        8.87427568e-01,  2.06920475e-01, -9.99991417e-01, -7.66789615e-01,\n       -1.05312693e+00, -3.19141865e-01,  6.06514692e-01, -2.85265565e-01,\n       -9.87454295e-01,  3.95224690e-01, -8.25316310e-02,  1.78713393e+00,\n        2.20373124e-01, -2.68713415e-01, -3.42735827e-01, -2.22095802e-01,\n        2.80941755e-01, -1.74447477e-01, -1.06209016e+00,  1.38751388e+00,\n       -8.67103100e-01,  1.10979289e-01, -4.16788340e-01, -1.45697251e-01,\n        1.51860714e-03,  1.08610451e+00, -1.30017519e+00, -8.03796709e-01,\n       -1.25822008e+00, -1.27566025e-01,  2.29888856e-01,  1.27076650e+00,\n       -1.00793362e+00, -1.95957363e-01, -2.48168796e-01,  5.46052516e-01,\n       -2.09907308e-01, -5.79218209e-01,  5.93413472e-01,  5.32949567e-01,\n       -6.81739211e-01, -3.00010800e-01, -3.95012379e-01,  1.15184593e+00,\n        7.81414390e-01,  1.30645335e-01,  2.55038589e-02,  3.08764219e-01,\n       -3.91697139e-01,  3.76345694e-01,  6.01889968e-01, -1.33507431e-01,\n        3.55611205e-01,  9.24758792e-01,  8.96023989e-01,  5.39621562e-02,\n        1.53955415e-01, -3.54962349e-02, -5.64240813e-01, -3.42377335e-01,\n       -6.16565883e-01, -1.21621504e-01, -2.16664389e-01,  6.41657591e-01,\n        1.79628551e-01, -1.21628955e-01,  3.15357387e-01, -2.64651746e-01,\n       -2.76136577e-01, -6.98054671e-01, -7.52823353e-01,  4.29744005e-01,\n       -9.72253680e-01,  3.89982343e-01,  2.06464320e-01, -3.00842911e-01,\n       -1.02102983e+00,  9.67218131e-02,  8.64618719e-01, -3.26213539e-01,\n        1.70177028e-01,  4.13542151e-01, -1.63597912e-01, -1.16976500e-01,\n       -9.12850618e-01, -9.94716287e-01,  2.20561221e-01,  8.12432826e-01,\n        1.30982816e+00, -2.71761954e-01,  2.27499336e-01, -1.21159244e+00],\n      dtype=float32)]\": Cannot convert obj [array([ 0.3495788 , -0.4561724 ,  1.2586519 , -0.7471764 , -0.46494156,\n        0.16647986, -0.10573772, -0.8771249 , -0.65399534, -0.15204024,\n        0.07033759,  0.46884963, -0.19904914,  0.77769816, -0.8107884 ,\n        1.0268824 ,  0.7427417 , -0.9502356 ,  0.39993343, -0.63472307,\n        0.18649387,  0.17406642, -0.656852  ,  1.1624869 , -0.87541837,\n        0.33441642,  0.7458436 , -1.0898608 , -0.23791698,  1.451618  ,\n       -0.33459514, -0.9694805 , -0.44435063, -0.69399947,  1.1743393 ,\n        0.5280838 , -1.577163  , -0.28677857, -1.0974559 ,  1.1254141 ,\n       -0.4843909 , -0.5178052 , -0.71023196,  0.8638295 , -0.62591344,\n        0.30161053,  0.6015882 ,  1.0868223 ,  0.02368483,  0.28823793,\n        0.16170247,  0.40672344, -0.05991697,  0.13433132,  0.6788314 ,\n       -1.2013595 , -0.01681021,  0.39632112,  1.1827209 ,  0.7607031 ,\n       -1.0643141 , -0.34678566, -1.0176688 , -0.88600606,  0.34479213,\n       -0.09243765, -0.23779336, -0.78372335, -0.7517282 , -0.03127651,\n        0.96172005, -0.381994  ,  0.5309633 ,  0.03200884, -0.36825666,\n        0.79651666, -0.98866636, -0.08651507, -0.1662238 , -0.30166945,\n        0.69805455,  0.48351485,  0.51714724,  0.07047254, -0.6810608 ,\n        0.6178864 , -0.2219815 , -0.13115114, -0.8227797 , -0.31565538,\n       -0.77559876,  2.5952182 ,  1.4719429 ,  0.07864508, -0.73043317,\n       -1.0190277 ], dtype=float32), array([ 8.1265384e-01, -2.5697574e-01,  7.6723462e-01, -9.6390867e-01,\n        3.4402817e-01, -9.1367376e-01,  4.2977932e-01, -1.1937513e+00,\n       -1.2297136e+00, -5.2514303e-01,  1.5014324e+00,  1.2990016e+00,\n       -1.4403537e-01,  3.5328951e-01, -7.6496899e-02,  8.4531230e-01,\n        7.6926380e-01, -9.3811375e-01, -1.1700165e-01,  1.2338834e+00,\n       -2.7863061e-01,  2.0356452e-01, -4.1025519e-01,  7.3087311e-01,\n       -8.5068148e-01, -1.2187505e-01,  2.7405566e-01, -9.1714847e-01,\n        1.6128492e-01,  2.1338244e-01, -1.1479883e+00, -2.0734267e-01,\n       -6.8777663e-01, -4.1263002e-01,  7.5537115e-03,  5.7055503e-01,\n       -8.2599157e-01,  3.6273772e-01, -6.9040567e-01,  9.9230200e-02,\n       -2.5525606e-01, -6.7648673e-01, -7.8579348e-01,  4.8812720e-01,\n        5.0386268e-01,  5.6761390e-01,  1.2379283e+00, -2.7462888e-01,\n        4.7704762e-01,  5.2707076e-01,  4.1175282e-01,  7.9928392e-01,\n       -3.0258122e-01,  2.1028146e-01,  1.3112197e+00, -1.1975337e+00,\n       -7.2276318e-01,  5.5518106e-02,  1.0416493e+00,  3.3559996e-01,\n        3.1546104e-01, -2.6893210e-01, -2.6798329e-01, -7.1848756e-01,\n       -4.4766191e-01,  3.5180783e-01, -6.3344616e-01, -7.0540369e-01,\n       -1.3270454e+00,  2.2864699e-02,  9.7484589e-01, -4.8702440e-01,\n       -7.5062501e-01, -1.9449800e-01,  3.6533007e-01,  2.4150982e-02,\n       -6.8835461e-01,  4.6925306e-02,  2.3043910e-01,  2.4007040e-01,\n        3.9651880e-01, -8.1520087e-01,  1.8514693e+00, -4.3587315e-01,\n       -1.1215134e+00,  6.6903412e-02, -3.2794121e-01, -4.5428997e-01,\n        6.6773069e-01, -4.2840838e-04, -5.1848006e-01,  1.2993593e+00,\n        1.0758280e+00,  5.2930295e-01, -4.2480260e-01, -6.2655216e-01],\n      dtype=float32), array([ 5.35162508e-01,  8.59115481e-01,  2.28565007e-01, -6.92717314e-01,\n       -8.65211546e-01, -2.83924878e-01,  4.91510332e-01, -1.73159170e+00,\n       -1.24982774e+00, -1.05179429e-01, -4.89084385e-02,  1.05246150e+00,\n        8.59390348e-02,  1.24210954e+00, -6.55043900e-01,  1.49220228e+00,\n        4.20565426e-01, -5.70476055e-04,  2.42518216e-01,  1.42804489e-01,\n       -5.89680195e-01,  5.55625796e-01, -6.79479837e-01,  1.37490714e+00,\n       -3.69156748e-01,  1.78609759e-01,  5.63705981e-01, -6.43933415e-01,\n        9.93020415e-01, -5.93898892e-02, -7.37285614e-01, -1.08933806e+00,\n       -1.02473462e+00, -8.72211456e-01,  7.88919330e-01,  6.80464864e-01,\n       -1.46944213e+00, -4.22193781e-02, -2.41862789e-01,  1.67641449e+00,\n       -5.10414541e-01, -1.22266698e+00, -4.17384893e-01,  1.73529911e+00,\n       -6.88716173e-02, -6.39135838e-01,  1.06259182e-01, -2.88743258e-01,\n        8.71217012e-01, -5.13916373e-01,  7.18017936e-01,  1.29567564e+00,\n       -4.42390859e-01,  1.47425354e-01,  7.32328773e-01, -1.11923134e+00,\n       -4.92611527e-02,  1.50400847e-01,  6.72741532e-01,  6.89768732e-01,\n        2.64037967e-01, -5.38850069e-01, -1.01750359e-01, -7.74998188e-01,\n       -9.97844636e-02,  3.94178689e-01, -7.37869591e-02, -3.07055354e-01,\n        1.95954546e-01, -7.34482050e-01,  1.74879110e+00, -9.95615482e-01,\n       -5.93908131e-02, -1.18261874e+00, -8.88690591e-01,  8.74831617e-01,\n       -1.03163815e+00,  1.62429929e+00, -8.20928216e-02,  1.28568336e-01,\n        1.15514025e-02, -1.20315933e+00,  3.20284367e-01, -1.07568510e-01,\n       -1.14865637e+00,  1.98898047e-01,  3.83648127e-01,  1.16749503e-01,\n       -4.32485670e-01, -8.13356757e-01, -2.98686385e-01,  1.12004852e+00,\n        7.02210724e-01, -3.74241203e-01, -9.26602066e-01, -8.16816449e-01],\n      dtype=float32), array([ 1.49382651e-02,  4.31723088e-01,  7.69960403e-01, -2.68115103e-02,\n        8.87427568e-01,  2.06920475e-01, -9.99991417e-01, -7.66789615e-01,\n       -1.05312693e+00, -3.19141865e-01,  6.06514692e-01, -2.85265565e-01,\n       -9.87454295e-01,  3.95224690e-01, -8.25316310e-02,  1.78713393e+00,\n        2.20373124e-01, -2.68713415e-01, -3.42735827e-01, -2.22095802e-01,\n        2.80941755e-01, -1.74447477e-01, -1.06209016e+00,  1.38751388e+00,\n       -8.67103100e-01,  1.10979289e-01, -4.16788340e-01, -1.45697251e-01,\n        1.51860714e-03,  1.08610451e+00, -1.30017519e+00, -8.03796709e-01,\n       -1.25822008e+00, -1.27566025e-01,  2.29888856e-01,  1.27076650e+00,\n       -1.00793362e+00, -1.95957363e-01, -2.48168796e-01,  5.46052516e-01,\n       -2.09907308e-01, -5.79218209e-01,  5.93413472e-01,  5.32949567e-01,\n       -6.81739211e-01, -3.00010800e-01, -3.95012379e-01,  1.15184593e+00,\n        7.81414390e-01,  1.30645335e-01,  2.55038589e-02,  3.08764219e-01,\n       -3.91697139e-01,  3.76345694e-01,  6.01889968e-01, -1.33507431e-01,\n        3.55611205e-01,  9.24758792e-01,  8.96023989e-01,  5.39621562e-02,\n        1.53955415e-01, -3.54962349e-02, -5.64240813e-01, -3.42377335e-01,\n       -6.16565883e-01, -1.21621504e-01, -2.16664389e-01,  6.41657591e-01,\n        1.79628551e-01, -1.21628955e-01,  3.15357387e-01, -2.64651746e-01,\n       -2.76136577e-01, -6.98054671e-01, -7.52823353e-01,  4.29744005e-01,\n       -9.72253680e-01,  3.89982343e-01,  2.06464320e-01, -3.00842911e-01,\n       -1.02102983e+00,  9.67218131e-02,  8.64618719e-01, -3.26213539e-01,\n        1.70177028e-01,  4.13542151e-01, -1.63597912e-01, -1.16976500e-01,\n       -9.12850618e-01, -9.94716287e-01,  2.20561221e-01,  8.12432826e-01,\n        1.30982816e+00, -2.71761954e-01,  2.27499336e-01, -1.21159244e+00],\n      dtype=float32)] to float",
     "output_type": "error",
     "traceback": [
      "\u001b[0;31m---------------------------------------------------------------------------\u001b[0m",
      "\u001b[0;31mTypeError\u001b[0m                                 Traceback (most recent call last)",
      "\u001b[0;32m_catboost.pyx\u001b[0m in \u001b[0;36m_catboost.get_float_feature\u001b[0;34m()\u001b[0m\n",
      "\u001b[0;32m_catboost.pyx\u001b[0m in \u001b[0;36m_catboost._FloatOrNan\u001b[0;34m()\u001b[0m\n",
      "\u001b[0;31mTypeError\u001b[0m: Cannot convert obj [array([ 0.3495788 , -0.4561724 ,  1.2586519 , -0.7471764 , -0.46494156,\n        0.16647986, -0.10573772, -0.8771249 , -0.65399534, -0.15204024,\n        0.07033759,  0.46884963, -0.19904914,  0.77769816, -0.8107884 ,\n        1.0268824 ,  0.7427417 , -0.9502356 ,  0.39993343, -0.63472307,\n        0.18649387,  0.17406642, -0.656852  ,  1.1624869 , -0.87541837,\n        0.33441642,  0.7458436 , -1.0898608 , -0.23791698,  1.451618  ,\n       -0.33459514, -0.9694805 , -0.44435063, -0.69399947,  1.1743393 ,\n        0.5280838 , -1.577163  , -0.28677857, -1.0974559 ,  1.1254141 ,\n       -0.4843909 , -0.5178052 , -0.71023196,  0.8638295 , -0.62591344,\n        0.30161053,  0.6015882 ,  1.0868223 ,  0.02368483,  0.28823793,\n        0.16170247,  0.40672344, -0.05991697,  0.13433132,  0.6788314 ,\n       -1.2013595 , -0.01681021,  0.39632112,  1.1827209 ,  0.7607031 ,\n       -1.0643141 , -0.34678566, -1.0176688 , -0.88600606,  0.34479213,\n       -0.09243765, -0.23779336, -0.78372335, -0.7517282 , -0.03127651,\n        0.96172005, -0.381994  ,  0.5309633 ,  0.03200884, -0.36825666,\n        0.79651666, -0.98866636, -0.08651507, -0.1662238 , -0.30166945,\n        0.69805455,  0.48351485,  0.51714724,  0.07047254, -0.6810608 ,\n        0.6178864 , -0.2219815 , -0.13115114, -0.8227797 , -0.31565538,\n       -0.77559876,  2.5952182 ,  1.4719429 ,  0.07864508, -0.73043317,\n       -1.0190277 ], dtype=float32), array([ 8.1265384e-01, -2.5697574e-01,  7.6723462e-01, -9.6390867e-01,\n        3.4402817e-01, -9.1367376e-01,  4.2977932e-01, -1.1937513e+00,\n       -1.2297136e+00, -5.2514303e-01,  1.5014324e+00,  1.2990016e+00,\n       -1.4403537e-01,  3.5328951e-01, -7.6496899e-02,  8.4531230e-01,\n        7.6926380e-01, -9.3811375e-01, -1.1700165e-01,  1.2338834e+00,\n       -2.7863061e-01,  2.0356452e-01, -4.1025519e-01,  7.3087311e-01,\n       -8.5068148e-01, -1.2187505e-01,  2.7405566e-01, -9.1714847e-01,\n        1.6128492e-01,  2.1338244e-01, -1.1479883e+00, -2.0734267e-01,\n       -6.8777663e-01, -4.1263002e-01,  7.5537115e-03,  5.7055503e-01,\n       -8.2599157e-01,  3.6273772e-01, -6.9040567e-01,  9.9230200e-02,\n       -2.5525606e-01, -6.7648673e-01, -7.8579348e-01,  4.8812720e-01,\n        5.0386268e-01,  5.6761390e-01,  1.2379283e+00, -2.7462888e-01,\n        4.7704762e-01,  5.2707076e-01,  4.1175282e-01,  7.9928392e-01,\n       -3.0258122e-01,  2.1028146e-01,  1.3112197e+00, -1.1975337e+00,\n       -7.2276318e-01,  5.5518106e-02,  1.0416493e+00,  3.3559996e-01,\n        3.1546104e-01, -2.6893210e-01, -2.6798329e-01, -7.1848756e-01,\n       -4.4766191e-01,  3.5180783e-01, -6.3344616e-01, -7.0540369e-01,\n       -1.3270454e+00,  2.2864699e-02,  9.7484589e-01, -4.8702440e-01,\n       -7.5062501e-01, -1.9449800e-01,  3.6533007e-01,  2.4150982e-02,\n       -6.8835461e-01,  4.6925306e-02,  2.3043910e-01,  2.4007040e-01,\n        3.9651880e-01, -8.1520087e-01,  1.8514693e+00, -4.3587315e-01,\n       -1.1215134e+00,  6.6903412e-02, -3.2794121e-01, -4.5428997e-01,\n        6.6773069e-01, -4.2840838e-04, -5.1848006e-01,  1.2993593e+00,\n        1.0758280e+00,  5.2930295e-01, -4.2480260e-01, -6.2655216e-01],\n      dtype=float32), array([ 5.35162508e-01,  8.59115481e-01,  2.28565007e-01, -6.92717314e-01,\n       -8.65211546e-01, -2.83924878e-01,  4.91510332e-01, -1.73159170e+00,\n       -1.24982774e+00, -1.05179429e-01, -4.89084385e-02,  1.05246150e+00,\n        8.59390348e-02,  1.24210954e+00, -6.55043900e-01,  1.49220228e+00,\n        4.20565426e-01, -5.70476055e-04,  2.42518216e-01,  1.42804489e-01,\n       -5.89680195e-01,  5.55625796e-01, -6.79479837e-01,  1.37490714e+00,\n       -3.69156748e-01,  1.78609759e-01,  5.63705981e-01, -6.43933415e-01,\n        9.93020415e-01, -5.93898892e-02, -7.37285614e-01, -1.08933806e+00,\n       -1.02473462e+00, -8.72211456e-01,  7.88919330e-01,  6.80464864e-01,\n       -1.46944213e+00, -4.22193781e-02, -2.41862789e-01,  1.67641449e+00,\n       -5.10414541e-01, -1.22266698e+00, -4.17384893e-01,  1.73529911e+00,\n       -6.88716173e-02, -6.39135838e-01,  1.06259182e-01, -2.88743258e-01,\n        8.71217012e-01, -5.13916373e-01,  7.18017936e-01,  1.29567564e+00,\n       -4.42390859e-01,  1.47425354e-01,  7.32328773e-01, -1.11923134e+00,\n       -4.92611527e-02,  1.50400847e-01,  6.72741532e-01,  6.89768732e-01,\n        2.64037967e-01, -5.38850069e-01, -1.01750359e-01, -7.74998188e-01,\n       -9.97844636e-02,  3.94178689e-01, -7.37869591e-02, -3.07055354e-01,\n        1.95954546e-01, -7.34482050e-01,  1.74879110e+00, -9.95615482e-01,\n       -5.93908131e-02, -1.18261874e+00, -8.88690591e-01,  8.74831617e-01,\n       -1.03163815e+00,  1.62429929e+00, -8.20928216e-02,  1.28568336e-01,\n        1.15514025e-02, -1.20315933e+00,  3.20284367e-01, -1.07568510e-01,\n       -1.14865637e+00,  1.98898047e-01,  3.83648127e-01,  1.16749503e-01,\n       -4.32485670e-01, -8.13356757e-01, -2.98686385e-01,  1.12004852e+00,\n        7.02210724e-01, -3.74241203e-01, -9.26602066e-01, -8.16816449e-01],\n      dtype=float32), array([ 1.49382651e-02,  4.31723088e-01,  7.69960403e-01, -2.68115103e-02,\n        8.87427568e-01,  2.06920475e-01, -9.99991417e-01, -7.66789615e-01,\n       -1.05312693e+00, -3.19141865e-01,  6.06514692e-01, -2.85265565e-01,\n       -9.87454295e-01,  3.95224690e-01, -8.25316310e-02,  1.78713393e+00,\n        2.20373124e-01, -2.68713415e-01, -3.42735827e-01, -2.22095802e-01,\n        2.80941755e-01, -1.74447477e-01, -1.06209016e+00,  1.38751388e+00,\n       -8.67103100e-01,  1.10979289e-01, -4.16788340e-01, -1.45697251e-01,\n        1.51860714e-03,  1.08610451e+00, -1.30017519e+00, -8.03796709e-01,\n       -1.25822008e+00, -1.27566025e-01,  2.29888856e-01,  1.27076650e+00,\n       -1.00793362e+00, -1.95957363e-01, -2.48168796e-01,  5.46052516e-01,\n       -2.09907308e-01, -5.79218209e-01,  5.93413472e-01,  5.32949567e-01,\n       -6.81739211e-01, -3.00010800e-01, -3.95012379e-01,  1.15184593e+00,\n        7.81414390e-01,  1.30645335e-01,  2.55038589e-02,  3.08764219e-01,\n       -3.91697139e-01,  3.76345694e-01,  6.01889968e-01, -1.33507431e-01,\n        3.55611205e-01,  9.24758792e-01,  8.96023989e-01,  5.39621562e-02,\n        1.53955415e-01, -3.54962349e-02, -5.64240813e-01, -3.42377335e-01,\n       -6.16565883e-01, -1.21621504e-01, -2.16664389e-01,  6.41657591e-01,\n        1.79628551e-01, -1.21628955e-01,  3.15357387e-01, -2.64651746e-01,\n       -2.76136577e-01, -6.98054671e-01, -7.52823353e-01,  4.29744005e-01,\n       -9.72253680e-01,  3.89982343e-01,  2.06464320e-01, -3.00842911e-01,\n       -1.02102983e+00,  9.67218131e-02,  8.64618719e-01, -3.26213539e-01,\n        1.70177028e-01,  4.13542151e-01, -1.63597912e-01, -1.16976500e-01,\n       -9.12850618e-01, -9.94716287e-01,  2.20561221e-01,  8.12432826e-01,\n        1.30982816e+00, -2.71761954e-01,  2.27499336e-01, -1.21159244e+00],\n      dtype=float32)] to float",
      "\nDuring handling of the above exception, another exception occurred:\n",
      "\u001b[0;31mCatBoostError\u001b[0m                             Traceback (most recent call last)",
      "\u001b[0;32m<ipython-input-572-4f66baab8f93>\u001b[0m in \u001b[0;36m<module>\u001b[0;34m\u001b[0m\n\u001b[0;32m----> 1\u001b[0;31m \u001b[0mclf\u001b[0m\u001b[0;34m.\u001b[0m\u001b[0mfit\u001b[0m\u001b[0;34m(\u001b[0m\u001b[0mX_train\u001b[0m\u001b[0;34m,\u001b[0m \u001b[0my_train\u001b[0m\u001b[0;34m)\u001b[0m\u001b[0;34m\u001b[0m\u001b[0;34m\u001b[0m\u001b[0m\n\u001b[0m",
      "\u001b[0;32m~/opt/anaconda3/lib/python3.7/site-packages/catboost/core.py\u001b[0m in \u001b[0;36mfit\u001b[0;34m(self, X, y, cat_features, text_features, embedding_features, sample_weight, baseline, use_best_model, eval_set, verbose, logging_level, plot, column_description, verbose_eval, metric_period, silent, early_stopping_rounds, save_snapshot, snapshot_file, snapshot_interval, init_model)\u001b[0m\n\u001b[1;32m   4302\u001b[0m         self._fit(X, y, cat_features, text_features, embedding_features, None, sample_weight, None, None, None, None, baseline, use_best_model,\n\u001b[1;32m   4303\u001b[0m                   \u001b[0meval_set\u001b[0m\u001b[0;34m,\u001b[0m \u001b[0mverbose\u001b[0m\u001b[0;34m,\u001b[0m \u001b[0mlogging_level\u001b[0m\u001b[0;34m,\u001b[0m \u001b[0mplot\u001b[0m\u001b[0;34m,\u001b[0m \u001b[0mcolumn_description\u001b[0m\u001b[0;34m,\u001b[0m \u001b[0mverbose_eval\u001b[0m\u001b[0;34m,\u001b[0m \u001b[0mmetric_period\u001b[0m\u001b[0;34m,\u001b[0m\u001b[0;34m\u001b[0m\u001b[0;34m\u001b[0m\u001b[0m\n\u001b[0;32m-> 4304\u001b[0;31m                   silent, early_stopping_rounds, save_snapshot, snapshot_file, snapshot_interval, init_model)\n\u001b[0m\u001b[1;32m   4305\u001b[0m         \u001b[0;32mreturn\u001b[0m \u001b[0mself\u001b[0m\u001b[0;34m\u001b[0m\u001b[0;34m\u001b[0m\u001b[0m\n\u001b[1;32m   4306\u001b[0m \u001b[0;34m\u001b[0m\u001b[0m\n",
      "\u001b[0;32m~/opt/anaconda3/lib/python3.7/site-packages/catboost/core.py\u001b[0m in \u001b[0;36m_fit\u001b[0;34m(self, X, y, cat_features, text_features, embedding_features, pairs, sample_weight, group_id, group_weight, subgroup_id, pairs_weight, baseline, use_best_model, eval_set, verbose, logging_level, plot, column_description, verbose_eval, metric_period, silent, early_stopping_rounds, save_snapshot, snapshot_file, snapshot_interval, init_model)\u001b[0m\n\u001b[1;32m   1797\u001b[0m             \u001b[0muse_best_model\u001b[0m\u001b[0;34m,\u001b[0m \u001b[0meval_set\u001b[0m\u001b[0;34m,\u001b[0m \u001b[0mverbose\u001b[0m\u001b[0;34m,\u001b[0m \u001b[0mlogging_level\u001b[0m\u001b[0;34m,\u001b[0m \u001b[0mplot\u001b[0m\u001b[0;34m,\u001b[0m\u001b[0;34m\u001b[0m\u001b[0;34m\u001b[0m\u001b[0m\n\u001b[1;32m   1798\u001b[0m             \u001b[0mcolumn_description\u001b[0m\u001b[0;34m,\u001b[0m \u001b[0mverbose_eval\u001b[0m\u001b[0;34m,\u001b[0m \u001b[0mmetric_period\u001b[0m\u001b[0;34m,\u001b[0m \u001b[0msilent\u001b[0m\u001b[0;34m,\u001b[0m \u001b[0mearly_stopping_rounds\u001b[0m\u001b[0;34m,\u001b[0m\u001b[0;34m\u001b[0m\u001b[0;34m\u001b[0m\u001b[0m\n\u001b[0;32m-> 1799\u001b[0;31m             \u001b[0msave_snapshot\u001b[0m\u001b[0;34m,\u001b[0m \u001b[0msnapshot_file\u001b[0m\u001b[0;34m,\u001b[0m \u001b[0msnapshot_interval\u001b[0m\u001b[0;34m,\u001b[0m \u001b[0minit_model\u001b[0m\u001b[0;34m\u001b[0m\u001b[0;34m\u001b[0m\u001b[0m\n\u001b[0m\u001b[1;32m   1800\u001b[0m         )\n\u001b[1;32m   1801\u001b[0m         \u001b[0mparams\u001b[0m \u001b[0;34m=\u001b[0m \u001b[0mtrain_params\u001b[0m\u001b[0;34m[\u001b[0m\u001b[0;34m\"params\"\u001b[0m\u001b[0;34m]\u001b[0m\u001b[0;34m\u001b[0m\u001b[0;34m\u001b[0m\u001b[0m\n",
      "\u001b[0;32m~/opt/anaconda3/lib/python3.7/site-packages/catboost/core.py\u001b[0m in \u001b[0;36m_prepare_train_params\u001b[0;34m(self, X, y, cat_features, text_features, embedding_features, pairs, sample_weight, group_id, group_weight, subgroup_id, pairs_weight, baseline, use_best_model, eval_set, verbose, logging_level, plot, column_description, verbose_eval, metric_period, silent, early_stopping_rounds, save_snapshot, snapshot_file, snapshot_interval, init_model)\u001b[0m\n\u001b[1;32m   1684\u001b[0m         train_pool = _build_train_pool(X, y, cat_features, text_features, embedding_features, pairs,\n\u001b[1;32m   1685\u001b[0m                                        \u001b[0msample_weight\u001b[0m\u001b[0;34m,\u001b[0m \u001b[0mgroup_id\u001b[0m\u001b[0;34m,\u001b[0m \u001b[0mgroup_weight\u001b[0m\u001b[0;34m,\u001b[0m \u001b[0msubgroup_id\u001b[0m\u001b[0;34m,\u001b[0m \u001b[0mpairs_weight\u001b[0m\u001b[0;34m,\u001b[0m\u001b[0;34m\u001b[0m\u001b[0;34m\u001b[0m\u001b[0m\n\u001b[0;32m-> 1686\u001b[0;31m                                        baseline, column_description)\n\u001b[0m\u001b[1;32m   1687\u001b[0m         \u001b[0;32mif\u001b[0m \u001b[0mtrain_pool\u001b[0m\u001b[0;34m.\u001b[0m\u001b[0mis_empty_\u001b[0m\u001b[0;34m:\u001b[0m\u001b[0;34m\u001b[0m\u001b[0;34m\u001b[0m\u001b[0m\n\u001b[1;32m   1688\u001b[0m             \u001b[0;32mraise\u001b[0m \u001b[0mCatBoostError\u001b[0m\u001b[0;34m(\u001b[0m\u001b[0;34m\"X is empty.\"\u001b[0m\u001b[0;34m)\u001b[0m\u001b[0;34m\u001b[0m\u001b[0;34m\u001b[0m\u001b[0m\n",
      "\u001b[0;32m~/opt/anaconda3/lib/python3.7/site-packages/catboost/core.py\u001b[0m in \u001b[0;36m_build_train_pool\u001b[0;34m(X, y, cat_features, text_features, embedding_features, pairs, sample_weight, group_id, group_weight, subgroup_id, pairs_weight, baseline, column_description)\u001b[0m\n\u001b[1;32m    983\u001b[0m             \u001b[0;32mraise\u001b[0m \u001b[0mCatBoostError\u001b[0m\u001b[0;34m(\u001b[0m\u001b[0;34m\"y has not initialized in fit(): X is not catboost.Pool object, y must be not None in fit().\"\u001b[0m\u001b[0;34m)\u001b[0m\u001b[0;34m\u001b[0m\u001b[0;34m\u001b[0m\u001b[0m\n\u001b[1;32m    984\u001b[0m         train_pool = Pool(X, y, cat_features=cat_features, text_features=text_features, embedding_features=embedding_features, pairs=pairs, weight=sample_weight, group_id=group_id,\n\u001b[0;32m--> 985\u001b[0;31m                           group_weight=group_weight, subgroup_id=subgroup_id, pairs_weight=pairs_weight, baseline=baseline)\n\u001b[0m\u001b[1;32m    986\u001b[0m     \u001b[0;32mreturn\u001b[0m \u001b[0mtrain_pool\u001b[0m\u001b[0;34m\u001b[0m\u001b[0;34m\u001b[0m\u001b[0m\n\u001b[1;32m    987\u001b[0m \u001b[0;34m\u001b[0m\u001b[0m\n",
      "\u001b[0;32m~/opt/anaconda3/lib/python3.7/site-packages/catboost/core.py\u001b[0m in \u001b[0;36m__init__\u001b[0;34m(self, data, label, cat_features, text_features, embedding_features, column_description, pairs, delimiter, has_header, ignore_csv_quoting, weight, group_id, group_weight, subgroup_id, pairs_weight, baseline, feature_names, thread_count)\u001b[0m\n\u001b[1;32m    453\u001b[0m                     )\n\u001b[1;32m    454\u001b[0m \u001b[0;34m\u001b[0m\u001b[0m\n\u001b[0;32m--> 455\u001b[0;31m                 \u001b[0mself\u001b[0m\u001b[0;34m.\u001b[0m\u001b[0m_init\u001b[0m\u001b[0;34m(\u001b[0m\u001b[0mdata\u001b[0m\u001b[0;34m,\u001b[0m \u001b[0mlabel\u001b[0m\u001b[0;34m,\u001b[0m \u001b[0mcat_features\u001b[0m\u001b[0;34m,\u001b[0m \u001b[0mtext_features\u001b[0m\u001b[0;34m,\u001b[0m \u001b[0membedding_features\u001b[0m\u001b[0;34m,\u001b[0m \u001b[0mpairs\u001b[0m\u001b[0;34m,\u001b[0m \u001b[0mweight\u001b[0m\u001b[0;34m,\u001b[0m \u001b[0mgroup_id\u001b[0m\u001b[0;34m,\u001b[0m \u001b[0mgroup_weight\u001b[0m\u001b[0;34m,\u001b[0m \u001b[0msubgroup_id\u001b[0m\u001b[0;34m,\u001b[0m \u001b[0mpairs_weight\u001b[0m\u001b[0;34m,\u001b[0m \u001b[0mbaseline\u001b[0m\u001b[0;34m,\u001b[0m \u001b[0mfeature_names\u001b[0m\u001b[0;34m,\u001b[0m \u001b[0mthread_count\u001b[0m\u001b[0;34m)\u001b[0m\u001b[0;34m\u001b[0m\u001b[0;34m\u001b[0m\u001b[0m\n\u001b[0m\u001b[1;32m    456\u001b[0m         \u001b[0msuper\u001b[0m\u001b[0;34m(\u001b[0m\u001b[0mPool\u001b[0m\u001b[0;34m,\u001b[0m \u001b[0mself\u001b[0m\u001b[0;34m)\u001b[0m\u001b[0;34m.\u001b[0m\u001b[0m__init__\u001b[0m\u001b[0;34m(\u001b[0m\u001b[0;34m)\u001b[0m\u001b[0;34m\u001b[0m\u001b[0;34m\u001b[0m\u001b[0m\n\u001b[1;32m    457\u001b[0m \u001b[0;34m\u001b[0m\u001b[0m\n",
      "\u001b[0;32m~/opt/anaconda3/lib/python3.7/site-packages/catboost/core.py\u001b[0m in \u001b[0;36m_init\u001b[0;34m(self, data, label, cat_features, text_features, embedding_features, pairs, weight, group_id, group_weight, subgroup_id, pairs_weight, baseline, feature_names, thread_count)\u001b[0m\n\u001b[1;32m    964\u001b[0m             \u001b[0mbaseline\u001b[0m \u001b[0;34m=\u001b[0m \u001b[0mnp\u001b[0m\u001b[0;34m.\u001b[0m\u001b[0mreshape\u001b[0m\u001b[0;34m(\u001b[0m\u001b[0mbaseline\u001b[0m\u001b[0;34m,\u001b[0m \u001b[0;34m(\u001b[0m\u001b[0msamples_count\u001b[0m\u001b[0;34m,\u001b[0m \u001b[0;34m-\u001b[0m\u001b[0;36m1\u001b[0m\u001b[0;34m)\u001b[0m\u001b[0;34m)\u001b[0m\u001b[0;34m\u001b[0m\u001b[0;34m\u001b[0m\u001b[0m\n\u001b[1;32m    965\u001b[0m             \u001b[0mself\u001b[0m\u001b[0;34m.\u001b[0m\u001b[0m_check_baseline_shape\u001b[0m\u001b[0;34m(\u001b[0m\u001b[0mbaseline\u001b[0m\u001b[0;34m,\u001b[0m \u001b[0msamples_count\u001b[0m\u001b[0;34m)\u001b[0m\u001b[0;34m\u001b[0m\u001b[0;34m\u001b[0m\u001b[0m\n\u001b[0;32m--> 966\u001b[0;31m         \u001b[0mself\u001b[0m\u001b[0;34m.\u001b[0m\u001b[0m_init_pool\u001b[0m\u001b[0;34m(\u001b[0m\u001b[0mdata\u001b[0m\u001b[0;34m,\u001b[0m \u001b[0mlabel\u001b[0m\u001b[0;34m,\u001b[0m \u001b[0mcat_features\u001b[0m\u001b[0;34m,\u001b[0m \u001b[0mtext_features\u001b[0m\u001b[0;34m,\u001b[0m \u001b[0membedding_features\u001b[0m\u001b[0;34m,\u001b[0m \u001b[0mpairs\u001b[0m\u001b[0;34m,\u001b[0m \u001b[0mweight\u001b[0m\u001b[0;34m,\u001b[0m \u001b[0mgroup_id\u001b[0m\u001b[0;34m,\u001b[0m \u001b[0mgroup_weight\u001b[0m\u001b[0;34m,\u001b[0m \u001b[0msubgroup_id\u001b[0m\u001b[0;34m,\u001b[0m \u001b[0mpairs_weight\u001b[0m\u001b[0;34m,\u001b[0m \u001b[0mbaseline\u001b[0m\u001b[0;34m,\u001b[0m \u001b[0mfeature_names\u001b[0m\u001b[0;34m,\u001b[0m \u001b[0mthread_count\u001b[0m\u001b[0;34m)\u001b[0m\u001b[0;34m\u001b[0m\u001b[0;34m\u001b[0m\u001b[0m\n\u001b[0m\u001b[1;32m    967\u001b[0m \u001b[0;34m\u001b[0m\u001b[0m\n\u001b[1;32m    968\u001b[0m \u001b[0;34m\u001b[0m\u001b[0m\n",
      "\u001b[0;32m_catboost.pyx\u001b[0m in \u001b[0;36m_catboost._PoolBase._init_pool\u001b[0;34m()\u001b[0m\n",
      "\u001b[0;32m_catboost.pyx\u001b[0m in \u001b[0;36m_catboost._PoolBase._init_pool\u001b[0;34m()\u001b[0m\n",
      "\u001b[0;32m_catboost.pyx\u001b[0m in \u001b[0;36m_catboost._PoolBase._init_objects_order_layout_pool\u001b[0;34m()\u001b[0m\n",
      "\u001b[0;32m_catboost.pyx\u001b[0m in \u001b[0;36m_catboost._set_data\u001b[0;34m()\u001b[0m\n",
      "\u001b[0;32m_catboost.pyx\u001b[0m in \u001b[0;36m_catboost._set_data_from_generic_matrix\u001b[0;34m()\u001b[0m\n",
      "\u001b[0;32m_catboost.pyx\u001b[0m in \u001b[0;36m_catboost.get_float_feature\u001b[0;34m()\u001b[0m\n",
      "\u001b[0;31mCatBoostError\u001b[0m: Bad value for num_feature[non_default_doc_idx=0,feature_idx=0]=\"[array([ 0.3495788 , -0.4561724 ,  1.2586519 , -0.7471764 , -0.46494156,\n        0.16647986, -0.10573772, -0.8771249 , -0.65399534, -0.15204024,\n        0.07033759,  0.46884963, -0.19904914,  0.77769816, -0.8107884 ,\n        1.0268824 ,  0.7427417 , -0.9502356 ,  0.39993343, -0.63472307,\n        0.18649387,  0.17406642, -0.656852  ,  1.1624869 , -0.87541837,\n        0.33441642,  0.7458436 , -1.0898608 , -0.23791698,  1.451618  ,\n       -0.33459514, -0.9694805 , -0.44435063, -0.69399947,  1.1743393 ,\n        0.5280838 , -1.577163  , -0.28677857, -1.0974559 ,  1.1254141 ,\n       -0.4843909 , -0.5178052 , -0.71023196,  0.8638295 , -0.62591344,\n        0.30161053,  0.6015882 ,  1.0868223 ,  0.02368483,  0.28823793,\n        0.16170247,  0.40672344, -0.05991697,  0.13433132,  0.6788314 ,\n       -1.2013595 , -0.01681021,  0.39632112,  1.1827209 ,  0.7607031 ,\n       -1.0643141 , -0.34678566, -1.0176688 , -0.88600606,  0.34479213,\n       -0.09243765, -0.23779336, -0.78372335, -0.7517282 , -0.03127651,\n        0.96172005, -0.381994  ,  0.5309633 ,  0.03200884, -0.36825666,\n        0.79651666, -0.98866636, -0.08651507, -0.1662238 , -0.30166945,\n        0.69805455,  0.48351485,  0.51714724,  0.07047254, -0.6810608 ,\n        0.6178864 , -0.2219815 , -0.13115114, -0.8227797 , -0.31565538,\n       -0.77559876,  2.5952182 ,  1.4719429 ,  0.07864508, -0.73043317,\n       -1.0190277 ], dtype=float32), array([ 8.1265384e-01, -2.5697574e-01,  7.6723462e-01, -9.6390867e-01,\n        3.4402817e-01, -9.1367376e-01,  4.2977932e-01, -1.1937513e+00,\n       -1.2297136e+00, -5.2514303e-01,  1.5014324e+00,  1.2990016e+00,\n       -1.4403537e-01,  3.5328951e-01, -7.6496899e-02,  8.4531230e-01,\n        7.6926380e-01, -9.3811375e-01, -1.1700165e-01,  1.2338834e+00,\n       -2.7863061e-01,  2.0356452e-01, -4.1025519e-01,  7.3087311e-01,\n       -8.5068148e-01, -1.2187505e-01,  2.7405566e-01, -9.1714847e-01,\n        1.6128492e-01,  2.1338244e-01, -1.1479883e+00, -2.0734267e-01,\n       -6.8777663e-01, -4.1263002e-01,  7.5537115e-03,  5.7055503e-01,\n       -8.2599157e-01,  3.6273772e-01, -6.9040567e-01,  9.9230200e-02,\n       -2.5525606e-01, -6.7648673e-01, -7.8579348e-01,  4.8812720e-01,\n        5.0386268e-01,  5.6761390e-01,  1.2379283e+00, -2.7462888e-01,\n        4.7704762e-01,  5.2707076e-01,  4.1175282e-01,  7.9928392e-01,\n       -3.0258122e-01,  2.1028146e-01,  1.3112197e+00, -1.1975337e+00,\n       -7.2276318e-01,  5.5518106e-02,  1.0416493e+00,  3.3559996e-01,\n        3.1546104e-01, -2.6893210e-01, -2.6798329e-01, -7.1848756e-01,\n       -4.4766191e-01,  3.5180783e-01, -6.3344616e-01, -7.0540369e-01,\n       -1.3270454e+00,  2.2864699e-02,  9.7484589e-01, -4.8702440e-01,\n       -7.5062501e-01, -1.9449800e-01,  3.6533007e-01,  2.4150982e-02,\n       -6.8835461e-01,  4.6925306e-02,  2.3043910e-01,  2.4007040e-01,\n        3.9651880e-01, -8.1520087e-01,  1.8514693e+00, -4.3587315e-01,\n       -1.1215134e+00,  6.6903412e-02, -3.2794121e-01, -4.5428997e-01,\n        6.6773069e-01, -4.2840838e-04, -5.1848006e-01,  1.2993593e+00,\n        1.0758280e+00,  5.2930295e-01, -4.2480260e-01, -6.2655216e-01],\n      dtype=float32), array([ 5.35162508e-01,  8.59115481e-01,  2.28565007e-01, -6.92717314e-01,\n       -8.65211546e-01, -2.83924878e-01,  4.91510332e-01, -1.73159170e+00,\n       -1.24982774e+00, -1.05179429e-01, -4.89084385e-02,  1.05246150e+00,\n        8.59390348e-02,  1.24210954e+00, -6.55043900e-01,  1.49220228e+00,\n        4.20565426e-01, -5.70476055e-04,  2.42518216e-01,  1.42804489e-01,\n       -5.89680195e-01,  5.55625796e-01, -6.79479837e-01,  1.37490714e+00,\n       -3.69156748e-01,  1.78609759e-01,  5.63705981e-01, -6.43933415e-01,\n        9.93020415e-01, -5.93898892e-02, -7.37285614e-01, -1.08933806e+00,\n       -1.02473462e+00, -8.72211456e-01,  7.88919330e-01,  6.80464864e-01,\n       -1.46944213e+00, -4.22193781e-02, -2.41862789e-01,  1.67641449e+00,\n       -5.10414541e-01, -1.22266698e+00, -4.17384893e-01,  1.73529911e+00,\n       -6.88716173e-02, -6.39135838e-01,  1.06259182e-01, -2.88743258e-01,\n        8.71217012e-01, -5.13916373e-01,  7.18017936e-01,  1.29567564e+00,\n       -4.42390859e-01,  1.47425354e-01,  7.32328773e-01, -1.11923134e+00,\n       -4.92611527e-02,  1.50400847e-01,  6.72741532e-01,  6.89768732e-01,\n        2.64037967e-01, -5.38850069e-01, -1.01750359e-01, -7.74998188e-01,\n       -9.97844636e-02,  3.94178689e-01, -7.37869591e-02, -3.07055354e-01,\n        1.95954546e-01, -7.34482050e-01,  1.74879110e+00, -9.95615482e-01,\n       -5.93908131e-02, -1.18261874e+00, -8.88690591e-01,  8.74831617e-01,\n       -1.03163815e+00,  1.62429929e+00, -8.20928216e-02,  1.28568336e-01,\n        1.15514025e-02, -1.20315933e+00,  3.20284367e-01, -1.07568510e-01,\n       -1.14865637e+00,  1.98898047e-01,  3.83648127e-01,  1.16749503e-01,\n       -4.32485670e-01, -8.13356757e-01, -2.98686385e-01,  1.12004852e+00,\n        7.02210724e-01, -3.74241203e-01, -9.26602066e-01, -8.16816449e-01],\n      dtype=float32), array([ 1.49382651e-02,  4.31723088e-01,  7.69960403e-01, -2.68115103e-02,\n        8.87427568e-01,  2.06920475e-01, -9.99991417e-01, -7.66789615e-01,\n       -1.05312693e+00, -3.19141865e-01,  6.06514692e-01, -2.85265565e-01,\n       -9.87454295e-01,  3.95224690e-01, -8.25316310e-02,  1.78713393e+00,\n        2.20373124e-01, -2.68713415e-01, -3.42735827e-01, -2.22095802e-01,\n        2.80941755e-01, -1.74447477e-01, -1.06209016e+00,  1.38751388e+00,\n       -8.67103100e-01,  1.10979289e-01, -4.16788340e-01, -1.45697251e-01,\n        1.51860714e-03,  1.08610451e+00, -1.30017519e+00, -8.03796709e-01,\n       -1.25822008e+00, -1.27566025e-01,  2.29888856e-01,  1.27076650e+00,\n       -1.00793362e+00, -1.95957363e-01, -2.48168796e-01,  5.46052516e-01,\n       -2.09907308e-01, -5.79218209e-01,  5.93413472e-01,  5.32949567e-01,\n       -6.81739211e-01, -3.00010800e-01, -3.95012379e-01,  1.15184593e+00,\n        7.81414390e-01,  1.30645335e-01,  2.55038589e-02,  3.08764219e-01,\n       -3.91697139e-01,  3.76345694e-01,  6.01889968e-01, -1.33507431e-01,\n        3.55611205e-01,  9.24758792e-01,  8.96023989e-01,  5.39621562e-02,\n        1.53955415e-01, -3.54962349e-02, -5.64240813e-01, -3.42377335e-01,\n       -6.16565883e-01, -1.21621504e-01, -2.16664389e-01,  6.41657591e-01,\n        1.79628551e-01, -1.21628955e-01,  3.15357387e-01, -2.64651746e-01,\n       -2.76136577e-01, -6.98054671e-01, -7.52823353e-01,  4.29744005e-01,\n       -9.72253680e-01,  3.89982343e-01,  2.06464320e-01, -3.00842911e-01,\n       -1.02102983e+00,  9.67218131e-02,  8.64618719e-01, -3.26213539e-01,\n        1.70177028e-01,  4.13542151e-01, -1.63597912e-01, -1.16976500e-01,\n       -9.12850618e-01, -9.94716287e-01,  2.20561221e-01,  8.12432826e-01,\n        1.30982816e+00, -2.71761954e-01,  2.27499336e-01, -1.21159244e+00],\n      dtype=float32)]\": Cannot convert obj [array([ 0.3495788 , -0.4561724 ,  1.2586519 , -0.7471764 , -0.46494156,\n        0.16647986, -0.10573772, -0.8771249 , -0.65399534, -0.15204024,\n        0.07033759,  0.46884963, -0.19904914,  0.77769816, -0.8107884 ,\n        1.0268824 ,  0.7427417 , -0.9502356 ,  0.39993343, -0.63472307,\n        0.18649387,  0.17406642, -0.656852  ,  1.1624869 , -0.87541837,\n        0.33441642,  0.7458436 , -1.0898608 , -0.23791698,  1.451618  ,\n       -0.33459514, -0.9694805 , -0.44435063, -0.69399947,  1.1743393 ,\n        0.5280838 , -1.577163  , -0.28677857, -1.0974559 ,  1.1254141 ,\n       -0.4843909 , -0.5178052 , -0.71023196,  0.8638295 , -0.62591344,\n        0.30161053,  0.6015882 ,  1.0868223 ,  0.02368483,  0.28823793,\n        0.16170247,  0.40672344, -0.05991697,  0.13433132,  0.6788314 ,\n       -1.2013595 , -0.01681021,  0.39632112,  1.1827209 ,  0.7607031 ,\n       -1.0643141 , -0.34678566, -1.0176688 , -0.88600606,  0.34479213,\n       -0.09243765, -0.23779336, -0.78372335, -0.7517282 , -0.03127651,\n        0.96172005, -0.381994  ,  0.5309633 ,  0.03200884, -0.36825666,\n        0.79651666, -0.98866636, -0.08651507, -0.1662238 , -0.30166945,\n        0.69805455,  0.48351485,  0.51714724,  0.07047254, -0.6810608 ,\n        0.6178864 , -0.2219815 , -0.13115114, -0.8227797 , -0.31565538,\n       -0.77559876,  2.5952182 ,  1.4719429 ,  0.07864508, -0.73043317,\n       -1.0190277 ], dtype=float32), array([ 8.1265384e-01, -2.5697574e-01,  7.6723462e-01, -9.6390867e-01,\n        3.4402817e-01, -9.1367376e-01,  4.2977932e-01, -1.1937513e+00,\n       -1.2297136e+00, -5.2514303e-01,  1.5014324e+00,  1.2990016e+00,\n       -1.4403537e-01,  3.5328951e-01, -7.6496899e-02,  8.4531230e-01,\n        7.6926380e-01, -9.3811375e-01, -1.1700165e-01,  1.2338834e+00,\n       -2.7863061e-01,  2.0356452e-01, -4.1025519e-01,  7.3087311e-01,\n       -8.5068148e-01, -1.2187505e-01,  2.7405566e-01, -9.1714847e-01,\n        1.6128492e-01,  2.1338244e-01, -1.1479883e+00, -2.0734267e-01,\n       -6.8777663e-01, -4.1263002e-01,  7.5537115e-03,  5.7055503e-01,\n       -8.2599157e-01,  3.6273772e-01, -6.9040567e-01,  9.9230200e-02,\n       -2.5525606e-01, -6.7648673e-01, -7.8579348e-01,  4.8812720e-01,\n        5.0386268e-01,  5.6761390e-01,  1.2379283e+00, -2.7462888e-01,\n        4.7704762e-01,  5.2707076e-01,  4.1175282e-01,  7.9928392e-01,\n       -3.0258122e-01,  2.1028146e-01,  1.3112197e+00, -1.1975337e+00,\n       -7.2276318e-01,  5.5518106e-02,  1.0416493e+00,  3.3559996e-01,\n        3.1546104e-01, -2.6893210e-01, -2.6798329e-01, -7.1848756e-01,\n       -4.4766191e-01,  3.5180783e-01, -6.3344616e-01, -7.0540369e-01,\n       -1.3270454e+00,  2.2864699e-02,  9.7484589e-01, -4.8702440e-01,\n       -7.5062501e-01, -1.9449800e-01,  3.6533007e-01,  2.4150982e-02,\n       -6.8835461e-01,  4.6925306e-02,  2.3043910e-01,  2.4007040e-01,\n        3.9651880e-01, -8.1520087e-01,  1.8514693e+00, -4.3587315e-01,\n       -1.1215134e+00,  6.6903412e-02, -3.2794121e-01, -4.5428997e-01,\n        6.6773069e-01, -4.2840838e-04, -5.1848006e-01,  1.2993593e+00,\n        1.0758280e+00,  5.2930295e-01, -4.2480260e-01, -6.2655216e-01],\n      dtype=float32), array([ 5.35162508e-01,  8.59115481e-01,  2.28565007e-01, -6.92717314e-01,\n       -8.65211546e-01, -2.83924878e-01,  4.91510332e-01, -1.73159170e+00,\n       -1.24982774e+00, -1.05179429e-01, -4.89084385e-02,  1.05246150e+00,\n        8.59390348e-02,  1.24210954e+00, -6.55043900e-01,  1.49220228e+00,\n        4.20565426e-01, -5.70476055e-04,  2.42518216e-01,  1.42804489e-01,\n       -5.89680195e-01,  5.55625796e-01, -6.79479837e-01,  1.37490714e+00,\n       -3.69156748e-01,  1.78609759e-01,  5.63705981e-01, -6.43933415e-01,\n        9.93020415e-01, -5.93898892e-02, -7.37285614e-01, -1.08933806e+00,\n       -1.02473462e+00, -8.72211456e-01,  7.88919330e-01,  6.80464864e-01,\n       -1.46944213e+00, -4.22193781e-02, -2.41862789e-01,  1.67641449e+00,\n       -5.10414541e-01, -1.22266698e+00, -4.17384893e-01,  1.73529911e+00,\n       -6.88716173e-02, -6.39135838e-01,  1.06259182e-01, -2.88743258e-01,\n        8.71217012e-01, -5.13916373e-01,  7.18017936e-01,  1.29567564e+00,\n       -4.42390859e-01,  1.47425354e-01,  7.32328773e-01, -1.11923134e+00,\n       -4.92611527e-02,  1.50400847e-01,  6.72741532e-01,  6.89768732e-01,\n        2.64037967e-01, -5.38850069e-01, -1.01750359e-01, -7.74998188e-01,\n       -9.97844636e-02,  3.94178689e-01, -7.37869591e-02, -3.07055354e-01,\n        1.95954546e-01, -7.34482050e-01,  1.74879110e+00, -9.95615482e-01,\n       -5.93908131e-02, -1.18261874e+00, -8.88690591e-01,  8.74831617e-01,\n       -1.03163815e+00,  1.62429929e+00, -8.20928216e-02,  1.28568336e-01,\n        1.15514025e-02, -1.20315933e+00,  3.20284367e-01, -1.07568510e-01,\n       -1.14865637e+00,  1.98898047e-01,  3.83648127e-01,  1.16749503e-01,\n       -4.32485670e-01, -8.13356757e-01, -2.98686385e-01,  1.12004852e+00,\n        7.02210724e-01, -3.74241203e-01, -9.26602066e-01, -8.16816449e-01],\n      dtype=float32), array([ 1.49382651e-02,  4.31723088e-01,  7.69960403e-01, -2.68115103e-02,\n        8.87427568e-01,  2.06920475e-01, -9.99991417e-01, -7.66789615e-01,\n       -1.05312693e+00, -3.19141865e-01,  6.06514692e-01, -2.85265565e-01,\n       -9.87454295e-01,  3.95224690e-01, -8.25316310e-02,  1.78713393e+00,\n        2.20373124e-01, -2.68713415e-01, -3.42735827e-01, -2.22095802e-01,\n        2.80941755e-01, -1.74447477e-01, -1.06209016e+00,  1.38751388e+00,\n       -8.67103100e-01,  1.10979289e-01, -4.16788340e-01, -1.45697251e-01,\n        1.51860714e-03,  1.08610451e+00, -1.30017519e+00, -8.03796709e-01,\n       -1.25822008e+00, -1.27566025e-01,  2.29888856e-01,  1.27076650e+00,\n       -1.00793362e+00, -1.95957363e-01, -2.48168796e-01,  5.46052516e-01,\n       -2.09907308e-01, -5.79218209e-01,  5.93413472e-01,  5.32949567e-01,\n       -6.81739211e-01, -3.00010800e-01, -3.95012379e-01,  1.15184593e+00,\n        7.81414390e-01,  1.30645335e-01,  2.55038589e-02,  3.08764219e-01,\n       -3.91697139e-01,  3.76345694e-01,  6.01889968e-01, -1.33507431e-01,\n        3.55611205e-01,  9.24758792e-01,  8.96023989e-01,  5.39621562e-02,\n        1.53955415e-01, -3.54962349e-02, -5.64240813e-01, -3.42377335e-01,\n       -6.16565883e-01, -1.21621504e-01, -2.16664389e-01,  6.41657591e-01,\n        1.79628551e-01, -1.21628955e-01,  3.15357387e-01, -2.64651746e-01,\n       -2.76136577e-01, -6.98054671e-01, -7.52823353e-01,  4.29744005e-01,\n       -9.72253680e-01,  3.89982343e-01,  2.06464320e-01, -3.00842911e-01,\n       -1.02102983e+00,  9.67218131e-02,  8.64618719e-01, -3.26213539e-01,\n        1.70177028e-01,  4.13542151e-01, -1.63597912e-01, -1.16976500e-01,\n       -9.12850618e-01, -9.94716287e-01,  2.20561221e-01,  8.12432826e-01,\n        1.30982816e+00, -2.71761954e-01,  2.27499336e-01, -1.21159244e+00],\n      dtype=float32)] to float"
     ]
    }
   ],
   "source": [
    "clf.fit(X_train, y_train)"
   ]
  },
  {
   "cell_type": "code",
   "execution_count": null,
   "id": "regulation-winning",
   "metadata": {},
   "outputs": [],
   "source": []
  },
  {
   "cell_type": "code",
   "execution_count": null,
   "id": "through-integer",
   "metadata": {},
   "outputs": [],
   "source": []
  }
 ],
 "metadata": {
  "kernelspec": {
   "display_name": "Python 3",
   "language": "python",
   "name": "python3"
  },
  "language_info": {
   "codemirror_mode": {
    "name": "ipython",
    "version": 3
   },
   "file_extension": ".py",
   "mimetype": "text/x-python",
   "name": "python",
   "nbconvert_exporter": "python",
   "pygments_lexer": "ipython3",
   "version": "3.7.6"
  }
 },
 "nbformat": 4,
 "nbformat_minor": 5
}
